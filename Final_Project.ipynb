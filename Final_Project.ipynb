{
  "cells": [
    {
      "cell_type": "markdown",
      "metadata": {
        "id": "ywj8kHG6Dxdn"
      },
      "source": [
        "# Problem Statement"
      ]
    },
    {
      "cell_type": "markdown",
      "source": [
        "The goal of this project is to discover and extract meaningful topics from large collections of texual data, such as Amazon reviews, using topic modeling. By analyzing the text of the reviews, topic modeling algorithms can identify the underlying patterns and group together similar reviews that revolve around common topics. This enables us to gain insights into the main subjects of discussion within the reviews, allowing us to understand customer preferences, identify product strengths and weaknesses, and perform market research.\n",
        "\n",
        "Reference resource: https://colab.research.google.com/drive/1FieRA9fLdkQEGDIMYl0I3MCjSUKVF8C-?usp=sharing#scrollTo=_ak_CLR164mx"
      ],
      "metadata": {
        "id": "83vzV95FOQdY"
      }
    },
    {
      "cell_type": "markdown",
      "metadata": {
        "id": "P7WKz3_eEj2X"
      },
      "source": [
        "# Mount Google Drive\n"
      ]
    },
    {
      "cell_type": "code",
      "execution_count": null,
      "metadata": {
        "colab": {
          "base_uri": "https://localhost:8080/"
        },
        "id": "JxsszQQnDdYJ",
        "outputId": "527ccad1-7b5e-41b9-e884-24868c602ac2"
      },
      "outputs": [
        {
          "output_type": "stream",
          "name": "stdout",
          "text": [
            "Mounted at /content/drive\n"
          ]
        }
      ],
      "source": [
        "from google.colab import drive\n",
        "drive.mount('/content/drive')"
      ]
    },
    {
      "cell_type": "markdown",
      "metadata": {
        "id": "CPdGtlIRHBqQ"
      },
      "source": [
        "# Imports"
      ]
    },
    {
      "cell_type": "code",
      "execution_count": null,
      "metadata": {
        "id": "MitpAYALDhH1"
      },
      "outputs": [],
      "source": [
        "import gzip\n",
        "import json\n",
        "import itertools\n",
        "import seaborn as sns\n",
        "\n",
        "# topic modeling\n",
        "import os\n",
        "import pandas as pd\n",
        "try:\n",
        "  from bertopic import BERTopic\n",
        "except:\n",
        "  !pip install bertopic[all]\n",
        "  os.kill(os.getpid(), 9)"
      ]
    },
    {
      "cell_type": "code",
      "execution_count": null,
      "metadata": {
        "id": "6Xb93mMQ6pMH"
      },
      "outputs": [],
      "source": [
        "import nltk\n",
        "nltk.download('stopwords')\n",
        "from nltk.corpus import stopwords\n",
        "nltk.download('wordnet')\n",
        "from nltk.stem import WordNetLemmatizer"
      ]
    },
    {
      "cell_type": "code",
      "source": [
        "import re\n",
        "from nltk.tokenize import word_tokenize\n",
        "from nltk.corpus import stopwords"
      ],
      "metadata": {
        "id": "-UGfG0LVx2mJ"
      },
      "execution_count": null,
      "outputs": []
    },
    {
      "cell_type": "markdown",
      "metadata": {
        "id": "_zebYVEfJPWd"
      },
      "source": [
        "# Part 1: Extracting the Data"
      ]
    },
    {
      "cell_type": "markdown",
      "metadata": {
        "id": "IAOd1jBIDswX"
      },
      "source": [
        "### Dataset #1"
      ]
    },
    {
      "cell_type": "code",
      "execution_count": null,
      "metadata": {
        "id": "Obg8N4sIDhLi"
      },
      "outputs": [],
      "source": [
        "# identify the ASINs associated with products from Nike\n",
        "# extract of sales rank\n",
        "asins = []\n",
        "sales_ranks = {}\n",
        "with gzip.open(\"drive/MyDrive/meta_Clothing_Shoes_and_Jewelry.json.gz\") as products:\n",
        "  for product in products:\n",
        "    data = json.loads(product)\n",
        "    categories = itertools.chain(*data.get(\"categories\", []))\n",
        "    categories = [c.lower() for c in categories]\n",
        "    if \"nike\" in categories:\n",
        "      asins.append(data[\"asin\"])\n",
        "      if data.get(\"salesRank\"):\n",
        "        sales_ranks[data[\"asin\"]] = list(data[\"salesRank\"].items())[0][1]\n"
      ]
    },
    {
      "cell_type": "code",
      "execution_count": null,
      "metadata": {
        "colab": {
          "base_uri": "https://localhost:8080/"
        },
        "id": "V4kEE8FvDhO4",
        "outputId": "77c6bbd7-79cd-4160-c192-5cd74354530d"
      },
      "outputs": [
        {
          "output_type": "execute_result",
          "data": {
            "text/plain": [
              "8327"
            ]
          },
          "metadata": {},
          "execution_count": 5
        }
      ],
      "source": [
        "# the length of asins will tell us how many we have:\n",
        "len(asins)"
      ]
    },
    {
      "cell_type": "code",
      "execution_count": null,
      "metadata": {
        "colab": {
          "base_uri": "https://localhost:8080/"
        },
        "id": "h3kMXoI5DhRw",
        "outputId": "6cc662dc-02e3-48df-916c-6d58bd54b983"
      },
      "outputs": [
        {
          "output_type": "execute_result",
          "data": {
            "text/plain": [
              "['B0000V9K32', 'B0000V9K3W', 'B0000V9K46']"
            ]
          },
          "metadata": {},
          "execution_count": 7
        }
      ],
      "source": [
        "# inspect a few:\n",
        "asins[:3]"
      ]
    },
    {
      "cell_type": "code",
      "execution_count": null,
      "metadata": {
        "colab": {
          "base_uri": "https://localhost:8080/"
        },
        "id": "33_yqT33YfRp",
        "outputId": "434a2463-d55f-4736-8ca1-b0dd7a9e4be2"
      },
      "outputs": [
        {
          "output_type": "execute_result",
          "data": {
            "text/plain": [
              "7962"
            ]
          },
          "metadata": {},
          "execution_count": 8
        }
      ],
      "source": [
        "# the length of sales_rank will tell us how many we have:\n",
        "len(sales_ranks)"
      ]
    },
    {
      "cell_type": "code",
      "execution_count": null,
      "metadata": {
        "colab": {
          "base_uri": "https://localhost:8080/"
        },
        "id": "paDAN7phYmKR",
        "outputId": "8d8646a2-caed-4602-e0b2-22f465197aa4"
      },
      "outputs": [
        {
          "output_type": "execute_result",
          "data": {
            "text/plain": [
              "{'B0000V9K32': 67039, 'B0000V9K3W': 102054, 'B0000V9K46': 116131}"
            ]
          },
          "metadata": {},
          "execution_count": 9
        }
      ],
      "source": [
        "# inspect the first few items of sale_rank\n",
        "dict(list(sales_ranks.items())[:3])"
      ]
    },
    {
      "cell_type": "code",
      "execution_count": null,
      "metadata": {
        "id": "-31gt6-Ng_gb"
      },
      "outputs": [],
      "source": [
        "import operator\n",
        "# sort the sales_ranks in descending order based on the values\n",
        "ordered_asin_ranks = sorted(sales_ranks.items(), key=operator.itemgetter(1))"
      ]
    },
    {
      "cell_type": "code",
      "execution_count": null,
      "metadata": {
        "colab": {
          "base_uri": "https://localhost:8080/"
        },
        "id": "6p7gOLx4hWiP",
        "outputId": "76091a47-93e4-4e70-a3ea-bf5f84a20fbe"
      },
      "outputs": [
        {
          "output_type": "execute_result",
          "data": {
            "text/plain": [
              "[('B00EQBFL62', 179),\n",
              " ('B00EQBEWMQ', 179),\n",
              " ('B00EQBEUXC', 179),\n",
              " ('B00EQBGOTA', 179),\n",
              " ('B006RBH2PW', 188),\n",
              " ('B00AMTY3UC', 209),\n",
              " ('B00D8M3Q3U', 272),\n",
              " ('B00527DJAY', 318),\n",
              " ('B00527DIXW', 318),\n",
              " ('B00BUDLR1C', 337)]"
            ]
          },
          "metadata": {},
          "execution_count": 11
        }
      ],
      "source": [
        "# top 10 asin_ranks\n",
        "ordered_asin_ranks[:10]"
      ]
    },
    {
      "cell_type": "code",
      "execution_count": null,
      "metadata": {
        "colab": {
          "base_uri": "https://localhost:8080/",
          "height": 463
        },
        "id": "EumVQvCQi7Uf",
        "outputId": "516615ea-81e3-4bdb-daf8-d69a9a41992d"
      },
      "outputs": [
        {
          "output_type": "display_data",
          "data": {
            "text/plain": [
              "<Figure size 640x480 with 1 Axes>"
            ],
            "image/png": "[encoded data removed]"
          },
          "metadata": {}
        }
      ],
      "source": [
        "plot = sns.distplot(list(sales_ranks.values()))\n",
        "#plot = sns.histplot(list(sales_ranks.values()))"
      ]
    },
    {
      "cell_type": "markdown",
      "metadata": {
        "id": "D3RSqUlzeTse"
      },
      "source": [
        "We can see here that there is quite a long tail of low-ranking products, i.e. large values going to the right on the x-axis. Some of these rankings are low enough that Seaborn has plotted at a scale of 1 x 10^6. It looks like our lowest ranking product ranks as about the 3.5 millionth best selling product in it's category!\n",
        "\n",
        "We can verify this simply by looking at the last item of the ordered list we produced above:"
      ]
    },
    {
      "cell_type": "code",
      "execution_count": null,
      "metadata": {
        "colab": {
          "base_uri": "https://localhost:8080/"
        },
        "id": "Zg3vjAwreDEs",
        "outputId": "8d691a3d-2f34-4c76-93a3-b2e818289773"
      },
      "outputs": [
        {
          "output_type": "execute_result",
          "data": {
            "text/plain": [
              "('B000AYI6FC', 3341111)"
            ]
          },
          "metadata": {},
          "execution_count": 13
        }
      ],
      "source": [
        "ordered_asin_ranks[-1]"
      ]
    },
    {
      "cell_type": "markdown",
      "metadata": {
        "id": "ACD3ypc8ecsV"
      },
      "source": [
        "At a glance, we can see that the bulk of our ranked products, however, fall into the range of 0 to 3000, where 3000 is indicated as 0.5 x 1x10^6.\n",
        "\n",
        "For purposes of analysis, then, let's create a filtered subset of the list that contains only ASINs of products with a sales rank of 3000 or better."
      ]
    },
    {
      "cell_type": "code",
      "execution_count": null,
      "metadata": {
        "id": "YMfvA3FhePFn"
      },
      "outputs": [],
      "source": [
        "best_asins = [asin for asin, rank in sales_ranks.items() if rank <= 3000]"
      ]
    },
    {
      "cell_type": "code",
      "execution_count": null,
      "metadata": {
        "colab": {
          "base_uri": "https://localhost:8080/"
        },
        "id": "XsKwwJ_qePJL",
        "outputId": "fcbc8adb-203e-4aed-b644-93139eb0fb47"
      },
      "outputs": [
        {
          "output_type": "execute_result",
          "data": {
            "text/plain": [
              "['B0001LGWEQ', 'B000G42Z2Q', 'B000RDFRIK']"
            ]
          },
          "metadata": {},
          "execution_count": 15
        }
      ],
      "source": [
        "# inspect a few items\n",
        "best_asins[:3]"
      ]
    },
    {
      "cell_type": "code",
      "execution_count": null,
      "metadata": {
        "colab": {
          "base_uri": "https://localhost:8080/"
        },
        "id": "45ByVG-Zen9v",
        "outputId": "186773e5-214f-4487-a682-47515e0bb1dc"
      },
      "outputs": [
        {
          "output_type": "execute_result",
          "data": {
            "text/plain": [
              "274"
            ]
          },
          "metadata": {},
          "execution_count": 16
        }
      ],
      "source": [
        "# check the length\n",
        "len(best_asins)"
      ]
    },
    {
      "cell_type": "markdown",
      "metadata": {
        "id": "SbSCjP7YDxtw"
      },
      "source": [
        "### Dataset #2"
      ]
    },
    {
      "cell_type": "code",
      "execution_count": null,
      "metadata": {
        "id": "8WS9F-OEDhUs"
      },
      "outputs": [],
      "source": [
        "# build a corpus of review texts:\n",
        "review_corpus = []\n",
        "top_reviews = {}\n",
        "with gzip.open(\"drive/MyDrive/reviews_Clothing_Shoes_and_Jewelry.json.gz\") as reviews:\n",
        "  for i, review in enumerate(reviews):\n",
        "    review = json.loads(review)\n",
        "    _id = \"%s.%s\" % (review[\"asin\"], review[\"reviewerID\"])\n",
        "    if review[\"asin\"] in asins:\n",
        "      review_corpus.append(review[\"reviewText\"])\n",
        "    if review[\"asin\"] in best_asins:\n",
        "      top_reviews[_id] = review\n"
      ]
    },
    {
      "cell_type": "code",
      "execution_count": null,
      "metadata": {
        "colab": {
          "base_uri": "https://localhost:8080/"
        },
        "id": "lG_w5-vYWh4r",
        "outputId": "a9818692-b1d7-4be8-ff7f-c8a9863c37cc"
      },
      "outputs": [
        {
          "data": {
            "text/plain": [
              "21570"
            ]
          },
          "execution_count": 18,
          "metadata": {},
          "output_type": "execute_result"
        }
      ],
      "source": [
        "len(review_corpus)"
      ]
    },
    {
      "cell_type": "code",
      "execution_count": null,
      "metadata": {
        "colab": {
          "base_uri": "https://localhost:8080/"
        },
        "id": "0kCz2TLLDhXg",
        "outputId": "407e18cb-46dd-4ad7-ff2a-16de929616fa"
      },
      "outputs": [
        {
          "metadata": {
            "tags": null
          },
          "name": "stdout",
          "output_type": "stream",
          "text": [
            "0 the colour i received is not blue as shown but yellow.Couldnt change it because it was a birthday pr\n",
            "1 Very cute and is really practical. Fits better on smaller wrists which is my case. I wear them every\n",
            "2 The watch was exactly what i ordered and I got it very fast. Unfortunately it was a bit too big for \n",
            "3 This product came promptly and as described, pleasure doing business with them!-d\n",
            "4 Why isn't Nike making these anymore?  I love this watch, and I get a lot of compliments, questions f\n"
          ]
        }
      ],
      "source": [
        "#inspect a few of the reviews:\n",
        "for i, review in enumerate(review_corpus[:5]):\n",
        "  print(i, review[:100])"
      ]
    },
    {
      "cell_type": "code",
      "execution_count": null,
      "metadata": {
        "colab": {
          "base_uri": "https://localhost:8080/"
        },
        "id": "OcMWOMY57wtU",
        "outputId": "e9ef006b-4daa-4869-d5f0-d6f811ae8f51"
      },
      "outputs": [
        {
          "output_type": "execute_result",
          "data": {
            "text/plain": [
              "3549"
            ]
          },
          "metadata": {},
          "execution_count": 20
        }
      ],
      "source": [
        "len(top_reviews)"
      ]
    },
    {
      "cell_type": "code",
      "execution_count": null,
      "metadata": {
        "id": "VmCPEqtT7xG3"
      },
      "outputs": [],
      "source": [
        "# load the texts of the top reviews into a list\n",
        "texts = []\n",
        "for k, v in top_reviews.items():\n",
        "    texts.append(v[\"reviewText\"])"
      ]
    },
    {
      "cell_type": "code",
      "execution_count": null,
      "metadata": {
        "colab": {
          "base_uri": "https://localhost:8080/"
        },
        "id": "hYkNk5KY_-Vs",
        "outputId": "3e95b454-9a6f-412b-af53-132649fe2b15"
      },
      "outputs": [
        {
          "output_type": "execute_result",
          "data": {
            "text/plain": [
              "3549"
            ]
          },
          "metadata": {},
          "execution_count": 22
        }
      ],
      "source": [
        "len(texts)"
      ]
    },
    {
      "cell_type": "code",
      "execution_count": null,
      "metadata": {
        "colab": {
          "base_uri": "https://localhost:8080/"
        },
        "id": "fMvFNfaK71fP",
        "outputId": "da3c45c4-1968-4cd8-fdc7-64a7993e044c"
      },
      "outputs": [
        {
          "output_type": "execute_result",
          "data": {
            "text/plain": [
              "[\"I've had this watch for over a year now and wear it daily. I love it and the features it provides.\",\n",
              " \"Although I'm rarely a fan of Nike, I bought this pair to try it out and i absolutely liked it. Very suitable for causal wear, but I'm not sure how good of a running pair this one is. I got the dark grey color with florescent green stripes.Overall very cool pair\",\n",
              " 'i love this shoes  great price good quality',\n",
              " 'I ordered this just before my last Europe trip. I ordered it last minute and arrived at time and fits well. However one of the lace loops ripped on the third day of wearing (even before walking 10 miles........oh no after 5000 miles...I was wearing it in the plane). Fortunately my friend there had an extra pair of sneakers which fitted my foot well. Immediately after returning from my trip I sent them back and got the refund in two days. This one star is for their order handling and easy return procedure.',\n",
              " \"Because the look and feel of the sneakers are awesome. It's a perfect fit and it has support for my feet\"]"
            ]
          },
          "metadata": {},
          "execution_count": 23
        }
      ],
      "source": [
        "# inspect a few of the top reviews:\n",
        "texts[:5]"
      ]
    },
    {
      "cell_type": "markdown",
      "source": [
        "# Part 2: Implement a pre-processor"
      ],
      "metadata": {
        "id": "3gqa-21Vhnyg"
      }
    },
    {
      "cell_type": "markdown",
      "source": [
        "Here I will implement a function called `clean_text` which will take a list of texts and return a clean_text. Preprocessing should include the following actions:\n",
        " - lemmatize the texts\n",
        " - convert tokens to lowercase\n",
        " - remove special characters\n",
        " - clean tokens to remove numbers and any tokens shorter than 3 characters"
      ],
      "metadata": {
        "id": "0th0HH7N0icv"
      }
    },
    {
      "cell_type": "code",
      "source": [
        "def clean_text(text):\n",
        "\n",
        "  # tokenize the text\n",
        "  tokens = word_tokenize(text)\n",
        "  # initialize WordNetLemmatizer\n",
        "  lemmatizer = WordNetLemmatizer()\n",
        "  # lemmatize the tokens\n",
        "  lemmatized_tokens = [lemmatizer.lemmatize(token) for token in tokens]\n",
        "  # convert tokens to lowercase\n",
        "  lowercase_tokens = [token.lower() for token in lemmatized_tokens]\n",
        "  # remove special characters and tokens shorter than 3 characters\n",
        "  cleaned_tokens = [re.sub(r'[^a-zA-Z0-9]', '', token) for token in lowercase_tokens if len(token) > 2 and not token.isdigit()]\n",
        "\n",
        "  return cleaned_tokens"
      ],
      "metadata": {
        "id": "i_XIxt_kgtgC"
      },
      "execution_count": null,
      "outputs": []
    },
    {
      "cell_type": "code",
      "source": [
        "nltk.download('punkt')\n",
        "nltk.download('wordnet')\n",
        "nltk.download('omw-1.4')"
      ],
      "metadata": {
        "colab": {
          "base_uri": "https://localhost:8080/"
        },
        "id": "edH06Xb8V8zm",
        "outputId": "d22e7a20-5c11-4c19-ffdd-b4e61ad0b6ad"
      },
      "execution_count": null,
      "outputs": [
        {
          "output_type": "stream",
          "name": "stderr",
          "text": [
            "[nltk_data] Downloading package punkt to /root/nltk_data...\n",
            "[nltk_data]   Unzipping tokenizers/punkt.zip.\n",
            "[nltk_data] Downloading package wordnet to /root/nltk_data...\n",
            "[nltk_data]   Package wordnet is already up-to-date!\n",
            "[nltk_data] Downloading package omw-1.4 to /root/nltk_data...\n"
          ]
        },
        {
          "output_type": "execute_result",
          "data": {
            "text/plain": [
              "True"
            ]
          },
          "metadata": {},
          "execution_count": 27
        }
      ]
    },
    {
      "cell_type": "code",
      "source": [
        "preprocessed_texts = []\n",
        "for text in texts:\n",
        "  cleaned_text = clean_text(text)\n",
        "  preprocessed_texts.append(\" \".join(cleaned_text))"
      ],
      "metadata": {
        "id": "46PcsF9SgtkA"
      },
      "execution_count": null,
      "outputs": []
    },
    {
      "cell_type": "code",
      "source": [
        "# view a few text after cleaning\n",
        "preprocessed_texts[:5]"
      ],
      "metadata": {
        "colab": {
          "base_uri": "https://localhost:8080/"
        },
        "id": "tQL2dVFOgtni",
        "outputId": "7b75669e-5d74-4884-f264-2f8a9a95340c"
      },
      "execution_count": null,
      "outputs": [
        {
          "output_type": "execute_result",
          "data": {
            "text/plain": [
              "['ve had this watch for over year now and wear daily love and the feature provides',\n",
              " 'although rarely fan nike bought this pair try out and absolutely liked very suitable for causal wear but not sure how good running pair this one got the dark grey color with florescent green stripesoverall very cool pair',\n",
              " 'love this shoe great price good quality',\n",
              " 'ordered this just before last europe trip ordered last minute and arrived time and fit well however one the lace loop ripped the third day wearing even before walking mile  after mile  wearing the plane fortunately friend there had extra pair sneaker which fitted foot well immediately after returning from trip sent them back and got the refund two day this one star for their order handling and easy return procedure',\n",
              " 'because the look and feel the sneaker are awesome perfect fit and support for foot']"
            ]
          },
          "metadata": {},
          "execution_count": 29
        }
      ]
    },
    {
      "cell_type": "markdown",
      "metadata": {
        "id": "aE6SHUFUDeu_"
      },
      "source": [
        "# Part 3: Performing Topic Modeling"
      ]
    },
    {
      "cell_type": "markdown",
      "metadata": {
        "id": "L6Kirw1m8NvS"
      },
      "source": [
        "We will go through the main components of BERTopic and the steps necessary to create a strong topic model."
      ]
    },
    {
      "cell_type": "markdown",
      "metadata": {
        "id": "PcXub1yC8Qru"
      },
      "source": [
        "## 3.1 Training"
      ]
    },
    {
      "cell_type": "markdown",
      "metadata": {
        "id": "mUSlHVM58S_I"
      },
      "source": [
        "We start by instantiating BERTopic. We set language to `english` since our documents are in the English language.\n",
        "We will also calculate the topic probabilities."
      ]
    },
    {
      "cell_type": "code",
      "execution_count": null,
      "metadata": {
        "colab": {
          "base_uri": "https://localhost:8080/",
          "height": 549,
          "referenced_widgets": [
            "b4ed37368e8e4c02b244277188329731",
            "9128f2c5033847708a40aae98c6a3fae",
            "327a148a5953401b9dc066f13afb2b7b",
            "b0ad2aa0d7174ceb884b2f9491393a19",
            "3ff27d24d1b74be28ce577b8296d3533",
            "796a4950abfd4b7c8998b4579250e31d",
            "4fc86fb10ba649b68dfae7a71dcf1d6b",
            "fa85c36455c64ee6874c6eb8e3b1e4a6",
            "ac8fb545d142410090ab4032ab694e45",
            "90f77592e67c4a80bf8f823c1b547e8f",
            "2c2af3d8a19c4466bba88572478d436d",
            "18ea7970c54543f2b44c0d21c55bd80b",
            "a8bf6940d00e432a94e27b3b6f08ae7c",
            "88d3274b6bd24390ba280569a26c75a1",
            "d6b82b400cc34f938f576b416e0a88fe",
            "4b700e22a2cc4db7bddcdf059eecb2b4",
            "efce0d08b2594f10b23d46029a4e3742",
            "72db3db6ecd44620b28f63a25269d0e2",
            "3bcbf0c71ed34ccfb5614e510176c830",
            "3a2c4edf5f884754b844f67535eb55ea",
            "9f88609bb1334d708c50981433864135",
            "3f1b34d3e7ba46d38ca28cb180a0dcc3",
            "0a566a0435e24106b7a8316728707322",
            "539d166f7fd84146bfed211225f44495",
            "74911a18231d41cb997258ded99cfd5f",
            "33ffebcdcc3d4f1f98da4d0b7b37ef5a",
            "77c7bd8a9af2471f8f47d91e982698f4",
            "cd4b09ec47e84516ad77340b3f0c1666",
            "942970af2a764754accb2b1587b9b352",
            "2cef4bf272c142c6b00ddc2c7b3de89a",
            "c271a98ffa9a4ba4969f02d384095375",
            "f4a6a897b9c44f3aa2620fd98d2b5527",
            "10285f9bd67c4099848c2d418c9c469a",
            "9c8e5fe5d1dd46c9bf3402d0fa605fa5",
            "060b9fe6678a48299b382e2e78344c06",
            "60a4fde4878b4ab681913dd31c8f3da2",
            "b9b547b5b2eb4218a6a091aa2bb73651",
            "971ac5e7397945fd9bfb41c42133642c",
            "ae9c88e8206748ac9abcbd16ecf8832e",
            "a94cd3554bf24a5e81f941a38591049e",
            "61395781f66c49aaab8e5dfced4cc8dd",
            "e3f13822427e4529892f437b873fe489",
            "019995bb77954d86bc75270464927723",
            "38c5c884dbf54632806648a6fe0c3654",
            "494b456280a9455c9d73698444ce6900",
            "e6dd605cf612408a897a92c8e341e6dc",
            "ca02c69649ca4423897092dbe7927bb2",
            "26b009d92cb048ffbeefb5a37afcde32",
            "3e966ec94d9642a78a12d256e6f8a583",
            "799bbdb9efc4488f9323f23da8c37af3",
            "602e0406cc9c49c2aeba1e2c46c5ef06",
            "c04b85058a684bfdbb511eb83ad8a501",
            "6d3d2a63598d4eacb43dd34e5a98e982",
            "569420f3c5d24920aad5000b6977a56c",
            "236c8db9504742cb944e1a5015a569e0",
            "4e3d3d4c8b4f46ae817b012b862d1d0f",
            "0d19f44f8c9c4ba4a66e1fb2f577f007",
            "3f2c14392cb94316b27d1dc8c11e2bef",
            "06d42f4fa5c5464f873731d93577c969",
            "ce4474ff78f34f07aca47a45063f6452",
            "d4e14898409644d2b5074e14f2302d8d",
            "e8a6ed731d1c469385354b13199b74e4",
            "f83ae85b77484b029916fbc9d589c075",
            "6a9f43a77a6b4eb594a93f454d2d47cc",
            "93c2f281d86e43b5956ccf7360dc2206",
            "9d7cf2ddc5d74b8593d540bfe7cd3f59",
            "51ee0c6dec9c4cb0943356c0ffcf935e",
            "46713162d9d04da494e8a206450f45b9",
            "3d1f457c42264af7900f3214ffaf3730",
            "2d69cd3cc7f4471cab211f264a2a1554",
            "59dc1320aa54466fa9fffbe290841cb0",
            "a6cfca41307c4dc1aeb27ee33bf01515",
            "3aeda452ebbe4929babfe292f04002e9",
            "a323d45aa7b141ae898deec30fcb5375",
            "832fcdb51dbe434f9e67feac7853efed",
            "5a71b506f57b424e88c446ac6b4e6a5c",
            "7c129b446ada4f519ac39d0c8a048cd0",
            "44990feb588641208d4aadba644f3c9c",
            "4e6ea739bbe3496ca2719e1717b2dc92",
            "42a005e419e549ffbd5ffa315b5a349d",
            "c335010d68374c96b6f1d6055a8203c4",
            "0e193afef4cb49e383710c6d2c2d775e",
            "11d4e567171e46d892ac50215aead34a",
            "2a5207459df2497cb28bfc8629276855",
            "92888a910b8848af8d47a871ec59bce6",
            "f14ea0d9ebc94e499406af8abc63afe9",
            "5830d023edf7408796d28ac0cec3d7f8",
            "05184c35f8e241ec93a6b9164f4c2902",
            "85b45b8691874fee9cfa00a11401bcb2",
            "438f7348b711412bb1249b95d0bba454",
            "6b98574938f0432facb5cd2ee2b118a9",
            "b133949ff4ad40709b8ee4d0703aad91",
            "010971277cea4448890f95989f9a1ef2",
            "7f6dd8a0bbb2420f921a4927e25f888d",
            "bedff1017bda459fa016a6a988a0a510",
            "e20aa61a88de4862906ebc1d032caac5",
            "74ead812a45b42549487334558b57701",
            "32ee41f04ade4a4094eea918d865c8d3",
            "6f06f433b18a4836a21378406ba2c360",
            "f6bc88fcf21e43a68369924888d21a7e",
            "54e6f403160d464594c587372340835d",
            "3a9e23fff25d424ba75398debccbbb27",
            "8d5e715327cd40239856efbb71f48ca0",
            "a89b3fe3f2494de08350afe6a8d46308",
            "7e585b1954d54f44bd0d96f7140d574c",
            "16ee687d36a04b0fb07aeb732e26b2e3",
            "d3628cf7422a402c8fb704709a9ded72",
            "6658aa1a3b574913a8d975752c5529ea",
            "230e998255f14176a856802b59091239",
            "ef6171d925ee406dbbdb94931c51a33d",
            "3c742b5e5cb64d7d80712391757f1c9a",
            "e7a917f8bfb04b5d823d7daa5512080c",
            "b8f278542226478d92c7535a88bab004",
            "2c4452a0f06f457b92760031c58f49d7",
            "37de7d7e507c42efb421856bac6666ff",
            "32ad11ca08e74020acd951e5e1139111",
            "c09caf4c422a46b7a651749ee66fb8cc",
            "feb0559f91cf40a383d69a01588f23ee",
            "d3ebe91c38694bec9b9d601fc8845621",
            "e92753855d6e4487a85577e7c10d5909",
            "160a3b41938948bcb962b13ae77dddfa",
            "6a2fa6785d05460e8b2350c79672ccad",
            "af0c1295c6a847eca8b28d8d339c70af",
            "b5b27fdcad784bec920d027e2b8460c3",
            "9cbeb37672b94c27b91f21795a473cbf",
            "ae9bcdc177a54e02b1d2cfd60244672e",
            "c518481a27cc46f28d5e4225ec2b9ace",
            "cb78a747360143efabbc84bcdcf8c660",
            "b8151005df88477bb6a7b6f34f303986",
            "6e21c19ddf8246dd9d2f7314daf9d5cd",
            "b0170cda53d745389bf0ee6ab7cd263e",
            "3db5c8ca504b4321b855c3d7d7860679",
            "ae821c0c33dc435c9c474c88db3b96e1",
            "24489a36e69645a6b9221a073bb0830d",
            "cf579ca8f48d4a18b5c7645dee1ff351",
            "5948817fb8c645ca921d5b37825f725e",
            "4bc3176d144d4367b5aeadd507788717",
            "b2f407f5d5834c29b83849c67a54c702",
            "826ae886d4a043f58ca3cba0b45a7142",
            "c94a5a41893d42229ee98f2dd37c36e1",
            "37647a339ca74b2bb8b714b32a3c9706",
            "ecae891430104557aaab94ce85464375",
            "891d83740da146439973192ecc7ec226",
            "9ef90cc8995c4b858a16d9bca2e3b551",
            "f03f60ad0ee6468f84c030a4b4864ebd",
            "2c0c3f9cebd74645b024155c4ce313ae",
            "fd33849dd2fa411b96b33468a155ff40",
            "425ebf855f014a928a33cc1e2c50d1d7",
            "e6d171b728ca4e04b114a372bc0731ec",
            "4327f2388039479b982f7014bcf0098a",
            "4627503730ec4c88bdac8e1c02bcedc8",
            "3eb5071b948f454b831c76647d24bac2",
            "14fca18dcaa24c33bc1c6fb1d3793bb9",
            "f965f6721d9943bbb16600e2cdc5004d",
            "a6c3ca17eb0648779f1288a4130b268b",
            "b892f1aa4fe9479ca0b71aa47a6b68fe",
            "990deb8aec6f42f8afa63dd684dbdb34",
            "ac6d66aef0bd4e7b89cfa2fda3dcc1d1",
            "f8dd575b93514d509c2c52194a393e18",
            "e53bab91e3c94b7db2745147ffdf0600",
            "b88101c1112e4d2ea99c882699dec1da",
            "54f647b12f954c5cb623700e929343e7",
            "00f017f6ee374b799013a4bc3469ae68",
            "41b23881e61c4f6ca82beae2357bcec0",
            "3de16872d4dc43ac9b10d28072ea5e65"
          ]
        },
        "id": "Ao4aweDsDhao",
        "outputId": "cd7b3c14-19a2-4ae1-adba-27ace9f7d78b"
      },
      "outputs": [
        {
          "output_type": "display_data",
          "data": {
            "text/plain": [
              "Downloading (…)e9125/.gitattributes: 0.00B [00:00, ?B/s]"
            ],
            "application/vnd.jupyter.widget-view+json": {
              "version_major": 2,
              "version_minor": 0,
              "model_id": "b4ed37368e8e4c02b244277188329731"
            }
          },
          "metadata": {}
        },
        {
          "output_type": "display_data",
          "data": {
            "text/plain": [
              "Downloading (…)_Pooling/config.json:   0%|          | 0.00/190 [00:00<?, ?B/s]"
            ],
            "application/vnd.jupyter.widget-view+json": {
              "version_major": 2,
              "version_minor": 0,
              "model_id": "18ea7970c54543f2b44c0d21c55bd80b"
            }
          },
          "metadata": {}
        },
        {
          "output_type": "display_data",
          "data": {
            "text/plain": [
              "Downloading (…)7e55de9125/README.md: 0.00B [00:00, ?B/s]"
            ],
            "application/vnd.jupyter.widget-view+json": {
              "version_major": 2,
              "version_minor": 0,
              "model_id": "0a566a0435e24106b7a8316728707322"
            }
          },
          "metadata": {}
        },
        {
          "output_type": "display_data",
          "data": {
            "text/plain": [
              "Downloading (…)55de9125/config.json:   0%|          | 0.00/612 [00:00<?, ?B/s]"
            ],
            "application/vnd.jupyter.widget-view+json": {
              "version_major": 2,
              "version_minor": 0,
              "model_id": "9c8e5fe5d1dd46c9bf3402d0fa605fa5"
            }
          },
          "metadata": {}
        },
        {
          "output_type": "display_data",
          "data": {
            "text/plain": [
              "Downloading (…)ce_transformers.json:   0%|          | 0.00/116 [00:00<?, ?B/s]"
            ],
            "application/vnd.jupyter.widget-view+json": {
              "version_major": 2,
              "version_minor": 0,
              "model_id": "494b456280a9455c9d73698444ce6900"
            }
          },
          "metadata": {}
        },
        {
          "output_type": "display_data",
          "data": {
            "text/plain": [
              "Downloading (…)125/data_config.json: 0.00B [00:00, ?B/s]"
            ],
            "application/vnd.jupyter.widget-view+json": {
              "version_major": 2,
              "version_minor": 0,
              "model_id": "4e3d3d4c8b4f46ae817b012b862d1d0f"
            }
          },
          "metadata": {}
        },
        {
          "output_type": "display_data",
          "data": {
            "text/plain": [
              "Downloading pytorch_model.bin:   0%|          | 0.00/90.9M [00:00<?, ?B/s]"
            ],
            "application/vnd.jupyter.widget-view+json": {
              "version_major": 2,
              "version_minor": 0,
              "model_id": "51ee0c6dec9c4cb0943356c0ffcf935e"
            }
          },
          "metadata": {}
        },
        {
          "output_type": "display_data",
          "data": {
            "text/plain": [
              "Downloading (…)nce_bert_config.json:   0%|          | 0.00/53.0 [00:00<?, ?B/s]"
            ],
            "application/vnd.jupyter.widget-view+json": {
              "version_major": 2,
              "version_minor": 0,
              "model_id": "44990feb588641208d4aadba644f3c9c"
            }
          },
          "metadata": {}
        },
        {
          "output_type": "display_data",
          "data": {
            "text/plain": [
              "Downloading (…)cial_tokens_map.json:   0%|          | 0.00/112 [00:00<?, ?B/s]"
            ],
            "application/vnd.jupyter.widget-view+json": {
              "version_major": 2,
              "version_minor": 0,
              "model_id": "85b45b8691874fee9cfa00a11401bcb2"
            }
          },
          "metadata": {}
        },
        {
          "output_type": "display_data",
          "data": {
            "text/plain": [
              "Downloading (…)e9125/tokenizer.json: 0.00B [00:00, ?B/s]"
            ],
            "application/vnd.jupyter.widget-view+json": {
              "version_major": 2,
              "version_minor": 0,
              "model_id": "f6bc88fcf21e43a68369924888d21a7e"
            }
          },
          "metadata": {}
        },
        {
          "output_type": "display_data",
          "data": {
            "text/plain": [
              "Downloading (…)okenizer_config.json:   0%|          | 0.00/350 [00:00<?, ?B/s]"
            ],
            "application/vnd.jupyter.widget-view+json": {
              "version_major": 2,
              "version_minor": 0,
              "model_id": "3c742b5e5cb64d7d80712391757f1c9a"
            }
          },
          "metadata": {}
        },
        {
          "output_type": "display_data",
          "data": {
            "text/plain": [
              "Downloading (…)9125/train_script.py: 0.00B [00:00, ?B/s]"
            ],
            "application/vnd.jupyter.widget-view+json": {
              "version_major": 2,
              "version_minor": 0,
              "model_id": "6a2fa6785d05460e8b2350c79672ccad"
            }
          },
          "metadata": {}
        },
        {
          "output_type": "display_data",
          "data": {
            "text/plain": [
              "Downloading (…)7e55de9125/vocab.txt: 0.00B [00:00, ?B/s]"
            ],
            "application/vnd.jupyter.widget-view+json": {
              "version_major": 2,
              "version_minor": 0,
              "model_id": "ae821c0c33dc435c9c474c88db3b96e1"
            }
          },
          "metadata": {}
        },
        {
          "output_type": "display_data",
          "data": {
            "text/plain": [
              "Downloading (…)5de9125/modules.json:   0%|          | 0.00/349 [00:00<?, ?B/s]"
            ],
            "application/vnd.jupyter.widget-view+json": {
              "version_major": 2,
              "version_minor": 0,
              "model_id": "9ef90cc8995c4b858a16d9bca2e3b551"
            }
          },
          "metadata": {}
        },
        {
          "output_type": "display_data",
          "data": {
            "text/plain": [
              "Batches:   0%|          | 0/111 [00:00<?, ?it/s]"
            ],
            "application/vnd.jupyter.widget-view+json": {
              "version_major": 2,
              "version_minor": 0,
              "model_id": "a6c3ca17eb0648779f1288a4130b268b"
            }
          },
          "metadata": {}
        },
        {
          "output_type": "stream",
          "name": "stderr",
          "text": [
            "2023-06-22 13:44:12,245 - BERTopic - Transformed documents to Embeddings\n",
            "2023-06-22 13:44:29,991 - BERTopic - Reduced dimensionality\n",
            "2023-06-22 13:44:30,549 - BERTopic - Clustered reduced embeddings\n"
          ]
        }
      ],
      "source": [
        "topic_model = BERTopic(language=\"english\", calculate_probabilities=True, verbose=True)\n",
        "topics, probs = topic_model.fit_transform(preprocessed_texts)"
      ]
    },
    {
      "cell_type": "markdown",
      "metadata": {
        "id": "sBr-IRtX8ZOG"
      },
      "source": [
        "## Extracting Topics"
      ]
    },
    {
      "cell_type": "markdown",
      "metadata": {
        "id": "2WFuIuRH8d7s"
      },
      "source": [
        "After fitting our model, we can start by looking at the results. Typically, we look at the most frequent topics first as they best represent the collection of documents."
      ]
    },
    {
      "cell_type": "code",
      "execution_count": null,
      "metadata": {
        "colab": {
          "base_uri": "https://localhost:8080/",
          "height": 206
        },
        "id": "jSfjahy0DhdX",
        "outputId": "fed93a55-ad4f-4f67-8edd-e4844341923a"
      },
      "outputs": [
        {
          "output_type": "execute_result",
          "data": {
            "text/plain": [
              "   Topic  Count                         Name  \\\n",
              "0     -1   1192         -1_shoe_the_and_they   \n",
              "1      0    363       0_running_shoe_for_run   \n",
              "2      1    238       1_sandal_these_are_the   \n",
              "3      2    122  2_comfortable_they_fit_them   \n",
              "4      3     97      3_wide_narrow_foot_shoe   \n",
              "\n",
              "                                      Representation  \\\n",
              "0  [shoe, the, and, they, for, them, these, are, ...   \n",
              "1  [running, shoe, for, run, and, are, these, gre...   \n",
              "2  [sandal, these, are, the, and, they, foot, the...   \n",
              "3  [comfortable, they, fit, them, very, and, are,...   \n",
              "4  [wide, narrow, foot, shoe, but, for, width, th...   \n",
              "\n",
              "                                 Representative_Docs  \n",
              "0  [already had pair black nike thong that love a...  \n",
              "1  [good for running, hands down the best shoe an...  \n",
              "2  [the look the sandal are little different than...  \n",
              "3  [got these for wife she very happy with them s...  \n",
              "4  [these shoe look nice and are almost the same ...  "
            ],
            "text/html": [
              "\n",
              "  <div id=\"df-c3ea4dc2-c884-4a05-9f77-14361de3f76c\">\n",
              "    <div class=\"colab-df-container\">\n",
              "      <div>\n",
              "<style scoped>\n",
              "    .dataframe tbody tr th:only-of-type {\n",
              "        vertical-align: middle;\n",
              "    }\n",
              "\n",
              "    .dataframe tbody tr th {\n",
              "        vertical-align: top;\n",
              "    }\n",
              "\n",
              "    .dataframe thead th {\n",
              "        text-align: right;\n",
              "    }\n",
              "</style>\n",
              "<table border=\"1\" class=\"dataframe\">\n",
              "  <thead>\n",
              "    <tr style=\"text-align: right;\">\n",
              "      <th></th>\n",
              "      <th>Topic</th>\n",
              "      <th>Count</th>\n",
              "      <th>Name</th>\n",
              "      <th>Representation</th>\n",
              "      <th>Representative_Docs</th>\n",
              "    </tr>\n",
              "  </thead>\n",
              "  <tbody>\n",
              "    <tr>\n",
              "      <th>0</th>\n",
              "      <td>-1</td>\n",
              "      <td>1192</td>\n",
              "      <td>-1_shoe_the_and_they</td>\n",
              "      <td>[shoe, the, and, they, for, them, these, are, ...</td>\n",
              "      <td>[already had pair black nike thong that love a...</td>\n",
              "    </tr>\n",
              "    <tr>\n",
              "      <th>1</th>\n",
              "      <td>0</td>\n",
              "      <td>363</td>\n",
              "      <td>0_running_shoe_for_run</td>\n",
              "      <td>[running, shoe, for, run, and, are, these, gre...</td>\n",
              "      <td>[good for running, hands down the best shoe an...</td>\n",
              "    </tr>\n",
              "    <tr>\n",
              "      <th>2</th>\n",
              "      <td>1</td>\n",
              "      <td>238</td>\n",
              "      <td>1_sandal_these_are_the</td>\n",
              "      <td>[sandal, these, are, the, and, they, foot, the...</td>\n",
              "      <td>[the look the sandal are little different than...</td>\n",
              "    </tr>\n",
              "    <tr>\n",
              "      <th>3</th>\n",
              "      <td>2</td>\n",
              "      <td>122</td>\n",
              "      <td>2_comfortable_they_fit_them</td>\n",
              "      <td>[comfortable, they, fit, them, very, and, are,...</td>\n",
              "      <td>[got these for wife she very happy with them s...</td>\n",
              "    </tr>\n",
              "    <tr>\n",
              "      <th>4</th>\n",
              "      <td>3</td>\n",
              "      <td>97</td>\n",
              "      <td>3_wide_narrow_foot_shoe</td>\n",
              "      <td>[wide, narrow, foot, shoe, but, for, width, th...</td>\n",
              "      <td>[these shoe look nice and are almost the same ...</td>\n",
              "    </tr>\n",
              "  </tbody>\n",
              "</table>\n",
              "</div>\n",
              "      <button class=\"colab-df-convert\" onclick=\"convertToInteractive('df-c3ea4dc2-c884-4a05-9f77-14361de3f76c')\"\n",
              "              title=\"Convert this dataframe to an interactive table.\"\n",
              "              style=\"display:none;\">\n",
              "        \n",
              "  <svg xmlns=\"http://www.w3.org/2000/svg\" height=\"24px\"viewBox=\"0 0 24 24\"\n",
              "       width=\"24px\">\n",
              "    <path d=\"M0 0h24v24H0V0z\" fill=\"none\"/>\n",
              "    <path d=\"M18.56 5.44l.94 2.06.94-2.06 2.06-.94-2.06-.94-.94-2.06-.94 2.06-2.06.94zm-11 1L8.5 8.5l.94-2.06 2.06-.94-2.06-.94L8.5 2.5l-.94 2.06-2.06.94zm10 10l.94 2.06.94-2.06 2.06-.94-2.06-.94-.94-2.06-.94 2.06-2.06.94z\"/><path d=\"M17.41 7.96l-1.37-1.37c-.4-.4-.92-.59-1.43-.59-.52 0-1.04.2-1.43.59L10.3 9.45l-7.72 7.72c-.78.78-.78 2.05 0 2.83L4 21.41c.39.39.9.59 1.41.59.51 0 1.02-.2 1.41-.59l7.78-7.78 2.81-2.81c.8-.78.8-2.07 0-2.86zM5.41 20L4 18.59l7.72-7.72 1.47 1.35L5.41 20z\"/>\n",
              "  </svg>\n",
              "      </button>\n",
              "      \n",
              "  <style>\n",
              "    .colab-df-container {\n",
              "      display:flex;\n",
              "      flex-wrap:wrap;\n",
              "      gap: 12px;\n",
              "    }\n",
              "\n",
              "    .colab-df-convert {\n",
              "      background-color: #E8F0FE;\n",
              "      border: none;\n",
              "      border-radius: 50%;\n",
              "      cursor: pointer;\n",
              "      display: none;\n",
              "      fill: #1967D2;\n",
              "      height: 32px;\n",
              "      padding: 0 0 0 0;\n",
              "      width: 32px;\n",
              "    }\n",
              "\n",
              "    .colab-df-convert:hover {\n",
              "      background-color: #E2EBFA;\n",
              "      box-shadow: 0px 1px 2px rgba(60, 64, 67, 0.3), 0px 1px 3px 1px rgba(60, 64, 67, 0.15);\n",
              "      fill: #174EA6;\n",
              "    }\n",
              "\n",
              "    [theme=dark] .colab-df-convert {\n",
              "      background-color: #3B4455;\n",
              "      fill: #D2E3FC;\n",
              "    }\n",
              "\n",
              "    [theme=dark] .colab-df-convert:hover {\n",
              "      background-color: #434B5C;\n",
              "      box-shadow: 0px 1px 3px 1px rgba(0, 0, 0, 0.15);\n",
              "      filter: drop-shadow(0px 1px 2px rgba(0, 0, 0, 0.3));\n",
              "      fill: #FFFFFF;\n",
              "    }\n",
              "  </style>\n",
              "\n",
              "      <script>\n",
              "        const buttonEl =\n",
              "          document.querySelector('#df-c3ea4dc2-c884-4a05-9f77-14361de3f76c button.colab-df-convert');\n",
              "        buttonEl.style.display =\n",
              "          google.colab.kernel.accessAllowed ? 'block' : 'none';\n",
              "\n",
              "        async function convertToInteractive(key) {\n",
              "          const element = document.querySelector('#df-c3ea4dc2-c884-4a05-9f77-14361de3f76c');\n",
              "          const dataTable =\n",
              "            await google.colab.kernel.invokeFunction('convertToInteractive',\n",
              "                                                     [key], {});\n",
              "          if (!dataTable) return;\n",
              "\n",
              "          const docLinkHtml = 'Like what you see? Visit the ' +\n",
              "            '<a target=\"_blank\" href=https://colab.research.google.com/notebooks/data_table.ipynb>data table notebook</a>'\n",
              "            + ' to learn more about interactive tables.';\n",
              "          element.innerHTML = '';\n",
              "          dataTable['output_type'] = 'display_data';\n",
              "          await google.colab.output.renderOutput(dataTable, element);\n",
              "          const docLink = document.createElement('div');\n",
              "          docLink.innerHTML = docLinkHtml;\n",
              "          element.appendChild(docLink);\n",
              "        }\n",
              "      </script>\n",
              "    </div>\n",
              "  </div>\n",
              "  "
            ]
          },
          "metadata": {},
          "execution_count": 31
        }
      ],
      "source": [
        "freq = topic_model.get_topic_info()\n",
        "freq.head(5)"
      ]
    },
    {
      "cell_type": "markdown",
      "metadata": {
        "id": "01wRwqFO8i4W"
      },
      "source": [
        "-1 refers to all outliers and should typically be ignored. Next, let's take a look at a frequent topic that were generated:"
      ]
    },
    {
      "cell_type": "code",
      "execution_count": null,
      "metadata": {
        "colab": {
          "base_uri": "https://localhost:8080/"
        },
        "id": "YMMHJtqHDhga",
        "outputId": "c2a0df93-9b9a-40ea-ba64-7071a67f204d"
      },
      "outputs": [
        {
          "output_type": "execute_result",
          "data": {
            "text/plain": [
              "[('running', 0.03768571116732423),\n",
              " ('shoe', 0.02103170348159069),\n",
              " ('for', 0.020550331186773078),\n",
              " ('run', 0.019521367868231276),\n",
              " ('and', 0.01760348818464667),\n",
              " ('are', 0.015919454332891433),\n",
              " ('these', 0.015457309201407202),\n",
              " ('great', 0.015007106350517697),\n",
              " ('gym', 0.014858467476397803),\n",
              " ('they', 0.013733460895444303)]"
            ]
          },
          "metadata": {},
          "execution_count": 32
        }
      ],
      "source": [
        "# select the most frequent topic\n",
        "topic_model.get_topic(0)"
      ]
    },
    {
      "cell_type": "code",
      "execution_count": null,
      "metadata": {
        "colab": {
          "base_uri": "https://localhost:8080/"
        },
        "id": "P-6uBaPwWoDp",
        "outputId": "cd39c31f-0720-4fc1-ce3c-d4b7060923d9"
      },
      "outputs": [
        {
          "output_type": "execute_result",
          "data": {
            "text/plain": [
              "[-1, 0, -1, -1, -1, 5, 3, 6, 2, 0]"
            ]
          },
          "metadata": {},
          "execution_count": 33
        }
      ],
      "source": [
        "topic_model.topics_[:10]"
      ]
    },
    {
      "cell_type": "code",
      "execution_count": null,
      "metadata": {
        "colab": {
          "base_uri": "https://localhost:8080/"
        },
        "id": "ConshHN2Z4uv",
        "outputId": "be1de8d1-5944-4978-bee1-c3baffa756df"
      },
      "outputs": [
        {
          "output_type": "execute_result",
          "data": {
            "text/plain": [
              "[(-1, 1192),\n",
              " (0, 363),\n",
              " (5, 78),\n",
              " (3, 97),\n",
              " (6, 76),\n",
              " (2, 122),\n",
              " (23, 29),\n",
              " (9, 68),\n",
              " (11, 57),\n",
              " (30, 24)]"
            ]
          },
          "metadata": {},
          "execution_count": 34
        }
      ],
      "source": [
        "# the size of each topic\n",
        "list(topic_model.topic_sizes_.items())[:10]"
      ]
    },
    {
      "cell_type": "code",
      "execution_count": null,
      "metadata": {
        "colab": {
          "base_uri": "https://localhost:8080/"
        },
        "id": "AMg2vhodZVpb",
        "outputId": "efdfdc8b-3751-4ab1-9b73-205d32f9ebb8"
      },
      "outputs": [
        {
          "output_type": "execute_result",
          "data": {
            "text/plain": [
              "53"
            ]
          },
          "metadata": {},
          "execution_count": 35
        }
      ],
      "source": [
        "# how many topic we have\n",
        "len(topic_model.topic_sizes_)"
      ]
    },
    {
      "cell_type": "code",
      "execution_count": null,
      "metadata": {
        "colab": {
          "base_uri": "https://localhost:8080/"
        },
        "id": "Z5iNxFKTZ9Zi",
        "outputId": "ed454df0-dc80-4c78-fdb1-b4b34554521d"
      },
      "outputs": [
        {
          "output_type": "execute_result",
          "data": {
            "text/plain": [
              "[(-1, '-1_shoe_the_and_they'),\n",
              " (0, '0_running_shoe_for_run'),\n",
              " (1, '1_sandal_these_are_the'),\n",
              " (2, '2_comfortable_they_fit_them'),\n",
              " (3, '3_wide_narrow_foot_shoe'),\n",
              " (4, '4_squeak_squeaking_powder_loud'),\n",
              " (5, '5_nike_and_this_the'),\n",
              " (6, '6_sneaker_fit_these_love'),\n",
              " (7, '7_slide_are_velcro_the'),\n",
              " (8, '8_son_his_size_daughter')]"
            ]
          },
          "metadata": {},
          "execution_count": 36
        }
      ],
      "source": [
        "# get the default label for each topic\n",
        "list(topic_model.topic_labels_.items())[:10]"
      ]
    },
    {
      "cell_type": "code",
      "execution_count": null,
      "metadata": {
        "colab": {
          "base_uri": "https://localhost:8080/"
        },
        "id": "sruapMNEbMeb",
        "outputId": "ae3745b0-5c23-4b9a-d66f-d2ade612b64d"
      },
      "outputs": [
        {
          "output_type": "execute_result",
          "data": {
            "text/plain": [
              "[(0,\n",
              "  ['good for running',\n",
              "   'hands down the best shoe and most comfortable shoe ve ever worn these shoe are very light very softcomfortable and also great foot support for those that have flat foot not much runner but when tried first time running these shoe felt running pillow for mile love these shoe and will start buying more pair want try using them when play basketball but nt want get shoe dirty although very tempting try definitely recommend these shoe for everyday use running',\n",
              "   'these are like walking air have pair this style and can say that have never had better pair running shoe they are light your foot like you nt have shoe and yet are soft walk did buy 12 size larger than normal running shoe']),\n",
              " (1,\n",
              "  ['the look the sandal are little different than the picture when got mine ordered white symbol nike sandal and received black one not only that received two different size sandal least the sandal felt comfortable',\n",
              "   'these sandal were perfect have pair these sandal these are the best sandal you can buy with money opinion definitely worth every penny spent',\n",
              "   'husband wear these nike sandal all the time say they are one the best sandal worn']),\n",
              " (2,\n",
              "  ['got these for wife she very happy with them said they fit very well and are very comfortable',\n",
              "   'love them fit great and look great bought these work very light and very comfortable',\n",
              "   'very comfortable and they fit well they also look very nice wear them work for the comfort']),\n",
              " (3,\n",
              "  ['these shoe look nice and are almost the same the previous model the 29 but nike went and made huge mistake and closed the toe box big time thus making very snug fit for those like myself with wide foot disappointed because love the pegasus 29 and have pair them for running and just for being everyday while out and about these are just not nearly comfortable and way too tight foot causing them need returned gifted someone else with more narrow foot than own you have narrow foot then you might really like these shoe they are very similar the 29 and give great return your investment but your foot are wide would steer clear them wide foot for the 29 they are the best',\n",
              "   'these shoe are very narrow for someone who big wide foot like the look the shoe but they are very narrow',\n",
              "   'this great shoe ve purchased about pair now from sport store the last pair from amazon wear custom orthodics and shoe shopping somewhat nightmare for need shoe with deep heel that also removable sole not mention that the shoe wide enough fit the orthodic and wide foot this shoe just awesome can not only remove the sole the shoe but once put orthodics foot just slide when the shoe too narrow the shoe will squeak like wet shoe only worse very annoying and they nt stop making noise even when the shoe well broken with these have squeaking they are very comfortable last long time and support foot foot most the day and back and foot nt hurt much with these shoe would highly recommend them anyone who not only wide foot like but who also wear insert thanks nike for providing wide shoe for those who need'])]"
            ]
          },
          "metadata": {},
          "execution_count": 37
        }
      ],
      "source": [
        "# the representative documents for each topic\n",
        "list(topic_model.representative_docs_.items())[1:5]"
      ]
    },
    {
      "cell_type": "markdown",
      "metadata": {
        "id": "rWTDfTQa8pxs"
      },
      "source": [
        "## Visualization"
      ]
    },
    {
      "cell_type": "markdown",
      "metadata": {
        "id": "YSl-nneRAN8X"
      },
      "source": [
        "There are several visualization options available in BERTopic, namely the visualization of topics, probabilities and topics over time. Topic modeling is, to a certain extent, quite subjective. Visualizations help understand the topics that were created."
      ]
    },
    {
      "cell_type": "markdown",
      "metadata": {
        "id": "QGmNR-MTAcZA"
      },
      "source": [
        "### Visualize Topics"
      ]
    },
    {
      "cell_type": "markdown",
      "metadata": {
        "id": "RASE-eUgAi_0"
      },
      "source": [
        "After having trained our `BERTopic` model, we can iteratively go through perhaps a hundred topic to get a good\n",
        "understanding of the topics that were extract. However, that takes quite some time and lacks a global representation.\n",
        "Instead, we can visualize the topics that were generated in a way very similar to [LDAvis](https://github.com/cpsievert/LDAvis):"
      ]
    },
    {
      "cell_type": "code",
      "execution_count": null,
      "metadata": {
        "colab": {
          "base_uri": "https://localhost:8080/",
          "height": 667
        },
        "id": "9--2r6M9Dhjf",
        "outputId": "36703bdc-0aee-4f1b-f380-889ae9c65c2b"
      },
      "outputs": [
        {
          "output_type": "display_data",
          "data": {
            "text/html": [
              "<html>\n",
              "<head><meta charset=\"utf-8\" /></head>\n",
              "<body>\n",
              "    <div>            <script src=\"https://cdnjs.cloudflare.com/ajax/libs/mathjax/2.7.5/MathJax.js?config=TeX-AMS-MML_SVG\"></script><script type=\"text/javascript\">if (window.MathJax && window.MathJax.Hub && window.MathJax.Hub.Config) {window.MathJax.Hub.Config({SVG: {font: \"STIX-Web\"}});}</script>                <script type=\"text/javascript\">window.PlotlyConfig = {MathJaxConfig: 'local'};</script>\n",
              "        <script src=\"https://cdn.plot.ly/plotly-2.18.2.min.js\"></script>                <div id=\"e9fdff79-171c-41d2-9682-ae7dcc3d1b6f\" class=\"plotly-graph-div\" style=\"height:650px; width:650px;\"></div>            <script type=\"text/javascript\">                                    window.PLOTLYENV=window.PLOTLYENV || {};                                    if (document.getElementById(\"e9fdff79-171c-41d2-9682-ae7dcc3d1b6f\")) {                    Plotly.newPlot(                        \"e9fdff79-171c-41d2-9682-ae7dcc3d1b6f\",                        [{\"customdata\":[[0,\"running | shoe | for | run | and\",363],[1,\"sandal | these | are | the | and\",238],[2,\"comfortable | they | fit | them | very\",122],[3,\"wide | narrow | foot | shoe | but\",97],[4,\"squeak | squeaking | powder | loud | the\",93],[5,\"nike | and | this | the | quality\",78],[6,\"sneaker | fit | these | love | them\",76],[7,\"slide | are | velcro | the | comfortable\",69],[8,\"son | his | size | daughter | shoe\",69],[9,\"size | larger | order | ordered | half\",68],[10,\"flop | flip | are | have | these\",60],[11,\"size | nike | small | nikes | know\",57],[12,\"comfortable | foot | hour | are | for\",50],[13,\"she | gift | them | loved | son\",45],[14,\"max | air | nike | the | year\",45],[15,\"fit | great | shoe | the | perfectly\",43],[16,\"slipper | slip | house | are | these\",40],[17,\"12 | size | small | larger | but\",39],[18,\"arch | support | high | foot | have\",38],[19,\"light | lightweight | weight | shoe | are\",35],[20,\"sock | son | boy | with | well\",35],[21,\"perfect | nice | perfecto | likey | gimmick\",31],[22,\"quality | very | good | product | material\",29],[23,\"box | came | shipping | shoe | the\",29],[24,\"muy | bien | que | los | producto\",28],[25,\"fit | great | product | picture | price\",27],[26,\"85 | size | 75 | wear | but\",26],[27,\"pegasus | running | vomero | mile | neutral\",26],[28,\"thong | toe | pair | them | foam\",25],[29,\"nike | nikes | comfortable | are | pair\",24],[30,\"soft | foot | they | feel | shoe\",24],[31,\"tight | pinky | toe | the | little\",23],[32,\"105 | size | 115 | bigger | ordered\",23],[33,\"pair | year | etc | them | another\",22],[34,\"pain | foot | walk | heel | shoe\",20],[35,\"blue | color | dark | black | was\",18],[36,\"cushion | soft | product | hard | base\",18],[37,\"comfortable | very | love | beautiful | shoe\",17],[38,\"woman | men | sock | size | tho\",17],[39,\"son | bought | size | perfectly | them\",16],[40,\"free | 30 | frees | nike | better\",15],[41,\"address | delivery | item | deliver | saw\",15],[42,\"white | black | base | though | orange\",15],[43,\"love | bomb | sister | idea | son\",14],[44,\"husband | shoe | him | wear | his\",13],[45,\"shower | hotel | water | pool | slip\",13],[46,\"love | self | awesome | bos | excelentthank\",12],[47,\"small | size | serve | but | smaller\",12],[48,\"small | size | half | ran | review\",12],[49,\"great | shoe | favorite | workout | awesome\",12],[50,\"picture | same | got | color | buy\",11],[51,\"light | color | pair | bewareoverall | perfectlyi\",10]],\"hovertemplate\":\"<b>Topic %{customdata[0]}</b><br>%{customdata[1]}<br>Size: %{customdata[2]}\",\"legendgroup\":\"\",\"marker\":{\"color\":\"#B0BEC5\",\"size\":[363,238,122,97,93,78,76,69,69,68,60,57,50,45,45,43,40,39,38,35,35,31,29,29,28,27,26,26,25,24,24,23,23,22,20,18,18,17,17,16,15,15,15,14,13,13,12,12,12,12,11,10],\"sizemode\":\"area\",\"sizeref\":0.226875,\"symbol\":\"circle\",\"line\":{\"color\":\"DarkSlateGrey\",\"width\":2}},\"mode\":\"markers\",\"name\":\"\",\"orientation\":\"v\",\"showlegend\":false,\"x\":[3.153357744216919,10.95915412902832,-2.1898932456970215,12.81865406036377,5.042778491973877,11.075193405151367,13.677118301391602,-1.169626235961914,12.846116065979004,12.977621078491211,-2.4887311458587646,12.837981224060059,4.583691120147705,-1.6462737321853638,11.2702054977417,13.80048656463623,-1.12796151638031,12.597672462463379,3.4695234298706055,3.150200366973877,12.961700439453125,-1.3115289211273193,-2.5613203048706055,-7.4900336265563965,11.383500099182129,-2.6526131629943848,14.835467338562012,3.0223917961120605,-2.573580741882324,10.863463401794434,3.421215295791626,3.611055850982666,14.839263916015625,-2.1216986179351807,4.953908920288086,14.747870445251465,-2.189960241317749,-8.116020202636719,12.626399040222168,12.911534309387207,11.098872184753418,-7.411129474639893,14.578692436218262,-1.4276964664459229,-7.824920654296875,4.550107479095459,-7.747428894042969,12.984661102294922,13.206003189086914,-8.25892162322998,14.238058090209961,3.245164632797241],\"xaxis\":\"x\",\"y\":[-0.32747212052345276,-0.2628483772277832,11.4108304977417,7.054922580718994,-0.3392963409423828,-0.7227807641029358,6.585609436035156,-6.539823532104492,8.489703178405762,7.471089839935303,-2.938572645187378,7.287539005279541,-0.6123096942901611,11.471074104309082,-0.8592234253883362,6.734872341156006,-6.584628105163574,7.622928619384766,-0.7521631121635437,-1.1607738733291626,8.587045669555664,11.596842765808105,11.054930686950684,26.481224060058594,-1.0282679796218872,10.964694023132324,1.1265918016433716,-0.17129676043987274,-2.8431427478790283,-0.4169573485851288,-0.64710533618927,-0.5710875391960144,1.1295759677886963,11.534117698669434,-0.4188999533653259,6.958552837371826,11.416096687316895,27.105947494506836,7.347803115844727,8.628311157226562,-0.7511528730392456,26.402463912963867,6.849208354949951,11.51418685913086,26.815269470214844,-0.6837446689605713,26.737958908081055,7.614206790924072,7.4343976974487305,27.248746871948242,6.761981010437012,-1.2317548990249634],\"yaxis\":\"y\",\"type\":\"scatter\"}],                        {\"template\":{\"data\":{\"barpolar\":[{\"marker\":{\"line\":{\"color\":\"white\",\"width\":0.5},\"pattern\":{\"fillmode\":\"overlay\",\"size\":10,\"solidity\":0.2}},\"type\":\"barpolar\"}],\"bar\":[{\"error_x\":{\"color\":\"rgb(36,36,36)\"},\"error_y\":{\"color\":\"rgb(36,36,36)\"},\"marker\":{\"line\":{\"color\":\"white\",\"width\":0.5},\"pattern\":{\"fillmode\":\"overlay\",\"size\":10,\"solidity\":0.2}},\"type\":\"bar\"}],\"carpet\":[{\"aaxis\":{\"endlinecolor\":\"rgb(36,36,36)\",\"gridcolor\":\"white\",\"linecolor\":\"white\",\"minorgridcolor\":\"white\",\"startlinecolor\":\"rgb(36,36,36)\"},\"baxis\":{\"endlinecolor\":\"rgb(36,36,36)\",\"gridcolor\":\"white\",\"linecolor\":\"white\",\"minorgridcolor\":\"white\",\"startlinecolor\":\"rgb(36,36,36)\"},\"type\":\"carpet\"}],\"choropleth\":[{\"colorbar\":{\"outlinewidth\":1,\"tickcolor\":\"rgb(36,36,36)\",\"ticks\":\"outside\"},\"type\":\"choropleth\"}],\"contourcarpet\":[{\"colorbar\":{\"outlinewidth\":1,\"tickcolor\":\"rgb(36,36,36)\",\"ticks\":\"outside\"},\"type\":\"contourcarpet\"}],\"contour\":[{\"colorbar\":{\"outlinewidth\":1,\"tickcolor\":\"rgb(36,36,36)\",\"ticks\":\"outside\"},\"colorscale\":[[0.0,\"#440154\"],[0.1111111111111111,\"#482878\"],[0.2222222222222222,\"#3e4989\"],[0.3333333333333333,\"#31688e\"],[0.4444444444444444,\"#26828e\"],[0.5555555555555556,\"#1f9e89\"],[0.6666666666666666,\"#35b779\"],[0.7777777777777778,\"#6ece58\"],[0.8888888888888888,\"#b5de2b\"],[1.0,\"#fde725\"]],\"type\":\"contour\"}],\"heatmapgl\":[{\"colorbar\":{\"outlinewidth\":1,\"tickcolor\":\"rgb(36,36,36)\",\"ticks\":\"outside\"},\"colorscale\":[[0.0,\"#440154\"],[0.1111111111111111,\"#482878\"],[0.2222222222222222,\"#3e4989\"],[0.3333333333333333,\"#31688e\"],[0.4444444444444444,\"#26828e\"],[0.5555555555555556,\"#1f9e89\"],[0.6666666666666666,\"#35b779\"],[0.7777777777777778,\"#6ece58\"],[0.8888888888888888,\"#b5de2b\"],[1.0,\"#fde725\"]],\"type\":\"heatmapgl\"}],\"heatmap\":[{\"colorbar\":{\"outlinewidth\":1,\"tickcolor\":\"rgb(36,36,36)\",\"ticks\":\"outside\"},\"colorscale\":[[0.0,\"#440154\"],[0.1111111111111111,\"#482878\"],[0.2222222222222222,\"#3e4989\"],[0.3333333333333333,\"#31688e\"],[0.4444444444444444,\"#26828e\"],[0.5555555555555556,\"#1f9e89\"],[0.6666666666666666,\"#35b779\"],[0.7777777777777778,\"#6ece58\"],[0.8888888888888888,\"#b5de2b\"],[1.0,\"#fde725\"]],\"type\":\"heatmap\"}],\"histogram2dcontour\":[{\"colorbar\":{\"outlinewidth\":1,\"tickcolor\":\"rgb(36,36,36)\",\"ticks\":\"outside\"},\"colorscale\":[[0.0,\"#440154\"],[0.1111111111111111,\"#482878\"],[0.2222222222222222,\"#3e4989\"],[0.3333333333333333,\"#31688e\"],[0.4444444444444444,\"#26828e\"],[0.5555555555555556,\"#1f9e89\"],[0.6666666666666666,\"#35b779\"],[0.7777777777777778,\"#6ece58\"],[0.8888888888888888,\"#b5de2b\"],[1.0,\"#fde725\"]],\"type\":\"histogram2dcontour\"}],\"histogram2d\":[{\"colorbar\":{\"outlinewidth\":1,\"tickcolor\":\"rgb(36,36,36)\",\"ticks\":\"outside\"},\"colorscale\":[[0.0,\"#440154\"],[0.1111111111111111,\"#482878\"],[0.2222222222222222,\"#3e4989\"],[0.3333333333333333,\"#31688e\"],[0.4444444444444444,\"#26828e\"],[0.5555555555555556,\"#1f9e89\"],[0.6666666666666666,\"#35b779\"],[0.7777777777777778,\"#6ece58\"],[0.8888888888888888,\"#b5de2b\"],[1.0,\"#fde725\"]],\"type\":\"histogram2d\"}],\"histogram\":[{\"marker\":{\"line\":{\"color\":\"white\",\"width\":0.6}},\"type\":\"histogram\"}],\"mesh3d\":[{\"colorbar\":{\"outlinewidth\":1,\"tickcolor\":\"rgb(36,36,36)\",\"ticks\":\"outside\"},\"type\":\"mesh3d\"}],\"parcoords\":[{\"line\":{\"colorbar\":{\"outlinewidth\":1,\"tickcolor\":\"rgb(36,36,36)\",\"ticks\":\"outside\"}},\"type\":\"parcoords\"}],\"pie\":[{\"automargin\":true,\"type\":\"pie\"}],\"scatter3d\":[{\"line\":{\"colorbar\":{\"outlinewidth\":1,\"tickcolor\":\"rgb(36,36,36)\",\"ticks\":\"outside\"}},\"marker\":{\"colorbar\":{\"outlinewidth\":1,\"tickcolor\":\"rgb(36,36,36)\",\"ticks\":\"outside\"}},\"type\":\"scatter3d\"}],\"scattercarpet\":[{\"marker\":{\"colorbar\":{\"outlinewidth\":1,\"tickcolor\":\"rgb(36,36,36)\",\"ticks\":\"outside\"}},\"type\":\"scattercarpet\"}],\"scattergeo\":[{\"marker\":{\"colorbar\":{\"outlinewidth\":1,\"tickcolor\":\"rgb(36,36,36)\",\"ticks\":\"outside\"}},\"type\":\"scattergeo\"}],\"scattergl\":[{\"marker\":{\"colorbar\":{\"outlinewidth\":1,\"tickcolor\":\"rgb(36,36,36)\",\"ticks\":\"outside\"}},\"type\":\"scattergl\"}],\"scattermapbox\":[{\"marker\":{\"colorbar\":{\"outlinewidth\":1,\"tickcolor\":\"rgb(36,36,36)\",\"ticks\":\"outside\"}},\"type\":\"scattermapbox\"}],\"scatterpolargl\":[{\"marker\":{\"colorbar\":{\"outlinewidth\":1,\"tickcolor\":\"rgb(36,36,36)\",\"ticks\":\"outside\"}},\"type\":\"scatterpolargl\"}],\"scatterpolar\":[{\"marker\":{\"colorbar\":{\"outlinewidth\":1,\"tickcolor\":\"rgb(36,36,36)\",\"ticks\":\"outside\"}},\"type\":\"scatterpolar\"}],\"scatter\":[{\"fillpattern\":{\"fillmode\":\"overlay\",\"size\":10,\"solidity\":0.2},\"type\":\"scatter\"}],\"scatterternary\":[{\"marker\":{\"colorbar\":{\"outlinewidth\":1,\"tickcolor\":\"rgb(36,36,36)\",\"ticks\":\"outside\"}},\"type\":\"scatterternary\"}],\"surface\":[{\"colorbar\":{\"outlinewidth\":1,\"tickcolor\":\"rgb(36,36,36)\",\"ticks\":\"outside\"},\"colorscale\":[[0.0,\"#440154\"],[0.1111111111111111,\"#482878\"],[0.2222222222222222,\"#3e4989\"],[0.3333333333333333,\"#31688e\"],[0.4444444444444444,\"#26828e\"],[0.5555555555555556,\"#1f9e89\"],[0.6666666666666666,\"#35b779\"],[0.7777777777777778,\"#6ece58\"],[0.8888888888888888,\"#b5de2b\"],[1.0,\"#fde725\"]],\"type\":\"surface\"}],\"table\":[{\"cells\":{\"fill\":{\"color\":\"rgb(237,237,237)\"},\"line\":{\"color\":\"white\"}},\"header\":{\"fill\":{\"color\":\"rgb(217,217,217)\"},\"line\":{\"color\":\"white\"}},\"type\":\"table\"}]},\"layout\":{\"annotationdefaults\":{\"arrowhead\":0,\"arrowwidth\":1},\"autotypenumbers\":\"strict\",\"coloraxis\":{\"colorbar\":{\"outlinewidth\":1,\"tickcolor\":\"rgb(36,36,36)\",\"ticks\":\"outside\"}},\"colorscale\":{\"diverging\":[[0.0,\"rgb(103,0,31)\"],[0.1,\"rgb(178,24,43)\"],[0.2,\"rgb(214,96,77)\"],[0.3,\"rgb(244,165,130)\"],[0.4,\"rgb(253,219,199)\"],[0.5,\"rgb(247,247,247)\"],[0.6,\"rgb(209,229,240)\"],[0.7,\"rgb(146,197,222)\"],[0.8,\"rgb(67,147,195)\"],[0.9,\"rgb(33,102,172)\"],[1.0,\"rgb(5,48,97)\"]],\"sequential\":[[0.0,\"#440154\"],[0.1111111111111111,\"#482878\"],[0.2222222222222222,\"#3e4989\"],[0.3333333333333333,\"#31688e\"],[0.4444444444444444,\"#26828e\"],[0.5555555555555556,\"#1f9e89\"],[0.6666666666666666,\"#35b779\"],[0.7777777777777778,\"#6ece58\"],[0.8888888888888888,\"#b5de2b\"],[1.0,\"#fde725\"]],\"sequentialminus\":[[0.0,\"#440154\"],[0.1111111111111111,\"#482878\"],[0.2222222222222222,\"#3e4989\"],[0.3333333333333333,\"#31688e\"],[0.4444444444444444,\"#26828e\"],[0.5555555555555556,\"#1f9e89\"],[0.6666666666666666,\"#35b779\"],[0.7777777777777778,\"#6ece58\"],[0.8888888888888888,\"#b5de2b\"],[1.0,\"#fde725\"]]},\"colorway\":[\"#1F77B4\",\"#FF7F0E\",\"#2CA02C\",\"#D62728\",\"#9467BD\",\"#8C564B\",\"#E377C2\",\"#7F7F7F\",\"#BCBD22\",\"#17BECF\"],\"font\":{\"color\":\"rgb(36,36,36)\"},\"geo\":{\"bgcolor\":\"white\",\"lakecolor\":\"white\",\"landcolor\":\"white\",\"showlakes\":true,\"showland\":true,\"subunitcolor\":\"white\"},\"hoverlabel\":{\"align\":\"left\"},\"hovermode\":\"closest\",\"mapbox\":{\"style\":\"light\"},\"paper_bgcolor\":\"white\",\"plot_bgcolor\":\"white\",\"polar\":{\"angularaxis\":{\"gridcolor\":\"rgb(232,232,232)\",\"linecolor\":\"rgb(36,36,36)\",\"showgrid\":false,\"showline\":true,\"ticks\":\"outside\"},\"bgcolor\":\"white\",\"radialaxis\":{\"gridcolor\":\"rgb(232,232,232)\",\"linecolor\":\"rgb(36,36,36)\",\"showgrid\":false,\"showline\":true,\"ticks\":\"outside\"}},\"scene\":{\"xaxis\":{\"backgroundcolor\":\"white\",\"gridcolor\":\"rgb(232,232,232)\",\"gridwidth\":2,\"linecolor\":\"rgb(36,36,36)\",\"showbackground\":true,\"showgrid\":false,\"showline\":true,\"ticks\":\"outside\",\"zeroline\":false,\"zerolinecolor\":\"rgb(36,36,36)\"},\"yaxis\":{\"backgroundcolor\":\"white\",\"gridcolor\":\"rgb(232,232,232)\",\"gridwidth\":2,\"linecolor\":\"rgb(36,36,36)\",\"showbackground\":true,\"showgrid\":false,\"showline\":true,\"ticks\":\"outside\",\"zeroline\":false,\"zerolinecolor\":\"rgb(36,36,36)\"},\"zaxis\":{\"backgroundcolor\":\"white\",\"gridcolor\":\"rgb(232,232,232)\",\"gridwidth\":2,\"linecolor\":\"rgb(36,36,36)\",\"showbackground\":true,\"showgrid\":false,\"showline\":true,\"ticks\":\"outside\",\"zeroline\":false,\"zerolinecolor\":\"rgb(36,36,36)\"}},\"shapedefaults\":{\"fillcolor\":\"black\",\"line\":{\"width\":0},\"opacity\":0.3},\"ternary\":{\"aaxis\":{\"gridcolor\":\"rgb(232,232,232)\",\"linecolor\":\"rgb(36,36,36)\",\"showgrid\":false,\"showline\":true,\"ticks\":\"outside\"},\"baxis\":{\"gridcolor\":\"rgb(232,232,232)\",\"linecolor\":\"rgb(36,36,36)\",\"showgrid\":false,\"showline\":true,\"ticks\":\"outside\"},\"bgcolor\":\"white\",\"caxis\":{\"gridcolor\":\"rgb(232,232,232)\",\"linecolor\":\"rgb(36,36,36)\",\"showgrid\":false,\"showline\":true,\"ticks\":\"outside\"}},\"title\":{\"x\":0.05},\"xaxis\":{\"automargin\":true,\"gridcolor\":\"rgb(232,232,232)\",\"linecolor\":\"rgb(36,36,36)\",\"showgrid\":false,\"showline\":true,\"ticks\":\"outside\",\"title\":{\"standoff\":15},\"zeroline\":false,\"zerolinecolor\":\"rgb(36,36,36)\"},\"yaxis\":{\"automargin\":true,\"gridcolor\":\"rgb(232,232,232)\",\"linecolor\":\"rgb(36,36,36)\",\"showgrid\":false,\"showline\":true,\"ticks\":\"outside\",\"title\":{\"standoff\":15},\"zeroline\":false,\"zerolinecolor\":\"rgb(36,36,36)\"}}},\"xaxis\":{\"anchor\":\"y\",\"domain\":[0.0,1.0],\"title\":{\"text\":\"\"},\"visible\":false,\"range\":[-9.497759866714478,17.065153503417967]},\"yaxis\":{\"anchor\":\"x\",\"domain\":[0.0,1.0],\"title\":{\"text\":\"\"},\"visible\":false,\"range\":[-7.5723223209381105,31.33605890274048]},\"legend\":{\"tracegroupgap\":0,\"itemsizing\":\"constant\"},\"margin\":{\"t\":60},\"title\":{\"font\":{\"size\":22,\"color\":\"Black\"},\"text\":\"<b>Intertopic Distance Map</b>\",\"y\":0.95,\"x\":0.5,\"xanchor\":\"center\",\"yanchor\":\"top\"},\"hoverlabel\":{\"font\":{\"size\":16,\"family\":\"Rockwell\"},\"bgcolor\":\"white\"},\"width\":650,\"height\":650,\"sliders\":[{\"active\":0,\"pad\":{\"t\":50},\"steps\":[{\"args\":[{\"marker.color\":[[\"red\",\"#B0BEC5\",\"#B0BEC5\",\"#B0BEC5\",\"#B0BEC5\",\"#B0BEC5\",\"#B0BEC5\",\"#B0BEC5\",\"#B0BEC5\",\"#B0BEC5\",\"#B0BEC5\",\"#B0BEC5\",\"#B0BEC5\",\"#B0BEC5\",\"#B0BEC5\",\"#B0BEC5\",\"#B0BEC5\",\"#B0BEC5\",\"#B0BEC5\",\"#B0BEC5\",\"#B0BEC5\",\"#B0BEC5\",\"#B0BEC5\",\"#B0BEC5\",\"#B0BEC5\",\"#B0BEC5\",\"#B0BEC5\",\"#B0BEC5\",\"#B0BEC5\",\"#B0BEC5\",\"#B0BEC5\",\"#B0BEC5\",\"#B0BEC5\",\"#B0BEC5\",\"#B0BEC5\",\"#B0BEC5\",\"#B0BEC5\",\"#B0BEC5\",\"#B0BEC5\",\"#B0BEC5\",\"#B0BEC5\",\"#B0BEC5\",\"#B0BEC5\",\"#B0BEC5\",\"#B0BEC5\",\"#B0BEC5\",\"#B0BEC5\",\"#B0BEC5\",\"#B0BEC5\",\"#B0BEC5\",\"#B0BEC5\",\"#B0BEC5\"]]}],\"label\":\"Topic 0\",\"method\":\"update\"},{\"args\":[{\"marker.color\":[[\"#B0BEC5\",\"red\",\"#B0BEC5\",\"#B0BEC5\",\"#B0BEC5\",\"#B0BEC5\",\"#B0BEC5\",\"#B0BEC5\",\"#B0BEC5\",\"#B0BEC5\",\"#B0BEC5\",\"#B0BEC5\",\"#B0BEC5\",\"#B0BEC5\",\"#B0BEC5\",\"#B0BEC5\",\"#B0BEC5\",\"#B0BEC5\",\"#B0BEC5\",\"#B0BEC5\",\"#B0BEC5\",\"#B0BEC5\",\"#B0BEC5\",\"#B0BEC5\",\"#B0BEC5\",\"#B0BEC5\",\"#B0BEC5\",\"#B0BEC5\",\"#B0BEC5\",\"#B0BEC5\",\"#B0BEC5\",\"#B0BEC5\",\"#B0BEC5\",\"#B0BEC5\",\"#B0BEC5\",\"#B0BEC5\",\"#B0BEC5\",\"#B0BEC5\",\"#B0BEC5\",\"#B0BEC5\",\"#B0BEC5\",\"#B0BEC5\",\"#B0BEC5\",\"#B0BEC5\",\"#B0BEC5\",\"#B0BEC5\",\"#B0BEC5\",\"#B0BEC5\",\"#B0BEC5\",\"#B0BEC5\",\"#B0BEC5\",\"#B0BEC5\"]]}],\"label\":\"Topic 1\",\"method\":\"update\"},{\"args\":[{\"marker.color\":[[\"#B0BEC5\",\"#B0BEC5\",\"red\",\"#B0BEC5\",\"#B0BEC5\",\"#B0BEC5\",\"#B0BEC5\",\"#B0BEC5\",\"#B0BEC5\",\"#B0BEC5\",\"#B0BEC5\",\"#B0BEC5\",\"#B0BEC5\",\"#B0BEC5\",\"#B0BEC5\",\"#B0BEC5\",\"#B0BEC5\",\"#B0BEC5\",\"#B0BEC5\",\"#B0BEC5\",\"#B0BEC5\",\"#B0BEC5\",\"#B0BEC5\",\"#B0BEC5\",\"#B0BEC5\",\"#B0BEC5\",\"#B0BEC5\",\"#B0BEC5\",\"#B0BEC5\",\"#B0BEC5\",\"#B0BEC5\",\"#B0BEC5\",\"#B0BEC5\",\"#B0BEC5\",\"#B0BEC5\",\"#B0BEC5\",\"#B0BEC5\",\"#B0BEC5\",\"#B0BEC5\",\"#B0BEC5\",\"#B0BEC5\",\"#B0BEC5\",\"#B0BEC5\",\"#B0BEC5\",\"#B0BEC5\",\"#B0BEC5\",\"#B0BEC5\",\"#B0BEC5\",\"#B0BEC5\",\"#B0BEC5\",\"#B0BEC5\",\"#B0BEC5\"]]}],\"label\":\"Topic 2\",\"method\":\"update\"},{\"args\":[{\"marker.color\":[[\"#B0BEC5\",\"#B0BEC5\",\"#B0BEC5\",\"red\",\"#B0BEC5\",\"#B0BEC5\",\"#B0BEC5\",\"#B0BEC5\",\"#B0BEC5\",\"#B0BEC5\",\"#B0BEC5\",\"#B0BEC5\",\"#B0BEC5\",\"#B0BEC5\",\"#B0BEC5\",\"#B0BEC5\",\"#B0BEC5\",\"#B0BEC5\",\"#B0BEC5\",\"#B0BEC5\",\"#B0BEC5\",\"#B0BEC5\",\"#B0BEC5\",\"#B0BEC5\",\"#B0BEC5\",\"#B0BEC5\",\"#B0BEC5\",\"#B0BEC5\",\"#B0BEC5\",\"#B0BEC5\",\"#B0BEC5\",\"#B0BEC5\",\"#B0BEC5\",\"#B0BEC5\",\"#B0BEC5\",\"#B0BEC5\",\"#B0BEC5\",\"#B0BEC5\",\"#B0BEC5\",\"#B0BEC5\",\"#B0BEC5\",\"#B0BEC5\",\"#B0BEC5\",\"#B0BEC5\",\"#B0BEC5\",\"#B0BEC5\",\"#B0BEC5\",\"#B0BEC5\",\"#B0BEC5\",\"#B0BEC5\",\"#B0BEC5\",\"#B0BEC5\"]]}],\"label\":\"Topic 3\",\"method\":\"update\"},{\"args\":[{\"marker.color\":[[\"#B0BEC5\",\"#B0BEC5\",\"#B0BEC5\",\"#B0BEC5\",\"red\",\"#B0BEC5\",\"#B0BEC5\",\"#B0BEC5\",\"#B0BEC5\",\"#B0BEC5\",\"#B0BEC5\",\"#B0BEC5\",\"#B0BEC5\",\"#B0BEC5\",\"#B0BEC5\",\"#B0BEC5\",\"#B0BEC5\",\"#B0BEC5\",\"#B0BEC5\",\"#B0BEC5\",\"#B0BEC5\",\"#B0BEC5\",\"#B0BEC5\",\"#B0BEC5\",\"#B0BEC5\",\"#B0BEC5\",\"#B0BEC5\",\"#B0BEC5\",\"#B0BEC5\",\"#B0BEC5\",\"#B0BEC5\",\"#B0BEC5\",\"#B0BEC5\",\"#B0BEC5\",\"#B0BEC5\",\"#B0BEC5\",\"#B0BEC5\",\"#B0BEC5\",\"#B0BEC5\",\"#B0BEC5\",\"#B0BEC5\",\"#B0BEC5\",\"#B0BEC5\",\"#B0BEC5\",\"#B0BEC5\",\"#B0BEC5\",\"#B0BEC5\",\"#B0BEC5\",\"#B0BEC5\",\"#B0BEC5\",\"#B0BEC5\",\"#B0BEC5\"]]}],\"label\":\"Topic 4\",\"method\":\"update\"},{\"args\":[{\"marker.color\":[[\"#B0BEC5\",\"#B0BEC5\",\"#B0BEC5\",\"#B0BEC5\",\"#B0BEC5\",\"red\",\"#B0BEC5\",\"#B0BEC5\",\"#B0BEC5\",\"#B0BEC5\",\"#B0BEC5\",\"#B0BEC5\",\"#B0BEC5\",\"#B0BEC5\",\"#B0BEC5\",\"#B0BEC5\",\"#B0BEC5\",\"#B0BEC5\",\"#B0BEC5\",\"#B0BEC5\",\"#B0BEC5\",\"#B0BEC5\",\"#B0BEC5\",\"#B0BEC5\",\"#B0BEC5\",\"#B0BEC5\",\"#B0BEC5\",\"#B0BEC5\",\"#B0BEC5\",\"#B0BEC5\",\"#B0BEC5\",\"#B0BEC5\",\"#B0BEC5\",\"#B0BEC5\",\"#B0BEC5\",\"#B0BEC5\",\"#B0BEC5\",\"#B0BEC5\",\"#B0BEC5\",\"#B0BEC5\",\"#B0BEC5\",\"#B0BEC5\",\"#B0BEC5\",\"#B0BEC5\",\"#B0BEC5\",\"#B0BEC5\",\"#B0BEC5\",\"#B0BEC5\",\"#B0BEC5\",\"#B0BEC5\",\"#B0BEC5\",\"#B0BEC5\"]]}],\"label\":\"Topic 5\",\"method\":\"update\"},{\"args\":[{\"marker.color\":[[\"#B0BEC5\",\"#B0BEC5\",\"#B0BEC5\",\"#B0BEC5\",\"#B0BEC5\",\"#B0BEC5\",\"red\",\"#B0BEC5\",\"#B0BEC5\",\"#B0BEC5\",\"#B0BEC5\",\"#B0BEC5\",\"#B0BEC5\",\"#B0BEC5\",\"#B0BEC5\",\"#B0BEC5\",\"#B0BEC5\",\"#B0BEC5\",\"#B0BEC5\",\"#B0BEC5\",\"#B0BEC5\",\"#B0BEC5\",\"#B0BEC5\",\"#B0BEC5\",\"#B0BEC5\",\"#B0BEC5\",\"#B0BEC5\",\"#B0BEC5\",\"#B0BEC5\",\"#B0BEC5\",\"#B0BEC5\",\"#B0BEC5\",\"#B0BEC5\",\"#B0BEC5\",\"#B0BEC5\",\"#B0BEC5\",\"#B0BEC5\",\"#B0BEC5\",\"#B0BEC5\",\"#B0BEC5\",\"#B0BEC5\",\"#B0BEC5\",\"#B0BEC5\",\"#B0BEC5\",\"#B0BEC5\",\"#B0BEC5\",\"#B0BEC5\",\"#B0BEC5\",\"#B0BEC5\",\"#B0BEC5\",\"#B0BEC5\",\"#B0BEC5\"]]}],\"label\":\"Topic 6\",\"method\":\"update\"},{\"args\":[{\"marker.color\":[[\"#B0BEC5\",\"#B0BEC5\",\"#B0BEC5\",\"#B0BEC5\",\"#B0BEC5\",\"#B0BEC5\",\"#B0BEC5\",\"red\",\"#B0BEC5\",\"#B0BEC5\",\"#B0BEC5\",\"#B0BEC5\",\"#B0BEC5\",\"#B0BEC5\",\"#B0BEC5\",\"#B0BEC5\",\"#B0BEC5\",\"#B0BEC5\",\"#B0BEC5\",\"#B0BEC5\",\"#B0BEC5\",\"#B0BEC5\",\"#B0BEC5\",\"#B0BEC5\",\"#B0BEC5\",\"#B0BEC5\",\"#B0BEC5\",\"#B0BEC5\",\"#B0BEC5\",\"#B0BEC5\",\"#B0BEC5\",\"#B0BEC5\",\"#B0BEC5\",\"#B0BEC5\",\"#B0BEC5\",\"#B0BEC5\",\"#B0BEC5\",\"#B0BEC5\",\"#B0BEC5\",\"#B0BEC5\",\"#B0BEC5\",\"#B0BEC5\",\"#B0BEC5\",\"#B0BEC5\",\"#B0BEC5\",\"#B0BEC5\",\"#B0BEC5\",\"#B0BEC5\",\"#B0BEC5\",\"#B0BEC5\",\"#B0BEC5\",\"#B0BEC5\"]]}],\"label\":\"Topic 7\",\"method\":\"update\"},{\"args\":[{\"marker.color\":[[\"#B0BEC5\",\"#B0BEC5\",\"#B0BEC5\",\"#B0BEC5\",\"#B0BEC5\",\"#B0BEC5\",\"#B0BEC5\",\"#B0BEC5\",\"red\",\"#B0BEC5\",\"#B0BEC5\",\"#B0BEC5\",\"#B0BEC5\",\"#B0BEC5\",\"#B0BEC5\",\"#B0BEC5\",\"#B0BEC5\",\"#B0BEC5\",\"#B0BEC5\",\"#B0BEC5\",\"#B0BEC5\",\"#B0BEC5\",\"#B0BEC5\",\"#B0BEC5\",\"#B0BEC5\",\"#B0BEC5\",\"#B0BEC5\",\"#B0BEC5\",\"#B0BEC5\",\"#B0BEC5\",\"#B0BEC5\",\"#B0BEC5\",\"#B0BEC5\",\"#B0BEC5\",\"#B0BEC5\",\"#B0BEC5\",\"#B0BEC5\",\"#B0BEC5\",\"#B0BEC5\",\"#B0BEC5\",\"#B0BEC5\",\"#B0BEC5\",\"#B0BEC5\",\"#B0BEC5\",\"#B0BEC5\",\"#B0BEC5\",\"#B0BEC5\",\"#B0BEC5\",\"#B0BEC5\",\"#B0BEC5\",\"#B0BEC5\",\"#B0BEC5\"]]}],\"label\":\"Topic 8\",\"method\":\"update\"},{\"args\":[{\"marker.color\":[[\"#B0BEC5\",\"#B0BEC5\",\"#B0BEC5\",\"#B0BEC5\",\"#B0BEC5\",\"#B0BEC5\",\"#B0BEC5\",\"#B0BEC5\",\"#B0BEC5\",\"red\",\"#B0BEC5\",\"#B0BEC5\",\"#B0BEC5\",\"#B0BEC5\",\"#B0BEC5\",\"#B0BEC5\",\"#B0BEC5\",\"#B0BEC5\",\"#B0BEC5\",\"#B0BEC5\",\"#B0BEC5\",\"#B0BEC5\",\"#B0BEC5\",\"#B0BEC5\",\"#B0BEC5\",\"#B0BEC5\",\"#B0BEC5\",\"#B0BEC5\",\"#B0BEC5\",\"#B0BEC5\",\"#B0BEC5\",\"#B0BEC5\",\"#B0BEC5\",\"#B0BEC5\",\"#B0BEC5\",\"#B0BEC5\",\"#B0BEC5\",\"#B0BEC5\",\"#B0BEC5\",\"#B0BEC5\",\"#B0BEC5\",\"#B0BEC5\",\"#B0BEC5\",\"#B0BEC5\",\"#B0BEC5\",\"#B0BEC5\",\"#B0BEC5\",\"#B0BEC5\",\"#B0BEC5\",\"#B0BEC5\",\"#B0BEC5\",\"#B0BEC5\"]]}],\"label\":\"Topic 9\",\"method\":\"update\"},{\"args\":[{\"marker.color\":[[\"#B0BEC5\",\"#B0BEC5\",\"#B0BEC5\",\"#B0BEC5\",\"#B0BEC5\",\"#B0BEC5\",\"#B0BEC5\",\"#B0BEC5\",\"#B0BEC5\",\"#B0BEC5\",\"red\",\"#B0BEC5\",\"#B0BEC5\",\"#B0BEC5\",\"#B0BEC5\",\"#B0BEC5\",\"#B0BEC5\",\"#B0BEC5\",\"#B0BEC5\",\"#B0BEC5\",\"#B0BEC5\",\"#B0BEC5\",\"#B0BEC5\",\"#B0BEC5\",\"#B0BEC5\",\"#B0BEC5\",\"#B0BEC5\",\"#B0BEC5\",\"#B0BEC5\",\"#B0BEC5\",\"#B0BEC5\",\"#B0BEC5\",\"#B0BEC5\",\"#B0BEC5\",\"#B0BEC5\",\"#B0BEC5\",\"#B0BEC5\",\"#B0BEC5\",\"#B0BEC5\",\"#B0BEC5\",\"#B0BEC5\",\"#B0BEC5\",\"#B0BEC5\",\"#B0BEC5\",\"#B0BEC5\",\"#B0BEC5\",\"#B0BEC5\",\"#B0BEC5\",\"#B0BEC5\",\"#B0BEC5\",\"#B0BEC5\",\"#B0BEC5\"]]}],\"label\":\"Topic 10\",\"method\":\"update\"},{\"args\":[{\"marker.color\":[[\"#B0BEC5\",\"#B0BEC5\",\"#B0BEC5\",\"#B0BEC5\",\"#B0BEC5\",\"#B0BEC5\",\"#B0BEC5\",\"#B0BEC5\",\"#B0BEC5\",\"#B0BEC5\",\"#B0BEC5\",\"red\",\"#B0BEC5\",\"#B0BEC5\",\"#B0BEC5\",\"#B0BEC5\",\"#B0BEC5\",\"#B0BEC5\",\"#B0BEC5\",\"#B0BEC5\",\"#B0BEC5\",\"#B0BEC5\",\"#B0BEC5\",\"#B0BEC5\",\"#B0BEC5\",\"#B0BEC5\",\"#B0BEC5\",\"#B0BEC5\",\"#B0BEC5\",\"#B0BEC5\",\"#B0BEC5\",\"#B0BEC5\",\"#B0BEC5\",\"#B0BEC5\",\"#B0BEC5\",\"#B0BEC5\",\"#B0BEC5\",\"#B0BEC5\",\"#B0BEC5\",\"#B0BEC5\",\"#B0BEC5\",\"#B0BEC5\",\"#B0BEC5\",\"#B0BEC5\",\"#B0BEC5\",\"#B0BEC5\",\"#B0BEC5\",\"#B0BEC5\",\"#B0BEC5\",\"#B0BEC5\",\"#B0BEC5\",\"#B0BEC5\"]]}],\"label\":\"Topic 11\",\"method\":\"update\"},{\"args\":[{\"marker.color\":[[\"#B0BEC5\",\"#B0BEC5\",\"#B0BEC5\",\"#B0BEC5\",\"#B0BEC5\",\"#B0BEC5\",\"#B0BEC5\",\"#B0BEC5\",\"#B0BEC5\",\"#B0BEC5\",\"#B0BEC5\",\"#B0BEC5\",\"red\",\"#B0BEC5\",\"#B0BEC5\",\"#B0BEC5\",\"#B0BEC5\",\"#B0BEC5\",\"#B0BEC5\",\"#B0BEC5\",\"#B0BEC5\",\"#B0BEC5\",\"#B0BEC5\",\"#B0BEC5\",\"#B0BEC5\",\"#B0BEC5\",\"#B0BEC5\",\"#B0BEC5\",\"#B0BEC5\",\"#B0BEC5\",\"#B0BEC5\",\"#B0BEC5\",\"#B0BEC5\",\"#B0BEC5\",\"#B0BEC5\",\"#B0BEC5\",\"#B0BEC5\",\"#B0BEC5\",\"#B0BEC5\",\"#B0BEC5\",\"#B0BEC5\",\"#B0BEC5\",\"#B0BEC5\",\"#B0BEC5\",\"#B0BEC5\",\"#B0BEC5\",\"#B0BEC5\",\"#B0BEC5\",\"#B0BEC5\",\"#B0BEC5\",\"#B0BEC5\",\"#B0BEC5\"]]}],\"label\":\"Topic 12\",\"method\":\"update\"},{\"args\":[{\"marker.color\":[[\"#B0BEC5\",\"#B0BEC5\",\"#B0BEC5\",\"#B0BEC5\",\"#B0BEC5\",\"#B0BEC5\",\"#B0BEC5\",\"#B0BEC5\",\"#B0BEC5\",\"#B0BEC5\",\"#B0BEC5\",\"#B0BEC5\",\"#B0BEC5\",\"red\",\"#B0BEC5\",\"#B0BEC5\",\"#B0BEC5\",\"#B0BEC5\",\"#B0BEC5\",\"#B0BEC5\",\"#B0BEC5\",\"#B0BEC5\",\"#B0BEC5\",\"#B0BEC5\",\"#B0BEC5\",\"#B0BEC5\",\"#B0BEC5\",\"#B0BEC5\",\"#B0BEC5\",\"#B0BEC5\",\"#B0BEC5\",\"#B0BEC5\",\"#B0BEC5\",\"#B0BEC5\",\"#B0BEC5\",\"#B0BEC5\",\"#B0BEC5\",\"#B0BEC5\",\"#B0BEC5\",\"#B0BEC5\",\"#B0BEC5\",\"#B0BEC5\",\"#B0BEC5\",\"#B0BEC5\",\"#B0BEC5\",\"#B0BEC5\",\"#B0BEC5\",\"#B0BEC5\",\"#B0BEC5\",\"#B0BEC5\",\"#B0BEC5\",\"#B0BEC5\"]]}],\"label\":\"Topic 13\",\"method\":\"update\"},{\"args\":[{\"marker.color\":[[\"#B0BEC5\",\"#B0BEC5\",\"#B0BEC5\",\"#B0BEC5\",\"#B0BEC5\",\"#B0BEC5\",\"#B0BEC5\",\"#B0BEC5\",\"#B0BEC5\",\"#B0BEC5\",\"#B0BEC5\",\"#B0BEC5\",\"#B0BEC5\",\"#B0BEC5\",\"red\",\"#B0BEC5\",\"#B0BEC5\",\"#B0BEC5\",\"#B0BEC5\",\"#B0BEC5\",\"#B0BEC5\",\"#B0BEC5\",\"#B0BEC5\",\"#B0BEC5\",\"#B0BEC5\",\"#B0BEC5\",\"#B0BEC5\",\"#B0BEC5\",\"#B0BEC5\",\"#B0BEC5\",\"#B0BEC5\",\"#B0BEC5\",\"#B0BEC5\",\"#B0BEC5\",\"#B0BEC5\",\"#B0BEC5\",\"#B0BEC5\",\"#B0BEC5\",\"#B0BEC5\",\"#B0BEC5\",\"#B0BEC5\",\"#B0BEC5\",\"#B0BEC5\",\"#B0BEC5\",\"#B0BEC5\",\"#B0BEC5\",\"#B0BEC5\",\"#B0BEC5\",\"#B0BEC5\",\"#B0BEC5\",\"#B0BEC5\",\"#B0BEC5\"]]}],\"label\":\"Topic 14\",\"method\":\"update\"},{\"args\":[{\"marker.color\":[[\"#B0BEC5\",\"#B0BEC5\",\"#B0BEC5\",\"#B0BEC5\",\"#B0BEC5\",\"#B0BEC5\",\"#B0BEC5\",\"#B0BEC5\",\"#B0BEC5\",\"#B0BEC5\",\"#B0BEC5\",\"#B0BEC5\",\"#B0BEC5\",\"#B0BEC5\",\"#B0BEC5\",\"red\",\"#B0BEC5\",\"#B0BEC5\",\"#B0BEC5\",\"#B0BEC5\",\"#B0BEC5\",\"#B0BEC5\",\"#B0BEC5\",\"#B0BEC5\",\"#B0BEC5\",\"#B0BEC5\",\"#B0BEC5\",\"#B0BEC5\",\"#B0BEC5\",\"#B0BEC5\",\"#B0BEC5\",\"#B0BEC5\",\"#B0BEC5\",\"#B0BEC5\",\"#B0BEC5\",\"#B0BEC5\",\"#B0BEC5\",\"#B0BEC5\",\"#B0BEC5\",\"#B0BEC5\",\"#B0BEC5\",\"#B0BEC5\",\"#B0BEC5\",\"#B0BEC5\",\"#B0BEC5\",\"#B0BEC5\",\"#B0BEC5\",\"#B0BEC5\",\"#B0BEC5\",\"#B0BEC5\",\"#B0BEC5\",\"#B0BEC5\"]]}],\"label\":\"Topic 15\",\"method\":\"update\"},{\"args\":[{\"marker.color\":[[\"#B0BEC5\",\"#B0BEC5\",\"#B0BEC5\",\"#B0BEC5\",\"#B0BEC5\",\"#B0BEC5\",\"#B0BEC5\",\"#B0BEC5\",\"#B0BEC5\",\"#B0BEC5\",\"#B0BEC5\",\"#B0BEC5\",\"#B0BEC5\",\"#B0BEC5\",\"#B0BEC5\",\"#B0BEC5\",\"red\",\"#B0BEC5\",\"#B0BEC5\",\"#B0BEC5\",\"#B0BEC5\",\"#B0BEC5\",\"#B0BEC5\",\"#B0BEC5\",\"#B0BEC5\",\"#B0BEC5\",\"#B0BEC5\",\"#B0BEC5\",\"#B0BEC5\",\"#B0BEC5\",\"#B0BEC5\",\"#B0BEC5\",\"#B0BEC5\",\"#B0BEC5\",\"#B0BEC5\",\"#B0BEC5\",\"#B0BEC5\",\"#B0BEC5\",\"#B0BEC5\",\"#B0BEC5\",\"#B0BEC5\",\"#B0BEC5\",\"#B0BEC5\",\"#B0BEC5\",\"#B0BEC5\",\"#B0BEC5\",\"#B0BEC5\",\"#B0BEC5\",\"#B0BEC5\",\"#B0BEC5\",\"#B0BEC5\",\"#B0BEC5\"]]}],\"label\":\"Topic 16\",\"method\":\"update\"},{\"args\":[{\"marker.color\":[[\"#B0BEC5\",\"#B0BEC5\",\"#B0BEC5\",\"#B0BEC5\",\"#B0BEC5\",\"#B0BEC5\",\"#B0BEC5\",\"#B0BEC5\",\"#B0BEC5\",\"#B0BEC5\",\"#B0BEC5\",\"#B0BEC5\",\"#B0BEC5\",\"#B0BEC5\",\"#B0BEC5\",\"#B0BEC5\",\"#B0BEC5\",\"red\",\"#B0BEC5\",\"#B0BEC5\",\"#B0BEC5\",\"#B0BEC5\",\"#B0BEC5\",\"#B0BEC5\",\"#B0BEC5\",\"#B0BEC5\",\"#B0BEC5\",\"#B0BEC5\",\"#B0BEC5\",\"#B0BEC5\",\"#B0BEC5\",\"#B0BEC5\",\"#B0BEC5\",\"#B0BEC5\",\"#B0BEC5\",\"#B0BEC5\",\"#B0BEC5\",\"#B0BEC5\",\"#B0BEC5\",\"#B0BEC5\",\"#B0BEC5\",\"#B0BEC5\",\"#B0BEC5\",\"#B0BEC5\",\"#B0BEC5\",\"#B0BEC5\",\"#B0BEC5\",\"#B0BEC5\",\"#B0BEC5\",\"#B0BEC5\",\"#B0BEC5\",\"#B0BEC5\"]]}],\"label\":\"Topic 17\",\"method\":\"update\"},{\"args\":[{\"marker.color\":[[\"#B0BEC5\",\"#B0BEC5\",\"#B0BEC5\",\"#B0BEC5\",\"#B0BEC5\",\"#B0BEC5\",\"#B0BEC5\",\"#B0BEC5\",\"#B0BEC5\",\"#B0BEC5\",\"#B0BEC5\",\"#B0BEC5\",\"#B0BEC5\",\"#B0BEC5\",\"#B0BEC5\",\"#B0BEC5\",\"#B0BEC5\",\"#B0BEC5\",\"red\",\"#B0BEC5\",\"#B0BEC5\",\"#B0BEC5\",\"#B0BEC5\",\"#B0BEC5\",\"#B0BEC5\",\"#B0BEC5\",\"#B0BEC5\",\"#B0BEC5\",\"#B0BEC5\",\"#B0BEC5\",\"#B0BEC5\",\"#B0BEC5\",\"#B0BEC5\",\"#B0BEC5\",\"#B0BEC5\",\"#B0BEC5\",\"#B0BEC5\",\"#B0BEC5\",\"#B0BEC5\",\"#B0BEC5\",\"#B0BEC5\",\"#B0BEC5\",\"#B0BEC5\",\"#B0BEC5\",\"#B0BEC5\",\"#B0BEC5\",\"#B0BEC5\",\"#B0BEC5\",\"#B0BEC5\",\"#B0BEC5\",\"#B0BEC5\",\"#B0BEC5\"]]}],\"label\":\"Topic 18\",\"method\":\"update\"},{\"args\":[{\"marker.color\":[[\"#B0BEC5\",\"#B0BEC5\",\"#B0BEC5\",\"#B0BEC5\",\"#B0BEC5\",\"#B0BEC5\",\"#B0BEC5\",\"#B0BEC5\",\"#B0BEC5\",\"#B0BEC5\",\"#B0BEC5\",\"#B0BEC5\",\"#B0BEC5\",\"#B0BEC5\",\"#B0BEC5\",\"#B0BEC5\",\"#B0BEC5\",\"#B0BEC5\",\"#B0BEC5\",\"red\",\"#B0BEC5\",\"#B0BEC5\",\"#B0BEC5\",\"#B0BEC5\",\"#B0BEC5\",\"#B0BEC5\",\"#B0BEC5\",\"#B0BEC5\",\"#B0BEC5\",\"#B0BEC5\",\"#B0BEC5\",\"#B0BEC5\",\"#B0BEC5\",\"#B0BEC5\",\"#B0BEC5\",\"#B0BEC5\",\"#B0BEC5\",\"#B0BEC5\",\"#B0BEC5\",\"#B0BEC5\",\"#B0BEC5\",\"#B0BEC5\",\"#B0BEC5\",\"#B0BEC5\",\"#B0BEC5\",\"#B0BEC5\",\"#B0BEC5\",\"#B0BEC5\",\"#B0BEC5\",\"#B0BEC5\",\"#B0BEC5\",\"#B0BEC5\"]]}],\"label\":\"Topic 19\",\"method\":\"update\"},{\"args\":[{\"marker.color\":[[\"#B0BEC5\",\"#B0BEC5\",\"#B0BEC5\",\"#B0BEC5\",\"#B0BEC5\",\"#B0BEC5\",\"#B0BEC5\",\"#B0BEC5\",\"#B0BEC5\",\"#B0BEC5\",\"#B0BEC5\",\"#B0BEC5\",\"#B0BEC5\",\"#B0BEC5\",\"#B0BEC5\",\"#B0BEC5\",\"#B0BEC5\",\"#B0BEC5\",\"#B0BEC5\",\"#B0BEC5\",\"red\",\"#B0BEC5\",\"#B0BEC5\",\"#B0BEC5\",\"#B0BEC5\",\"#B0BEC5\",\"#B0BEC5\",\"#B0BEC5\",\"#B0BEC5\",\"#B0BEC5\",\"#B0BEC5\",\"#B0BEC5\",\"#B0BEC5\",\"#B0BEC5\",\"#B0BEC5\",\"#B0BEC5\",\"#B0BEC5\",\"#B0BEC5\",\"#B0BEC5\",\"#B0BEC5\",\"#B0BEC5\",\"#B0BEC5\",\"#B0BEC5\",\"#B0BEC5\",\"#B0BEC5\",\"#B0BEC5\",\"#B0BEC5\",\"#B0BEC5\",\"#B0BEC5\",\"#B0BEC5\",\"#B0BEC5\",\"#B0BEC5\"]]}],\"label\":\"Topic 20\",\"method\":\"update\"},{\"args\":[{\"marker.color\":[[\"#B0BEC5\",\"#B0BEC5\",\"#B0BEC5\",\"#B0BEC5\",\"#B0BEC5\",\"#B0BEC5\",\"#B0BEC5\",\"#B0BEC5\",\"#B0BEC5\",\"#B0BEC5\",\"#B0BEC5\",\"#B0BEC5\",\"#B0BEC5\",\"#B0BEC5\",\"#B0BEC5\",\"#B0BEC5\",\"#B0BEC5\",\"#B0BEC5\",\"#B0BEC5\",\"#B0BEC5\",\"#B0BEC5\",\"red\",\"#B0BEC5\",\"#B0BEC5\",\"#B0BEC5\",\"#B0BEC5\",\"#B0BEC5\",\"#B0BEC5\",\"#B0BEC5\",\"#B0BEC5\",\"#B0BEC5\",\"#B0BEC5\",\"#B0BEC5\",\"#B0BEC5\",\"#B0BEC5\",\"#B0BEC5\",\"#B0BEC5\",\"#B0BEC5\",\"#B0BEC5\",\"#B0BEC5\",\"#B0BEC5\",\"#B0BEC5\",\"#B0BEC5\",\"#B0BEC5\",\"#B0BEC5\",\"#B0BEC5\",\"#B0BEC5\",\"#B0BEC5\",\"#B0BEC5\",\"#B0BEC5\",\"#B0BEC5\",\"#B0BEC5\"]]}],\"label\":\"Topic 21\",\"method\":\"update\"},{\"args\":[{\"marker.color\":[[\"#B0BEC5\",\"#B0BEC5\",\"#B0BEC5\",\"#B0BEC5\",\"#B0BEC5\",\"#B0BEC5\",\"#B0BEC5\",\"#B0BEC5\",\"#B0BEC5\",\"#B0BEC5\",\"#B0BEC5\",\"#B0BEC5\",\"#B0BEC5\",\"#B0BEC5\",\"#B0BEC5\",\"#B0BEC5\",\"#B0BEC5\",\"#B0BEC5\",\"#B0BEC5\",\"#B0BEC5\",\"#B0BEC5\",\"#B0BEC5\",\"red\",\"#B0BEC5\",\"#B0BEC5\",\"#B0BEC5\",\"#B0BEC5\",\"#B0BEC5\",\"#B0BEC5\",\"#B0BEC5\",\"#B0BEC5\",\"#B0BEC5\",\"#B0BEC5\",\"#B0BEC5\",\"#B0BEC5\",\"#B0BEC5\",\"#B0BEC5\",\"#B0BEC5\",\"#B0BEC5\",\"#B0BEC5\",\"#B0BEC5\",\"#B0BEC5\",\"#B0BEC5\",\"#B0BEC5\",\"#B0BEC5\",\"#B0BEC5\",\"#B0BEC5\",\"#B0BEC5\",\"#B0BEC5\",\"#B0BEC5\",\"#B0BEC5\",\"#B0BEC5\"]]}],\"label\":\"Topic 22\",\"method\":\"update\"},{\"args\":[{\"marker.color\":[[\"#B0BEC5\",\"#B0BEC5\",\"#B0BEC5\",\"#B0BEC5\",\"#B0BEC5\",\"#B0BEC5\",\"#B0BEC5\",\"#B0BEC5\",\"#B0BEC5\",\"#B0BEC5\",\"#B0BEC5\",\"#B0BEC5\",\"#B0BEC5\",\"#B0BEC5\",\"#B0BEC5\",\"#B0BEC5\",\"#B0BEC5\",\"#B0BEC5\",\"#B0BEC5\",\"#B0BEC5\",\"#B0BEC5\",\"#B0BEC5\",\"#B0BEC5\",\"red\",\"#B0BEC5\",\"#B0BEC5\",\"#B0BEC5\",\"#B0BEC5\",\"#B0BEC5\",\"#B0BEC5\",\"#B0BEC5\",\"#B0BEC5\",\"#B0BEC5\",\"#B0BEC5\",\"#B0BEC5\",\"#B0BEC5\",\"#B0BEC5\",\"#B0BEC5\",\"#B0BEC5\",\"#B0BEC5\",\"#B0BEC5\",\"#B0BEC5\",\"#B0BEC5\",\"#B0BEC5\",\"#B0BEC5\",\"#B0BEC5\",\"#B0BEC5\",\"#B0BEC5\",\"#B0BEC5\",\"#B0BEC5\",\"#B0BEC5\",\"#B0BEC5\"]]}],\"label\":\"Topic 23\",\"method\":\"update\"},{\"args\":[{\"marker.color\":[[\"#B0BEC5\",\"#B0BEC5\",\"#B0BEC5\",\"#B0BEC5\",\"#B0BEC5\",\"#B0BEC5\",\"#B0BEC5\",\"#B0BEC5\",\"#B0BEC5\",\"#B0BEC5\",\"#B0BEC5\",\"#B0BEC5\",\"#B0BEC5\",\"#B0BEC5\",\"#B0BEC5\",\"#B0BEC5\",\"#B0BEC5\",\"#B0BEC5\",\"#B0BEC5\",\"#B0BEC5\",\"#B0BEC5\",\"#B0BEC5\",\"#B0BEC5\",\"#B0BEC5\",\"red\",\"#B0BEC5\",\"#B0BEC5\",\"#B0BEC5\",\"#B0BEC5\",\"#B0BEC5\",\"#B0BEC5\",\"#B0BEC5\",\"#B0BEC5\",\"#B0BEC5\",\"#B0BEC5\",\"#B0BEC5\",\"#B0BEC5\",\"#B0BEC5\",\"#B0BEC5\",\"#B0BEC5\",\"#B0BEC5\",\"#B0BEC5\",\"#B0BEC5\",\"#B0BEC5\",\"#B0BEC5\",\"#B0BEC5\",\"#B0BEC5\",\"#B0BEC5\",\"#B0BEC5\",\"#B0BEC5\",\"#B0BEC5\",\"#B0BEC5\"]]}],\"label\":\"Topic 24\",\"method\":\"update\"},{\"args\":[{\"marker.color\":[[\"#B0BEC5\",\"#B0BEC5\",\"#B0BEC5\",\"#B0BEC5\",\"#B0BEC5\",\"#B0BEC5\",\"#B0BEC5\",\"#B0BEC5\",\"#B0BEC5\",\"#B0BEC5\",\"#B0BEC5\",\"#B0BEC5\",\"#B0BEC5\",\"#B0BEC5\",\"#B0BEC5\",\"#B0BEC5\",\"#B0BEC5\",\"#B0BEC5\",\"#B0BEC5\",\"#B0BEC5\",\"#B0BEC5\",\"#B0BEC5\",\"#B0BEC5\",\"#B0BEC5\",\"#B0BEC5\",\"red\",\"#B0BEC5\",\"#B0BEC5\",\"#B0BEC5\",\"#B0BEC5\",\"#B0BEC5\",\"#B0BEC5\",\"#B0BEC5\",\"#B0BEC5\",\"#B0BEC5\",\"#B0BEC5\",\"#B0BEC5\",\"#B0BEC5\",\"#B0BEC5\",\"#B0BEC5\",\"#B0BEC5\",\"#B0BEC5\",\"#B0BEC5\",\"#B0BEC5\",\"#B0BEC5\",\"#B0BEC5\",\"#B0BEC5\",\"#B0BEC5\",\"#B0BEC5\",\"#B0BEC5\",\"#B0BEC5\",\"#B0BEC5\"]]}],\"label\":\"Topic 25\",\"method\":\"update\"},{\"args\":[{\"marker.color\":[[\"#B0BEC5\",\"#B0BEC5\",\"#B0BEC5\",\"#B0BEC5\",\"#B0BEC5\",\"#B0BEC5\",\"#B0BEC5\",\"#B0BEC5\",\"#B0BEC5\",\"#B0BEC5\",\"#B0BEC5\",\"#B0BEC5\",\"#B0BEC5\",\"#B0BEC5\",\"#B0BEC5\",\"#B0BEC5\",\"#B0BEC5\",\"#B0BEC5\",\"#B0BEC5\",\"#B0BEC5\",\"#B0BEC5\",\"#B0BEC5\",\"#B0BEC5\",\"#B0BEC5\",\"#B0BEC5\",\"#B0BEC5\",\"red\",\"#B0BEC5\",\"#B0BEC5\",\"#B0BEC5\",\"#B0BEC5\",\"#B0BEC5\",\"#B0BEC5\",\"#B0BEC5\",\"#B0BEC5\",\"#B0BEC5\",\"#B0BEC5\",\"#B0BEC5\",\"#B0BEC5\",\"#B0BEC5\",\"#B0BEC5\",\"#B0BEC5\",\"#B0BEC5\",\"#B0BEC5\",\"#B0BEC5\",\"#B0BEC5\",\"#B0BEC5\",\"#B0BEC5\",\"#B0BEC5\",\"#B0BEC5\",\"#B0BEC5\",\"#B0BEC5\"]]}],\"label\":\"Topic 26\",\"method\":\"update\"},{\"args\":[{\"marker.color\":[[\"#B0BEC5\",\"#B0BEC5\",\"#B0BEC5\",\"#B0BEC5\",\"#B0BEC5\",\"#B0BEC5\",\"#B0BEC5\",\"#B0BEC5\",\"#B0BEC5\",\"#B0BEC5\",\"#B0BEC5\",\"#B0BEC5\",\"#B0BEC5\",\"#B0BEC5\",\"#B0BEC5\",\"#B0BEC5\",\"#B0BEC5\",\"#B0BEC5\",\"#B0BEC5\",\"#B0BEC5\",\"#B0BEC5\",\"#B0BEC5\",\"#B0BEC5\",\"#B0BEC5\",\"#B0BEC5\",\"#B0BEC5\",\"#B0BEC5\",\"red\",\"#B0BEC5\",\"#B0BEC5\",\"#B0BEC5\",\"#B0BEC5\",\"#B0BEC5\",\"#B0BEC5\",\"#B0BEC5\",\"#B0BEC5\",\"#B0BEC5\",\"#B0BEC5\",\"#B0BEC5\",\"#B0BEC5\",\"#B0BEC5\",\"#B0BEC5\",\"#B0BEC5\",\"#B0BEC5\",\"#B0BEC5\",\"#B0BEC5\",\"#B0BEC5\",\"#B0BEC5\",\"#B0BEC5\",\"#B0BEC5\",\"#B0BEC5\",\"#B0BEC5\"]]}],\"label\":\"Topic 27\",\"method\":\"update\"},{\"args\":[{\"marker.color\":[[\"#B0BEC5\",\"#B0BEC5\",\"#B0BEC5\",\"#B0BEC5\",\"#B0BEC5\",\"#B0BEC5\",\"#B0BEC5\",\"#B0BEC5\",\"#B0BEC5\",\"#B0BEC5\",\"#B0BEC5\",\"#B0BEC5\",\"#B0BEC5\",\"#B0BEC5\",\"#B0BEC5\",\"#B0BEC5\",\"#B0BEC5\",\"#B0BEC5\",\"#B0BEC5\",\"#B0BEC5\",\"#B0BEC5\",\"#B0BEC5\",\"#B0BEC5\",\"#B0BEC5\",\"#B0BEC5\",\"#B0BEC5\",\"#B0BEC5\",\"#B0BEC5\",\"red\",\"#B0BEC5\",\"#B0BEC5\",\"#B0BEC5\",\"#B0BEC5\",\"#B0BEC5\",\"#B0BEC5\",\"#B0BEC5\",\"#B0BEC5\",\"#B0BEC5\",\"#B0BEC5\",\"#B0BEC5\",\"#B0BEC5\",\"#B0BEC5\",\"#B0BEC5\",\"#B0BEC5\",\"#B0BEC5\",\"#B0BEC5\",\"#B0BEC5\",\"#B0BEC5\",\"#B0BEC5\",\"#B0BEC5\",\"#B0BEC5\",\"#B0BEC5\"]]}],\"label\":\"Topic 28\",\"method\":\"update\"},{\"args\":[{\"marker.color\":[[\"#B0BEC5\",\"#B0BEC5\",\"#B0BEC5\",\"#B0BEC5\",\"#B0BEC5\",\"#B0BEC5\",\"#B0BEC5\",\"#B0BEC5\",\"#B0BEC5\",\"#B0BEC5\",\"#B0BEC5\",\"#B0BEC5\",\"#B0BEC5\",\"#B0BEC5\",\"#B0BEC5\",\"#B0BEC5\",\"#B0BEC5\",\"#B0BEC5\",\"#B0BEC5\",\"#B0BEC5\",\"#B0BEC5\",\"#B0BEC5\",\"#B0BEC5\",\"#B0BEC5\",\"#B0BEC5\",\"#B0BEC5\",\"#B0BEC5\",\"#B0BEC5\",\"#B0BEC5\",\"red\",\"#B0BEC5\",\"#B0BEC5\",\"#B0BEC5\",\"#B0BEC5\",\"#B0BEC5\",\"#B0BEC5\",\"#B0BEC5\",\"#B0BEC5\",\"#B0BEC5\",\"#B0BEC5\",\"#B0BEC5\",\"#B0BEC5\",\"#B0BEC5\",\"#B0BEC5\",\"#B0BEC5\",\"#B0BEC5\",\"#B0BEC5\",\"#B0BEC5\",\"#B0BEC5\",\"#B0BEC5\",\"#B0BEC5\",\"#B0BEC5\"]]}],\"label\":\"Topic 29\",\"method\":\"update\"},{\"args\":[{\"marker.color\":[[\"#B0BEC5\",\"#B0BEC5\",\"#B0BEC5\",\"#B0BEC5\",\"#B0BEC5\",\"#B0BEC5\",\"#B0BEC5\",\"#B0BEC5\",\"#B0BEC5\",\"#B0BEC5\",\"#B0BEC5\",\"#B0BEC5\",\"#B0BEC5\",\"#B0BEC5\",\"#B0BEC5\",\"#B0BEC5\",\"#B0BEC5\",\"#B0BEC5\",\"#B0BEC5\",\"#B0BEC5\",\"#B0BEC5\",\"#B0BEC5\",\"#B0BEC5\",\"#B0BEC5\",\"#B0BEC5\",\"#B0BEC5\",\"#B0BEC5\",\"#B0BEC5\",\"#B0BEC5\",\"#B0BEC5\",\"red\",\"#B0BEC5\",\"#B0BEC5\",\"#B0BEC5\",\"#B0BEC5\",\"#B0BEC5\",\"#B0BEC5\",\"#B0BEC5\",\"#B0BEC5\",\"#B0BEC5\",\"#B0BEC5\",\"#B0BEC5\",\"#B0BEC5\",\"#B0BEC5\",\"#B0BEC5\",\"#B0BEC5\",\"#B0BEC5\",\"#B0BEC5\",\"#B0BEC5\",\"#B0BEC5\",\"#B0BEC5\",\"#B0BEC5\"]]}],\"label\":\"Topic 30\",\"method\":\"update\"},{\"args\":[{\"marker.color\":[[\"#B0BEC5\",\"#B0BEC5\",\"#B0BEC5\",\"#B0BEC5\",\"#B0BEC5\",\"#B0BEC5\",\"#B0BEC5\",\"#B0BEC5\",\"#B0BEC5\",\"#B0BEC5\",\"#B0BEC5\",\"#B0BEC5\",\"#B0BEC5\",\"#B0BEC5\",\"#B0BEC5\",\"#B0BEC5\",\"#B0BEC5\",\"#B0BEC5\",\"#B0BEC5\",\"#B0BEC5\",\"#B0BEC5\",\"#B0BEC5\",\"#B0BEC5\",\"#B0BEC5\",\"#B0BEC5\",\"#B0BEC5\",\"#B0BEC5\",\"#B0BEC5\",\"#B0BEC5\",\"#B0BEC5\",\"#B0BEC5\",\"red\",\"#B0BEC5\",\"#B0BEC5\",\"#B0BEC5\",\"#B0BEC5\",\"#B0BEC5\",\"#B0BEC5\",\"#B0BEC5\",\"#B0BEC5\",\"#B0BEC5\",\"#B0BEC5\",\"#B0BEC5\",\"#B0BEC5\",\"#B0BEC5\",\"#B0BEC5\",\"#B0BEC5\",\"#B0BEC5\",\"#B0BEC5\",\"#B0BEC5\",\"#B0BEC5\",\"#B0BEC5\"]]}],\"label\":\"Topic 31\",\"method\":\"update\"},{\"args\":[{\"marker.color\":[[\"#B0BEC5\",\"#B0BEC5\",\"#B0BEC5\",\"#B0BEC5\",\"#B0BEC5\",\"#B0BEC5\",\"#B0BEC5\",\"#B0BEC5\",\"#B0BEC5\",\"#B0BEC5\",\"#B0BEC5\",\"#B0BEC5\",\"#B0BEC5\",\"#B0BEC5\",\"#B0BEC5\",\"#B0BEC5\",\"#B0BEC5\",\"#B0BEC5\",\"#B0BEC5\",\"#B0BEC5\",\"#B0BEC5\",\"#B0BEC5\",\"#B0BEC5\",\"#B0BEC5\",\"#B0BEC5\",\"#B0BEC5\",\"#B0BEC5\",\"#B0BEC5\",\"#B0BEC5\",\"#B0BEC5\",\"#B0BEC5\",\"#B0BEC5\",\"red\",\"#B0BEC5\",\"#B0BEC5\",\"#B0BEC5\",\"#B0BEC5\",\"#B0BEC5\",\"#B0BEC5\",\"#B0BEC5\",\"#B0BEC5\",\"#B0BEC5\",\"#B0BEC5\",\"#B0BEC5\",\"#B0BEC5\",\"#B0BEC5\",\"#B0BEC5\",\"#B0BEC5\",\"#B0BEC5\",\"#B0BEC5\",\"#B0BEC5\",\"#B0BEC5\"]]}],\"label\":\"Topic 32\",\"method\":\"update\"},{\"args\":[{\"marker.color\":[[\"#B0BEC5\",\"#B0BEC5\",\"#B0BEC5\",\"#B0BEC5\",\"#B0BEC5\",\"#B0BEC5\",\"#B0BEC5\",\"#B0BEC5\",\"#B0BEC5\",\"#B0BEC5\",\"#B0BEC5\",\"#B0BEC5\",\"#B0BEC5\",\"#B0BEC5\",\"#B0BEC5\",\"#B0BEC5\",\"#B0BEC5\",\"#B0BEC5\",\"#B0BEC5\",\"#B0BEC5\",\"#B0BEC5\",\"#B0BEC5\",\"#B0BEC5\",\"#B0BEC5\",\"#B0BEC5\",\"#B0BEC5\",\"#B0BEC5\",\"#B0BEC5\",\"#B0BEC5\",\"#B0BEC5\",\"#B0BEC5\",\"#B0BEC5\",\"#B0BEC5\",\"red\",\"#B0BEC5\",\"#B0BEC5\",\"#B0BEC5\",\"#B0BEC5\",\"#B0BEC5\",\"#B0BEC5\",\"#B0BEC5\",\"#B0BEC5\",\"#B0BEC5\",\"#B0BEC5\",\"#B0BEC5\",\"#B0BEC5\",\"#B0BEC5\",\"#B0BEC5\",\"#B0BEC5\",\"#B0BEC5\",\"#B0BEC5\",\"#B0BEC5\"]]}],\"label\":\"Topic 33\",\"method\":\"update\"},{\"args\":[{\"marker.color\":[[\"#B0BEC5\",\"#B0BEC5\",\"#B0BEC5\",\"#B0BEC5\",\"#B0BEC5\",\"#B0BEC5\",\"#B0BEC5\",\"#B0BEC5\",\"#B0BEC5\",\"#B0BEC5\",\"#B0BEC5\",\"#B0BEC5\",\"#B0BEC5\",\"#B0BEC5\",\"#B0BEC5\",\"#B0BEC5\",\"#B0BEC5\",\"#B0BEC5\",\"#B0BEC5\",\"#B0BEC5\",\"#B0BEC5\",\"#B0BEC5\",\"#B0BEC5\",\"#B0BEC5\",\"#B0BEC5\",\"#B0BEC5\",\"#B0BEC5\",\"#B0BEC5\",\"#B0BEC5\",\"#B0BEC5\",\"#B0BEC5\",\"#B0BEC5\",\"#B0BEC5\",\"#B0BEC5\",\"red\",\"#B0BEC5\",\"#B0BEC5\",\"#B0BEC5\",\"#B0BEC5\",\"#B0BEC5\",\"#B0BEC5\",\"#B0BEC5\",\"#B0BEC5\",\"#B0BEC5\",\"#B0BEC5\",\"#B0BEC5\",\"#B0BEC5\",\"#B0BEC5\",\"#B0BEC5\",\"#B0BEC5\",\"#B0BEC5\",\"#B0BEC5\"]]}],\"label\":\"Topic 34\",\"method\":\"update\"},{\"args\":[{\"marker.color\":[[\"#B0BEC5\",\"#B0BEC5\",\"#B0BEC5\",\"#B0BEC5\",\"#B0BEC5\",\"#B0BEC5\",\"#B0BEC5\",\"#B0BEC5\",\"#B0BEC5\",\"#B0BEC5\",\"#B0BEC5\",\"#B0BEC5\",\"#B0BEC5\",\"#B0BEC5\",\"#B0BEC5\",\"#B0BEC5\",\"#B0BEC5\",\"#B0BEC5\",\"#B0BEC5\",\"#B0BEC5\",\"#B0BEC5\",\"#B0BEC5\",\"#B0BEC5\",\"#B0BEC5\",\"#B0BEC5\",\"#B0BEC5\",\"#B0BEC5\",\"#B0BEC5\",\"#B0BEC5\",\"#B0BEC5\",\"#B0BEC5\",\"#B0BEC5\",\"#B0BEC5\",\"#B0BEC5\",\"#B0BEC5\",\"red\",\"#B0BEC5\",\"#B0BEC5\",\"#B0BEC5\",\"#B0BEC5\",\"#B0BEC5\",\"#B0BEC5\",\"#B0BEC5\",\"#B0BEC5\",\"#B0BEC5\",\"#B0BEC5\",\"#B0BEC5\",\"#B0BEC5\",\"#B0BEC5\",\"#B0BEC5\",\"#B0BEC5\",\"#B0BEC5\"]]}],\"label\":\"Topic 35\",\"method\":\"update\"},{\"args\":[{\"marker.color\":[[\"#B0BEC5\",\"#B0BEC5\",\"#B0BEC5\",\"#B0BEC5\",\"#B0BEC5\",\"#B0BEC5\",\"#B0BEC5\",\"#B0BEC5\",\"#B0BEC5\",\"#B0BEC5\",\"#B0BEC5\",\"#B0BEC5\",\"#B0BEC5\",\"#B0BEC5\",\"#B0BEC5\",\"#B0BEC5\",\"#B0BEC5\",\"#B0BEC5\",\"#B0BEC5\",\"#B0BEC5\",\"#B0BEC5\",\"#B0BEC5\",\"#B0BEC5\",\"#B0BEC5\",\"#B0BEC5\",\"#B0BEC5\",\"#B0BEC5\",\"#B0BEC5\",\"#B0BEC5\",\"#B0BEC5\",\"#B0BEC5\",\"#B0BEC5\",\"#B0BEC5\",\"#B0BEC5\",\"#B0BEC5\",\"#B0BEC5\",\"red\",\"#B0BEC5\",\"#B0BEC5\",\"#B0BEC5\",\"#B0BEC5\",\"#B0BEC5\",\"#B0BEC5\",\"#B0BEC5\",\"#B0BEC5\",\"#B0BEC5\",\"#B0BEC5\",\"#B0BEC5\",\"#B0BEC5\",\"#B0BEC5\",\"#B0BEC5\",\"#B0BEC5\"]]}],\"label\":\"Topic 36\",\"method\":\"update\"},{\"args\":[{\"marker.color\":[[\"#B0BEC5\",\"#B0BEC5\",\"#B0BEC5\",\"#B0BEC5\",\"#B0BEC5\",\"#B0BEC5\",\"#B0BEC5\",\"#B0BEC5\",\"#B0BEC5\",\"#B0BEC5\",\"#B0BEC5\",\"#B0BEC5\",\"#B0BEC5\",\"#B0BEC5\",\"#B0BEC5\",\"#B0BEC5\",\"#B0BEC5\",\"#B0BEC5\",\"#B0BEC5\",\"#B0BEC5\",\"#B0BEC5\",\"#B0BEC5\",\"#B0BEC5\",\"#B0BEC5\",\"#B0BEC5\",\"#B0BEC5\",\"#B0BEC5\",\"#B0BEC5\",\"#B0BEC5\",\"#B0BEC5\",\"#B0BEC5\",\"#B0BEC5\",\"#B0BEC5\",\"#B0BEC5\",\"#B0BEC5\",\"#B0BEC5\",\"#B0BEC5\",\"red\",\"#B0BEC5\",\"#B0BEC5\",\"#B0BEC5\",\"#B0BEC5\",\"#B0BEC5\",\"#B0BEC5\",\"#B0BEC5\",\"#B0BEC5\",\"#B0BEC5\",\"#B0BEC5\",\"#B0BEC5\",\"#B0BEC5\",\"#B0BEC5\",\"#B0BEC5\"]]}],\"label\":\"Topic 37\",\"method\":\"update\"},{\"args\":[{\"marker.color\":[[\"#B0BEC5\",\"#B0BEC5\",\"#B0BEC5\",\"#B0BEC5\",\"#B0BEC5\",\"#B0BEC5\",\"#B0BEC5\",\"#B0BEC5\",\"#B0BEC5\",\"#B0BEC5\",\"#B0BEC5\",\"#B0BEC5\",\"#B0BEC5\",\"#B0BEC5\",\"#B0BEC5\",\"#B0BEC5\",\"#B0BEC5\",\"#B0BEC5\",\"#B0BEC5\",\"#B0BEC5\",\"#B0BEC5\",\"#B0BEC5\",\"#B0BEC5\",\"#B0BEC5\",\"#B0BEC5\",\"#B0BEC5\",\"#B0BEC5\",\"#B0BEC5\",\"#B0BEC5\",\"#B0BEC5\",\"#B0BEC5\",\"#B0BEC5\",\"#B0BEC5\",\"#B0BEC5\",\"#B0BEC5\",\"#B0BEC5\",\"#B0BEC5\",\"#B0BEC5\",\"red\",\"#B0BEC5\",\"#B0BEC5\",\"#B0BEC5\",\"#B0BEC5\",\"#B0BEC5\",\"#B0BEC5\",\"#B0BEC5\",\"#B0BEC5\",\"#B0BEC5\",\"#B0BEC5\",\"#B0BEC5\",\"#B0BEC5\",\"#B0BEC5\"]]}],\"label\":\"Topic 38\",\"method\":\"update\"},{\"args\":[{\"marker.color\":[[\"#B0BEC5\",\"#B0BEC5\",\"#B0BEC5\",\"#B0BEC5\",\"#B0BEC5\",\"#B0BEC5\",\"#B0BEC5\",\"#B0BEC5\",\"#B0BEC5\",\"#B0BEC5\",\"#B0BEC5\",\"#B0BEC5\",\"#B0BEC5\",\"#B0BEC5\",\"#B0BEC5\",\"#B0BEC5\",\"#B0BEC5\",\"#B0BEC5\",\"#B0BEC5\",\"#B0BEC5\",\"#B0BEC5\",\"#B0BEC5\",\"#B0BEC5\",\"#B0BEC5\",\"#B0BEC5\",\"#B0BEC5\",\"#B0BEC5\",\"#B0BEC5\",\"#B0BEC5\",\"#B0BEC5\",\"#B0BEC5\",\"#B0BEC5\",\"#B0BEC5\",\"#B0BEC5\",\"#B0BEC5\",\"#B0BEC5\",\"#B0BEC5\",\"#B0BEC5\",\"#B0BEC5\",\"red\",\"#B0BEC5\",\"#B0BEC5\",\"#B0BEC5\",\"#B0BEC5\",\"#B0BEC5\",\"#B0BEC5\",\"#B0BEC5\",\"#B0BEC5\",\"#B0BEC5\",\"#B0BEC5\",\"#B0BEC5\",\"#B0BEC5\"]]}],\"label\":\"Topic 39\",\"method\":\"update\"},{\"args\":[{\"marker.color\":[[\"#B0BEC5\",\"#B0BEC5\",\"#B0BEC5\",\"#B0BEC5\",\"#B0BEC5\",\"#B0BEC5\",\"#B0BEC5\",\"#B0BEC5\",\"#B0BEC5\",\"#B0BEC5\",\"#B0BEC5\",\"#B0BEC5\",\"#B0BEC5\",\"#B0BEC5\",\"#B0BEC5\",\"#B0BEC5\",\"#B0BEC5\",\"#B0BEC5\",\"#B0BEC5\",\"#B0BEC5\",\"#B0BEC5\",\"#B0BEC5\",\"#B0BEC5\",\"#B0BEC5\",\"#B0BEC5\",\"#B0BEC5\",\"#B0BEC5\",\"#B0BEC5\",\"#B0BEC5\",\"#B0BEC5\",\"#B0BEC5\",\"#B0BEC5\",\"#B0BEC5\",\"#B0BEC5\",\"#B0BEC5\",\"#B0BEC5\",\"#B0BEC5\",\"#B0BEC5\",\"#B0BEC5\",\"#B0BEC5\",\"red\",\"#B0BEC5\",\"#B0BEC5\",\"#B0BEC5\",\"#B0BEC5\",\"#B0BEC5\",\"#B0BEC5\",\"#B0BEC5\",\"#B0BEC5\",\"#B0BEC5\",\"#B0BEC5\",\"#B0BEC5\"]]}],\"label\":\"Topic 40\",\"method\":\"update\"},{\"args\":[{\"marker.color\":[[\"#B0BEC5\",\"#B0BEC5\",\"#B0BEC5\",\"#B0BEC5\",\"#B0BEC5\",\"#B0BEC5\",\"#B0BEC5\",\"#B0BEC5\",\"#B0BEC5\",\"#B0BEC5\",\"#B0BEC5\",\"#B0BEC5\",\"#B0BEC5\",\"#B0BEC5\",\"#B0BEC5\",\"#B0BEC5\",\"#B0BEC5\",\"#B0BEC5\",\"#B0BEC5\",\"#B0BEC5\",\"#B0BEC5\",\"#B0BEC5\",\"#B0BEC5\",\"#B0BEC5\",\"#B0BEC5\",\"#B0BEC5\",\"#B0BEC5\",\"#B0BEC5\",\"#B0BEC5\",\"#B0BEC5\",\"#B0BEC5\",\"#B0BEC5\",\"#B0BEC5\",\"#B0BEC5\",\"#B0BEC5\",\"#B0BEC5\",\"#B0BEC5\",\"#B0BEC5\",\"#B0BEC5\",\"#B0BEC5\",\"#B0BEC5\",\"red\",\"#B0BEC5\",\"#B0BEC5\",\"#B0BEC5\",\"#B0BEC5\",\"#B0BEC5\",\"#B0BEC5\",\"#B0BEC5\",\"#B0BEC5\",\"#B0BEC5\",\"#B0BEC5\"]]}],\"label\":\"Topic 41\",\"method\":\"update\"},{\"args\":[{\"marker.color\":[[\"#B0BEC5\",\"#B0BEC5\",\"#B0BEC5\",\"#B0BEC5\",\"#B0BEC5\",\"#B0BEC5\",\"#B0BEC5\",\"#B0BEC5\",\"#B0BEC5\",\"#B0BEC5\",\"#B0BEC5\",\"#B0BEC5\",\"#B0BEC5\",\"#B0BEC5\",\"#B0BEC5\",\"#B0BEC5\",\"#B0BEC5\",\"#B0BEC5\",\"#B0BEC5\",\"#B0BEC5\",\"#B0BEC5\",\"#B0BEC5\",\"#B0BEC5\",\"#B0BEC5\",\"#B0BEC5\",\"#B0BEC5\",\"#B0BEC5\",\"#B0BEC5\",\"#B0BEC5\",\"#B0BEC5\",\"#B0BEC5\",\"#B0BEC5\",\"#B0BEC5\",\"#B0BEC5\",\"#B0BEC5\",\"#B0BEC5\",\"#B0BEC5\",\"#B0BEC5\",\"#B0BEC5\",\"#B0BEC5\",\"#B0BEC5\",\"#B0BEC5\",\"red\",\"#B0BEC5\",\"#B0BEC5\",\"#B0BEC5\",\"#B0BEC5\",\"#B0BEC5\",\"#B0BEC5\",\"#B0BEC5\",\"#B0BEC5\",\"#B0BEC5\"]]}],\"label\":\"Topic 42\",\"method\":\"update\"},{\"args\":[{\"marker.color\":[[\"#B0BEC5\",\"#B0BEC5\",\"#B0BEC5\",\"#B0BEC5\",\"#B0BEC5\",\"#B0BEC5\",\"#B0BEC5\",\"#B0BEC5\",\"#B0BEC5\",\"#B0BEC5\",\"#B0BEC5\",\"#B0BEC5\",\"#B0BEC5\",\"#B0BEC5\",\"#B0BEC5\",\"#B0BEC5\",\"#B0BEC5\",\"#B0BEC5\",\"#B0BEC5\",\"#B0BEC5\",\"#B0BEC5\",\"#B0BEC5\",\"#B0BEC5\",\"#B0BEC5\",\"#B0BEC5\",\"#B0BEC5\",\"#B0BEC5\",\"#B0BEC5\",\"#B0BEC5\",\"#B0BEC5\",\"#B0BEC5\",\"#B0BEC5\",\"#B0BEC5\",\"#B0BEC5\",\"#B0BEC5\",\"#B0BEC5\",\"#B0BEC5\",\"#B0BEC5\",\"#B0BEC5\",\"#B0BEC5\",\"#B0BEC5\",\"#B0BEC5\",\"#B0BEC5\",\"red\",\"#B0BEC5\",\"#B0BEC5\",\"#B0BEC5\",\"#B0BEC5\",\"#B0BEC5\",\"#B0BEC5\",\"#B0BEC5\",\"#B0BEC5\"]]}],\"label\":\"Topic 43\",\"method\":\"update\"},{\"args\":[{\"marker.color\":[[\"#B0BEC5\",\"#B0BEC5\",\"#B0BEC5\",\"#B0BEC5\",\"#B0BEC5\",\"#B0BEC5\",\"#B0BEC5\",\"#B0BEC5\",\"#B0BEC5\",\"#B0BEC5\",\"#B0BEC5\",\"#B0BEC5\",\"#B0BEC5\",\"#B0BEC5\",\"#B0BEC5\",\"#B0BEC5\",\"#B0BEC5\",\"#B0BEC5\",\"#B0BEC5\",\"#B0BEC5\",\"#B0BEC5\",\"#B0BEC5\",\"#B0BEC5\",\"#B0BEC5\",\"#B0BEC5\",\"#B0BEC5\",\"#B0BEC5\",\"#B0BEC5\",\"#B0BEC5\",\"#B0BEC5\",\"#B0BEC5\",\"#B0BEC5\",\"#B0BEC5\",\"#B0BEC5\",\"#B0BEC5\",\"#B0BEC5\",\"#B0BEC5\",\"#B0BEC5\",\"#B0BEC5\",\"#B0BEC5\",\"#B0BEC5\",\"#B0BEC5\",\"#B0BEC5\",\"#B0BEC5\",\"red\",\"#B0BEC5\",\"#B0BEC5\",\"#B0BEC5\",\"#B0BEC5\",\"#B0BEC5\",\"#B0BEC5\",\"#B0BEC5\"]]}],\"label\":\"Topic 44\",\"method\":\"update\"},{\"args\":[{\"marker.color\":[[\"#B0BEC5\",\"#B0BEC5\",\"#B0BEC5\",\"#B0BEC5\",\"#B0BEC5\",\"#B0BEC5\",\"#B0BEC5\",\"#B0BEC5\",\"#B0BEC5\",\"#B0BEC5\",\"#B0BEC5\",\"#B0BEC5\",\"#B0BEC5\",\"#B0BEC5\",\"#B0BEC5\",\"#B0BEC5\",\"#B0BEC5\",\"#B0BEC5\",\"#B0BEC5\",\"#B0BEC5\",\"#B0BEC5\",\"#B0BEC5\",\"#B0BEC5\",\"#B0BEC5\",\"#B0BEC5\",\"#B0BEC5\",\"#B0BEC5\",\"#B0BEC5\",\"#B0BEC5\",\"#B0BEC5\",\"#B0BEC5\",\"#B0BEC5\",\"#B0BEC5\",\"#B0BEC5\",\"#B0BEC5\",\"#B0BEC5\",\"#B0BEC5\",\"#B0BEC5\",\"#B0BEC5\",\"#B0BEC5\",\"#B0BEC5\",\"#B0BEC5\",\"#B0BEC5\",\"#B0BEC5\",\"#B0BEC5\",\"red\",\"#B0BEC5\",\"#B0BEC5\",\"#B0BEC5\",\"#B0BEC5\",\"#B0BEC5\",\"#B0BEC5\"]]}],\"label\":\"Topic 45\",\"method\":\"update\"},{\"args\":[{\"marker.color\":[[\"#B0BEC5\",\"#B0BEC5\",\"#B0BEC5\",\"#B0BEC5\",\"#B0BEC5\",\"#B0BEC5\",\"#B0BEC5\",\"#B0BEC5\",\"#B0BEC5\",\"#B0BEC5\",\"#B0BEC5\",\"#B0BEC5\",\"#B0BEC5\",\"#B0BEC5\",\"#B0BEC5\",\"#B0BEC5\",\"#B0BEC5\",\"#B0BEC5\",\"#B0BEC5\",\"#B0BEC5\",\"#B0BEC5\",\"#B0BEC5\",\"#B0BEC5\",\"#B0BEC5\",\"#B0BEC5\",\"#B0BEC5\",\"#B0BEC5\",\"#B0BEC5\",\"#B0BEC5\",\"#B0BEC5\",\"#B0BEC5\",\"#B0BEC5\",\"#B0BEC5\",\"#B0BEC5\",\"#B0BEC5\",\"#B0BEC5\",\"#B0BEC5\",\"#B0BEC5\",\"#B0BEC5\",\"#B0BEC5\",\"#B0BEC5\",\"#B0BEC5\",\"#B0BEC5\",\"#B0BEC5\",\"#B0BEC5\",\"#B0BEC5\",\"red\",\"#B0BEC5\",\"#B0BEC5\",\"#B0BEC5\",\"#B0BEC5\",\"#B0BEC5\"]]}],\"label\":\"Topic 46\",\"method\":\"update\"},{\"args\":[{\"marker.color\":[[\"#B0BEC5\",\"#B0BEC5\",\"#B0BEC5\",\"#B0BEC5\",\"#B0BEC5\",\"#B0BEC5\",\"#B0BEC5\",\"#B0BEC5\",\"#B0BEC5\",\"#B0BEC5\",\"#B0BEC5\",\"#B0BEC5\",\"#B0BEC5\",\"#B0BEC5\",\"#B0BEC5\",\"#B0BEC5\",\"#B0BEC5\",\"#B0BEC5\",\"#B0BEC5\",\"#B0BEC5\",\"#B0BEC5\",\"#B0BEC5\",\"#B0BEC5\",\"#B0BEC5\",\"#B0BEC5\",\"#B0BEC5\",\"#B0BEC5\",\"#B0BEC5\",\"#B0BEC5\",\"#B0BEC5\",\"#B0BEC5\",\"#B0BEC5\",\"#B0BEC5\",\"#B0BEC5\",\"#B0BEC5\",\"#B0BEC5\",\"#B0BEC5\",\"#B0BEC5\",\"#B0BEC5\",\"#B0BEC5\",\"#B0BEC5\",\"#B0BEC5\",\"#B0BEC5\",\"#B0BEC5\",\"#B0BEC5\",\"#B0BEC5\",\"#B0BEC5\",\"red\",\"#B0BEC5\",\"#B0BEC5\",\"#B0BEC5\",\"#B0BEC5\"]]}],\"label\":\"Topic 47\",\"method\":\"update\"},{\"args\":[{\"marker.color\":[[\"#B0BEC5\",\"#B0BEC5\",\"#B0BEC5\",\"#B0BEC5\",\"#B0BEC5\",\"#B0BEC5\",\"#B0BEC5\",\"#B0BEC5\",\"#B0BEC5\",\"#B0BEC5\",\"#B0BEC5\",\"#B0BEC5\",\"#B0BEC5\",\"#B0BEC5\",\"#B0BEC5\",\"#B0BEC5\",\"#B0BEC5\",\"#B0BEC5\",\"#B0BEC5\",\"#B0BEC5\",\"#B0BEC5\",\"#B0BEC5\",\"#B0BEC5\",\"#B0BEC5\",\"#B0BEC5\",\"#B0BEC5\",\"#B0BEC5\",\"#B0BEC5\",\"#B0BEC5\",\"#B0BEC5\",\"#B0BEC5\",\"#B0BEC5\",\"#B0BEC5\",\"#B0BEC5\",\"#B0BEC5\",\"#B0BEC5\",\"#B0BEC5\",\"#B0BEC5\",\"#B0BEC5\",\"#B0BEC5\",\"#B0BEC5\",\"#B0BEC5\",\"#B0BEC5\",\"#B0BEC5\",\"#B0BEC5\",\"#B0BEC5\",\"#B0BEC5\",\"#B0BEC5\",\"red\",\"#B0BEC5\",\"#B0BEC5\",\"#B0BEC5\"]]}],\"label\":\"Topic 48\",\"method\":\"update\"},{\"args\":[{\"marker.color\":[[\"#B0BEC5\",\"#B0BEC5\",\"#B0BEC5\",\"#B0BEC5\",\"#B0BEC5\",\"#B0BEC5\",\"#B0BEC5\",\"#B0BEC5\",\"#B0BEC5\",\"#B0BEC5\",\"#B0BEC5\",\"#B0BEC5\",\"#B0BEC5\",\"#B0BEC5\",\"#B0BEC5\",\"#B0BEC5\",\"#B0BEC5\",\"#B0BEC5\",\"#B0BEC5\",\"#B0BEC5\",\"#B0BEC5\",\"#B0BEC5\",\"#B0BEC5\",\"#B0BEC5\",\"#B0BEC5\",\"#B0BEC5\",\"#B0BEC5\",\"#B0BEC5\",\"#B0BEC5\",\"#B0BEC5\",\"#B0BEC5\",\"#B0BEC5\",\"#B0BEC5\",\"#B0BEC5\",\"#B0BEC5\",\"#B0BEC5\",\"#B0BEC5\",\"#B0BEC5\",\"#B0BEC5\",\"#B0BEC5\",\"#B0BEC5\",\"#B0BEC5\",\"#B0BEC5\",\"#B0BEC5\",\"#B0BEC5\",\"#B0BEC5\",\"#B0BEC5\",\"#B0BEC5\",\"#B0BEC5\",\"red\",\"#B0BEC5\",\"#B0BEC5\"]]}],\"label\":\"Topic 49\",\"method\":\"update\"},{\"args\":[{\"marker.color\":[[\"#B0BEC5\",\"#B0BEC5\",\"#B0BEC5\",\"#B0BEC5\",\"#B0BEC5\",\"#B0BEC5\",\"#B0BEC5\",\"#B0BEC5\",\"#B0BEC5\",\"#B0BEC5\",\"#B0BEC5\",\"#B0BEC5\",\"#B0BEC5\",\"#B0BEC5\",\"#B0BEC5\",\"#B0BEC5\",\"#B0BEC5\",\"#B0BEC5\",\"#B0BEC5\",\"#B0BEC5\",\"#B0BEC5\",\"#B0BEC5\",\"#B0BEC5\",\"#B0BEC5\",\"#B0BEC5\",\"#B0BEC5\",\"#B0BEC5\",\"#B0BEC5\",\"#B0BEC5\",\"#B0BEC5\",\"#B0BEC5\",\"#B0BEC5\",\"#B0BEC5\",\"#B0BEC5\",\"#B0BEC5\",\"#B0BEC5\",\"#B0BEC5\",\"#B0BEC5\",\"#B0BEC5\",\"#B0BEC5\",\"#B0BEC5\",\"#B0BEC5\",\"#B0BEC5\",\"#B0BEC5\",\"#B0BEC5\",\"#B0BEC5\",\"#B0BEC5\",\"#B0BEC5\",\"#B0BEC5\",\"#B0BEC5\",\"red\",\"#B0BEC5\"]]}],\"label\":\"Topic 50\",\"method\":\"update\"},{\"args\":[{\"marker.color\":[[\"#B0BEC5\",\"#B0BEC5\",\"#B0BEC5\",\"#B0BEC5\",\"#B0BEC5\",\"#B0BEC5\",\"#B0BEC5\",\"#B0BEC5\",\"#B0BEC5\",\"#B0BEC5\",\"#B0BEC5\",\"#B0BEC5\",\"#B0BEC5\",\"#B0BEC5\",\"#B0BEC5\",\"#B0BEC5\",\"#B0BEC5\",\"#B0BEC5\",\"#B0BEC5\",\"#B0BEC5\",\"#B0BEC5\",\"#B0BEC5\",\"#B0BEC5\",\"#B0BEC5\",\"#B0BEC5\",\"#B0BEC5\",\"#B0BEC5\",\"#B0BEC5\",\"#B0BEC5\",\"#B0BEC5\",\"#B0BEC5\",\"#B0BEC5\",\"#B0BEC5\",\"#B0BEC5\",\"#B0BEC5\",\"#B0BEC5\",\"#B0BEC5\",\"#B0BEC5\",\"#B0BEC5\",\"#B0BEC5\",\"#B0BEC5\",\"#B0BEC5\",\"#B0BEC5\",\"#B0BEC5\",\"#B0BEC5\",\"#B0BEC5\",\"#B0BEC5\",\"#B0BEC5\",\"#B0BEC5\",\"#B0BEC5\",\"#B0BEC5\",\"red\"]]}],\"label\":\"Topic 51\",\"method\":\"update\"}]}],\"shapes\":[{\"line\":{\"color\":\"#CFD8DC\",\"width\":2},\"type\":\"line\",\"x0\":3.7836968183517445,\"x1\":3.7836968183517445,\"y0\":-7.5723223209381105,\"y1\":31.33605890274048},{\"line\":{\"color\":\"#9E9E9E\",\"width\":2},\"type\":\"line\",\"x0\":-9.497759866714478,\"x1\":17.065153503417967,\"y0\":11.881868290901185,\"y1\":11.881868290901185}],\"annotations\":[{\"showarrow\":false,\"text\":\"D1\",\"x\":-9.497759866714478,\"y\":11.881868290901185,\"yshift\":10},{\"showarrow\":false,\"text\":\"D2\",\"x\":3.7836968183517445,\"xshift\":10,\"y\":31.33605890274048}]},                        {\"responsive\": true}                    ).then(function(){\n",
              "                            \n",
              "var gd = document.getElementById('e9fdff79-171c-41d2-9682-ae7dcc3d1b6f');\n",
              "var x = new MutationObserver(function (mutations, observer) {{\n",
              "        var display = window.getComputedStyle(gd).display;\n",
              "        if (!display || display === 'none') {{\n",
              "            console.log([gd, 'removed!']);\n",
              "            Plotly.purge(gd);\n",
              "            observer.disconnect();\n",
              "        }}\n",
              "}});\n",
              "\n",
              "// Listen for the removal of the full notebook cells\n",
              "var notebookContainer = gd.closest('#notebook-container');\n",
              "if (notebookContainer) {{\n",
              "    x.observe(notebookContainer, {childList: true});\n",
              "}}\n",
              "\n",
              "// Listen for the clearing of the current output cell\n",
              "var outputEl = gd.closest('.output');\n",
              "if (outputEl) {{\n",
              "    x.observe(outputEl, {childList: true});\n",
              "}}\n",
              "\n",
              "                        })                };                            </script>        </div>\n",
              "</body>\n",
              "</html>"
            ]
          },
          "metadata": {}
        }
      ],
      "source": [
        "topic_model.visualize_topics()"
      ]
    },
    {
      "cell_type": "markdown",
      "source": [
        "Intertopic distance map measures the distance between topics. Similar topics are closer to each other, and very different topics are far from each other. From the visualization, we can see that there are eight topic groups for all the topics. Topics with similar semantic meanings are in the same topic group.\n",
        "\n",
        "The size of the circle represents the number of documents in the topics, and larger circles mean that more reviews belong to the topic."
      ],
      "metadata": {
        "id": "24DzcHBVBGp8"
      }
    },
    {
      "cell_type": "markdown",
      "metadata": {
        "id": "uoZCjXAbAwL0"
      },
      "source": [
        "### Visualize Topic Hierarchy"
      ]
    },
    {
      "cell_type": "markdown",
      "metadata": {
        "id": "mkN54tYcA00S"
      },
      "source": [
        "The topics that were created can be hierarchically reduced. In order to understand the potential hierarchical structure of the topics, we can use scipy.cluster.hierarchy to create clusters and visualize how they relate to one another. This might help selecting an appropriate nr_topics when reducing the number of topics that you have created."
      ]
    },
    {
      "cell_type": "code",
      "execution_count": null,
      "metadata": {
        "colab": {
          "base_uri": "https://localhost:8080/",
          "height": 967
        },
        "id": "iFsqudhHA64s",
        "outputId": "87ae3a34-423f-4b7b-da69-6c8a7aaef119"
      },
      "outputs": [
        {
          "output_type": "display_data",
          "data": {
            "text/html": [
              "<html>\n",
              "<head><meta charset=\"utf-8\" /></head>\n",
              "<body>\n",
              "    <div>            <script src=\"https://cdnjs.cloudflare.com/ajax/libs/mathjax/2.7.5/MathJax.js?config=TeX-AMS-MML_SVG\"></script><script type=\"text/javascript\">if (window.MathJax && window.MathJax.Hub && window.MathJax.Hub.Config) {window.MathJax.Hub.Config({SVG: {font: \"STIX-Web\"}});}</script>                <script type=\"text/javascript\">window.PlotlyConfig = {MathJaxConfig: 'local'};</script>\n",
              "        <script src=\"https://cdn.plot.ly/plotly-2.18.2.min.js\"></script>                <div id=\"61c63faf-21ea-4126-8061-f5cbdeb60cd9\" class=\"plotly-graph-div\" style=\"height:950px; width:1000px;\"></div>            <script type=\"text/javascript\">                                    window.PLOTLYENV=window.PLOTLYENV || {};                                    if (document.getElementById(\"61c63faf-21ea-4126-8061-f5cbdeb60cd9\")) {                    Plotly.newPlot(                        \"61c63faf-21ea-4126-8061-f5cbdeb60cd9\",                        [{\"hoverinfo\":\"text\",\"marker\":{\"color\":\"rgb(61,153,112)\"},\"mode\":\"lines\",\"x\":[0.0,0.7238688487248849,0.7238688487248849,0.0],\"xaxis\":\"x\",\"y\":[-15.0,-15.0,-25.0,-25.0],\"yaxis\":\"y\",\"type\":\"scatter\"},{\"hoverinfo\":\"text\",\"marker\":{\"color\":\"rgb(61,153,112)\"},\"mode\":\"lines\",\"x\":[0.0,0.756317690110085,0.756317690110085,0.0],\"xaxis\":\"x\",\"y\":[-35.0,-35.0,-45.0,-45.0],\"yaxis\":\"y\",\"type\":\"scatter\"},{\"hoverinfo\":\"text\",\"marker\":{\"color\":\"rgb(61,153,112)\"},\"mode\":\"lines\",\"x\":[0.756317690110085,0.8329020047389122,0.8329020047389122,0.0],\"xaxis\":\"x\",\"y\":[-40.0,-40.0,-55.0,-55.0],\"yaxis\":\"y\",\"type\":\"scatter\"},{\"hoverinfo\":\"text\",\"marker\":{\"color\":\"rgb(61,153,112)\"},\"mode\":\"lines\",\"x\":[0.7238688487248849,0.9150333308332588,0.9150333308332588,0.8329020047389122],\"xaxis\":\"x\",\"y\":[-20.0,-20.0,-47.5,-47.5],\"yaxis\":\"y\",\"type\":\"scatter\"},{\"hoverinfo\":\"text\",\"marker\":{\"color\":\"rgb(0,116,217)\"},\"mode\":\"lines\",\"x\":[0.0,1.0985228793673147,1.0985228793673147,0.9150333308332588],\"xaxis\":\"x\",\"y\":[-5.0,-5.0,-33.75,-33.75],\"yaxis\":\"y\",\"type\":\"scatter\"},{\"hoverinfo\":\"text\",\"marker\":{\"color\":\"rgb(255,65,54)\"},\"mode\":\"lines\",\"x\":[0.0,0.7430545555943003,0.7430545555943003,0.0],\"xaxis\":\"x\",\"y\":[-65.0,-65.0,-75.0,-75.0],\"yaxis\":\"y\",\"type\":\"scatter\"},{\"hoverinfo\":\"text\",\"marker\":{\"color\":\"rgb(255,65,54)\"},\"mode\":\"lines\",\"x\":[0.0,0.5891419179418795,0.5891419179418795,0.0],\"xaxis\":\"x\",\"y\":[-105.0,-105.0,-115.0,-115.0],\"yaxis\":\"y\",\"type\":\"scatter\"},{\"hoverinfo\":\"text\",\"marker\":{\"color\":\"rgb(255,65,54)\"},\"mode\":\"lines\",\"x\":[0.0,0.7157524086885024,0.7157524086885024,0.5891419179418795],\"xaxis\":\"x\",\"y\":[-95.0,-95.0,-110.0,-110.0],\"yaxis\":\"y\",\"type\":\"scatter\"},{\"hoverinfo\":\"text\",\"marker\":{\"color\":\"rgb(255,65,54)\"},\"mode\":\"lines\",\"x\":[0.7157524086885024,0.8607923649674523,0.8607923649674523,0.0],\"xaxis\":\"x\",\"y\":[-102.5,-102.5,-125.0,-125.0],\"yaxis\":\"y\",\"type\":\"scatter\"},{\"hoverinfo\":\"text\",\"marker\":{\"color\":\"rgb(255,65,54)\"},\"mode\":\"lines\",\"x\":[0.0,0.8703450389934074,0.8703450389934074,0.8607923649674523],\"xaxis\":\"x\",\"y\":[-85.0,-85.0,-113.75,-113.75],\"yaxis\":\"y\",\"type\":\"scatter\"},{\"hoverinfo\":\"text\",\"marker\":{\"color\":\"rgb(255,65,54)\"},\"mode\":\"lines\",\"x\":[0.8703450389934074,0.9425634720926407,0.9425634720926407,0.0],\"xaxis\":\"x\",\"y\":[-99.375,-99.375,-135.0,-135.0],\"yaxis\":\"y\",\"type\":\"scatter\"},{\"hoverinfo\":\"text\",\"marker\":{\"color\":\"rgb(255,65,54)\"},\"mode\":\"lines\",\"x\":[0.7430545555943003,0.9703702882366066,0.9703702882366066,0.9425634720926407],\"xaxis\":\"x\",\"y\":[-70.0,-70.0,-117.1875,-117.1875],\"yaxis\":\"y\",\"type\":\"scatter\"},{\"hoverinfo\":\"text\",\"marker\":{\"color\":\"rgb(0,116,217)\"},\"mode\":\"lines\",\"x\":[1.0985228793673147,1.1290893362997236,1.1290893362997236,0.9703702882366066],\"xaxis\":\"x\",\"y\":[-19.375,-19.375,-93.59375,-93.59375],\"yaxis\":\"y\",\"type\":\"scatter\"},{\"hoverinfo\":\"text\",\"marker\":{\"color\":\"rgb(35,205,205)\"},\"mode\":\"lines\",\"x\":[0.0,0.6655023349388225,0.6655023349388225,0.0],\"xaxis\":\"x\",\"y\":[-145.0,-145.0,-155.0,-155.0],\"yaxis\":\"y\",\"type\":\"scatter\"},{\"hoverinfo\":\"text\",\"marker\":{\"color\":\"rgb(35,205,205)\"},\"mode\":\"lines\",\"x\":[0.0,0.6841111795260693,0.6841111795260693,0.0],\"xaxis\":\"x\",\"y\":[-165.0,-165.0,-175.0,-175.0],\"yaxis\":\"y\",\"type\":\"scatter\"},{\"hoverinfo\":\"text\",\"marker\":{\"color\":\"rgb(35,205,205)\"},\"mode\":\"lines\",\"x\":[0.0,0.6533888826751122,0.6533888826751122,0.0],\"xaxis\":\"x\",\"y\":[-185.0,-185.0,-195.0,-195.0],\"yaxis\":\"y\",\"type\":\"scatter\"},{\"hoverinfo\":\"text\",\"marker\":{\"color\":\"rgb(35,205,205)\"},\"mode\":\"lines\",\"x\":[0.6533888826751122,0.6967492777481676,0.6967492777481676,0.0],\"xaxis\":\"x\",\"y\":[-190.0,-190.0,-205.0,-205.0],\"yaxis\":\"y\",\"type\":\"scatter\"},{\"hoverinfo\":\"text\",\"marker\":{\"color\":\"rgb(35,205,205)\"},\"mode\":\"lines\",\"x\":[0.6841111795260693,0.7238826642496373,0.7238826642496373,0.6967492777481676],\"xaxis\":\"x\",\"y\":[-170.0,-170.0,-197.5,-197.5],\"yaxis\":\"y\",\"type\":\"scatter\"},{\"hoverinfo\":\"text\",\"marker\":{\"color\":\"rgb(35,205,205)\"},\"mode\":\"lines\",\"x\":[0.0,0.4730083925938362,0.4730083925938362,0.0],\"xaxis\":\"x\",\"y\":[-225.0,-225.0,-235.0,-235.0],\"yaxis\":\"y\",\"type\":\"scatter\"},{\"hoverinfo\":\"text\",\"marker\":{\"color\":\"rgb(35,205,205)\"},\"mode\":\"lines\",\"x\":[0.4730083925938362,0.5375291762474417,0.5375291762474417,0.0],\"xaxis\":\"x\",\"y\":[-230.0,-230.0,-245.0,-245.0],\"yaxis\":\"y\",\"type\":\"scatter\"},{\"hoverinfo\":\"text\",\"marker\":{\"color\":\"rgb(35,205,205)\"},\"mode\":\"lines\",\"x\":[0.0,0.5627720541049142,0.5627720541049142,0.5375291762474417],\"xaxis\":\"x\",\"y\":[-215.0,-215.0,-237.5,-237.5],\"yaxis\":\"y\",\"type\":\"scatter\"},{\"hoverinfo\":\"text\",\"marker\":{\"color\":\"rgb(35,205,205)\"},\"mode\":\"lines\",\"x\":[0.7238826642496373,0.7759865564812674,0.7759865564812674,0.5627720541049142],\"xaxis\":\"x\",\"y\":[-183.75,-183.75,-226.25,-226.25],\"yaxis\":\"y\",\"type\":\"scatter\"},{\"hoverinfo\":\"text\",\"marker\":{\"color\":\"rgb(35,205,205)\"},\"mode\":\"lines\",\"x\":[0.0,0.4938185930759703,0.4938185930759703,0.0],\"xaxis\":\"x\",\"y\":[-265.0,-265.0,-275.0,-275.0],\"yaxis\":\"y\",\"type\":\"scatter\"},{\"hoverinfo\":\"text\",\"marker\":{\"color\":\"rgb(35,205,205)\"},\"mode\":\"lines\",\"x\":[0.0,0.3774406815549317,0.3774406815549317,0.0],\"xaxis\":\"x\",\"y\":[-295.0,-295.0,-305.0,-305.0],\"yaxis\":\"y\",\"type\":\"scatter\"},{\"hoverinfo\":\"text\",\"marker\":{\"color\":\"rgb(35,205,205)\"},\"mode\":\"lines\",\"x\":[0.0,0.466158194877113,0.466158194877113,0.3774406815549317],\"xaxis\":\"x\",\"y\":[-285.0,-285.0,-300.0,-300.0],\"yaxis\":\"y\",\"type\":\"scatter\"},{\"hoverinfo\":\"text\",\"marker\":{\"color\":\"rgb(35,205,205)\"},\"mode\":\"lines\",\"x\":[0.466158194877113,0.4748070194385244,0.4748070194385244,0.0],\"xaxis\":\"x\",\"y\":[-292.5,-292.5,-315.0,-315.0],\"yaxis\":\"y\",\"type\":\"scatter\"},{\"hoverinfo\":\"text\",\"marker\":{\"color\":\"rgb(35,205,205)\"},\"mode\":\"lines\",\"x\":[0.4938185930759703,0.5323398212172655,0.5323398212172655,0.4748070194385244],\"xaxis\":\"x\",\"y\":[-270.0,-270.0,-303.75,-303.75],\"yaxis\":\"y\",\"type\":\"scatter\"},{\"hoverinfo\":\"text\",\"marker\":{\"color\":\"rgb(35,205,205)\"},\"mode\":\"lines\",\"x\":[0.5323398212172655,0.5618762790374353,0.5618762790374353,0.0],\"xaxis\":\"x\",\"y\":[-286.875,-286.875,-325.0,-325.0],\"yaxis\":\"y\",\"type\":\"scatter\"},{\"hoverinfo\":\"text\",\"marker\":{\"color\":\"rgb(35,205,205)\"},\"mode\":\"lines\",\"x\":[0.0,0.6235633406468762,0.6235633406468762,0.5618762790374353],\"xaxis\":\"x\",\"y\":[-255.0,-255.0,-305.9375,-305.9375],\"yaxis\":\"y\",\"type\":\"scatter\"},{\"hoverinfo\":\"text\",\"marker\":{\"color\":\"rgb(35,205,205)\"},\"mode\":\"lines\",\"x\":[0.6235633406468762,0.6333045743179794,0.6333045743179794,0.0],\"xaxis\":\"x\",\"y\":[-280.46875,-280.46875,-335.0,-335.0],\"yaxis\":\"y\",\"type\":\"scatter\"},{\"hoverinfo\":\"text\",\"marker\":{\"color\":\"rgb(35,205,205)\"},\"mode\":\"lines\",\"x\":[0.6333045743179794,0.6417199582485251,0.6417199582485251,0.0],\"xaxis\":\"x\",\"y\":[-307.734375,-307.734375,-345.0,-345.0],\"yaxis\":\"y\",\"type\":\"scatter\"},{\"hoverinfo\":\"text\",\"marker\":{\"color\":\"rgb(35,205,205)\"},\"mode\":\"lines\",\"x\":[0.7759865564812674,0.7892241187537232,0.7892241187537232,0.6417199582485251],\"xaxis\":\"x\",\"y\":[-205.0,-205.0,-326.3671875,-326.3671875],\"yaxis\":\"y\",\"type\":\"scatter\"},{\"hoverinfo\":\"text\",\"marker\":{\"color\":\"rgb(35,205,205)\"},\"mode\":\"lines\",\"x\":[0.0,0.649832491420927,0.649832491420927,0.0],\"xaxis\":\"x\",\"y\":[-365.0,-365.0,-375.0,-375.0],\"yaxis\":\"y\",\"type\":\"scatter\"},{\"hoverinfo\":\"text\",\"marker\":{\"color\":\"rgb(35,205,205)\"},\"mode\":\"lines\",\"x\":[0.0,0.6743021084383458,0.6743021084383458,0.649832491420927],\"xaxis\":\"x\",\"y\":[-355.0,-355.0,-370.0,-370.0],\"yaxis\":\"y\",\"type\":\"scatter\"},{\"hoverinfo\":\"text\",\"marker\":{\"color\":\"rgb(35,205,205)\"},\"mode\":\"lines\",\"x\":[0.7892241187537232,0.8578864119124089,0.8578864119124089,0.6743021084383458],\"xaxis\":\"x\",\"y\":[-265.68359375,-265.68359375,-362.5,-362.5],\"yaxis\":\"y\",\"type\":\"scatter\"},{\"hoverinfo\":\"text\",\"marker\":{\"color\":\"rgb(35,205,205)\"},\"mode\":\"lines\",\"x\":[0.6655023349388225,0.9218139341488806,0.9218139341488806,0.8578864119124089],\"xaxis\":\"x\",\"y\":[-150.0,-150.0,-314.091796875,-314.091796875],\"yaxis\":\"y\",\"type\":\"scatter\"},{\"hoverinfo\":\"text\",\"marker\":{\"color\":\"rgb(133,20,75)\"},\"mode\":\"lines\",\"x\":[0.0,0.4330545455142454,0.4330545455142454,0.0],\"xaxis\":\"x\",\"y\":[-395.0,-395.0,-405.0,-405.0],\"yaxis\":\"y\",\"type\":\"scatter\"},{\"hoverinfo\":\"text\",\"marker\":{\"color\":\"rgb(133,20,75)\"},\"mode\":\"lines\",\"x\":[0.0,0.5691403737838368,0.5691403737838368,0.4330545455142454],\"xaxis\":\"x\",\"y\":[-385.0,-385.0,-400.0,-400.0],\"yaxis\":\"y\",\"type\":\"scatter\"},{\"hoverinfo\":\"text\",\"marker\":{\"color\":\"rgb(133,20,75)\"},\"mode\":\"lines\",\"x\":[0.0,0.6672829675383416,0.6672829675383416,0.0],\"xaxis\":\"x\",\"y\":[-415.0,-415.0,-425.0,-425.0],\"yaxis\":\"y\",\"type\":\"scatter\"},{\"hoverinfo\":\"text\",\"marker\":{\"color\":\"rgb(133,20,75)\"},\"mode\":\"lines\",\"x\":[0.5691403737838368,0.8437814035557976,0.8437814035557976,0.6672829675383416],\"xaxis\":\"x\",\"y\":[-392.5,-392.5,-420.0,-420.0],\"yaxis\":\"y\",\"type\":\"scatter\"},{\"hoverinfo\":\"text\",\"marker\":{\"color\":\"rgb(255,220,0)\"},\"mode\":\"lines\",\"x\":[0.0,0.3439168009823048,0.3439168009823048,0.0],\"xaxis\":\"x\",\"y\":[-465.0,-465.0,-475.0,-475.0],\"yaxis\":\"y\",\"type\":\"scatter\"},{\"hoverinfo\":\"text\",\"marker\":{\"color\":\"rgb(255,220,0)\"},\"mode\":\"lines\",\"x\":[0.0,0.5221403862332049,0.5221403862332049,0.3439168009823048],\"xaxis\":\"x\",\"y\":[-455.0,-455.0,-470.0,-470.0],\"yaxis\":\"y\",\"type\":\"scatter\"},{\"hoverinfo\":\"text\",\"marker\":{\"color\":\"rgb(255,220,0)\"},\"mode\":\"lines\",\"x\":[0.5221403862332049,0.5921343454909245,0.5921343454909245,0.0],\"xaxis\":\"x\",\"y\":[-462.5,-462.5,-485.0,-485.0],\"yaxis\":\"y\",\"type\":\"scatter\"},{\"hoverinfo\":\"text\",\"marker\":{\"color\":\"rgb(255,220,0)\"},\"mode\":\"lines\",\"x\":[0.0,0.6330086161758235,0.6330086161758235,0.5921343454909245],\"xaxis\":\"x\",\"y\":[-445.0,-445.0,-473.75,-473.75],\"yaxis\":\"y\",\"type\":\"scatter\"},{\"hoverinfo\":\"text\",\"marker\":{\"color\":\"rgb(255,220,0)\"},\"mode\":\"lines\",\"x\":[0.0,0.6652685434147569,0.6652685434147569,0.6330086161758235],\"xaxis\":\"x\",\"y\":[-435.0,-435.0,-459.375,-459.375],\"yaxis\":\"y\",\"type\":\"scatter\"},{\"hoverinfo\":\"text\",\"marker\":{\"color\":\"rgb(255,220,0)\"},\"mode\":\"lines\",\"x\":[0.6652685434147569,0.690044343754793,0.690044343754793,0.0],\"xaxis\":\"x\",\"y\":[-447.1875,-447.1875,-495.0,-495.0],\"yaxis\":\"y\",\"type\":\"scatter\"},{\"hoverinfo\":\"text\",\"marker\":{\"color\":\"rgb(0,116,217)\"},\"mode\":\"lines\",\"x\":[0.8437814035557976,1.0941714872780102,1.0941714872780102,0.690044343754793],\"xaxis\":\"x\",\"y\":[-406.25,-406.25,-471.09375,-471.09375],\"yaxis\":\"y\",\"type\":\"scatter\"},{\"hoverinfo\":\"text\",\"marker\":{\"color\":\"rgb(0,116,217)\"},\"mode\":\"lines\",\"x\":[0.9218139341488806,1.299209006754841,1.299209006754841,1.0941714872780102],\"xaxis\":\"x\",\"y\":[-232.0458984375,-232.0458984375,-438.671875,-438.671875],\"yaxis\":\"y\",\"type\":\"scatter\"},{\"hoverinfo\":\"text\",\"marker\":{\"color\":\"rgb(0,116,217)\"},\"mode\":\"lines\",\"x\":[1.1290893362997236,1.4534455726311388,1.4534455726311388,1.299209006754841],\"xaxis\":\"x\",\"y\":[-56.484375,-56.484375,-335.35888671875,-335.35888671875],\"yaxis\":\"y\",\"type\":\"scatter\"}],                        {\"autosize\":false,\"height\":950,\"hovermode\":\"closest\",\"showlegend\":false,\"width\":1000,\"xaxis\":{\"mirror\":\"allticks\",\"rangemode\":\"tozero\",\"showgrid\":false,\"showline\":true,\"showticklabels\":true,\"ticks\":\"outside\",\"type\":\"linear\",\"zeroline\":false},\"yaxis\":{\"mirror\":\"allticks\",\"rangemode\":\"tozero\",\"showgrid\":false,\"showline\":true,\"showticklabels\":true,\"tickmode\":\"array\",\"ticks\":\"outside\",\"ticktext\":[\"24_muy_bien_que\",\"43_love_bomb_sister\",\"46_love_self_awesome\",\"44_husband_shoe_him\",\"37_comfortable_very_love\",\"49_great_shoe_favorite\",\"35_blue_color_dark\",\"42_white_black_base\",\"41_address_delivery_item\",\"23_box_came_shipping\",\"22_quality_very_good\",\"25_fit_great_product\",\"36_cushion_soft_product\",\"21_perfect_nice_perfecto\",\"16_slipper_slip_house\",\"45_shower_hotel_water\",\"31_tight_pinky_toe\",\"40_free_30_frees\",\"27_pegasus_running_vomero\",\"18_arch_support_high\",\"34_pain_foot_walk\",\"4_squeak_squeaking_powder\",\"14_max_air_nike\",\"5_nike_and_this\",\"29_nike_nikes_comfortable\",\"7_slide_are_velcro\",\"3_wide_narrow_foot\",\"30_soft_foot_they\",\"12_comfortable_foot_hour\",\"0_running_shoe_for\",\"2_comfortable_they_fit\",\"1_sandal_these_are\",\"15_fit_great_shoe\",\"6_sneaker_fit_these\",\"19_light_lightweight_weight\",\"33_pair_year_etc\",\"10_flop_flip_are\",\"28_thong_toe_pair\",\"13_she_gift_them\",\"8_son_his_size\",\"39_son_bought_size\",\"20_sock_son_boy\",\"38_woman_men_sock\",\"32_105_size_115\",\"26_85_size_75\",\"17_12_size_small\",\"9_size_larger_order\",\"11_size_nike_small\",\"48_small_size_half\",\"47_small_size_serve\"],\"tickvals\":[-5.0,-15.0,-25.0,-35.0,-45.0,-55.0,-65.0,-75.0,-85.0,-95.0,-105.0,-115.0,-125.0,-135.0,-145.0,-155.0,-165.0,-175.0,-185.0,-195.0,-205.0,-215.0,-225.0,-235.0,-245.0,-255.0,-265.0,-275.0,-285.0,-295.0,-305.0,-315.0,-325.0,-335.0,-345.0,-355.0,-365.0,-375.0,-385.0,-395.0,-405.0,-415.0,-425.0,-435.0,-445.0,-455.0,-465.0,-475.0,-485.0,-495.0],\"type\":\"linear\",\"zeroline\":false,\"range\":[-500.0,0.0]},\"template\":{\"data\":{\"barpolar\":[{\"marker\":{\"line\":{\"color\":\"white\",\"width\":0.5},\"pattern\":{\"fillmode\":\"overlay\",\"size\":10,\"solidity\":0.2}},\"type\":\"barpolar\"}],\"bar\":[{\"error_x\":{\"color\":\"#2a3f5f\"},\"error_y\":{\"color\":\"#2a3f5f\"},\"marker\":{\"line\":{\"color\":\"white\",\"width\":0.5},\"pattern\":{\"fillmode\":\"overlay\",\"size\":10,\"solidity\":0.2}},\"type\":\"bar\"}],\"carpet\":[{\"aaxis\":{\"endlinecolor\":\"#2a3f5f\",\"gridcolor\":\"#C8D4E3\",\"linecolor\":\"#C8D4E3\",\"minorgridcolor\":\"#C8D4E3\",\"startlinecolor\":\"#2a3f5f\"},\"baxis\":{\"endlinecolor\":\"#2a3f5f\",\"gridcolor\":\"#C8D4E3\",\"linecolor\":\"#C8D4E3\",\"minorgridcolor\":\"#C8D4E3\",\"startlinecolor\":\"#2a3f5f\"},\"type\":\"carpet\"}],\"choropleth\":[{\"colorbar\":{\"outlinewidth\":0,\"ticks\":\"\"},\"type\":\"choropleth\"}],\"contourcarpet\":[{\"colorbar\":{\"outlinewidth\":0,\"ticks\":\"\"},\"type\":\"contourcarpet\"}],\"contour\":[{\"colorbar\":{\"outlinewidth\":0,\"ticks\":\"\"},\"colorscale\":[[0.0,\"#0d0887\"],[0.1111111111111111,\"#46039f\"],[0.2222222222222222,\"#7201a8\"],[0.3333333333333333,\"#9c179e\"],[0.4444444444444444,\"#bd3786\"],[0.5555555555555556,\"#d8576b\"],[0.6666666666666666,\"#ed7953\"],[0.7777777777777778,\"#fb9f3a\"],[0.8888888888888888,\"#fdca26\"],[1.0,\"#f0f921\"]],\"type\":\"contour\"}],\"heatmapgl\":[{\"colorbar\":{\"outlinewidth\":0,\"ticks\":\"\"},\"colorscale\":[[0.0,\"#0d0887\"],[0.1111111111111111,\"#46039f\"],[0.2222222222222222,\"#7201a8\"],[0.3333333333333333,\"#9c179e\"],[0.4444444444444444,\"#bd3786\"],[0.5555555555555556,\"#d8576b\"],[0.6666666666666666,\"#ed7953\"],[0.7777777777777778,\"#fb9f3a\"],[0.8888888888888888,\"#fdca26\"],[1.0,\"#f0f921\"]],\"type\":\"heatmapgl\"}],\"heatmap\":[{\"colorbar\":{\"outlinewidth\":0,\"ticks\":\"\"},\"colorscale\":[[0.0,\"#0d0887\"],[0.1111111111111111,\"#46039f\"],[0.2222222222222222,\"#7201a8\"],[0.3333333333333333,\"#9c179e\"],[0.4444444444444444,\"#bd3786\"],[0.5555555555555556,\"#d8576b\"],[0.6666666666666666,\"#ed7953\"],[0.7777777777777778,\"#fb9f3a\"],[0.8888888888888888,\"#fdca26\"],[1.0,\"#f0f921\"]],\"type\":\"heatmap\"}],\"histogram2dcontour\":[{\"colorbar\":{\"outlinewidth\":0,\"ticks\":\"\"},\"colorscale\":[[0.0,\"#0d0887\"],[0.1111111111111111,\"#46039f\"],[0.2222222222222222,\"#7201a8\"],[0.3333333333333333,\"#9c179e\"],[0.4444444444444444,\"#bd3786\"],[0.5555555555555556,\"#d8576b\"],[0.6666666666666666,\"#ed7953\"],[0.7777777777777778,\"#fb9f3a\"],[0.8888888888888888,\"#fdca26\"],[1.0,\"#f0f921\"]],\"type\":\"histogram2dcontour\"}],\"histogram2d\":[{\"colorbar\":{\"outlinewidth\":0,\"ticks\":\"\"},\"colorscale\":[[0.0,\"#0d0887\"],[0.1111111111111111,\"#46039f\"],[0.2222222222222222,\"#7201a8\"],[0.3333333333333333,\"#9c179e\"],[0.4444444444444444,\"#bd3786\"],[0.5555555555555556,\"#d8576b\"],[0.6666666666666666,\"#ed7953\"],[0.7777777777777778,\"#fb9f3a\"],[0.8888888888888888,\"#fdca26\"],[1.0,\"#f0f921\"]],\"type\":\"histogram2d\"}],\"histogram\":[{\"marker\":{\"pattern\":{\"fillmode\":\"overlay\",\"size\":10,\"solidity\":0.2}},\"type\":\"histogram\"}],\"mesh3d\":[{\"colorbar\":{\"outlinewidth\":0,\"ticks\":\"\"},\"type\":\"mesh3d\"}],\"parcoords\":[{\"line\":{\"colorbar\":{\"outlinewidth\":0,\"ticks\":\"\"}},\"type\":\"parcoords\"}],\"pie\":[{\"automargin\":true,\"type\":\"pie\"}],\"scatter3d\":[{\"line\":{\"colorbar\":{\"outlinewidth\":0,\"ticks\":\"\"}},\"marker\":{\"colorbar\":{\"outlinewidth\":0,\"ticks\":\"\"}},\"type\":\"scatter3d\"}],\"scattercarpet\":[{\"marker\":{\"colorbar\":{\"outlinewidth\":0,\"ticks\":\"\"}},\"type\":\"scattercarpet\"}],\"scattergeo\":[{\"marker\":{\"colorbar\":{\"outlinewidth\":0,\"ticks\":\"\"}},\"type\":\"scattergeo\"}],\"scattergl\":[{\"marker\":{\"colorbar\":{\"outlinewidth\":0,\"ticks\":\"\"}},\"type\":\"scattergl\"}],\"scattermapbox\":[{\"marker\":{\"colorbar\":{\"outlinewidth\":0,\"ticks\":\"\"}},\"type\":\"scattermapbox\"}],\"scatterpolargl\":[{\"marker\":{\"colorbar\":{\"outlinewidth\":0,\"ticks\":\"\"}},\"type\":\"scatterpolargl\"}],\"scatterpolar\":[{\"marker\":{\"colorbar\":{\"outlinewidth\":0,\"ticks\":\"\"}},\"type\":\"scatterpolar\"}],\"scatter\":[{\"fillpattern\":{\"fillmode\":\"overlay\",\"size\":10,\"solidity\":0.2},\"type\":\"scatter\"}],\"scatterternary\":[{\"marker\":{\"colorbar\":{\"outlinewidth\":0,\"ticks\":\"\"}},\"type\":\"scatterternary\"}],\"surface\":[{\"colorbar\":{\"outlinewidth\":0,\"ticks\":\"\"},\"colorscale\":[[0.0,\"#0d0887\"],[0.1111111111111111,\"#46039f\"],[0.2222222222222222,\"#7201a8\"],[0.3333333333333333,\"#9c179e\"],[0.4444444444444444,\"#bd3786\"],[0.5555555555555556,\"#d8576b\"],[0.6666666666666666,\"#ed7953\"],[0.7777777777777778,\"#fb9f3a\"],[0.8888888888888888,\"#fdca26\"],[1.0,\"#f0f921\"]],\"type\":\"surface\"}],\"table\":[{\"cells\":{\"fill\":{\"color\":\"#EBF0F8\"},\"line\":{\"color\":\"white\"}},\"header\":{\"fill\":{\"color\":\"#C8D4E3\"},\"line\":{\"color\":\"white\"}},\"type\":\"table\"}]},\"layout\":{\"annotationdefaults\":{\"arrowcolor\":\"#2a3f5f\",\"arrowhead\":0,\"arrowwidth\":1},\"autotypenumbers\":\"strict\",\"coloraxis\":{\"colorbar\":{\"outlinewidth\":0,\"ticks\":\"\"}},\"colorscale\":{\"diverging\":[[0,\"#8e0152\"],[0.1,\"#c51b7d\"],[0.2,\"#de77ae\"],[0.3,\"#f1b6da\"],[0.4,\"#fde0ef\"],[0.5,\"#f7f7f7\"],[0.6,\"#e6f5d0\"],[0.7,\"#b8e186\"],[0.8,\"#7fbc41\"],[0.9,\"#4d9221\"],[1,\"#276419\"]],\"sequential\":[[0.0,\"#0d0887\"],[0.1111111111111111,\"#46039f\"],[0.2222222222222222,\"#7201a8\"],[0.3333333333333333,\"#9c179e\"],[0.4444444444444444,\"#bd3786\"],[0.5555555555555556,\"#d8576b\"],[0.6666666666666666,\"#ed7953\"],[0.7777777777777778,\"#fb9f3a\"],[0.8888888888888888,\"#fdca26\"],[1.0,\"#f0f921\"]],\"sequentialminus\":[[0.0,\"#0d0887\"],[0.1111111111111111,\"#46039f\"],[0.2222222222222222,\"#7201a8\"],[0.3333333333333333,\"#9c179e\"],[0.4444444444444444,\"#bd3786\"],[0.5555555555555556,\"#d8576b\"],[0.6666666666666666,\"#ed7953\"],[0.7777777777777778,\"#fb9f3a\"],[0.8888888888888888,\"#fdca26\"],[1.0,\"#f0f921\"]]},\"colorway\":[\"#636efa\",\"#EF553B\",\"#00cc96\",\"#ab63fa\",\"#FFA15A\",\"#19d3f3\",\"#FF6692\",\"#B6E880\",\"#FF97FF\",\"#FECB52\"],\"font\":{\"color\":\"#2a3f5f\"},\"geo\":{\"bgcolor\":\"white\",\"lakecolor\":\"white\",\"landcolor\":\"white\",\"showlakes\":true,\"showland\":true,\"subunitcolor\":\"#C8D4E3\"},\"hoverlabel\":{\"align\":\"left\"},\"hovermode\":\"closest\",\"mapbox\":{\"style\":\"light\"},\"paper_bgcolor\":\"white\",\"plot_bgcolor\":\"white\",\"polar\":{\"angularaxis\":{\"gridcolor\":\"#EBF0F8\",\"linecolor\":\"#EBF0F8\",\"ticks\":\"\"},\"bgcolor\":\"white\",\"radialaxis\":{\"gridcolor\":\"#EBF0F8\",\"linecolor\":\"#EBF0F8\",\"ticks\":\"\"}},\"scene\":{\"xaxis\":{\"backgroundcolor\":\"white\",\"gridcolor\":\"#DFE8F3\",\"gridwidth\":2,\"linecolor\":\"#EBF0F8\",\"showbackground\":true,\"ticks\":\"\",\"zerolinecolor\":\"#EBF0F8\"},\"yaxis\":{\"backgroundcolor\":\"white\",\"gridcolor\":\"#DFE8F3\",\"gridwidth\":2,\"linecolor\":\"#EBF0F8\",\"showbackground\":true,\"ticks\":\"\",\"zerolinecolor\":\"#EBF0F8\"},\"zaxis\":{\"backgroundcolor\":\"white\",\"gridcolor\":\"#DFE8F3\",\"gridwidth\":2,\"linecolor\":\"#EBF0F8\",\"showbackground\":true,\"ticks\":\"\",\"zerolinecolor\":\"#EBF0F8\"}},\"shapedefaults\":{\"line\":{\"color\":\"#2a3f5f\"}},\"ternary\":{\"aaxis\":{\"gridcolor\":\"#DFE8F3\",\"linecolor\":\"#A2B1C6\",\"ticks\":\"\"},\"baxis\":{\"gridcolor\":\"#DFE8F3\",\"linecolor\":\"#A2B1C6\",\"ticks\":\"\"},\"bgcolor\":\"white\",\"caxis\":{\"gridcolor\":\"#DFE8F3\",\"linecolor\":\"#A2B1C6\",\"ticks\":\"\"}},\"title\":{\"x\":0.05},\"xaxis\":{\"automargin\":true,\"gridcolor\":\"#EBF0F8\",\"linecolor\":\"#EBF0F8\",\"ticks\":\"\",\"title\":{\"standoff\":15},\"zerolinecolor\":\"#EBF0F8\",\"zerolinewidth\":2},\"yaxis\":{\"automargin\":true,\"gridcolor\":\"#EBF0F8\",\"linecolor\":\"#EBF0F8\",\"ticks\":\"\",\"title\":{\"standoff\":15},\"zerolinecolor\":\"#EBF0F8\",\"zerolinewidth\":2}}},\"title\":{\"font\":{\"size\":22,\"color\":\"Black\"},\"text\":\"<b>Hierarchical Clustering</b>\",\"x\":0.5,\"xanchor\":\"center\",\"yanchor\":\"top\"},\"hoverlabel\":{\"font\":{\"size\":16,\"family\":\"Rockwell\"},\"bgcolor\":\"white\"},\"plot_bgcolor\":\"#ECEFF1\"},                        {\"responsive\": true}                    ).then(function(){\n",
              "                            \n",
              "var gd = document.getElementById('61c63faf-21ea-4126-8061-f5cbdeb60cd9');\n",
              "var x = new MutationObserver(function (mutations, observer) {{\n",
              "        var display = window.getComputedStyle(gd).display;\n",
              "        if (!display || display === 'none') {{\n",
              "            console.log([gd, 'removed!']);\n",
              "            Plotly.purge(gd);\n",
              "            observer.disconnect();\n",
              "        }}\n",
              "}});\n",
              "\n",
              "// Listen for the removal of the full notebook cells\n",
              "var notebookContainer = gd.closest('#notebook-container');\n",
              "if (notebookContainer) {{\n",
              "    x.observe(notebookContainer, {childList: true});\n",
              "}}\n",
              "\n",
              "// Listen for the clearing of the current output cell\n",
              "var outputEl = gd.closest('.output');\n",
              "if (outputEl) {{\n",
              "    x.observe(outputEl, {childList: true});\n",
              "}}\n",
              "\n",
              "                        })                };                            </script>        </div>\n",
              "</body>\n",
              "</html>"
            ]
          },
          "metadata": {}
        }
      ],
      "source": [
        "topic_model.visualize_hierarchy(top_n_topics=50)"
      ]
    },
    {
      "cell_type": "markdown",
      "metadata": {
        "id": "26Ah9qEvA08C"
      },
      "source": [
        "### Visualize Terms"
      ]
    },
    {
      "cell_type": "markdown",
      "metadata": {
        "id": "Xkabmur8BF0S"
      },
      "source": [
        "We can visualize the selected terms for a few topics by creating bar charts out of the c-TF-IDF scores for each topic representation. Insights can be gained from the relative c-TF-IDF scores between and within topics. Moreover, we can easily compare topic representations to each other."
      ]
    },
    {
      "cell_type": "code",
      "execution_count": null,
      "metadata": {
        "colab": {
          "base_uri": "https://localhost:8080/",
          "height": 767
        },
        "id": "_8mgD3ghAr0q",
        "outputId": "870b9a93-a813-481f-9fbe-7d3fd3883d27"
      },
      "outputs": [
        {
          "output_type": "display_data",
          "data": {
            "text/html": [
              "<html>\n",
              "<head><meta charset=\"utf-8\" /></head>\n",
              "<body>\n",
              "    <div>            <script src=\"https://cdnjs.cloudflare.com/ajax/libs/mathjax/2.7.5/MathJax.js?config=TeX-AMS-MML_SVG\"></script><script type=\"text/javascript\">if (window.MathJax && window.MathJax.Hub && window.MathJax.Hub.Config) {window.MathJax.Hub.Config({SVG: {font: \"STIX-Web\"}});}</script>                <script type=\"text/javascript\">window.PlotlyConfig = {MathJaxConfig: 'local'};</script>\n",
              "        <script src=\"https://cdn.plot.ly/plotly-2.18.2.min.js\"></script>                <div id=\"33340835-9b88-4366-bab6-e87a85de23b2\" class=\"plotly-graph-div\" style=\"height:750px; width:1000px;\"></div>            <script type=\"text/javascript\">                                    window.PLOTLYENV=window.PLOTLYENV || {};                                    if (document.getElementById(\"33340835-9b88-4366-bab6-e87a85de23b2\")) {                    Plotly.newPlot(                        \"33340835-9b88-4366-bab6-e87a85de23b2\",                        [{\"marker\":{\"color\":\"#D55E00\"},\"orientation\":\"h\",\"x\":[0.01760348818464667,0.019521367868231276,0.020550331186773078,0.02103170348159069,0.03768571116732423],\"y\":[\"and  \",\"run  \",\"for  \",\"shoe  \",\"running  \"],\"type\":\"bar\",\"xaxis\":\"x\",\"yaxis\":\"y\"},{\"marker\":{\"color\":\"#0072B2\"},\"orientation\":\"h\",\"x\":[0.014643883641482783,0.014705260297633246,0.01539627937062404,0.017122188706199113,0.0774742672349177],\"y\":[\"and  \",\"the  \",\"are  \",\"these  \",\"sandal  \"],\"type\":\"bar\",\"xaxis\":\"x2\",\"yaxis\":\"y2\"},{\"marker\":{\"color\":\"#CC79A7\"},\"orientation\":\"h\",\"x\":[0.02563846930049792,0.028612145480975296,0.028935198160622445,0.03127771647512768,0.03128640591687043],\"y\":[\"very  \",\"them  \",\"fit  \",\"they  \",\"comfortable  \"],\"type\":\"bar\",\"xaxis\":\"x3\",\"yaxis\":\"y3\"},{\"marker\":{\"color\":\"#E69F00\"},\"orientation\":\"h\",\"x\":[0.017638518765277566,0.019083949766184553,0.03484085701045807,0.046744134198295276,0.057932420195010485],\"y\":[\"but  \",\"shoe  \",\"foot  \",\"narrow  \",\"wide  \"],\"type\":\"bar\",\"xaxis\":\"x4\",\"yaxis\":\"y4\"},{\"marker\":{\"color\":\"#56B4E9\"},\"orientation\":\"h\",\"x\":[0.01936663949703798,0.022691038711894453,0.022844548125815732,0.025573428541314,0.04188457671400229],\"y\":[\"the  \",\"loud  \",\"powder  \",\"squeaking  \",\"squeak  \"],\"type\":\"bar\",\"xaxis\":\"x5\",\"yaxis\":\"y5\"},{\"marker\":{\"color\":\"#009E73\"},\"orientation\":\"h\",\"x\":[0.01718091966048705,0.017565829197663363,0.01891804004673095,0.02028193549189244,0.05485780864462674],\"y\":[\"quality  \",\"the  \",\"this  \",\"and  \",\"nike  \"],\"type\":\"bar\",\"xaxis\":\"x6\",\"yaxis\":\"y6\"},{\"marker\":{\"color\":\"#F0E442\"},\"orientation\":\"h\",\"x\":[0.017722276251907795,0.018607286961215434,0.020007387867287996,0.022001720447628957,0.10513031288388987],\"y\":[\"them  \",\"love  \",\"these  \",\"fit  \",\"sneaker  \"],\"type\":\"bar\",\"xaxis\":\"x7\",\"yaxis\":\"y7\"},{\"marker\":{\"color\":\"#D55E00\"},\"orientation\":\"h\",\"x\":[0.016555098417352653,0.01667440828243969,0.018360522956200737,0.019552060631953628,0.10188501435231015],\"y\":[\"comfortable  \",\"the  \",\"velcro  \",\"are  \",\"slide  \"],\"type\":\"bar\",\"xaxis\":\"x8\",\"yaxis\":\"y8\"},{\"marker\":{\"color\":\"#0072B2\"},\"orientation\":\"h\",\"x\":[0.02050773380556723,0.02078356689823997,0.02175997128305162,0.02216442197184517,0.05881172957973862],\"y\":[\"shoe  \",\"daughter  \",\"size  \",\"his  \",\"son  \"],\"type\":\"bar\",\"xaxis\":\"x9\",\"yaxis\":\"y9\"},{\"marker\":{\"color\":\"#CC79A7\"},\"orientation\":\"h\",\"x\":[0.0228953579266836,0.028823217997214927,0.030222489394435992,0.03198854076767853,0.06108337486664239],\"y\":[\"half  \",\"ordered  \",\"order  \",\"larger  \",\"size  \"],\"type\":\"bar\",\"xaxis\":\"x10\",\"yaxis\":\"y10\"}],                        {\"template\":{\"data\":{\"barpolar\":[{\"marker\":{\"line\":{\"color\":\"white\",\"width\":0.5},\"pattern\":{\"fillmode\":\"overlay\",\"size\":10,\"solidity\":0.2}},\"type\":\"barpolar\"}],\"bar\":[{\"error_x\":{\"color\":\"#2a3f5f\"},\"error_y\":{\"color\":\"#2a3f5f\"},\"marker\":{\"line\":{\"color\":\"white\",\"width\":0.5},\"pattern\":{\"fillmode\":\"overlay\",\"size\":10,\"solidity\":0.2}},\"type\":\"bar\"}],\"carpet\":[{\"aaxis\":{\"endlinecolor\":\"#2a3f5f\",\"gridcolor\":\"#C8D4E3\",\"linecolor\":\"#C8D4E3\",\"minorgridcolor\":\"#C8D4E3\",\"startlinecolor\":\"#2a3f5f\"},\"baxis\":{\"endlinecolor\":\"#2a3f5f\",\"gridcolor\":\"#C8D4E3\",\"linecolor\":\"#C8D4E3\",\"minorgridcolor\":\"#C8D4E3\",\"startlinecolor\":\"#2a3f5f\"},\"type\":\"carpet\"}],\"choropleth\":[{\"colorbar\":{\"outlinewidth\":0,\"ticks\":\"\"},\"type\":\"choropleth\"}],\"contourcarpet\":[{\"colorbar\":{\"outlinewidth\":0,\"ticks\":\"\"},\"type\":\"contourcarpet\"}],\"contour\":[{\"colorbar\":{\"outlinewidth\":0,\"ticks\":\"\"},\"colorscale\":[[0.0,\"#0d0887\"],[0.1111111111111111,\"#46039f\"],[0.2222222222222222,\"#7201a8\"],[0.3333333333333333,\"#9c179e\"],[0.4444444444444444,\"#bd3786\"],[0.5555555555555556,\"#d8576b\"],[0.6666666666666666,\"#ed7953\"],[0.7777777777777778,\"#fb9f3a\"],[0.8888888888888888,\"#fdca26\"],[1.0,\"#f0f921\"]],\"type\":\"contour\"}],\"heatmapgl\":[{\"colorbar\":{\"outlinewidth\":0,\"ticks\":\"\"},\"colorscale\":[[0.0,\"#0d0887\"],[0.1111111111111111,\"#46039f\"],[0.2222222222222222,\"#7201a8\"],[0.3333333333333333,\"#9c179e\"],[0.4444444444444444,\"#bd3786\"],[0.5555555555555556,\"#d8576b\"],[0.6666666666666666,\"#ed7953\"],[0.7777777777777778,\"#fb9f3a\"],[0.8888888888888888,\"#fdca26\"],[1.0,\"#f0f921\"]],\"type\":\"heatmapgl\"}],\"heatmap\":[{\"colorbar\":{\"outlinewidth\":0,\"ticks\":\"\"},\"colorscale\":[[0.0,\"#0d0887\"],[0.1111111111111111,\"#46039f\"],[0.2222222222222222,\"#7201a8\"],[0.3333333333333333,\"#9c179e\"],[0.4444444444444444,\"#bd3786\"],[0.5555555555555556,\"#d8576b\"],[0.6666666666666666,\"#ed7953\"],[0.7777777777777778,\"#fb9f3a\"],[0.8888888888888888,\"#fdca26\"],[1.0,\"#f0f921\"]],\"type\":\"heatmap\"}],\"histogram2dcontour\":[{\"colorbar\":{\"outlinewidth\":0,\"ticks\":\"\"},\"colorscale\":[[0.0,\"#0d0887\"],[0.1111111111111111,\"#46039f\"],[0.2222222222222222,\"#7201a8\"],[0.3333333333333333,\"#9c179e\"],[0.4444444444444444,\"#bd3786\"],[0.5555555555555556,\"#d8576b\"],[0.6666666666666666,\"#ed7953\"],[0.7777777777777778,\"#fb9f3a\"],[0.8888888888888888,\"#fdca26\"],[1.0,\"#f0f921\"]],\"type\":\"histogram2dcontour\"}],\"histogram2d\":[{\"colorbar\":{\"outlinewidth\":0,\"ticks\":\"\"},\"colorscale\":[[0.0,\"#0d0887\"],[0.1111111111111111,\"#46039f\"],[0.2222222222222222,\"#7201a8\"],[0.3333333333333333,\"#9c179e\"],[0.4444444444444444,\"#bd3786\"],[0.5555555555555556,\"#d8576b\"],[0.6666666666666666,\"#ed7953\"],[0.7777777777777778,\"#fb9f3a\"],[0.8888888888888888,\"#fdca26\"],[1.0,\"#f0f921\"]],\"type\":\"histogram2d\"}],\"histogram\":[{\"marker\":{\"pattern\":{\"fillmode\":\"overlay\",\"size\":10,\"solidity\":0.2}},\"type\":\"histogram\"}],\"mesh3d\":[{\"colorbar\":{\"outlinewidth\":0,\"ticks\":\"\"},\"type\":\"mesh3d\"}],\"parcoords\":[{\"line\":{\"colorbar\":{\"outlinewidth\":0,\"ticks\":\"\"}},\"type\":\"parcoords\"}],\"pie\":[{\"automargin\":true,\"type\":\"pie\"}],\"scatter3d\":[{\"line\":{\"colorbar\":{\"outlinewidth\":0,\"ticks\":\"\"}},\"marker\":{\"colorbar\":{\"outlinewidth\":0,\"ticks\":\"\"}},\"type\":\"scatter3d\"}],\"scattercarpet\":[{\"marker\":{\"colorbar\":{\"outlinewidth\":0,\"ticks\":\"\"}},\"type\":\"scattercarpet\"}],\"scattergeo\":[{\"marker\":{\"colorbar\":{\"outlinewidth\":0,\"ticks\":\"\"}},\"type\":\"scattergeo\"}],\"scattergl\":[{\"marker\":{\"colorbar\":{\"outlinewidth\":0,\"ticks\":\"\"}},\"type\":\"scattergl\"}],\"scattermapbox\":[{\"marker\":{\"colorbar\":{\"outlinewidth\":0,\"ticks\":\"\"}},\"type\":\"scattermapbox\"}],\"scatterpolargl\":[{\"marker\":{\"colorbar\":{\"outlinewidth\":0,\"ticks\":\"\"}},\"type\":\"scatterpolargl\"}],\"scatterpolar\":[{\"marker\":{\"colorbar\":{\"outlinewidth\":0,\"ticks\":\"\"}},\"type\":\"scatterpolar\"}],\"scatter\":[{\"fillpattern\":{\"fillmode\":\"overlay\",\"size\":10,\"solidity\":0.2},\"type\":\"scatter\"}],\"scatterternary\":[{\"marker\":{\"colorbar\":{\"outlinewidth\":0,\"ticks\":\"\"}},\"type\":\"scatterternary\"}],\"surface\":[{\"colorbar\":{\"outlinewidth\":0,\"ticks\":\"\"},\"colorscale\":[[0.0,\"#0d0887\"],[0.1111111111111111,\"#46039f\"],[0.2222222222222222,\"#7201a8\"],[0.3333333333333333,\"#9c179e\"],[0.4444444444444444,\"#bd3786\"],[0.5555555555555556,\"#d8576b\"],[0.6666666666666666,\"#ed7953\"],[0.7777777777777778,\"#fb9f3a\"],[0.8888888888888888,\"#fdca26\"],[1.0,\"#f0f921\"]],\"type\":\"surface\"}],\"table\":[{\"cells\":{\"fill\":{\"color\":\"#EBF0F8\"},\"line\":{\"color\":\"white\"}},\"header\":{\"fill\":{\"color\":\"#C8D4E3\"},\"line\":{\"color\":\"white\"}},\"type\":\"table\"}]},\"layout\":{\"annotationdefaults\":{\"arrowcolor\":\"#2a3f5f\",\"arrowhead\":0,\"arrowwidth\":1},\"autotypenumbers\":\"strict\",\"coloraxis\":{\"colorbar\":{\"outlinewidth\":0,\"ticks\":\"\"}},\"colorscale\":{\"diverging\":[[0,\"#8e0152\"],[0.1,\"#c51b7d\"],[0.2,\"#de77ae\"],[0.3,\"#f1b6da\"],[0.4,\"#fde0ef\"],[0.5,\"#f7f7f7\"],[0.6,\"#e6f5d0\"],[0.7,\"#b8e186\"],[0.8,\"#7fbc41\"],[0.9,\"#4d9221\"],[1,\"#276419\"]],\"sequential\":[[0.0,\"#0d0887\"],[0.1111111111111111,\"#46039f\"],[0.2222222222222222,\"#7201a8\"],[0.3333333333333333,\"#9c179e\"],[0.4444444444444444,\"#bd3786\"],[0.5555555555555556,\"#d8576b\"],[0.6666666666666666,\"#ed7953\"],[0.7777777777777778,\"#fb9f3a\"],[0.8888888888888888,\"#fdca26\"],[1.0,\"#f0f921\"]],\"sequentialminus\":[[0.0,\"#0d0887\"],[0.1111111111111111,\"#46039f\"],[0.2222222222222222,\"#7201a8\"],[0.3333333333333333,\"#9c179e\"],[0.4444444444444444,\"#bd3786\"],[0.5555555555555556,\"#d8576b\"],[0.6666666666666666,\"#ed7953\"],[0.7777777777777778,\"#fb9f3a\"],[0.8888888888888888,\"#fdca26\"],[1.0,\"#f0f921\"]]},\"colorway\":[\"#636efa\",\"#EF553B\",\"#00cc96\",\"#ab63fa\",\"#FFA15A\",\"#19d3f3\",\"#FF6692\",\"#B6E880\",\"#FF97FF\",\"#FECB52\"],\"font\":{\"color\":\"#2a3f5f\"},\"geo\":{\"bgcolor\":\"white\",\"lakecolor\":\"white\",\"landcolor\":\"white\",\"showlakes\":true,\"showland\":true,\"subunitcolor\":\"#C8D4E3\"},\"hoverlabel\":{\"align\":\"left\"},\"hovermode\":\"closest\",\"mapbox\":{\"style\":\"light\"},\"paper_bgcolor\":\"white\",\"plot_bgcolor\":\"white\",\"polar\":{\"angularaxis\":{\"gridcolor\":\"#EBF0F8\",\"linecolor\":\"#EBF0F8\",\"ticks\":\"\"},\"bgcolor\":\"white\",\"radialaxis\":{\"gridcolor\":\"#EBF0F8\",\"linecolor\":\"#EBF0F8\",\"ticks\":\"\"}},\"scene\":{\"xaxis\":{\"backgroundcolor\":\"white\",\"gridcolor\":\"#DFE8F3\",\"gridwidth\":2,\"linecolor\":\"#EBF0F8\",\"showbackground\":true,\"ticks\":\"\",\"zerolinecolor\":\"#EBF0F8\"},\"yaxis\":{\"backgroundcolor\":\"white\",\"gridcolor\":\"#DFE8F3\",\"gridwidth\":2,\"linecolor\":\"#EBF0F8\",\"showbackground\":true,\"ticks\":\"\",\"zerolinecolor\":\"#EBF0F8\"},\"zaxis\":{\"backgroundcolor\":\"white\",\"gridcolor\":\"#DFE8F3\",\"gridwidth\":2,\"linecolor\":\"#EBF0F8\",\"showbackground\":true,\"ticks\":\"\",\"zerolinecolor\":\"#EBF0F8\"}},\"shapedefaults\":{\"line\":{\"color\":\"#2a3f5f\"}},\"ternary\":{\"aaxis\":{\"gridcolor\":\"#DFE8F3\",\"linecolor\":\"#A2B1C6\",\"ticks\":\"\"},\"baxis\":{\"gridcolor\":\"#DFE8F3\",\"linecolor\":\"#A2B1C6\",\"ticks\":\"\"},\"bgcolor\":\"white\",\"caxis\":{\"gridcolor\":\"#DFE8F3\",\"linecolor\":\"#A2B1C6\",\"ticks\":\"\"}},\"title\":{\"x\":0.05},\"xaxis\":{\"automargin\":true,\"gridcolor\":\"#EBF0F8\",\"linecolor\":\"#EBF0F8\",\"ticks\":\"\",\"title\":{\"standoff\":15},\"zerolinecolor\":\"#EBF0F8\",\"zerolinewidth\":2},\"yaxis\":{\"automargin\":true,\"gridcolor\":\"#EBF0F8\",\"linecolor\":\"#EBF0F8\",\"ticks\":\"\",\"title\":{\"standoff\":15},\"zerolinecolor\":\"#EBF0F8\",\"zerolinewidth\":2}}},\"xaxis\":{\"anchor\":\"y\",\"domain\":[0.0,0.175],\"showgrid\":true},\"yaxis\":{\"anchor\":\"x\",\"domain\":[0.7555555555555555,1.0],\"showgrid\":true},\"xaxis2\":{\"anchor\":\"y2\",\"domain\":[0.275,0.45],\"showgrid\":true},\"yaxis2\":{\"anchor\":\"x2\",\"domain\":[0.7555555555555555,1.0],\"showgrid\":true},\"xaxis3\":{\"anchor\":\"y3\",\"domain\":[0.55,0.7250000000000001],\"showgrid\":true},\"yaxis3\":{\"anchor\":\"x3\",\"domain\":[0.7555555555555555,1.0],\"showgrid\":true},\"xaxis4\":{\"anchor\":\"y4\",\"domain\":[0.825,1.0],\"showgrid\":true},\"yaxis4\":{\"anchor\":\"x4\",\"domain\":[0.7555555555555555,1.0],\"showgrid\":true},\"xaxis5\":{\"anchor\":\"y5\",\"domain\":[0.0,0.175],\"showgrid\":true},\"yaxis5\":{\"anchor\":\"x5\",\"domain\":[0.37777777777777777,0.6222222222222222],\"showgrid\":true},\"xaxis6\":{\"anchor\":\"y6\",\"domain\":[0.275,0.45],\"showgrid\":true},\"yaxis6\":{\"anchor\":\"x6\",\"domain\":[0.37777777777777777,0.6222222222222222],\"showgrid\":true},\"xaxis7\":{\"anchor\":\"y7\",\"domain\":[0.55,0.7250000000000001],\"showgrid\":true},\"yaxis7\":{\"anchor\":\"x7\",\"domain\":[0.37777777777777777,0.6222222222222222],\"showgrid\":true},\"xaxis8\":{\"anchor\":\"y8\",\"domain\":[0.825,1.0],\"showgrid\":true},\"yaxis8\":{\"anchor\":\"x8\",\"domain\":[0.37777777777777777,0.6222222222222222],\"showgrid\":true},\"xaxis9\":{\"anchor\":\"y9\",\"domain\":[0.0,0.175],\"showgrid\":true},\"yaxis9\":{\"anchor\":\"x9\",\"domain\":[0.0,0.24444444444444446],\"showgrid\":true},\"xaxis10\":{\"anchor\":\"y10\",\"domain\":[0.275,0.45],\"showgrid\":true},\"yaxis10\":{\"anchor\":\"x10\",\"domain\":[0.0,0.24444444444444446],\"showgrid\":true},\"xaxis11\":{\"anchor\":\"y11\",\"domain\":[0.55,0.7250000000000001],\"showgrid\":true},\"yaxis11\":{\"anchor\":\"x11\",\"domain\":[0.0,0.24444444444444446],\"showgrid\":true},\"xaxis12\":{\"anchor\":\"y12\",\"domain\":[0.825,1.0],\"showgrid\":true},\"yaxis12\":{\"anchor\":\"x12\",\"domain\":[0.0,0.24444444444444446],\"showgrid\":true},\"annotations\":[{\"font\":{\"size\":16},\"showarrow\":false,\"text\":\"Topic 0\",\"x\":0.0875,\"xanchor\":\"center\",\"xref\":\"paper\",\"y\":1.0,\"yanchor\":\"bottom\",\"yref\":\"paper\"},{\"font\":{\"size\":16},\"showarrow\":false,\"text\":\"Topic 1\",\"x\":0.36250000000000004,\"xanchor\":\"center\",\"xref\":\"paper\",\"y\":1.0,\"yanchor\":\"bottom\",\"yref\":\"paper\"},{\"font\":{\"size\":16},\"showarrow\":false,\"text\":\"Topic 2\",\"x\":0.6375000000000001,\"xanchor\":\"center\",\"xref\":\"paper\",\"y\":1.0,\"yanchor\":\"bottom\",\"yref\":\"paper\"},{\"font\":{\"size\":16},\"showarrow\":false,\"text\":\"Topic 3\",\"x\":0.9125,\"xanchor\":\"center\",\"xref\":\"paper\",\"y\":1.0,\"yanchor\":\"bottom\",\"yref\":\"paper\"},{\"font\":{\"size\":16},\"showarrow\":false,\"text\":\"Topic 4\",\"x\":0.0875,\"xanchor\":\"center\",\"xref\":\"paper\",\"y\":0.6222222222222222,\"yanchor\":\"bottom\",\"yref\":\"paper\"},{\"font\":{\"size\":16},\"showarrow\":false,\"text\":\"Topic 5\",\"x\":0.36250000000000004,\"xanchor\":\"center\",\"xref\":\"paper\",\"y\":0.6222222222222222,\"yanchor\":\"bottom\",\"yref\":\"paper\"},{\"font\":{\"size\":16},\"showarrow\":false,\"text\":\"Topic 6\",\"x\":0.6375000000000001,\"xanchor\":\"center\",\"xref\":\"paper\",\"y\":0.6222222222222222,\"yanchor\":\"bottom\",\"yref\":\"paper\"},{\"font\":{\"size\":16},\"showarrow\":false,\"text\":\"Topic 7\",\"x\":0.9125,\"xanchor\":\"center\",\"xref\":\"paper\",\"y\":0.6222222222222222,\"yanchor\":\"bottom\",\"yref\":\"paper\"},{\"font\":{\"size\":16},\"showarrow\":false,\"text\":\"Topic 8\",\"x\":0.0875,\"xanchor\":\"center\",\"xref\":\"paper\",\"y\":0.24444444444444446,\"yanchor\":\"bottom\",\"yref\":\"paper\"},{\"font\":{\"size\":16},\"showarrow\":false,\"text\":\"Topic 9\",\"x\":0.36250000000000004,\"xanchor\":\"center\",\"xref\":\"paper\",\"y\":0.24444444444444446,\"yanchor\":\"bottom\",\"yref\":\"paper\"}],\"title\":{\"font\":{\"size\":22,\"color\":\"Black\"},\"text\":\"Topic Word Scores\",\"x\":0.5,\"xanchor\":\"center\",\"yanchor\":\"top\"},\"hoverlabel\":{\"font\":{\"size\":16,\"family\":\"Rockwell\"},\"bgcolor\":\"white\"},\"showlegend\":false,\"width\":1000,\"height\":750},                        {\"responsive\": true}                    ).then(function(){\n",
              "                            \n",
              "var gd = document.getElementById('33340835-9b88-4366-bab6-e87a85de23b2');\n",
              "var x = new MutationObserver(function (mutations, observer) {{\n",
              "        var display = window.getComputedStyle(gd).display;\n",
              "        if (!display || display === 'none') {{\n",
              "            console.log([gd, 'removed!']);\n",
              "            Plotly.purge(gd);\n",
              "            observer.disconnect();\n",
              "        }}\n",
              "}});\n",
              "\n",
              "// Listen for the removal of the full notebook cells\n",
              "var notebookContainer = gd.closest('#notebook-container');\n",
              "if (notebookContainer) {{\n",
              "    x.observe(notebookContainer, {childList: true});\n",
              "}}\n",
              "\n",
              "// Listen for the clearing of the current output cell\n",
              "var outputEl = gd.closest('.output');\n",
              "if (outputEl) {{\n",
              "    x.observe(outputEl, {childList: true});\n",
              "}}\n",
              "\n",
              "                        })                };                            </script>        </div>\n",
              "</body>\n",
              "</html>"
            ]
          },
          "metadata": {}
        }
      ],
      "source": [
        "topic_model.visualize_barchart(top_n_topics=10)"
      ]
    },
    {
      "cell_type": "markdown",
      "source": [
        "The length of the bar represents the score of the keyword. A longer bar means higher importance for the topic."
      ],
      "metadata": {
        "id": "Jgg7BcqDBTg0"
      }
    },
    {
      "cell_type": "markdown",
      "metadata": {
        "id": "idTIo1DNBL5Y"
      },
      "source": [
        "### Visualize Topic Similarity"
      ]
    },
    {
      "cell_type": "markdown",
      "metadata": {
        "id": "g42cCLNYBVP9"
      },
      "source": [
        "Having generated topic embeddings, through both c-TF-IDF and embeddings, we can create a similarity matrix by simply applying cosine similarities through those topic embeddings. The result will be a matrix indicating how similar certain topics are to each other."
      ]
    },
    {
      "cell_type": "code",
      "execution_count": null,
      "metadata": {
        "colab": {
          "base_uri": "https://localhost:8080/",
          "height": 1000
        },
        "id": "QhepUyVgAr44",
        "outputId": "3be87a0b-9fd8-4ff8-f8a9-e3216ec7d96a"
      },
      "outputs": [
        {
          "output_type": "display_data",
          "data": {
            "text/html": [
              "<html>\n",
              "<head><meta charset=\"utf-8\" /></head>\n",
              "<body>\n",
              "    <div>            <script src=\"https://cdnjs.cloudflare.com/ajax/libs/mathjax/2.7.5/MathJax.js?config=TeX-AMS-MML_SVG\"></script><script type=\"text/javascript\">if (window.MathJax && window.MathJax.Hub && window.MathJax.Hub.Config) {window.MathJax.Hub.Config({SVG: {font: \"STIX-Web\"}});}</script>                <script type=\"text/javascript\">window.PlotlyConfig = {MathJaxConfig: 'local'};</script>\n",
              "        <script src=\"https://cdn.plot.ly/plotly-2.18.2.min.js\"></script>                <div id=\"5fac92af-8101-4b17-9fc9-61189f2835ea\" class=\"plotly-graph-div\" style=\"height:1000px; width:1000px;\"></div>            <script type=\"text/javascript\">                                    window.PLOTLYENV=window.PLOTLYENV || {};                                    if (document.getElementById(\"5fac92af-8101-4b17-9fc9-61189f2835ea\")) {                    Plotly.newPlot(                        \"5fac92af-8101-4b17-9fc9-61189f2835ea\",                        [{\"coloraxis\":\"coloraxis\",\"name\":\"0\",\"x\":[\"0_running_shoe_for\",\"5_nike_and_this\",\"14_max_air_nike\",\"29_nike_nikes_comfortable\",\"40_free_30_frees\",\"1_sandal_these_are\",\"2_comfortable_they_fit\",\"7_slide_are_velcro\",\"10_flop_flip_are\",\"16_slipper_slip_house\",\"28_thong_toe_pair\",\"33_pair_year_etc\",\"3_wide_narrow_foot\",\"6_sneaker_fit_these\",\"8_son_his_size\",\"9_size_larger_order\",\"11_size_nike_small\",\"15_fit_great_shoe\",\"50_picture_same_got\",\"4_squeak_squeaking_powder\",\"18_arch_support_high\",\"27_pegasus_running_vomero\",\"34_pain_foot_walk\",\"12_comfortable_foot_hour\",\"19_light_lightweight_weight\",\"30_soft_foot_they\",\"31_tight_pinky_toe\",\"37_comfortable_very_love\",\"44_husband_shoe_him\",\"46_love_self_awesome\",\"13_she_gift_them\",\"17_12_size_small\",\"26_85_size_75\",\"32_105_size_115\",\"38_woman_men_sock\",\"48_small_size_half\",\"20_sock_son_boy\",\"39_son_bought_size\",\"21_perfect_nice_perfecto\",\"22_quality_very_good\",\"51_light_color_pair\",\"23_box_came_shipping\",\"42_white_black_base\",\"24_muy_bien_que\",\"25_fit_great_product\",\"35_blue_color_dark\",\"36_cushion_soft_product\",\"41_address_delivery_item\",\"43_love_bomb_sister\",\"45_shower_hotel_water\",\"47_small_size_serve\",\"49_great_shoe_favorite\"],\"y\":[\"0_running_shoe_for\",\"5_nike_and_this\",\"14_max_air_nike\",\"29_nike_nikes_comfortable\",\"40_free_30_frees\",\"1_sandal_these_are\",\"2_comfortable_they_fit\",\"7_slide_are_velcro\",\"10_flop_flip_are\",\"16_slipper_slip_house\",\"28_thong_toe_pair\",\"33_pair_year_etc\",\"3_wide_narrow_foot\",\"6_sneaker_fit_these\",\"8_son_his_size\",\"9_size_larger_order\",\"11_size_nike_small\",\"15_fit_great_shoe\",\"50_picture_same_got\",\"4_squeak_squeaking_powder\",\"18_arch_support_high\",\"27_pegasus_running_vomero\",\"34_pain_foot_walk\",\"12_comfortable_foot_hour\",\"19_light_lightweight_weight\",\"30_soft_foot_they\",\"31_tight_pinky_toe\",\"37_comfortable_very_love\",\"44_husband_shoe_him\",\"46_love_self_awesome\",\"13_she_gift_them\",\"17_12_size_small\",\"26_85_size_75\",\"32_105_size_115\",\"38_woman_men_sock\",\"48_small_size_half\",\"20_sock_son_boy\",\"39_son_bought_size\",\"21_perfect_nice_perfecto\",\"22_quality_very_good\",\"51_light_color_pair\",\"23_box_came_shipping\",\"42_white_black_base\",\"24_muy_bien_que\",\"25_fit_great_product\",\"35_blue_color_dark\",\"36_cushion_soft_product\",\"41_address_delivery_item\",\"43_love_bomb_sister\",\"45_shower_hotel_water\",\"47_small_size_serve\",\"49_great_shoe_favorite\"],\"z\":[[1.0,0.7916761636734009,0.782602846622467,0.8179537653923035,0.83686363697052,0.6542701125144958,0.6793574094772339,0.709717869758606,0.6814256906509399,0.6352573037147522,0.6663534641265869,0.6708327531814575,0.7397943735122681,0.7585449814796448,0.7805330753326416,0.7364470958709717,0.7848495841026306,0.7912779450416565,0.7642483711242676,0.6632710695266724,0.8039771914482117,0.8262924551963806,0.7787825465202332,0.8043308258056641,0.8233942985534668,0.8573805689811707,0.7454327940940857,0.7939688563346863,0.744410514831543,0.7908573150634766,0.3892313241958618,0.6793901920318604,0.7231349349021912,0.6456108093261719,0.6944633722305298,0.7429172992706299,0.6336382627487183,0.5598878860473633,0.18698765337467194,0.517869770526886,0.5378866195678711,0.7235227227210999,0.706600546836853,0.20132963359355927,0.499398797750473,0.38361167907714844,0.4894576966762543,0.19414132833480835,0.298406720161438,0.6554897427558899,0.3470180034637451,0.6689764261245728],[0.7916761636734009,1.0000001192092896,0.8667560815811157,0.8938251733779907,0.8453824520111084,0.673158586025238,0.6626991033554077,0.6512657403945923,0.6681470274925232,0.584105372428894,0.6711870431900024,0.6608743667602539,0.661106526851654,0.7815889716148376,0.7792643308639526,0.7097818851470947,0.8738993406295776,0.7670990228652954,0.7602652311325073,0.6862342953681946,0.6998665928840637,0.7348917722702026,0.6784733533859253,0.6773405075073242,0.7342991828918457,0.7225690484046936,0.7042544484138489,0.7431089878082275,0.7070053815841675,0.7647277116775513,0.540195643901825,0.6384903192520142,0.6739463210105896,0.6197417974472046,0.6516452431678772,0.6070201396942139,0.6610293388366699,0.605072021484375,0.23855607211589813,0.5873130559921265,0.5451858043670654,0.7739623785018921,0.7344620227813721,0.29461485147476196,0.5599968433380127,0.48519107699394226,0.525907576084137,0.3226625323295593,0.3566601574420929,0.5600156784057617,0.4230952262878418,0.6378684043884277],[0.782602846622467,0.8667560815811157,1.0000001192092896,0.8316510915756226,0.7880074977874756,0.6568025946617126,0.6189703941345215,0.5953900218009949,0.6454025506973267,0.5363380312919617,0.6403784155845642,0.6728982329368591,0.6366666555404663,0.752643346786499,0.732837438583374,0.685815691947937,0.7873847484588623,0.7192854881286621,0.7068496942520142,0.6899346113204956,0.7243596315383911,0.7808251976966858,0.7167861461639404,0.7049721479415894,0.7333362102508545,0.7305037379264832,0.6916459202766418,0.7263599634170532,0.7155436873435974,0.7511330842971802,0.4666389226913452,0.6063518524169922,0.6651086807250977,0.623818039894104,0.6073998212814331,0.5753647089004517,0.5812549591064453,0.5134637951850891,0.19138145446777344,0.5299054384231567,0.49700576066970825,0.7542232275009155,0.7051756381988525,0.23463374376296997,0.4491237998008728,0.45918703079223633,0.5081079602241516,0.2956444025039673,0.30128300189971924,0.5540964603424072,0.3312441110610962,0.6101492047309875],[0.8179537653923035,0.8938251733779907,0.8316510915756226,1.0,0.8204172253608704,0.7148805856704712,0.7428792715072632,0.722137451171875,0.7480198740959167,0.6682227253913879,0.7552185654640198,0.7526220083236694,0.6627488136291504,0.7426210641860962,0.7245445251464844,0.657909095287323,0.8114330172538757,0.7102012634277344,0.7392377853393555,0.7107353210449219,0.7638063430786133,0.7461389303207397,0.7686707973480225,0.8410192728042603,0.7813397645950317,0.8314535617828369,0.7498998641967773,0.7931865453720093,0.7388888597488403,0.7363078594207764,0.4452509582042694,0.6022546291351318,0.6438664197921753,0.588918924331665,0.6505497694015503,0.5679629445075989,0.6282405853271484,0.5127795934677124,0.16504615545272827,0.5957033634185791,0.5715711712837219,0.7009468674659729,0.7059969902038574,0.23491781949996948,0.43079084157943726,0.42965811491012573,0.6215217113494873,0.21238258481025696,0.3108823299407959,0.6364046335220337,0.3537662923336029,0.5849698185920715],[0.83686363697052,0.8453824520111084,0.7880074977874756,0.8204172253608704,1.0,0.64793860912323,0.618554949760437,0.671842098236084,0.6784353256225586,0.6288660764694214,0.6800537109375,0.64115309715271,0.7335376739501953,0.7668118476867676,0.7533308863639832,0.7555778622627258,0.8366951942443848,0.7883142828941345,0.746381402015686,0.6546725034713745,0.7506133317947388,0.7443253397941589,0.7527898550033569,0.742469847202301,0.7286207675933838,0.8065958023071289,0.7763404250144958,0.7298929691314697,0.7055290937423706,0.7696901559829712,0.41454610228538513,0.6603842973709106,0.6986744403839111,0.6359829902648926,0.6993597149848938,0.6919152140617371,0.6499698162078857,0.5584465265274048,0.17077359557151794,0.4403376579284668,0.4549563229084015,0.7345422506332397,0.6807246208190918,0.21651910245418549,0.4634406566619873,0.37356817722320557,0.4413200914859772,0.25723570585250854,0.27148768305778503,0.6275941133499146,0.3746423125267029,0.6088908910751343],[0.6542701125144958,0.673158586025238,0.6568025946617126,0.7148805856704712,0.64793860912323,1.0,0.6929473876953125,0.6680154800415039,0.6858631372451782,0.6826857328414917,0.698418378829956,0.6673446893692017,0.6297365427017212,0.6415643095970154,0.6501656770706177,0.6302108764648438,0.6532379388809204,0.6316467523574829,0.6280584335327148,0.6253838539123535,0.6721423864364624,0.598861813545227,0.6118850708007812,0.7126093506813049,0.6351169347763062,0.6955362558364868,0.6530178785324097,0.6543439626693726,0.637437105178833,0.6480231285095215,0.47294193506240845,0.5700386166572571,0.5720164775848389,0.5540097951889038,0.6141493916511536,0.5643488764762878,0.5890470743179321,0.5621467232704163,0.19197094440460205,0.5609197616577148,0.49876779317855835,0.6007485389709473,0.5604647397994995,0.2176995575428009,0.4715961217880249,0.3876936435699463,0.5994493365287781,0.2811436057090759,0.2803788185119629,0.6446899175643921,0.4487306475639343,0.5012677311897278],[0.6793574094772339,0.6626991033554077,0.6189703941345215,0.7428792715072632,0.618554949760437,0.6929473876953125,0.9999999403953552,0.7120102643966675,0.6899714469909668,0.7103848457336426,0.7659211158752441,0.8152073621749878,0.6556085348129272,0.7472485303878784,0.6900748014450073,0.6293619871139526,0.6298142671585083,0.7192097902297974,0.6936476230621338,0.5079011917114258,0.6295004487037659,0.5956392288208008,0.5788283348083496,0.7693776488304138,0.6905945539474487,0.7421578168869019,0.6797227263450623,0.7067838907241821,0.6980022192001343,0.6554359197616577,0.6265574097633362,0.5994946956634521,0.6341646313667297,0.5883851051330566,0.6133902072906494,0.5761401057243347,0.630378246307373,0.7255473136901855,0.24071121215820312,0.7399072647094727,0.6276190876960754,0.581507682800293,0.5215149521827698,0.1458050161600113,0.6888858675956726,0.46217095851898193,0.6852349042892456,0.3164328336715698,0.4407082796096802,0.5869576930999756,0.5631539821624756,0.47507786750793457],[0.709717869758606,0.6512657403945923,0.5953900218009949,0.722137451171875,0.671842098236084,0.6680154800415039,0.7120102643966675,0.9999998807907104,0.7566299438476562,0.7933319807052612,0.749437689781189,0.6900193691253662,0.6533834338188171,0.6865688562393188,0.7102359533309937,0.6365657448768616,0.6240519285202026,0.6555830240249634,0.6675662994384766,0.64603590965271,0.7089954614639282,0.6090155839920044,0.6994684338569641,0.7754380702972412,0.7059137225151062,0.7697956562042236,0.7134234309196472,0.7011239528656006,0.7016202211380005,0.6968778371810913,0.5181560516357422,0.560697078704834,0.5926904678344727,0.5472820997238159,0.5972317457199097,0.5724649429321289,0.6343638896942139,0.5691031217575073,0.2030247449874878,0.5292168855667114,0.5077710151672363,0.6248455047607422,0.5765738487243652,0.16220539808273315,0.43375086784362793,0.3635868430137634,0.5850567817687988,0.2107357382774353,0.3511676788330078,0.69215989112854,0.41247332096099854,0.5421715378761292],[0.6814256906509399,0.6681470274925232,0.6454025506973267,0.7480198740959167,0.6784353256225586,0.6858631372451782,0.6899714469909668,0.7566299438476562,1.000000238418579,0.75840824842453,0.7784678936004639,0.7076088190078735,0.6039302349090576,0.6623237133026123,0.6575161218643188,0.6105499267578125,0.6294916272163391,0.6120259165763855,0.640944242477417,0.5712165236473083,0.6495280265808105,0.636989414691925,0.6325658559799194,0.740729033946991,0.6643492579460144,0.7017946243286133,0.6532924771308899,0.6820130348205566,0.6595637798309326,0.6682663559913635,0.45819446444511414,0.5619289875030518,0.5777109265327454,0.5504644513130188,0.5867738723754883,0.5516444444656372,0.5661013126373291,0.517379879951477,0.1756618171930313,0.5275892615318298,0.4769017696380615,0.6006011962890625,0.584227442741394,0.1552247852087021,0.3794975280761719,0.3686043620109558,0.5826584100723267,0.2142503410577774,0.3228222131729126,0.6553884148597717,0.37963801622390747,0.5176031589508057],[0.6352573037147522,0.584105372428894,0.5363380312919617,0.6682227253913879,0.6288660764694214,0.6826857328414917,0.7103848457336426,0.7933319807052612,0.75840824842453,0.9999996423721313,0.7564098834991455,0.6629627346992493,0.6735450029373169,0.7014458179473877,0.653053879737854,0.6377978324890137,0.5875884294509888,0.6420905590057373,0.6183809638023376,0.5873302221298218,0.6183249950408936,0.5467281341552734,0.6599247455596924,0.7749180793762207,0.656509518623352,0.7556496858596802,0.7043832540512085,0.6731526255607605,0.6688828468322754,0.6566475629806519,0.47074007987976074,0.575769305229187,0.5708014965057373,0.5368043780326843,0.6056736707687378,0.5473142862319946,0.6098359823226929,0.5519983768463135,0.15958815813064575,0.5157679319381714,0.46207770705223083,0.5776472091674805,0.5356043577194214,0.1278393268585205,0.40896332263946533,0.3021217882633209,0.6168002486228943,0.22881440818309784,0.3116292357444763,0.7169366478919983,0.4160727262496948,0.4963935911655426],[0.6663534641265869,0.6711870431900024,0.6403784155845642,0.7552185654640198,0.6800537109375,0.698418378829956,0.7659211158752441,0.749437689781189,0.7784678936004639,0.7564098834991455,1.0000001192092896,0.770479679107666,0.6406354904174805,0.7177742719650269,0.6455734968185425,0.6509921550750732,0.6426367163658142,0.6781191825866699,0.6794041395187378,0.6018896102905273,0.665049135684967,0.6050812005996704,0.639937162399292,0.7673839926719666,0.6651808023452759,0.7323777675628662,0.7290173768997192,0.7300975322723389,0.7041057348251343,0.6938495635986328,0.47801125049591064,0.6137590408325195,0.5962051153182983,0.5715568661689758,0.6179894208908081,0.5576457381248474,0.646315336227417,0.5560019016265869,0.23330330848693848,0.5909340381622314,0.5299237370491028,0.609416127204895,0.6055659055709839,0.20375601947307587,0.5113397836685181,0.42391496896743774,0.6118378639221191,0.23625047504901886,0.34749943017959595,0.6516738533973694,0.4233659505844116,0.5481545925140381],[0.6708327531814575,0.6608743667602539,0.6728982329368591,0.7526220083236694,0.64115309715271,0.6673446893692017,0.8152073621749878,0.6900193691253662,0.7076088190078735,0.6629627346992493,0.770479679107666,1.0,0.5643726587295532,0.7090483903884888,0.6416913866996765,0.57384192943573,0.5845688581466675,0.5962836742401123,0.6160386204719543,0.5668777227401733,0.6014920473098755,0.6094073057174683,0.641565203666687,0.7679842114448547,0.6781741380691528,0.6846364736557007,0.6377689838409424,0.6782563328742981,0.7360737919807434,0.7120873928070068,0.6241608262062073,0.5416881442070007,0.594330906867981,0.5456830263137817,0.5641727447509766,0.5117014050483704,0.6057138442993164,0.57717365026474,0.20629672706127167,0.6037651300430298,0.564970850944519,0.5973398685455322,0.562496542930603,0.15383046865463257,0.43538856506347656,0.4916664958000183,0.5912613868713379,0.24832358956336975,0.40072283148765564,0.5934925675392151,0.3918139338493347,0.49768343567848206],[0.7397943735122681,0.661106526851654,0.6366666555404663,0.6627488136291504,0.7335376739501953,0.6297365427017212,0.6556085348129272,0.6533834338188171,0.6039302349090576,0.6735450029373169,0.6406354904174805,0.5643726587295532,0.9999995827674866,0.7457584738731384,0.7572969198226929,0.8443626165390015,0.7627367973327637,0.8151072263717651,0.7479038238525391,0.5976484417915344,0.7436805963516235,0.6524585485458374,0.6963983178138733,0.7484636306762695,0.7273080945014954,0.8304451704025269,0.8263309597969055,0.720885157585144,0.7224147915840149,0.7226210832595825,0.3777656555175781,0.7511782646179199,0.7038271427154541,0.6967270374298096,0.7570631504058838,0.7377270460128784,0.626144528388977,0.6433980464935303,0.17663300037384033,0.4480629563331604,0.4351009130477905,0.6665543913841248,0.6221839189529419,0.16006703674793243,0.5362958908081055,0.3402342200279236,0.4828537106513977,0.2393794059753418,0.26444417238235474,0.5816953182220459,0.5441558361053467,0.5917350649833679],[0.7585449814796448,0.7815889716148376,0.752643346786499,0.7426210641860962,0.7668118476867676,0.6415643095970154,0.7472485303878784,0.6865688562393188,0.6623237133026123,0.7014458179473877,0.7177742719650269,0.7090483903884888,0.7457584738731384,1.0,0.7719180583953857,0.7606676816940308,0.7466020584106445,0.8354358673095703,0.7908977270126343,0.6482115387916565,0.6714575290679932,0.6830683946609497,0.6639042496681213,0.7240680456161499,0.7485343217849731,0.7785208225250244,0.7419900894165039,0.7711204290390015,0.7737878561019897,0.8044567108154297,0.5419792532920837,0.6963196396827698,0.6933289766311646,0.6218163967132568,0.6892305612564087,0.6582213640213013,0.6727762818336487,0.648226261138916,0.23865996301174164,0.5577206611633301,0.5478262901306152,0.7470061779022217,0.7169512510299683,0.167028546333313,0.6110625267028809,0.4892188012599945,0.5010343194007874,0.2982509136199951,0.3877180218696594,0.5935585498809814,0.46663400530815125,0.6514219045639038],[0.7805330753326416,0.7792643308639526,0.732837438583374,0.7245445251464844,0.7533308863639832,0.6501656770706177,0.6900748014450073,0.7102359533309937,0.6575161218643188,0.653053879737854,0.6455734968185425,0.6416913866996765,0.7572969198226929,0.7719180583953857,0.9999997615814209,0.8310691714286804,0.77718186378479,0.811212956905365,0.7809752225875854,0.6542025208473206,0.7338488698005676,0.6743330955505371,0.7173724174499512,0.7552154064178467,0.7595347166061401,0.7949867248535156,0.7639486789703369,0.7614040374755859,0.789124608039856,0.7957552671432495,0.613547682762146,0.7462965846061707,0.7011404037475586,0.6723101139068604,0.7374298572540283,0.7400984764099121,0.7568715810775757,0.8198608160018921,0.18752025067806244,0.47724372148513794,0.48383140563964844,0.7498093247413635,0.6918337941169739,0.23063558340072632,0.50351881980896,0.40741634368896484,0.47063252329826355,0.23551520705223083,0.3729008138179779,0.5935070514678955,0.4833383560180664,0.653921365737915],[0.7364470958709717,0.7097818851470947,0.685815691947937,0.657909095287323,0.7555778622627258,0.6302108764648438,0.6293619871139526,0.6365657448768616,0.6105499267578125,0.6377978324890137,0.6509921550750732,0.57384192943573,0.8443626165390015,0.7606676816940308,0.8310691714286804,1.0,0.877711296081543,0.8696451187133789,0.7945231795310974,0.619793176651001,0.7162999510765076,0.6523555517196655,0.7159526348114014,0.7079670429229736,0.7191715836524963,0.7911425828933716,0.8192710876464844,0.7357555031776428,0.7355784177780151,0.7798491716384888,0.44679009914398193,0.8501756191253662,0.7592824101448059,0.7712877988815308,0.8192806243896484,0.868934154510498,0.684555172920227,0.7283550500869751,0.19367560744285583,0.39703768491744995,0.43064960837364197,0.7722783088684082,0.6966809034347534,0.1918773651123047,0.5343976020812988,0.4102340340614319,0.39859992265701294,0.3344835340976715,0.2658999264240265,0.59999680519104,0.6527594327926636,0.6463731527328491],[0.7848495841026306,0.8738993406295776,0.7873847484588623,0.8114330172538757,0.8366951942443848,0.6532379388809204,0.6298142671585083,0.6240519285202026,0.6294916272163391,0.5875884294509888,0.6426367163658142,0.5845688581466675,0.7627367973327637,0.7466020584106445,0.77718186378479,0.877711296081543,1.0000001192092896,0.7972115278244019,0.7430742383003235,0.638671338558197,0.6971821784973145,0.7037286758422852,0.6642251014709473,0.6424594521522522,0.6852329969406128,0.7444033622741699,0.7467219829559326,0.6545014381408691,0.6449763178825378,0.6855371594429016,0.40464621782302856,0.7845999002456665,0.7760119438171387,0.747654378414154,0.7433042526245117,0.827522337436676,0.6500197649002075,0.6912568211555481,0.14112061262130737,0.40399932861328125,0.44332581758499146,0.7050659656524658,0.6533372402191162,0.2278967797756195,0.5078549981117249,0.38323819637298584,0.43050214648246765,0.27992498874664307,0.23121985793113708,0.5650790929794312,0.5910758972167969,0.5495182871818542],[0.7912779450416565,0.7670990228652954,0.7192854881286621,0.7102012634277344,0.7883142828941345,0.6316467523574829,0.7192097902297974,0.6555830240249634,0.6120259165763855,0.6420905590057373,0.6781191825866699,0.5962836742401123,0.8151072263717651,0.8354358673095703,0.811212956905365,0.8696451187133789,0.7972115278244019,1.000000238418579,0.8619827628135681,0.6683201193809509,0.7546303272247314,0.7023681402206421,0.7432148456573486,0.7525938749313354,0.7638536691665649,0.8558789491653442,0.8501832485198975,0.8110624551773071,0.7797167301177979,0.8347035646438599,0.44373995065689087,0.75025475025177,0.6959682703018188,0.6838042736053467,0.759376585483551,0.7275192737579346,0.6753993630409241,0.6508403420448303,0.2159441113471985,0.5088857412338257,0.5030102133750916,0.8260684609413147,0.7384583353996277,0.1909969300031662,0.6960071325302124,0.430361270904541,0.4510685205459595,0.3627992868423462,0.33566907048225403,0.5961512923240662,0.4783923029899597,0.7072862386703491],[0.7642483711242676,0.7602652311325073,0.7068496942520142,0.7392377853393555,0.746381402015686,0.6280584335327148,0.6936476230621338,0.6675662994384766,0.640944242477417,0.6183809638023376,0.6794041395187378,0.6160386204719543,0.7479038238525391,0.7908977270126343,0.7809752225875854,0.7945231795310974,0.7430742383003235,0.8619827628135681,1.000000238418579,0.6261518597602844,0.7293463945388794,0.6644457578659058,0.7181940078735352,0.7304002046585083,0.7825205326080322,0.800646185874939,0.8122630715370178,0.7655133008956909,0.7532848119735718,0.8054122924804688,0.49613627791404724,0.6884548664093018,0.657811164855957,0.6458835601806641,0.7268226146697998,0.6620240211486816,0.6636381149291992,0.6121646165847778,0.22178293764591217,0.5084929466247559,0.5789854526519775,0.8087512254714966,0.8309651017189026,0.18842104077339172,0.5819209814071655,0.6100928783416748,0.44525617361068726,0.28290414810180664,0.3299456238746643,0.5927653312683105,0.46036797761917114,0.6448765397071838],[0.6632710695266724,0.6862342953681946,0.6899346113204956,0.7107353210449219,0.6546725034713745,0.6253838539123535,0.5079011917114258,0.64603590965271,0.5712165236473083,0.5873302221298218,0.6018896102905273,0.5668777227401733,0.5976484417915344,0.6482115387916565,0.6542025208473206,0.619793176651001,0.638671338558197,0.6683201193809509,0.6261518597602844,1.0,0.6932181119918823,0.6412051916122437,0.7518213987350464,0.7151050567626953,0.6276798248291016,0.735675573348999,0.7270223498344421,0.6679514646530151,0.6771711111068726,0.6822453737258911,0.3659229874610901,0.5012057423591614,0.5039634704589844,0.49670785665512085,0.5547173023223877,0.5043157339096069,0.5602250099182129,0.4156341552734375,0.15934190154075623,0.35546544194221497,0.3196323812007904,0.6568289995193481,0.6378718614578247,0.13603517413139343,0.3088533282279968,0.29135674238204956,0.4950859546661377,0.218254953622818,0.2568150758743286,0.5581713914871216,0.22896423935890198,0.5683339238166809],[0.8039771914482117,0.6998665928840637,0.7243596315383911,0.7638063430786133,0.7506133317947388,0.6721423864364624,0.6295004487037659,0.7089954614639282,0.6495280265808105,0.6183249950408936,0.665049135684967,0.6014920473098755,0.7436805963516235,0.6714575290679932,0.7338488698005676,0.7162999510765076,0.6971821784973145,0.7546303272247314,0.7293463945388794,0.6932181119918823,1.0,0.76203453540802,0.8023926019668579,0.8025248050689697,0.750916600227356,0.8338683843612671,0.7869263887405396,0.7634587287902832,0.7275590896606445,0.7480279803276062,0.36264437437057495,0.6009700298309326,0.6385879516601562,0.5969114899635315,0.65925133228302,0.6103830337524414,0.5812978744506836,0.5112303495407104,0.17808540165424347,0.47905072569847107,0.4613209664821625,0.6839876174926758,0.6644687652587891,0.1952691525220871,0.4434557259082794,0.3430882692337036,0.5441297888755798,0.18403935432434082,0.263247549533844,0.6523844003677368,0.3280278444290161,0.6250149011611938],[0.8262924551963806,0.7348917722702026,0.7808251976966858,0.7461389303207397,0.7443253397941589,0.598861813545227,0.5956392288208008,0.6090155839920044,0.636989414691925,0.5467281341552734,0.6050812005996704,0.6094073057174683,0.6524585485458374,0.6830683946609497,0.6743330955505371,0.6523555517196655,0.7037286758422852,0.7023681402206421,0.6644457578659058,0.6412051916122437,0.76203453540802,1.0,0.7030864357948303,0.7000026106834412,0.7194036841392517,0.7476323246955872,0.653656005859375,0.7064527869224548,0.6615878939628601,0.6975551247596741,0.3525032699108124,0.5878018140792847,0.6148869395256042,0.5674909353256226,0.5892563462257385,0.6046930551528931,0.5040117502212524,0.45669400691986084,0.16272830963134766,0.48136961460113525,0.46602433919906616,0.6681284308433533,0.6532295942306519,0.18410064280033112,0.4283190667629242,0.3568927049636841,0.5328253507614136,0.22988030314445496,0.23528297245502472,0.5657738447189331,0.3001311123371124,0.5820924043655396],[0.7787825465202332,0.6784733533859253,0.7167861461639404,0.7686707973480225,0.7527898550033569,0.6118850708007812,0.5788283348083496,0.6994684338569641,0.6325658559799194,0.6599247455596924,0.639937162399292,0.641565203666687,0.6963983178138733,0.6639042496681213,0.7173724174499512,0.7159526348114014,0.6642251014709473,0.7432148456573486,0.7181940078735352,0.7518213987350464,0.8023926019668579,0.7030864357948303,1.0,0.8868496417999268,0.7512582540512085,0.8699307441711426,0.8388144969940186,0.7525250315666199,0.7727131247520447,0.7962568402290344,0.3912903666496277,0.6061562299728394,0.5469444394111633,0.5497479438781738,0.6617949604988098,0.5708525776863098,0.6342474222183228,0.43054699897766113,0.1476983278989792,0.40843111276626587,0.4277637004852295,0.7475548982620239,0.6959226131439209,0.16200950741767883,0.3291885554790497,0.31932979822158813,0.5319316387176514,0.2551223039627075,0.29697495698928833,0.6717162132263184,0.2623952627182007,0.6481484174728394],[0.8043308258056641,0.6773405075073242,0.7049721479415894,0.8410192728042603,0.742469847202301,0.7126093506813049,0.7693776488304138,0.7754380702972412,0.740729033946991,0.7749180793762207,0.7673839926719666,0.7679842114448547,0.7484636306762695,0.7240680456161499,0.7552154064178467,0.7079670429229736,0.6424594521522522,0.7525938749313354,0.7304002046585083,0.7151050567626953,0.8025248050689697,0.7000026106834412,0.8868496417999268,1.0,0.8200975656509399,0.9281575679779053,0.8254374265670776,0.8674474954605103,0.8232721090316772,0.8069843053817749,0.4338364899158478,0.6281341314315796,0.6124507784843445,0.5903335213661194,0.6831310987472534,0.5843004584312439,0.666621208190918,0.5145390629768372,0.18509379029273987,0.600430428981781,0.5431747436523438,0.7118969559669495,0.6577862501144409,0.1666249930858612,0.4263516068458557,0.3301805853843689,0.6449366211891174,0.2186087965965271,0.33447831869125366,0.7205309867858887,0.34761878848075867,0.6550161838531494],[0.8233942985534668,0.7342991828918457,0.7333362102508545,0.7813397645950317,0.7286207675933838,0.6351169347763062,0.6905945539474487,0.7059137225151062,0.6643492579460144,0.656509518623352,0.6651808023452759,0.6781741380691528,0.7273080945014954,0.7485343217849731,0.7595347166061401,0.7191715836524963,0.6852329969406128,0.7638536691665649,0.7825205326080322,0.6276798248291016,0.750916600227356,0.7194036841392517,0.7512582540512085,0.8200975656509399,0.9999998807907104,0.854194700717926,0.7371532917022705,0.8437399864196777,0.7912272214889526,0.8226696848869324,0.47261154651641846,0.6416223645210266,0.6423994302749634,0.6199084520339966,0.6702116131782532,0.6151595115661621,0.6270531415939331,0.4938569664955139,0.20050501823425293,0.6187245845794678,0.786914050579071,0.7835739850997925,0.74468594789505,0.22548289597034454,0.4431379437446594,0.4575675129890442,0.52958744764328,0.23292559385299683,0.33985698223114014,0.6184384822845459,0.38429978489875793,0.6843050718307495],[0.8573805689811707,0.7225690484046936,0.7305037379264832,0.8314535617828369,0.8065958023071289,0.6955362558364868,0.7421578168869019,0.7697956562042236,0.7017946243286133,0.7556496858596802,0.7323777675628662,0.6846364736557007,0.8304451704025269,0.7785208225250244,0.7949867248535156,0.7911425828933716,0.7444033622741699,0.8558789491653442,0.800646185874939,0.735675573348999,0.8338683843612671,0.7476323246955872,0.8699307441711426,0.9281575679779053,0.854194700717926,1.0,0.8829294443130493,0.8504908084869385,0.8112187385559082,0.8214913010597229,0.3964468836784363,0.7024223804473877,0.6645537614822388,0.6498446464538574,0.7326043844223022,0.6888483762741089,0.6755613088607788,0.5648128986358643,0.16262570023536682,0.5065709948539734,0.5422636866569519,0.7481459975242615,0.6933861970901489,0.1592167615890503,0.4792483150959015,0.33827120065689087,0.5904168486595154,0.2065001279115677,0.30837297439575195,0.6900694370269775,0.3778773546218872,0.6549016237258911],[0.7454327940940857,0.7042544484138489,0.6916459202766418,0.7498998641967773,0.7763404250144958,0.6530178785324097,0.6797227263450623,0.7134234309196472,0.6532924771308899,0.7043832540512085,0.7290173768997192,0.6377689838409424,0.8263309597969055,0.7419900894165039,0.7639486789703369,0.8192710876464844,0.7467219829559326,0.8501832485198975,0.8122630715370178,0.7270223498344421,0.7869263887405396,0.653656005859375,0.8388144969940186,0.8254374265670776,0.7371532917022705,0.8829294443130493,1.0000001192092896,0.7585548162460327,0.7625410556793213,0.7697141766548157,0.42220282554626465,0.7058670520782471,0.649543046951294,0.6405411958694458,0.7297173738479614,0.684726357460022,0.6937575936317444,0.5849565267562866,0.20852196216583252,0.4683583974838257,0.45453113317489624,0.7402775287628174,0.709347128868103,0.1474129557609558,0.5398699641227722,0.3925424814224243,0.5269603133201599,0.2966500520706177,0.29152506589889526,0.6237200498580933,0.4395008683204651,0.6325898170471191],[0.7939688563346863,0.7431089878082275,0.7263599634170532,0.7931865453720093,0.7298929691314697,0.6543439626693726,0.7067838907241821,0.7011239528656006,0.6820130348205566,0.6731526255607605,0.7300975322723389,0.6782563328742981,0.720885157585144,0.7711204290390015,0.7614040374755859,0.7357555031776428,0.6545014381408691,0.8110624551773071,0.7655133008956909,0.6679514646530151,0.7634587287902832,0.7064527869224548,0.7525250315666199,0.8674474954605103,0.8437399864196777,0.8504908084869385,0.7585548162460327,1.0000001192092896,0.8470375537872314,0.8712056279182434,0.46931082010269165,0.6422930955886841,0.6138299107551575,0.5812966823577881,0.6783479452133179,0.5692287087440491,0.6269009113311768,0.4910357892513275,0.32892757654190063,0.6727470755577087,0.5896622538566589,0.7845808267593384,0.7335214614868164,0.23844675719738007,0.5592266321182251,0.4213508069515228,0.5419449210166931,0.2791588008403778,0.44554275274276733,0.6259704828262329,0.3820950984954834,0.8352590799331665],[0.744410514831543,0.7070053815841675,0.7155436873435974,0.7388888597488403,0.7055290937423706,0.637437105178833,0.6980022192001343,0.7016202211380005,0.6595637798309326,0.6688828468322754,0.7041057348251343,0.7360737919807434,0.7224147915840149,0.7737878561019897,0.789124608039856,0.7355784177780151,0.6449763178825378,0.7797167301177979,0.7532848119735718,0.6771711111068726,0.7275590896606445,0.6615878939628601,0.7727131247520447,0.8232721090316772,0.7912272214889526,0.8112187385559082,0.7625410556793213,0.8470375537872314,0.9999998807907104,0.8502203822135925,0.5526539087295532,0.6342893838882446,0.6102577447891235,0.581375002861023,0.7359488606452942,0.6065195798873901,0.6649624109268188,0.5695953369140625,0.23019108176231384,0.5332338213920593,0.5193830728530884,0.7495251297950745,0.739474892616272,0.14460958540439606,0.4587937295436859,0.4483001232147217,0.5077632665634155,0.25467419624328613,0.40528982877731323,0.6361961364746094,0.33847033977508545,0.7165760397911072],[0.7908573150634766,0.7647277116775513,0.7511330842971802,0.7363078594207764,0.7696901559829712,0.6480231285095215,0.6554359197616577,0.6968778371810913,0.6682663559913635,0.6566475629806519,0.6938495635986328,0.7120873928070068,0.7226210832595825,0.8044567108154297,0.7957552671432495,0.7798491716384888,0.6855371594429016,0.8347035646438599,0.8054122924804688,0.6822453737258911,0.7480279803276062,0.6975551247596741,0.7962568402290344,0.8069843053817749,0.8226696848869324,0.8214913010597229,0.7697141766548157,0.8712056279182434,0.8502203822135925,1.0,0.6153385639190674,0.674836277961731,0.6158166527748108,0.5891391038894653,0.7145841121673584,0.6273174285888672,0.6592959761619568,0.5605584383010864,0.2763788104057312,0.509117066860199,0.5432103276252747,0.8480961322784424,0.7869993448257446,0.22889293730258942,0.4974224865436554,0.474867045879364,0.45076948404312134,0.295932412147522,0.5012616515159607,0.644676923751831,0.3812807500362396,0.793499767780304],[0.3892313241958618,0.540195643901825,0.4666389226913452,0.4452509582042694,0.41454610228538513,0.47294193506240845,0.6265574097633362,0.5181560516357422,0.45819446444511414,0.47074007987976074,0.47801125049591064,0.6241608262062073,0.3777656555175781,0.5419792532920837,0.613547682762146,0.44679009914398193,0.40464621782302856,0.44373995065689087,0.49613627791404724,0.3659229874610901,0.36264437437057495,0.3525032699108124,0.3912903666496277,0.4338364899158478,0.47261154651641846,0.3964468836784363,0.42220282554626465,0.46931082010269165,0.5526539087295532,0.6153385639190674,1.000000238418579,0.4283960163593292,0.36981135606765747,0.362842857837677,0.3941180109977722,0.3492416441440582,0.5107401609420776,0.5993220210075378,0.3446822166442871,0.5242891311645508,0.4919080436229706,0.5920385718345642,0.4743359386920929,0.1716817319393158,0.42555809020996094,0.5516587495803833,0.4328734874725342,0.47528618574142456,0.5950998067855835,0.3358694314956665,0.486164391040802,0.40277737379074097],[0.6793901920318604,0.6384903192520142,0.6063518524169922,0.6022546291351318,0.6603842973709106,0.5700386166572571,0.5994946956634521,0.560697078704834,0.5619289875030518,0.575769305229187,0.6137590408325195,0.5416881442070007,0.7511782646179199,0.6963196396827698,0.7462965846061707,0.8501756191253662,0.7845999002456665,0.75025475025177,0.6884548664093018,0.5012057423591614,0.6009700298309326,0.5878018140792847,0.6061562299728394,0.6281341314315796,0.6416223645210266,0.7024223804473877,0.7058670520782471,0.6422930955886841,0.6342893838882446,0.674836277961731,0.4283960163593292,0.9999999403953552,0.659630298614502,0.7027150392532349,0.7257533073425293,0.776563286781311,0.6147885918617249,0.6948818564414978,0.17623105645179749,0.3821684420108795,0.42281001806259155,0.6484931707382202,0.6070774793624878,0.17341314256191254,0.5006241798400879,0.39355140924453735,0.37827399373054504,0.2661517858505249,0.2526077926158905,0.5164732336997986,0.5825260281562805,0.5500795245170593],[0.7231349349021912,0.6739463210105896,0.6651086807250977,0.6438664197921753,0.6986744403839111,0.5720164775848389,0.6341646313667297,0.5926904678344727,0.5777109265327454,0.5708014965057373,0.5962051153182983,0.594330906867981,0.7038271427154541,0.6933289766311646,0.7011404037475586,0.7592824101448059,0.7760119438171387,0.6959682703018188,0.657811164855957,0.5039634704589844,0.6385879516601562,0.6148869395256042,0.5469444394111633,0.6124507784843445,0.6423994302749634,0.6645537614822388,0.649543046951294,0.6138299107551575,0.6102577447891235,0.6158166527748108,0.36981135606765747,0.659630298614502,0.9999997615814209,0.8514930009841919,0.6694818735122681,0.7651212215423584,0.5980056524276733,0.6592001914978027,0.15715451538562775,0.4022403061389923,0.4712274670600891,0.5776451230049133,0.5551314949989319,0.16921298205852509,0.5247383117675781,0.3533831238746643,0.3941638469696045,0.218791663646698,0.23546990752220154,0.5095623731613159,0.5163770914077759,0.5171469449996948],[0.6456108093261719,0.6197417974472046,0.623818039894104,0.588918924331665,0.6359829902648926,0.5540097951889038,0.5883851051330566,0.5472820997238159,0.5504644513130188,0.5368043780326843,0.5715568661689758,0.5456830263137817,0.6967270374298096,0.6218163967132568,0.6723101139068604,0.7712877988815308,0.747654378414154,0.6838042736053467,0.6458835601806641,0.49670785665512085,0.5969114899635315,0.5674909353256226,0.5497479438781738,0.5903335213661194,0.6199084520339966,0.6498446464538574,0.6405411958694458,0.5812966823577881,0.581375002861023,0.5891391038894653,0.362842857837677,0.7027150392532349,0.8514930009841919,1.0000001192092896,0.6373599171638489,0.7263737916946411,0.5874905586242676,0.6186428070068359,0.129207581281662,0.36749863624572754,0.4320586919784546,0.5862845182418823,0.5322974920272827,0.15977782011032104,0.4582063555717468,0.3444315791130066,0.36907505989074707,0.2567216157913208,0.18571805953979492,0.5056875944137573,0.4987833797931671,0.46325892210006714],[0.6944633722305298,0.6516452431678772,0.6073998212814331,0.6505497694015503,0.6993597149848938,0.6141493916511536,0.6133902072906494,0.5972317457199097,0.5867738723754883,0.6056736707687378,0.6179894208908081,0.5641727447509766,0.7570631504058838,0.6892305612564087,0.7374298572540283,0.8192806243896484,0.7433042526245117,0.759376585483551,0.7268226146697998,0.5547173023223877,0.65925133228302,0.5892563462257385,0.6617949604988098,0.6831310987472534,0.6702116131782532,0.7326043844223022,0.7297173738479614,0.6783479452133179,0.7359488606452942,0.7145841121673584,0.3941180109977722,0.7257533073425293,0.6694818735122681,0.6373599171638489,1.0000001192092896,0.7178051471710205,0.6701350212097168,0.6593279838562012,0.13050304353237152,0.3651544451713562,0.40961724519729614,0.6466084718704224,0.6362344026565552,0.1606178879737854,0.46136775612831116,0.3680640459060669,0.3868905007839203,0.21262729167938232,0.24929633736610413,0.6041123867034912,0.5054632425308228,0.5700956583023071],[0.7429172992706299,0.6070201396942139,0.5753647089004517,0.5679629445075989,0.6919152140617371,0.5643488764762878,0.5761401057243347,0.5724649429321289,0.5516444444656372,0.5473142862319946,0.5576457381248474,0.5117014050483704,0.7377270460128784,0.6582213640213013,0.7400984764099121,0.868934154510498,0.827522337436676,0.7275192737579346,0.6620240211486816,0.5043157339096069,0.6103830337524414,0.6046930551528931,0.5708525776863098,0.5843004584312439,0.6151595115661621,0.6888483762741089,0.684726357460022,0.5692287087440491,0.6065195798873901,0.6273174285888672,0.3492416441440582,0.776563286781311,0.7651212215423584,0.7263737916946411,0.7178051471710205,0.9999997615814209,0.6269726753234863,0.7098366022109985,0.135470911860466,0.2821512222290039,0.3653009533882141,0.5728324055671692,0.5576435327529907,0.1308000087738037,0.4601810872554779,0.3085496723651886,0.29651468992233276,0.18809914588928223,0.22407376766204834,0.516072154045105,0.613174557685852,0.5017527341842651],[0.6336382627487183,0.6610293388366699,0.5812549591064453,0.6282405853271484,0.6499698162078857,0.5890470743179321,0.630378246307373,0.6343638896942139,0.5661013126373291,0.6098359823226929,0.646315336227417,0.6057138442993164,0.626144528388977,0.6727762818336487,0.7568715810775757,0.684555172920227,0.6500197649002075,0.6753993630409241,0.6636381149291992,0.5602250099182129,0.5812978744506836,0.5040117502212524,0.6342474222183228,0.666621208190918,0.6270531415939331,0.6755613088607788,0.6937575936317444,0.6269009113311768,0.6649624109268188,0.6592959761619568,0.5107401609420776,0.6147885918617249,0.5980056524276733,0.5874905586242676,0.6701350212097168,0.6269726753234863,1.0,0.6782875657081604,0.20258325338363647,0.4020792841911316,0.4293549060821533,0.6259644031524658,0.5928000211715698,0.16155508160591125,0.44798743724823,0.356060266494751,0.41683679819107056,0.20415911078453064,0.33888179063796997,0.5709244012832642,0.44000810384750366,0.5590512752532959],[0.5598878860473633,0.605072021484375,0.5134637951850891,0.5127795934677124,0.5584465265274048,0.5621467232704163,0.7255473136901855,0.5691031217575073,0.517379879951477,0.5519983768463135,0.5560019016265869,0.57717365026474,0.6433980464935303,0.648226261138916,0.8198608160018921,0.7283550500869751,0.6912568211555481,0.6508403420448303,0.6121646165847778,0.4156341552734375,0.5112303495407104,0.45669400691986084,0.43054699897766113,0.5145390629768372,0.4938569664955139,0.5648128986358643,0.5849565267562866,0.4910357892513275,0.5695953369140625,0.5605584383010864,0.5993220210075378,0.6948818564414978,0.6592001914978027,0.6186428070068359,0.6593279838562012,0.7098366022109985,0.6782875657081604,1.0,0.15946033596992493,0.3815288543701172,0.37312161922454834,0.48262232542037964,0.43391016125679016,0.15747736394405365,0.5616028904914856,0.36592596769332886,0.3722020387649536,0.19804657995700836,0.3352934718132019,0.4765792489051819,0.6271631717681885,0.406097948551178],[0.18698765337467194,0.23855607211589813,0.19138145446777344,0.16504615545272827,0.17077359557151794,0.19197094440460205,0.24071121215820312,0.2030247449874878,0.1756618171930313,0.15958815813064575,0.23330330848693848,0.20629672706127167,0.17663300037384033,0.23865996301174164,0.18752025067806244,0.19367560744285583,0.14112061262130737,0.2159441113471985,0.22178293764591217,0.15934190154075623,0.17808540165424347,0.16272830963134766,0.1476983278989792,0.18509379029273987,0.20050501823425293,0.16262570023536682,0.20852196216583252,0.32892757654190063,0.23019108176231384,0.2763788104057312,0.3446822166442871,0.17623105645179749,0.15715451538562775,0.129207581281662,0.13050304353237152,0.135470911860466,0.20258325338363647,0.15946033596992493,1.0000001192092896,0.3811132311820984,0.2605830132961273,0.2646833062171936,0.2595868706703186,0.2759045362472534,0.42572295665740967,0.31993865966796875,0.24654430150985718,0.323933869600296,0.5661800503730774,0.07797770202159882,0.28617340326309204,0.44669100642204285],[0.517869770526886,0.5873130559921265,0.5299054384231567,0.5957033634185791,0.4403376579284668,0.5609197616577148,0.7399072647094727,0.5292168855667114,0.5275892615318298,0.5157679319381714,0.5909340381622314,0.6037651300430298,0.4480629563331604,0.5577206611633301,0.47724372148513794,0.39703768491744995,0.40399932861328125,0.5088857412338257,0.5084929466247559,0.35546544194221497,0.47905072569847107,0.48136961460113525,0.40843111276626587,0.600430428981781,0.6187245845794678,0.5065709948539734,0.4683583974838257,0.6727470755577087,0.5332338213920593,0.509117066860199,0.5242891311645508,0.3821684420108795,0.4022403061389923,0.36749863624572754,0.3651544451713562,0.2821512222290039,0.4020792841911316,0.3815288543701172,0.3811132311820984,1.0,0.6932504177093506,0.5284380912780762,0.4636233448982239,0.2808326482772827,0.7009173631668091,0.49467962980270386,0.6675963401794434,0.41492772102355957,0.37124109268188477,0.373728483915329,0.4729250967502594,0.4733462929725647],[0.5378866195678711,0.5451858043670654,0.49700576066970825,0.5715711712837219,0.4549563229084015,0.49876779317855835,0.6276190876960754,0.5077710151672363,0.4769017696380615,0.46207770705223083,0.5299237370491028,0.564970850944519,0.4351009130477905,0.5478262901306152,0.48383140563964844,0.43064960837364197,0.44332581758499146,0.5030102133750916,0.5789854526519775,0.3196323812007904,0.4613209664821625,0.46602433919906616,0.4277637004852295,0.5431747436523438,0.786914050579071,0.5422636866569519,0.45453113317489624,0.5896622538566589,0.5193830728530884,0.5432103276252747,0.4919080436229706,0.42281001806259155,0.4712274670600891,0.4320586919784546,0.40961724519729614,0.3653009533882141,0.4293549060821533,0.37312161922454834,0.2605830132961273,0.6932504177093506,1.0,0.5529801845550537,0.5683835744857788,0.2381790429353714,0.4834803342819214,0.5725468397140503,0.5278303623199463,0.2982141971588135,0.31713974475860596,0.3761126399040222,0.43403375148773193,0.43572112917900085],[0.7235227227210999,0.7739623785018921,0.7542232275009155,0.7009468674659729,0.7345422506332397,0.6007485389709473,0.581507682800293,0.6248455047607422,0.6006011962890625,0.5776472091674805,0.609416127204895,0.5973398685455322,0.6665543913841248,0.7470061779022217,0.7498093247413635,0.7722783088684082,0.7050659656524658,0.8260684609413147,0.8087512254714966,0.6568289995193481,0.6839876174926758,0.6681284308433533,0.7475548982620239,0.7118969559669495,0.7835739850997925,0.7481459975242615,0.7402775287628174,0.7845808267593384,0.7495251297950745,0.8480961322784424,0.5920385718345642,0.6484931707382202,0.5776451230049133,0.5862845182418823,0.6466084718704224,0.5728324055671692,0.6259644031524658,0.48262232542037964,0.2646833062171936,0.5284380912780762,0.5529801845550537,0.9999998807907104,0.7819860577583313,0.24206668138504028,0.48472240567207336,0.49965110421180725,0.44197380542755127,0.5545660257339478,0.35183918476104736,0.5512462258338928,0.42251914739608765,0.7070428133010864],[0.706600546836853,0.7344620227813721,0.7051756381988525,0.7059969902038574,0.6807246208190918,0.5604647397994995,0.5215149521827698,0.5765738487243652,0.584227442741394,0.5356043577194214,0.6055659055709839,0.562496542930603,0.6221839189529419,0.7169512510299683,0.6918337941169739,0.6966809034347534,0.6533372402191162,0.7384583353996277,0.8309651017189026,0.6378718614578247,0.6644687652587891,0.6532295942306519,0.6959226131439209,0.6577862501144409,0.74468594789505,0.6933861970901489,0.709347128868103,0.7335214614868164,0.739474892616272,0.7869993448257446,0.4743359386920929,0.6070774793624878,0.5551314949989319,0.5322974920272827,0.6362344026565552,0.5576435327529907,0.5928000211715698,0.43391016125679016,0.2595868706703186,0.4636233448982239,0.5683835744857788,0.7819860577583313,1.0,0.21209290623664856,0.4378167390823364,0.7014844417572021,0.4120669364929199,0.31518837809562683,0.32226595282554626,0.5321590900421143,0.3261794447898865,0.6742708683013916],[0.20132963359355927,0.29461485147476196,0.23463374376296997,0.23491781949996948,0.21651910245418549,0.2176995575428009,0.1458050161600113,0.16220539808273315,0.1552247852087021,0.1278393268585205,0.20375601947307587,0.15383046865463257,0.16006703674793243,0.167028546333313,0.23063558340072632,0.1918773651123047,0.2278967797756195,0.1909969300031662,0.18842104077339172,0.13603517413139343,0.1952691525220871,0.18410064280033112,0.16200950741767883,0.1666249930858612,0.22548289597034454,0.1592167615890503,0.1474129557609558,0.23844675719738007,0.14460958540439606,0.22889293730258942,0.1716817319393158,0.17341314256191254,0.16921298205852509,0.15977782011032104,0.1606178879737854,0.1308000087738037,0.16155508160591125,0.15747736394405365,0.2759045362472534,0.2808326482772827,0.2381790429353714,0.24206668138504028,0.21209290623664856,1.0,0.18836010992527008,0.2141965627670288,0.1560012400150299,0.22119207680225372,0.16373026371002197,0.12570759654045105,0.1639709174633026,0.22233706712722778],[0.499398797750473,0.5599968433380127,0.4491237998008728,0.43079084157943726,0.4634406566619873,0.4715961217880249,0.6888858675956726,0.43375086784362793,0.3794975280761719,0.40896332263946533,0.5113397836685181,0.43538856506347656,0.5362958908081055,0.6110625267028809,0.50351881980896,0.5343976020812988,0.5078549981117249,0.6960071325302124,0.5819209814071655,0.3088533282279968,0.4434557259082794,0.4283190667629242,0.3291885554790497,0.4263516068458557,0.4431379437446594,0.4792483150959015,0.5398699641227722,0.5592266321182251,0.4587937295436859,0.4974224865436554,0.42555809020996094,0.5006241798400879,0.5247383117675781,0.4582063555717468,0.46136775612831116,0.4601810872554779,0.44798743724823,0.5616028904914856,0.42572295665740967,0.7009173631668091,0.4834803342819214,0.48472240567207336,0.4378167390823364,0.18836010992527008,0.9999998807907104,0.4357259273529053,0.45943164825439453,0.41830533742904663,0.393125057220459,0.280293345451355,0.5561835169792175,0.5053449869155884],[0.38361167907714844,0.48519107699394226,0.45918703079223633,0.42965811491012573,0.37356817722320557,0.3876936435699463,0.46217095851898193,0.3635868430137634,0.3686043620109558,0.3021217882633209,0.42391496896743774,0.4916664958000183,0.3402342200279236,0.4892188012599945,0.40741634368896484,0.4102340340614319,0.38323819637298584,0.430361270904541,0.6100928783416748,0.29135674238204956,0.3430882692337036,0.3568927049636841,0.31932979822158813,0.3301805853843689,0.4575675129890442,0.33827120065689087,0.3925424814224243,0.4213508069515228,0.4483001232147217,0.474867045879364,0.5516587495803833,0.39355140924453735,0.3533831238746643,0.3444315791130066,0.3680640459060669,0.3085496723651886,0.356060266494751,0.36592596769332886,0.31993865966796875,0.49467962980270386,0.5725468397140503,0.49965110421180725,0.7014844417572021,0.2141965627670288,0.4357259273529053,1.000000238418579,0.3083862066268921,0.3906862735748291,0.31585416197776794,0.2522392272949219,0.35681504011154175,0.3538517951965332],[0.4894576966762543,0.525907576084137,0.5081079602241516,0.6215217113494873,0.4413200914859772,0.5994493365287781,0.6852349042892456,0.5850567817687988,0.5826584100723267,0.6168002486228943,0.6118378639221191,0.5912613868713379,0.4828537106513977,0.5010343194007874,0.47063252329826355,0.39859992265701294,0.43050214648246765,0.4510685205459595,0.44525617361068726,0.4950859546661377,0.5441297888755798,0.5328253507614136,0.5319316387176514,0.6449366211891174,0.52958744764328,0.5904168486595154,0.5269603133201599,0.5419449210166931,0.5077632665634155,0.45076948404312134,0.4328734874725342,0.37827399373054504,0.3941638469696045,0.36907505989074707,0.3868905007839203,0.29651468992233276,0.41683679819107056,0.3722020387649536,0.24654430150985718,0.6675963401794434,0.5278303623199463,0.44197380542755127,0.4120669364929199,0.1560012400150299,0.45943164825439453,0.3083862066268921,1.0000001192092896,0.25880885124206543,0.29969215393066406,0.4752836227416992,0.4197540283203125,0.3793858587741852],[0.19414132833480835,0.3226625323295593,0.2956444025039673,0.21238258481025696,0.25723570585250854,0.2811436057090759,0.3164328336715698,0.2107357382774353,0.2142503410577774,0.22881440818309784,0.23625047504901886,0.24832358956336975,0.2393794059753418,0.2982509136199951,0.23551520705223083,0.3344835340976715,0.27992498874664307,0.3627992868423462,0.28290414810180664,0.218254953622818,0.18403935432434082,0.22988030314445496,0.2551223039627075,0.2186087965965271,0.23292559385299683,0.2065001279115677,0.2966500520706177,0.2791588008403778,0.25467419624328613,0.295932412147522,0.47528618574142456,0.2661517858505249,0.218791663646698,0.2567216157913208,0.21262729167938232,0.18809914588928223,0.20415911078453064,0.19804657995700836,0.323933869600296,0.41492772102355957,0.2982141971588135,0.5545660257339478,0.31518837809562683,0.22119207680225372,0.41830533742904663,0.3906862735748291,0.25880885124206543,1.000000238418579,0.2399061769247055,0.16190220415592194,0.3662729263305664,0.25443235039711],[0.298406720161438,0.3566601574420929,0.30128300189971924,0.3108823299407959,0.27148768305778503,0.2803788185119629,0.4407082796096802,0.3511676788330078,0.3228222131729126,0.3116292357444763,0.34749943017959595,0.40072283148765564,0.26444417238235474,0.3877180218696594,0.3729008138179779,0.2658999264240265,0.23121985793113708,0.33566907048225403,0.3299456238746643,0.2568150758743286,0.263247549533844,0.23528297245502472,0.29697495698928833,0.33447831869125366,0.33985698223114014,0.30837297439575195,0.29152506589889526,0.44554275274276733,0.40528982877731323,0.5012616515159607,0.5950998067855835,0.2526077926158905,0.23546990752220154,0.18571805953979492,0.24929633736610413,0.22407376766204834,0.33888179063796997,0.3352934718132019,0.5661800503730774,0.37124109268188477,0.31713974475860596,0.35183918476104736,0.32226595282554626,0.16373026371002197,0.393125057220459,0.31585416197776794,0.29969215393066406,0.2399061769247055,0.9999998807907104,0.18469096720218658,0.2558388411998749,0.5178159475326538],[0.6554897427558899,0.5600156784057617,0.5540964603424072,0.6364046335220337,0.6275941133499146,0.6446899175643921,0.5869576930999756,0.69215989112854,0.6553884148597717,0.7169366478919983,0.6516738533973694,0.5934925675392151,0.5816953182220459,0.5935585498809814,0.5935070514678955,0.59999680519104,0.5650790929794312,0.5961512923240662,0.5927653312683105,0.5581713914871216,0.6523844003677368,0.5657738447189331,0.6717162132263184,0.7205309867858887,0.6184384822845459,0.6900694370269775,0.6237200498580933,0.6259704828262329,0.6361961364746094,0.644676923751831,0.3358694314956665,0.5164732336997986,0.5095623731613159,0.5056875944137573,0.6041123867034912,0.516072154045105,0.5709244012832642,0.4765792489051819,0.07797770202159882,0.373728483915329,0.3761126399040222,0.5512462258338928,0.5321590900421143,0.12570759654045105,0.280293345451355,0.2522392272949219,0.4752836227416992,0.16190220415592194,0.18469096720218658,1.0000001192092896,0.25880688428878784,0.4922766089439392],[0.3470180034637451,0.4230952262878418,0.3312441110610962,0.3537662923336029,0.3746423125267029,0.4487306475639343,0.5631539821624756,0.41247332096099854,0.37963801622390747,0.4160727262496948,0.4233659505844116,0.3918139338493347,0.5441558361053467,0.46663400530815125,0.4833383560180664,0.6527594327926636,0.5910758972167969,0.4783923029899597,0.46036797761917114,0.22896423935890198,0.3280278444290161,0.3001311123371124,0.2623952627182007,0.34761878848075867,0.38429978489875793,0.3778773546218872,0.4395008683204651,0.3820950984954834,0.33847033977508545,0.3812807500362396,0.486164391040802,0.5825260281562805,0.5163770914077759,0.4987833797931671,0.5054632425308228,0.613174557685852,0.44000810384750366,0.6271631717681885,0.28617340326309204,0.4729250967502594,0.43403375148773193,0.42251914739608765,0.3261794447898865,0.1639709174633026,0.5561835169792175,0.35681504011154175,0.4197540283203125,0.3662729263305664,0.2558388411998749,0.25880688428878784,0.9999998807907104,0.3089083731174469],[0.6689764261245728,0.6378684043884277,0.6101492047309875,0.5849698185920715,0.6088908910751343,0.5012677311897278,0.47507786750793457,0.5421715378761292,0.5176031589508057,0.4963935911655426,0.5481545925140381,0.49768343567848206,0.5917350649833679,0.6514219045639038,0.653921365737915,0.6463731527328491,0.5495182871818542,0.7072862386703491,0.6448765397071838,0.5683339238166809,0.6250149011611938,0.5820924043655396,0.6481484174728394,0.6550161838531494,0.6843050718307495,0.6549016237258911,0.6325898170471191,0.8352590799331665,0.7165760397911072,0.793499767780304,0.40277737379074097,0.5500795245170593,0.5171469449996948,0.46325892210006714,0.5700956583023071,0.5017527341842651,0.5590512752532959,0.406097948551178,0.44669100642204285,0.4733462929725647,0.43572112917900085,0.7070428133010864,0.6742708683013916,0.22233706712722778,0.5053449869155884,0.3538517951965332,0.3793858587741852,0.25443235039711,0.5178159475326538,0.4922766089439392,0.3089083731174469,1.0000001192092896]],\"type\":\"heatmap\",\"xaxis\":\"x\",\"yaxis\":\"y\",\"hovertemplate\":\"x: %{x}<br>y: %{y}<br>Similarity Score: %{z}<extra></extra>\"}],                        {\"template\":{\"data\":{\"histogram2dcontour\":[{\"type\":\"histogram2dcontour\",\"colorbar\":{\"outlinewidth\":0,\"ticks\":\"\"},\"colorscale\":[[0.0,\"#0d0887\"],[0.1111111111111111,\"#46039f\"],[0.2222222222222222,\"#7201a8\"],[0.3333333333333333,\"#9c179e\"],[0.4444444444444444,\"#bd3786\"],[0.5555555555555556,\"#d8576b\"],[0.6666666666666666,\"#ed7953\"],[0.7777777777777778,\"#fb9f3a\"],[0.8888888888888888,\"#fdca26\"],[1.0,\"#f0f921\"]]}],\"choropleth\":[{\"type\":\"choropleth\",\"colorbar\":{\"outlinewidth\":0,\"ticks\":\"\"}}],\"histogram2d\":[{\"type\":\"histogram2d\",\"colorbar\":{\"outlinewidth\":0,\"ticks\":\"\"},\"colorscale\":[[0.0,\"#0d0887\"],[0.1111111111111111,\"#46039f\"],[0.2222222222222222,\"#7201a8\"],[0.3333333333333333,\"#9c179e\"],[0.4444444444444444,\"#bd3786\"],[0.5555555555555556,\"#d8576b\"],[0.6666666666666666,\"#ed7953\"],[0.7777777777777778,\"#fb9f3a\"],[0.8888888888888888,\"#fdca26\"],[1.0,\"#f0f921\"]]}],\"heatmap\":[{\"type\":\"heatmap\",\"colorbar\":{\"outlinewidth\":0,\"ticks\":\"\"},\"colorscale\":[[0.0,\"#0d0887\"],[0.1111111111111111,\"#46039f\"],[0.2222222222222222,\"#7201a8\"],[0.3333333333333333,\"#9c179e\"],[0.4444444444444444,\"#bd3786\"],[0.5555555555555556,\"#d8576b\"],[0.6666666666666666,\"#ed7953\"],[0.7777777777777778,\"#fb9f3a\"],[0.8888888888888888,\"#fdca26\"],[1.0,\"#f0f921\"]]}],\"heatmapgl\":[{\"type\":\"heatmapgl\",\"colorbar\":{\"outlinewidth\":0,\"ticks\":\"\"},\"colorscale\":[[0.0,\"#0d0887\"],[0.1111111111111111,\"#46039f\"],[0.2222222222222222,\"#7201a8\"],[0.3333333333333333,\"#9c179e\"],[0.4444444444444444,\"#bd3786\"],[0.5555555555555556,\"#d8576b\"],[0.6666666666666666,\"#ed7953\"],[0.7777777777777778,\"#fb9f3a\"],[0.8888888888888888,\"#fdca26\"],[1.0,\"#f0f921\"]]}],\"contourcarpet\":[{\"type\":\"contourcarpet\",\"colorbar\":{\"outlinewidth\":0,\"ticks\":\"\"}}],\"contour\":[{\"type\":\"contour\",\"colorbar\":{\"outlinewidth\":0,\"ticks\":\"\"},\"colorscale\":[[0.0,\"#0d0887\"],[0.1111111111111111,\"#46039f\"],[0.2222222222222222,\"#7201a8\"],[0.3333333333333333,\"#9c179e\"],[0.4444444444444444,\"#bd3786\"],[0.5555555555555556,\"#d8576b\"],[0.6666666666666666,\"#ed7953\"],[0.7777777777777778,\"#fb9f3a\"],[0.8888888888888888,\"#fdca26\"],[1.0,\"#f0f921\"]]}],\"surface\":[{\"type\":\"surface\",\"colorbar\":{\"outlinewidth\":0,\"ticks\":\"\"},\"colorscale\":[[0.0,\"#0d0887\"],[0.1111111111111111,\"#46039f\"],[0.2222222222222222,\"#7201a8\"],[0.3333333333333333,\"#9c179e\"],[0.4444444444444444,\"#bd3786\"],[0.5555555555555556,\"#d8576b\"],[0.6666666666666666,\"#ed7953\"],[0.7777777777777778,\"#fb9f3a\"],[0.8888888888888888,\"#fdca26\"],[1.0,\"#f0f921\"]]}],\"mesh3d\":[{\"type\":\"mesh3d\",\"colorbar\":{\"outlinewidth\":0,\"ticks\":\"\"}}],\"scatter\":[{\"fillpattern\":{\"fillmode\":\"overlay\",\"size\":10,\"solidity\":0.2},\"type\":\"scatter\"}],\"parcoords\":[{\"type\":\"parcoords\",\"line\":{\"colorbar\":{\"outlinewidth\":0,\"ticks\":\"\"}}}],\"scatterpolargl\":[{\"type\":\"scatterpolargl\",\"marker\":{\"colorbar\":{\"outlinewidth\":0,\"ticks\":\"\"}}}],\"bar\":[{\"error_x\":{\"color\":\"#2a3f5f\"},\"error_y\":{\"color\":\"#2a3f5f\"},\"marker\":{\"line\":{\"color\":\"#E5ECF6\",\"width\":0.5},\"pattern\":{\"fillmode\":\"overlay\",\"size\":10,\"solidity\":0.2}},\"type\":\"bar\"}],\"scattergeo\":[{\"type\":\"scattergeo\",\"marker\":{\"colorbar\":{\"outlinewidth\":0,\"ticks\":\"\"}}}],\"scatterpolar\":[{\"type\":\"scatterpolar\",\"marker\":{\"colorbar\":{\"outlinewidth\":0,\"ticks\":\"\"}}}],\"histogram\":[{\"marker\":{\"pattern\":{\"fillmode\":\"overlay\",\"size\":10,\"solidity\":0.2}},\"type\":\"histogram\"}],\"scattergl\":[{\"type\":\"scattergl\",\"marker\":{\"colorbar\":{\"outlinewidth\":0,\"ticks\":\"\"}}}],\"scatter3d\":[{\"type\":\"scatter3d\",\"line\":{\"colorbar\":{\"outlinewidth\":0,\"ticks\":\"\"}},\"marker\":{\"colorbar\":{\"outlinewidth\":0,\"ticks\":\"\"}}}],\"scattermapbox\":[{\"type\":\"scattermapbox\",\"marker\":{\"colorbar\":{\"outlinewidth\":0,\"ticks\":\"\"}}}],\"scatterternary\":[{\"type\":\"scatterternary\",\"marker\":{\"colorbar\":{\"outlinewidth\":0,\"ticks\":\"\"}}}],\"scattercarpet\":[{\"type\":\"scattercarpet\",\"marker\":{\"colorbar\":{\"outlinewidth\":0,\"ticks\":\"\"}}}],\"carpet\":[{\"aaxis\":{\"endlinecolor\":\"#2a3f5f\",\"gridcolor\":\"white\",\"linecolor\":\"white\",\"minorgridcolor\":\"white\",\"startlinecolor\":\"#2a3f5f\"},\"baxis\":{\"endlinecolor\":\"#2a3f5f\",\"gridcolor\":\"white\",\"linecolor\":\"white\",\"minorgridcolor\":\"white\",\"startlinecolor\":\"#2a3f5f\"},\"type\":\"carpet\"}],\"table\":[{\"cells\":{\"fill\":{\"color\":\"#EBF0F8\"},\"line\":{\"color\":\"white\"}},\"header\":{\"fill\":{\"color\":\"#C8D4E3\"},\"line\":{\"color\":\"white\"}},\"type\":\"table\"}],\"barpolar\":[{\"marker\":{\"line\":{\"color\":\"#E5ECF6\",\"width\":0.5},\"pattern\":{\"fillmode\":\"overlay\",\"size\":10,\"solidity\":0.2}},\"type\":\"barpolar\"}],\"pie\":[{\"automargin\":true,\"type\":\"pie\"}]},\"layout\":{\"autotypenumbers\":\"strict\",\"colorway\":[\"#636efa\",\"#EF553B\",\"#00cc96\",\"#ab63fa\",\"#FFA15A\",\"#19d3f3\",\"#FF6692\",\"#B6E880\",\"#FF97FF\",\"#FECB52\"],\"font\":{\"color\":\"#2a3f5f\"},\"hovermode\":\"closest\",\"hoverlabel\":{\"align\":\"left\"},\"paper_bgcolor\":\"white\",\"plot_bgcolor\":\"#E5ECF6\",\"polar\":{\"bgcolor\":\"#E5ECF6\",\"angularaxis\":{\"gridcolor\":\"white\",\"linecolor\":\"white\",\"ticks\":\"\"},\"radialaxis\":{\"gridcolor\":\"white\",\"linecolor\":\"white\",\"ticks\":\"\"}},\"ternary\":{\"bgcolor\":\"#E5ECF6\",\"aaxis\":{\"gridcolor\":\"white\",\"linecolor\":\"white\",\"ticks\":\"\"},\"baxis\":{\"gridcolor\":\"white\",\"linecolor\":\"white\",\"ticks\":\"\"},\"caxis\":{\"gridcolor\":\"white\",\"linecolor\":\"white\",\"ticks\":\"\"}},\"coloraxis\":{\"colorbar\":{\"outlinewidth\":0,\"ticks\":\"\"}},\"colorscale\":{\"sequential\":[[0.0,\"#0d0887\"],[0.1111111111111111,\"#46039f\"],[0.2222222222222222,\"#7201a8\"],[0.3333333333333333,\"#9c179e\"],[0.4444444444444444,\"#bd3786\"],[0.5555555555555556,\"#d8576b\"],[0.6666666666666666,\"#ed7953\"],[0.7777777777777778,\"#fb9f3a\"],[0.8888888888888888,\"#fdca26\"],[1.0,\"#f0f921\"]],\"sequentialminus\":[[0.0,\"#0d0887\"],[0.1111111111111111,\"#46039f\"],[0.2222222222222222,\"#7201a8\"],[0.3333333333333333,\"#9c179e\"],[0.4444444444444444,\"#bd3786\"],[0.5555555555555556,\"#d8576b\"],[0.6666666666666666,\"#ed7953\"],[0.7777777777777778,\"#fb9f3a\"],[0.8888888888888888,\"#fdca26\"],[1.0,\"#f0f921\"]],\"diverging\":[[0,\"#8e0152\"],[0.1,\"#c51b7d\"],[0.2,\"#de77ae\"],[0.3,\"#f1b6da\"],[0.4,\"#fde0ef\"],[0.5,\"#f7f7f7\"],[0.6,\"#e6f5d0\"],[0.7,\"#b8e186\"],[0.8,\"#7fbc41\"],[0.9,\"#4d9221\"],[1,\"#276419\"]]},\"xaxis\":{\"gridcolor\":\"white\",\"linecolor\":\"white\",\"ticks\":\"\",\"title\":{\"standoff\":15},\"zerolinecolor\":\"white\",\"automargin\":true,\"zerolinewidth\":2},\"yaxis\":{\"gridcolor\":\"white\",\"linecolor\":\"white\",\"ticks\":\"\",\"title\":{\"standoff\":15},\"zerolinecolor\":\"white\",\"automargin\":true,\"zerolinewidth\":2},\"scene\":{\"xaxis\":{\"backgroundcolor\":\"#E5ECF6\",\"gridcolor\":\"white\",\"linecolor\":\"white\",\"showbackground\":true,\"ticks\":\"\",\"zerolinecolor\":\"white\",\"gridwidth\":2},\"yaxis\":{\"backgroundcolor\":\"#E5ECF6\",\"gridcolor\":\"white\",\"linecolor\":\"white\",\"showbackground\":true,\"ticks\":\"\",\"zerolinecolor\":\"white\",\"gridwidth\":2},\"zaxis\":{\"backgroundcolor\":\"#E5ECF6\",\"gridcolor\":\"white\",\"linecolor\":\"white\",\"showbackground\":true,\"ticks\":\"\",\"zerolinecolor\":\"white\",\"gridwidth\":2}},\"shapedefaults\":{\"line\":{\"color\":\"#2a3f5f\"}},\"annotationdefaults\":{\"arrowcolor\":\"#2a3f5f\",\"arrowhead\":0,\"arrowwidth\":1},\"geo\":{\"bgcolor\":\"white\",\"landcolor\":\"#E5ECF6\",\"subunitcolor\":\"white\",\"showland\":true,\"showlakes\":true,\"lakecolor\":\"white\"},\"title\":{\"x\":0.05},\"mapbox\":{\"style\":\"light\"}}},\"xaxis\":{\"anchor\":\"y\",\"domain\":[0.0,1.0],\"scaleanchor\":\"y\",\"constrain\":\"domain\"},\"yaxis\":{\"anchor\":\"x\",\"domain\":[0.0,1.0],\"autorange\":\"reversed\",\"constrain\":\"domain\"},\"coloraxis\":{\"colorbar\":{\"title\":{\"text\":\"Similarity Score\"}},\"colorscale\":[[0.0,\"rgb(247,252,240)\"],[0.125,\"rgb(224,243,219)\"],[0.25,\"rgb(204,235,197)\"],[0.375,\"rgb(168,221,181)\"],[0.5,\"rgb(123,204,196)\"],[0.625,\"rgb(78,179,211)\"],[0.75,\"rgb(43,140,190)\"],[0.875,\"rgb(8,104,172)\"],[1.0,\"rgb(8,64,129)\"]]},\"margin\":{\"t\":60},\"title\":{\"font\":{\"size\":22,\"color\":\"Black\"},\"text\":\"<b>Similarity Matrix</b>\",\"y\":0.95,\"x\":0.55,\"xanchor\":\"center\",\"yanchor\":\"top\"},\"hoverlabel\":{\"font\":{\"size\":16,\"family\":\"Rockwell\"},\"bgcolor\":\"white\"},\"width\":1000,\"height\":1000,\"showlegend\":true,\"legend\":{\"title\":{\"text\":\"Trend\"}}},                        {\"responsive\": true}                    ).then(function(){\n",
              "                            \n",
              "var gd = document.getElementById('5fac92af-8101-4b17-9fc9-61189f2835ea');\n",
              "var x = new MutationObserver(function (mutations, observer) {{\n",
              "        var display = window.getComputedStyle(gd).display;\n",
              "        if (!display || display === 'none') {{\n",
              "            console.log([gd, 'removed!']);\n",
              "            Plotly.purge(gd);\n",
              "            observer.disconnect();\n",
              "        }}\n",
              "}});\n",
              "\n",
              "// Listen for the removal of the full notebook cells\n",
              "var notebookContainer = gd.closest('#notebook-container');\n",
              "if (notebookContainer) {{\n",
              "    x.observe(notebookContainer, {childList: true});\n",
              "}}\n",
              "\n",
              "// Listen for the clearing of the current output cell\n",
              "var outputEl = gd.closest('.output');\n",
              "if (outputEl) {{\n",
              "    x.observe(outputEl, {childList: true});\n",
              "}}\n",
              "\n",
              "                        })                };                            </script>        </div>\n",
              "</body>\n",
              "</html>"
            ]
          },
          "metadata": {}
        }
      ],
      "source": [
        "topic_model.visualize_heatmap(n_clusters=20, width=1000, height=1000)"
      ]
    },
    {
      "cell_type": "markdown",
      "source": [
        "Heatmap can also be used to analyze the similarities between topics. The similarity score ranges from 0 to 1. A value close to 1 represents a higher similarity between the two topics, which is represented by darker blue color."
      ],
      "metadata": {
        "id": "9HpJ7XoYB6V3"
      }
    },
    {
      "cell_type": "markdown",
      "metadata": {
        "id": "7Bclxz8RPD_P"
      },
      "source": [
        "### Visualize Topic Probabilities\n",
        "\n",
        "The variable probabilities that is returned from transform() or fit_transform() can be used to understand how confident BERTopic is that certain topics can be found in a document. The min_probability parameter is used to control the minimum probability threshold for displaying topics in the visualization. It determines the minimum probability that a topic must have in order to be included in the visualization.\n",
        "\n",
        "https://colab.research.google.com/drive/1FieRA9fLdkQEGDIMYl0I3MCjSUKVF8C-?usp=sharing"
      ]
    },
    {
      "cell_type": "code",
      "execution_count": null,
      "metadata": {
        "colab": {
          "base_uri": "https://localhost:8080/",
          "height": 617
        },
        "id": "6jiaOc6ZAr8O",
        "outputId": "61df8eed-8824-47e0-cb67-3a832cb79390"
      },
      "outputs": [
        {
          "output_type": "display_data",
          "data": {
            "text/html": [
              "<html>\n",
              "<head><meta charset=\"utf-8\" /></head>\n",
              "<body>\n",
              "    <div>            <script src=\"https://cdnjs.cloudflare.com/ajax/libs/mathjax/2.7.5/MathJax.js?config=TeX-AMS-MML_SVG\"></script><script type=\"text/javascript\">if (window.MathJax && window.MathJax.Hub && window.MathJax.Hub.Config) {window.MathJax.Hub.Config({SVG: {font: \"STIX-Web\"}});}</script>                <script type=\"text/javascript\">window.PlotlyConfig = {MathJaxConfig: 'local'};</script>\n",
              "        <script src=\"https://cdn.plot.ly/plotly-2.18.2.min.js\"></script>                <div id=\"1c53e589-8653-4e9e-a6e2-17010328989e\" class=\"plotly-graph-div\" style=\"height:600px; width:800px;\"></div>            <script type=\"text/javascript\">                                    window.PLOTLYENV=window.PLOTLYENV || {};                                    if (document.getElementById(\"1c53e589-8653-4e9e-a6e2-17010328989e\")) {                    Plotly.newPlot(                        \"1c53e589-8653-4e9e-a6e2-17010328989e\",                        [{\"marker\":{\"color\":\"#C8D2D7\",\"line\":{\"color\":\"#6E8484\",\"width\":1}},\"orientation\":\"h\",\"x\":[0.028007330522441545,0.02042433921588135,0.03710428016136729,0.02687823519905768,0.04696945025330423,0.08378719046442122,0.027917939567262972,0.020943627210263445,0.026159112449980936,0.020247389716457297,0.03024312140065601,0.02094694378488097,0.02577298372017291],\"y\":[\"<b>Topic 3</b>: wide_narrow_foot_shoe_bu...\",\"<b>Topic 8</b>: son_his_size_daughter_sh...\",\"<b>Topic 12</b>: comfortable_foot_hour_a...\",\"<b>Topic 15</b>: fit_great_shoe_the_perf...\",\"<b>Topic 30</b>: soft_foot_they_feel_sho...\",\"<b>Topic 31</b>: tight_pinky_toe_the_lit...\",\"<b>Topic 34</b>: pain_foot_walk_heel_sho...\",\"<b>Topic 37</b>: comfortable_very_love_b...\",\"<b>Topic 38</b>: woman_men_sock_size_tho\",\"<b>Topic 42</b>: white_black_base_though...\",\"<b>Topic 44</b>: husband_shoe_him_wear_h...\",\"<b>Topic 46</b>: love_self_awesome_bos_e...\",\"<b>Topic 50</b>: picture_same_got_color_...\"],\"type\":\"bar\"}],                        {\"template\":{\"data\":{\"barpolar\":[{\"marker\":{\"line\":{\"color\":\"white\",\"width\":0.5},\"pattern\":{\"fillmode\":\"overlay\",\"size\":10,\"solidity\":0.2}},\"type\":\"barpolar\"}],\"bar\":[{\"error_x\":{\"color\":\"rgb(36,36,36)\"},\"error_y\":{\"color\":\"rgb(36,36,36)\"},\"marker\":{\"line\":{\"color\":\"white\",\"width\":0.5},\"pattern\":{\"fillmode\":\"overlay\",\"size\":10,\"solidity\":0.2}},\"type\":\"bar\"}],\"carpet\":[{\"aaxis\":{\"endlinecolor\":\"rgb(36,36,36)\",\"gridcolor\":\"white\",\"linecolor\":\"white\",\"minorgridcolor\":\"white\",\"startlinecolor\":\"rgb(36,36,36)\"},\"baxis\":{\"endlinecolor\":\"rgb(36,36,36)\",\"gridcolor\":\"white\",\"linecolor\":\"white\",\"minorgridcolor\":\"white\",\"startlinecolor\":\"rgb(36,36,36)\"},\"type\":\"carpet\"}],\"choropleth\":[{\"colorbar\":{\"outlinewidth\":1,\"tickcolor\":\"rgb(36,36,36)\",\"ticks\":\"outside\"},\"type\":\"choropleth\"}],\"contourcarpet\":[{\"colorbar\":{\"outlinewidth\":1,\"tickcolor\":\"rgb(36,36,36)\",\"ticks\":\"outside\"},\"type\":\"contourcarpet\"}],\"contour\":[{\"colorbar\":{\"outlinewidth\":1,\"tickcolor\":\"rgb(36,36,36)\",\"ticks\":\"outside\"},\"colorscale\":[[0.0,\"#440154\"],[0.1111111111111111,\"#482878\"],[0.2222222222222222,\"#3e4989\"],[0.3333333333333333,\"#31688e\"],[0.4444444444444444,\"#26828e\"],[0.5555555555555556,\"#1f9e89\"],[0.6666666666666666,\"#35b779\"],[0.7777777777777778,\"#6ece58\"],[0.8888888888888888,\"#b5de2b\"],[1.0,\"#fde725\"]],\"type\":\"contour\"}],\"heatmapgl\":[{\"colorbar\":{\"outlinewidth\":1,\"tickcolor\":\"rgb(36,36,36)\",\"ticks\":\"outside\"},\"colorscale\":[[0.0,\"#440154\"],[0.1111111111111111,\"#482878\"],[0.2222222222222222,\"#3e4989\"],[0.3333333333333333,\"#31688e\"],[0.4444444444444444,\"#26828e\"],[0.5555555555555556,\"#1f9e89\"],[0.6666666666666666,\"#35b779\"],[0.7777777777777778,\"#6ece58\"],[0.8888888888888888,\"#b5de2b\"],[1.0,\"#fde725\"]],\"type\":\"heatmapgl\"}],\"heatmap\":[{\"colorbar\":{\"outlinewidth\":1,\"tickcolor\":\"rgb(36,36,36)\",\"ticks\":\"outside\"},\"colorscale\":[[0.0,\"#440154\"],[0.1111111111111111,\"#482878\"],[0.2222222222222222,\"#3e4989\"],[0.3333333333333333,\"#31688e\"],[0.4444444444444444,\"#26828e\"],[0.5555555555555556,\"#1f9e89\"],[0.6666666666666666,\"#35b779\"],[0.7777777777777778,\"#6ece58\"],[0.8888888888888888,\"#b5de2b\"],[1.0,\"#fde725\"]],\"type\":\"heatmap\"}],\"histogram2dcontour\":[{\"colorbar\":{\"outlinewidth\":1,\"tickcolor\":\"rgb(36,36,36)\",\"ticks\":\"outside\"},\"colorscale\":[[0.0,\"#440154\"],[0.1111111111111111,\"#482878\"],[0.2222222222222222,\"#3e4989\"],[0.3333333333333333,\"#31688e\"],[0.4444444444444444,\"#26828e\"],[0.5555555555555556,\"#1f9e89\"],[0.6666666666666666,\"#35b779\"],[0.7777777777777778,\"#6ece58\"],[0.8888888888888888,\"#b5de2b\"],[1.0,\"#fde725\"]],\"type\":\"histogram2dcontour\"}],\"histogram2d\":[{\"colorbar\":{\"outlinewidth\":1,\"tickcolor\":\"rgb(36,36,36)\",\"ticks\":\"outside\"},\"colorscale\":[[0.0,\"#440154\"],[0.1111111111111111,\"#482878\"],[0.2222222222222222,\"#3e4989\"],[0.3333333333333333,\"#31688e\"],[0.4444444444444444,\"#26828e\"],[0.5555555555555556,\"#1f9e89\"],[0.6666666666666666,\"#35b779\"],[0.7777777777777778,\"#6ece58\"],[0.8888888888888888,\"#b5de2b\"],[1.0,\"#fde725\"]],\"type\":\"histogram2d\"}],\"histogram\":[{\"marker\":{\"line\":{\"color\":\"white\",\"width\":0.6}},\"type\":\"histogram\"}],\"mesh3d\":[{\"colorbar\":{\"outlinewidth\":1,\"tickcolor\":\"rgb(36,36,36)\",\"ticks\":\"outside\"},\"type\":\"mesh3d\"}],\"parcoords\":[{\"line\":{\"colorbar\":{\"outlinewidth\":1,\"tickcolor\":\"rgb(36,36,36)\",\"ticks\":\"outside\"}},\"type\":\"parcoords\"}],\"pie\":[{\"automargin\":true,\"type\":\"pie\"}],\"scatter3d\":[{\"line\":{\"colorbar\":{\"outlinewidth\":1,\"tickcolor\":\"rgb(36,36,36)\",\"ticks\":\"outside\"}},\"marker\":{\"colorbar\":{\"outlinewidth\":1,\"tickcolor\":\"rgb(36,36,36)\",\"ticks\":\"outside\"}},\"type\":\"scatter3d\"}],\"scattercarpet\":[{\"marker\":{\"colorbar\":{\"outlinewidth\":1,\"tickcolor\":\"rgb(36,36,36)\",\"ticks\":\"outside\"}},\"type\":\"scattercarpet\"}],\"scattergeo\":[{\"marker\":{\"colorbar\":{\"outlinewidth\":1,\"tickcolor\":\"rgb(36,36,36)\",\"ticks\":\"outside\"}},\"type\":\"scattergeo\"}],\"scattergl\":[{\"marker\":{\"colorbar\":{\"outlinewidth\":1,\"tickcolor\":\"rgb(36,36,36)\",\"ticks\":\"outside\"}},\"type\":\"scattergl\"}],\"scattermapbox\":[{\"marker\":{\"colorbar\":{\"outlinewidth\":1,\"tickcolor\":\"rgb(36,36,36)\",\"ticks\":\"outside\"}},\"type\":\"scattermapbox\"}],\"scatterpolargl\":[{\"marker\":{\"colorbar\":{\"outlinewidth\":1,\"tickcolor\":\"rgb(36,36,36)\",\"ticks\":\"outside\"}},\"type\":\"scatterpolargl\"}],\"scatterpolar\":[{\"marker\":{\"colorbar\":{\"outlinewidth\":1,\"tickcolor\":\"rgb(36,36,36)\",\"ticks\":\"outside\"}},\"type\":\"scatterpolar\"}],\"scatter\":[{\"fillpattern\":{\"fillmode\":\"overlay\",\"size\":10,\"solidity\":0.2},\"type\":\"scatter\"}],\"scatterternary\":[{\"marker\":{\"colorbar\":{\"outlinewidth\":1,\"tickcolor\":\"rgb(36,36,36)\",\"ticks\":\"outside\"}},\"type\":\"scatterternary\"}],\"surface\":[{\"colorbar\":{\"outlinewidth\":1,\"tickcolor\":\"rgb(36,36,36)\",\"ticks\":\"outside\"},\"colorscale\":[[0.0,\"#440154\"],[0.1111111111111111,\"#482878\"],[0.2222222222222222,\"#3e4989\"],[0.3333333333333333,\"#31688e\"],[0.4444444444444444,\"#26828e\"],[0.5555555555555556,\"#1f9e89\"],[0.6666666666666666,\"#35b779\"],[0.7777777777777778,\"#6ece58\"],[0.8888888888888888,\"#b5de2b\"],[1.0,\"#fde725\"]],\"type\":\"surface\"}],\"table\":[{\"cells\":{\"fill\":{\"color\":\"rgb(237,237,237)\"},\"line\":{\"color\":\"white\"}},\"header\":{\"fill\":{\"color\":\"rgb(217,217,217)\"},\"line\":{\"color\":\"white\"}},\"type\":\"table\"}]},\"layout\":{\"annotationdefaults\":{\"arrowhead\":0,\"arrowwidth\":1},\"autotypenumbers\":\"strict\",\"coloraxis\":{\"colorbar\":{\"outlinewidth\":1,\"tickcolor\":\"rgb(36,36,36)\",\"ticks\":\"outside\"}},\"colorscale\":{\"diverging\":[[0.0,\"rgb(103,0,31)\"],[0.1,\"rgb(178,24,43)\"],[0.2,\"rgb(214,96,77)\"],[0.3,\"rgb(244,165,130)\"],[0.4,\"rgb(253,219,199)\"],[0.5,\"rgb(247,247,247)\"],[0.6,\"rgb(209,229,240)\"],[0.7,\"rgb(146,197,222)\"],[0.8,\"rgb(67,147,195)\"],[0.9,\"rgb(33,102,172)\"],[1.0,\"rgb(5,48,97)\"]],\"sequential\":[[0.0,\"#440154\"],[0.1111111111111111,\"#482878\"],[0.2222222222222222,\"#3e4989\"],[0.3333333333333333,\"#31688e\"],[0.4444444444444444,\"#26828e\"],[0.5555555555555556,\"#1f9e89\"],[0.6666666666666666,\"#35b779\"],[0.7777777777777778,\"#6ece58\"],[0.8888888888888888,\"#b5de2b\"],[1.0,\"#fde725\"]],\"sequentialminus\":[[0.0,\"#440154\"],[0.1111111111111111,\"#482878\"],[0.2222222222222222,\"#3e4989\"],[0.3333333333333333,\"#31688e\"],[0.4444444444444444,\"#26828e\"],[0.5555555555555556,\"#1f9e89\"],[0.6666666666666666,\"#35b779\"],[0.7777777777777778,\"#6ece58\"],[0.8888888888888888,\"#b5de2b\"],[1.0,\"#fde725\"]]},\"colorway\":[\"#1F77B4\",\"#FF7F0E\",\"#2CA02C\",\"#D62728\",\"#9467BD\",\"#8C564B\",\"#E377C2\",\"#7F7F7F\",\"#BCBD22\",\"#17BECF\"],\"font\":{\"color\":\"rgb(36,36,36)\"},\"geo\":{\"bgcolor\":\"white\",\"lakecolor\":\"white\",\"landcolor\":\"white\",\"showlakes\":true,\"showland\":true,\"subunitcolor\":\"white\"},\"hoverlabel\":{\"align\":\"left\"},\"hovermode\":\"closest\",\"mapbox\":{\"style\":\"light\"},\"paper_bgcolor\":\"white\",\"plot_bgcolor\":\"white\",\"polar\":{\"angularaxis\":{\"gridcolor\":\"rgb(232,232,232)\",\"linecolor\":\"rgb(36,36,36)\",\"showgrid\":false,\"showline\":true,\"ticks\":\"outside\"},\"bgcolor\":\"white\",\"radialaxis\":{\"gridcolor\":\"rgb(232,232,232)\",\"linecolor\":\"rgb(36,36,36)\",\"showgrid\":false,\"showline\":true,\"ticks\":\"outside\"}},\"scene\":{\"xaxis\":{\"backgroundcolor\":\"white\",\"gridcolor\":\"rgb(232,232,232)\",\"gridwidth\":2,\"linecolor\":\"rgb(36,36,36)\",\"showbackground\":true,\"showgrid\":false,\"showline\":true,\"ticks\":\"outside\",\"zeroline\":false,\"zerolinecolor\":\"rgb(36,36,36)\"},\"yaxis\":{\"backgroundcolor\":\"white\",\"gridcolor\":\"rgb(232,232,232)\",\"gridwidth\":2,\"linecolor\":\"rgb(36,36,36)\",\"showbackground\":true,\"showgrid\":false,\"showline\":true,\"ticks\":\"outside\",\"zeroline\":false,\"zerolinecolor\":\"rgb(36,36,36)\"},\"zaxis\":{\"backgroundcolor\":\"white\",\"gridcolor\":\"rgb(232,232,232)\",\"gridwidth\":2,\"linecolor\":\"rgb(36,36,36)\",\"showbackground\":true,\"showgrid\":false,\"showline\":true,\"ticks\":\"outside\",\"zeroline\":false,\"zerolinecolor\":\"rgb(36,36,36)\"}},\"shapedefaults\":{\"fillcolor\":\"black\",\"line\":{\"width\":0},\"opacity\":0.3},\"ternary\":{\"aaxis\":{\"gridcolor\":\"rgb(232,232,232)\",\"linecolor\":\"rgb(36,36,36)\",\"showgrid\":false,\"showline\":true,\"ticks\":\"outside\"},\"baxis\":{\"gridcolor\":\"rgb(232,232,232)\",\"linecolor\":\"rgb(36,36,36)\",\"showgrid\":false,\"showline\":true,\"ticks\":\"outside\"},\"bgcolor\":\"white\",\"caxis\":{\"gridcolor\":\"rgb(232,232,232)\",\"linecolor\":\"rgb(36,36,36)\",\"showgrid\":false,\"showline\":true,\"ticks\":\"outside\"}},\"title\":{\"x\":0.05},\"xaxis\":{\"automargin\":true,\"gridcolor\":\"rgb(232,232,232)\",\"linecolor\":\"rgb(36,36,36)\",\"showgrid\":false,\"showline\":true,\"ticks\":\"outside\",\"title\":{\"standoff\":15},\"zeroline\":false,\"zerolinecolor\":\"rgb(36,36,36)\"},\"yaxis\":{\"automargin\":true,\"gridcolor\":\"rgb(232,232,232)\",\"linecolor\":\"rgb(36,36,36)\",\"showgrid\":false,\"showline\":true,\"ticks\":\"outside\",\"title\":{\"standoff\":15},\"zeroline\":false,\"zerolinecolor\":\"rgb(36,36,36)\"}}},\"title\":{\"font\":{\"size\":22,\"color\":\"Black\"},\"text\":\"<b>Topic Probability Distribution</b>\",\"y\":0.95,\"x\":0.5,\"xanchor\":\"center\",\"yanchor\":\"top\"},\"hoverlabel\":{\"font\":{\"size\":16,\"family\":\"Rockwell\"},\"bgcolor\":\"white\"},\"xaxis\":{\"title\":{\"text\":\"Probability\"}},\"width\":800,\"height\":600},                        {\"responsive\": true}                    ).then(function(){\n",
              "                            \n",
              "var gd = document.getElementById('1c53e589-8653-4e9e-a6e2-17010328989e');\n",
              "var x = new MutationObserver(function (mutations, observer) {{\n",
              "        var display = window.getComputedStyle(gd).display;\n",
              "        if (!display || display === 'none') {{\n",
              "            console.log([gd, 'removed!']);\n",
              "            Plotly.purge(gd);\n",
              "            observer.disconnect();\n",
              "        }}\n",
              "}});\n",
              "\n",
              "// Listen for the removal of the full notebook cells\n",
              "var notebookContainer = gd.closest('#notebook-container');\n",
              "if (notebookContainer) {{\n",
              "    x.observe(notebookContainer, {childList: true});\n",
              "}}\n",
              "\n",
              "// Listen for the clearing of the current output cell\n",
              "var outputEl = gd.closest('.output');\n",
              "if (outputEl) {{\n",
              "    x.observe(outputEl, {childList: true});\n",
              "}}\n",
              "\n",
              "                        })                };                            </script>        </div>\n",
              "</body>\n",
              "</html>"
            ]
          },
          "metadata": {}
        }
      ],
      "source": [
        "topic_model.visualize_distribution(probs[300], min_probability=0.02)"
      ]
    },
    {
      "cell_type": "markdown",
      "source": [
        "From above figure, we can see the topic probability distribution for the review with index 300 in the dataset shows that topic 31 has the highest probability, so topic 31 is the predicted topic."
      ],
      "metadata": {
        "id": "ZtQDm0kloGFR"
      }
    },
    {
      "cell_type": "markdown",
      "metadata": {
        "id": "bFmz2lkdWFM0"
      },
      "source": [
        "### Visualize Term Score Decline\n",
        "\n",
        "Topics are represented by a number of words starting with the best representative word. Each word is represented by a c-TF-IDF score. The higher the score, the more representative a word to the topic is. Since the topic words are sorted by their c-TF-IDF score, the scores slowly decline with each word that is added. At some point adding words to the topic representation only marginally increases the total c-TF-IDF score and would not be beneficial for its representation.\n",
        "\n",
        "To visualize this effect, we can plot the c-TF-IDF scores for each topic by the term rank of each word. In other words, the position of the words (term rank), where the words with the highest c-TF-IDF score will have a rank of 1, will be put on the x-axis. Whereas the y-axis will be populated by the c-TF-IDF scores. The result is a visualization that shows you the decline of c-TF-IDF score when adding words to the topic representation. It allows you, using the elbow method, the select the best number of words in a topic.\n",
        "\n",
        "https://colab.research.google.com/drive/1FieRA9fLdkQEGDIMYl0I3MCjSUKVF8C-?usp=sharing#scrollTo=_ak_CLR164mx"
      ]
    },
    {
      "cell_type": "code",
      "execution_count": null,
      "metadata": {
        "colab": {
          "base_uri": "https://localhost:8080/",
          "height": 517
        },
        "id": "shlYqZeUPDFX",
        "outputId": "dd2b8fc1-4c51-4b3e-cf7a-e9cb7723d7b7"
      },
      "outputs": [
        {
          "output_type": "display_data",
          "data": {
            "text/html": [
              "<html>\n",
              "<head><meta charset=\"utf-8\" /></head>\n",
              "<body>\n",
              "    <div>            <script src=\"https://cdnjs.cloudflare.com/ajax/libs/mathjax/2.7.5/MathJax.js?config=TeX-AMS-MML_SVG\"></script><script type=\"text/javascript\">if (window.MathJax && window.MathJax.Hub && window.MathJax.Hub.Config) {window.MathJax.Hub.Config({SVG: {font: \"STIX-Web\"}});}</script>                <script type=\"text/javascript\">window.PlotlyConfig = {MathJaxConfig: 'local'};</script>\n",
              "        <script src=\"https://cdn.plot.ly/plotly-2.18.2.min.js\"></script>                <div id=\"b30751c7-7014-4ebf-bb63-3be090f8e88d\" class=\"plotly-graph-div\" style=\"height:500px; width:800px;\"></div>            <script type=\"text/javascript\">                                    window.PLOTLYENV=window.PLOTLYENV || {};                                    if (document.getElementById(\"b30751c7-7014-4ebf-bb63-3be090f8e88d\")) {                    Plotly.newPlot(                        \"b30751c7-7014-4ebf-bb63-3be090f8e88d\",                        [{\"hovertext\":\"<b>Topic -1</b>:shoe_the_and_they_for_them_these_a\",\"line\":{\"color\":\"black\",\"width\":1.5},\"mode\":\"lines+lines\",\"name\":\"\",\"opacity\":0.1,\"x\":[1,2,3,4,5,6,7,8,9,10],\"y\":[0.016638368271312022,0.016386033729660437,0.016234834108242887,0.013885881439008603,0.013278160377694762,0.012631335301504364,0.01240454465827732,0.01198499621218492,0.011100939231221811,0.011098721848940772],\"type\":\"scatter\"},{\"hovertext\":\"<b>Topic 0</b>:running_shoe_for_run_and_are_these_\",\"line\":{\"color\":\"black\",\"width\":1.5},\"mode\":\"lines+lines\",\"name\":\"\",\"opacity\":0.1,\"x\":[1,2,3,4,5,6,7,8,9,10],\"y\":[0.03768571116732423,0.02103170348159069,0.020550331186773078,0.019521367868231276,0.01760348818464667,0.015919454332891433,0.015457309201407202,0.015007106350517697,0.014858467476397803,0.013733460895444303],\"type\":\"scatter\"},{\"hovertext\":\"<b>Topic 1</b>:sandal_these_are_the_and_they_foot_\",\"line\":{\"color\":\"black\",\"width\":1.5},\"mode\":\"lines+lines\",\"name\":\"\",\"opacity\":0.1,\"x\":[1,2,3,4,5,6,7,8,9,10],\"y\":[0.0774742672349177,0.017122188706199113,0.01539627937062404,0.014705260297633246,0.014643883641482783,0.013763214422873591,0.013621941503038259,0.013437586784696627,0.0133900186668603,0.013186295890800061],\"type\":\"scatter\"},{\"hovertext\":\"<b>Topic 2</b>:comfortable_they_fit_them_very_and_\",\"line\":{\"color\":\"black\",\"width\":1.5},\"mode\":\"lines+lines\",\"name\":\"\",\"opacity\":0.1,\"x\":[1,2,3,4,5,6,7,8,9,10],\"y\":[0.03128640591687043,0.03127771647512768,0.028935198160622445,0.028612145480975296,0.02563846930049792,0.020780607743710006,0.01957879152240167,0.019042846409338524,0.01693777510886998,0.016738828499619024],\"type\":\"scatter\"},{\"hovertext\":\"<b>Topic 3</b>:wide_narrow_foot_shoe_but_for_width\",\"line\":{\"color\":\"black\",\"width\":1.5},\"mode\":\"lines+lines\",\"name\":\"\",\"opacity\":0.1,\"x\":[1,2,3,4,5,6,7,8,9,10],\"y\":[0.057932420195010485,0.046744134198295276,0.03484085701045807,0.019083949766184553,0.017638518765277566,0.01716701622882288,0.015576240705030197,0.015403197692826075,0.015334028733606233,0.014972091305237124],\"type\":\"scatter\"},{\"hovertext\":\"<b>Topic 4</b>:squeak_squeaking_powder_loud_the_no\",\"line\":{\"color\":\"black\",\"width\":1.5},\"mode\":\"lines+lines\",\"name\":\"\",\"opacity\":0.1,\"x\":[1,2,3,4,5,6,7,8,9,10],\"y\":[0.04188457671400229,0.025573428541314,0.022844548125815732,0.022691038711894453,0.01936663949703798,0.017295161759754298,0.01692367045813584,0.01620915117387153,0.015620134173716306,0.01503927109543852],\"type\":\"scatter\"},{\"hovertext\":\"<b>Topic 5</b>:nike_and_this_the_quality_price_pro\",\"line\":{\"color\":\"black\",\"width\":1.5},\"mode\":\"lines+lines\",\"name\":\"\",\"opacity\":0.1,\"x\":[1,2,3,4,5,6,7,8,9,10],\"y\":[0.05485780864462674,0.02028193549189244,0.01891804004673095,0.017565829197663363,0.01718091966048705,0.017090649526245533,0.016117812256670416,0.01600491765622218,0.014552153022606647,0.014352114034179866],\"type\":\"scatter\"},{\"hovertext\":\"<b>Topic 6</b>:sneaker_fit_these_love_them_great_a\",\"line\":{\"color\":\"black\",\"width\":1.5},\"mode\":\"lines+lines\",\"name\":\"\",\"opacity\":0.1,\"x\":[1,2,3,4,5,6,7,8,9,10],\"y\":[0.10513031288388987,0.022001720447628957,0.020007387867287996,0.018607286961215434,0.017722276251907795,0.016989925100636318,0.016804387176910598,0.015366867244485626,0.014592086122756224,0.014546352074288817],\"type\":\"scatter\"},{\"hovertext\":\"<b>Topic 7</b>:slide_are_velcro_the_comfortable_th\",\"line\":{\"color\":\"black\",\"width\":1.5},\"mode\":\"lines+lines\",\"name\":\"\",\"opacity\":0.1,\"x\":[1,2,3,4,5,6,7,8,9,10],\"y\":[0.10188501435231015,0.019552060631953628,0.018360522956200737,0.01667440828243969,0.016555098417352653,0.01633831452501525,0.01627239443152856,0.01538081069349551,0.01521253120241576,0.014842930483465085],\"type\":\"scatter\"},{\"hovertext\":\"<b>Topic 8</b>:son_his_size_daughter_shoe_she_him_\",\"line\":{\"color\":\"black\",\"width\":1.5},\"mode\":\"lines+lines\",\"name\":\"\",\"opacity\":0.1,\"x\":[1,2,3,4,5,6,7,8,9,10],\"y\":[0.05881172957973862,0.02216442197184517,0.02175997128305162,0.02078356689823997,0.02050773380556723,0.02043682496874554,0.020101647265335094,0.01858218427937059,0.017566486886002278,0.017553129555778244],\"type\":\"scatter\"},{\"hovertext\":\"<b>Topic 9</b>:size_larger_order_ordered_half_shoe\",\"line\":{\"color\":\"black\",\"width\":1.5},\"mode\":\"lines+lines\",\"name\":\"\",\"opacity\":0.1,\"x\":[1,2,3,4,5,6,7,8,9,10],\"y\":[0.06108337486664239,0.03198854076767853,0.030222489394435992,0.028823217997214927,0.0228953579266836,0.02283801706042122,0.021976727295572457,0.0186629930064646,0.01669420417829666,0.016012795314999873],\"type\":\"scatter\"},{\"hovertext\":\"<b>Topic 10</b>:flop_flip_are_have_these_ever_they\",\"line\":{\"color\":\"black\",\"width\":1.5},\"mode\":\"lines+lines\",\"name\":\"\",\"opacity\":0.1,\"x\":[1,2,3,4,5,6,7,8,9,10],\"y\":[0.08522731407770198,0.08319607467904373,0.019573039956186304,0.019136256123625402,0.018453965809104772,0.016687396491599428,0.016592886744941575,0.016424917513002617,0.014272985319169207,0.01407956512003986],\"type\":\"scatter\"},{\"hovertext\":\"<b>Topic 11</b>:size_nike_small_nikes_know_half_no\",\"line\":{\"color\":\"black\",\"width\":1.5},\"mode\":\"lines+lines\",\"name\":\"\",\"opacity\":0.1,\"x\":[1,2,3,4,5,6,7,8,9,10],\"y\":[0.03455551265788393,0.02819301232448602,0.021077156354392432,0.017901004563029874,0.017346535041161803,0.016576276745502112,0.01613906079246529,0.016129381434802834,0.015866620168514582,0.014879169735026863],\"type\":\"scatter\"},{\"hovertext\":\"<b>Topic 12</b>:comfortable_foot_hour_are_for_work\",\"line\":{\"color\":\"black\",\"width\":1.5},\"mode\":\"lines+lines\",\"name\":\"\",\"opacity\":0.1,\"x\":[1,2,3,4,5,6,7,8,9,10],\"y\":[0.027172274529078576,0.02621712157053618,0.02174684163545759,0.017810649013828245,0.017319225652925232,0.016637503972075238,0.01630212288722771,0.01606923450644603,0.015690410266469695,0.015273220457149279],\"type\":\"scatter\"},{\"hovertext\":\"<b>Topic 13</b>:she_gift_them_loved_son_love_wante\",\"line\":{\"color\":\"black\",\"width\":1.5},\"mode\":\"lines+lines\",\"name\":\"\",\"opacity\":0.1,\"x\":[1,2,3,4,5,6,7,8,9,10],\"y\":[0.05329702195918227,0.05224046162758917,0.05183019180865184,0.0369332397694656,0.031832466060363836,0.03056012897873501,0.029801193115125486,0.028844045888730192,0.028227723395929626,0.025918897704499105],\"type\":\"scatter\"},{\"hovertext\":\"<b>Topic 14</b>:max_air_nike_the_year_shoe_there_h\",\"line\":{\"color\":\"black\",\"width\":1.5},\"mode\":\"lines+lines\",\"name\":\"\",\"opacity\":0.1,\"x\":[1,2,3,4,5,6,7,8,9,10],\"y\":[0.049449675828039136,0.04714734437295304,0.023511029145696437,0.020960956259726493,0.015076090270032148,0.01493590117037696,0.013726699532935262,0.0127911245919949,0.012376195267827798,0.011980350099345139],\"type\":\"scatter\"},{\"hovertext\":\"<b>Topic 15</b>:fit_great_shoe_the_perfectly_time_\",\"line\":{\"color\":\"black\",\"width\":1.5},\"mode\":\"lines+lines\",\"name\":\"\",\"opacity\":0.1,\"x\":[1,2,3,4,5,6,7,8,9,10],\"y\":[0.044585607754096,0.03074414579534745,0.029693643254133192,0.021832532578963407,0.02150883099773213,0.019904492985687396,0.019405317606896004,0.01905209394195722,0.01899248119611048,0.016613941008672434],\"type\":\"scatter\"},{\"hovertext\":\"<b>Topic 16</b>:slipper_slip_house_are_these_comfo\",\"line\":{\"color\":\"black\",\"width\":1.5},\"mode\":\"lines+lines\",\"name\":\"\",\"opacity\":0.1,\"x\":[1,2,3,4,5,6,7,8,9,10],\"y\":[0.13252812552549678,0.029684680282547553,0.025434680743151944,0.0253816805376185,0.0214021022151647,0.0188518837866373,0.018418973958411893,0.016109681424193636,0.016021234141150656,0.0156235779186857],\"type\":\"scatter\"},{\"hovertext\":\"<b>Topic 17</b>:12_size_small_larger_but_shoe_too_\",\"line\":{\"color\":\"black\",\"width\":1.5},\"mode\":\"lines+lines\",\"name\":\"\",\"opacity\":0.1,\"x\":[1,2,3,4,5,6,7,8,9,10],\"y\":[0.10611759902347943,0.04509377559877331,0.025961329731442096,0.022673031611891274,0.02032509950735428,0.01910221665948595,0.01743470263377673,0.01693533526234401,0.01626286884917817,0.01600983911230925],\"type\":\"scatter\"},{\"hovertext\":\"<b>Topic 18</b>:arch_support_high_foot_have_shoe_p\",\"line\":{\"color\":\"black\",\"width\":1.5},\"mode\":\"lines+lines\",\"name\":\"\",\"opacity\":0.1,\"x\":[1,2,3,4,5,6,7,8,9,10],\"y\":[0.08989969046870866,0.04793291256770832,0.026645373776941032,0.02267163630049298,0.02078429141606753,0.01827599517005335,0.016685853211903592,0.016554126014802325,0.01630529128846227,0.015543203465621384],\"type\":\"scatter\"},{\"hovertext\":\"<b>Topic 19</b>:light_lightweight_weight_shoe_are_\",\"line\":{\"color\":\"black\",\"width\":1.5},\"mode\":\"lines+lines\",\"name\":\"\",\"opacity\":0.1,\"x\":[1,2,3,4,5,6,7,8,9,10],\"y\":[0.0588459291504334,0.034097737004833255,0.03103213845336878,0.028851789577898905,0.026740979696963957,0.02383829860306874,0.023422853530747932,0.023353944409972908,0.01922611033327144,0.018811341872003232],\"type\":\"scatter\"},{\"hovertext\":\"<b>Topic 20</b>:sock_son_boy_with_well_old_fit_per\",\"line\":{\"color\":\"black\",\"width\":1.5},\"mode\":\"lines+lines\",\"name\":\"\",\"opacity\":0.1,\"x\":[1,2,3,4,5,6,7,8,9,10],\"y\":[0.13919237212106325,0.031858654843630284,0.026175169784532423,0.025722665984698384,0.024603094093014043,0.02449793392470747,0.022890014429286894,0.022375632020689373,0.022275605161336,0.02216006005988143],\"type\":\"scatter\"},{\"hovertext\":\"<b>Topic 21</b>:perfect_nice_perfecto_likey_gimmic\",\"line\":{\"color\":\"black\",\"width\":1.5},\"mode\":\"lines+lines\",\"name\":\"\",\"opacity\":0.1,\"x\":[1,2,3,4,5,6,7,8,9,10],\"y\":[0.16686458944164198,0.1428014035004471,0.10642969236752131,0.10642969236752131,0.10642969236752131,0.10642969236752131,0.10642969236752131,0.10642969236752131,0.10642969236752131,0.0968091733935213],\"type\":\"scatter\"},{\"hovertext\":\"<b>Topic 22</b>:quality_very_good_product_material\",\"line\":{\"color\":\"black\",\"width\":1.5},\"mode\":\"lines+lines\",\"name\":\"\",\"opacity\":0.1,\"x\":[1,2,3,4,5,6,7,8,9,10],\"y\":[0.06813147338195574,0.05706627037852763,0.055942457795797526,0.046484136565060834,0.0409591484977617,0.03444069339065636,0.031692722876829796,0.028631059558000452,0.025588595817659765,0.02546561329521321],\"type\":\"scatter\"},{\"hovertext\":\"<b>Topic 23</b>:box_came_shipping_shoe_the_picture\",\"line\":{\"color\":\"black\",\"width\":1.5},\"mode\":\"lines+lines\",\"name\":\"\",\"opacity\":0.1,\"x\":[1,2,3,4,5,6,7,8,9,10],\"y\":[0.06737692374471525,0.03958520497165481,0.033688461872357627,0.03163397420108063,0.028367784565588673,0.024570446844477015,0.023458429244436335,0.023250149669276774,0.019722901018181655,0.019388763516922206],\"type\":\"scatter\"},{\"hovertext\":\"<b>Topic 24</b>:muy_bien_que_los_producto_oacute_a\",\"line\":{\"color\":\"black\",\"width\":1.5},\"mode\":\"lines+lines\",\"name\":\"\",\"opacity\":0.1,\"x\":[1,2,3,4,5,6,7,8,9,10],\"y\":[0.1778272561253584,0.13546901925063387,0.13546901925063387,0.12430603688054241,0.11286425018147252,0.11286425018147252,0.10110834085768863,0.10110834085768863,0.10110834085768863,0.08899280680671659],\"type\":\"scatter\"},{\"hovertext\":\"<b>Topic 25</b>:fit_great_product_picture_price_wh\",\"line\":{\"color\":\"black\",\"width\":1.5},\"mode\":\"lines+lines\",\"name\":\"\",\"opacity\":0.1,\"x\":[1,2,3,4,5,6,7,8,9,10],\"y\":[0.08968320334843041,0.07819019293626175,0.05027626349536842,0.049589196578747996,0.04569499978596175,0.037093959795469214,0.03572827503666196,0.035295274359322254,0.03481715824495077,0.03436753174199155],\"type\":\"scatter\"},{\"hovertext\":\"<b>Topic 26</b>:85_size_75_wear_but_and_normally_o\",\"line\":{\"color\":\"black\",\"width\":1.5},\"mode\":\"lines+lines\",\"name\":\"\",\"opacity\":0.1,\"x\":[1,2,3,4,5,6,7,8,9,10],\"y\":[0.08642811814178789,0.03764197982250403,0.033249157871213623,0.026163172674056854,0.020250866796555484,0.020025392221957355,0.0193058379610543,0.01906454817588354,0.018907801101999,0.018878015773453476],\"type\":\"scatter\"},{\"hovertext\":\"<b>Topic 27</b>:pegasus_running_vomero_mile_neutra\",\"line\":{\"color\":\"black\",\"width\":1.5},\"mode\":\"lines+lines\",\"name\":\"\",\"opacity\":0.1,\"x\":[1,2,3,4,5,6,7,8,9,10],\"y\":[0.08519040276872573,0.027639855583554192,0.02536073704518021,0.018599164891224734,0.018405606519258384,0.018258431151392317,0.017896796465978797,0.01661920133273754,0.015925476255693,0.015840797123953285],\"type\":\"scatter\"},{\"hovertext\":\"<b>Topic 28</b>:thong_toe_pair_them_foam_one_very_\",\"line\":{\"color\":\"black\",\"width\":1.5},\"mode\":\"lines+lines\",\"name\":\"\",\"opacity\":0.1,\"x\":[1,2,3,4,5,6,7,8,9,10],\"y\":[0.12131314650519409,0.026761166142282435,0.02260574248860895,0.02255058238026644,0.018075813423669873,0.017780043939529627,0.017506428158667552,0.0172013325881506,0.01701326560861496,0.01672616460454533],\"type\":\"scatter\"},{\"hovertext\":\"<b>Topic 29</b>:nike_nikes_comfortable_are_pair_ne\",\"line\":{\"color\":\"black\",\"width\":1.5},\"mode\":\"lines+lines\",\"name\":\"\",\"opacity\":0.1,\"x\":[1,2,3,4,5,6,7,8,9,10],\"y\":[0.03552678879045066,0.027171591032095675,0.02256108555684256,0.01974887607672561,0.019697906037600507,0.018950570915604485,0.01886031963182839,0.018782471300758424,0.01876100009821256,0.01772869119022448],\"type\":\"scatter\"},{\"hovertext\":\"<b>Topic 30</b>:soft_foot_they_feel_shoe_very_walk\",\"line\":{\"color\":\"black\",\"width\":1.5},\"mode\":\"lines+lines\",\"name\":\"\",\"opacity\":0.1,\"x\":[1,2,3,4,5,6,7,8,9,10],\"y\":[0.03158551645533444,0.030626596405929116,0.021786323932115104,0.020168002954222136,0.02007029833958288,0.019970613272800683,0.019282461403926764,0.01843860223028435,0.018396161993753473,0.01824948905345968],\"type\":\"scatter\"},{\"hovertext\":\"<b>Topic 31</b>:tight_pinky_toe_the_little_foot_bi\",\"line\":{\"color\":\"black\",\"width\":1.5},\"mode\":\"lines+lines\",\"name\":\"\",\"opacity\":0.1,\"x\":[1,2,3,4,5,6,7,8,9,10],\"y\":[0.032529980024257055,0.026321697922180864,0.02611323841864387,0.025150200343751903,0.02352393471630572,0.02143435422520106,0.019938284608729984,0.019067211945684646,0.018926152091549065,0.01862095695684318],\"type\":\"scatter\"},{\"hovertext\":\"<b>Topic 32</b>:105_size_115_bigger_ordered_small_\",\"line\":{\"color\":\"black\",\"width\":1.5},\"mode\":\"lines+lines\",\"name\":\"\",\"opacity\":0.1,\"x\":[1,2,3,4,5,6,7,8,9,10],\"y\":[0.12104797524326098,0.051229776851144875,0.044928997864603346,0.034391425597158444,0.03305907513108765,0.026039695107949252,0.02547430137467144,0.02352282886561153,0.017960297611534278,0.01669245138675483],\"type\":\"scatter\"},{\"hovertext\":\"<b>Topic 33</b>:pair_year_etc_them_another_last_se\",\"line\":{\"color\":\"black\",\"width\":1.5},\"mode\":\"lines+lines\",\"name\":\"\",\"opacity\":0.1,\"x\":[1,2,3,4,5,6,7,8,9,10],\"y\":[0.06562625517958214,0.050952535518386216,0.03696724159016341,0.032103578582090106,0.03168311667555676,0.03142342857168065,0.02942803441817323,0.027826100383105252,0.027261971885366755,0.02610265205121015],\"type\":\"scatter\"},{\"hovertext\":\"<b>Topic 34</b>:pain_foot_walk_heel_shoe_all_feel_\",\"line\":{\"color\":\"black\",\"width\":1.5},\"mode\":\"lines+lines\",\"name\":\"\",\"opacity\":0.1,\"x\":[1,2,3,4,5,6,7,8,9,10],\"y\":[0.06996324795597664,0.023811732953535013,0.022634728400873803,0.021946217441365587,0.02149671514116852,0.021424292517643214,0.020292190164531383,0.020207385305703936,0.020177340057586375,0.018487986258276145],\"type\":\"scatter\"},{\"hovertext\":\"<b>Topic 35</b>:blue_color_dark_black_was_sight_se\",\"line\":{\"color\":\"black\",\"width\":1.5},\"mode\":\"lines+lines\",\"name\":\"\",\"opacity\":0.1,\"x\":[1,2,3,4,5,6,7,8,9,10],\"y\":[0.11708096635386439,0.07099406820458215,0.06300755247597976,0.05312731459291039,0.04284972238801233,0.04052632697552692,0.03928657353086049,0.03150377623798988,0.030230699217492562,0.028219094053037876],\"type\":\"scatter\"},{\"hovertext\":\"<b>Topic 36</b>:cushion_soft_product_hard_base_spe\",\"line\":{\"color\":\"black\",\"width\":1.5},\"mode\":\"lines+lines\",\"name\":\"\",\"opacity\":0.1,\"x\":[1,2,3,4,5,6,7,8,9,10],\"y\":[0.12536912950944426,0.08985155621172784,0.03326075927618385,0.02782302240122362,0.027640362395016625,0.02728341656397658,0.026093688433953502,0.025524877121360413,0.023520587341032427,0.022240777422966145],\"type\":\"scatter\"},{\"hovertext\":\"<b>Topic 37</b>:comfortable_very_love_beautiful_sh\",\"line\":{\"color\":\"black\",\"width\":1.5},\"mode\":\"lines+lines\",\"name\":\"\",\"opacity\":0.1,\"x\":[1,2,3,4,5,6,7,8,9,10],\"y\":[0.10918986920138547,0.06536855386169134,0.05853233880306297,0.054811234163166675,0.054251228266134696,0.04912139647731753,0.04912139647731753,0.04912139647731753,0.04912139647731753,0.04912139647731753],\"type\":\"scatter\"},{\"hovertext\":\"<b>Topic 38</b>:woman_men_sock_size_tho_would_lady\",\"line\":{\"color\":\"black\",\"width\":1.5},\"mode\":\"lines+lines\",\"name\":\"\",\"opacity\":0.1,\"x\":[1,2,3,4,5,6,7,8,9,10],\"y\":[0.10039305545957068,0.05648964259150386,0.032455987239201636,0.028325174734741217,0.02373554733829386,0.023195913827273037,0.021122043039632853,0.020905031986506926,0.020038419401461185,0.019596170356500586],\"type\":\"scatter\"},{\"hovertext\":\"<b>Topic 39</b>:son_bought_size_perfectly_them_wea\",\"line\":{\"color\":\"black\",\"width\":1.5},\"mode\":\"lines+lines\",\"name\":\"\",\"opacity\":0.1,\"x\":[1,2,3,4,5,6,7,8,9,10],\"y\":[0.06420148377303002,0.04619757914825275,0.04554412594127083,0.042944113561201494,0.03878543500140485,0.035911796284415244,0.03570532066409298,0.03562139245475117,0.035607502849205844,0.033846121365996434],\"type\":\"scatter\"},{\"hovertext\":\"<b>Topic 40</b>:free_30_frees_nike_better_the_50_p\",\"line\":{\"color\":\"black\",\"width\":1.5},\"mode\":\"lines+lines\",\"name\":\"\",\"opacity\":0.1,\"x\":[1,2,3,4,5,6,7,8,9,10],\"y\":[0.061765977375477024,0.039871966801205944,0.03560850014807204,0.02698782754056784,0.022578505502420094,0.020333362183232718,0.017897325950328884,0.01775077144555905,0.017241367088022024,0.016804873414965487],\"type\":\"scatter\"},{\"hovertext\":\"<b>Topic 41</b>:address_delivery_item_deliver_saw_\",\"line\":{\"color\":\"black\",\"width\":1.5},\"mode\":\"lines+lines\",\"name\":\"\",\"opacity\":0.1,\"x\":[1,2,3,4,5,6,7,8,9,10],\"y\":[0.06805476716508105,0.05625969961911552,0.04940192505461038,0.034027383582540524,0.032457069491239214,0.032359383686043366,0.03183482519915065,0.03183482519915065,0.03183482519915065,0.029644800123272984],\"type\":\"scatter\"},{\"hovertext\":\"<b>Topic 42</b>:white_black_base_though_orange_ord\",\"line\":{\"color\":\"black\",\"width\":1.5},\"mode\":\"lines+lines\",\"name\":\"\",\"opacity\":0.1,\"x\":[1,2,3,4,5,6,7,8,9,10],\"y\":[0.07846137423202622,0.05033114014065195,0.02901429853745897,0.028949234651743226,0.028639609784992956,0.028490440294637903,0.02734558201359526,0.027174504812216504,0.024475837313757215,0.024143731697104858],\"type\":\"scatter\"},{\"hovertext\":\"<b>Topic 43</b>:love_bomb_sister_idea_son_them_wif\",\"line\":{\"color\":\"black\",\"width\":1.5},\"mode\":\"lines+lines\",\"name\":\"\",\"opacity\":0.1,\"x\":[1,2,3,4,5,6,7,8,9,10],\"y\":[0.3557549942835515,0.1989474233344049,0.17798561361343318,0.15968881269050364,0.14223763071600593,0.13647495310654756,0.12250271153667287,0.10706758352229681,0.09980533200472315,0.09875760927733059],\"type\":\"scatter\"},{\"hovertext\":\"<b>Topic 44</b>:husband_shoe_him_wear_his_comforta\",\"line\":{\"color\":\"black\",\"width\":1.5},\"mode\":\"lines+lines\",\"name\":\"\",\"opacity\":0.1,\"x\":[1,2,3,4,5,6,7,8,9,10],\"y\":[0.12106827077818368,0.040246155751779276,0.03554764545667535,0.03329503496095343,0.031846299232644384,0.029042829659703555,0.028357282153036716,0.028123617471950677,0.027764267574135998,0.027764267574135998],\"type\":\"scatter\"},{\"hovertext\":\"<b>Topic 45</b>:shower_hotel_water_pool_slip_for_f\",\"line\":{\"color\":\"black\",\"width\":1.5},\"mode\":\"lines+lines\",\"name\":\"\",\"opacity\":0.1,\"x\":[1,2,3,4,5,6,7,8,9,10],\"y\":[0.0720923437795126,0.05379162961886883,0.036267790108975954,0.032496470591187494,0.024729478950116023,0.024640325862613666,0.02222690569290378,0.021850346345873146,0.021188922907500404,0.02102961597754935],\"type\":\"scatter\"},{\"hovertext\":\"<b>Topic 46</b>:love_self_awesome_bos_excelentthan\",\"line\":{\"color\":\"black\",\"width\":1.5},\"mode\":\"lines+lines\",\"name\":\"\",\"opacity\":0.1,\"x\":[1,2,3,4,5,6,7,8,9,10],\"y\":[0.058994546790739705,0.05391530816407138,0.04913066994198858,0.038507225379203695,0.038507225379203695,0.038507225379203695,0.038507225379203695,0.038507225379203695,0.038507225379203695,0.038507225379203695],\"type\":\"scatter\"},{\"hovertext\":\"<b>Topic 47</b>:small_size_serve_but_smaller_order\",\"line\":{\"color\":\"black\",\"width\":1.5},\"mode\":\"lines+lines\",\"name\":\"\",\"opacity\":0.1,\"x\":[1,2,3,4,5,6,7,8,9,10],\"y\":[0.0963094943466257,0.07169386332381868,0.05473534241919986,0.052200421185983864,0.04966918131146644,0.04662072048213475,0.0423996363422703,0.0422633584626113,0.03666477440412218,0.03666477440412218],\"type\":\"scatter\"},{\"hovertext\":\"<b>Topic 48</b>:small_size_half_ran_review_run_hea\",\"line\":{\"color\":\"black\",\"width\":1.5},\"mode\":\"lines+lines\",\"name\":\"\",\"opacity\":0.1,\"x\":[1,2,3,4,5,6,7,8,9,10],\"y\":[0.05842098350999802,0.05365554678833094,0.05012246213811457,0.04294243511685644,0.041586887580462195,0.04120273047888324,0.03678237722603448,0.03312956343524394,0.028593334233488903,0.028309093204881803],\"type\":\"scatter\"},{\"hovertext\":\"<b>Topic 49</b>:great_shoe_favorite_workout_awesom\",\"line\":{\"color\":\"black\",\"width\":1.5},\"mode\":\"lines+lines\",\"name\":\"\",\"opacity\":0.1,\"x\":[1,2,3,4,5,6,7,8,9,10],\"y\":[0.2785525623354325,0.22669263239777712,0.13924119771285823,0.136934873784682,0.11639289664828247,0.10264442033068205,0.08200937954480565,0.04759711231355675,0.044261663864251136,0.011381940347465544],\"type\":\"scatter\"},{\"hovertext\":\"<b>Topic 50</b>:picture_same_got_color_buy_the_tha\",\"line\":{\"color\":\"black\",\"width\":1.5},\"mode\":\"lines+lines\",\"name\":\"\",\"opacity\":0.1,\"x\":[1,2,3,4,5,6,7,8,9,10],\"y\":[0.07633522158534123,0.051942731731387935,0.0408058863761483,0.038227575187082696,0.033600870546200916,0.033443232132059256,0.033195249547041915,0.03017593616807323,0.029178530518667922,0.02742573466123929],\"type\":\"scatter\"},{\"hovertext\":\"<b>Topic 51</b>:light_color_pair_bewareoverall_per\",\"line\":{\"color\":\"black\",\"width\":1.5},\"mode\":\"lines+lines\",\"name\":\"\",\"opacity\":0.1,\"x\":[1,2,3,4,5,6,7,8,9,10],\"y\":[0.11008592188006248,0.04513751589145333,0.044261663864251136,0.03909662168602824,0.03909662168602824,0.03909662168602824,0.03909662168602824,0.03909662168602824,0.03909662168602824,0.03909662168602824],\"type\":\"scatter\"}],                        {\"template\":{\"data\":{\"barpolar\":[{\"marker\":{\"line\":{\"color\":\"white\",\"width\":0.5},\"pattern\":{\"fillmode\":\"overlay\",\"size\":10,\"solidity\":0.2}},\"type\":\"barpolar\"}],\"bar\":[{\"error_x\":{\"color\":\"#2a3f5f\"},\"error_y\":{\"color\":\"#2a3f5f\"},\"marker\":{\"line\":{\"color\":\"white\",\"width\":0.5},\"pattern\":{\"fillmode\":\"overlay\",\"size\":10,\"solidity\":0.2}},\"type\":\"bar\"}],\"carpet\":[{\"aaxis\":{\"endlinecolor\":\"#2a3f5f\",\"gridcolor\":\"#C8D4E3\",\"linecolor\":\"#C8D4E3\",\"minorgridcolor\":\"#C8D4E3\",\"startlinecolor\":\"#2a3f5f\"},\"baxis\":{\"endlinecolor\":\"#2a3f5f\",\"gridcolor\":\"#C8D4E3\",\"linecolor\":\"#C8D4E3\",\"minorgridcolor\":\"#C8D4E3\",\"startlinecolor\":\"#2a3f5f\"},\"type\":\"carpet\"}],\"choropleth\":[{\"colorbar\":{\"outlinewidth\":0,\"ticks\":\"\"},\"type\":\"choropleth\"}],\"contourcarpet\":[{\"colorbar\":{\"outlinewidth\":0,\"ticks\":\"\"},\"type\":\"contourcarpet\"}],\"contour\":[{\"colorbar\":{\"outlinewidth\":0,\"ticks\":\"\"},\"colorscale\":[[0.0,\"#0d0887\"],[0.1111111111111111,\"#46039f\"],[0.2222222222222222,\"#7201a8\"],[0.3333333333333333,\"#9c179e\"],[0.4444444444444444,\"#bd3786\"],[0.5555555555555556,\"#d8576b\"],[0.6666666666666666,\"#ed7953\"],[0.7777777777777778,\"#fb9f3a\"],[0.8888888888888888,\"#fdca26\"],[1.0,\"#f0f921\"]],\"type\":\"contour\"}],\"heatmapgl\":[{\"colorbar\":{\"outlinewidth\":0,\"ticks\":\"\"},\"colorscale\":[[0.0,\"#0d0887\"],[0.1111111111111111,\"#46039f\"],[0.2222222222222222,\"#7201a8\"],[0.3333333333333333,\"#9c179e\"],[0.4444444444444444,\"#bd3786\"],[0.5555555555555556,\"#d8576b\"],[0.6666666666666666,\"#ed7953\"],[0.7777777777777778,\"#fb9f3a\"],[0.8888888888888888,\"#fdca26\"],[1.0,\"#f0f921\"]],\"type\":\"heatmapgl\"}],\"heatmap\":[{\"colorbar\":{\"outlinewidth\":0,\"ticks\":\"\"},\"colorscale\":[[0.0,\"#0d0887\"],[0.1111111111111111,\"#46039f\"],[0.2222222222222222,\"#7201a8\"],[0.3333333333333333,\"#9c179e\"],[0.4444444444444444,\"#bd3786\"],[0.5555555555555556,\"#d8576b\"],[0.6666666666666666,\"#ed7953\"],[0.7777777777777778,\"#fb9f3a\"],[0.8888888888888888,\"#fdca26\"],[1.0,\"#f0f921\"]],\"type\":\"heatmap\"}],\"histogram2dcontour\":[{\"colorbar\":{\"outlinewidth\":0,\"ticks\":\"\"},\"colorscale\":[[0.0,\"#0d0887\"],[0.1111111111111111,\"#46039f\"],[0.2222222222222222,\"#7201a8\"],[0.3333333333333333,\"#9c179e\"],[0.4444444444444444,\"#bd3786\"],[0.5555555555555556,\"#d8576b\"],[0.6666666666666666,\"#ed7953\"],[0.7777777777777778,\"#fb9f3a\"],[0.8888888888888888,\"#fdca26\"],[1.0,\"#f0f921\"]],\"type\":\"histogram2dcontour\"}],\"histogram2d\":[{\"colorbar\":{\"outlinewidth\":0,\"ticks\":\"\"},\"colorscale\":[[0.0,\"#0d0887\"],[0.1111111111111111,\"#46039f\"],[0.2222222222222222,\"#7201a8\"],[0.3333333333333333,\"#9c179e\"],[0.4444444444444444,\"#bd3786\"],[0.5555555555555556,\"#d8576b\"],[0.6666666666666666,\"#ed7953\"],[0.7777777777777778,\"#fb9f3a\"],[0.8888888888888888,\"#fdca26\"],[1.0,\"#f0f921\"]],\"type\":\"histogram2d\"}],\"histogram\":[{\"marker\":{\"pattern\":{\"fillmode\":\"overlay\",\"size\":10,\"solidity\":0.2}},\"type\":\"histogram\"}],\"mesh3d\":[{\"colorbar\":{\"outlinewidth\":0,\"ticks\":\"\"},\"type\":\"mesh3d\"}],\"parcoords\":[{\"line\":{\"colorbar\":{\"outlinewidth\":0,\"ticks\":\"\"}},\"type\":\"parcoords\"}],\"pie\":[{\"automargin\":true,\"type\":\"pie\"}],\"scatter3d\":[{\"line\":{\"colorbar\":{\"outlinewidth\":0,\"ticks\":\"\"}},\"marker\":{\"colorbar\":{\"outlinewidth\":0,\"ticks\":\"\"}},\"type\":\"scatter3d\"}],\"scattercarpet\":[{\"marker\":{\"colorbar\":{\"outlinewidth\":0,\"ticks\":\"\"}},\"type\":\"scattercarpet\"}],\"scattergeo\":[{\"marker\":{\"colorbar\":{\"outlinewidth\":0,\"ticks\":\"\"}},\"type\":\"scattergeo\"}],\"scattergl\":[{\"marker\":{\"colorbar\":{\"outlinewidth\":0,\"ticks\":\"\"}},\"type\":\"scattergl\"}],\"scattermapbox\":[{\"marker\":{\"colorbar\":{\"outlinewidth\":0,\"ticks\":\"\"}},\"type\":\"scattermapbox\"}],\"scatterpolargl\":[{\"marker\":{\"colorbar\":{\"outlinewidth\":0,\"ticks\":\"\"}},\"type\":\"scatterpolargl\"}],\"scatterpolar\":[{\"marker\":{\"colorbar\":{\"outlinewidth\":0,\"ticks\":\"\"}},\"type\":\"scatterpolar\"}],\"scatter\":[{\"fillpattern\":{\"fillmode\":\"overlay\",\"size\":10,\"solidity\":0.2},\"type\":\"scatter\"}],\"scatterternary\":[{\"marker\":{\"colorbar\":{\"outlinewidth\":0,\"ticks\":\"\"}},\"type\":\"scatterternary\"}],\"surface\":[{\"colorbar\":{\"outlinewidth\":0,\"ticks\":\"\"},\"colorscale\":[[0.0,\"#0d0887\"],[0.1111111111111111,\"#46039f\"],[0.2222222222222222,\"#7201a8\"],[0.3333333333333333,\"#9c179e\"],[0.4444444444444444,\"#bd3786\"],[0.5555555555555556,\"#d8576b\"],[0.6666666666666666,\"#ed7953\"],[0.7777777777777778,\"#fb9f3a\"],[0.8888888888888888,\"#fdca26\"],[1.0,\"#f0f921\"]],\"type\":\"surface\"}],\"table\":[{\"cells\":{\"fill\":{\"color\":\"#EBF0F8\"},\"line\":{\"color\":\"white\"}},\"header\":{\"fill\":{\"color\":\"#C8D4E3\"},\"line\":{\"color\":\"white\"}},\"type\":\"table\"}]},\"layout\":{\"annotationdefaults\":{\"arrowcolor\":\"#2a3f5f\",\"arrowhead\":0,\"arrowwidth\":1},\"autotypenumbers\":\"strict\",\"coloraxis\":{\"colorbar\":{\"outlinewidth\":0,\"ticks\":\"\"}},\"colorscale\":{\"diverging\":[[0,\"#8e0152\"],[0.1,\"#c51b7d\"],[0.2,\"#de77ae\"],[0.3,\"#f1b6da\"],[0.4,\"#fde0ef\"],[0.5,\"#f7f7f7\"],[0.6,\"#e6f5d0\"],[0.7,\"#b8e186\"],[0.8,\"#7fbc41\"],[0.9,\"#4d9221\"],[1,\"#276419\"]],\"sequential\":[[0.0,\"#0d0887\"],[0.1111111111111111,\"#46039f\"],[0.2222222222222222,\"#7201a8\"],[0.3333333333333333,\"#9c179e\"],[0.4444444444444444,\"#bd3786\"],[0.5555555555555556,\"#d8576b\"],[0.6666666666666666,\"#ed7953\"],[0.7777777777777778,\"#fb9f3a\"],[0.8888888888888888,\"#fdca26\"],[1.0,\"#f0f921\"]],\"sequentialminus\":[[0.0,\"#0d0887\"],[0.1111111111111111,\"#46039f\"],[0.2222222222222222,\"#7201a8\"],[0.3333333333333333,\"#9c179e\"],[0.4444444444444444,\"#bd3786\"],[0.5555555555555556,\"#d8576b\"],[0.6666666666666666,\"#ed7953\"],[0.7777777777777778,\"#fb9f3a\"],[0.8888888888888888,\"#fdca26\"],[1.0,\"#f0f921\"]]},\"colorway\":[\"#636efa\",\"#EF553B\",\"#00cc96\",\"#ab63fa\",\"#FFA15A\",\"#19d3f3\",\"#FF6692\",\"#B6E880\",\"#FF97FF\",\"#FECB52\"],\"font\":{\"color\":\"#2a3f5f\"},\"geo\":{\"bgcolor\":\"white\",\"lakecolor\":\"white\",\"landcolor\":\"white\",\"showlakes\":true,\"showland\":true,\"subunitcolor\":\"#C8D4E3\"},\"hoverlabel\":{\"align\":\"left\"},\"hovermode\":\"closest\",\"mapbox\":{\"style\":\"light\"},\"paper_bgcolor\":\"white\",\"plot_bgcolor\":\"white\",\"polar\":{\"angularaxis\":{\"gridcolor\":\"#EBF0F8\",\"linecolor\":\"#EBF0F8\",\"ticks\":\"\"},\"bgcolor\":\"white\",\"radialaxis\":{\"gridcolor\":\"#EBF0F8\",\"linecolor\":\"#EBF0F8\",\"ticks\":\"\"}},\"scene\":{\"xaxis\":{\"backgroundcolor\":\"white\",\"gridcolor\":\"#DFE8F3\",\"gridwidth\":2,\"linecolor\":\"#EBF0F8\",\"showbackground\":true,\"ticks\":\"\",\"zerolinecolor\":\"#EBF0F8\"},\"yaxis\":{\"backgroundcolor\":\"white\",\"gridcolor\":\"#DFE8F3\",\"gridwidth\":2,\"linecolor\":\"#EBF0F8\",\"showbackground\":true,\"ticks\":\"\",\"zerolinecolor\":\"#EBF0F8\"},\"zaxis\":{\"backgroundcolor\":\"white\",\"gridcolor\":\"#DFE8F3\",\"gridwidth\":2,\"linecolor\":\"#EBF0F8\",\"showbackground\":true,\"ticks\":\"\",\"zerolinecolor\":\"#EBF0F8\"}},\"shapedefaults\":{\"line\":{\"color\":\"#2a3f5f\"}},\"ternary\":{\"aaxis\":{\"gridcolor\":\"#DFE8F3\",\"linecolor\":\"#A2B1C6\",\"ticks\":\"\"},\"baxis\":{\"gridcolor\":\"#DFE8F3\",\"linecolor\":\"#A2B1C6\",\"ticks\":\"\"},\"bgcolor\":\"white\",\"caxis\":{\"gridcolor\":\"#DFE8F3\",\"linecolor\":\"#A2B1C6\",\"ticks\":\"\"}},\"title\":{\"x\":0.05},\"xaxis\":{\"automargin\":true,\"gridcolor\":\"#EBF0F8\",\"linecolor\":\"#EBF0F8\",\"ticks\":\"\",\"title\":{\"standoff\":15},\"zerolinecolor\":\"#EBF0F8\",\"zerolinewidth\":2},\"yaxis\":{\"automargin\":true,\"gridcolor\":\"#EBF0F8\",\"linecolor\":\"#EBF0F8\",\"ticks\":\"\",\"title\":{\"standoff\":15},\"zerolinecolor\":\"#EBF0F8\",\"zerolinewidth\":2}}},\"xaxis\":{\"range\":[0,10],\"tick0\":1,\"dtick\":2,\"title\":{\"text\":\"Term Rank\"}},\"title\":{\"font\":{\"size\":22,\"color\":\"Black\"},\"text\":\"<b>Term score decline per Topic</b>\",\"y\":0.9,\"x\":0.5,\"xanchor\":\"center\",\"yanchor\":\"top\"},\"hoverlabel\":{\"font\":{\"size\":16,\"family\":\"Rockwell\"},\"bgcolor\":\"white\"},\"showlegend\":false,\"width\":800,\"height\":500,\"yaxis\":{\"title\":{\"text\":\"c-TF-IDF score\"}}},                        {\"responsive\": true}                    ).then(function(){\n",
              "                            \n",
              "var gd = document.getElementById('b30751c7-7014-4ebf-bb63-3be090f8e88d');\n",
              "var x = new MutationObserver(function (mutations, observer) {{\n",
              "        var display = window.getComputedStyle(gd).display;\n",
              "        if (!display || display === 'none') {{\n",
              "            console.log([gd, 'removed!']);\n",
              "            Plotly.purge(gd);\n",
              "            observer.disconnect();\n",
              "        }}\n",
              "}});\n",
              "\n",
              "// Listen for the removal of the full notebook cells\n",
              "var notebookContainer = gd.closest('#notebook-container');\n",
              "if (notebookContainer) {{\n",
              "    x.observe(notebookContainer, {childList: true});\n",
              "}}\n",
              "\n",
              "// Listen for the clearing of the current output cell\n",
              "var outputEl = gd.closest('.output');\n",
              "if (outputEl) {{\n",
              "    x.observe(outputEl, {childList: true});\n",
              "}}\n",
              "\n",
              "                        })                };                            </script>        </div>\n",
              "</body>\n",
              "</html>"
            ]
          },
          "metadata": {}
        }
      ],
      "source": [
        "topic_model.visualize_term_rank()"
      ]
    },
    {
      "cell_type": "markdown",
      "source": [
        "## 3.2 Training New Topic Model"
      ],
      "metadata": {
        "id": "Wfev60TYoMPn"
      }
    },
    {
      "cell_type": "markdown",
      "metadata": {
        "id": "2hbta7g3Xxui"
      },
      "source": [
        "After having created the topic model, now I would like to remove stopwords and create a new instance of \"BERTopic\" and fit the updated model on the texts_without_stopwords."
      ]
    },
    {
      "cell_type": "code",
      "source": [
        "# remove stopwords from texts\n",
        "stopwords = set(stopwords.words('english'))\n",
        "texts_without_stopwords = []\n",
        "\n",
        "for text in preprocessed_texts:\n",
        "  tokens = word_tokenize(text)\n",
        "  tokens_without_stopwords = [token for token in tokens if token not in stopwords]\n",
        "  texts_without_stopwords.append(\" \".join(tokens_without_stopwords))\n"
      ],
      "metadata": {
        "id": "yjRlRFDtdVYk"
      },
      "execution_count": null,
      "outputs": []
    },
    {
      "cell_type": "code",
      "source": [
        "# create new_topic_model\n",
        "new_topic_model = BERTopic(language=\"english\", calculate_probabilities=True, verbose=True)\n",
        "topics, probs = new_topic_model.fit_transform(texts_without_stopwords)"
      ],
      "metadata": {
        "colab": {
          "base_uri": "https://localhost:8080/",
          "height": 101,
          "referenced_widgets": [
            "d262bf99188f492f9f54c138a991f4c1",
            "1b386ec3e5fd4fe681a15637fc3c6667",
            "0500013e998a479280d2a6975f97b014",
            "1321747d732245b9b64d0f20e47657aa",
            "b7d519b8e809431fb63623d65c04bfbc",
            "3c77adecb38246aa9f7e593b41a7f8ee",
            "6c8c451b773c4b28ab1058cf8e78565a",
            "cdf7f18a28e942f994520d713e919331",
            "e08db8bc427c4d469865134bb9059049",
            "2cff8a243c2249b8adfd530961f8c5c7",
            "9ee690dfd39c4f94a8c90bef1db5ddef"
          ]
        },
        "id": "dMa0QiaixBIu",
        "outputId": "54eaeb54-8936-425b-96ee-c39f782166ca"
      },
      "execution_count": null,
      "outputs": [
        {
          "output_type": "display_data",
          "data": {
            "text/plain": [
              "Batches:   0%|          | 0/111 [00:00<?, ?it/s]"
            ],
            "application/vnd.jupyter.widget-view+json": {
              "version_major": 2,
              "version_minor": 0,
              "model_id": "d262bf99188f492f9f54c138a991f4c1"
            }
          },
          "metadata": {}
        },
        {
          "output_type": "stream",
          "name": "stderr",
          "text": [
            "2023-06-22 13:56:22,966 - BERTopic - Transformed documents to Embeddings\n",
            "2023-06-22 13:56:36,869 - BERTopic - Reduced dimensionality\n",
            "2023-06-22 13:56:37,343 - BERTopic - Clustered reduced embeddings\n"
          ]
        }
      ]
    },
    {
      "cell_type": "code",
      "source": [
        "# get 5 most frequent topics\n",
        "new_freq = new_topic_model.get_topic_info()\n",
        "new_freq.head(5)\n"
      ],
      "metadata": {
        "colab": {
          "base_uri": "https://localhost:8080/",
          "height": 206
        },
        "id": "U8y0T0XhxmZg",
        "outputId": "ed86b487-9ac4-4649-bed6-b367ba9baea5"
      },
      "execution_count": null,
      "outputs": [
        {
          "output_type": "execute_result",
          "data": {
            "text/plain": [
              "   Topic  Count                             Name  \\\n",
              "0     -1   1232    -1_shoe_size_nike_comfortable   \n",
              "1      0    210  0_sandal_foot_comfortable_would   \n",
              "2      1    204           1_son_gift_love_bought   \n",
              "3      2    142    2_color_love_shoe_comfortable   \n",
              "4      3    128           3_fit_great_shirt_look   \n",
              "\n",
              "                                      Representation  \\\n",
              "0  [shoe, size, nike, comfortable, foot, fit, pai...   \n",
              "1  [sandal, foot, comfortable, would, pair, wear,...   \n",
              "2  [son, gift, love, bought, birthday, grandson, ...   \n",
              "3  [color, love, shoe, comfortable, light, pink, ...   \n",
              "4  [fit, great, shirt, look, well, comfortable, p...   \n",
              "\n",
              "                                 Representative_Docs  \n",
              "0  [bought pair store close house pink absolutely...  \n",
              "1  [sandal perfect pair sandal best sandal buy mo...  \n",
              "2  [bought year old son fit true size love say co...  \n",
              "3  [nice lightweight really comfortable shoe thin...  \n",
              "4  [great fit, fit well comfortable look great, f...  "
            ],
            "text/html": [
              "\n",
              "  <div id=\"df-6c2786ee-e67a-4979-93db-37ef69822edc\">\n",
              "    <div class=\"colab-df-container\">\n",
              "      <div>\n",
              "<style scoped>\n",
              "    .dataframe tbody tr th:only-of-type {\n",
              "        vertical-align: middle;\n",
              "    }\n",
              "\n",
              "    .dataframe tbody tr th {\n",
              "        vertical-align: top;\n",
              "    }\n",
              "\n",
              "    .dataframe thead th {\n",
              "        text-align: right;\n",
              "    }\n",
              "</style>\n",
              "<table border=\"1\" class=\"dataframe\">\n",
              "  <thead>\n",
              "    <tr style=\"text-align: right;\">\n",
              "      <th></th>\n",
              "      <th>Topic</th>\n",
              "      <th>Count</th>\n",
              "      <th>Name</th>\n",
              "      <th>Representation</th>\n",
              "      <th>Representative_Docs</th>\n",
              "    </tr>\n",
              "  </thead>\n",
              "  <tbody>\n",
              "    <tr>\n",
              "      <th>0</th>\n",
              "      <td>-1</td>\n",
              "      <td>1232</td>\n",
              "      <td>-1_shoe_size_nike_comfortable</td>\n",
              "      <td>[shoe, size, nike, comfortable, foot, fit, pai...</td>\n",
              "      <td>[bought pair store close house pink absolutely...</td>\n",
              "    </tr>\n",
              "    <tr>\n",
              "      <th>1</th>\n",
              "      <td>0</td>\n",
              "      <td>210</td>\n",
              "      <td>0_sandal_foot_comfortable_would</td>\n",
              "      <td>[sandal, foot, comfortable, would, pair, wear,...</td>\n",
              "      <td>[sandal perfect pair sandal best sandal buy mo...</td>\n",
              "    </tr>\n",
              "    <tr>\n",
              "      <th>2</th>\n",
              "      <td>1</td>\n",
              "      <td>204</td>\n",
              "      <td>1_son_gift_love_bought</td>\n",
              "      <td>[son, gift, love, bought, birthday, grandson, ...</td>\n",
              "      <td>[bought year old son fit true size love say co...</td>\n",
              "    </tr>\n",
              "    <tr>\n",
              "      <th>3</th>\n",
              "      <td>2</td>\n",
              "      <td>142</td>\n",
              "      <td>2_color_love_shoe_comfortable</td>\n",
              "      <td>[color, love, shoe, comfortable, light, pink, ...</td>\n",
              "      <td>[nice lightweight really comfortable shoe thin...</td>\n",
              "    </tr>\n",
              "    <tr>\n",
              "      <th>4</th>\n",
              "      <td>3</td>\n",
              "      <td>128</td>\n",
              "      <td>3_fit_great_shirt_look</td>\n",
              "      <td>[fit, great, shirt, look, well, comfortable, p...</td>\n",
              "      <td>[great fit, fit well comfortable look great, f...</td>\n",
              "    </tr>\n",
              "  </tbody>\n",
              "</table>\n",
              "</div>\n",
              "      <button class=\"colab-df-convert\" onclick=\"convertToInteractive('df-6c2786ee-e67a-4979-93db-37ef69822edc')\"\n",
              "              title=\"Convert this dataframe to an interactive table.\"\n",
              "              style=\"display:none;\">\n",
              "        \n",
              "  <svg xmlns=\"http://www.w3.org/2000/svg\" height=\"24px\"viewBox=\"0 0 24 24\"\n",
              "       width=\"24px\">\n",
              "    <path d=\"M0 0h24v24H0V0z\" fill=\"none\"/>\n",
              "    <path d=\"M18.56 5.44l.94 2.06.94-2.06 2.06-.94-2.06-.94-.94-2.06-.94 2.06-2.06.94zm-11 1L8.5 8.5l.94-2.06 2.06-.94-2.06-.94L8.5 2.5l-.94 2.06-2.06.94zm10 10l.94 2.06.94-2.06 2.06-.94-2.06-.94-.94-2.06-.94 2.06-2.06.94z\"/><path d=\"M17.41 7.96l-1.37-1.37c-.4-.4-.92-.59-1.43-.59-.52 0-1.04.2-1.43.59L10.3 9.45l-7.72 7.72c-.78.78-.78 2.05 0 2.83L4 21.41c.39.39.9.59 1.41.59.51 0 1.02-.2 1.41-.59l7.78-7.78 2.81-2.81c.8-.78.8-2.07 0-2.86zM5.41 20L4 18.59l7.72-7.72 1.47 1.35L5.41 20z\"/>\n",
              "  </svg>\n",
              "      </button>\n",
              "      \n",
              "  <style>\n",
              "    .colab-df-container {\n",
              "      display:flex;\n",
              "      flex-wrap:wrap;\n",
              "      gap: 12px;\n",
              "    }\n",
              "\n",
              "    .colab-df-convert {\n",
              "      background-color: #E8F0FE;\n",
              "      border: none;\n",
              "      border-radius: 50%;\n",
              "      cursor: pointer;\n",
              "      display: none;\n",
              "      fill: #1967D2;\n",
              "      height: 32px;\n",
              "      padding: 0 0 0 0;\n",
              "      width: 32px;\n",
              "    }\n",
              "\n",
              "    .colab-df-convert:hover {\n",
              "      background-color: #E2EBFA;\n",
              "      box-shadow: 0px 1px 2px rgba(60, 64, 67, 0.3), 0px 1px 3px 1px rgba(60, 64, 67, 0.15);\n",
              "      fill: #174EA6;\n",
              "    }\n",
              "\n",
              "    [theme=dark] .colab-df-convert {\n",
              "      background-color: #3B4455;\n",
              "      fill: #D2E3FC;\n",
              "    }\n",
              "\n",
              "    [theme=dark] .colab-df-convert:hover {\n",
              "      background-color: #434B5C;\n",
              "      box-shadow: 0px 1px 3px 1px rgba(0, 0, 0, 0.15);\n",
              "      filter: drop-shadow(0px 1px 2px rgba(0, 0, 0, 0.3));\n",
              "      fill: #FFFFFF;\n",
              "    }\n",
              "  </style>\n",
              "\n",
              "      <script>\n",
              "        const buttonEl =\n",
              "          document.querySelector('#df-6c2786ee-e67a-4979-93db-37ef69822edc button.colab-df-convert');\n",
              "        buttonEl.style.display =\n",
              "          google.colab.kernel.accessAllowed ? 'block' : 'none';\n",
              "\n",
              "        async function convertToInteractive(key) {\n",
              "          const element = document.querySelector('#df-6c2786ee-e67a-4979-93db-37ef69822edc');\n",
              "          const dataTable =\n",
              "            await google.colab.kernel.invokeFunction('convertToInteractive',\n",
              "                                                     [key], {});\n",
              "          if (!dataTable) return;\n",
              "\n",
              "          const docLinkHtml = 'Like what you see? Visit the ' +\n",
              "            '<a target=\"_blank\" href=https://colab.research.google.com/notebooks/data_table.ipynb>data table notebook</a>'\n",
              "            + ' to learn more about interactive tables.';\n",
              "          element.innerHTML = '';\n",
              "          dataTable['output_type'] = 'display_data';\n",
              "          await google.colab.output.renderOutput(dataTable, element);\n",
              "          const docLink = document.createElement('div');\n",
              "          docLink.innerHTML = docLinkHtml;\n",
              "          element.appendChild(docLink);\n",
              "        }\n",
              "      </script>\n",
              "    </div>\n",
              "  </div>\n",
              "  "
            ]
          },
          "metadata": {},
          "execution_count": 53
        }
      ]
    },
    {
      "cell_type": "code",
      "source": [
        "# select the most frequent topic\n",
        "new_topic_model.get_topic(0)"
      ],
      "metadata": {
        "colab": {
          "base_uri": "https://localhost:8080/"
        },
        "id": "QNJOhEB4xmcz",
        "outputId": "26da0d8c-3a18-415c-d8ec-2022f03bfb03"
      },
      "execution_count": null,
      "outputs": [
        {
          "output_type": "execute_result",
          "data": {
            "text/plain": [
              "[('sandal', 0.10784979202800266),\n",
              " ('foot', 0.01723310798235316),\n",
              " ('comfortable', 0.015306289314635768),\n",
              " ('would', 0.014867328836780535),\n",
              " ('pair', 0.01395514415795618),\n",
              " ('wear', 0.012942521613101011),\n",
              " ('strap', 0.012757696570030171),\n",
              " ('great', 0.0125781159475257),\n",
              " ('fit', 0.012533385740032451),\n",
              " ('love', 0.01212194775855453)]"
            ]
          },
          "metadata": {},
          "execution_count": 54
        }
      ]
    },
    {
      "cell_type": "code",
      "source": [
        "# how many topic we have\n",
        "len(new_topic_model.topic_sizes_)"
      ],
      "metadata": {
        "colab": {
          "base_uri": "https://localhost:8080/"
        },
        "id": "28N6d_mKxmfn",
        "outputId": "0182f42c-589a-40a4-d5d2-dd9dd5d25f7f"
      },
      "execution_count": null,
      "outputs": [
        {
          "output_type": "execute_result",
          "data": {
            "text/plain": [
              "52"
            ]
          },
          "metadata": {},
          "execution_count": 55
        }
      ]
    },
    {
      "cell_type": "code",
      "source": [
        "# Visualize Topics\n",
        "new_topic_model.visualize_topics()"
      ],
      "metadata": {
        "colab": {
          "base_uri": "https://localhost:8080/",
          "height": 667
        },
        "id": "i03xhDP1xmir",
        "outputId": "16e3a684-edae-4259-93dc-9a1a6c09b5fb"
      },
      "execution_count": null,
      "outputs": [
        {
          "output_type": "display_data",
          "data": {
            "text/html": [
              "<html>\n",
              "<head><meta charset=\"utf-8\" /></head>\n",
              "<body>\n",
              "    <div>            <script src=\"https://cdnjs.cloudflare.com/ajax/libs/mathjax/2.7.5/MathJax.js?config=TeX-AMS-MML_SVG\"></script><script type=\"text/javascript\">if (window.MathJax && window.MathJax.Hub && window.MathJax.Hub.Config) {window.MathJax.Hub.Config({SVG: {font: \"STIX-Web\"}});}</script>                <script type=\"text/javascript\">window.PlotlyConfig = {MathJaxConfig: 'local'};</script>\n",
              "        <script src=\"https://cdn.plot.ly/plotly-2.18.2.min.js\"></script>                <div id=\"0c809199-5c4a-499d-97ed-98c3575a7df9\" class=\"plotly-graph-div\" style=\"height:650px; width:650px;\"></div>            <script type=\"text/javascript\">                                    window.PLOTLYENV=window.PLOTLYENV || {};                                    if (document.getElementById(\"0c809199-5c4a-499d-97ed-98c3575a7df9\")) {                    Plotly.newPlot(                        \"0c809199-5c4a-499d-97ed-98c3575a7df9\",                        [{\"customdata\":[[0,\"sandal | foot | comfortable | would | pair\",210],[1,\"son | gift | love | bought | birthday\",204],[2,\"color | love | shoe | comfortable | light\",142],[3,\"fit | great | shirt | look | well\",128],[4,\"wide | narrow | foot | wider | tight\",121],[5,\"arch | foot | shoe | support | pain\",108],[6,\"squeak | squeaking | loud | powder | noise\",105],[7,\"fit | great | iexcl | shoe | perfect\",92],[8,\"running | run | shoe | runner | great\",83],[9,\"small | run | size | half | larger\",76],[10,\"sneaker | fit | love | great | look\",71],[11,\"running | fit | great | run | love\",57],[12,\"nike | air | price | nylon | made\",46],[13,\"slide | velcro | slides | comfort | comfortable\",45],[14,\"perfect | nice | expected | thank | perfecto\",45],[15,\"flop | flip | ever | toe | worn\",43],[16,\"shipping | order | shipped | fast | time\",38],[17,\"slipper | slip | house | padding | comfortable\",36],[18,\"size | nikes | smaller | nike | always\",36],[19,\"size | bigger | small | need | smaller\",33],[20,\"shower | water | wet | hotel | dry\",32],[21,\"sock | wash | son | boy | old\",32],[22,\"muy | bien | que | los | producto\",28],[23,\"pair | year | last | etc | another\",28],[24,\"size | ordered | smaller | wrong | usual\",27],[25,\"price | looking | shoes | find | paid\",27],[26,\"gym | treadmill | use | squat | comfortable\",26],[27,\"foot | hour | feels | hurt | town\",25],[28,\"max | air | breathable | comfort | chamber\",24],[29,\"cushion | soft | rib | hard | crack\",23],[30,\"husband | wear | day | love | happy\",21],[31,\"loosen | foot | band | black | seemed\",21],[32,\"box | came | destroyed | genuine | looked\",21],[33,\"color | weight | compliment | light | every\",19],[34,\"nike | dart | air | men | year\",19],[35,\"85 | size | one | wear | usually\",19],[36,\"daughter | love | pair | mom | rio\",18],[37,\"blue | dark | color | black | sent\",17],[38,\"quality | product | material | comfortable | good\",16],[39,\"pegasus | vomero | running | model | nike\",16],[40,\"half | size | larger | bit | rim\",16],[41,\"105 | size | picked | bigger | 115\",16],[42,\"feel | fit | run | tongue | foot\",15],[43,\"black | nike | pair | footbed | three\",15],[44,\"strap | adjustable | top | foot | slide\",13],[45,\"thong | enjoyed | pair | sandals | summer\",12],[46,\"12 | toe | wan | lady | size\",11],[47,\"great | shoe | workout | thanks | awesome\",11],[48,\"sock | comfortable | use | hubbies | mailbox\",10],[49,\"came | exact | expected | fastx | beforex\",10],[50,\"stability | excellent | cushioning | running | purpose\",10]],\"hovertemplate\":\"<b>Topic %{customdata[0]}</b><br>%{customdata[1]}<br>Size: %{customdata[2]}\",\"legendgroup\":\"\",\"marker\":{\"color\":\"#B0BEC5\",\"size\":[210,204,142,128,121,108,105,92,83,76,71,57,46,45,45,43,38,36,36,33,32,32,28,28,27,27,26,25,24,23,21,21,21,19,19,19,18,17,16,16,16,16,15,15,13,12,11,11,10,10,10],\"sizemode\":\"area\",\"sizeref\":0.13125,\"symbol\":\"circle\",\"line\":{\"color\":\"DarkSlateGrey\",\"width\":2}},\"mode\":\"markers\",\"name\":\"\",\"orientation\":\"v\",\"showlegend\":false,\"x\":[17.742958068847656,10.667282104492188,6.2872185707092285,7.004055023193359,5.952589511871338,7.546550273895264,7.820810794830322,6.624417781829834,9.545219421386719,3.9762768745422363,6.588881015777588,9.968127250671387,17.368730545043945,-2.761786460876465,13.19413948059082,-3.224635124206543,14.798256874084473,-3.015904664993286,-9.827088356018066,4.523835182189941,-2.9831693172454834,5.830948352813721,17.371253967285156,-3.5129528045654297,4.33705472946167,14.973383903503418,9.799677848815918,7.837458610534668,17.19940948486328,13.153928756713867,6.112188816070557,6.125992774963379,14.889571189880371,13.658306121826172,-9.77906608581543,2.733210325241089,10.712319374084473,13.690605163574219,13.404485702514648,10.03372859954834,4.036867618560791,2.733666181564331,7.323148250579834,17.576095581054688,5.840481758117676,-3.400984764099121,3.823286771774292,5.962637901306152,5.911723613739014,7.03562593460083,9.698442459106445],\"xaxis\":\"x\",\"y\":[-1.5632004737854004,11.900736808776855,11.141098976135254,9.352832794189453,9.25002670288086,8.591894149780273,8.568424224853516,9.487386703491211,-12.746910095214844,15.648351669311523,9.634428024291992,-13.17003059387207,-1.1892372369766235,-7.891512870788574,-1.2128068208694458,-7.428459167480469,12.063623428344727,-7.637475490570068,-4.362852096557617,16.154075622558594,-7.670175075531006,11.52500057220459,-1.1927814483642578,-7.139257907867432,15.976381301879883,11.887802124023438,-13.001880645751953,8.500113487243652,-1.0217475891113281,-0.8840276002883911,11.040032386779785,9.192312240600586,11.971949577331543,-0.9305869936943054,-4.407736301422119,4.309875965118408,11.94457721710205,-0.8738576173782349,-1.0437883138656616,-13.235652923583984,15.70892333984375,4.309988975524902,8.839705467224121,-1.3962420225143433,9.428526878356934,-7.251476287841797,15.498100280761719,10.909537315368652,11.45615291595459,9.425834655761719,-12.90057373046875],\"yaxis\":\"y\",\"type\":\"scatter\"}],                        {\"template\":{\"data\":{\"barpolar\":[{\"marker\":{\"line\":{\"color\":\"white\",\"width\":0.5},\"pattern\":{\"fillmode\":\"overlay\",\"size\":10,\"solidity\":0.2}},\"type\":\"barpolar\"}],\"bar\":[{\"error_x\":{\"color\":\"rgb(36,36,36)\"},\"error_y\":{\"color\":\"rgb(36,36,36)\"},\"marker\":{\"line\":{\"color\":\"white\",\"width\":0.5},\"pattern\":{\"fillmode\":\"overlay\",\"size\":10,\"solidity\":0.2}},\"type\":\"bar\"}],\"carpet\":[{\"aaxis\":{\"endlinecolor\":\"rgb(36,36,36)\",\"gridcolor\":\"white\",\"linecolor\":\"white\",\"minorgridcolor\":\"white\",\"startlinecolor\":\"rgb(36,36,36)\"},\"baxis\":{\"endlinecolor\":\"rgb(36,36,36)\",\"gridcolor\":\"white\",\"linecolor\":\"white\",\"minorgridcolor\":\"white\",\"startlinecolor\":\"rgb(36,36,36)\"},\"type\":\"carpet\"}],\"choropleth\":[{\"colorbar\":{\"outlinewidth\":1,\"tickcolor\":\"rgb(36,36,36)\",\"ticks\":\"outside\"},\"type\":\"choropleth\"}],\"contourcarpet\":[{\"colorbar\":{\"outlinewidth\":1,\"tickcolor\":\"rgb(36,36,36)\",\"ticks\":\"outside\"},\"type\":\"contourcarpet\"}],\"contour\":[{\"colorbar\":{\"outlinewidth\":1,\"tickcolor\":\"rgb(36,36,36)\",\"ticks\":\"outside\"},\"colorscale\":[[0.0,\"#440154\"],[0.1111111111111111,\"#482878\"],[0.2222222222222222,\"#3e4989\"],[0.3333333333333333,\"#31688e\"],[0.4444444444444444,\"#26828e\"],[0.5555555555555556,\"#1f9e89\"],[0.6666666666666666,\"#35b779\"],[0.7777777777777778,\"#6ece58\"],[0.8888888888888888,\"#b5de2b\"],[1.0,\"#fde725\"]],\"type\":\"contour\"}],\"heatmapgl\":[{\"colorbar\":{\"outlinewidth\":1,\"tickcolor\":\"rgb(36,36,36)\",\"ticks\":\"outside\"},\"colorscale\":[[0.0,\"#440154\"],[0.1111111111111111,\"#482878\"],[0.2222222222222222,\"#3e4989\"],[0.3333333333333333,\"#31688e\"],[0.4444444444444444,\"#26828e\"],[0.5555555555555556,\"#1f9e89\"],[0.6666666666666666,\"#35b779\"],[0.7777777777777778,\"#6ece58\"],[0.8888888888888888,\"#b5de2b\"],[1.0,\"#fde725\"]],\"type\":\"heatmapgl\"}],\"heatmap\":[{\"colorbar\":{\"outlinewidth\":1,\"tickcolor\":\"rgb(36,36,36)\",\"ticks\":\"outside\"},\"colorscale\":[[0.0,\"#440154\"],[0.1111111111111111,\"#482878\"],[0.2222222222222222,\"#3e4989\"],[0.3333333333333333,\"#31688e\"],[0.4444444444444444,\"#26828e\"],[0.5555555555555556,\"#1f9e89\"],[0.6666666666666666,\"#35b779\"],[0.7777777777777778,\"#6ece58\"],[0.8888888888888888,\"#b5de2b\"],[1.0,\"#fde725\"]],\"type\":\"heatmap\"}],\"histogram2dcontour\":[{\"colorbar\":{\"outlinewidth\":1,\"tickcolor\":\"rgb(36,36,36)\",\"ticks\":\"outside\"},\"colorscale\":[[0.0,\"#440154\"],[0.1111111111111111,\"#482878\"],[0.2222222222222222,\"#3e4989\"],[0.3333333333333333,\"#31688e\"],[0.4444444444444444,\"#26828e\"],[0.5555555555555556,\"#1f9e89\"],[0.6666666666666666,\"#35b779\"],[0.7777777777777778,\"#6ece58\"],[0.8888888888888888,\"#b5de2b\"],[1.0,\"#fde725\"]],\"type\":\"histogram2dcontour\"}],\"histogram2d\":[{\"colorbar\":{\"outlinewidth\":1,\"tickcolor\":\"rgb(36,36,36)\",\"ticks\":\"outside\"},\"colorscale\":[[0.0,\"#440154\"],[0.1111111111111111,\"#482878\"],[0.2222222222222222,\"#3e4989\"],[0.3333333333333333,\"#31688e\"],[0.4444444444444444,\"#26828e\"],[0.5555555555555556,\"#1f9e89\"],[0.6666666666666666,\"#35b779\"],[0.7777777777777778,\"#6ece58\"],[0.8888888888888888,\"#b5de2b\"],[1.0,\"#fde725\"]],\"type\":\"histogram2d\"}],\"histogram\":[{\"marker\":{\"line\":{\"color\":\"white\",\"width\":0.6}},\"type\":\"histogram\"}],\"mesh3d\":[{\"colorbar\":{\"outlinewidth\":1,\"tickcolor\":\"rgb(36,36,36)\",\"ticks\":\"outside\"},\"type\":\"mesh3d\"}],\"parcoords\":[{\"line\":{\"colorbar\":{\"outlinewidth\":1,\"tickcolor\":\"rgb(36,36,36)\",\"ticks\":\"outside\"}},\"type\":\"parcoords\"}],\"pie\":[{\"automargin\":true,\"type\":\"pie\"}],\"scatter3d\":[{\"line\":{\"colorbar\":{\"outlinewidth\":1,\"tickcolor\":\"rgb(36,36,36)\",\"ticks\":\"outside\"}},\"marker\":{\"colorbar\":{\"outlinewidth\":1,\"tickcolor\":\"rgb(36,36,36)\",\"ticks\":\"outside\"}},\"type\":\"scatter3d\"}],\"scattercarpet\":[{\"marker\":{\"colorbar\":{\"outlinewidth\":1,\"tickcolor\":\"rgb(36,36,36)\",\"ticks\":\"outside\"}},\"type\":\"scattercarpet\"}],\"scattergeo\":[{\"marker\":{\"colorbar\":{\"outlinewidth\":1,\"tickcolor\":\"rgb(36,36,36)\",\"ticks\":\"outside\"}},\"type\":\"scattergeo\"}],\"scattergl\":[{\"marker\":{\"colorbar\":{\"outlinewidth\":1,\"tickcolor\":\"rgb(36,36,36)\",\"ticks\":\"outside\"}},\"type\":\"scattergl\"}],\"scattermapbox\":[{\"marker\":{\"colorbar\":{\"outlinewidth\":1,\"tickcolor\":\"rgb(36,36,36)\",\"ticks\":\"outside\"}},\"type\":\"scattermapbox\"}],\"scatterpolargl\":[{\"marker\":{\"colorbar\":{\"outlinewidth\":1,\"tickcolor\":\"rgb(36,36,36)\",\"ticks\":\"outside\"}},\"type\":\"scatterpolargl\"}],\"scatterpolar\":[{\"marker\":{\"colorbar\":{\"outlinewidth\":1,\"tickcolor\":\"rgb(36,36,36)\",\"ticks\":\"outside\"}},\"type\":\"scatterpolar\"}],\"scatter\":[{\"fillpattern\":{\"fillmode\":\"overlay\",\"size\":10,\"solidity\":0.2},\"type\":\"scatter\"}],\"scatterternary\":[{\"marker\":{\"colorbar\":{\"outlinewidth\":1,\"tickcolor\":\"rgb(36,36,36)\",\"ticks\":\"outside\"}},\"type\":\"scatterternary\"}],\"surface\":[{\"colorbar\":{\"outlinewidth\":1,\"tickcolor\":\"rgb(36,36,36)\",\"ticks\":\"outside\"},\"colorscale\":[[0.0,\"#440154\"],[0.1111111111111111,\"#482878\"],[0.2222222222222222,\"#3e4989\"],[0.3333333333333333,\"#31688e\"],[0.4444444444444444,\"#26828e\"],[0.5555555555555556,\"#1f9e89\"],[0.6666666666666666,\"#35b779\"],[0.7777777777777778,\"#6ece58\"],[0.8888888888888888,\"#b5de2b\"],[1.0,\"#fde725\"]],\"type\":\"surface\"}],\"table\":[{\"cells\":{\"fill\":{\"color\":\"rgb(237,237,237)\"},\"line\":{\"color\":\"white\"}},\"header\":{\"fill\":{\"color\":\"rgb(217,217,217)\"},\"line\":{\"color\":\"white\"}},\"type\":\"table\"}]},\"layout\":{\"annotationdefaults\":{\"arrowhead\":0,\"arrowwidth\":1},\"autotypenumbers\":\"strict\",\"coloraxis\":{\"colorbar\":{\"outlinewidth\":1,\"tickcolor\":\"rgb(36,36,36)\",\"ticks\":\"outside\"}},\"colorscale\":{\"diverging\":[[0.0,\"rgb(103,0,31)\"],[0.1,\"rgb(178,24,43)\"],[0.2,\"rgb(214,96,77)\"],[0.3,\"rgb(244,165,130)\"],[0.4,\"rgb(253,219,199)\"],[0.5,\"rgb(247,247,247)\"],[0.6,\"rgb(209,229,240)\"],[0.7,\"rgb(146,197,222)\"],[0.8,\"rgb(67,147,195)\"],[0.9,\"rgb(33,102,172)\"],[1.0,\"rgb(5,48,97)\"]],\"sequential\":[[0.0,\"#440154\"],[0.1111111111111111,\"#482878\"],[0.2222222222222222,\"#3e4989\"],[0.3333333333333333,\"#31688e\"],[0.4444444444444444,\"#26828e\"],[0.5555555555555556,\"#1f9e89\"],[0.6666666666666666,\"#35b779\"],[0.7777777777777778,\"#6ece58\"],[0.8888888888888888,\"#b5de2b\"],[1.0,\"#fde725\"]],\"sequentialminus\":[[0.0,\"#440154\"],[0.1111111111111111,\"#482878\"],[0.2222222222222222,\"#3e4989\"],[0.3333333333333333,\"#31688e\"],[0.4444444444444444,\"#26828e\"],[0.5555555555555556,\"#1f9e89\"],[0.6666666666666666,\"#35b779\"],[0.7777777777777778,\"#6ece58\"],[0.8888888888888888,\"#b5de2b\"],[1.0,\"#fde725\"]]},\"colorway\":[\"#1F77B4\",\"#FF7F0E\",\"#2CA02C\",\"#D62728\",\"#9467BD\",\"#8C564B\",\"#E377C2\",\"#7F7F7F\",\"#BCBD22\",\"#17BECF\"],\"font\":{\"color\":\"rgb(36,36,36)\"},\"geo\":{\"bgcolor\":\"white\",\"lakecolor\":\"white\",\"landcolor\":\"white\",\"showlakes\":true,\"showland\":true,\"subunitcolor\":\"white\"},\"hoverlabel\":{\"align\":\"left\"},\"hovermode\":\"closest\",\"mapbox\":{\"style\":\"light\"},\"paper_bgcolor\":\"white\",\"plot_bgcolor\":\"white\",\"polar\":{\"angularaxis\":{\"gridcolor\":\"rgb(232,232,232)\",\"linecolor\":\"rgb(36,36,36)\",\"showgrid\":false,\"showline\":true,\"ticks\":\"outside\"},\"bgcolor\":\"white\",\"radialaxis\":{\"gridcolor\":\"rgb(232,232,232)\",\"linecolor\":\"rgb(36,36,36)\",\"showgrid\":false,\"showline\":true,\"ticks\":\"outside\"}},\"scene\":{\"xaxis\":{\"backgroundcolor\":\"white\",\"gridcolor\":\"rgb(232,232,232)\",\"gridwidth\":2,\"linecolor\":\"rgb(36,36,36)\",\"showbackground\":true,\"showgrid\":false,\"showline\":true,\"ticks\":\"outside\",\"zeroline\":false,\"zerolinecolor\":\"rgb(36,36,36)\"},\"yaxis\":{\"backgroundcolor\":\"white\",\"gridcolor\":\"rgb(232,232,232)\",\"gridwidth\":2,\"linecolor\":\"rgb(36,36,36)\",\"showbackground\":true,\"showgrid\":false,\"showline\":true,\"ticks\":\"outside\",\"zeroline\":false,\"zerolinecolor\":\"rgb(36,36,36)\"},\"zaxis\":{\"backgroundcolor\":\"white\",\"gridcolor\":\"rgb(232,232,232)\",\"gridwidth\":2,\"linecolor\":\"rgb(36,36,36)\",\"showbackground\":true,\"showgrid\":false,\"showline\":true,\"ticks\":\"outside\",\"zeroline\":false,\"zerolinecolor\":\"rgb(36,36,36)\"}},\"shapedefaults\":{\"fillcolor\":\"black\",\"line\":{\"width\":0},\"opacity\":0.3},\"ternary\":{\"aaxis\":{\"gridcolor\":\"rgb(232,232,232)\",\"linecolor\":\"rgb(36,36,36)\",\"showgrid\":false,\"showline\":true,\"ticks\":\"outside\"},\"baxis\":{\"gridcolor\":\"rgb(232,232,232)\",\"linecolor\":\"rgb(36,36,36)\",\"showgrid\":false,\"showline\":true,\"ticks\":\"outside\"},\"bgcolor\":\"white\",\"caxis\":{\"gridcolor\":\"rgb(232,232,232)\",\"linecolor\":\"rgb(36,36,36)\",\"showgrid\":false,\"showline\":true,\"ticks\":\"outside\"}},\"title\":{\"x\":0.05},\"xaxis\":{\"automargin\":true,\"gridcolor\":\"rgb(232,232,232)\",\"linecolor\":\"rgb(36,36,36)\",\"showgrid\":false,\"showline\":true,\"ticks\":\"outside\",\"title\":{\"standoff\":15},\"zeroline\":false,\"zerolinecolor\":\"rgb(36,36,36)\"},\"yaxis\":{\"automargin\":true,\"gridcolor\":\"rgb(232,232,232)\",\"linecolor\":\"rgb(36,36,36)\",\"showgrid\":false,\"showline\":true,\"ticks\":\"outside\",\"title\":{\"standoff\":15},\"zeroline\":false,\"zerolinecolor\":\"rgb(36,36,36)\"}}},\"xaxis\":{\"anchor\":\"y\",\"domain\":[0.0,1.0],\"title\":{\"text\":\"\"},\"visible\":false,\"range\":[-11.301151609420776,20.404401779174805]},\"yaxis\":{\"anchor\":\"x\",\"domain\":[0.0,1.0],\"title\":{\"text\":\"\"},\"visible\":false,\"range\":[-15.221000862121581,18.57718696594238]},\"legend\":{\"tracegroupgap\":0,\"itemsizing\":\"constant\"},\"margin\":{\"t\":60},\"title\":{\"font\":{\"size\":22,\"color\":\"Black\"},\"text\":\"<b>Intertopic Distance Map</b>\",\"y\":0.95,\"x\":0.5,\"xanchor\":\"center\",\"yanchor\":\"top\"},\"hoverlabel\":{\"font\":{\"size\":16,\"family\":\"Rockwell\"},\"bgcolor\":\"white\"},\"width\":650,\"height\":650,\"sliders\":[{\"active\":0,\"pad\":{\"t\":50},\"steps\":[{\"args\":[{\"marker.color\":[[\"red\",\"#B0BEC5\",\"#B0BEC5\",\"#B0BEC5\",\"#B0BEC5\",\"#B0BEC5\",\"#B0BEC5\",\"#B0BEC5\",\"#B0BEC5\",\"#B0BEC5\",\"#B0BEC5\",\"#B0BEC5\",\"#B0BEC5\",\"#B0BEC5\",\"#B0BEC5\",\"#B0BEC5\",\"#B0BEC5\",\"#B0BEC5\",\"#B0BEC5\",\"#B0BEC5\",\"#B0BEC5\",\"#B0BEC5\",\"#B0BEC5\",\"#B0BEC5\",\"#B0BEC5\",\"#B0BEC5\",\"#B0BEC5\",\"#B0BEC5\",\"#B0BEC5\",\"#B0BEC5\",\"#B0BEC5\",\"#B0BEC5\",\"#B0BEC5\",\"#B0BEC5\",\"#B0BEC5\",\"#B0BEC5\",\"#B0BEC5\",\"#B0BEC5\",\"#B0BEC5\",\"#B0BEC5\",\"#B0BEC5\",\"#B0BEC5\",\"#B0BEC5\",\"#B0BEC5\",\"#B0BEC5\",\"#B0BEC5\",\"#B0BEC5\",\"#B0BEC5\",\"#B0BEC5\",\"#B0BEC5\",\"#B0BEC5\"]]}],\"label\":\"Topic 0\",\"method\":\"update\"},{\"args\":[{\"marker.color\":[[\"#B0BEC5\",\"red\",\"#B0BEC5\",\"#B0BEC5\",\"#B0BEC5\",\"#B0BEC5\",\"#B0BEC5\",\"#B0BEC5\",\"#B0BEC5\",\"#B0BEC5\",\"#B0BEC5\",\"#B0BEC5\",\"#B0BEC5\",\"#B0BEC5\",\"#B0BEC5\",\"#B0BEC5\",\"#B0BEC5\",\"#B0BEC5\",\"#B0BEC5\",\"#B0BEC5\",\"#B0BEC5\",\"#B0BEC5\",\"#B0BEC5\",\"#B0BEC5\",\"#B0BEC5\",\"#B0BEC5\",\"#B0BEC5\",\"#B0BEC5\",\"#B0BEC5\",\"#B0BEC5\",\"#B0BEC5\",\"#B0BEC5\",\"#B0BEC5\",\"#B0BEC5\",\"#B0BEC5\",\"#B0BEC5\",\"#B0BEC5\",\"#B0BEC5\",\"#B0BEC5\",\"#B0BEC5\",\"#B0BEC5\",\"#B0BEC5\",\"#B0BEC5\",\"#B0BEC5\",\"#B0BEC5\",\"#B0BEC5\",\"#B0BEC5\",\"#B0BEC5\",\"#B0BEC5\",\"#B0BEC5\",\"#B0BEC5\"]]}],\"label\":\"Topic 1\",\"method\":\"update\"},{\"args\":[{\"marker.color\":[[\"#B0BEC5\",\"#B0BEC5\",\"red\",\"#B0BEC5\",\"#B0BEC5\",\"#B0BEC5\",\"#B0BEC5\",\"#B0BEC5\",\"#B0BEC5\",\"#B0BEC5\",\"#B0BEC5\",\"#B0BEC5\",\"#B0BEC5\",\"#B0BEC5\",\"#B0BEC5\",\"#B0BEC5\",\"#B0BEC5\",\"#B0BEC5\",\"#B0BEC5\",\"#B0BEC5\",\"#B0BEC5\",\"#B0BEC5\",\"#B0BEC5\",\"#B0BEC5\",\"#B0BEC5\",\"#B0BEC5\",\"#B0BEC5\",\"#B0BEC5\",\"#B0BEC5\",\"#B0BEC5\",\"#B0BEC5\",\"#B0BEC5\",\"#B0BEC5\",\"#B0BEC5\",\"#B0BEC5\",\"#B0BEC5\",\"#B0BEC5\",\"#B0BEC5\",\"#B0BEC5\",\"#B0BEC5\",\"#B0BEC5\",\"#B0BEC5\",\"#B0BEC5\",\"#B0BEC5\",\"#B0BEC5\",\"#B0BEC5\",\"#B0BEC5\",\"#B0BEC5\",\"#B0BEC5\",\"#B0BEC5\",\"#B0BEC5\"]]}],\"label\":\"Topic 2\",\"method\":\"update\"},{\"args\":[{\"marker.color\":[[\"#B0BEC5\",\"#B0BEC5\",\"#B0BEC5\",\"red\",\"#B0BEC5\",\"#B0BEC5\",\"#B0BEC5\",\"#B0BEC5\",\"#B0BEC5\",\"#B0BEC5\",\"#B0BEC5\",\"#B0BEC5\",\"#B0BEC5\",\"#B0BEC5\",\"#B0BEC5\",\"#B0BEC5\",\"#B0BEC5\",\"#B0BEC5\",\"#B0BEC5\",\"#B0BEC5\",\"#B0BEC5\",\"#B0BEC5\",\"#B0BEC5\",\"#B0BEC5\",\"#B0BEC5\",\"#B0BEC5\",\"#B0BEC5\",\"#B0BEC5\",\"#B0BEC5\",\"#B0BEC5\",\"#B0BEC5\",\"#B0BEC5\",\"#B0BEC5\",\"#B0BEC5\",\"#B0BEC5\",\"#B0BEC5\",\"#B0BEC5\",\"#B0BEC5\",\"#B0BEC5\",\"#B0BEC5\",\"#B0BEC5\",\"#B0BEC5\",\"#B0BEC5\",\"#B0BEC5\",\"#B0BEC5\",\"#B0BEC5\",\"#B0BEC5\",\"#B0BEC5\",\"#B0BEC5\",\"#B0BEC5\",\"#B0BEC5\"]]}],\"label\":\"Topic 3\",\"method\":\"update\"},{\"args\":[{\"marker.color\":[[\"#B0BEC5\",\"#B0BEC5\",\"#B0BEC5\",\"#B0BEC5\",\"red\",\"#B0BEC5\",\"#B0BEC5\",\"#B0BEC5\",\"#B0BEC5\",\"#B0BEC5\",\"#B0BEC5\",\"#B0BEC5\",\"#B0BEC5\",\"#B0BEC5\",\"#B0BEC5\",\"#B0BEC5\",\"#B0BEC5\",\"#B0BEC5\",\"#B0BEC5\",\"#B0BEC5\",\"#B0BEC5\",\"#B0BEC5\",\"#B0BEC5\",\"#B0BEC5\",\"#B0BEC5\",\"#B0BEC5\",\"#B0BEC5\",\"#B0BEC5\",\"#B0BEC5\",\"#B0BEC5\",\"#B0BEC5\",\"#B0BEC5\",\"#B0BEC5\",\"#B0BEC5\",\"#B0BEC5\",\"#B0BEC5\",\"#B0BEC5\",\"#B0BEC5\",\"#B0BEC5\",\"#B0BEC5\",\"#B0BEC5\",\"#B0BEC5\",\"#B0BEC5\",\"#B0BEC5\",\"#B0BEC5\",\"#B0BEC5\",\"#B0BEC5\",\"#B0BEC5\",\"#B0BEC5\",\"#B0BEC5\",\"#B0BEC5\"]]}],\"label\":\"Topic 4\",\"method\":\"update\"},{\"args\":[{\"marker.color\":[[\"#B0BEC5\",\"#B0BEC5\",\"#B0BEC5\",\"#B0BEC5\",\"#B0BEC5\",\"red\",\"#B0BEC5\",\"#B0BEC5\",\"#B0BEC5\",\"#B0BEC5\",\"#B0BEC5\",\"#B0BEC5\",\"#B0BEC5\",\"#B0BEC5\",\"#B0BEC5\",\"#B0BEC5\",\"#B0BEC5\",\"#B0BEC5\",\"#B0BEC5\",\"#B0BEC5\",\"#B0BEC5\",\"#B0BEC5\",\"#B0BEC5\",\"#B0BEC5\",\"#B0BEC5\",\"#B0BEC5\",\"#B0BEC5\",\"#B0BEC5\",\"#B0BEC5\",\"#B0BEC5\",\"#B0BEC5\",\"#B0BEC5\",\"#B0BEC5\",\"#B0BEC5\",\"#B0BEC5\",\"#B0BEC5\",\"#B0BEC5\",\"#B0BEC5\",\"#B0BEC5\",\"#B0BEC5\",\"#B0BEC5\",\"#B0BEC5\",\"#B0BEC5\",\"#B0BEC5\",\"#B0BEC5\",\"#B0BEC5\",\"#B0BEC5\",\"#B0BEC5\",\"#B0BEC5\",\"#B0BEC5\",\"#B0BEC5\"]]}],\"label\":\"Topic 5\",\"method\":\"update\"},{\"args\":[{\"marker.color\":[[\"#B0BEC5\",\"#B0BEC5\",\"#B0BEC5\",\"#B0BEC5\",\"#B0BEC5\",\"#B0BEC5\",\"red\",\"#B0BEC5\",\"#B0BEC5\",\"#B0BEC5\",\"#B0BEC5\",\"#B0BEC5\",\"#B0BEC5\",\"#B0BEC5\",\"#B0BEC5\",\"#B0BEC5\",\"#B0BEC5\",\"#B0BEC5\",\"#B0BEC5\",\"#B0BEC5\",\"#B0BEC5\",\"#B0BEC5\",\"#B0BEC5\",\"#B0BEC5\",\"#B0BEC5\",\"#B0BEC5\",\"#B0BEC5\",\"#B0BEC5\",\"#B0BEC5\",\"#B0BEC5\",\"#B0BEC5\",\"#B0BEC5\",\"#B0BEC5\",\"#B0BEC5\",\"#B0BEC5\",\"#B0BEC5\",\"#B0BEC5\",\"#B0BEC5\",\"#B0BEC5\",\"#B0BEC5\",\"#B0BEC5\",\"#B0BEC5\",\"#B0BEC5\",\"#B0BEC5\",\"#B0BEC5\",\"#B0BEC5\",\"#B0BEC5\",\"#B0BEC5\",\"#B0BEC5\",\"#B0BEC5\",\"#B0BEC5\"]]}],\"label\":\"Topic 6\",\"method\":\"update\"},{\"args\":[{\"marker.color\":[[\"#B0BEC5\",\"#B0BEC5\",\"#B0BEC5\",\"#B0BEC5\",\"#B0BEC5\",\"#B0BEC5\",\"#B0BEC5\",\"red\",\"#B0BEC5\",\"#B0BEC5\",\"#B0BEC5\",\"#B0BEC5\",\"#B0BEC5\",\"#B0BEC5\",\"#B0BEC5\",\"#B0BEC5\",\"#B0BEC5\",\"#B0BEC5\",\"#B0BEC5\",\"#B0BEC5\",\"#B0BEC5\",\"#B0BEC5\",\"#B0BEC5\",\"#B0BEC5\",\"#B0BEC5\",\"#B0BEC5\",\"#B0BEC5\",\"#B0BEC5\",\"#B0BEC5\",\"#B0BEC5\",\"#B0BEC5\",\"#B0BEC5\",\"#B0BEC5\",\"#B0BEC5\",\"#B0BEC5\",\"#B0BEC5\",\"#B0BEC5\",\"#B0BEC5\",\"#B0BEC5\",\"#B0BEC5\",\"#B0BEC5\",\"#B0BEC5\",\"#B0BEC5\",\"#B0BEC5\",\"#B0BEC5\",\"#B0BEC5\",\"#B0BEC5\",\"#B0BEC5\",\"#B0BEC5\",\"#B0BEC5\",\"#B0BEC5\"]]}],\"label\":\"Topic 7\",\"method\":\"update\"},{\"args\":[{\"marker.color\":[[\"#B0BEC5\",\"#B0BEC5\",\"#B0BEC5\",\"#B0BEC5\",\"#B0BEC5\",\"#B0BEC5\",\"#B0BEC5\",\"#B0BEC5\",\"red\",\"#B0BEC5\",\"#B0BEC5\",\"#B0BEC5\",\"#B0BEC5\",\"#B0BEC5\",\"#B0BEC5\",\"#B0BEC5\",\"#B0BEC5\",\"#B0BEC5\",\"#B0BEC5\",\"#B0BEC5\",\"#B0BEC5\",\"#B0BEC5\",\"#B0BEC5\",\"#B0BEC5\",\"#B0BEC5\",\"#B0BEC5\",\"#B0BEC5\",\"#B0BEC5\",\"#B0BEC5\",\"#B0BEC5\",\"#B0BEC5\",\"#B0BEC5\",\"#B0BEC5\",\"#B0BEC5\",\"#B0BEC5\",\"#B0BEC5\",\"#B0BEC5\",\"#B0BEC5\",\"#B0BEC5\",\"#B0BEC5\",\"#B0BEC5\",\"#B0BEC5\",\"#B0BEC5\",\"#B0BEC5\",\"#B0BEC5\",\"#B0BEC5\",\"#B0BEC5\",\"#B0BEC5\",\"#B0BEC5\",\"#B0BEC5\",\"#B0BEC5\"]]}],\"label\":\"Topic 8\",\"method\":\"update\"},{\"args\":[{\"marker.color\":[[\"#B0BEC5\",\"#B0BEC5\",\"#B0BEC5\",\"#B0BEC5\",\"#B0BEC5\",\"#B0BEC5\",\"#B0BEC5\",\"#B0BEC5\",\"#B0BEC5\",\"red\",\"#B0BEC5\",\"#B0BEC5\",\"#B0BEC5\",\"#B0BEC5\",\"#B0BEC5\",\"#B0BEC5\",\"#B0BEC5\",\"#B0BEC5\",\"#B0BEC5\",\"#B0BEC5\",\"#B0BEC5\",\"#B0BEC5\",\"#B0BEC5\",\"#B0BEC5\",\"#B0BEC5\",\"#B0BEC5\",\"#B0BEC5\",\"#B0BEC5\",\"#B0BEC5\",\"#B0BEC5\",\"#B0BEC5\",\"#B0BEC5\",\"#B0BEC5\",\"#B0BEC5\",\"#B0BEC5\",\"#B0BEC5\",\"#B0BEC5\",\"#B0BEC5\",\"#B0BEC5\",\"#B0BEC5\",\"#B0BEC5\",\"#B0BEC5\",\"#B0BEC5\",\"#B0BEC5\",\"#B0BEC5\",\"#B0BEC5\",\"#B0BEC5\",\"#B0BEC5\",\"#B0BEC5\",\"#B0BEC5\",\"#B0BEC5\"]]}],\"label\":\"Topic 9\",\"method\":\"update\"},{\"args\":[{\"marker.color\":[[\"#B0BEC5\",\"#B0BEC5\",\"#B0BEC5\",\"#B0BEC5\",\"#B0BEC5\",\"#B0BEC5\",\"#B0BEC5\",\"#B0BEC5\",\"#B0BEC5\",\"#B0BEC5\",\"red\",\"#B0BEC5\",\"#B0BEC5\",\"#B0BEC5\",\"#B0BEC5\",\"#B0BEC5\",\"#B0BEC5\",\"#B0BEC5\",\"#B0BEC5\",\"#B0BEC5\",\"#B0BEC5\",\"#B0BEC5\",\"#B0BEC5\",\"#B0BEC5\",\"#B0BEC5\",\"#B0BEC5\",\"#B0BEC5\",\"#B0BEC5\",\"#B0BEC5\",\"#B0BEC5\",\"#B0BEC5\",\"#B0BEC5\",\"#B0BEC5\",\"#B0BEC5\",\"#B0BEC5\",\"#B0BEC5\",\"#B0BEC5\",\"#B0BEC5\",\"#B0BEC5\",\"#B0BEC5\",\"#B0BEC5\",\"#B0BEC5\",\"#B0BEC5\",\"#B0BEC5\",\"#B0BEC5\",\"#B0BEC5\",\"#B0BEC5\",\"#B0BEC5\",\"#B0BEC5\",\"#B0BEC5\",\"#B0BEC5\"]]}],\"label\":\"Topic 10\",\"method\":\"update\"},{\"args\":[{\"marker.color\":[[\"#B0BEC5\",\"#B0BEC5\",\"#B0BEC5\",\"#B0BEC5\",\"#B0BEC5\",\"#B0BEC5\",\"#B0BEC5\",\"#B0BEC5\",\"#B0BEC5\",\"#B0BEC5\",\"#B0BEC5\",\"red\",\"#B0BEC5\",\"#B0BEC5\",\"#B0BEC5\",\"#B0BEC5\",\"#B0BEC5\",\"#B0BEC5\",\"#B0BEC5\",\"#B0BEC5\",\"#B0BEC5\",\"#B0BEC5\",\"#B0BEC5\",\"#B0BEC5\",\"#B0BEC5\",\"#B0BEC5\",\"#B0BEC5\",\"#B0BEC5\",\"#B0BEC5\",\"#B0BEC5\",\"#B0BEC5\",\"#B0BEC5\",\"#B0BEC5\",\"#B0BEC5\",\"#B0BEC5\",\"#B0BEC5\",\"#B0BEC5\",\"#B0BEC5\",\"#B0BEC5\",\"#B0BEC5\",\"#B0BEC5\",\"#B0BEC5\",\"#B0BEC5\",\"#B0BEC5\",\"#B0BEC5\",\"#B0BEC5\",\"#B0BEC5\",\"#B0BEC5\",\"#B0BEC5\",\"#B0BEC5\",\"#B0BEC5\"]]}],\"label\":\"Topic 11\",\"method\":\"update\"},{\"args\":[{\"marker.color\":[[\"#B0BEC5\",\"#B0BEC5\",\"#B0BEC5\",\"#B0BEC5\",\"#B0BEC5\",\"#B0BEC5\",\"#B0BEC5\",\"#B0BEC5\",\"#B0BEC5\",\"#B0BEC5\",\"#B0BEC5\",\"#B0BEC5\",\"red\",\"#B0BEC5\",\"#B0BEC5\",\"#B0BEC5\",\"#B0BEC5\",\"#B0BEC5\",\"#B0BEC5\",\"#B0BEC5\",\"#B0BEC5\",\"#B0BEC5\",\"#B0BEC5\",\"#B0BEC5\",\"#B0BEC5\",\"#B0BEC5\",\"#B0BEC5\",\"#B0BEC5\",\"#B0BEC5\",\"#B0BEC5\",\"#B0BEC5\",\"#B0BEC5\",\"#B0BEC5\",\"#B0BEC5\",\"#B0BEC5\",\"#B0BEC5\",\"#B0BEC5\",\"#B0BEC5\",\"#B0BEC5\",\"#B0BEC5\",\"#B0BEC5\",\"#B0BEC5\",\"#B0BEC5\",\"#B0BEC5\",\"#B0BEC5\",\"#B0BEC5\",\"#B0BEC5\",\"#B0BEC5\",\"#B0BEC5\",\"#B0BEC5\",\"#B0BEC5\"]]}],\"label\":\"Topic 12\",\"method\":\"update\"},{\"args\":[{\"marker.color\":[[\"#B0BEC5\",\"#B0BEC5\",\"#B0BEC5\",\"#B0BEC5\",\"#B0BEC5\",\"#B0BEC5\",\"#B0BEC5\",\"#B0BEC5\",\"#B0BEC5\",\"#B0BEC5\",\"#B0BEC5\",\"#B0BEC5\",\"#B0BEC5\",\"red\",\"#B0BEC5\",\"#B0BEC5\",\"#B0BEC5\",\"#B0BEC5\",\"#B0BEC5\",\"#B0BEC5\",\"#B0BEC5\",\"#B0BEC5\",\"#B0BEC5\",\"#B0BEC5\",\"#B0BEC5\",\"#B0BEC5\",\"#B0BEC5\",\"#B0BEC5\",\"#B0BEC5\",\"#B0BEC5\",\"#B0BEC5\",\"#B0BEC5\",\"#B0BEC5\",\"#B0BEC5\",\"#B0BEC5\",\"#B0BEC5\",\"#B0BEC5\",\"#B0BEC5\",\"#B0BEC5\",\"#B0BEC5\",\"#B0BEC5\",\"#B0BEC5\",\"#B0BEC5\",\"#B0BEC5\",\"#B0BEC5\",\"#B0BEC5\",\"#B0BEC5\",\"#B0BEC5\",\"#B0BEC5\",\"#B0BEC5\",\"#B0BEC5\"]]}],\"label\":\"Topic 13\",\"method\":\"update\"},{\"args\":[{\"marker.color\":[[\"#B0BEC5\",\"#B0BEC5\",\"#B0BEC5\",\"#B0BEC5\",\"#B0BEC5\",\"#B0BEC5\",\"#B0BEC5\",\"#B0BEC5\",\"#B0BEC5\",\"#B0BEC5\",\"#B0BEC5\",\"#B0BEC5\",\"#B0BEC5\",\"#B0BEC5\",\"red\",\"#B0BEC5\",\"#B0BEC5\",\"#B0BEC5\",\"#B0BEC5\",\"#B0BEC5\",\"#B0BEC5\",\"#B0BEC5\",\"#B0BEC5\",\"#B0BEC5\",\"#B0BEC5\",\"#B0BEC5\",\"#B0BEC5\",\"#B0BEC5\",\"#B0BEC5\",\"#B0BEC5\",\"#B0BEC5\",\"#B0BEC5\",\"#B0BEC5\",\"#B0BEC5\",\"#B0BEC5\",\"#B0BEC5\",\"#B0BEC5\",\"#B0BEC5\",\"#B0BEC5\",\"#B0BEC5\",\"#B0BEC5\",\"#B0BEC5\",\"#B0BEC5\",\"#B0BEC5\",\"#B0BEC5\",\"#B0BEC5\",\"#B0BEC5\",\"#B0BEC5\",\"#B0BEC5\",\"#B0BEC5\",\"#B0BEC5\"]]}],\"label\":\"Topic 14\",\"method\":\"update\"},{\"args\":[{\"marker.color\":[[\"#B0BEC5\",\"#B0BEC5\",\"#B0BEC5\",\"#B0BEC5\",\"#B0BEC5\",\"#B0BEC5\",\"#B0BEC5\",\"#B0BEC5\",\"#B0BEC5\",\"#B0BEC5\",\"#B0BEC5\",\"#B0BEC5\",\"#B0BEC5\",\"#B0BEC5\",\"#B0BEC5\",\"red\",\"#B0BEC5\",\"#B0BEC5\",\"#B0BEC5\",\"#B0BEC5\",\"#B0BEC5\",\"#B0BEC5\",\"#B0BEC5\",\"#B0BEC5\",\"#B0BEC5\",\"#B0BEC5\",\"#B0BEC5\",\"#B0BEC5\",\"#B0BEC5\",\"#B0BEC5\",\"#B0BEC5\",\"#B0BEC5\",\"#B0BEC5\",\"#B0BEC5\",\"#B0BEC5\",\"#B0BEC5\",\"#B0BEC5\",\"#B0BEC5\",\"#B0BEC5\",\"#B0BEC5\",\"#B0BEC5\",\"#B0BEC5\",\"#B0BEC5\",\"#B0BEC5\",\"#B0BEC5\",\"#B0BEC5\",\"#B0BEC5\",\"#B0BEC5\",\"#B0BEC5\",\"#B0BEC5\",\"#B0BEC5\"]]}],\"label\":\"Topic 15\",\"method\":\"update\"},{\"args\":[{\"marker.color\":[[\"#B0BEC5\",\"#B0BEC5\",\"#B0BEC5\",\"#B0BEC5\",\"#B0BEC5\",\"#B0BEC5\",\"#B0BEC5\",\"#B0BEC5\",\"#B0BEC5\",\"#B0BEC5\",\"#B0BEC5\",\"#B0BEC5\",\"#B0BEC5\",\"#B0BEC5\",\"#B0BEC5\",\"#B0BEC5\",\"red\",\"#B0BEC5\",\"#B0BEC5\",\"#B0BEC5\",\"#B0BEC5\",\"#B0BEC5\",\"#B0BEC5\",\"#B0BEC5\",\"#B0BEC5\",\"#B0BEC5\",\"#B0BEC5\",\"#B0BEC5\",\"#B0BEC5\",\"#B0BEC5\",\"#B0BEC5\",\"#B0BEC5\",\"#B0BEC5\",\"#B0BEC5\",\"#B0BEC5\",\"#B0BEC5\",\"#B0BEC5\",\"#B0BEC5\",\"#B0BEC5\",\"#B0BEC5\",\"#B0BEC5\",\"#B0BEC5\",\"#B0BEC5\",\"#B0BEC5\",\"#B0BEC5\",\"#B0BEC5\",\"#B0BEC5\",\"#B0BEC5\",\"#B0BEC5\",\"#B0BEC5\",\"#B0BEC5\"]]}],\"label\":\"Topic 16\",\"method\":\"update\"},{\"args\":[{\"marker.color\":[[\"#B0BEC5\",\"#B0BEC5\",\"#B0BEC5\",\"#B0BEC5\",\"#B0BEC5\",\"#B0BEC5\",\"#B0BEC5\",\"#B0BEC5\",\"#B0BEC5\",\"#B0BEC5\",\"#B0BEC5\",\"#B0BEC5\",\"#B0BEC5\",\"#B0BEC5\",\"#B0BEC5\",\"#B0BEC5\",\"#B0BEC5\",\"red\",\"#B0BEC5\",\"#B0BEC5\",\"#B0BEC5\",\"#B0BEC5\",\"#B0BEC5\",\"#B0BEC5\",\"#B0BEC5\",\"#B0BEC5\",\"#B0BEC5\",\"#B0BEC5\",\"#B0BEC5\",\"#B0BEC5\",\"#B0BEC5\",\"#B0BEC5\",\"#B0BEC5\",\"#B0BEC5\",\"#B0BEC5\",\"#B0BEC5\",\"#B0BEC5\",\"#B0BEC5\",\"#B0BEC5\",\"#B0BEC5\",\"#B0BEC5\",\"#B0BEC5\",\"#B0BEC5\",\"#B0BEC5\",\"#B0BEC5\",\"#B0BEC5\",\"#B0BEC5\",\"#B0BEC5\",\"#B0BEC5\",\"#B0BEC5\",\"#B0BEC5\"]]}],\"label\":\"Topic 17\",\"method\":\"update\"},{\"args\":[{\"marker.color\":[[\"#B0BEC5\",\"#B0BEC5\",\"#B0BEC5\",\"#B0BEC5\",\"#B0BEC5\",\"#B0BEC5\",\"#B0BEC5\",\"#B0BEC5\",\"#B0BEC5\",\"#B0BEC5\",\"#B0BEC5\",\"#B0BEC5\",\"#B0BEC5\",\"#B0BEC5\",\"#B0BEC5\",\"#B0BEC5\",\"#B0BEC5\",\"#B0BEC5\",\"red\",\"#B0BEC5\",\"#B0BEC5\",\"#B0BEC5\",\"#B0BEC5\",\"#B0BEC5\",\"#B0BEC5\",\"#B0BEC5\",\"#B0BEC5\",\"#B0BEC5\",\"#B0BEC5\",\"#B0BEC5\",\"#B0BEC5\",\"#B0BEC5\",\"#B0BEC5\",\"#B0BEC5\",\"#B0BEC5\",\"#B0BEC5\",\"#B0BEC5\",\"#B0BEC5\",\"#B0BEC5\",\"#B0BEC5\",\"#B0BEC5\",\"#B0BEC5\",\"#B0BEC5\",\"#B0BEC5\",\"#B0BEC5\",\"#B0BEC5\",\"#B0BEC5\",\"#B0BEC5\",\"#B0BEC5\",\"#B0BEC5\",\"#B0BEC5\"]]}],\"label\":\"Topic 18\",\"method\":\"update\"},{\"args\":[{\"marker.color\":[[\"#B0BEC5\",\"#B0BEC5\",\"#B0BEC5\",\"#B0BEC5\",\"#B0BEC5\",\"#B0BEC5\",\"#B0BEC5\",\"#B0BEC5\",\"#B0BEC5\",\"#B0BEC5\",\"#B0BEC5\",\"#B0BEC5\",\"#B0BEC5\",\"#B0BEC5\",\"#B0BEC5\",\"#B0BEC5\",\"#B0BEC5\",\"#B0BEC5\",\"#B0BEC5\",\"red\",\"#B0BEC5\",\"#B0BEC5\",\"#B0BEC5\",\"#B0BEC5\",\"#B0BEC5\",\"#B0BEC5\",\"#B0BEC5\",\"#B0BEC5\",\"#B0BEC5\",\"#B0BEC5\",\"#B0BEC5\",\"#B0BEC5\",\"#B0BEC5\",\"#B0BEC5\",\"#B0BEC5\",\"#B0BEC5\",\"#B0BEC5\",\"#B0BEC5\",\"#B0BEC5\",\"#B0BEC5\",\"#B0BEC5\",\"#B0BEC5\",\"#B0BEC5\",\"#B0BEC5\",\"#B0BEC5\",\"#B0BEC5\",\"#B0BEC5\",\"#B0BEC5\",\"#B0BEC5\",\"#B0BEC5\",\"#B0BEC5\"]]}],\"label\":\"Topic 19\",\"method\":\"update\"},{\"args\":[{\"marker.color\":[[\"#B0BEC5\",\"#B0BEC5\",\"#B0BEC5\",\"#B0BEC5\",\"#B0BEC5\",\"#B0BEC5\",\"#B0BEC5\",\"#B0BEC5\",\"#B0BEC5\",\"#B0BEC5\",\"#B0BEC5\",\"#B0BEC5\",\"#B0BEC5\",\"#B0BEC5\",\"#B0BEC5\",\"#B0BEC5\",\"#B0BEC5\",\"#B0BEC5\",\"#B0BEC5\",\"#B0BEC5\",\"red\",\"#B0BEC5\",\"#B0BEC5\",\"#B0BEC5\",\"#B0BEC5\",\"#B0BEC5\",\"#B0BEC5\",\"#B0BEC5\",\"#B0BEC5\",\"#B0BEC5\",\"#B0BEC5\",\"#B0BEC5\",\"#B0BEC5\",\"#B0BEC5\",\"#B0BEC5\",\"#B0BEC5\",\"#B0BEC5\",\"#B0BEC5\",\"#B0BEC5\",\"#B0BEC5\",\"#B0BEC5\",\"#B0BEC5\",\"#B0BEC5\",\"#B0BEC5\",\"#B0BEC5\",\"#B0BEC5\",\"#B0BEC5\",\"#B0BEC5\",\"#B0BEC5\",\"#B0BEC5\",\"#B0BEC5\"]]}],\"label\":\"Topic 20\",\"method\":\"update\"},{\"args\":[{\"marker.color\":[[\"#B0BEC5\",\"#B0BEC5\",\"#B0BEC5\",\"#B0BEC5\",\"#B0BEC5\",\"#B0BEC5\",\"#B0BEC5\",\"#B0BEC5\",\"#B0BEC5\",\"#B0BEC5\",\"#B0BEC5\",\"#B0BEC5\",\"#B0BEC5\",\"#B0BEC5\",\"#B0BEC5\",\"#B0BEC5\",\"#B0BEC5\",\"#B0BEC5\",\"#B0BEC5\",\"#B0BEC5\",\"#B0BEC5\",\"red\",\"#B0BEC5\",\"#B0BEC5\",\"#B0BEC5\",\"#B0BEC5\",\"#B0BEC5\",\"#B0BEC5\",\"#B0BEC5\",\"#B0BEC5\",\"#B0BEC5\",\"#B0BEC5\",\"#B0BEC5\",\"#B0BEC5\",\"#B0BEC5\",\"#B0BEC5\",\"#B0BEC5\",\"#B0BEC5\",\"#B0BEC5\",\"#B0BEC5\",\"#B0BEC5\",\"#B0BEC5\",\"#B0BEC5\",\"#B0BEC5\",\"#B0BEC5\",\"#B0BEC5\",\"#B0BEC5\",\"#B0BEC5\",\"#B0BEC5\",\"#B0BEC5\",\"#B0BEC5\"]]}],\"label\":\"Topic 21\",\"method\":\"update\"},{\"args\":[{\"marker.color\":[[\"#B0BEC5\",\"#B0BEC5\",\"#B0BEC5\",\"#B0BEC5\",\"#B0BEC5\",\"#B0BEC5\",\"#B0BEC5\",\"#B0BEC5\",\"#B0BEC5\",\"#B0BEC5\",\"#B0BEC5\",\"#B0BEC5\",\"#B0BEC5\",\"#B0BEC5\",\"#B0BEC5\",\"#B0BEC5\",\"#B0BEC5\",\"#B0BEC5\",\"#B0BEC5\",\"#B0BEC5\",\"#B0BEC5\",\"#B0BEC5\",\"red\",\"#B0BEC5\",\"#B0BEC5\",\"#B0BEC5\",\"#B0BEC5\",\"#B0BEC5\",\"#B0BEC5\",\"#B0BEC5\",\"#B0BEC5\",\"#B0BEC5\",\"#B0BEC5\",\"#B0BEC5\",\"#B0BEC5\",\"#B0BEC5\",\"#B0BEC5\",\"#B0BEC5\",\"#B0BEC5\",\"#B0BEC5\",\"#B0BEC5\",\"#B0BEC5\",\"#B0BEC5\",\"#B0BEC5\",\"#B0BEC5\",\"#B0BEC5\",\"#B0BEC5\",\"#B0BEC5\",\"#B0BEC5\",\"#B0BEC5\",\"#B0BEC5\"]]}],\"label\":\"Topic 22\",\"method\":\"update\"},{\"args\":[{\"marker.color\":[[\"#B0BEC5\",\"#B0BEC5\",\"#B0BEC5\",\"#B0BEC5\",\"#B0BEC5\",\"#B0BEC5\",\"#B0BEC5\",\"#B0BEC5\",\"#B0BEC5\",\"#B0BEC5\",\"#B0BEC5\",\"#B0BEC5\",\"#B0BEC5\",\"#B0BEC5\",\"#B0BEC5\",\"#B0BEC5\",\"#B0BEC5\",\"#B0BEC5\",\"#B0BEC5\",\"#B0BEC5\",\"#B0BEC5\",\"#B0BEC5\",\"#B0BEC5\",\"red\",\"#B0BEC5\",\"#B0BEC5\",\"#B0BEC5\",\"#B0BEC5\",\"#B0BEC5\",\"#B0BEC5\",\"#B0BEC5\",\"#B0BEC5\",\"#B0BEC5\",\"#B0BEC5\",\"#B0BEC5\",\"#B0BEC5\",\"#B0BEC5\",\"#B0BEC5\",\"#B0BEC5\",\"#B0BEC5\",\"#B0BEC5\",\"#B0BEC5\",\"#B0BEC5\",\"#B0BEC5\",\"#B0BEC5\",\"#B0BEC5\",\"#B0BEC5\",\"#B0BEC5\",\"#B0BEC5\",\"#B0BEC5\",\"#B0BEC5\"]]}],\"label\":\"Topic 23\",\"method\":\"update\"},{\"args\":[{\"marker.color\":[[\"#B0BEC5\",\"#B0BEC5\",\"#B0BEC5\",\"#B0BEC5\",\"#B0BEC5\",\"#B0BEC5\",\"#B0BEC5\",\"#B0BEC5\",\"#B0BEC5\",\"#B0BEC5\",\"#B0BEC5\",\"#B0BEC5\",\"#B0BEC5\",\"#B0BEC5\",\"#B0BEC5\",\"#B0BEC5\",\"#B0BEC5\",\"#B0BEC5\",\"#B0BEC5\",\"#B0BEC5\",\"#B0BEC5\",\"#B0BEC5\",\"#B0BEC5\",\"#B0BEC5\",\"red\",\"#B0BEC5\",\"#B0BEC5\",\"#B0BEC5\",\"#B0BEC5\",\"#B0BEC5\",\"#B0BEC5\",\"#B0BEC5\",\"#B0BEC5\",\"#B0BEC5\",\"#B0BEC5\",\"#B0BEC5\",\"#B0BEC5\",\"#B0BEC5\",\"#B0BEC5\",\"#B0BEC5\",\"#B0BEC5\",\"#B0BEC5\",\"#B0BEC5\",\"#B0BEC5\",\"#B0BEC5\",\"#B0BEC5\",\"#B0BEC5\",\"#B0BEC5\",\"#B0BEC5\",\"#B0BEC5\",\"#B0BEC5\"]]}],\"label\":\"Topic 24\",\"method\":\"update\"},{\"args\":[{\"marker.color\":[[\"#B0BEC5\",\"#B0BEC5\",\"#B0BEC5\",\"#B0BEC5\",\"#B0BEC5\",\"#B0BEC5\",\"#B0BEC5\",\"#B0BEC5\",\"#B0BEC5\",\"#B0BEC5\",\"#B0BEC5\",\"#B0BEC5\",\"#B0BEC5\",\"#B0BEC5\",\"#B0BEC5\",\"#B0BEC5\",\"#B0BEC5\",\"#B0BEC5\",\"#B0BEC5\",\"#B0BEC5\",\"#B0BEC5\",\"#B0BEC5\",\"#B0BEC5\",\"#B0BEC5\",\"#B0BEC5\",\"red\",\"#B0BEC5\",\"#B0BEC5\",\"#B0BEC5\",\"#B0BEC5\",\"#B0BEC5\",\"#B0BEC5\",\"#B0BEC5\",\"#B0BEC5\",\"#B0BEC5\",\"#B0BEC5\",\"#B0BEC5\",\"#B0BEC5\",\"#B0BEC5\",\"#B0BEC5\",\"#B0BEC5\",\"#B0BEC5\",\"#B0BEC5\",\"#B0BEC5\",\"#B0BEC5\",\"#B0BEC5\",\"#B0BEC5\",\"#B0BEC5\",\"#B0BEC5\",\"#B0BEC5\",\"#B0BEC5\"]]}],\"label\":\"Topic 25\",\"method\":\"update\"},{\"args\":[{\"marker.color\":[[\"#B0BEC5\",\"#B0BEC5\",\"#B0BEC5\",\"#B0BEC5\",\"#B0BEC5\",\"#B0BEC5\",\"#B0BEC5\",\"#B0BEC5\",\"#B0BEC5\",\"#B0BEC5\",\"#B0BEC5\",\"#B0BEC5\",\"#B0BEC5\",\"#B0BEC5\",\"#B0BEC5\",\"#B0BEC5\",\"#B0BEC5\",\"#B0BEC5\",\"#B0BEC5\",\"#B0BEC5\",\"#B0BEC5\",\"#B0BEC5\",\"#B0BEC5\",\"#B0BEC5\",\"#B0BEC5\",\"#B0BEC5\",\"red\",\"#B0BEC5\",\"#B0BEC5\",\"#B0BEC5\",\"#B0BEC5\",\"#B0BEC5\",\"#B0BEC5\",\"#B0BEC5\",\"#B0BEC5\",\"#B0BEC5\",\"#B0BEC5\",\"#B0BEC5\",\"#B0BEC5\",\"#B0BEC5\",\"#B0BEC5\",\"#B0BEC5\",\"#B0BEC5\",\"#B0BEC5\",\"#B0BEC5\",\"#B0BEC5\",\"#B0BEC5\",\"#B0BEC5\",\"#B0BEC5\",\"#B0BEC5\",\"#B0BEC5\"]]}],\"label\":\"Topic 26\",\"method\":\"update\"},{\"args\":[{\"marker.color\":[[\"#B0BEC5\",\"#B0BEC5\",\"#B0BEC5\",\"#B0BEC5\",\"#B0BEC5\",\"#B0BEC5\",\"#B0BEC5\",\"#B0BEC5\",\"#B0BEC5\",\"#B0BEC5\",\"#B0BEC5\",\"#B0BEC5\",\"#B0BEC5\",\"#B0BEC5\",\"#B0BEC5\",\"#B0BEC5\",\"#B0BEC5\",\"#B0BEC5\",\"#B0BEC5\",\"#B0BEC5\",\"#B0BEC5\",\"#B0BEC5\",\"#B0BEC5\",\"#B0BEC5\",\"#B0BEC5\",\"#B0BEC5\",\"#B0BEC5\",\"red\",\"#B0BEC5\",\"#B0BEC5\",\"#B0BEC5\",\"#B0BEC5\",\"#B0BEC5\",\"#B0BEC5\",\"#B0BEC5\",\"#B0BEC5\",\"#B0BEC5\",\"#B0BEC5\",\"#B0BEC5\",\"#B0BEC5\",\"#B0BEC5\",\"#B0BEC5\",\"#B0BEC5\",\"#B0BEC5\",\"#B0BEC5\",\"#B0BEC5\",\"#B0BEC5\",\"#B0BEC5\",\"#B0BEC5\",\"#B0BEC5\",\"#B0BEC5\"]]}],\"label\":\"Topic 27\",\"method\":\"update\"},{\"args\":[{\"marker.color\":[[\"#B0BEC5\",\"#B0BEC5\",\"#B0BEC5\",\"#B0BEC5\",\"#B0BEC5\",\"#B0BEC5\",\"#B0BEC5\",\"#B0BEC5\",\"#B0BEC5\",\"#B0BEC5\",\"#B0BEC5\",\"#B0BEC5\",\"#B0BEC5\",\"#B0BEC5\",\"#B0BEC5\",\"#B0BEC5\",\"#B0BEC5\",\"#B0BEC5\",\"#B0BEC5\",\"#B0BEC5\",\"#B0BEC5\",\"#B0BEC5\",\"#B0BEC5\",\"#B0BEC5\",\"#B0BEC5\",\"#B0BEC5\",\"#B0BEC5\",\"#B0BEC5\",\"red\",\"#B0BEC5\",\"#B0BEC5\",\"#B0BEC5\",\"#B0BEC5\",\"#B0BEC5\",\"#B0BEC5\",\"#B0BEC5\",\"#B0BEC5\",\"#B0BEC5\",\"#B0BEC5\",\"#B0BEC5\",\"#B0BEC5\",\"#B0BEC5\",\"#B0BEC5\",\"#B0BEC5\",\"#B0BEC5\",\"#B0BEC5\",\"#B0BEC5\",\"#B0BEC5\",\"#B0BEC5\",\"#B0BEC5\",\"#B0BEC5\"]]}],\"label\":\"Topic 28\",\"method\":\"update\"},{\"args\":[{\"marker.color\":[[\"#B0BEC5\",\"#B0BEC5\",\"#B0BEC5\",\"#B0BEC5\",\"#B0BEC5\",\"#B0BEC5\",\"#B0BEC5\",\"#B0BEC5\",\"#B0BEC5\",\"#B0BEC5\",\"#B0BEC5\",\"#B0BEC5\",\"#B0BEC5\",\"#B0BEC5\",\"#B0BEC5\",\"#B0BEC5\",\"#B0BEC5\",\"#B0BEC5\",\"#B0BEC5\",\"#B0BEC5\",\"#B0BEC5\",\"#B0BEC5\",\"#B0BEC5\",\"#B0BEC5\",\"#B0BEC5\",\"#B0BEC5\",\"#B0BEC5\",\"#B0BEC5\",\"#B0BEC5\",\"red\",\"#B0BEC5\",\"#B0BEC5\",\"#B0BEC5\",\"#B0BEC5\",\"#B0BEC5\",\"#B0BEC5\",\"#B0BEC5\",\"#B0BEC5\",\"#B0BEC5\",\"#B0BEC5\",\"#B0BEC5\",\"#B0BEC5\",\"#B0BEC5\",\"#B0BEC5\",\"#B0BEC5\",\"#B0BEC5\",\"#B0BEC5\",\"#B0BEC5\",\"#B0BEC5\",\"#B0BEC5\",\"#B0BEC5\"]]}],\"label\":\"Topic 29\",\"method\":\"update\"},{\"args\":[{\"marker.color\":[[\"#B0BEC5\",\"#B0BEC5\",\"#B0BEC5\",\"#B0BEC5\",\"#B0BEC5\",\"#B0BEC5\",\"#B0BEC5\",\"#B0BEC5\",\"#B0BEC5\",\"#B0BEC5\",\"#B0BEC5\",\"#B0BEC5\",\"#B0BEC5\",\"#B0BEC5\",\"#B0BEC5\",\"#B0BEC5\",\"#B0BEC5\",\"#B0BEC5\",\"#B0BEC5\",\"#B0BEC5\",\"#B0BEC5\",\"#B0BEC5\",\"#B0BEC5\",\"#B0BEC5\",\"#B0BEC5\",\"#B0BEC5\",\"#B0BEC5\",\"#B0BEC5\",\"#B0BEC5\",\"#B0BEC5\",\"red\",\"#B0BEC5\",\"#B0BEC5\",\"#B0BEC5\",\"#B0BEC5\",\"#B0BEC5\",\"#B0BEC5\",\"#B0BEC5\",\"#B0BEC5\",\"#B0BEC5\",\"#B0BEC5\",\"#B0BEC5\",\"#B0BEC5\",\"#B0BEC5\",\"#B0BEC5\",\"#B0BEC5\",\"#B0BEC5\",\"#B0BEC5\",\"#B0BEC5\",\"#B0BEC5\",\"#B0BEC5\"]]}],\"label\":\"Topic 30\",\"method\":\"update\"},{\"args\":[{\"marker.color\":[[\"#B0BEC5\",\"#B0BEC5\",\"#B0BEC5\",\"#B0BEC5\",\"#B0BEC5\",\"#B0BEC5\",\"#B0BEC5\",\"#B0BEC5\",\"#B0BEC5\",\"#B0BEC5\",\"#B0BEC5\",\"#B0BEC5\",\"#B0BEC5\",\"#B0BEC5\",\"#B0BEC5\",\"#B0BEC5\",\"#B0BEC5\",\"#B0BEC5\",\"#B0BEC5\",\"#B0BEC5\",\"#B0BEC5\",\"#B0BEC5\",\"#B0BEC5\",\"#B0BEC5\",\"#B0BEC5\",\"#B0BEC5\",\"#B0BEC5\",\"#B0BEC5\",\"#B0BEC5\",\"#B0BEC5\",\"#B0BEC5\",\"red\",\"#B0BEC5\",\"#B0BEC5\",\"#B0BEC5\",\"#B0BEC5\",\"#B0BEC5\",\"#B0BEC5\",\"#B0BEC5\",\"#B0BEC5\",\"#B0BEC5\",\"#B0BEC5\",\"#B0BEC5\",\"#B0BEC5\",\"#B0BEC5\",\"#B0BEC5\",\"#B0BEC5\",\"#B0BEC5\",\"#B0BEC5\",\"#B0BEC5\",\"#B0BEC5\"]]}],\"label\":\"Topic 31\",\"method\":\"update\"},{\"args\":[{\"marker.color\":[[\"#B0BEC5\",\"#B0BEC5\",\"#B0BEC5\",\"#B0BEC5\",\"#B0BEC5\",\"#B0BEC5\",\"#B0BEC5\",\"#B0BEC5\",\"#B0BEC5\",\"#B0BEC5\",\"#B0BEC5\",\"#B0BEC5\",\"#B0BEC5\",\"#B0BEC5\",\"#B0BEC5\",\"#B0BEC5\",\"#B0BEC5\",\"#B0BEC5\",\"#B0BEC5\",\"#B0BEC5\",\"#B0BEC5\",\"#B0BEC5\",\"#B0BEC5\",\"#B0BEC5\",\"#B0BEC5\",\"#B0BEC5\",\"#B0BEC5\",\"#B0BEC5\",\"#B0BEC5\",\"#B0BEC5\",\"#B0BEC5\",\"#B0BEC5\",\"red\",\"#B0BEC5\",\"#B0BEC5\",\"#B0BEC5\",\"#B0BEC5\",\"#B0BEC5\",\"#B0BEC5\",\"#B0BEC5\",\"#B0BEC5\",\"#B0BEC5\",\"#B0BEC5\",\"#B0BEC5\",\"#B0BEC5\",\"#B0BEC5\",\"#B0BEC5\",\"#B0BEC5\",\"#B0BEC5\",\"#B0BEC5\",\"#B0BEC5\"]]}],\"label\":\"Topic 32\",\"method\":\"update\"},{\"args\":[{\"marker.color\":[[\"#B0BEC5\",\"#B0BEC5\",\"#B0BEC5\",\"#B0BEC5\",\"#B0BEC5\",\"#B0BEC5\",\"#B0BEC5\",\"#B0BEC5\",\"#B0BEC5\",\"#B0BEC5\",\"#B0BEC5\",\"#B0BEC5\",\"#B0BEC5\",\"#B0BEC5\",\"#B0BEC5\",\"#B0BEC5\",\"#B0BEC5\",\"#B0BEC5\",\"#B0BEC5\",\"#B0BEC5\",\"#B0BEC5\",\"#B0BEC5\",\"#B0BEC5\",\"#B0BEC5\",\"#B0BEC5\",\"#B0BEC5\",\"#B0BEC5\",\"#B0BEC5\",\"#B0BEC5\",\"#B0BEC5\",\"#B0BEC5\",\"#B0BEC5\",\"#B0BEC5\",\"red\",\"#B0BEC5\",\"#B0BEC5\",\"#B0BEC5\",\"#B0BEC5\",\"#B0BEC5\",\"#B0BEC5\",\"#B0BEC5\",\"#B0BEC5\",\"#B0BEC5\",\"#B0BEC5\",\"#B0BEC5\",\"#B0BEC5\",\"#B0BEC5\",\"#B0BEC5\",\"#B0BEC5\",\"#B0BEC5\",\"#B0BEC5\"]]}],\"label\":\"Topic 33\",\"method\":\"update\"},{\"args\":[{\"marker.color\":[[\"#B0BEC5\",\"#B0BEC5\",\"#B0BEC5\",\"#B0BEC5\",\"#B0BEC5\",\"#B0BEC5\",\"#B0BEC5\",\"#B0BEC5\",\"#B0BEC5\",\"#B0BEC5\",\"#B0BEC5\",\"#B0BEC5\",\"#B0BEC5\",\"#B0BEC5\",\"#B0BEC5\",\"#B0BEC5\",\"#B0BEC5\",\"#B0BEC5\",\"#B0BEC5\",\"#B0BEC5\",\"#B0BEC5\",\"#B0BEC5\",\"#B0BEC5\",\"#B0BEC5\",\"#B0BEC5\",\"#B0BEC5\",\"#B0BEC5\",\"#B0BEC5\",\"#B0BEC5\",\"#B0BEC5\",\"#B0BEC5\",\"#B0BEC5\",\"#B0BEC5\",\"#B0BEC5\",\"red\",\"#B0BEC5\",\"#B0BEC5\",\"#B0BEC5\",\"#B0BEC5\",\"#B0BEC5\",\"#B0BEC5\",\"#B0BEC5\",\"#B0BEC5\",\"#B0BEC5\",\"#B0BEC5\",\"#B0BEC5\",\"#B0BEC5\",\"#B0BEC5\",\"#B0BEC5\",\"#B0BEC5\",\"#B0BEC5\"]]}],\"label\":\"Topic 34\",\"method\":\"update\"},{\"args\":[{\"marker.color\":[[\"#B0BEC5\",\"#B0BEC5\",\"#B0BEC5\",\"#B0BEC5\",\"#B0BEC5\",\"#B0BEC5\",\"#B0BEC5\",\"#B0BEC5\",\"#B0BEC5\",\"#B0BEC5\",\"#B0BEC5\",\"#B0BEC5\",\"#B0BEC5\",\"#B0BEC5\",\"#B0BEC5\",\"#B0BEC5\",\"#B0BEC5\",\"#B0BEC5\",\"#B0BEC5\",\"#B0BEC5\",\"#B0BEC5\",\"#B0BEC5\",\"#B0BEC5\",\"#B0BEC5\",\"#B0BEC5\",\"#B0BEC5\",\"#B0BEC5\",\"#B0BEC5\",\"#B0BEC5\",\"#B0BEC5\",\"#B0BEC5\",\"#B0BEC5\",\"#B0BEC5\",\"#B0BEC5\",\"#B0BEC5\",\"red\",\"#B0BEC5\",\"#B0BEC5\",\"#B0BEC5\",\"#B0BEC5\",\"#B0BEC5\",\"#B0BEC5\",\"#B0BEC5\",\"#B0BEC5\",\"#B0BEC5\",\"#B0BEC5\",\"#B0BEC5\",\"#B0BEC5\",\"#B0BEC5\",\"#B0BEC5\",\"#B0BEC5\"]]}],\"label\":\"Topic 35\",\"method\":\"update\"},{\"args\":[{\"marker.color\":[[\"#B0BEC5\",\"#B0BEC5\",\"#B0BEC5\",\"#B0BEC5\",\"#B0BEC5\",\"#B0BEC5\",\"#B0BEC5\",\"#B0BEC5\",\"#B0BEC5\",\"#B0BEC5\",\"#B0BEC5\",\"#B0BEC5\",\"#B0BEC5\",\"#B0BEC5\",\"#B0BEC5\",\"#B0BEC5\",\"#B0BEC5\",\"#B0BEC5\",\"#B0BEC5\",\"#B0BEC5\",\"#B0BEC5\",\"#B0BEC5\",\"#B0BEC5\",\"#B0BEC5\",\"#B0BEC5\",\"#B0BEC5\",\"#B0BEC5\",\"#B0BEC5\",\"#B0BEC5\",\"#B0BEC5\",\"#B0BEC5\",\"#B0BEC5\",\"#B0BEC5\",\"#B0BEC5\",\"#B0BEC5\",\"#B0BEC5\",\"red\",\"#B0BEC5\",\"#B0BEC5\",\"#B0BEC5\",\"#B0BEC5\",\"#B0BEC5\",\"#B0BEC5\",\"#B0BEC5\",\"#B0BEC5\",\"#B0BEC5\",\"#B0BEC5\",\"#B0BEC5\",\"#B0BEC5\",\"#B0BEC5\",\"#B0BEC5\"]]}],\"label\":\"Topic 36\",\"method\":\"update\"},{\"args\":[{\"marker.color\":[[\"#B0BEC5\",\"#B0BEC5\",\"#B0BEC5\",\"#B0BEC5\",\"#B0BEC5\",\"#B0BEC5\",\"#B0BEC5\",\"#B0BEC5\",\"#B0BEC5\",\"#B0BEC5\",\"#B0BEC5\",\"#B0BEC5\",\"#B0BEC5\",\"#B0BEC5\",\"#B0BEC5\",\"#B0BEC5\",\"#B0BEC5\",\"#B0BEC5\",\"#B0BEC5\",\"#B0BEC5\",\"#B0BEC5\",\"#B0BEC5\",\"#B0BEC5\",\"#B0BEC5\",\"#B0BEC5\",\"#B0BEC5\",\"#B0BEC5\",\"#B0BEC5\",\"#B0BEC5\",\"#B0BEC5\",\"#B0BEC5\",\"#B0BEC5\",\"#B0BEC5\",\"#B0BEC5\",\"#B0BEC5\",\"#B0BEC5\",\"#B0BEC5\",\"red\",\"#B0BEC5\",\"#B0BEC5\",\"#B0BEC5\",\"#B0BEC5\",\"#B0BEC5\",\"#B0BEC5\",\"#B0BEC5\",\"#B0BEC5\",\"#B0BEC5\",\"#B0BEC5\",\"#B0BEC5\",\"#B0BEC5\",\"#B0BEC5\"]]}],\"label\":\"Topic 37\",\"method\":\"update\"},{\"args\":[{\"marker.color\":[[\"#B0BEC5\",\"#B0BEC5\",\"#B0BEC5\",\"#B0BEC5\",\"#B0BEC5\",\"#B0BEC5\",\"#B0BEC5\",\"#B0BEC5\",\"#B0BEC5\",\"#B0BEC5\",\"#B0BEC5\",\"#B0BEC5\",\"#B0BEC5\",\"#B0BEC5\",\"#B0BEC5\",\"#B0BEC5\",\"#B0BEC5\",\"#B0BEC5\",\"#B0BEC5\",\"#B0BEC5\",\"#B0BEC5\",\"#B0BEC5\",\"#B0BEC5\",\"#B0BEC5\",\"#B0BEC5\",\"#B0BEC5\",\"#B0BEC5\",\"#B0BEC5\",\"#B0BEC5\",\"#B0BEC5\",\"#B0BEC5\",\"#B0BEC5\",\"#B0BEC5\",\"#B0BEC5\",\"#B0BEC5\",\"#B0BEC5\",\"#B0BEC5\",\"#B0BEC5\",\"red\",\"#B0BEC5\",\"#B0BEC5\",\"#B0BEC5\",\"#B0BEC5\",\"#B0BEC5\",\"#B0BEC5\",\"#B0BEC5\",\"#B0BEC5\",\"#B0BEC5\",\"#B0BEC5\",\"#B0BEC5\",\"#B0BEC5\"]]}],\"label\":\"Topic 38\",\"method\":\"update\"},{\"args\":[{\"marker.color\":[[\"#B0BEC5\",\"#B0BEC5\",\"#B0BEC5\",\"#B0BEC5\",\"#B0BEC5\",\"#B0BEC5\",\"#B0BEC5\",\"#B0BEC5\",\"#B0BEC5\",\"#B0BEC5\",\"#B0BEC5\",\"#B0BEC5\",\"#B0BEC5\",\"#B0BEC5\",\"#B0BEC5\",\"#B0BEC5\",\"#B0BEC5\",\"#B0BEC5\",\"#B0BEC5\",\"#B0BEC5\",\"#B0BEC5\",\"#B0BEC5\",\"#B0BEC5\",\"#B0BEC5\",\"#B0BEC5\",\"#B0BEC5\",\"#B0BEC5\",\"#B0BEC5\",\"#B0BEC5\",\"#B0BEC5\",\"#B0BEC5\",\"#B0BEC5\",\"#B0BEC5\",\"#B0BEC5\",\"#B0BEC5\",\"#B0BEC5\",\"#B0BEC5\",\"#B0BEC5\",\"#B0BEC5\",\"red\",\"#B0BEC5\",\"#B0BEC5\",\"#B0BEC5\",\"#B0BEC5\",\"#B0BEC5\",\"#B0BEC5\",\"#B0BEC5\",\"#B0BEC5\",\"#B0BEC5\",\"#B0BEC5\",\"#B0BEC5\"]]}],\"label\":\"Topic 39\",\"method\":\"update\"},{\"args\":[{\"marker.color\":[[\"#B0BEC5\",\"#B0BEC5\",\"#B0BEC5\",\"#B0BEC5\",\"#B0BEC5\",\"#B0BEC5\",\"#B0BEC5\",\"#B0BEC5\",\"#B0BEC5\",\"#B0BEC5\",\"#B0BEC5\",\"#B0BEC5\",\"#B0BEC5\",\"#B0BEC5\",\"#B0BEC5\",\"#B0BEC5\",\"#B0BEC5\",\"#B0BEC5\",\"#B0BEC5\",\"#B0BEC5\",\"#B0BEC5\",\"#B0BEC5\",\"#B0BEC5\",\"#B0BEC5\",\"#B0BEC5\",\"#B0BEC5\",\"#B0BEC5\",\"#B0BEC5\",\"#B0BEC5\",\"#B0BEC5\",\"#B0BEC5\",\"#B0BEC5\",\"#B0BEC5\",\"#B0BEC5\",\"#B0BEC5\",\"#B0BEC5\",\"#B0BEC5\",\"#B0BEC5\",\"#B0BEC5\",\"#B0BEC5\",\"red\",\"#B0BEC5\",\"#B0BEC5\",\"#B0BEC5\",\"#B0BEC5\",\"#B0BEC5\",\"#B0BEC5\",\"#B0BEC5\",\"#B0BEC5\",\"#B0BEC5\",\"#B0BEC5\"]]}],\"label\":\"Topic 40\",\"method\":\"update\"},{\"args\":[{\"marker.color\":[[\"#B0BEC5\",\"#B0BEC5\",\"#B0BEC5\",\"#B0BEC5\",\"#B0BEC5\",\"#B0BEC5\",\"#B0BEC5\",\"#B0BEC5\",\"#B0BEC5\",\"#B0BEC5\",\"#B0BEC5\",\"#B0BEC5\",\"#B0BEC5\",\"#B0BEC5\",\"#B0BEC5\",\"#B0BEC5\",\"#B0BEC5\",\"#B0BEC5\",\"#B0BEC5\",\"#B0BEC5\",\"#B0BEC5\",\"#B0BEC5\",\"#B0BEC5\",\"#B0BEC5\",\"#B0BEC5\",\"#B0BEC5\",\"#B0BEC5\",\"#B0BEC5\",\"#B0BEC5\",\"#B0BEC5\",\"#B0BEC5\",\"#B0BEC5\",\"#B0BEC5\",\"#B0BEC5\",\"#B0BEC5\",\"#B0BEC5\",\"#B0BEC5\",\"#B0BEC5\",\"#B0BEC5\",\"#B0BEC5\",\"#B0BEC5\",\"red\",\"#B0BEC5\",\"#B0BEC5\",\"#B0BEC5\",\"#B0BEC5\",\"#B0BEC5\",\"#B0BEC5\",\"#B0BEC5\",\"#B0BEC5\",\"#B0BEC5\"]]}],\"label\":\"Topic 41\",\"method\":\"update\"},{\"args\":[{\"marker.color\":[[\"#B0BEC5\",\"#B0BEC5\",\"#B0BEC5\",\"#B0BEC5\",\"#B0BEC5\",\"#B0BEC5\",\"#B0BEC5\",\"#B0BEC5\",\"#B0BEC5\",\"#B0BEC5\",\"#B0BEC5\",\"#B0BEC5\",\"#B0BEC5\",\"#B0BEC5\",\"#B0BEC5\",\"#B0BEC5\",\"#B0BEC5\",\"#B0BEC5\",\"#B0BEC5\",\"#B0BEC5\",\"#B0BEC5\",\"#B0BEC5\",\"#B0BEC5\",\"#B0BEC5\",\"#B0BEC5\",\"#B0BEC5\",\"#B0BEC5\",\"#B0BEC5\",\"#B0BEC5\",\"#B0BEC5\",\"#B0BEC5\",\"#B0BEC5\",\"#B0BEC5\",\"#B0BEC5\",\"#B0BEC5\",\"#B0BEC5\",\"#B0BEC5\",\"#B0BEC5\",\"#B0BEC5\",\"#B0BEC5\",\"#B0BEC5\",\"#B0BEC5\",\"red\",\"#B0BEC5\",\"#B0BEC5\",\"#B0BEC5\",\"#B0BEC5\",\"#B0BEC5\",\"#B0BEC5\",\"#B0BEC5\",\"#B0BEC5\"]]}],\"label\":\"Topic 42\",\"method\":\"update\"},{\"args\":[{\"marker.color\":[[\"#B0BEC5\",\"#B0BEC5\",\"#B0BEC5\",\"#B0BEC5\",\"#B0BEC5\",\"#B0BEC5\",\"#B0BEC5\",\"#B0BEC5\",\"#B0BEC5\",\"#B0BEC5\",\"#B0BEC5\",\"#B0BEC5\",\"#B0BEC5\",\"#B0BEC5\",\"#B0BEC5\",\"#B0BEC5\",\"#B0BEC5\",\"#B0BEC5\",\"#B0BEC5\",\"#B0BEC5\",\"#B0BEC5\",\"#B0BEC5\",\"#B0BEC5\",\"#B0BEC5\",\"#B0BEC5\",\"#B0BEC5\",\"#B0BEC5\",\"#B0BEC5\",\"#B0BEC5\",\"#B0BEC5\",\"#B0BEC5\",\"#B0BEC5\",\"#B0BEC5\",\"#B0BEC5\",\"#B0BEC5\",\"#B0BEC5\",\"#B0BEC5\",\"#B0BEC5\",\"#B0BEC5\",\"#B0BEC5\",\"#B0BEC5\",\"#B0BEC5\",\"#B0BEC5\",\"red\",\"#B0BEC5\",\"#B0BEC5\",\"#B0BEC5\",\"#B0BEC5\",\"#B0BEC5\",\"#B0BEC5\",\"#B0BEC5\"]]}],\"label\":\"Topic 43\",\"method\":\"update\"},{\"args\":[{\"marker.color\":[[\"#B0BEC5\",\"#B0BEC5\",\"#B0BEC5\",\"#B0BEC5\",\"#B0BEC5\",\"#B0BEC5\",\"#B0BEC5\",\"#B0BEC5\",\"#B0BEC5\",\"#B0BEC5\",\"#B0BEC5\",\"#B0BEC5\",\"#B0BEC5\",\"#B0BEC5\",\"#B0BEC5\",\"#B0BEC5\",\"#B0BEC5\",\"#B0BEC5\",\"#B0BEC5\",\"#B0BEC5\",\"#B0BEC5\",\"#B0BEC5\",\"#B0BEC5\",\"#B0BEC5\",\"#B0BEC5\",\"#B0BEC5\",\"#B0BEC5\",\"#B0BEC5\",\"#B0BEC5\",\"#B0BEC5\",\"#B0BEC5\",\"#B0BEC5\",\"#B0BEC5\",\"#B0BEC5\",\"#B0BEC5\",\"#B0BEC5\",\"#B0BEC5\",\"#B0BEC5\",\"#B0BEC5\",\"#B0BEC5\",\"#B0BEC5\",\"#B0BEC5\",\"#B0BEC5\",\"#B0BEC5\",\"red\",\"#B0BEC5\",\"#B0BEC5\",\"#B0BEC5\",\"#B0BEC5\",\"#B0BEC5\",\"#B0BEC5\"]]}],\"label\":\"Topic 44\",\"method\":\"update\"},{\"args\":[{\"marker.color\":[[\"#B0BEC5\",\"#B0BEC5\",\"#B0BEC5\",\"#B0BEC5\",\"#B0BEC5\",\"#B0BEC5\",\"#B0BEC5\",\"#B0BEC5\",\"#B0BEC5\",\"#B0BEC5\",\"#B0BEC5\",\"#B0BEC5\",\"#B0BEC5\",\"#B0BEC5\",\"#B0BEC5\",\"#B0BEC5\",\"#B0BEC5\",\"#B0BEC5\",\"#B0BEC5\",\"#B0BEC5\",\"#B0BEC5\",\"#B0BEC5\",\"#B0BEC5\",\"#B0BEC5\",\"#B0BEC5\",\"#B0BEC5\",\"#B0BEC5\",\"#B0BEC5\",\"#B0BEC5\",\"#B0BEC5\",\"#B0BEC5\",\"#B0BEC5\",\"#B0BEC5\",\"#B0BEC5\",\"#B0BEC5\",\"#B0BEC5\",\"#B0BEC5\",\"#B0BEC5\",\"#B0BEC5\",\"#B0BEC5\",\"#B0BEC5\",\"#B0BEC5\",\"#B0BEC5\",\"#B0BEC5\",\"#B0BEC5\",\"red\",\"#B0BEC5\",\"#B0BEC5\",\"#B0BEC5\",\"#B0BEC5\",\"#B0BEC5\"]]}],\"label\":\"Topic 45\",\"method\":\"update\"},{\"args\":[{\"marker.color\":[[\"#B0BEC5\",\"#B0BEC5\",\"#B0BEC5\",\"#B0BEC5\",\"#B0BEC5\",\"#B0BEC5\",\"#B0BEC5\",\"#B0BEC5\",\"#B0BEC5\",\"#B0BEC5\",\"#B0BEC5\",\"#B0BEC5\",\"#B0BEC5\",\"#B0BEC5\",\"#B0BEC5\",\"#B0BEC5\",\"#B0BEC5\",\"#B0BEC5\",\"#B0BEC5\",\"#B0BEC5\",\"#B0BEC5\",\"#B0BEC5\",\"#B0BEC5\",\"#B0BEC5\",\"#B0BEC5\",\"#B0BEC5\",\"#B0BEC5\",\"#B0BEC5\",\"#B0BEC5\",\"#B0BEC5\",\"#B0BEC5\",\"#B0BEC5\",\"#B0BEC5\",\"#B0BEC5\",\"#B0BEC5\",\"#B0BEC5\",\"#B0BEC5\",\"#B0BEC5\",\"#B0BEC5\",\"#B0BEC5\",\"#B0BEC5\",\"#B0BEC5\",\"#B0BEC5\",\"#B0BEC5\",\"#B0BEC5\",\"#B0BEC5\",\"red\",\"#B0BEC5\",\"#B0BEC5\",\"#B0BEC5\",\"#B0BEC5\"]]}],\"label\":\"Topic 46\",\"method\":\"update\"},{\"args\":[{\"marker.color\":[[\"#B0BEC5\",\"#B0BEC5\",\"#B0BEC5\",\"#B0BEC5\",\"#B0BEC5\",\"#B0BEC5\",\"#B0BEC5\",\"#B0BEC5\",\"#B0BEC5\",\"#B0BEC5\",\"#B0BEC5\",\"#B0BEC5\",\"#B0BEC5\",\"#B0BEC5\",\"#B0BEC5\",\"#B0BEC5\",\"#B0BEC5\",\"#B0BEC5\",\"#B0BEC5\",\"#B0BEC5\",\"#B0BEC5\",\"#B0BEC5\",\"#B0BEC5\",\"#B0BEC5\",\"#B0BEC5\",\"#B0BEC5\",\"#B0BEC5\",\"#B0BEC5\",\"#B0BEC5\",\"#B0BEC5\",\"#B0BEC5\",\"#B0BEC5\",\"#B0BEC5\",\"#B0BEC5\",\"#B0BEC5\",\"#B0BEC5\",\"#B0BEC5\",\"#B0BEC5\",\"#B0BEC5\",\"#B0BEC5\",\"#B0BEC5\",\"#B0BEC5\",\"#B0BEC5\",\"#B0BEC5\",\"#B0BEC5\",\"#B0BEC5\",\"#B0BEC5\",\"red\",\"#B0BEC5\",\"#B0BEC5\",\"#B0BEC5\"]]}],\"label\":\"Topic 47\",\"method\":\"update\"},{\"args\":[{\"marker.color\":[[\"#B0BEC5\",\"#B0BEC5\",\"#B0BEC5\",\"#B0BEC5\",\"#B0BEC5\",\"#B0BEC5\",\"#B0BEC5\",\"#B0BEC5\",\"#B0BEC5\",\"#B0BEC5\",\"#B0BEC5\",\"#B0BEC5\",\"#B0BEC5\",\"#B0BEC5\",\"#B0BEC5\",\"#B0BEC5\",\"#B0BEC5\",\"#B0BEC5\",\"#B0BEC5\",\"#B0BEC5\",\"#B0BEC5\",\"#B0BEC5\",\"#B0BEC5\",\"#B0BEC5\",\"#B0BEC5\",\"#B0BEC5\",\"#B0BEC5\",\"#B0BEC5\",\"#B0BEC5\",\"#B0BEC5\",\"#B0BEC5\",\"#B0BEC5\",\"#B0BEC5\",\"#B0BEC5\",\"#B0BEC5\",\"#B0BEC5\",\"#B0BEC5\",\"#B0BEC5\",\"#B0BEC5\",\"#B0BEC5\",\"#B0BEC5\",\"#B0BEC5\",\"#B0BEC5\",\"#B0BEC5\",\"#B0BEC5\",\"#B0BEC5\",\"#B0BEC5\",\"#B0BEC5\",\"red\",\"#B0BEC5\",\"#B0BEC5\"]]}],\"label\":\"Topic 48\",\"method\":\"update\"},{\"args\":[{\"marker.color\":[[\"#B0BEC5\",\"#B0BEC5\",\"#B0BEC5\",\"#B0BEC5\",\"#B0BEC5\",\"#B0BEC5\",\"#B0BEC5\",\"#B0BEC5\",\"#B0BEC5\",\"#B0BEC5\",\"#B0BEC5\",\"#B0BEC5\",\"#B0BEC5\",\"#B0BEC5\",\"#B0BEC5\",\"#B0BEC5\",\"#B0BEC5\",\"#B0BEC5\",\"#B0BEC5\",\"#B0BEC5\",\"#B0BEC5\",\"#B0BEC5\",\"#B0BEC5\",\"#B0BEC5\",\"#B0BEC5\",\"#B0BEC5\",\"#B0BEC5\",\"#B0BEC5\",\"#B0BEC5\",\"#B0BEC5\",\"#B0BEC5\",\"#B0BEC5\",\"#B0BEC5\",\"#B0BEC5\",\"#B0BEC5\",\"#B0BEC5\",\"#B0BEC5\",\"#B0BEC5\",\"#B0BEC5\",\"#B0BEC5\",\"#B0BEC5\",\"#B0BEC5\",\"#B0BEC5\",\"#B0BEC5\",\"#B0BEC5\",\"#B0BEC5\",\"#B0BEC5\",\"#B0BEC5\",\"#B0BEC5\",\"red\",\"#B0BEC5\"]]}],\"label\":\"Topic 49\",\"method\":\"update\"},{\"args\":[{\"marker.color\":[[\"#B0BEC5\",\"#B0BEC5\",\"#B0BEC5\",\"#B0BEC5\",\"#B0BEC5\",\"#B0BEC5\",\"#B0BEC5\",\"#B0BEC5\",\"#B0BEC5\",\"#B0BEC5\",\"#B0BEC5\",\"#B0BEC5\",\"#B0BEC5\",\"#B0BEC5\",\"#B0BEC5\",\"#B0BEC5\",\"#B0BEC5\",\"#B0BEC5\",\"#B0BEC5\",\"#B0BEC5\",\"#B0BEC5\",\"#B0BEC5\",\"#B0BEC5\",\"#B0BEC5\",\"#B0BEC5\",\"#B0BEC5\",\"#B0BEC5\",\"#B0BEC5\",\"#B0BEC5\",\"#B0BEC5\",\"#B0BEC5\",\"#B0BEC5\",\"#B0BEC5\",\"#B0BEC5\",\"#B0BEC5\",\"#B0BEC5\",\"#B0BEC5\",\"#B0BEC5\",\"#B0BEC5\",\"#B0BEC5\",\"#B0BEC5\",\"#B0BEC5\",\"#B0BEC5\",\"#B0BEC5\",\"#B0BEC5\",\"#B0BEC5\",\"#B0BEC5\",\"#B0BEC5\",\"#B0BEC5\",\"#B0BEC5\",\"red\"]]}],\"label\":\"Topic 50\",\"method\":\"update\"}]}],\"shapes\":[{\"line\":{\"color\":\"#CFD8DC\",\"width\":2},\"type\":\"line\",\"x0\":4.551625084877014,\"x1\":4.551625084877014,\"y0\":-15.221000862121581,\"y1\":18.57718696594238},{\"line\":{\"color\":\"#9E9E9E\",\"width\":2},\"type\":\"line\",\"x0\":-11.301151609420776,\"x1\":20.404401779174805,\"y0\":1.6780930519104,\"y1\":1.6780930519104}],\"annotations\":[{\"showarrow\":false,\"text\":\"D1\",\"x\":-11.301151609420776,\"y\":1.6780930519104,\"yshift\":10},{\"showarrow\":false,\"text\":\"D2\",\"x\":4.551625084877014,\"xshift\":10,\"y\":18.57718696594238}]},                        {\"responsive\": true}                    ).then(function(){\n",
              "                            \n",
              "var gd = document.getElementById('0c809199-5c4a-499d-97ed-98c3575a7df9');\n",
              "var x = new MutationObserver(function (mutations, observer) {{\n",
              "        var display = window.getComputedStyle(gd).display;\n",
              "        if (!display || display === 'none') {{\n",
              "            console.log([gd, 'removed!']);\n",
              "            Plotly.purge(gd);\n",
              "            observer.disconnect();\n",
              "        }}\n",
              "}});\n",
              "\n",
              "// Listen for the removal of the full notebook cells\n",
              "var notebookContainer = gd.closest('#notebook-container');\n",
              "if (notebookContainer) {{\n",
              "    x.observe(notebookContainer, {childList: true});\n",
              "}}\n",
              "\n",
              "// Listen for the clearing of the current output cell\n",
              "var outputEl = gd.closest('.output');\n",
              "if (outputEl) {{\n",
              "    x.observe(outputEl, {childList: true});\n",
              "}}\n",
              "\n",
              "                        })                };                            </script>        </div>\n",
              "</body>\n",
              "</html>"
            ]
          },
          "metadata": {}
        }
      ]
    },
    {
      "cell_type": "code",
      "source": [
        "# visualize topic hierarchy\n",
        "new_topic_model.visualize_hierarchy(top_n_topics=50)"
      ],
      "metadata": {
        "colab": {
          "base_uri": "https://localhost:8080/",
          "height": 967
        },
        "id": "Ue4LqEAaxmmB",
        "outputId": "fe6b45f4-3152-4b93-e42c-266499784c91"
      },
      "execution_count": null,
      "outputs": [
        {
          "output_type": "display_data",
          "data": {
            "text/html": [
              "<html>\n",
              "<head><meta charset=\"utf-8\" /></head>\n",
              "<body>\n",
              "    <div>            <script src=\"https://cdnjs.cloudflare.com/ajax/libs/mathjax/2.7.5/MathJax.js?config=TeX-AMS-MML_SVG\"></script><script type=\"text/javascript\">if (window.MathJax && window.MathJax.Hub && window.MathJax.Hub.Config) {window.MathJax.Hub.Config({SVG: {font: \"STIX-Web\"}});}</script>                <script type=\"text/javascript\">window.PlotlyConfig = {MathJaxConfig: 'local'};</script>\n",
              "        <script src=\"https://cdn.plot.ly/plotly-2.18.2.min.js\"></script>                <div id=\"1191b33a-2768-4957-877c-2a3307bd302a\" class=\"plotly-graph-div\" style=\"height:950px; width:1000px;\"></div>            <script type=\"text/javascript\">                                    window.PLOTLYENV=window.PLOTLYENV || {};                                    if (document.getElementById(\"1191b33a-2768-4957-877c-2a3307bd302a\")) {                    Plotly.newPlot(                        \"1191b33a-2768-4957-877c-2a3307bd302a\",                        [{\"hoverinfo\":\"text\",\"marker\":{\"color\":\"rgb(61,153,112)\"},\"mode\":\"lines\",\"x\":[0.0,0.7382771610381134,0.7382771610381134,0.0],\"xaxis\":\"x\",\"y\":[-5.0,-5.0,-15.0,-15.0],\"yaxis\":\"y\",\"type\":\"scatter\"},{\"hoverinfo\":\"text\",\"marker\":{\"color\":\"rgb(61,153,112)\"},\"mode\":\"lines\",\"x\":[0.0,0.6270615266859649,0.6270615266859649,0.0],\"xaxis\":\"x\",\"y\":[-25.0,-25.0,-35.0,-35.0],\"yaxis\":\"y\",\"type\":\"scatter\"},{\"hoverinfo\":\"text\",\"marker\":{\"color\":\"rgb(61,153,112)\"},\"mode\":\"lines\",\"x\":[0.0,0.4860779054185098,0.4860779054185098,0.0],\"xaxis\":\"x\",\"y\":[-55.0,-55.0,-65.0,-65.0],\"yaxis\":\"y\",\"type\":\"scatter\"},{\"hoverinfo\":\"text\",\"marker\":{\"color\":\"rgb(61,153,112)\"},\"mode\":\"lines\",\"x\":[0.0,0.5902702220845986,0.5902702220845986,0.4860779054185098],\"xaxis\":\"x\",\"y\":[-45.0,-45.0,-60.0,-60.0],\"yaxis\":\"y\",\"type\":\"scatter\"},{\"hoverinfo\":\"text\",\"marker\":{\"color\":\"rgb(61,153,112)\"},\"mode\":\"lines\",\"x\":[0.6270615266859649,0.6644550364017131,0.6644550364017131,0.5902702220845986],\"xaxis\":\"x\",\"y\":[-30.0,-30.0,-52.5,-52.5],\"yaxis\":\"y\",\"type\":\"scatter\"},{\"hoverinfo\":\"text\",\"marker\":{\"color\":\"rgb(61,153,112)\"},\"mode\":\"lines\",\"x\":[0.7382771610381134,0.779609412301693,0.779609412301693,0.6644550364017131],\"xaxis\":\"x\",\"y\":[-10.0,-10.0,-41.25,-41.25],\"yaxis\":\"y\",\"type\":\"scatter\"},{\"hoverinfo\":\"text\",\"marker\":{\"color\":\"rgb(61,153,112)\"},\"mode\":\"lines\",\"x\":[0.779609412301693,0.8207583923418309,0.8207583923418309,0.0],\"xaxis\":\"x\",\"y\":[-25.625,-25.625,-75.0,-75.0],\"yaxis\":\"y\",\"type\":\"scatter\"},{\"hoverinfo\":\"text\",\"marker\":{\"color\":\"rgb(255,65,54)\"},\"mode\":\"lines\",\"x\":[0.0,0.8930423962502099,0.8930423962502099,0.0],\"xaxis\":\"x\",\"y\":[-85.0,-85.0,-95.0,-95.0],\"yaxis\":\"y\",\"type\":\"scatter\"},{\"hoverinfo\":\"text\",\"marker\":{\"color\":\"rgb(255,65,54)\"},\"mode\":\"lines\",\"x\":[0.0,0.3989403705026443,0.3989403705026443,0.0],\"xaxis\":\"x\",\"y\":[-115.0,-115.0,-125.0,-125.0],\"yaxis\":\"y\",\"type\":\"scatter\"},{\"hoverinfo\":\"text\",\"marker\":{\"color\":\"rgb(255,65,54)\"},\"mode\":\"lines\",\"x\":[0.0,0.40193956237343986,0.40193956237343986,0.0],\"xaxis\":\"x\",\"y\":[-145.0,-145.0,-155.0,-155.0],\"yaxis\":\"y\",\"type\":\"scatter\"},{\"hoverinfo\":\"text\",\"marker\":{\"color\":\"rgb(255,65,54)\"},\"mode\":\"lines\",\"x\":[0.40193956237343986,0.5393667431069761,0.5393667431069761,0.0],\"xaxis\":\"x\",\"y\":[-150.0,-150.0,-165.0,-165.0],\"yaxis\":\"y\",\"type\":\"scatter\"},{\"hoverinfo\":\"text\",\"marker\":{\"color\":\"rgb(255,65,54)\"},\"mode\":\"lines\",\"x\":[0.0,0.6588015859470229,0.6588015859470229,0.5393667431069761],\"xaxis\":\"x\",\"y\":[-135.0,-135.0,-157.5,-157.5],\"yaxis\":\"y\",\"type\":\"scatter\"},{\"hoverinfo\":\"text\",\"marker\":{\"color\":\"rgb(255,65,54)\"},\"mode\":\"lines\",\"x\":[0.6588015859470229,0.6992518896731996,0.6992518896731996,0.0],\"xaxis\":\"x\",\"y\":[-146.25,-146.25,-175.0,-175.0],\"yaxis\":\"y\",\"type\":\"scatter\"},{\"hoverinfo\":\"text\",\"marker\":{\"color\":\"rgb(255,65,54)\"},\"mode\":\"lines\",\"x\":[0.3989403705026443,0.7328523516806071,0.7328523516806071,0.6992518896731996],\"xaxis\":\"x\",\"y\":[-120.0,-120.0,-160.625,-160.625],\"yaxis\":\"y\",\"type\":\"scatter\"},{\"hoverinfo\":\"text\",\"marker\":{\"color\":\"rgb(255,65,54)\"},\"mode\":\"lines\",\"x\":[0.0,0.7877223096889023,0.7877223096889023,0.7328523516806071],\"xaxis\":\"x\",\"y\":[-105.0,-105.0,-140.3125,-140.3125],\"yaxis\":\"y\",\"type\":\"scatter\"},{\"hoverinfo\":\"text\",\"marker\":{\"color\":\"rgb(255,65,54)\"},\"mode\":\"lines\",\"x\":[0.8930423962502099,0.9654222305664663,0.9654222305664663,0.7877223096889023],\"xaxis\":\"x\",\"y\":[-90.0,-90.0,-122.65625,-122.65625],\"yaxis\":\"y\",\"type\":\"scatter\"},{\"hoverinfo\":\"text\",\"marker\":{\"color\":\"rgb(35,205,205)\"},\"mode\":\"lines\",\"x\":[0.0,0.8051642614627876,0.8051642614627876,0.0],\"xaxis\":\"x\",\"y\":[-185.0,-185.0,-195.0,-195.0],\"yaxis\":\"y\",\"type\":\"scatter\"},{\"hoverinfo\":\"text\",\"marker\":{\"color\":\"rgb(35,205,205)\"},\"mode\":\"lines\",\"x\":[0.0,0.8664489431544553,0.8664489431544553,0.0],\"xaxis\":\"x\",\"y\":[-205.0,-205.0,-215.0,-215.0],\"yaxis\":\"y\",\"type\":\"scatter\"},{\"hoverinfo\":\"text\",\"marker\":{\"color\":\"rgb(35,205,205)\"},\"mode\":\"lines\",\"x\":[0.0,0.7466609474966802,0.7466609474966802,0.0],\"xaxis\":\"x\",\"y\":[-235.0,-235.0,-245.0,-245.0],\"yaxis\":\"y\",\"type\":\"scatter\"},{\"hoverinfo\":\"text\",\"marker\":{\"color\":\"rgb(35,205,205)\"},\"mode\":\"lines\",\"x\":[0.0,0.8244646613332094,0.8244646613332094,0.7466609474966802],\"xaxis\":\"x\",\"y\":[-225.0,-225.0,-240.0,-240.0],\"yaxis\":\"y\",\"type\":\"scatter\"},{\"hoverinfo\":\"text\",\"marker\":{\"color\":\"rgb(35,205,205)\"},\"mode\":\"lines\",\"x\":[0.8244646613332094,0.8474321891580952,0.8474321891580952,0.0],\"xaxis\":\"x\",\"y\":[-232.5,-232.5,-255.0,-255.0],\"yaxis\":\"y\",\"type\":\"scatter\"},{\"hoverinfo\":\"text\",\"marker\":{\"color\":\"rgb(35,205,205)\"},\"mode\":\"lines\",\"x\":[0.8664489431544553,0.9069168298424701,0.9069168298424701,0.8474321891580952],\"xaxis\":\"x\",\"y\":[-210.0,-210.0,-243.75,-243.75],\"yaxis\":\"y\",\"type\":\"scatter\"},{\"hoverinfo\":\"text\",\"marker\":{\"color\":\"rgb(35,205,205)\"},\"mode\":\"lines\",\"x\":[0.8051642614627876,0.9682940301742725,0.9682940301742725,0.9069168298424701],\"xaxis\":\"x\",\"y\":[-190.0,-190.0,-226.875,-226.875],\"yaxis\":\"y\",\"type\":\"scatter\"},{\"hoverinfo\":\"text\",\"marker\":{\"color\":\"rgb(0,116,217)\"},\"mode\":\"lines\",\"x\":[0.9654222305664663,1.0014205449393392,1.0014205449393392,0.9682940301742725],\"xaxis\":\"x\",\"y\":[-106.328125,-106.328125,-208.4375,-208.4375],\"yaxis\":\"y\",\"type\":\"scatter\"},{\"hoverinfo\":\"text\",\"marker\":{\"color\":\"rgb(133,20,75)\"},\"mode\":\"lines\",\"x\":[0.0,0.7110319341676594,0.7110319341676594,0.0],\"xaxis\":\"x\",\"y\":[-275.0,-275.0,-285.0,-285.0],\"yaxis\":\"y\",\"type\":\"scatter\"},{\"hoverinfo\":\"text\",\"marker\":{\"color\":\"rgb(133,20,75)\"},\"mode\":\"lines\",\"x\":[0.7110319341676594,0.7645927156560488,0.7645927156560488,0.0],\"xaxis\":\"x\",\"y\":[-280.0,-280.0,-295.0,-295.0],\"yaxis\":\"y\",\"type\":\"scatter\"},{\"hoverinfo\":\"text\",\"marker\":{\"color\":\"rgb(133,20,75)\"},\"mode\":\"lines\",\"x\":[0.0,0.7994305830046345,0.7994305830046345,0.7645927156560488],\"xaxis\":\"x\",\"y\":[-265.0,-265.0,-287.5,-287.5],\"yaxis\":\"y\",\"type\":\"scatter\"},{\"hoverinfo\":\"text\",\"marker\":{\"color\":\"rgb(255,220,0)\"},\"mode\":\"lines\",\"x\":[0.0,0.6837983740768877,0.6837983740768877,0.0],\"xaxis\":\"x\",\"y\":[-305.0,-305.0,-315.0,-315.0],\"yaxis\":\"y\",\"type\":\"scatter\"},{\"hoverinfo\":\"text\",\"marker\":{\"color\":\"rgb(255,220,0)\"},\"mode\":\"lines\",\"x\":[0.0,0.6301247625676498,0.6301247625676498,0.0],\"xaxis\":\"x\",\"y\":[-325.0,-325.0,-335.0,-335.0],\"yaxis\":\"y\",\"type\":\"scatter\"},{\"hoverinfo\":\"text\",\"marker\":{\"color\":\"rgb(255,220,0)\"},\"mode\":\"lines\",\"x\":[0.6837983740768877,0.7625237192927219,0.7625237192927219,0.6301247625676498],\"xaxis\":\"x\",\"y\":[-310.0,-310.0,-330.0,-330.0],\"yaxis\":\"y\",\"type\":\"scatter\"},{\"hoverinfo\":\"text\",\"marker\":{\"color\":\"rgb(255,220,0)\"},\"mode\":\"lines\",\"x\":[0.7625237192927219,0.8941310128550876,0.8941310128550876,0.0],\"xaxis\":\"x\",\"y\":[-320.0,-320.0,-345.0,-345.0],\"yaxis\":\"y\",\"type\":\"scatter\"},{\"hoverinfo\":\"text\",\"marker\":{\"color\":\"rgb(0,116,217)\"},\"mode\":\"lines\",\"x\":[0.7994305830046345,1.0333361609708318,1.0333361609708318,0.8941310128550876],\"xaxis\":\"x\",\"y\":[-276.25,-276.25,-332.5,-332.5],\"yaxis\":\"y\",\"type\":\"scatter\"},{\"hoverinfo\":\"text\",\"marker\":{\"color\":\"rgb(40,35,35)\"},\"mode\":\"lines\",\"x\":[0.0,0.8072516576072017,0.8072516576072017,0.0],\"xaxis\":\"x\",\"y\":[-365.0,-365.0,-375.0,-375.0],\"yaxis\":\"y\",\"type\":\"scatter\"},{\"hoverinfo\":\"text\",\"marker\":{\"color\":\"rgb(40,35,35)\"},\"mode\":\"lines\",\"x\":[0.0,0.8377976292218804,0.8377976292218804,0.8072516576072017],\"xaxis\":\"x\",\"y\":[-355.0,-355.0,-370.0,-370.0],\"yaxis\":\"y\",\"type\":\"scatter\"},{\"hoverinfo\":\"text\",\"marker\":{\"color\":\"rgb(40,35,35)\"},\"mode\":\"lines\",\"x\":[0.0,0.7310751106323379,0.7310751106323379,0.0],\"xaxis\":\"x\",\"y\":[-385.0,-385.0,-395.0,-395.0],\"yaxis\":\"y\",\"type\":\"scatter\"},{\"hoverinfo\":\"text\",\"marker\":{\"color\":\"rgb(40,35,35)\"},\"mode\":\"lines\",\"x\":[0.0,0.640055143222565,0.640055143222565,0.0],\"xaxis\":\"x\",\"y\":[-415.0,-415.0,-425.0,-425.0],\"yaxis\":\"y\",\"type\":\"scatter\"},{\"hoverinfo\":\"text\",\"marker\":{\"color\":\"rgb(40,35,35)\"},\"mode\":\"lines\",\"x\":[0.0,0.5523978847718103,0.5523978847718103,0.0],\"xaxis\":\"x\",\"y\":[-435.0,-435.0,-445.0,-445.0],\"yaxis\":\"y\",\"type\":\"scatter\"},{\"hoverinfo\":\"text\",\"marker\":{\"color\":\"rgb(40,35,35)\"},\"mode\":\"lines\",\"x\":[0.640055143222565,0.7049568170313123,0.7049568170313123,0.5523978847718103],\"xaxis\":\"x\",\"y\":[-420.0,-420.0,-440.0,-440.0],\"yaxis\":\"y\",\"type\":\"scatter\"},{\"hoverinfo\":\"text\",\"marker\":{\"color\":\"rgb(40,35,35)\"},\"mode\":\"lines\",\"x\":[0.0,0.7924663865534687,0.7924663865534687,0.7049568170313123],\"xaxis\":\"x\",\"y\":[-405.0,-405.0,-430.0,-430.0],\"yaxis\":\"y\",\"type\":\"scatter\"},{\"hoverinfo\":\"text\",\"marker\":{\"color\":\"rgb(40,35,35)\"},\"mode\":\"lines\",\"x\":[0.0,0.7636574585293147,0.7636574585293147,0.0],\"xaxis\":\"x\",\"y\":[-455.0,-455.0,-465.0,-465.0],\"yaxis\":\"y\",\"type\":\"scatter\"},{\"hoverinfo\":\"text\",\"marker\":{\"color\":\"rgb(40,35,35)\"},\"mode\":\"lines\",\"x\":[0.7924663865534687,0.8527783262048256,0.8527783262048256,0.7636574585293147],\"xaxis\":\"x\",\"y\":[-417.5,-417.5,-460.0,-460.0],\"yaxis\":\"y\",\"type\":\"scatter\"},{\"hoverinfo\":\"text\",\"marker\":{\"color\":\"rgb(40,35,35)\"},\"mode\":\"lines\",\"x\":[0.7310751106323379,0.8922544251607165,0.8922544251607165,0.8527783262048256],\"xaxis\":\"x\",\"y\":[-390.0,-390.0,-438.75,-438.75],\"yaxis\":\"y\",\"type\":\"scatter\"},{\"hoverinfo\":\"text\",\"marker\":{\"color\":\"rgb(40,35,35)\"},\"mode\":\"lines\",\"x\":[0.8377976292218804,0.9507043102210051,0.9507043102210051,0.8922544251607165],\"xaxis\":\"x\",\"y\":[-362.5,-362.5,-414.375,-414.375],\"yaxis\":\"y\",\"type\":\"scatter\"},{\"hoverinfo\":\"text\",\"marker\":{\"color\":\"rgb(61,153,112)\"},\"mode\":\"lines\",\"x\":[0.0,0.603542831099876,0.603542831099876,0.0],\"xaxis\":\"x\",\"y\":[-475.0,-475.0,-485.0,-485.0],\"yaxis\":\"y\",\"type\":\"scatter\"},{\"hoverinfo\":\"text\",\"marker\":{\"color\":\"rgb(0,116,217)\"},\"mode\":\"lines\",\"x\":[0.603542831099876,1.0895341855697118,1.0895341855697118,0.0],\"xaxis\":\"x\",\"y\":[-480.0,-480.0,-495.0,-495.0],\"yaxis\":\"y\",\"type\":\"scatter\"},{\"hoverinfo\":\"text\",\"marker\":{\"color\":\"rgb(0,116,217)\"},\"mode\":\"lines\",\"x\":[0.9507043102210051,1.14565061148286,1.14565061148286,1.0895341855697118],\"xaxis\":\"x\",\"y\":[-388.4375,-388.4375,-487.5,-487.5],\"yaxis\":\"y\",\"type\":\"scatter\"},{\"hoverinfo\":\"text\",\"marker\":{\"color\":\"rgb(0,116,217)\"},\"mode\":\"lines\",\"x\":[1.0333361609708318,1.1697450689798146,1.1697450689798146,1.14565061148286],\"xaxis\":\"x\",\"y\":[-304.375,-304.375,-437.96875,-437.96875],\"yaxis\":\"y\",\"type\":\"scatter\"},{\"hoverinfo\":\"text\",\"marker\":{\"color\":\"rgb(0,116,217)\"},\"mode\":\"lines\",\"x\":[1.0014205449393392,1.3137529469853322,1.3137529469853322,1.1697450689798146],\"xaxis\":\"x\",\"y\":[-157.3828125,-157.3828125,-371.171875,-371.171875],\"yaxis\":\"y\",\"type\":\"scatter\"},{\"hoverinfo\":\"text\",\"marker\":{\"color\":\"rgb(0,116,217)\"},\"mode\":\"lines\",\"x\":[0.8207583923418309,1.5949862371855172,1.5949862371855172,1.3137529469853322],\"xaxis\":\"x\",\"y\":[-50.3125,-50.3125,-264.27734375,-264.27734375],\"yaxis\":\"y\",\"type\":\"scatter\"}],                        {\"autosize\":false,\"height\":950,\"hovermode\":\"closest\",\"showlegend\":false,\"width\":1000,\"xaxis\":{\"mirror\":\"allticks\",\"rangemode\":\"tozero\",\"showgrid\":false,\"showline\":true,\"showticklabels\":true,\"ticks\":\"outside\",\"type\":\"linear\",\"zeroline\":false},\"yaxis\":{\"mirror\":\"allticks\",\"rangemode\":\"tozero\",\"showgrid\":false,\"showline\":true,\"showticklabels\":true,\"tickmode\":\"array\",\"ticks\":\"outside\",\"ticktext\":[\"41_105_size_picked\",\"35_85_size_one\",\"18_size_nikes_smaller\",\"24_size_ordered_smaller\",\"19_size_bigger_small\",\"9_small_run_size\",\"40_half_size_larger\",\"46_12_toe_wan\",\"36_daughter_love_pair\",\"37_blue_dark_color\",\"33_color_weight_compliment\",\"8_running_run_shoe\",\"11_running_fit_great\",\"1_son_gift_love\",\"3_fit_great_shirt\",\"7_fit_great_iexcl\",\"2_color_love_shoe\",\"10_sneaker_fit_love\",\"14_perfect_nice_expected\",\"47_great_shoe_workout\",\"30_husband_wear_day\",\"38_quality_product_material\",\"32_box_came_destroyed\",\"16_shipping_order_shipped\",\"25_price_looking_shoes\",\"49_came_exact_expected\",\"45_thong_enjoyed_pair\",\"23_pair_year_last\",\"43_black_nike_pair\",\"15_flop_flip_ever\",\"28_max_air_breathable\",\"34_nike_dart_air\",\"12_nike_air_price\",\"6_squeak_squeaking_loud\",\"39_pegasus_vomero_running\",\"17_slipper_slip_house\",\"20_shower_water_wet\",\"26_gym_treadmill_use\",\"13_slide_velcro_slides\",\"44_strap_adjustable_top\",\"31_loosen_foot_band\",\"0_sandal_foot_comfortable\",\"4_wide_narrow_foot\",\"5_arch_foot_shoe\",\"42_feel_fit_run\",\"27_foot_hour_feels\",\"29_cushion_soft_rib\",\"48_sock_comfortable_use\",\"21_sock_wash_son\",\"22_muy_bien_que\"],\"tickvals\":[-5.0,-15.0,-25.0,-35.0,-45.0,-55.0,-65.0,-75.0,-85.0,-95.0,-105.0,-115.0,-125.0,-135.0,-145.0,-155.0,-165.0,-175.0,-185.0,-195.0,-205.0,-215.0,-225.0,-235.0,-245.0,-255.0,-265.0,-275.0,-285.0,-295.0,-305.0,-315.0,-325.0,-335.0,-345.0,-355.0,-365.0,-375.0,-385.0,-395.0,-405.0,-415.0,-425.0,-435.0,-445.0,-455.0,-465.0,-475.0,-485.0,-495.0],\"type\":\"linear\",\"zeroline\":false,\"range\":[-500.0,0.0]},\"template\":{\"data\":{\"barpolar\":[{\"marker\":{\"line\":{\"color\":\"white\",\"width\":0.5},\"pattern\":{\"fillmode\":\"overlay\",\"size\":10,\"solidity\":0.2}},\"type\":\"barpolar\"}],\"bar\":[{\"error_x\":{\"color\":\"#2a3f5f\"},\"error_y\":{\"color\":\"#2a3f5f\"},\"marker\":{\"line\":{\"color\":\"white\",\"width\":0.5},\"pattern\":{\"fillmode\":\"overlay\",\"size\":10,\"solidity\":0.2}},\"type\":\"bar\"}],\"carpet\":[{\"aaxis\":{\"endlinecolor\":\"#2a3f5f\",\"gridcolor\":\"#C8D4E3\",\"linecolor\":\"#C8D4E3\",\"minorgridcolor\":\"#C8D4E3\",\"startlinecolor\":\"#2a3f5f\"},\"baxis\":{\"endlinecolor\":\"#2a3f5f\",\"gridcolor\":\"#C8D4E3\",\"linecolor\":\"#C8D4E3\",\"minorgridcolor\":\"#C8D4E3\",\"startlinecolor\":\"#2a3f5f\"},\"type\":\"carpet\"}],\"choropleth\":[{\"colorbar\":{\"outlinewidth\":0,\"ticks\":\"\"},\"type\":\"choropleth\"}],\"contourcarpet\":[{\"colorbar\":{\"outlinewidth\":0,\"ticks\":\"\"},\"type\":\"contourcarpet\"}],\"contour\":[{\"colorbar\":{\"outlinewidth\":0,\"ticks\":\"\"},\"colorscale\":[[0.0,\"#0d0887\"],[0.1111111111111111,\"#46039f\"],[0.2222222222222222,\"#7201a8\"],[0.3333333333333333,\"#9c179e\"],[0.4444444444444444,\"#bd3786\"],[0.5555555555555556,\"#d8576b\"],[0.6666666666666666,\"#ed7953\"],[0.7777777777777778,\"#fb9f3a\"],[0.8888888888888888,\"#fdca26\"],[1.0,\"#f0f921\"]],\"type\":\"contour\"}],\"heatmapgl\":[{\"colorbar\":{\"outlinewidth\":0,\"ticks\":\"\"},\"colorscale\":[[0.0,\"#0d0887\"],[0.1111111111111111,\"#46039f\"],[0.2222222222222222,\"#7201a8\"],[0.3333333333333333,\"#9c179e\"],[0.4444444444444444,\"#bd3786\"],[0.5555555555555556,\"#d8576b\"],[0.6666666666666666,\"#ed7953\"],[0.7777777777777778,\"#fb9f3a\"],[0.8888888888888888,\"#fdca26\"],[1.0,\"#f0f921\"]],\"type\":\"heatmapgl\"}],\"heatmap\":[{\"colorbar\":{\"outlinewidth\":0,\"ticks\":\"\"},\"colorscale\":[[0.0,\"#0d0887\"],[0.1111111111111111,\"#46039f\"],[0.2222222222222222,\"#7201a8\"],[0.3333333333333333,\"#9c179e\"],[0.4444444444444444,\"#bd3786\"],[0.5555555555555556,\"#d8576b\"],[0.6666666666666666,\"#ed7953\"],[0.7777777777777778,\"#fb9f3a\"],[0.8888888888888888,\"#fdca26\"],[1.0,\"#f0f921\"]],\"type\":\"heatmap\"}],\"histogram2dcontour\":[{\"colorbar\":{\"outlinewidth\":0,\"ticks\":\"\"},\"colorscale\":[[0.0,\"#0d0887\"],[0.1111111111111111,\"#46039f\"],[0.2222222222222222,\"#7201a8\"],[0.3333333333333333,\"#9c179e\"],[0.4444444444444444,\"#bd3786\"],[0.5555555555555556,\"#d8576b\"],[0.6666666666666666,\"#ed7953\"],[0.7777777777777778,\"#fb9f3a\"],[0.8888888888888888,\"#fdca26\"],[1.0,\"#f0f921\"]],\"type\":\"histogram2dcontour\"}],\"histogram2d\":[{\"colorbar\":{\"outlinewidth\":0,\"ticks\":\"\"},\"colorscale\":[[0.0,\"#0d0887\"],[0.1111111111111111,\"#46039f\"],[0.2222222222222222,\"#7201a8\"],[0.3333333333333333,\"#9c179e\"],[0.4444444444444444,\"#bd3786\"],[0.5555555555555556,\"#d8576b\"],[0.6666666666666666,\"#ed7953\"],[0.7777777777777778,\"#fb9f3a\"],[0.8888888888888888,\"#fdca26\"],[1.0,\"#f0f921\"]],\"type\":\"histogram2d\"}],\"histogram\":[{\"marker\":{\"pattern\":{\"fillmode\":\"overlay\",\"size\":10,\"solidity\":0.2}},\"type\":\"histogram\"}],\"mesh3d\":[{\"colorbar\":{\"outlinewidth\":0,\"ticks\":\"\"},\"type\":\"mesh3d\"}],\"parcoords\":[{\"line\":{\"colorbar\":{\"outlinewidth\":0,\"ticks\":\"\"}},\"type\":\"parcoords\"}],\"pie\":[{\"automargin\":true,\"type\":\"pie\"}],\"scatter3d\":[{\"line\":{\"colorbar\":{\"outlinewidth\":0,\"ticks\":\"\"}},\"marker\":{\"colorbar\":{\"outlinewidth\":0,\"ticks\":\"\"}},\"type\":\"scatter3d\"}],\"scattercarpet\":[{\"marker\":{\"colorbar\":{\"outlinewidth\":0,\"ticks\":\"\"}},\"type\":\"scattercarpet\"}],\"scattergeo\":[{\"marker\":{\"colorbar\":{\"outlinewidth\":0,\"ticks\":\"\"}},\"type\":\"scattergeo\"}],\"scattergl\":[{\"marker\":{\"colorbar\":{\"outlinewidth\":0,\"ticks\":\"\"}},\"type\":\"scattergl\"}],\"scattermapbox\":[{\"marker\":{\"colorbar\":{\"outlinewidth\":0,\"ticks\":\"\"}},\"type\":\"scattermapbox\"}],\"scatterpolargl\":[{\"marker\":{\"colorbar\":{\"outlinewidth\":0,\"ticks\":\"\"}},\"type\":\"scatterpolargl\"}],\"scatterpolar\":[{\"marker\":{\"colorbar\":{\"outlinewidth\":0,\"ticks\":\"\"}},\"type\":\"scatterpolar\"}],\"scatter\":[{\"fillpattern\":{\"fillmode\":\"overlay\",\"size\":10,\"solidity\":0.2},\"type\":\"scatter\"}],\"scatterternary\":[{\"marker\":{\"colorbar\":{\"outlinewidth\":0,\"ticks\":\"\"}},\"type\":\"scatterternary\"}],\"surface\":[{\"colorbar\":{\"outlinewidth\":0,\"ticks\":\"\"},\"colorscale\":[[0.0,\"#0d0887\"],[0.1111111111111111,\"#46039f\"],[0.2222222222222222,\"#7201a8\"],[0.3333333333333333,\"#9c179e\"],[0.4444444444444444,\"#bd3786\"],[0.5555555555555556,\"#d8576b\"],[0.6666666666666666,\"#ed7953\"],[0.7777777777777778,\"#fb9f3a\"],[0.8888888888888888,\"#fdca26\"],[1.0,\"#f0f921\"]],\"type\":\"surface\"}],\"table\":[{\"cells\":{\"fill\":{\"color\":\"#EBF0F8\"},\"line\":{\"color\":\"white\"}},\"header\":{\"fill\":{\"color\":\"#C8D4E3\"},\"line\":{\"color\":\"white\"}},\"type\":\"table\"}]},\"layout\":{\"annotationdefaults\":{\"arrowcolor\":\"#2a3f5f\",\"arrowhead\":0,\"arrowwidth\":1},\"autotypenumbers\":\"strict\",\"coloraxis\":{\"colorbar\":{\"outlinewidth\":0,\"ticks\":\"\"}},\"colorscale\":{\"diverging\":[[0,\"#8e0152\"],[0.1,\"#c51b7d\"],[0.2,\"#de77ae\"],[0.3,\"#f1b6da\"],[0.4,\"#fde0ef\"],[0.5,\"#f7f7f7\"],[0.6,\"#e6f5d0\"],[0.7,\"#b8e186\"],[0.8,\"#7fbc41\"],[0.9,\"#4d9221\"],[1,\"#276419\"]],\"sequential\":[[0.0,\"#0d0887\"],[0.1111111111111111,\"#46039f\"],[0.2222222222222222,\"#7201a8\"],[0.3333333333333333,\"#9c179e\"],[0.4444444444444444,\"#bd3786\"],[0.5555555555555556,\"#d8576b\"],[0.6666666666666666,\"#ed7953\"],[0.7777777777777778,\"#fb9f3a\"],[0.8888888888888888,\"#fdca26\"],[1.0,\"#f0f921\"]],\"sequentialminus\":[[0.0,\"#0d0887\"],[0.1111111111111111,\"#46039f\"],[0.2222222222222222,\"#7201a8\"],[0.3333333333333333,\"#9c179e\"],[0.4444444444444444,\"#bd3786\"],[0.5555555555555556,\"#d8576b\"],[0.6666666666666666,\"#ed7953\"],[0.7777777777777778,\"#fb9f3a\"],[0.8888888888888888,\"#fdca26\"],[1.0,\"#f0f921\"]]},\"colorway\":[\"#636efa\",\"#EF553B\",\"#00cc96\",\"#ab63fa\",\"#FFA15A\",\"#19d3f3\",\"#FF6692\",\"#B6E880\",\"#FF97FF\",\"#FECB52\"],\"font\":{\"color\":\"#2a3f5f\"},\"geo\":{\"bgcolor\":\"white\",\"lakecolor\":\"white\",\"landcolor\":\"white\",\"showlakes\":true,\"showland\":true,\"subunitcolor\":\"#C8D4E3\"},\"hoverlabel\":{\"align\":\"left\"},\"hovermode\":\"closest\",\"mapbox\":{\"style\":\"light\"},\"paper_bgcolor\":\"white\",\"plot_bgcolor\":\"white\",\"polar\":{\"angularaxis\":{\"gridcolor\":\"#EBF0F8\",\"linecolor\":\"#EBF0F8\",\"ticks\":\"\"},\"bgcolor\":\"white\",\"radialaxis\":{\"gridcolor\":\"#EBF0F8\",\"linecolor\":\"#EBF0F8\",\"ticks\":\"\"}},\"scene\":{\"xaxis\":{\"backgroundcolor\":\"white\",\"gridcolor\":\"#DFE8F3\",\"gridwidth\":2,\"linecolor\":\"#EBF0F8\",\"showbackground\":true,\"ticks\":\"\",\"zerolinecolor\":\"#EBF0F8\"},\"yaxis\":{\"backgroundcolor\":\"white\",\"gridcolor\":\"#DFE8F3\",\"gridwidth\":2,\"linecolor\":\"#EBF0F8\",\"showbackground\":true,\"ticks\":\"\",\"zerolinecolor\":\"#EBF0F8\"},\"zaxis\":{\"backgroundcolor\":\"white\",\"gridcolor\":\"#DFE8F3\",\"gridwidth\":2,\"linecolor\":\"#EBF0F8\",\"showbackground\":true,\"ticks\":\"\",\"zerolinecolor\":\"#EBF0F8\"}},\"shapedefaults\":{\"line\":{\"color\":\"#2a3f5f\"}},\"ternary\":{\"aaxis\":{\"gridcolor\":\"#DFE8F3\",\"linecolor\":\"#A2B1C6\",\"ticks\":\"\"},\"baxis\":{\"gridcolor\":\"#DFE8F3\",\"linecolor\":\"#A2B1C6\",\"ticks\":\"\"},\"bgcolor\":\"white\",\"caxis\":{\"gridcolor\":\"#DFE8F3\",\"linecolor\":\"#A2B1C6\",\"ticks\":\"\"}},\"title\":{\"x\":0.05},\"xaxis\":{\"automargin\":true,\"gridcolor\":\"#EBF0F8\",\"linecolor\":\"#EBF0F8\",\"ticks\":\"\",\"title\":{\"standoff\":15},\"zerolinecolor\":\"#EBF0F8\",\"zerolinewidth\":2},\"yaxis\":{\"automargin\":true,\"gridcolor\":\"#EBF0F8\",\"linecolor\":\"#EBF0F8\",\"ticks\":\"\",\"title\":{\"standoff\":15},\"zerolinecolor\":\"#EBF0F8\",\"zerolinewidth\":2}}},\"title\":{\"font\":{\"size\":22,\"color\":\"Black\"},\"text\":\"<b>Hierarchical Clustering</b>\",\"x\":0.5,\"xanchor\":\"center\",\"yanchor\":\"top\"},\"hoverlabel\":{\"font\":{\"size\":16,\"family\":\"Rockwell\"},\"bgcolor\":\"white\"},\"plot_bgcolor\":\"#ECEFF1\"},                        {\"responsive\": true}                    ).then(function(){\n",
              "                            \n",
              "var gd = document.getElementById('1191b33a-2768-4957-877c-2a3307bd302a');\n",
              "var x = new MutationObserver(function (mutations, observer) {{\n",
              "        var display = window.getComputedStyle(gd).display;\n",
              "        if (!display || display === 'none') {{\n",
              "            console.log([gd, 'removed!']);\n",
              "            Plotly.purge(gd);\n",
              "            observer.disconnect();\n",
              "        }}\n",
              "}});\n",
              "\n",
              "// Listen for the removal of the full notebook cells\n",
              "var notebookContainer = gd.closest('#notebook-container');\n",
              "if (notebookContainer) {{\n",
              "    x.observe(notebookContainer, {childList: true});\n",
              "}}\n",
              "\n",
              "// Listen for the clearing of the current output cell\n",
              "var outputEl = gd.closest('.output');\n",
              "if (outputEl) {{\n",
              "    x.observe(outputEl, {childList: true});\n",
              "}}\n",
              "\n",
              "                        })                };                            </script>        </div>\n",
              "</body>\n",
              "</html>"
            ]
          },
          "metadata": {}
        }
      ]
    },
    {
      "cell_type": "code",
      "source": [
        "# visualize terms\n",
        "new_topic_model.visualize_barchart(top_n_topics=20)"
      ],
      "metadata": {
        "colab": {
          "base_uri": "https://localhost:8080/",
          "height": 1000
        },
        "id": "rM1HPae-40Kz",
        "outputId": "d1f2874d-9fc9-4c32-86eb-4a6f9d271f17"
      },
      "execution_count": null,
      "outputs": [
        {
          "output_type": "display_data",
          "data": {
            "text/html": [
              "<html>\n",
              "<head><meta charset=\"utf-8\" /></head>\n",
              "<body>\n",
              "    <div>            <script src=\"https://cdnjs.cloudflare.com/ajax/libs/mathjax/2.7.5/MathJax.js?config=TeX-AMS-MML_SVG\"></script><script type=\"text/javascript\">if (window.MathJax && window.MathJax.Hub && window.MathJax.Hub.Config) {window.MathJax.Hub.Config({SVG: {font: \"STIX-Web\"}});}</script>                <script type=\"text/javascript\">window.PlotlyConfig = {MathJaxConfig: 'local'};</script>\n",
              "        <script src=\"https://cdn.plot.ly/plotly-2.18.2.min.js\"></script>                <div id=\"f79acc00-336a-4648-b01b-bd939003f30a\" class=\"plotly-graph-div\" style=\"height:1250px; width:1000px;\"></div>            <script type=\"text/javascript\">                                    window.PLOTLYENV=window.PLOTLYENV || {};                                    if (document.getElementById(\"f79acc00-336a-4648-b01b-bd939003f30a\")) {                    Plotly.newPlot(                        \"f79acc00-336a-4648-b01b-bd939003f30a\",                        [{\"marker\":{\"color\":\"#D55E00\"},\"orientation\":\"h\",\"x\":[0.018791806966808967,0.018972297054746977,0.02195268963741985,0.029511665711429623,0.04965985659291067],\"y\":[\"comfortable  \",\"well  \",\"fit great  \",\"great  \",\"fit  \"],\"type\":\"bar\",\"xaxis\":\"x\",\"yaxis\":\"y\"},{\"marker\":{\"color\":\"#0072B2\"},\"orientation\":\"h\",\"x\":[0.012094967377701191,0.013947445459390024,0.015123026594908481,0.015203623700129695,0.08206669731937324],\"y\":[\"would  \",\"comfortable  \",\"nike sandal  \",\"foot  \",\"sandal  \"],\"type\":\"bar\",\"xaxis\":\"x2\",\"yaxis\":\"y2\"},{\"marker\":{\"color\":\"#CC79A7\"},\"orientation\":\"h\",\"x\":[0.019116987882911503,0.021850709050737525,0.024192879552329734,0.025163959274544793,0.06243846787772759],\"y\":[\"son love  \",\"bought  \",\"love  \",\"gift  \",\"son  \"],\"type\":\"bar\",\"xaxis\":\"x3\",\"yaxis\":\"y3\"},{\"marker\":{\"color\":\"#E69F00\"},\"orientation\":\"h\",\"x\":[0.012532749401381747,0.012801132707954698,0.014561617735849124,0.01970036159443809,0.023235873767725207],\"y\":[\"support  \",\"nt  \",\"arch  \",\"shoe  \",\"foot  \"],\"type\":\"bar\",\"xaxis\":\"x4\",\"yaxis\":\"y4\"},{\"marker\":{\"color\":\"#56B4E9\"},\"orientation\":\"h\",\"x\":[0.018092542851071206,0.026384043240328874,0.02930074270443291,0.02976923406052573,0.03649475056121631],\"y\":[\"great  \",\"color  \",\"love  \",\"comfortable  \",\"shoe  \"],\"type\":\"bar\",\"xaxis\":\"x5\",\"yaxis\":\"y5\"},{\"marker\":{\"color\":\"#009E73\"},\"orientation\":\"h\",\"x\":[0.027061705582150614,0.03253447965776585,0.0330967877336665,0.04182861935405458,0.05899357092637226],\"y\":[\"larger  \",\"half  \",\"half size  \",\"small  \",\"size  \"],\"type\":\"bar\",\"xaxis\":\"x6\",\"yaxis\":\"y6\"},{\"marker\":{\"color\":\"#F0E442\"},\"orientation\":\"h\",\"x\":[0.024550624716998707,0.026555962726118695,0.028336965790403554,0.03097411582805388,0.05457519301496594],\"y\":[\"great  \",\"run  \",\"shoe  \",\"running shoe  \",\"running  \"],\"type\":\"bar\",\"xaxis\":\"x7\",\"yaxis\":\"y7\"},{\"marker\":{\"color\":\"#D55E00\"},\"orientation\":\"h\",\"x\":[0.019160113467135094,0.03644428219617001,0.04025525739969976,0.04097743293185256,0.05136944688335352],\"y\":[\"tight  \",\"wide foot  \",\"narrow  \",\"foot  \",\"wide  \"],\"type\":\"bar\",\"xaxis\":\"x8\",\"yaxis\":\"y8\"},{\"marker\":{\"color\":\"#0072B2\"},\"orientation\":\"h\",\"x\":[0.017215578081568532,0.018009029579969915,0.01979991989132801,0.02082379908608009,0.0382149784932278],\"y\":[\"nike  \",\"loud  \",\"squeaking  \",\"shoe  \",\"squeak  \"],\"type\":\"bar\",\"xaxis\":\"x9\",\"yaxis\":\"y9\"},{\"marker\":{\"color\":\"#CC79A7\"},\"orientation\":\"h\",\"x\":[0.02256579341318636,0.026766196522194346,0.0297853338961014,0.03124444527808208,0.10502209007717449],\"y\":[\"love  \",\"fit  \",\"sneaker fit  \",\"love sneaker  \",\"sneaker  \"],\"type\":\"bar\",\"xaxis\":\"x10\",\"yaxis\":\"y10\"},{\"marker\":{\"color\":\"#E69F00\"},\"orientation\":\"h\",\"x\":[0.01502210392832401,0.01611070004415163,0.016480289214950778,0.02032850802702844,0.03410827916097687],\"y\":[\"year  \",\"price  \",\"nike air  \",\"air  \",\"nike  \"],\"type\":\"bar\",\"xaxis\":\"x11\",\"yaxis\":\"y11\"},{\"marker\":{\"color\":\"#56B4E9\"},\"orientation\":\"h\",\"x\":[0.01649836513342602,0.019497886670339096,0.01959581131425176,0.022881552530654718,0.11677741546848525],\"y\":[\"pair  \",\"comfortable  \",\"love slide  \",\"velcro  \",\"slide  \"],\"type\":\"bar\",\"xaxis\":\"x12\",\"yaxis\":\"y12\"},{\"marker\":{\"color\":\"#009E73\"},\"orientation\":\"h\",\"x\":[0.0770561755800893,0.08058939619967115,0.09381501139258995,0.09949489449372298,0.12964505785890545],\"y\":[\"thank  \",\"expected great  \",\"expected  \",\"nice  \",\"perfect  \"],\"type\":\"bar\",\"xaxis\":\"x13\",\"yaxis\":\"y13\"},{\"marker\":{\"color\":\"#F0E442\"},\"orientation\":\"h\",\"x\":[0.023473425409981763,0.0259808318038914,0.09658890389175567,0.09721183478257335,0.10015461592648911],\"y\":[\"ever  \",\"flop ever  \",\"flip  \",\"flip flop  \",\"flop  \"],\"type\":\"bar\",\"xaxis\":\"x14\",\"yaxis\":\"y14\"},{\"marker\":{\"color\":\"#D55E00\"},\"orientation\":\"h\",\"x\":[0.022044841395763397,0.022079543732243606,0.023944998593831073,0.025055112364679222,0.05545209106150572],\"y\":[\"last  \",\"nike  \",\"comfortable  \",\"year  \",\"pair  \"],\"type\":\"bar\",\"xaxis\":\"x15\",\"yaxis\":\"y15\"},{\"marker\":{\"color\":\"#0072B2\"},\"orientation\":\"h\",\"x\":[0.017544275622841228,0.0207493239384212,0.023490881922628586,0.027714533146608468,0.043107760856531334],\"y\":[\"fast  \",\"time  \",\"shoe  \",\"order  \",\"shipping  \"],\"type\":\"bar\",\"xaxis\":\"x16\",\"yaxis\":\"y16\"},{\"marker\":{\"color\":\"#CC79A7\"},\"orientation\":\"h\",\"x\":[0.020988329034731485,0.022507677926201335,0.02313278680978693,0.0281007611569733,0.13204026609004568],\"y\":[\"house  \",\"slipper comfortable  \",\"comfortable  \",\"slip  \",\"slipper  \"],\"type\":\"bar\",\"xaxis\":\"x17\",\"yaxis\":\"y17\"},{\"marker\":{\"color\":\"#E69F00\"},\"orientation\":\"h\",\"x\":[0.016779343551554686,0.023052231785097566,0.0253428554008913,0.03001592557129239,0.03698209330116338],\"y\":[\"always  \",\"smaller  \",\"nikes  \",\"nike  \",\"size  \"],\"type\":\"bar\",\"xaxis\":\"x18\",\"yaxis\":\"y18\"},{\"marker\":{\"color\":\"#56B4E9\"},\"orientation\":\"h\",\"x\":[0.026613759202761305,0.02661813652345452,0.047573205762312915,0.05661199249380076,0.06077302076386371],\"y\":[\"wear  \",\"size 85  \",\"105  \",\"size  \",\"85  \"],\"type\":\"bar\",\"xaxis\":\"x19\",\"yaxis\":\"y19\"},{\"marker\":{\"color\":\"#009E73\"},\"orientation\":\"h\",\"x\":[0.0264897273915354,0.028301426304866675,0.0334661481676465,0.03774698522612949,0.12081701858850419],\"y\":[\"boy  \",\"year old  \",\"wash  \",\"son  \",\"sock  \"],\"type\":\"bar\",\"xaxis\":\"x20\",\"yaxis\":\"y20\"}],                        {\"template\":{\"data\":{\"barpolar\":[{\"marker\":{\"line\":{\"color\":\"white\",\"width\":0.5},\"pattern\":{\"fillmode\":\"overlay\",\"size\":10,\"solidity\":0.2}},\"type\":\"barpolar\"}],\"bar\":[{\"error_x\":{\"color\":\"#2a3f5f\"},\"error_y\":{\"color\":\"#2a3f5f\"},\"marker\":{\"line\":{\"color\":\"white\",\"width\":0.5},\"pattern\":{\"fillmode\":\"overlay\",\"size\":10,\"solidity\":0.2}},\"type\":\"bar\"}],\"carpet\":[{\"aaxis\":{\"endlinecolor\":\"#2a3f5f\",\"gridcolor\":\"#C8D4E3\",\"linecolor\":\"#C8D4E3\",\"minorgridcolor\":\"#C8D4E3\",\"startlinecolor\":\"#2a3f5f\"},\"baxis\":{\"endlinecolor\":\"#2a3f5f\",\"gridcolor\":\"#C8D4E3\",\"linecolor\":\"#C8D4E3\",\"minorgridcolor\":\"#C8D4E3\",\"startlinecolor\":\"#2a3f5f\"},\"type\":\"carpet\"}],\"choropleth\":[{\"colorbar\":{\"outlinewidth\":0,\"ticks\":\"\"},\"type\":\"choropleth\"}],\"contourcarpet\":[{\"colorbar\":{\"outlinewidth\":0,\"ticks\":\"\"},\"type\":\"contourcarpet\"}],\"contour\":[{\"colorbar\":{\"outlinewidth\":0,\"ticks\":\"\"},\"colorscale\":[[0.0,\"#0d0887\"],[0.1111111111111111,\"#46039f\"],[0.2222222222222222,\"#7201a8\"],[0.3333333333333333,\"#9c179e\"],[0.4444444444444444,\"#bd3786\"],[0.5555555555555556,\"#d8576b\"],[0.6666666666666666,\"#ed7953\"],[0.7777777777777778,\"#fb9f3a\"],[0.8888888888888888,\"#fdca26\"],[1.0,\"#f0f921\"]],\"type\":\"contour\"}],\"heatmapgl\":[{\"colorbar\":{\"outlinewidth\":0,\"ticks\":\"\"},\"colorscale\":[[0.0,\"#0d0887\"],[0.1111111111111111,\"#46039f\"],[0.2222222222222222,\"#7201a8\"],[0.3333333333333333,\"#9c179e\"],[0.4444444444444444,\"#bd3786\"],[0.5555555555555556,\"#d8576b\"],[0.6666666666666666,\"#ed7953\"],[0.7777777777777778,\"#fb9f3a\"],[0.8888888888888888,\"#fdca26\"],[1.0,\"#f0f921\"]],\"type\":\"heatmapgl\"}],\"heatmap\":[{\"colorbar\":{\"outlinewidth\":0,\"ticks\":\"\"},\"colorscale\":[[0.0,\"#0d0887\"],[0.1111111111111111,\"#46039f\"],[0.2222222222222222,\"#7201a8\"],[0.3333333333333333,\"#9c179e\"],[0.4444444444444444,\"#bd3786\"],[0.5555555555555556,\"#d8576b\"],[0.6666666666666666,\"#ed7953\"],[0.7777777777777778,\"#fb9f3a\"],[0.8888888888888888,\"#fdca26\"],[1.0,\"#f0f921\"]],\"type\":\"heatmap\"}],\"histogram2dcontour\":[{\"colorbar\":{\"outlinewidth\":0,\"ticks\":\"\"},\"colorscale\":[[0.0,\"#0d0887\"],[0.1111111111111111,\"#46039f\"],[0.2222222222222222,\"#7201a8\"],[0.3333333333333333,\"#9c179e\"],[0.4444444444444444,\"#bd3786\"],[0.5555555555555556,\"#d8576b\"],[0.6666666666666666,\"#ed7953\"],[0.7777777777777778,\"#fb9f3a\"],[0.8888888888888888,\"#fdca26\"],[1.0,\"#f0f921\"]],\"type\":\"histogram2dcontour\"}],\"histogram2d\":[{\"colorbar\":{\"outlinewidth\":0,\"ticks\":\"\"},\"colorscale\":[[0.0,\"#0d0887\"],[0.1111111111111111,\"#46039f\"],[0.2222222222222222,\"#7201a8\"],[0.3333333333333333,\"#9c179e\"],[0.4444444444444444,\"#bd3786\"],[0.5555555555555556,\"#d8576b\"],[0.6666666666666666,\"#ed7953\"],[0.7777777777777778,\"#fb9f3a\"],[0.8888888888888888,\"#fdca26\"],[1.0,\"#f0f921\"]],\"type\":\"histogram2d\"}],\"histogram\":[{\"marker\":{\"pattern\":{\"fillmode\":\"overlay\",\"size\":10,\"solidity\":0.2}},\"type\":\"histogram\"}],\"mesh3d\":[{\"colorbar\":{\"outlinewidth\":0,\"ticks\":\"\"},\"type\":\"mesh3d\"}],\"parcoords\":[{\"line\":{\"colorbar\":{\"outlinewidth\":0,\"ticks\":\"\"}},\"type\":\"parcoords\"}],\"pie\":[{\"automargin\":true,\"type\":\"pie\"}],\"scatter3d\":[{\"line\":{\"colorbar\":{\"outlinewidth\":0,\"ticks\":\"\"}},\"marker\":{\"colorbar\":{\"outlinewidth\":0,\"ticks\":\"\"}},\"type\":\"scatter3d\"}],\"scattercarpet\":[{\"marker\":{\"colorbar\":{\"outlinewidth\":0,\"ticks\":\"\"}},\"type\":\"scattercarpet\"}],\"scattergeo\":[{\"marker\":{\"colorbar\":{\"outlinewidth\":0,\"ticks\":\"\"}},\"type\":\"scattergeo\"}],\"scattergl\":[{\"marker\":{\"colorbar\":{\"outlinewidth\":0,\"ticks\":\"\"}},\"type\":\"scattergl\"}],\"scattermapbox\":[{\"marker\":{\"colorbar\":{\"outlinewidth\":0,\"ticks\":\"\"}},\"type\":\"scattermapbox\"}],\"scatterpolargl\":[{\"marker\":{\"colorbar\":{\"outlinewidth\":0,\"ticks\":\"\"}},\"type\":\"scatterpolargl\"}],\"scatterpolar\":[{\"marker\":{\"colorbar\":{\"outlinewidth\":0,\"ticks\":\"\"}},\"type\":\"scatterpolar\"}],\"scatter\":[{\"fillpattern\":{\"fillmode\":\"overlay\",\"size\":10,\"solidity\":0.2},\"type\":\"scatter\"}],\"scatterternary\":[{\"marker\":{\"colorbar\":{\"outlinewidth\":0,\"ticks\":\"\"}},\"type\":\"scatterternary\"}],\"surface\":[{\"colorbar\":{\"outlinewidth\":0,\"ticks\":\"\"},\"colorscale\":[[0.0,\"#0d0887\"],[0.1111111111111111,\"#46039f\"],[0.2222222222222222,\"#7201a8\"],[0.3333333333333333,\"#9c179e\"],[0.4444444444444444,\"#bd3786\"],[0.5555555555555556,\"#d8576b\"],[0.6666666666666666,\"#ed7953\"],[0.7777777777777778,\"#fb9f3a\"],[0.8888888888888888,\"#fdca26\"],[1.0,\"#f0f921\"]],\"type\":\"surface\"}],\"table\":[{\"cells\":{\"fill\":{\"color\":\"#EBF0F8\"},\"line\":{\"color\":\"white\"}},\"header\":{\"fill\":{\"color\":\"#C8D4E3\"},\"line\":{\"color\":\"white\"}},\"type\":\"table\"}]},\"layout\":{\"annotationdefaults\":{\"arrowcolor\":\"#2a3f5f\",\"arrowhead\":0,\"arrowwidth\":1},\"autotypenumbers\":\"strict\",\"coloraxis\":{\"colorbar\":{\"outlinewidth\":0,\"ticks\":\"\"}},\"colorscale\":{\"diverging\":[[0,\"#8e0152\"],[0.1,\"#c51b7d\"],[0.2,\"#de77ae\"],[0.3,\"#f1b6da\"],[0.4,\"#fde0ef\"],[0.5,\"#f7f7f7\"],[0.6,\"#e6f5d0\"],[0.7,\"#b8e186\"],[0.8,\"#7fbc41\"],[0.9,\"#4d9221\"],[1,\"#276419\"]],\"sequential\":[[0.0,\"#0d0887\"],[0.1111111111111111,\"#46039f\"],[0.2222222222222222,\"#7201a8\"],[0.3333333333333333,\"#9c179e\"],[0.4444444444444444,\"#bd3786\"],[0.5555555555555556,\"#d8576b\"],[0.6666666666666666,\"#ed7953\"],[0.7777777777777778,\"#fb9f3a\"],[0.8888888888888888,\"#fdca26\"],[1.0,\"#f0f921\"]],\"sequentialminus\":[[0.0,\"#0d0887\"],[0.1111111111111111,\"#46039f\"],[0.2222222222222222,\"#7201a8\"],[0.3333333333333333,\"#9c179e\"],[0.4444444444444444,\"#bd3786\"],[0.5555555555555556,\"#d8576b\"],[0.6666666666666666,\"#ed7953\"],[0.7777777777777778,\"#fb9f3a\"],[0.8888888888888888,\"#fdca26\"],[1.0,\"#f0f921\"]]},\"colorway\":[\"#636efa\",\"#EF553B\",\"#00cc96\",\"#ab63fa\",\"#FFA15A\",\"#19d3f3\",\"#FF6692\",\"#B6E880\",\"#FF97FF\",\"#FECB52\"],\"font\":{\"color\":\"#2a3f5f\"},\"geo\":{\"bgcolor\":\"white\",\"lakecolor\":\"white\",\"landcolor\":\"white\",\"showlakes\":true,\"showland\":true,\"subunitcolor\":\"#C8D4E3\"},\"hoverlabel\":{\"align\":\"left\"},\"hovermode\":\"closest\",\"mapbox\":{\"style\":\"light\"},\"paper_bgcolor\":\"white\",\"plot_bgcolor\":\"white\",\"polar\":{\"angularaxis\":{\"gridcolor\":\"#EBF0F8\",\"linecolor\":\"#EBF0F8\",\"ticks\":\"\"},\"bgcolor\":\"white\",\"radialaxis\":{\"gridcolor\":\"#EBF0F8\",\"linecolor\":\"#EBF0F8\",\"ticks\":\"\"}},\"scene\":{\"xaxis\":{\"backgroundcolor\":\"white\",\"gridcolor\":\"#DFE8F3\",\"gridwidth\":2,\"linecolor\":\"#EBF0F8\",\"showbackground\":true,\"ticks\":\"\",\"zerolinecolor\":\"#EBF0F8\"},\"yaxis\":{\"backgroundcolor\":\"white\",\"gridcolor\":\"#DFE8F3\",\"gridwidth\":2,\"linecolor\":\"#EBF0F8\",\"showbackground\":true,\"ticks\":\"\",\"zerolinecolor\":\"#EBF0F8\"},\"zaxis\":{\"backgroundcolor\":\"white\",\"gridcolor\":\"#DFE8F3\",\"gridwidth\":2,\"linecolor\":\"#EBF0F8\",\"showbackground\":true,\"ticks\":\"\",\"zerolinecolor\":\"#EBF0F8\"}},\"shapedefaults\":{\"line\":{\"color\":\"#2a3f5f\"}},\"ternary\":{\"aaxis\":{\"gridcolor\":\"#DFE8F3\",\"linecolor\":\"#A2B1C6\",\"ticks\":\"\"},\"baxis\":{\"gridcolor\":\"#DFE8F3\",\"linecolor\":\"#A2B1C6\",\"ticks\":\"\"},\"bgcolor\":\"white\",\"caxis\":{\"gridcolor\":\"#DFE8F3\",\"linecolor\":\"#A2B1C6\",\"ticks\":\"\"}},\"title\":{\"x\":0.05},\"xaxis\":{\"automargin\":true,\"gridcolor\":\"#EBF0F8\",\"linecolor\":\"#EBF0F8\",\"ticks\":\"\",\"title\":{\"standoff\":15},\"zerolinecolor\":\"#EBF0F8\",\"zerolinewidth\":2},\"yaxis\":{\"automargin\":true,\"gridcolor\":\"#EBF0F8\",\"linecolor\":\"#EBF0F8\",\"ticks\":\"\",\"title\":{\"standoff\":15},\"zerolinecolor\":\"#EBF0F8\",\"zerolinewidth\":2}}},\"xaxis\":{\"anchor\":\"y\",\"domain\":[0.0,0.175],\"showgrid\":true},\"yaxis\":{\"anchor\":\"x\",\"domain\":[0.8639999999999999,0.9999999999999999],\"showgrid\":true},\"xaxis2\":{\"anchor\":\"y2\",\"domain\":[0.275,0.45],\"showgrid\":true},\"yaxis2\":{\"anchor\":\"x2\",\"domain\":[0.8639999999999999,0.9999999999999999],\"showgrid\":true},\"xaxis3\":{\"anchor\":\"y3\",\"domain\":[0.55,0.7250000000000001],\"showgrid\":true},\"yaxis3\":{\"anchor\":\"x3\",\"domain\":[0.8639999999999999,0.9999999999999999],\"showgrid\":true},\"xaxis4\":{\"anchor\":\"y4\",\"domain\":[0.825,1.0],\"showgrid\":true},\"yaxis4\":{\"anchor\":\"x4\",\"domain\":[0.8639999999999999,0.9999999999999999],\"showgrid\":true},\"xaxis5\":{\"anchor\":\"y5\",\"domain\":[0.0,0.175],\"showgrid\":true},\"yaxis5\":{\"anchor\":\"x5\",\"domain\":[0.6479999999999999,0.7839999999999999],\"showgrid\":true},\"xaxis6\":{\"anchor\":\"y6\",\"domain\":[0.275,0.45],\"showgrid\":true},\"yaxis6\":{\"anchor\":\"x6\",\"domain\":[0.6479999999999999,0.7839999999999999],\"showgrid\":true},\"xaxis7\":{\"anchor\":\"y7\",\"domain\":[0.55,0.7250000000000001],\"showgrid\":true},\"yaxis7\":{\"anchor\":\"x7\",\"domain\":[0.6479999999999999,0.7839999999999999],\"showgrid\":true},\"xaxis8\":{\"anchor\":\"y8\",\"domain\":[0.825,1.0],\"showgrid\":true},\"yaxis8\":{\"anchor\":\"x8\",\"domain\":[0.6479999999999999,0.7839999999999999],\"showgrid\":true},\"xaxis9\":{\"anchor\":\"y9\",\"domain\":[0.0,0.175],\"showgrid\":true},\"yaxis9\":{\"anchor\":\"x9\",\"domain\":[0.43199999999999994,0.568],\"showgrid\":true},\"xaxis10\":{\"anchor\":\"y10\",\"domain\":[0.275,0.45],\"showgrid\":true},\"yaxis10\":{\"anchor\":\"x10\",\"domain\":[0.43199999999999994,0.568],\"showgrid\":true},\"xaxis11\":{\"anchor\":\"y11\",\"domain\":[0.55,0.7250000000000001],\"showgrid\":true},\"yaxis11\":{\"anchor\":\"x11\",\"domain\":[0.43199999999999994,0.568],\"showgrid\":true},\"xaxis12\":{\"anchor\":\"y12\",\"domain\":[0.825,1.0],\"showgrid\":true},\"yaxis12\":{\"anchor\":\"x12\",\"domain\":[0.43199999999999994,0.568],\"showgrid\":true},\"xaxis13\":{\"anchor\":\"y13\",\"domain\":[0.0,0.175],\"showgrid\":true},\"yaxis13\":{\"anchor\":\"x13\",\"domain\":[0.21599999999999997,0.352],\"showgrid\":true},\"xaxis14\":{\"anchor\":\"y14\",\"domain\":[0.275,0.45],\"showgrid\":true},\"yaxis14\":{\"anchor\":\"x14\",\"domain\":[0.21599999999999997,0.352],\"showgrid\":true},\"xaxis15\":{\"anchor\":\"y15\",\"domain\":[0.55,0.7250000000000001],\"showgrid\":true},\"yaxis15\":{\"anchor\":\"x15\",\"domain\":[0.21599999999999997,0.352],\"showgrid\":true},\"xaxis16\":{\"anchor\":\"y16\",\"domain\":[0.825,1.0],\"showgrid\":true},\"yaxis16\":{\"anchor\":\"x16\",\"domain\":[0.21599999999999997,0.352],\"showgrid\":true},\"xaxis17\":{\"anchor\":\"y17\",\"domain\":[0.0,0.175],\"showgrid\":true},\"yaxis17\":{\"anchor\":\"x17\",\"domain\":[0.0,0.13599999999999998],\"showgrid\":true},\"xaxis18\":{\"anchor\":\"y18\",\"domain\":[0.275,0.45],\"showgrid\":true},\"yaxis18\":{\"anchor\":\"x18\",\"domain\":[0.0,0.13599999999999998],\"showgrid\":true},\"xaxis19\":{\"anchor\":\"y19\",\"domain\":[0.55,0.7250000000000001],\"showgrid\":true},\"yaxis19\":{\"anchor\":\"x19\",\"domain\":[0.0,0.13599999999999998],\"showgrid\":true},\"xaxis20\":{\"anchor\":\"y20\",\"domain\":[0.825,1.0],\"showgrid\":true},\"yaxis20\":{\"anchor\":\"x20\",\"domain\":[0.0,0.13599999999999998],\"showgrid\":true},\"annotations\":[{\"font\":{\"size\":16},\"showarrow\":false,\"text\":\"Topic 0\",\"x\":0.0875,\"xanchor\":\"center\",\"xref\":\"paper\",\"y\":0.9999999999999999,\"yanchor\":\"bottom\",\"yref\":\"paper\"},{\"font\":{\"size\":16},\"showarrow\":false,\"text\":\"Topic 1\",\"x\":0.36250000000000004,\"xanchor\":\"center\",\"xref\":\"paper\",\"y\":0.9999999999999999,\"yanchor\":\"bottom\",\"yref\":\"paper\"},{\"font\":{\"size\":16},\"showarrow\":false,\"text\":\"Topic 2\",\"x\":0.6375000000000001,\"xanchor\":\"center\",\"xref\":\"paper\",\"y\":0.9999999999999999,\"yanchor\":\"bottom\",\"yref\":\"paper\"},{\"font\":{\"size\":16},\"showarrow\":false,\"text\":\"Topic 3\",\"x\":0.9125,\"xanchor\":\"center\",\"xref\":\"paper\",\"y\":0.9999999999999999,\"yanchor\":\"bottom\",\"yref\":\"paper\"},{\"font\":{\"size\":16},\"showarrow\":false,\"text\":\"Topic 4\",\"x\":0.0875,\"xanchor\":\"center\",\"xref\":\"paper\",\"y\":0.7839999999999999,\"yanchor\":\"bottom\",\"yref\":\"paper\"},{\"font\":{\"size\":16},\"showarrow\":false,\"text\":\"Topic 5\",\"x\":0.36250000000000004,\"xanchor\":\"center\",\"xref\":\"paper\",\"y\":0.7839999999999999,\"yanchor\":\"bottom\",\"yref\":\"paper\"},{\"font\":{\"size\":16},\"showarrow\":false,\"text\":\"Topic 6\",\"x\":0.6375000000000001,\"xanchor\":\"center\",\"xref\":\"paper\",\"y\":0.7839999999999999,\"yanchor\":\"bottom\",\"yref\":\"paper\"},{\"font\":{\"size\":16},\"showarrow\":false,\"text\":\"Topic 7\",\"x\":0.9125,\"xanchor\":\"center\",\"xref\":\"paper\",\"y\":0.7839999999999999,\"yanchor\":\"bottom\",\"yref\":\"paper\"},{\"font\":{\"size\":16},\"showarrow\":false,\"text\":\"Topic 8\",\"x\":0.0875,\"xanchor\":\"center\",\"xref\":\"paper\",\"y\":0.568,\"yanchor\":\"bottom\",\"yref\":\"paper\"},{\"font\":{\"size\":16},\"showarrow\":false,\"text\":\"Topic 9\",\"x\":0.36250000000000004,\"xanchor\":\"center\",\"xref\":\"paper\",\"y\":0.568,\"yanchor\":\"bottom\",\"yref\":\"paper\"},{\"font\":{\"size\":16},\"showarrow\":false,\"text\":\"Topic 10\",\"x\":0.6375000000000001,\"xanchor\":\"center\",\"xref\":\"paper\",\"y\":0.568,\"yanchor\":\"bottom\",\"yref\":\"paper\"},{\"font\":{\"size\":16},\"showarrow\":false,\"text\":\"Topic 11\",\"x\":0.9125,\"xanchor\":\"center\",\"xref\":\"paper\",\"y\":0.568,\"yanchor\":\"bottom\",\"yref\":\"paper\"},{\"font\":{\"size\":16},\"showarrow\":false,\"text\":\"Topic 12\",\"x\":0.0875,\"xanchor\":\"center\",\"xref\":\"paper\",\"y\":0.352,\"yanchor\":\"bottom\",\"yref\":\"paper\"},{\"font\":{\"size\":16},\"showarrow\":false,\"text\":\"Topic 13\",\"x\":0.36250000000000004,\"xanchor\":\"center\",\"xref\":\"paper\",\"y\":0.352,\"yanchor\":\"bottom\",\"yref\":\"paper\"},{\"font\":{\"size\":16},\"showarrow\":false,\"text\":\"Topic 14\",\"x\":0.6375000000000001,\"xanchor\":\"center\",\"xref\":\"paper\",\"y\":0.352,\"yanchor\":\"bottom\",\"yref\":\"paper\"},{\"font\":{\"size\":16},\"showarrow\":false,\"text\":\"Topic 15\",\"x\":0.9125,\"xanchor\":\"center\",\"xref\":\"paper\",\"y\":0.352,\"yanchor\":\"bottom\",\"yref\":\"paper\"},{\"font\":{\"size\":16},\"showarrow\":false,\"text\":\"Topic 16\",\"x\":0.0875,\"xanchor\":\"center\",\"xref\":\"paper\",\"y\":0.13599999999999998,\"yanchor\":\"bottom\",\"yref\":\"paper\"},{\"font\":{\"size\":16},\"showarrow\":false,\"text\":\"Topic 17\",\"x\":0.36250000000000004,\"xanchor\":\"center\",\"xref\":\"paper\",\"y\":0.13599999999999998,\"yanchor\":\"bottom\",\"yref\":\"paper\"},{\"font\":{\"size\":16},\"showarrow\":false,\"text\":\"Topic 18\",\"x\":0.6375000000000001,\"xanchor\":\"center\",\"xref\":\"paper\",\"y\":0.13599999999999998,\"yanchor\":\"bottom\",\"yref\":\"paper\"},{\"font\":{\"size\":16},\"showarrow\":false,\"text\":\"Topic 19\",\"x\":0.9125,\"xanchor\":\"center\",\"xref\":\"paper\",\"y\":0.13599999999999998,\"yanchor\":\"bottom\",\"yref\":\"paper\"}],\"title\":{\"font\":{\"size\":22,\"color\":\"Black\"},\"text\":\"Topic Word Scores\",\"x\":0.5,\"xanchor\":\"center\",\"yanchor\":\"top\"},\"hoverlabel\":{\"font\":{\"size\":16,\"family\":\"Rockwell\"},\"bgcolor\":\"white\"},\"showlegend\":false,\"width\":1000,\"height\":1250},                        {\"responsive\": true}                    ).then(function(){\n",
              "                            \n",
              "var gd = document.getElementById('f79acc00-336a-4648-b01b-bd939003f30a');\n",
              "var x = new MutationObserver(function (mutations, observer) {{\n",
              "        var display = window.getComputedStyle(gd).display;\n",
              "        if (!display || display === 'none') {{\n",
              "            console.log([gd, 'removed!']);\n",
              "            Plotly.purge(gd);\n",
              "            observer.disconnect();\n",
              "        }}\n",
              "}});\n",
              "\n",
              "// Listen for the removal of the full notebook cells\n",
              "var notebookContainer = gd.closest('#notebook-container');\n",
              "if (notebookContainer) {{\n",
              "    x.observe(notebookContainer, {childList: true});\n",
              "}}\n",
              "\n",
              "// Listen for the clearing of the current output cell\n",
              "var outputEl = gd.closest('.output');\n",
              "if (outputEl) {{\n",
              "    x.observe(outputEl, {childList: true});\n",
              "}}\n",
              "\n",
              "                        })                };                            </script>        </div>\n",
              "</body>\n",
              "</html>"
            ]
          },
          "metadata": {}
        }
      ]
    },
    {
      "cell_type": "code",
      "source": [
        "# visualize topic similarity\n",
        "new_topic_model.visualize_heatmap(n_clusters=20, width=1000, height=1000)"
      ],
      "metadata": {
        "colab": {
          "base_uri": "https://localhost:8080/",
          "height": 1000
        },
        "id": "JOGQJX_242UY",
        "outputId": "8f832ab1-de71-41a4-cab3-637b9826cf71"
      },
      "execution_count": null,
      "outputs": [
        {
          "output_type": "display_data",
          "data": {
            "text/html": [
              "<html>\n",
              "<head><meta charset=\"utf-8\" /></head>\n",
              "<body>\n",
              "    <div>            <script src=\"https://cdnjs.cloudflare.com/ajax/libs/mathjax/2.7.5/MathJax.js?config=TeX-AMS-MML_SVG\"></script><script type=\"text/javascript\">if (window.MathJax && window.MathJax.Hub && window.MathJax.Hub.Config) {window.MathJax.Hub.Config({SVG: {font: \"STIX-Web\"}});}</script>                <script type=\"text/javascript\">window.PlotlyConfig = {MathJaxConfig: 'local'};</script>\n",
              "        <script src=\"https://cdn.plot.ly/plotly-2.18.2.min.js\"></script>                <div id=\"fa331bc3-bd17-4360-8fcb-75a99e9afb9c\" class=\"plotly-graph-div\" style=\"height:1000px; width:1000px;\"></div>            <script type=\"text/javascript\">                                    window.PLOTLYENV=window.PLOTLYENV || {};                                    if (document.getElementById(\"fa331bc3-bd17-4360-8fcb-75a99e9afb9c\")) {                    Plotly.newPlot(                        \"fa331bc3-bd17-4360-8fcb-75a99e9afb9c\",                        [{\"coloraxis\":\"coloraxis\",\"name\":\"0\",\"x\":[\"0_sandal_foot_comfortable\",\"13_slide_velcro_slides\",\"15_flop_flip_ever\",\"17_slipper_slip_house\",\"23_pair_year_last\",\"45_thong_enjoyed_pair\",\"1_son_gift_love\",\"21_sock_wash_son\",\"2_color_love_shoe\",\"5_arch_foot_shoe\",\"8_running_run_shoe\",\"12_nike_air_price\",\"43_black_nike_pair\",\"3_fit_great_shirt\",\"4_wide_narrow_foot\",\"10_sneaker_fit_love\",\"30_husband_wear_day\",\"31_loosen_foot_band\",\"48_sock_comfortable_use\",\"6_squeak_squeaking_loud\",\"20_shower_water_wet\",\"7_fit_great_iexcl\",\"11_running_fit_great\",\"34_nike_dart_air\",\"42_feel_fit_run\",\"9_small_run_size\",\"18_size_nikes_smaller\",\"24_size_ordered_smaller\",\"35_85_size_one\",\"40_half_size_larger\",\"41_105_size_picked\",\"46_12_toe_wan\",\"14_perfect_nice_expected\",\"16_shipping_order_shipped\",\"25_price_looking_shoes\",\"32_box_came_destroyed\",\"19_size_bigger_small\",\"22_muy_bien_que\",\"26_gym_treadmill_use\",\"50_stability_excellent_cush...\",\"27_foot_hour_feels\",\"44_strap_adjustable_top\",\"28_max_air_breathable\",\"39_pegasus_vomero_running\",\"29_cushion_soft_rib\",\"33_color_weight_compliment\",\"38_quality_product_material\",\"36_daughter_love_pair\",\"37_blue_dark_color\",\"47_great_shoe_workout\",\"49_came_exact_expected\"],\"y\":[\"0_sandal_foot_comfortable\",\"13_slide_velcro_slides\",\"15_flop_flip_ever\",\"17_slipper_slip_house\",\"23_pair_year_last\",\"45_thong_enjoyed_pair\",\"1_son_gift_love\",\"21_sock_wash_son\",\"2_color_love_shoe\",\"5_arch_foot_shoe\",\"8_running_run_shoe\",\"12_nike_air_price\",\"43_black_nike_pair\",\"3_fit_great_shirt\",\"4_wide_narrow_foot\",\"10_sneaker_fit_love\",\"30_husband_wear_day\",\"31_loosen_foot_band\",\"48_sock_comfortable_use\",\"6_squeak_squeaking_loud\",\"20_shower_water_wet\",\"7_fit_great_iexcl\",\"11_running_fit_great\",\"34_nike_dart_air\",\"42_feel_fit_run\",\"9_small_run_size\",\"18_size_nikes_smaller\",\"24_size_ordered_smaller\",\"35_85_size_one\",\"40_half_size_larger\",\"41_105_size_picked\",\"46_12_toe_wan\",\"14_perfect_nice_expected\",\"16_shipping_order_shipped\",\"25_price_looking_shoes\",\"32_box_came_destroyed\",\"19_size_bigger_small\",\"22_muy_bien_que\",\"26_gym_treadmill_use\",\"50_stability_excellent_cush...\",\"27_foot_hour_feels\",\"44_strap_adjustable_top\",\"28_max_air_breathable\",\"39_pegasus_vomero_running\",\"29_cushion_soft_rib\",\"33_color_weight_compliment\",\"38_quality_product_material\",\"36_daughter_love_pair\",\"37_blue_dark_color\",\"47_great_shoe_workout\",\"49_came_exact_expected\"],\"z\":[[0.9999999403953552,0.6605628728866577,0.700790286064148,0.6845575571060181,0.657502293586731,0.6575348377227783,0.650404691696167,0.6212644577026367,0.6949499845504761,0.6783962845802307,0.6409920454025269,0.6727056503295898,0.7482695579528809,0.6542791128158569,0.6688423156738281,0.6438472270965576,0.6394703388214111,0.6683363914489746,0.6887263059616089,0.6290752291679382,0.6839178800582886,0.691656768321991,0.6498113870620728,0.7223281860351562,0.672114372253418,0.622917890548706,0.6659780144691467,0.6081992983818054,0.5940314531326294,0.6588176488876343,0.623396635055542,0.61640465259552,0.25551196932792664,0.5925678014755249,0.6375423073768616,0.5855286121368408,0.5445526838302612,0.2518043518066406,0.6452693343162537,0.592177152633667,0.665608823299408,0.6345218420028687,0.6515229940414429,0.5836694240570068,0.6827752590179443,0.6137838959693909,0.5885365009307861,0.5617249608039856,0.37378278374671936,0.5196835994720459,0.5312931537628174],[0.6605628728866577,1.0000001192092896,0.7539235353469849,0.7483343482017517,0.6841590404510498,0.697884202003479,0.6749261617660522,0.6108945608139038,0.7183927297592163,0.6832271814346313,0.6721848249435425,0.6296731233596802,0.7049481868743896,0.5692844390869141,0.6009089946746826,0.6448386907577515,0.6607955694198608,0.630003035068512,0.6725042462348938,0.6054106950759888,0.6256911754608154,0.6512589454650879,0.6207588911056519,0.6308408975601196,0.6361097097396851,0.5644729137420654,0.5698318481445312,0.538081169128418,0.5719685554504395,0.6027201414108276,0.515297532081604,0.5546514987945557,0.28951096534729004,0.6031107902526855,0.647836446762085,0.5869965553283691,0.4385293126106262,0.21592500805854797,0.6581116914749146,0.6123009920120239,0.6649678349494934,0.7091606855392456,0.5582385063171387,0.566422164440155,0.6338768005371094,0.6087226271629333,0.5935776829719543,0.6319851875305176,0.36499613523483276,0.5419963598251343,0.4869581460952759],[0.700790286064148,0.7539235353469849,0.9999999403953552,0.7739102840423584,0.7051643133163452,0.7724391222000122,0.6398718953132629,0.5768429040908813,0.7416794300079346,0.6738008260726929,0.6874607801437378,0.6777124404907227,0.7669975757598877,0.5982167720794678,0.6275368332862854,0.6750830411911011,0.6555773019790649,0.6303508877754211,0.7055429220199585,0.5705897808074951,0.641883134841919,0.671249270439148,0.6553545594215393,0.6740735769271851,0.6647983193397522,0.603010892868042,0.6105301380157471,0.5604755282402039,0.5956304669380188,0.6320651769638062,0.5581468939781189,0.6088595390319824,0.25558507442474365,0.5776638984680176,0.6496987342834473,0.5955407023429871,0.43970441818237305,0.19226761162281036,0.6495457887649536,0.6205694675445557,0.6673787236213684,0.6366262435913086,0.6327517628669739,0.621057391166687,0.6619715690612793,0.6313762664794922,0.5858427286148071,0.5745230913162231,0.3481968939304352,0.5427864789962769,0.4679121673107147],[0.6845575571060181,0.7483343482017517,0.7739102840423584,1.000000238418579,0.6336860656738281,0.6982922554016113,0.5994542837142944,0.5923625230789185,0.6961698532104492,0.6641918420791626,0.5992950201034546,0.5660120248794556,0.6801847219467163,0.59485924243927,0.6779417991638184,0.6937669515609741,0.6515321731567383,0.6565462350845337,0.7091510891914368,0.5646042823791504,0.6881689429283142,0.6697086095809937,0.5954728126525879,0.6293319463729858,0.6710250377655029,0.5723481178283691,0.5700747966766357,0.5722067356109619,0.5856994390487671,0.6388652324676514,0.5601145029067993,0.6106520891189575,0.19598880410194397,0.5467983484268188,0.5977360010147095,0.5291779637336731,0.46564000844955444,0.1654009222984314,0.6149024963378906,0.5842394828796387,0.7239574193954468,0.714683473110199,0.528033971786499,0.5335232019424438,0.6703094244003296,0.5786059498786926,0.5836931467056274,0.558849036693573,0.2897123098373413,0.4913678467273712,0.4905312657356262],[0.657502293586731,0.6841590404510498,0.7051643133163452,0.6336860656738281,0.9999998807907104,0.7712451219558716,0.6477373838424683,0.5581850409507751,0.7339283227920532,0.6166284680366516,0.6465603113174438,0.6818641424179077,0.7707332372665405,0.629001796245575,0.5549108982086182,0.6721692681312561,0.6974143981933594,0.6203230023384094,0.716198205947876,0.5389020442962646,0.5451633930206299,0.6477426290512085,0.5891287326812744,0.6317835450172424,0.5650548934936523,0.5157641768455505,0.5805989503860474,0.5292470455169678,0.582135796546936,0.589214026927948,0.532228410243988,0.5447222590446472,0.2820941209793091,0.592962384223938,0.6852858662605286,0.5874338150024414,0.42528873682022095,0.19623732566833496,0.6528874635696411,0.5258726477622986,0.6491410732269287,0.5211365222930908,0.6526408791542053,0.6000570058822632,0.6358249187469482,0.6816332936286926,0.6715805530548096,0.5782046914100647,0.4207952618598938,0.533202052116394,0.49161750078201294],[0.6575348377227783,0.697884202003479,0.7724391222000122,0.6982922554016113,0.7712451219558716,0.9999997615814209,0.6322516798973083,0.6050618290901184,0.7339112162590027,0.6111773252487183,0.6194385290145874,0.6687110662460327,0.7664258480072021,0.6330238580703735,0.5773048400878906,0.6812171936035156,0.6513652801513672,0.6324640512466431,0.7069970369338989,0.559079110622406,0.6081269383430481,0.672627329826355,0.6087974309921265,0.6491485238075256,0.5994455814361572,0.5424413681030273,0.6133608818054199,0.5601099729537964,0.5743370056152344,0.6265900731086731,0.5307640433311462,0.5720759630203247,0.28718262910842896,0.5867980718612671,0.6581264734268188,0.5495891571044922,0.4355592131614685,0.2472248077392578,0.606644868850708,0.5217803716659546,0.5727584958076477,0.5472543239593506,0.6263214349746704,0.5752061605453491,0.6296992301940918,0.6365255117416382,0.5806065797805786,0.6108332872390747,0.41196179389953613,0.5327650904655457,0.479278564453125],[0.650404691696167,0.6749261617660522,0.6398718953132629,0.5994542837142944,0.6477373838424683,0.6322516798973083,0.9999998211860657,0.7550526857376099,0.7365050315856934,0.6403204798698425,0.6586134433746338,0.6965655088424683,0.7034750580787659,0.6914854645729065,0.646172046661377,0.7268083095550537,0.7437227964401245,0.6876397132873535,0.6391100287437439,0.5831441879272461,0.526978611946106,0.7416985034942627,0.6618185043334961,0.704613983631134,0.6217007637023926,0.6405394077301025,0.6821539402008057,0.6621067523956299,0.6058074235916138,0.7046616077423096,0.5998666286468506,0.6283620595932007,0.35765892267227173,0.7130737900733948,0.7348581552505493,0.6908998489379883,0.5680907964706421,0.27936968207359314,0.6028934717178345,0.5334598422050476,0.6087228059768677,0.6029516458511353,0.6655583381652832,0.586103081703186,0.5815171599388123,0.6146221160888672,0.5415748357772827,0.7893019318580627,0.47910791635513306,0.5641378164291382,0.6053497195243835],[0.6212644577026367,0.6108945608139038,0.5768429040908813,0.5923625230789185,0.5581850409507751,0.6050618290901184,0.7550526857376099,1.0,0.6756390929222107,0.654742956161499,0.6126378178596497,0.6348292827606201,0.6712427735328674,0.6138033866882324,0.6618579626083374,0.667255163192749,0.6645469665527344,0.7054531574249268,0.7638897895812988,0.5719622373580933,0.5717021226882935,0.7094155550003052,0.6442272663116455,0.6862074136734009,0.6524537205696106,0.6458256244659424,0.6753985285758972,0.647307813167572,0.6033058166503906,0.6862486004829407,0.6018712520599365,0.6396464109420776,0.272382915019989,0.591680645942688,0.6314225196838379,0.6227350234985352,0.5381371378898621,0.2255484163761139,0.5614295601844788,0.542617917060852,0.5990400314331055,0.5930041074752808,0.5800015926361084,0.4948558807373047,0.4946959316730499,0.4917988181114197,0.42319637537002563,0.5955197811126709,0.3595103919506073,0.5761342644691467,0.5108808279037476],[0.6949499845504761,0.7183927297592163,0.7416794300079346,0.6961698532104492,0.7339283227920532,0.7339112162590027,0.7365050315856934,0.6756390929222107,1.0,0.8083755970001221,0.8584407567977905,0.7961053252220154,0.8578108549118042,0.6531777381896973,0.7579343318939209,0.8064573407173157,0.8307228684425354,0.8030545115470886,0.8214834928512573,0.6893877983093262,0.6344751119613647,0.8799274563789368,0.8001614809036255,0.8057264089584351,0.8062393069267273,0.665024995803833,0.6813074350357056,0.6595641374588013,0.6441065073013306,0.7581945657730103,0.621636152267456,0.7079336643218994,0.33006417751312256,0.7616956233978271,0.850645899772644,0.7534446716308594,0.423641562461853,0.26599717140197754,0.7459542751312256,0.7681453824043274,0.7745497822761536,0.6807883977890015,0.7544919848442078,0.7160171866416931,0.6252173185348511,0.7399307489395142,0.6440598964691162,0.7035105228424072,0.5356916189193726,0.803372859954834,0.4936503469944],[0.6783962845802307,0.6832271814346313,0.6738008260726929,0.6641918420791626,0.6166284680366516,0.6111773252487183,0.6403204798698425,0.654742956161499,0.8083755970001221,1.000000238418579,0.8046647906303406,0.766343355178833,0.8230377435684204,0.5279395580291748,0.7766571044921875,0.67474365234375,0.7398099899291992,0.7785767912864685,0.7610461711883545,0.7972733974456787,0.6683762073516846,0.776903510093689,0.752722978591919,0.8017061948776245,0.8342937231063843,0.707324743270874,0.709010124206543,0.6921833157539368,0.6425777673721313,0.7132968306541443,0.6188248991966248,0.6991372108459473,0.2342343032360077,0.6876052021980286,0.7347966432571411,0.6870419979095459,0.434034526348114,0.2289286106824875,0.7958815097808838,0.8128319978713989,0.8130795359611511,0.7252252101898193,0.6856206059455872,0.7308976650238037,0.613243818283081,0.517633318901062,0.4651407301425934,0.5791558027267456,0.326373815536499,0.6312337517738342,0.47381702065467834],[0.6409920454025269,0.6721848249435425,0.6874607801437378,0.5992950201034546,0.6465603113174438,0.6194385290145874,0.6586134433746338,0.6126378178596497,0.8584407567977905,0.8046647906303406,1.000000238418579,0.7717691659927368,0.8028407096862793,0.584169328212738,0.6792731285095215,0.729999303817749,0.7169106602668762,0.6723282337188721,0.7444878816604614,0.6467677354812622,0.5957784652709961,0.7864648103713989,0.9210354089736938,0.784372091293335,0.832093358039856,0.781387448310852,0.6864182949066162,0.587074875831604,0.6650851368904114,0.6884818077087402,0.5846408605575562,0.6462962627410889,0.2923889756202698,0.6514503955841064,0.7652746438980103,0.6781154870986938,0.3675733804702759,0.2503054141998291,0.8155695199966431,0.8593192100524902,0.6974401473999023,0.596616268157959,0.714874267578125,0.7863577604293823,0.5336917638778687,0.6085805892944336,0.5326975584030151,0.5985879302024841,0.37541455030441284,0.7398278713226318,0.44359415769577026],[0.6727056503295898,0.6296731233596802,0.6777124404907227,0.5660120248794556,0.6818641424179077,0.6687110662460327,0.6965655088424683,0.6348292827606201,0.7961053252220154,0.766343355178833,0.7717691659927368,0.9999999403953552,0.8981268405914307,0.5881468057632446,0.6418286561965942,0.7336611151695251,0.6698741912841797,0.6522013545036316,0.6832191944122314,0.7172657251358032,0.570828914642334,0.7442502975463867,0.7392885684967041,0.8786168694496155,0.6988791227340698,0.6456774473190308,0.8295785784721375,0.6410291194915771,0.6241769790649414,0.6486527919769287,0.5766929388046265,0.5938616991043091,0.2637172341346741,0.7079017758369446,0.8155187368392944,0.7222491502761841,0.4256975054740906,0.33213645219802856,0.7262398600578308,0.68828284740448,0.610048770904541,0.5189592838287354,0.8048100471496582,0.7641388177871704,0.5888980031013489,0.6036968231201172,0.5323578119277954,0.5964083671569824,0.4148109555244446,0.6165575385093689,0.49650710821151733],[0.7482695579528809,0.7049481868743896,0.7669975757598877,0.6801847219467163,0.7707332372665405,0.7664258480072021,0.7034750580787659,0.6712427735328674,0.8578108549118042,0.8230377435684204,0.8028407096862793,0.8981268405914307,0.9999998807907104,0.5999400615692139,0.7169935703277588,0.7507792711257935,0.7505089044570923,0.7325339317321777,0.7847398519515991,0.7323546409606934,0.6513586044311523,0.7901873588562012,0.7707070112228394,0.890211820602417,0.7798478603363037,0.713379442691803,0.8271280527114868,0.6700288653373718,0.6954784393310547,0.7314400672912598,0.6440693736076355,0.7005594968795776,0.25289851427078247,0.6881641149520874,0.7763738632202148,0.7068227529525757,0.462125301361084,0.2914186120033264,0.7430546283721924,0.7339199781417847,0.6918469667434692,0.613616406917572,0.771127462387085,0.7235948443412781,0.6357009410858154,0.6130844354629517,0.5454278588294983,0.6372419595718384,0.42369794845581055,0.6505643725395203,0.4749720096588135],[0.6542791128158569,0.5692844390869141,0.5982167720794678,0.59485924243927,0.629001796245575,0.6330238580703735,0.6914854645729065,0.6138033866882324,0.6531777381896973,0.5279395580291748,0.584169328212738,0.5881468057632446,0.5999400615692139,0.9999999403953552,0.6835554838180542,0.7249974012374878,0.6152623891830444,0.7464466094970703,0.6424670815467834,0.4287022352218628,0.5042356848716736,0.8155409097671509,0.7554447054862976,0.6616964340209961,0.7018611431121826,0.6299362182617188,0.6646568775177002,0.6266647577285767,0.6319389939308167,0.6828451752662659,0.6359541416168213,0.593897819519043,0.3830050230026245,0.5475971698760986,0.5681819915771484,0.5342016816139221,0.6471555233001709,0.21080762147903442,0.5878815054893494,0.47071680426597595,0.5789799690246582,0.6395794153213501,0.5877196788787842,0.540468156337738,0.6519412398338318,0.7457412481307983,0.7078059315681458,0.5187170505523682,0.4790935218334198,0.5138168334960938,0.7945655584335327],[0.6688423156738281,0.6009089946746826,0.6275368332862854,0.6779417991638184,0.5549108982086182,0.5773048400878906,0.646172046661377,0.6618579626083374,0.7579343318939209,0.7766571044921875,0.6792731285095215,0.6418286561965942,0.7169935703277588,0.6835554838180542,1.0,0.7366393208503723,0.7233405709266663,0.8532624244689941,0.7270888090133667,0.6226513981819153,0.5793408155441284,0.8407589197158813,0.7486017942428589,0.7934514284133911,0.8306194543838501,0.7574927806854248,0.7484610676765442,0.7774602174758911,0.6873036026954651,0.8114088177680969,0.7534475326538086,0.7994716167449951,0.24277827143669128,0.6280359029769897,0.6679190397262573,0.6549633741378784,0.6515032052993774,0.18813049793243408,0.621895432472229,0.6626347303390503,0.7407729029655457,0.7880260944366455,0.5948424339294434,0.6013562679290771,0.5785853266716003,0.525543212890625,0.48733097314834595,0.5372677445411682,0.3085139989852905,0.6154622435569763,0.5671026706695557],[0.6438472270965576,0.6448386907577515,0.6750830411911011,0.6937669515609741,0.6721692681312561,0.6812171936035156,0.7268083095550537,0.667255163192749,0.8064573407173157,0.67474365234375,0.729999303817749,0.7336611151695251,0.7507792711257935,0.7249974012374878,0.7366393208503723,0.9999998807907104,0.7604919672012329,0.7296556234359741,0.7217710018157959,0.622470498085022,0.5619993209838867,0.8413036465644836,0.7650995254516602,0.7920527458190918,0.749543309211731,0.690576434135437,0.7126063108444214,0.6797367334365845,0.6724441051483154,0.7401009798049927,0.6232786178588867,0.6677877902984619,0.2829723358154297,0.6782364845275879,0.7600040435791016,0.6971745491027832,0.5110464096069336,0.1845369040966034,0.6593078374862671,0.6305419206619263,0.6148205995559692,0.6531273126602173,0.7323474884033203,0.6669545769691467,0.5700610280036926,0.603447437286377,0.5221397876739502,0.6296677589416504,0.43691617250442505,0.6594076752662659,0.5980422496795654],[0.6394703388214111,0.6607955694198608,0.6555773019790649,0.6515321731567383,0.6974143981933594,0.6513652801513672,0.7437227964401245,0.6645469665527344,0.8307228684425354,0.7398099899291992,0.7169106602668762,0.6698741912841797,0.7505089044570923,0.6152623891830444,0.7233405709266663,0.7604919672012329,1.0,0.7356964349746704,0.7529705762863159,0.6476134061813354,0.6058852076530457,0.7891584634780884,0.6796888709068298,0.7277806997299194,0.7202374935150146,0.6313730478286743,0.6282123923301697,0.6631842255592346,0.612717866897583,0.7256981134414673,0.602612316608429,0.6540127396583557,0.2736837863922119,0.6604291200637817,0.7407101988792419,0.6569631099700928,0.43990403413772583,0.1686709225177765,0.6778979301452637,0.6423056125640869,0.6974529027938843,0.6513455510139465,0.6533735990524292,0.6120185852050781,0.5557477474212646,0.5736964344978333,0.5496218204498291,0.6382253170013428,0.36997494101524353,0.6939196586608887,0.4945187568664551],[0.6683363914489746,0.630003035068512,0.6303508877754211,0.6565462350845337,0.6203230023384094,0.6324640512466431,0.6876397132873535,0.7054531574249268,0.8030545115470886,0.7785767912864685,0.6723282337188721,0.6522013545036316,0.7325339317321777,0.7464466094970703,0.8532624244689941,0.7296556234359741,0.7356964349746704,0.9999997615814209,0.717082142829895,0.6296631097793579,0.5798484683036804,0.8737913370132446,0.7423864603042603,0.7510139346122742,0.8037651777267456,0.6790074110031128,0.6927608847618103,0.7566462755203247,0.6300680637359619,0.7648910284042358,0.6585786938667297,0.718200147151947,0.29789310693740845,0.6947322487831116,0.6960676312446594,0.6827563047409058,0.5683495998382568,0.20752300322055817,0.6192318201065063,0.5868237018585205,0.7846643924713135,0.7999652624130249,0.5999712944030762,0.5809673070907593,0.5564902424812317,0.6075416803359985,0.5329355001449585,0.579392671585083,0.48770350217819214,0.6346278190612793,0.6501458883285522],[0.6887263059616089,0.6725042462348938,0.7055429220199585,0.7091510891914368,0.716198205947876,0.7069970369338989,0.6391100287437439,0.7638897895812988,0.8214834928512573,0.7610461711883545,0.7444878816604614,0.6832191944122314,0.7847398519515991,0.6424670815467834,0.7270888090133667,0.7217710018157959,0.7529705762863159,0.717082142829895,1.0,0.6347578763961792,0.6486560702323914,0.7994110584259033,0.7335735559463501,0.7498959302902222,0.7986693978309631,0.7035422325134277,0.6872463226318359,0.64240962266922,0.6786739826202393,0.7570606470108032,0.6639930605888367,0.7445517778396606,0.20068109035491943,0.6049836874008179,0.7055182456970215,0.6553932428359985,0.4679449200630188,0.19104965031147003,0.7374511361122131,0.7554200887680054,0.7564228773117065,0.694701075553894,0.65123051404953,0.6008110046386719,0.6083719730377197,0.6045699715614319,0.6052595973014832,0.564125657081604,0.2872891426086426,0.6420282125473022,0.46867451071739197],[0.6290752291679382,0.6054106950759888,0.5705897808074951,0.5646042823791504,0.5389020442962646,0.559079110622406,0.5831441879272461,0.5719622373580933,0.6893877983093262,0.7972733974456787,0.6467677354812622,0.7172657251358032,0.7323546409606934,0.4287022352218628,0.6226513981819153,0.622470498085022,0.6476134061813354,0.6296631097793579,0.6347578763961792,1.000000238418579,0.5875939130783081,0.6602351665496826,0.5834808349609375,0.7095797061920166,0.6426410675048828,0.5565877556800842,0.6259346008300781,0.5974162817001343,0.5335156917572021,0.5855341553688049,0.5104947090148926,0.5688720941543579,0.2288007289171219,0.6418220400810242,0.6734480857849121,0.628456711769104,0.3483954668045044,0.1916111707687378,0.6391226053237915,0.6315884590148926,0.6288677453994751,0.5857272148132324,0.6248798370361328,0.6221011877059937,0.5305253863334656,0.40261149406433105,0.399807870388031,0.5343637466430664,0.2847336530685425,0.562630295753479,0.3854256868362427],[0.6839178800582886,0.6256911754608154,0.641883134841919,0.6881689429283142,0.5451633930206299,0.6081269383430481,0.526978611946106,0.5717021226882935,0.6344751119613647,0.6683762073516846,0.5957784652709961,0.570828914642334,0.6513586044311523,0.5042356848716736,0.5793408155441284,0.5619993209838867,0.6058852076530457,0.5798484683036804,0.6486560702323914,0.5875939130783081,1.0000003576278687,0.6081339120864868,0.5603280663490295,0.6134920120239258,0.6285660266876221,0.5513006448745728,0.5670899152755737,0.554918646812439,0.541098415851593,0.5645414590835571,0.528192400932312,0.5517424941062927,0.17064812779426575,0.5277078151702881,0.5601256489753723,0.4817654490470886,0.40126168727874756,0.17599177360534668,0.6504029035568237,0.5870534181594849,0.6511901617050171,0.5877619385719299,0.5399752259254456,0.5302857160568237,0.5840421915054321,0.5148619413375854,0.49417975544929504,0.4676552712917328,0.2887812852859497,0.477992445230484,0.42840278148651123],[0.691656768321991,0.6512589454650879,0.671249270439148,0.6697086095809937,0.6477426290512085,0.672627329826355,0.7416985034942627,0.7094155550003052,0.8799274563789368,0.776903510093689,0.7864648103713989,0.7442502975463867,0.7901873588562012,0.8155409097671509,0.8407589197158813,0.8413036465644836,0.7891584634780884,0.8737913370132446,0.7994110584259033,0.6602351665496826,0.6081339120864868,1.0,0.8760370016098022,0.8598209619522095,0.908784031867981,0.7817230224609375,0.7881884574890137,0.8109936714172363,0.7293057441711426,0.8590718507766724,0.7417949438095093,0.7696552276611328,0.30556610226631165,0.7761017084121704,0.7976141571998596,0.7613586187362671,0.5762932896614075,0.2359175831079483,0.6844775676727295,0.6980764865875244,0.6890143752098083,0.7337077856063843,0.6973615884780884,0.6806789040565491,0.5755236744880676,0.6241811513900757,0.5477584600448608,0.6142057180404663,0.44092005491256714,0.7466590404510498,0.7095515131950378],[0.6498113870620728,0.6207588911056519,0.6553545594215393,0.5954728126525879,0.5891287326812744,0.6087974309921265,0.6618185043334961,0.6442272663116455,0.8001614809036255,0.752722978591919,0.9210354089736938,0.7392885684967041,0.7707070112228394,0.7554447054862976,0.7486017942428589,0.7650995254516602,0.6796888709068298,0.7423864603042603,0.7335735559463501,0.5834808349609375,0.5603280663490295,0.8760370016098022,0.9999998807907104,0.831193208694458,0.8963748216629028,0.854349672794342,0.7749239206314087,0.6807000637054443,0.7297811508178711,0.7528689503669739,0.6757053136825562,0.6924467086791992,0.2727159261703491,0.6213825941085815,0.7071707248687744,0.6592919826507568,0.5082089900970459,0.23191383481025696,0.7325708866119385,0.788336455821991,0.6286705732345581,0.6323665380477905,0.6799831390380859,0.7586377859115601,0.5470205545425415,0.6113743782043457,0.5054342746734619,0.5614358186721802,0.4002099633216858,0.6668447256088257,0.5966353416442871],[0.7223281860351562,0.6308408975601196,0.6740735769271851,0.6293319463729858,0.6317835450172424,0.6491485238075256,0.704613983631134,0.6862074136734009,0.8057264089584351,0.8017061948776245,0.784372091293335,0.8786168694496155,0.890211820602417,0.6616964340209961,0.7934514284133911,0.7920527458190918,0.7277806997299194,0.7510139346122742,0.7498959302902222,0.7095797061920166,0.6134920120239258,0.8598209619522095,0.831193208694458,1.0000003576278687,0.8464779853820801,0.8084580898284912,0.9020628929138184,0.7857381105422974,0.7777174711227417,0.8055849075317383,0.7595632076263428,0.7370191812515259,0.22630536556243896,0.7142037153244019,0.7877180576324463,0.727565586566925,0.5730065107345581,0.2851272225379944,0.722353994846344,0.7418770790100098,0.646815299987793,0.6419345140457153,0.7888765335083008,0.7476674318313599,0.5804678201675415,0.55534827709198,0.4547702670097351,0.5865933895111084,0.37100887298583984,0.6367121338844299,0.5645880699157715],[0.672114372253418,0.6361097097396851,0.6647983193397522,0.6710250377655029,0.5650548934936523,0.5994455814361572,0.6217007637023926,0.6524537205696106,0.8062393069267273,0.8342937231063843,0.832093358039856,0.6988791227340698,0.7798478603363037,0.7018611431121826,0.8306194543838501,0.749543309211731,0.7202374935150146,0.8037651777267456,0.7986693978309631,0.6426410675048828,0.6285660266876221,0.908784031867981,0.8963748216629028,0.8464779853820801,0.9999998807907104,0.8048453330993652,0.7542988061904907,0.7187341451644897,0.7261362075805664,0.7982771396636963,0.7137554883956909,0.7367249727249146,0.20773197710514069,0.6331289410591125,0.7108885049819946,0.6657446622848511,0.477533757686615,0.22675859928131104,0.7289396524429321,0.7988039255142212,0.7294609546661377,0.7383965253829956,0.6417612433433533,0.6754647493362427,0.5572855472564697,0.4964495003223419,0.49258914589881897,0.5123405456542969,0.2546655237674713,0.6944150924682617,0.5644559860229492],[0.622917890548706,0.5644729137420654,0.603010892868042,0.5723481178283691,0.5157641768455505,0.5424413681030273,0.6405394077301025,0.6458256244659424,0.665024995803833,0.707324743270874,0.781387448310852,0.6456774473190308,0.713379442691803,0.6299362182617188,0.7574927806854248,0.690576434135437,0.6313730478286743,0.6790074110031128,0.7035422325134277,0.5565877556800842,0.5513006448745728,0.7817230224609375,0.854349672794342,0.8084580898284912,0.8048453330993652,0.9999998211860657,0.8637268543243408,0.823543131351471,0.8065931797027588,0.8758533000946045,0.7932780981063843,0.8093250393867493,0.21436864137649536,0.568126916885376,0.6151713132858276,0.5882241725921631,0.730319619178772,0.20070242881774902,0.6298982501029968,0.7036848068237305,0.560645580291748,0.5992478132247925,0.6046414971351624,0.6562679409980774,0.4240792691707611,0.4470462203025818,0.3389081358909607,0.5300847887992859,0.2717723250389099,0.5639311075210571,0.5421987771987915],[0.6659780144691467,0.5698318481445312,0.6105301380157471,0.5700747966766357,0.5805989503860474,0.6133608818054199,0.6821539402008057,0.6753985285758972,0.6813074350357056,0.709010124206543,0.6864182949066162,0.8295785784721375,0.8271280527114868,0.6646568775177002,0.7484610676765442,0.7126063108444214,0.6282123923301697,0.6927608847618103,0.6872463226318359,0.6259346008300781,0.5670899152755737,0.7881884574890137,0.7749239206314087,0.9020628929138184,0.7542988061904907,0.8637268543243408,0.9999998807907104,0.8339197635650635,0.7759917974472046,0.8167455792427063,0.7743551731109619,0.7623506784439087,0.20381644368171692,0.6250755786895752,0.6708734035491943,0.6309508085250854,0.7240639925003052,0.25229448080062866,0.6560623049736023,0.6450914144515991,0.5372641682624817,0.5704699754714966,0.6861697435379028,0.6734209060668945,0.5065100789070129,0.5055549740791321,0.3880459666252136,0.545954704284668,0.31872835755348206,0.5384806990623474,0.5666475296020508],[0.6081992983818054,0.538081169128418,0.5604755282402039,0.5722067356109619,0.5292470455169678,0.5601099729537964,0.6621067523956299,0.647307813167572,0.6595641374588013,0.6921833157539368,0.587074875831604,0.6410291194915771,0.6700288653373718,0.6266647577285767,0.7774602174758911,0.6797367334365845,0.6631842255592346,0.7566462755203247,0.64240962266922,0.5974162817001343,0.554918646812439,0.8109936714172363,0.6807000637054443,0.7857381105422974,0.7187341451644897,0.823543131351471,0.8339197635650635,1.0,0.7286078929901123,0.8479384183883667,0.7791792154312134,0.7793749570846558,0.23638013005256653,0.7457438111305237,0.6883798837661743,0.6817312240600586,0.766050398349762,0.211543470621109,0.5216317176818848,0.5226925015449524,0.5602048635482788,0.6187840700149536,0.5684881210327148,0.5867536664009094,0.4457540810108185,0.4350297152996063,0.3398020267486572,0.5295228362083435,0.357305645942688,0.5503561496734619,0.6687352061271667],[0.5940314531326294,0.5719685554504395,0.5956304669380188,0.5856994390487671,0.582135796546936,0.5743370056152344,0.6058074235916138,0.6033058166503906,0.6441065073013306,0.6425777673721313,0.6650851368904114,0.6241769790649414,0.6954784393310547,0.6319389939308167,0.6873036026954651,0.6724441051483154,0.612717866897583,0.6300680637359619,0.6786739826202393,0.5335156917572021,0.541098415851593,0.7293057441711426,0.7297811508178711,0.7777174711227417,0.7261362075805664,0.8065931797027588,0.7759917974472046,0.7286078929901123,1.0000003576278687,0.7571001052856445,0.8502644300460815,0.6799089312553406,0.22697877883911133,0.5436325073242188,0.598419725894928,0.5645164251327515,0.6283138990402222,0.19510602951049805,0.6001877188682556,0.5889703035354614,0.5443360209465027,0.5644071102142334,0.6314857006072998,0.5763248205184937,0.4547535479068756,0.49232473969459534,0.3998817205429077,0.5029271841049194,0.2817440927028656,0.5319227576255798,0.5458486080169678],[0.6588176488876343,0.6027201414108276,0.6320651769638062,0.6388652324676514,0.589214026927948,0.6265900731086731,0.7046616077423096,0.6862486004829407,0.7581945657730103,0.7132968306541443,0.6884818077087402,0.6486527919769287,0.7314400672912598,0.6828451752662659,0.8114088177680969,0.7401009798049927,0.7256981134414673,0.7648910284042358,0.7570606470108032,0.5855341553688049,0.5645414590835571,0.8590718507766724,0.7528689503669739,0.8055849075317383,0.7982771396636963,0.8758533000946045,0.8167455792427063,0.8479384183883667,0.7571001052856445,1.0000001192092896,0.7885171175003052,0.8345203399658203,0.28149351477622986,0.667507529258728,0.6984254121780396,0.666908860206604,0.7441070079803467,0.20526659488677979,0.594424843788147,0.6235513687133789,0.6325768232345581,0.6471533179283142,0.6468355655670166,0.5887129902839661,0.47276508808135986,0.511432409286499,0.43612200021743774,0.5850942134857178,0.3455510139465332,0.633590817451477,0.5906695127487183],[0.623396635055542,0.515297532081604,0.5581468939781189,0.5601145029067993,0.532228410243988,0.5307640433311462,0.5998666286468506,0.6018712520599365,0.621636152267456,0.6188248991966248,0.5846408605575562,0.5766929388046265,0.6440693736076355,0.6359541416168213,0.7534475326538086,0.6232786178588867,0.602612316608429,0.6585786938667297,0.6639930605888367,0.5104947090148926,0.528192400932312,0.7417949438095093,0.6757053136825562,0.7595632076263428,0.7137554883956909,0.7932780981063843,0.7743551731109619,0.7791792154312134,0.8502644300460815,0.7885171175003052,0.9999998211860657,0.7591303586959839,0.18155798316001892,0.5725050568580627,0.5948477983474731,0.5672428011894226,0.6853474378585815,0.19505427777767181,0.5266935229301453,0.5529391765594482,0.5394651889801025,0.5798566937446594,0.5716533660888672,0.5409188270568848,0.43044623732566833,0.465387225151062,0.37444737553596497,0.4662722647190094,0.32064372301101685,0.48392051458358765,0.5344481468200684],[0.61640465259552,0.5546514987945557,0.6088595390319824,0.6106520891189575,0.5447222590446472,0.5720759630203247,0.6283620595932007,0.6396464109420776,0.7079336643218994,0.6991372108459473,0.6462962627410889,0.5938616991043091,0.7005594968795776,0.593897819519043,0.7994716167449951,0.6677877902984619,0.6540127396583557,0.718200147151947,0.7445517778396606,0.5688720941543579,0.5517424941062927,0.7696552276611328,0.6924467086791992,0.7370191812515259,0.7367249727249146,0.8093250393867493,0.7623506784439087,0.7793749570846558,0.6799089312553406,0.8345203399658203,0.7591303586959839,0.9999998807907104,0.18760758638381958,0.5895786285400391,0.6289335489273071,0.5953730344772339,0.6880619525909424,0.2010991871356964,0.6010698676109314,0.6643364429473877,0.6294218301773071,0.6618069410324097,0.5717874765396118,0.5497491955757141,0.468140184879303,0.469845175743103,0.3866897225379944,0.5184388160705566,0.2975429892539978,0.5656476020812988,0.4743410646915436],[0.25551196932792664,0.28951096534729004,0.25558507442474365,0.19598880410194397,0.2820941209793091,0.28718262910842896,0.35765892267227173,0.272382915019989,0.33006417751312256,0.2342343032360077,0.2923889756202698,0.2637172341346741,0.25289851427078247,0.3830050230026245,0.24277827143669128,0.2829723358154297,0.2736837863922119,0.29789310693740845,0.20068109035491943,0.2288007289171219,0.17064812779426575,0.30556610226631165,0.2727159261703491,0.22630536556243896,0.20773197710514069,0.21436864137649536,0.20381644368171692,0.23638013005256653,0.22697877883911133,0.28149351477622986,0.18155798316001892,0.18760758638381958,0.9999998807907104,0.33897531032562256,0.291748583316803,0.2833748459815979,0.29093024134635925,0.2520987391471863,0.22691059112548828,0.11330583691596985,0.28126662969589233,0.19094794988632202,0.2953457832336426,0.2368597537279129,0.25082528591156006,0.3558034300804138,0.4341620206832886,0.28534409403800964,0.3757825493812561,0.4275115430355072,0.3278961777687073],[0.5925678014755249,0.6031107902526855,0.5776638984680176,0.5467983484268188,0.592962384223938,0.5867980718612671,0.7130737900733948,0.591680645942688,0.7616956233978271,0.6876052021980286,0.6514503955841064,0.7079017758369446,0.6881641149520874,0.5475971698760986,0.6280359029769897,0.6782364845275879,0.6604291200637817,0.6947322487831116,0.6049836874008179,0.6418220400810242,0.5277078151702881,0.7761017084121704,0.6213825941085815,0.7142037153244019,0.6331289410591125,0.568126916885376,0.6250755786895752,0.7457438111305237,0.5436325073242188,0.667507529258728,0.5725050568580627,0.5895786285400391,0.33897531032562256,1.0,0.8601727485656738,0.8298249244689941,0.4488787055015564,0.2770162522792816,0.5708407759666443,0.5462579131126404,0.5929659605026245,0.5734909772872925,0.6339712738990784,0.6237193942070007,0.49593353271484375,0.5353127121925354,0.4720412492752075,0.594387412071228,0.4959724545478821,0.6279423236846924,0.6632571220397949],[0.6375423073768616,0.647836446762085,0.6496987342834473,0.5977360010147095,0.6852858662605286,0.6581264734268188,0.7348581552505493,0.6314225196838379,0.850645899772644,0.7347966432571411,0.7652746438980103,0.8155187368392944,0.7763738632202148,0.5681819915771484,0.6679190397262573,0.7600040435791016,0.7407101988792419,0.6960676312446594,0.7055182456970215,0.6734480857849121,0.5601256489753723,0.7976141571998596,0.7071707248687744,0.7877180576324463,0.7108885049819946,0.6151713132858276,0.6708734035491943,0.6883798837661743,0.598419725894928,0.6984254121780396,0.5948477983474731,0.6289335489273071,0.291748583316803,0.8601727485656738,1.0,0.8088674545288086,0.4169018864631653,0.3035711348056793,0.6688473224639893,0.6820054650306702,0.6531199812889099,0.5734657645225525,0.7248419523239136,0.6842169761657715,0.5368815064430237,0.575354814529419,0.5107073783874512,0.6598613262176514,0.46306246519088745,0.699083685874939,0.5151656866073608],[0.5855286121368408,0.5869965553283691,0.5955407023429871,0.5291779637336731,0.5874338150024414,0.5495891571044922,0.6908998489379883,0.6227350234985352,0.7534446716308594,0.6870419979095459,0.6781154870986938,0.7222491502761841,0.7068227529525757,0.5342016816139221,0.6549633741378784,0.6971745491027832,0.6569631099700928,0.6827563047409058,0.6553932428359985,0.628456711769104,0.4817654490470886,0.7613586187362671,0.6592919826507568,0.727565586566925,0.6657446622848511,0.5882241725921631,0.6309508085250854,0.6817312240600586,0.5645164251327515,0.666908860206604,0.5672428011894226,0.5953730344772339,0.2833748459815979,0.8298249244689941,0.8088674545288086,1.0,0.41758373379707336,0.21311765909194946,0.5786726474761963,0.5699318647384644,0.5993983745574951,0.566791296005249,0.6592744588851929,0.6119192242622375,0.4962267279624939,0.4861205816268921,0.4422382712364197,0.579049825668335,0.39699339866638184,0.6528526544570923,0.5479843616485596],[0.5445526838302612,0.4385293126106262,0.43970441818237305,0.46564000844955444,0.42528873682022095,0.4355592131614685,0.5680907964706421,0.5381371378898621,0.423641562461853,0.434034526348114,0.3675733804702759,0.4256975054740906,0.462125301361084,0.6471555233001709,0.6515032052993774,0.5110464096069336,0.43990403413772583,0.5683495998382568,0.4679449200630188,0.3483954668045044,0.40126168727874756,0.5762932896614075,0.5082089900970459,0.5730065107345581,0.477533757686615,0.730319619178772,0.7240639925003052,0.766050398349762,0.6283138990402222,0.7441070079803467,0.6853474378585815,0.6880619525909424,0.29093024134635925,0.4488787055015564,0.4169018864631653,0.41758373379707336,0.9999997615814209,0.21834535896778107,0.3841833770275116,0.33280253410339355,0.39814215898513794,0.5191051959991455,0.4286935329437256,0.3994579315185547,0.41496387124061584,0.44690677523612976,0.3514593839645386,0.441057026386261,0.3002486824989319,0.3420013189315796,0.5854265689849854],[0.2518043518066406,0.21592500805854797,0.19226761162281036,0.1654009222984314,0.19623732566833496,0.2472248077392578,0.27936968207359314,0.2255484163761139,0.26599717140197754,0.2289286106824875,0.2503054141998291,0.33213645219802856,0.2914186120033264,0.21080762147903442,0.18813049793243408,0.1845369040966034,0.1686709225177765,0.20752300322055817,0.19104965031147003,0.1916111707687378,0.17599177360534668,0.2359175831079483,0.23191383481025696,0.2851272225379944,0.22675859928131104,0.20070242881774902,0.25229448080062866,0.211543470621109,0.19510602951049805,0.20526659488677979,0.19505427777767181,0.2010991871356964,0.2520987391471863,0.2770162522792816,0.3035711348056793,0.21311765909194946,0.21834535896778107,1.0,0.22966361045837402,0.21526385843753815,0.2053949236869812,0.16451096534729004,0.23759427666664124,0.22934776544570923,0.1692698746919632,0.2524651885032654,0.25613880157470703,0.2646561861038208,0.21579262614250183,0.22195100784301758,0.18179211020469666],[0.6452693343162537,0.6581116914749146,0.6495457887649536,0.6149024963378906,0.6528874635696411,0.606644868850708,0.6028934717178345,0.5614295601844788,0.7459542751312256,0.7958815097808838,0.8155695199966431,0.7262398600578308,0.7430546283721924,0.5878815054893494,0.621895432472229,0.6593078374862671,0.6778979301452637,0.6192318201065063,0.7374511361122131,0.6391226053237915,0.6504029035568237,0.6844775676727295,0.7325708866119385,0.722353994846344,0.7289396524429321,0.6298982501029968,0.6560623049736023,0.5216317176818848,0.6001877188682556,0.594424843788147,0.5266935229301453,0.6010698676109314,0.22691059112548828,0.5708407759666443,0.6688473224639893,0.5786726474761963,0.3841833770275116,0.22966361045837402,0.9999999403953552,0.8332607746124268,0.7364684343338013,0.6443765163421631,0.6621538400650024,0.683639645576477,0.5944235920906067,0.6386798620223999,0.5768578052520752,0.5521436333656311,0.27810320258140564,0.5915486812591553,0.4451383054256439],[0.592177152633667,0.6123009920120239,0.6205694675445557,0.5842394828796387,0.5258726477622986,0.5217803716659546,0.5334598422050476,0.542617917060852,0.7681453824043274,0.8128319978713989,0.8593192100524902,0.68828284740448,0.7339199781417847,0.47071680426597595,0.6626347303390503,0.6305419206619263,0.6423056125640869,0.5868237018585205,0.7554200887680054,0.6315884590148926,0.5870534181594849,0.6980764865875244,0.788336455821991,0.7418770790100098,0.7988039255142212,0.7036848068237305,0.6450914144515991,0.5226925015449524,0.5889703035354614,0.6235513687133789,0.5529391765594482,0.6643364429473877,0.11330583691596985,0.5462579131126404,0.6820054650306702,0.5699318647384644,0.33280253410339355,0.21526385843753815,0.8332607746124268,1.0000001192092896,0.6800274848937988,0.640460193157196,0.6281241178512573,0.7238317728042603,0.5392560362815857,0.5122071504592896,0.45554664731025696,0.4916362166404724,0.21389701962471008,0.6130108833312988,0.3041694164276123],[0.665608823299408,0.6649678349494934,0.6673787236213684,0.7239574193954468,0.6491410732269287,0.5727584958076477,0.6087228059768677,0.5990400314331055,0.7745497822761536,0.8130795359611511,0.6974401473999023,0.610048770904541,0.6918469667434692,0.5789799690246582,0.7407729029655457,0.6148205995559692,0.6974529027938843,0.7846643924713135,0.7564228773117065,0.6288677453994751,0.6511901617050171,0.6890143752098083,0.6286705732345581,0.646815299987793,0.7294609546661377,0.560645580291748,0.5372641682624817,0.5602048635482788,0.5443360209465027,0.6325768232345581,0.5394651889801025,0.6294218301773071,0.28126662969589233,0.5929659605026245,0.6531199812889099,0.5993983745574951,0.39814215898513794,0.2053949236869812,0.7364684343338013,0.6800274848937988,1.0,0.7450210452079773,0.595270574092865,0.5715843439102173,0.7016763687133789,0.6206759214401245,0.6690698862075806,0.5469584465026855,0.31478220224380493,0.5960220694541931,0.4817258417606354],[0.6345218420028687,0.7091606855392456,0.6366262435913086,0.714683473110199,0.5211365222930908,0.5472543239593506,0.6029516458511353,0.5930041074752808,0.6807883977890015,0.7252252101898193,0.596616268157959,0.5189592838287354,0.613616406917572,0.6395794153213501,0.7880260944366455,0.6531273126602173,0.6513455510139465,0.7999652624130249,0.694701075553894,0.5857272148132324,0.5877619385719299,0.7337077856063843,0.6323665380477905,0.6419345140457153,0.7383965253829956,0.5992478132247925,0.5704699754714966,0.6187840700149536,0.5644071102142334,0.6471533179283142,0.5798566937446594,0.6618069410324097,0.19094794988632202,0.5734909772872925,0.5734657645225525,0.566791296005249,0.5191051959991455,0.16451096534729004,0.6443765163421631,0.640460193157196,0.7450210452079773,1.0000001192092896,0.5077551603317261,0.5616180300712585,0.5867251753807068,0.5084633827209473,0.5079213380813599,0.536003828048706,0.22791481018066406,0.5331968069076538,0.5239920020103455],[0.6515229940414429,0.5582385063171387,0.6327517628669739,0.528033971786499,0.6526408791542053,0.6263214349746704,0.6655583381652832,0.5800015926361084,0.7544919848442078,0.6856206059455872,0.714874267578125,0.8048100471496582,0.771127462387085,0.5877196788787842,0.5948424339294434,0.7323474884033203,0.6533735990524292,0.5999712944030762,0.65123051404953,0.6248798370361328,0.5399752259254456,0.6973615884780884,0.6799831390380859,0.7888765335083008,0.6417612433433533,0.6046414971351624,0.6861697435379028,0.5684881210327148,0.6314857006072998,0.6468355655670166,0.5716533660888672,0.5717874765396118,0.2953457832336426,0.6339712738990784,0.7248419523239136,0.6592744588851929,0.4286935329437256,0.23759427666664124,0.6621538400650024,0.6281241178512573,0.595270574092865,0.5077551603317261,1.0,0.7072372436523438,0.5757209062576294,0.595706582069397,0.5131375789642334,0.5667685270309448,0.4253263473510742,0.5984057188034058,0.4698435068130493],[0.5836694240570068,0.566422164440155,0.621057391166687,0.5335232019424438,0.6000570058822632,0.5752061605453491,0.586103081703186,0.4948558807373047,0.7160171866416931,0.7308976650238037,0.7863577604293823,0.7641388177871704,0.7235948443412781,0.540468156337738,0.6013562679290771,0.6669545769691467,0.6120185852050781,0.5809673070907593,0.6008110046386719,0.6221011877059937,0.5302857160568237,0.6806789040565491,0.7586377859115601,0.7476674318313599,0.6754647493362427,0.6562679409980774,0.6734209060668945,0.5867536664009094,0.5763248205184937,0.5887129902839661,0.5409188270568848,0.5497491955757141,0.2368597537279129,0.6237193942070007,0.6842169761657715,0.6119192242622375,0.3994579315185547,0.22934776544570923,0.683639645576477,0.7238317728042603,0.5715843439102173,0.5616180300712585,0.7072372436523438,1.000000238418579,0.5745919942855835,0.5665791034698486,0.4481276571750641,0.5106290578842163,0.3470909595489502,0.5578211545944214,0.47410690784454346],[0.6827752590179443,0.6338768005371094,0.6619715690612793,0.6703094244003296,0.6358249187469482,0.6296992301940918,0.5815171599388123,0.4946959316730499,0.6252173185348511,0.613243818283081,0.5336917638778687,0.5888980031013489,0.6357009410858154,0.6519412398338318,0.5785853266716003,0.5700610280036926,0.5557477474212646,0.5564902424812317,0.6083719730377197,0.5305253863334656,0.5840421915054321,0.5755236744880676,0.5470205545425415,0.5804678201675415,0.5572855472564697,0.4240792691707611,0.5065100789070129,0.4457540810108185,0.4547535479068756,0.47276508808135986,0.43044623732566833,0.468140184879303,0.25082528591156006,0.49593353271484375,0.5368815064430237,0.4962267279624939,0.41496387124061584,0.1692698746919632,0.5944235920906067,0.5392560362815857,0.7016763687133789,0.5867251753807068,0.5757209062576294,0.5745919942855835,0.9999999403953552,0.6972002983093262,0.7047504186630249,0.5086179971694946,0.339388370513916,0.4062248468399048,0.5243008136749268],[0.6137838959693909,0.6087226271629333,0.6313762664794922,0.5786059498786926,0.6816332936286926,0.6365255117416382,0.6146221160888672,0.4917988181114197,0.7399307489395142,0.517633318901062,0.6085805892944336,0.6036968231201172,0.6130844354629517,0.7457412481307983,0.525543212890625,0.603447437286377,0.5736964344978333,0.6075416803359985,0.6045699715614319,0.40261149406433105,0.5148619413375854,0.6241811513900757,0.6113743782043457,0.55534827709198,0.4964495003223419,0.4470462203025818,0.5055549740791321,0.4350297152996063,0.49232473969459534,0.511432409286499,0.465387225151062,0.469845175743103,0.3558034300804138,0.5353127121925354,0.575354814529419,0.4861205816268921,0.44690677523612976,0.2524651885032654,0.6386798620223999,0.5122071504592896,0.6206759214401245,0.5084633827209473,0.595706582069397,0.5665791034698486,0.6972002983093262,1.000000238418579,0.8103883266448975,0.5598526000976562,0.6630423069000244,0.4545478820800781,0.548725962638855],[0.5885365009307861,0.5935776829719543,0.5858427286148071,0.5836931467056274,0.6715805530548096,0.5806065797805786,0.5415748357772827,0.42319637537002563,0.6440598964691162,0.4651407301425934,0.5326975584030151,0.5323578119277954,0.5454278588294983,0.7078059315681458,0.48733097314834595,0.5221397876739502,0.5496218204498291,0.5329355001449585,0.6052595973014832,0.399807870388031,0.49417975544929504,0.5477584600448608,0.5054342746734619,0.4547702670097351,0.49258914589881897,0.3389081358909607,0.3880459666252136,0.3398020267486572,0.3998817205429077,0.43612200021743774,0.37444737553596497,0.3866897225379944,0.4341620206832886,0.4720412492752075,0.5107073783874512,0.4422382712364197,0.3514593839645386,0.25613880157470703,0.5768578052520752,0.45554664731025696,0.6690698862075806,0.5079213380813599,0.5131375789642334,0.4481276571750641,0.7047504186630249,0.8103883266448975,1.0000003576278687,0.45831722021102905,0.3902705907821655,0.5124449133872986,0.5038747787475586],[0.5617249608039856,0.6319851875305176,0.5745230913162231,0.558849036693573,0.5782046914100647,0.6108332872390747,0.7893019318580627,0.5955197811126709,0.7035105228424072,0.5791558027267456,0.5985879302024841,0.5964083671569824,0.6372419595718384,0.5187170505523682,0.5372677445411682,0.6296677589416504,0.6382253170013428,0.579392671585083,0.564125657081604,0.5343637466430664,0.4676552712917328,0.6142057180404663,0.5614358186721802,0.5865933895111084,0.5123405456542969,0.5300847887992859,0.545954704284668,0.5295228362083435,0.5029271841049194,0.5850942134857178,0.4662722647190094,0.5184388160705566,0.28534409403800964,0.594387412071228,0.6598613262176514,0.579049825668335,0.441057026386261,0.2646561861038208,0.5521436333656311,0.4916362166404724,0.5469584465026855,0.536003828048706,0.5667685270309448,0.5106290578842163,0.5086179971694946,0.5598526000976562,0.45831722021102905,1.0000001192092896,0.4530016779899597,0.5118263959884644,0.422650545835495],[0.37378278374671936,0.36499613523483276,0.3481968939304352,0.2897123098373413,0.4207952618598938,0.41196179389953613,0.47910791635513306,0.3595103919506073,0.5356916189193726,0.326373815536499,0.37541455030441284,0.4148109555244446,0.42369794845581055,0.4790935218334198,0.3085139989852905,0.43691617250442505,0.36997494101524353,0.48770350217819214,0.2872891426086426,0.2847336530685425,0.2887812852859497,0.44092005491256714,0.4002099633216858,0.37100887298583984,0.2546655237674713,0.2717723250389099,0.31872835755348206,0.357305645942688,0.2817440927028656,0.3455510139465332,0.32064372301101685,0.2975429892539978,0.3757825493812561,0.4959724545478821,0.46306246519088745,0.39699339866638184,0.3002486824989319,0.21579262614250183,0.27810320258140564,0.21389701962471008,0.31478220224380493,0.22791481018066406,0.4253263473510742,0.3470909595489502,0.339388370513916,0.6630423069000244,0.3902705907821655,0.4530016779899597,1.0,0.29311615228652954,0.39604994654655457],[0.5196835994720459,0.5419963598251343,0.5427864789962769,0.4913678467273712,0.533202052116394,0.5327650904655457,0.5641378164291382,0.5761342644691467,0.803372859954834,0.6312337517738342,0.7398278713226318,0.6165575385093689,0.6505643725395203,0.5138168334960938,0.6154622435569763,0.6594076752662659,0.6939196586608887,0.6346278190612793,0.6420282125473022,0.562630295753479,0.477992445230484,0.7466590404510498,0.6668447256088257,0.6367121338844299,0.6944150924682617,0.5639311075210571,0.5384806990623474,0.5503561496734619,0.5319227576255798,0.633590817451477,0.48392051458358765,0.5656476020812988,0.4275115430355072,0.6279423236846924,0.699083685874939,0.6528526544570923,0.3420013189315796,0.22195100784301758,0.5915486812591553,0.6130108833312988,0.5960220694541931,0.5331968069076538,0.5984057188034058,0.5578211545944214,0.4062248468399048,0.4545478820800781,0.5124449133872986,0.5118263959884644,0.29311615228652954,0.9999996423721313,0.38267868757247925],[0.5312931537628174,0.4869581460952759,0.4679121673107147,0.4905312657356262,0.49161750078201294,0.479278564453125,0.6053497195243835,0.5108808279037476,0.4936503469944,0.47381702065467834,0.44359415769577026,0.49650710821151733,0.4749720096588135,0.7945655584335327,0.5671026706695557,0.5980422496795654,0.4945187568664551,0.6501458883285522,0.46867451071739197,0.3854256868362427,0.42840278148651123,0.7095515131950378,0.5966353416442871,0.5645880699157715,0.5644559860229492,0.5421987771987915,0.5666475296020508,0.6687352061271667,0.5458486080169678,0.5906695127487183,0.5344481468200684,0.4743410646915436,0.3278961777687073,0.6632571220397949,0.5151656866073608,0.5479843616485596,0.5854265689849854,0.18179211020469666,0.4451383054256439,0.3041694164276123,0.4817258417606354,0.5239920020103455,0.4698435068130493,0.47410690784454346,0.5243008136749268,0.548725962638855,0.5038747787475586,0.422650545835495,0.39604994654655457,0.38267868757247925,1.0]],\"type\":\"heatmap\",\"xaxis\":\"x\",\"yaxis\":\"y\",\"hovertemplate\":\"x: %{x}<br>y: %{y}<br>Similarity Score: %{z}<extra></extra>\"}],                        {\"template\":{\"data\":{\"histogram2dcontour\":[{\"type\":\"histogram2dcontour\",\"colorbar\":{\"outlinewidth\":0,\"ticks\":\"\"},\"colorscale\":[[0.0,\"#0d0887\"],[0.1111111111111111,\"#46039f\"],[0.2222222222222222,\"#7201a8\"],[0.3333333333333333,\"#9c179e\"],[0.4444444444444444,\"#bd3786\"],[0.5555555555555556,\"#d8576b\"],[0.6666666666666666,\"#ed7953\"],[0.7777777777777778,\"#fb9f3a\"],[0.8888888888888888,\"#fdca26\"],[1.0,\"#f0f921\"]]}],\"choropleth\":[{\"type\":\"choropleth\",\"colorbar\":{\"outlinewidth\":0,\"ticks\":\"\"}}],\"histogram2d\":[{\"type\":\"histogram2d\",\"colorbar\":{\"outlinewidth\":0,\"ticks\":\"\"},\"colorscale\":[[0.0,\"#0d0887\"],[0.1111111111111111,\"#46039f\"],[0.2222222222222222,\"#7201a8\"],[0.3333333333333333,\"#9c179e\"],[0.4444444444444444,\"#bd3786\"],[0.5555555555555556,\"#d8576b\"],[0.6666666666666666,\"#ed7953\"],[0.7777777777777778,\"#fb9f3a\"],[0.8888888888888888,\"#fdca26\"],[1.0,\"#f0f921\"]]}],\"heatmap\":[{\"type\":\"heatmap\",\"colorbar\":{\"outlinewidth\":0,\"ticks\":\"\"},\"colorscale\":[[0.0,\"#0d0887\"],[0.1111111111111111,\"#46039f\"],[0.2222222222222222,\"#7201a8\"],[0.3333333333333333,\"#9c179e\"],[0.4444444444444444,\"#bd3786\"],[0.5555555555555556,\"#d8576b\"],[0.6666666666666666,\"#ed7953\"],[0.7777777777777778,\"#fb9f3a\"],[0.8888888888888888,\"#fdca26\"],[1.0,\"#f0f921\"]]}],\"heatmapgl\":[{\"type\":\"heatmapgl\",\"colorbar\":{\"outlinewidth\":0,\"ticks\":\"\"},\"colorscale\":[[0.0,\"#0d0887\"],[0.1111111111111111,\"#46039f\"],[0.2222222222222222,\"#7201a8\"],[0.3333333333333333,\"#9c179e\"],[0.4444444444444444,\"#bd3786\"],[0.5555555555555556,\"#d8576b\"],[0.6666666666666666,\"#ed7953\"],[0.7777777777777778,\"#fb9f3a\"],[0.8888888888888888,\"#fdca26\"],[1.0,\"#f0f921\"]]}],\"contourcarpet\":[{\"type\":\"contourcarpet\",\"colorbar\":{\"outlinewidth\":0,\"ticks\":\"\"}}],\"contour\":[{\"type\":\"contour\",\"colorbar\":{\"outlinewidth\":0,\"ticks\":\"\"},\"colorscale\":[[0.0,\"#0d0887\"],[0.1111111111111111,\"#46039f\"],[0.2222222222222222,\"#7201a8\"],[0.3333333333333333,\"#9c179e\"],[0.4444444444444444,\"#bd3786\"],[0.5555555555555556,\"#d8576b\"],[0.6666666666666666,\"#ed7953\"],[0.7777777777777778,\"#fb9f3a\"],[0.8888888888888888,\"#fdca26\"],[1.0,\"#f0f921\"]]}],\"surface\":[{\"type\":\"surface\",\"colorbar\":{\"outlinewidth\":0,\"ticks\":\"\"},\"colorscale\":[[0.0,\"#0d0887\"],[0.1111111111111111,\"#46039f\"],[0.2222222222222222,\"#7201a8\"],[0.3333333333333333,\"#9c179e\"],[0.4444444444444444,\"#bd3786\"],[0.5555555555555556,\"#d8576b\"],[0.6666666666666666,\"#ed7953\"],[0.7777777777777778,\"#fb9f3a\"],[0.8888888888888888,\"#fdca26\"],[1.0,\"#f0f921\"]]}],\"mesh3d\":[{\"type\":\"mesh3d\",\"colorbar\":{\"outlinewidth\":0,\"ticks\":\"\"}}],\"scatter\":[{\"fillpattern\":{\"fillmode\":\"overlay\",\"size\":10,\"solidity\":0.2},\"type\":\"scatter\"}],\"parcoords\":[{\"type\":\"parcoords\",\"line\":{\"colorbar\":{\"outlinewidth\":0,\"ticks\":\"\"}}}],\"scatterpolargl\":[{\"type\":\"scatterpolargl\",\"marker\":{\"colorbar\":{\"outlinewidth\":0,\"ticks\":\"\"}}}],\"bar\":[{\"error_x\":{\"color\":\"#2a3f5f\"},\"error_y\":{\"color\":\"#2a3f5f\"},\"marker\":{\"line\":{\"color\":\"#E5ECF6\",\"width\":0.5},\"pattern\":{\"fillmode\":\"overlay\",\"size\":10,\"solidity\":0.2}},\"type\":\"bar\"}],\"scattergeo\":[{\"type\":\"scattergeo\",\"marker\":{\"colorbar\":{\"outlinewidth\":0,\"ticks\":\"\"}}}],\"scatterpolar\":[{\"type\":\"scatterpolar\",\"marker\":{\"colorbar\":{\"outlinewidth\":0,\"ticks\":\"\"}}}],\"histogram\":[{\"marker\":{\"pattern\":{\"fillmode\":\"overlay\",\"size\":10,\"solidity\":0.2}},\"type\":\"histogram\"}],\"scattergl\":[{\"type\":\"scattergl\",\"marker\":{\"colorbar\":{\"outlinewidth\":0,\"ticks\":\"\"}}}],\"scatter3d\":[{\"type\":\"scatter3d\",\"line\":{\"colorbar\":{\"outlinewidth\":0,\"ticks\":\"\"}},\"marker\":{\"colorbar\":{\"outlinewidth\":0,\"ticks\":\"\"}}}],\"scattermapbox\":[{\"type\":\"scattermapbox\",\"marker\":{\"colorbar\":{\"outlinewidth\":0,\"ticks\":\"\"}}}],\"scatterternary\":[{\"type\":\"scatterternary\",\"marker\":{\"colorbar\":{\"outlinewidth\":0,\"ticks\":\"\"}}}],\"scattercarpet\":[{\"type\":\"scattercarpet\",\"marker\":{\"colorbar\":{\"outlinewidth\":0,\"ticks\":\"\"}}}],\"carpet\":[{\"aaxis\":{\"endlinecolor\":\"#2a3f5f\",\"gridcolor\":\"white\",\"linecolor\":\"white\",\"minorgridcolor\":\"white\",\"startlinecolor\":\"#2a3f5f\"},\"baxis\":{\"endlinecolor\":\"#2a3f5f\",\"gridcolor\":\"white\",\"linecolor\":\"white\",\"minorgridcolor\":\"white\",\"startlinecolor\":\"#2a3f5f\"},\"type\":\"carpet\"}],\"table\":[{\"cells\":{\"fill\":{\"color\":\"#EBF0F8\"},\"line\":{\"color\":\"white\"}},\"header\":{\"fill\":{\"color\":\"#C8D4E3\"},\"line\":{\"color\":\"white\"}},\"type\":\"table\"}],\"barpolar\":[{\"marker\":{\"line\":{\"color\":\"#E5ECF6\",\"width\":0.5},\"pattern\":{\"fillmode\":\"overlay\",\"size\":10,\"solidity\":0.2}},\"type\":\"barpolar\"}],\"pie\":[{\"automargin\":true,\"type\":\"pie\"}]},\"layout\":{\"autotypenumbers\":\"strict\",\"colorway\":[\"#636efa\",\"#EF553B\",\"#00cc96\",\"#ab63fa\",\"#FFA15A\",\"#19d3f3\",\"#FF6692\",\"#B6E880\",\"#FF97FF\",\"#FECB52\"],\"font\":{\"color\":\"#2a3f5f\"},\"hovermode\":\"closest\",\"hoverlabel\":{\"align\":\"left\"},\"paper_bgcolor\":\"white\",\"plot_bgcolor\":\"#E5ECF6\",\"polar\":{\"bgcolor\":\"#E5ECF6\",\"angularaxis\":{\"gridcolor\":\"white\",\"linecolor\":\"white\",\"ticks\":\"\"},\"radialaxis\":{\"gridcolor\":\"white\",\"linecolor\":\"white\",\"ticks\":\"\"}},\"ternary\":{\"bgcolor\":\"#E5ECF6\",\"aaxis\":{\"gridcolor\":\"white\",\"linecolor\":\"white\",\"ticks\":\"\"},\"baxis\":{\"gridcolor\":\"white\",\"linecolor\":\"white\",\"ticks\":\"\"},\"caxis\":{\"gridcolor\":\"white\",\"linecolor\":\"white\",\"ticks\":\"\"}},\"coloraxis\":{\"colorbar\":{\"outlinewidth\":0,\"ticks\":\"\"}},\"colorscale\":{\"sequential\":[[0.0,\"#0d0887\"],[0.1111111111111111,\"#46039f\"],[0.2222222222222222,\"#7201a8\"],[0.3333333333333333,\"#9c179e\"],[0.4444444444444444,\"#bd3786\"],[0.5555555555555556,\"#d8576b\"],[0.6666666666666666,\"#ed7953\"],[0.7777777777777778,\"#fb9f3a\"],[0.8888888888888888,\"#fdca26\"],[1.0,\"#f0f921\"]],\"sequentialminus\":[[0.0,\"#0d0887\"],[0.1111111111111111,\"#46039f\"],[0.2222222222222222,\"#7201a8\"],[0.3333333333333333,\"#9c179e\"],[0.4444444444444444,\"#bd3786\"],[0.5555555555555556,\"#d8576b\"],[0.6666666666666666,\"#ed7953\"],[0.7777777777777778,\"#fb9f3a\"],[0.8888888888888888,\"#fdca26\"],[1.0,\"#f0f921\"]],\"diverging\":[[0,\"#8e0152\"],[0.1,\"#c51b7d\"],[0.2,\"#de77ae\"],[0.3,\"#f1b6da\"],[0.4,\"#fde0ef\"],[0.5,\"#f7f7f7\"],[0.6,\"#e6f5d0\"],[0.7,\"#b8e186\"],[0.8,\"#7fbc41\"],[0.9,\"#4d9221\"],[1,\"#276419\"]]},\"xaxis\":{\"gridcolor\":\"white\",\"linecolor\":\"white\",\"ticks\":\"\",\"title\":{\"standoff\":15},\"zerolinecolor\":\"white\",\"automargin\":true,\"zerolinewidth\":2},\"yaxis\":{\"gridcolor\":\"white\",\"linecolor\":\"white\",\"ticks\":\"\",\"title\":{\"standoff\":15},\"zerolinecolor\":\"white\",\"automargin\":true,\"zerolinewidth\":2},\"scene\":{\"xaxis\":{\"backgroundcolor\":\"#E5ECF6\",\"gridcolor\":\"white\",\"linecolor\":\"white\",\"showbackground\":true,\"ticks\":\"\",\"zerolinecolor\":\"white\",\"gridwidth\":2},\"yaxis\":{\"backgroundcolor\":\"#E5ECF6\",\"gridcolor\":\"white\",\"linecolor\":\"white\",\"showbackground\":true,\"ticks\":\"\",\"zerolinecolor\":\"white\",\"gridwidth\":2},\"zaxis\":{\"backgroundcolor\":\"#E5ECF6\",\"gridcolor\":\"white\",\"linecolor\":\"white\",\"showbackground\":true,\"ticks\":\"\",\"zerolinecolor\":\"white\",\"gridwidth\":2}},\"shapedefaults\":{\"line\":{\"color\":\"#2a3f5f\"}},\"annotationdefaults\":{\"arrowcolor\":\"#2a3f5f\",\"arrowhead\":0,\"arrowwidth\":1},\"geo\":{\"bgcolor\":\"white\",\"landcolor\":\"#E5ECF6\",\"subunitcolor\":\"white\",\"showland\":true,\"showlakes\":true,\"lakecolor\":\"white\"},\"title\":{\"x\":0.05},\"mapbox\":{\"style\":\"light\"}}},\"xaxis\":{\"anchor\":\"y\",\"domain\":[0.0,1.0],\"scaleanchor\":\"y\",\"constrain\":\"domain\"},\"yaxis\":{\"anchor\":\"x\",\"domain\":[0.0,1.0],\"autorange\":\"reversed\",\"constrain\":\"domain\"},\"coloraxis\":{\"colorbar\":{\"title\":{\"text\":\"Similarity Score\"}},\"colorscale\":[[0.0,\"rgb(247,252,240)\"],[0.125,\"rgb(224,243,219)\"],[0.25,\"rgb(204,235,197)\"],[0.375,\"rgb(168,221,181)\"],[0.5,\"rgb(123,204,196)\"],[0.625,\"rgb(78,179,211)\"],[0.75,\"rgb(43,140,190)\"],[0.875,\"rgb(8,104,172)\"],[1.0,\"rgb(8,64,129)\"]]},\"margin\":{\"t\":60},\"title\":{\"font\":{\"size\":22,\"color\":\"Black\"},\"text\":\"<b>Similarity Matrix</b>\",\"y\":0.95,\"x\":0.55,\"xanchor\":\"center\",\"yanchor\":\"top\"},\"hoverlabel\":{\"font\":{\"size\":16,\"family\":\"Rockwell\"},\"bgcolor\":\"white\"},\"width\":1000,\"height\":1000,\"showlegend\":true,\"legend\":{\"title\":{\"text\":\"Trend\"}}},                        {\"responsive\": true}                    ).then(function(){\n",
              "                            \n",
              "var gd = document.getElementById('fa331bc3-bd17-4360-8fcb-75a99e9afb9c');\n",
              "var x = new MutationObserver(function (mutations, observer) {{\n",
              "        var display = window.getComputedStyle(gd).display;\n",
              "        if (!display || display === 'none') {{\n",
              "            console.log([gd, 'removed!']);\n",
              "            Plotly.purge(gd);\n",
              "            observer.disconnect();\n",
              "        }}\n",
              "}});\n",
              "\n",
              "// Listen for the removal of the full notebook cells\n",
              "var notebookContainer = gd.closest('#notebook-container');\n",
              "if (notebookContainer) {{\n",
              "    x.observe(notebookContainer, {childList: true});\n",
              "}}\n",
              "\n",
              "// Listen for the clearing of the current output cell\n",
              "var outputEl = gd.closest('.output');\n",
              "if (outputEl) {{\n",
              "    x.observe(outputEl, {childList: true});\n",
              "}}\n",
              "\n",
              "                        })                };                            </script>        </div>\n",
              "</body>\n",
              "</html>"
            ]
          },
          "metadata": {}
        }
      ]
    },
    {
      "cell_type": "code",
      "source": [
        "new_topic_model.visualize_distribution(probs[200], min_probability=0.015)"
      ],
      "metadata": {
        "colab": {
          "base_uri": "https://localhost:8080/",
          "height": 617
        },
        "id": "mjclMWkS96gs",
        "outputId": "2063a5a1-e0c6-452b-bf21-f60a906c72b1"
      },
      "execution_count": null,
      "outputs": [
        {
          "output_type": "display_data",
          "data": {
            "text/html": [
              "<html>\n",
              "<head><meta charset=\"utf-8\" /></head>\n",
              "<body>\n",
              "    <div>            <script src=\"https://cdnjs.cloudflare.com/ajax/libs/mathjax/2.7.5/MathJax.js?config=TeX-AMS-MML_SVG\"></script><script type=\"text/javascript\">if (window.MathJax && window.MathJax.Hub && window.MathJax.Hub.Config) {window.MathJax.Hub.Config({SVG: {font: \"STIX-Web\"}});}</script>                <script type=\"text/javascript\">window.PlotlyConfig = {MathJaxConfig: 'local'};</script>\n",
              "        <script src=\"https://cdn.plot.ly/plotly-2.18.2.min.js\"></script>                <div id=\"f6da3a4a-90e4-499d-9e44-4c583d537aaf\" class=\"plotly-graph-div\" style=\"height:600px; width:800px;\"></div>            <script type=\"text/javascript\">                                    window.PLOTLYENV=window.PLOTLYENV || {};                                    if (document.getElementById(\"f6da3a4a-90e4-499d-9e44-4c583d537aaf\")) {                    Plotly.newPlot(                        \"f6da3a4a-90e4-499d-9e44-4c583d537aaf\",                        [{\"marker\":{\"color\":\"#C8D2D7\",\"line\":{\"color\":\"#6E8484\",\"width\":1}},\"orientation\":\"h\",\"x\":[0.48869835741361883,0.018684896522813448,0.01843140663300744,0.021451063355873674,0.03043773664759965,0.020264122428658837,0.01512596525850368,0.0150771050597179],\"y\":[\"<b>Topic 0</b>: sandal_foot_comfortable_...\",\"<b>Topic 13</b>: slide_velcro_slides_com...\",\"<b>Topic 15</b>: flop_flip_ever_toe_worn\",\"<b>Topic 17</b>: slipper_slip_house_padd...\",\"<b>Topic 20</b>: shower_water_wet_hotel_...\",\"<b>Topic 29</b>: cushion_soft_rib_hard_c...\",\"<b>Topic 44</b>: strap_adjustable_top_fo...\",\"<b>Topic 45</b>: thong_enjoyed_pair_sand...\"],\"type\":\"bar\"}],                        {\"template\":{\"data\":{\"barpolar\":[{\"marker\":{\"line\":{\"color\":\"white\",\"width\":0.5},\"pattern\":{\"fillmode\":\"overlay\",\"size\":10,\"solidity\":0.2}},\"type\":\"barpolar\"}],\"bar\":[{\"error_x\":{\"color\":\"rgb(36,36,36)\"},\"error_y\":{\"color\":\"rgb(36,36,36)\"},\"marker\":{\"line\":{\"color\":\"white\",\"width\":0.5},\"pattern\":{\"fillmode\":\"overlay\",\"size\":10,\"solidity\":0.2}},\"type\":\"bar\"}],\"carpet\":[{\"aaxis\":{\"endlinecolor\":\"rgb(36,36,36)\",\"gridcolor\":\"white\",\"linecolor\":\"white\",\"minorgridcolor\":\"white\",\"startlinecolor\":\"rgb(36,36,36)\"},\"baxis\":{\"endlinecolor\":\"rgb(36,36,36)\",\"gridcolor\":\"white\",\"linecolor\":\"white\",\"minorgridcolor\":\"white\",\"startlinecolor\":\"rgb(36,36,36)\"},\"type\":\"carpet\"}],\"choropleth\":[{\"colorbar\":{\"outlinewidth\":1,\"tickcolor\":\"rgb(36,36,36)\",\"ticks\":\"outside\"},\"type\":\"choropleth\"}],\"contourcarpet\":[{\"colorbar\":{\"outlinewidth\":1,\"tickcolor\":\"rgb(36,36,36)\",\"ticks\":\"outside\"},\"type\":\"contourcarpet\"}],\"contour\":[{\"colorbar\":{\"outlinewidth\":1,\"tickcolor\":\"rgb(36,36,36)\",\"ticks\":\"outside\"},\"colorscale\":[[0.0,\"#440154\"],[0.1111111111111111,\"#482878\"],[0.2222222222222222,\"#3e4989\"],[0.3333333333333333,\"#31688e\"],[0.4444444444444444,\"#26828e\"],[0.5555555555555556,\"#1f9e89\"],[0.6666666666666666,\"#35b779\"],[0.7777777777777778,\"#6ece58\"],[0.8888888888888888,\"#b5de2b\"],[1.0,\"#fde725\"]],\"type\":\"contour\"}],\"heatmapgl\":[{\"colorbar\":{\"outlinewidth\":1,\"tickcolor\":\"rgb(36,36,36)\",\"ticks\":\"outside\"},\"colorscale\":[[0.0,\"#440154\"],[0.1111111111111111,\"#482878\"],[0.2222222222222222,\"#3e4989\"],[0.3333333333333333,\"#31688e\"],[0.4444444444444444,\"#26828e\"],[0.5555555555555556,\"#1f9e89\"],[0.6666666666666666,\"#35b779\"],[0.7777777777777778,\"#6ece58\"],[0.8888888888888888,\"#b5de2b\"],[1.0,\"#fde725\"]],\"type\":\"heatmapgl\"}],\"heatmap\":[{\"colorbar\":{\"outlinewidth\":1,\"tickcolor\":\"rgb(36,36,36)\",\"ticks\":\"outside\"},\"colorscale\":[[0.0,\"#440154\"],[0.1111111111111111,\"#482878\"],[0.2222222222222222,\"#3e4989\"],[0.3333333333333333,\"#31688e\"],[0.4444444444444444,\"#26828e\"],[0.5555555555555556,\"#1f9e89\"],[0.6666666666666666,\"#35b779\"],[0.7777777777777778,\"#6ece58\"],[0.8888888888888888,\"#b5de2b\"],[1.0,\"#fde725\"]],\"type\":\"heatmap\"}],\"histogram2dcontour\":[{\"colorbar\":{\"outlinewidth\":1,\"tickcolor\":\"rgb(36,36,36)\",\"ticks\":\"outside\"},\"colorscale\":[[0.0,\"#440154\"],[0.1111111111111111,\"#482878\"],[0.2222222222222222,\"#3e4989\"],[0.3333333333333333,\"#31688e\"],[0.4444444444444444,\"#26828e\"],[0.5555555555555556,\"#1f9e89\"],[0.6666666666666666,\"#35b779\"],[0.7777777777777778,\"#6ece58\"],[0.8888888888888888,\"#b5de2b\"],[1.0,\"#fde725\"]],\"type\":\"histogram2dcontour\"}],\"histogram2d\":[{\"colorbar\":{\"outlinewidth\":1,\"tickcolor\":\"rgb(36,36,36)\",\"ticks\":\"outside\"},\"colorscale\":[[0.0,\"#440154\"],[0.1111111111111111,\"#482878\"],[0.2222222222222222,\"#3e4989\"],[0.3333333333333333,\"#31688e\"],[0.4444444444444444,\"#26828e\"],[0.5555555555555556,\"#1f9e89\"],[0.6666666666666666,\"#35b779\"],[0.7777777777777778,\"#6ece58\"],[0.8888888888888888,\"#b5de2b\"],[1.0,\"#fde725\"]],\"type\":\"histogram2d\"}],\"histogram\":[{\"marker\":{\"line\":{\"color\":\"white\",\"width\":0.6}},\"type\":\"histogram\"}],\"mesh3d\":[{\"colorbar\":{\"outlinewidth\":1,\"tickcolor\":\"rgb(36,36,36)\",\"ticks\":\"outside\"},\"type\":\"mesh3d\"}],\"parcoords\":[{\"line\":{\"colorbar\":{\"outlinewidth\":1,\"tickcolor\":\"rgb(36,36,36)\",\"ticks\":\"outside\"}},\"type\":\"parcoords\"}],\"pie\":[{\"automargin\":true,\"type\":\"pie\"}],\"scatter3d\":[{\"line\":{\"colorbar\":{\"outlinewidth\":1,\"tickcolor\":\"rgb(36,36,36)\",\"ticks\":\"outside\"}},\"marker\":{\"colorbar\":{\"outlinewidth\":1,\"tickcolor\":\"rgb(36,36,36)\",\"ticks\":\"outside\"}},\"type\":\"scatter3d\"}],\"scattercarpet\":[{\"marker\":{\"colorbar\":{\"outlinewidth\":1,\"tickcolor\":\"rgb(36,36,36)\",\"ticks\":\"outside\"}},\"type\":\"scattercarpet\"}],\"scattergeo\":[{\"marker\":{\"colorbar\":{\"outlinewidth\":1,\"tickcolor\":\"rgb(36,36,36)\",\"ticks\":\"outside\"}},\"type\":\"scattergeo\"}],\"scattergl\":[{\"marker\":{\"colorbar\":{\"outlinewidth\":1,\"tickcolor\":\"rgb(36,36,36)\",\"ticks\":\"outside\"}},\"type\":\"scattergl\"}],\"scattermapbox\":[{\"marker\":{\"colorbar\":{\"outlinewidth\":1,\"tickcolor\":\"rgb(36,36,36)\",\"ticks\":\"outside\"}},\"type\":\"scattermapbox\"}],\"scatterpolargl\":[{\"marker\":{\"colorbar\":{\"outlinewidth\":1,\"tickcolor\":\"rgb(36,36,36)\",\"ticks\":\"outside\"}},\"type\":\"scatterpolargl\"}],\"scatterpolar\":[{\"marker\":{\"colorbar\":{\"outlinewidth\":1,\"tickcolor\":\"rgb(36,36,36)\",\"ticks\":\"outside\"}},\"type\":\"scatterpolar\"}],\"scatter\":[{\"fillpattern\":{\"fillmode\":\"overlay\",\"size\":10,\"solidity\":0.2},\"type\":\"scatter\"}],\"scatterternary\":[{\"marker\":{\"colorbar\":{\"outlinewidth\":1,\"tickcolor\":\"rgb(36,36,36)\",\"ticks\":\"outside\"}},\"type\":\"scatterternary\"}],\"surface\":[{\"colorbar\":{\"outlinewidth\":1,\"tickcolor\":\"rgb(36,36,36)\",\"ticks\":\"outside\"},\"colorscale\":[[0.0,\"#440154\"],[0.1111111111111111,\"#482878\"],[0.2222222222222222,\"#3e4989\"],[0.3333333333333333,\"#31688e\"],[0.4444444444444444,\"#26828e\"],[0.5555555555555556,\"#1f9e89\"],[0.6666666666666666,\"#35b779\"],[0.7777777777777778,\"#6ece58\"],[0.8888888888888888,\"#b5de2b\"],[1.0,\"#fde725\"]],\"type\":\"surface\"}],\"table\":[{\"cells\":{\"fill\":{\"color\":\"rgb(237,237,237)\"},\"line\":{\"color\":\"white\"}},\"header\":{\"fill\":{\"color\":\"rgb(217,217,217)\"},\"line\":{\"color\":\"white\"}},\"type\":\"table\"}]},\"layout\":{\"annotationdefaults\":{\"arrowhead\":0,\"arrowwidth\":1},\"autotypenumbers\":\"strict\",\"coloraxis\":{\"colorbar\":{\"outlinewidth\":1,\"tickcolor\":\"rgb(36,36,36)\",\"ticks\":\"outside\"}},\"colorscale\":{\"diverging\":[[0.0,\"rgb(103,0,31)\"],[0.1,\"rgb(178,24,43)\"],[0.2,\"rgb(214,96,77)\"],[0.3,\"rgb(244,165,130)\"],[0.4,\"rgb(253,219,199)\"],[0.5,\"rgb(247,247,247)\"],[0.6,\"rgb(209,229,240)\"],[0.7,\"rgb(146,197,222)\"],[0.8,\"rgb(67,147,195)\"],[0.9,\"rgb(33,102,172)\"],[1.0,\"rgb(5,48,97)\"]],\"sequential\":[[0.0,\"#440154\"],[0.1111111111111111,\"#482878\"],[0.2222222222222222,\"#3e4989\"],[0.3333333333333333,\"#31688e\"],[0.4444444444444444,\"#26828e\"],[0.5555555555555556,\"#1f9e89\"],[0.6666666666666666,\"#35b779\"],[0.7777777777777778,\"#6ece58\"],[0.8888888888888888,\"#b5de2b\"],[1.0,\"#fde725\"]],\"sequentialminus\":[[0.0,\"#440154\"],[0.1111111111111111,\"#482878\"],[0.2222222222222222,\"#3e4989\"],[0.3333333333333333,\"#31688e\"],[0.4444444444444444,\"#26828e\"],[0.5555555555555556,\"#1f9e89\"],[0.6666666666666666,\"#35b779\"],[0.7777777777777778,\"#6ece58\"],[0.8888888888888888,\"#b5de2b\"],[1.0,\"#fde725\"]]},\"colorway\":[\"#1F77B4\",\"#FF7F0E\",\"#2CA02C\",\"#D62728\",\"#9467BD\",\"#8C564B\",\"#E377C2\",\"#7F7F7F\",\"#BCBD22\",\"#17BECF\"],\"font\":{\"color\":\"rgb(36,36,36)\"},\"geo\":{\"bgcolor\":\"white\",\"lakecolor\":\"white\",\"landcolor\":\"white\",\"showlakes\":true,\"showland\":true,\"subunitcolor\":\"white\"},\"hoverlabel\":{\"align\":\"left\"},\"hovermode\":\"closest\",\"mapbox\":{\"style\":\"light\"},\"paper_bgcolor\":\"white\",\"plot_bgcolor\":\"white\",\"polar\":{\"angularaxis\":{\"gridcolor\":\"rgb(232,232,232)\",\"linecolor\":\"rgb(36,36,36)\",\"showgrid\":false,\"showline\":true,\"ticks\":\"outside\"},\"bgcolor\":\"white\",\"radialaxis\":{\"gridcolor\":\"rgb(232,232,232)\",\"linecolor\":\"rgb(36,36,36)\",\"showgrid\":false,\"showline\":true,\"ticks\":\"outside\"}},\"scene\":{\"xaxis\":{\"backgroundcolor\":\"white\",\"gridcolor\":\"rgb(232,232,232)\",\"gridwidth\":2,\"linecolor\":\"rgb(36,36,36)\",\"showbackground\":true,\"showgrid\":false,\"showline\":true,\"ticks\":\"outside\",\"zeroline\":false,\"zerolinecolor\":\"rgb(36,36,36)\"},\"yaxis\":{\"backgroundcolor\":\"white\",\"gridcolor\":\"rgb(232,232,232)\",\"gridwidth\":2,\"linecolor\":\"rgb(36,36,36)\",\"showbackground\":true,\"showgrid\":false,\"showline\":true,\"ticks\":\"outside\",\"zeroline\":false,\"zerolinecolor\":\"rgb(36,36,36)\"},\"zaxis\":{\"backgroundcolor\":\"white\",\"gridcolor\":\"rgb(232,232,232)\",\"gridwidth\":2,\"linecolor\":\"rgb(36,36,36)\",\"showbackground\":true,\"showgrid\":false,\"showline\":true,\"ticks\":\"outside\",\"zeroline\":false,\"zerolinecolor\":\"rgb(36,36,36)\"}},\"shapedefaults\":{\"fillcolor\":\"black\",\"line\":{\"width\":0},\"opacity\":0.3},\"ternary\":{\"aaxis\":{\"gridcolor\":\"rgb(232,232,232)\",\"linecolor\":\"rgb(36,36,36)\",\"showgrid\":false,\"showline\":true,\"ticks\":\"outside\"},\"baxis\":{\"gridcolor\":\"rgb(232,232,232)\",\"linecolor\":\"rgb(36,36,36)\",\"showgrid\":false,\"showline\":true,\"ticks\":\"outside\"},\"bgcolor\":\"white\",\"caxis\":{\"gridcolor\":\"rgb(232,232,232)\",\"linecolor\":\"rgb(36,36,36)\",\"showgrid\":false,\"showline\":true,\"ticks\":\"outside\"}},\"title\":{\"x\":0.05},\"xaxis\":{\"automargin\":true,\"gridcolor\":\"rgb(232,232,232)\",\"linecolor\":\"rgb(36,36,36)\",\"showgrid\":false,\"showline\":true,\"ticks\":\"outside\",\"title\":{\"standoff\":15},\"zeroline\":false,\"zerolinecolor\":\"rgb(36,36,36)\"},\"yaxis\":{\"automargin\":true,\"gridcolor\":\"rgb(232,232,232)\",\"linecolor\":\"rgb(36,36,36)\",\"showgrid\":false,\"showline\":true,\"ticks\":\"outside\",\"title\":{\"standoff\":15},\"zeroline\":false,\"zerolinecolor\":\"rgb(36,36,36)\"}}},\"title\":{\"font\":{\"size\":22,\"color\":\"Black\"},\"text\":\"<b>Topic Probability Distribution</b>\",\"y\":0.95,\"x\":0.5,\"xanchor\":\"center\",\"yanchor\":\"top\"},\"hoverlabel\":{\"font\":{\"size\":16,\"family\":\"Rockwell\"},\"bgcolor\":\"white\"},\"xaxis\":{\"title\":{\"text\":\"Probability\"}},\"width\":800,\"height\":600},                        {\"responsive\": true}                    ).then(function(){\n",
              "                            \n",
              "var gd = document.getElementById('f6da3a4a-90e4-499d-9e44-4c583d537aaf');\n",
              "var x = new MutationObserver(function (mutations, observer) {{\n",
              "        var display = window.getComputedStyle(gd).display;\n",
              "        if (!display || display === 'none') {{\n",
              "            console.log([gd, 'removed!']);\n",
              "            Plotly.purge(gd);\n",
              "            observer.disconnect();\n",
              "        }}\n",
              "}});\n",
              "\n",
              "// Listen for the removal of the full notebook cells\n",
              "var notebookContainer = gd.closest('#notebook-container');\n",
              "if (notebookContainer) {{\n",
              "    x.observe(notebookContainer, {childList: true});\n",
              "}}\n",
              "\n",
              "// Listen for the clearing of the current output cell\n",
              "var outputEl = gd.closest('.output');\n",
              "if (outputEl) {{\n",
              "    x.observe(outputEl, {childList: true});\n",
              "}}\n",
              "\n",
              "                        })                };                            </script>        </div>\n",
              "</body>\n",
              "</html>"
            ]
          },
          "metadata": {}
        }
      ]
    },
    {
      "cell_type": "markdown",
      "source": [
        "From above figure, we can see the topic probability distribution for the review with index 200 in the dataset shows that topic 0 has the highest probability, so topic 0 is the predicted topic."
      ],
      "metadata": {
        "id": "xDcVOaVRCjYC"
      }
    },
    {
      "cell_type": "markdown",
      "source": [
        "## 3.3 Update Topic Model"
      ],
      "metadata": {
        "id": "pzhfAHOSxneL"
      }
    },
    {
      "cell_type": "markdown",
      "source": [
        "Next, want to try out a different n_gram_range. We can use the function update_topics to update the topic representation with new parameters for c-TF-IDF."
      ],
      "metadata": {
        "id": "wJA2CCJ99n82"
      }
    },
    {
      "cell_type": "code",
      "execution_count": null,
      "metadata": {
        "id": "hINSal9CPDI4"
      },
      "outputs": [],
      "source": [
        "new_topic_model.update_topics(texts_without_stopwords, n_gram_range=(1,2))"
      ]
    },
    {
      "cell_type": "code",
      "execution_count": null,
      "metadata": {
        "colab": {
          "base_uri": "https://localhost:8080/"
        },
        "id": "V5CiFnmsPDMI",
        "outputId": "6eafaff5-7354-49c1-be90-7aaab124cd2c"
      },
      "outputs": [
        {
          "output_type": "execute_result",
          "data": {
            "text/plain": [
              "[('sandal', 0.07397483846756235),\n",
              " ('nike sandal', 0.014298656477779597),\n",
              " ('foot', 0.013201347823052165),\n",
              " ('comfortable', 0.012006408255020827),\n",
              " ('would', 0.010723665027620803),\n",
              " ('pair', 0.010512909831834732),\n",
              " ('comfortable sandal', 0.00978741515748314),\n",
              " ('fit', 0.00972140505673235),\n",
              " ('great', 0.009673340974039676),\n",
              " ('wear', 0.009638643730081903)]"
            ]
          },
          "metadata": {},
          "execution_count": 66
        }
      ],
      "source": [
        "# select the most frequent topic\n",
        "new_topic_model.get_topic(0)"
      ]
    },
    {
      "cell_type": "markdown",
      "metadata": {
        "id": "rthr-SM7cKfe"
      },
      "source": [
        "## 3.4 Topic Reduction\n"
      ]
    },
    {
      "cell_type": "markdown",
      "source": [
        "We can also reduce the number of topics after having trained a BERTopic model. The advantage of doing so,\n",
        "is that you can decide the number of topics after knowing how many are actually created. It is difficult to\n",
        "predict before training your model how many topics that are in your documents and how many will be extracted.\n",
        "Instead, we can decide afterwards how many topics seems realistic:\n"
      ],
      "metadata": {
        "id": "X5e4xoroKmAY"
      }
    },
    {
      "cell_type": "code",
      "execution_count": null,
      "metadata": {
        "colab": {
          "base_uri": "https://localhost:8080/"
        },
        "id": "lJj-qX1yPDPf",
        "outputId": "3718cb4b-d0a7-452d-9740-114d25c5ee54"
      },
      "outputs": [
        {
          "output_type": "stream",
          "name": "stderr",
          "text": [
            "2023-06-22 14:06:48,901 - BERTopic - Reduced number of topics from 52 to 40\n"
          ]
        },
        {
          "output_type": "execute_result",
          "data": {
            "text/plain": [
              "<bertopic._bertopic.BERTopic at 0x7f9c5c3ffc70>"
            ]
          },
          "metadata": {},
          "execution_count": 67
        }
      ],
      "source": [
        "new_topic_model.reduce_topics(texts_without_stopwords, nr_topics=40)"
      ]
    },
    {
      "cell_type": "code",
      "execution_count": null,
      "metadata": {
        "colab": {
          "base_uri": "https://localhost:8080/"
        },
        "id": "aIZA3HnrhIRr",
        "outputId": "06424989-bdc7-44b6-d1bb-744cedd5c34b"
      },
      "outputs": [
        {
          "output_type": "stream",
          "name": "stdout",
          "text": [
            "[2, -1, 22, 0, -1, 27, -1, -1, 2, -1, 23, -1, -1, -1, -1, -1, -1, 3, 1, -1, 5, -1, 6, 6, -1, 4, 4, 3, 2, 4, -1, -1, -1, 2, -1, 6, 21, -1, 6, 12, -1, 12, 9, 15, -1, -1, 0, -1, 7, 26, 10, 3, 2, 15, 31, 30, -1, 3, -1, -1, 0, 2, 2, -1, 2, 0, 9, 6, -1, 0, -1, 18, 30, -1, 0, 3, 7, 0, 2, -1, 3, 24, 0, 17, 18, -1, 0, 23, 0, -1, -1, -1, -1, 6, -1, -1, 2, -1, -1, -1, 2, -1, 15, 22, -1, 12, -1, 6, -1, -1, 5, 2, -1, -1, -1, 27, -1, 0, -1, 9, 10, -1, 9, 15, 14, 0, 0, 2, -1, 12, 0, 7, -1, 26, -1, 8, 4, -1, 2, 1, -1, -1, -1, 7, 1, 3, 1, 0, 5, 1, -1, -1, 18, 3, 3, 7, 1, 20, 2, 38, -1, 38, 11, 0, 7, 3, -1, 5, 7, 1, -1, 12, 1, 2, 1, -1, 1, 7, 20, -1, 17, 0, 1, 31, 1, 1, 16, 7, -1, 1, -1, 1, 2, -1, 1, 7, 1, 33, 2, 14, 1, -1, 2, 0, 10, 11, 1, -1, 2, -1, 2, 7, 20, 1, 13, 5, 1, 0, 7, 19, 1, 17, 20, 7, -1, 7, 0, 20, 1, 14, 20, 1, 7, 1, 7, 2, 11, -1, 5, 16, -1, -1, 7, 3, 1, 20, -1, -1, 7, -1, 7, 1, 1, -1, 37, 17, 1, 7, 0, 11, 3, 2, 3, 1, 5, 16, 1, 21, 25, 20, 2, 2, 2, 5, 26, -1, 5, 19, 3, -1, 1, 1, 20, 25, 1, -1, 1, 7, 7, 1, 16, -1, 16, 0, -1, -1, 0, -1, 1, 1, 7, 16, 13, 16, 1, 1, 2, 11, 5, -1, 2, 20, 1, 20, 22, 13, 1, 1, 1, 37, -1, 3, 11, -1, 2, 1, 7, -1, 2, 11, 20, 2, -1, 1, 2, 5, 2, 1, 1, 1, 16, -1, -1, 2, 0, 1, 1, 1, 0, 1, 2, -1, 0, 2, 1, 15, 2, 0, 1, 1, 1, -1, 2, -1, 20, 6, -1, 2, 2, -1, 1, -1, 1, 20, 5, -1, -1, 18, 1, -1, -1, 10, 1, -1, 1, -1, 2, -1, 1, -1, -1, 1, 2, 15, 16, 2, 2, 1, 13, 1, 1, -1, 7, 5, 0, 2, 2, 1, -1, 0, -1, -1, -1, 33, 0, 2, 1, 16, 7, -1, 33, 19, 1, -1, 13, 1, 0, 1, 0, 1, 1, 11, -1, 1, 20, 1, -1, 7, 20, -1, 1, -1, 3, -1, 1, 2, -1, 16, 7, 1, -1, -1, 4, -1, 1, -1, -1, 10, 1, 11, 0, 11, -1, 0, 22, 4, 13, 1, 1, 7, 20, -1, 1, -1, 31, 3, 1, -1, 20, -1, 4, -1, 1, 1, 16, 0, -1, 13, 1, 14, -1, 21, 13, 34, 13, -1, 13, -1, -1, 34, 13, -1, 13, 13, -1, 34, 14, 14, -1, 25, 5, 34, 0, 13, -1, 13, -1, 14, 13, 31, -1, 7, 13, 13, 22, 0, -1, 3, 13, -1, 13, 13, -1, 4, 6, 6, 6, -1, -1, 31, 7, 4, 3, -1, 3, 21, -1, 9, 5, 24, -1, 7, 9, 2, 22, 9, 12, 24, -1, -1, 2, -1, 2, 4, -1, 2, 2, 5, 2, -1, 2, 35, 2, -1, -1, 12, 2, 11, 0, -1, 20, -1, -1, -1, -1, 5, 3, 2, 1, 1, 2, 2, 11, 25, 7, 1, 17, 1, 2, 11, 0, 11, 2, -1, 1, -1, 25, 13, 1, 1, -1, -1, 2, 11, 16, -1, 11, 1, -1, 1, 5, 11, -1, 31, -1, 2, 16, 1, 1, -1, 9, 1, 0, 0, 33, -1, 1, 1, -1, 1, -1, 2, -1, 31, 16, 5, 2, 37, 1, 11, -1, -1, 33, -1, 2, 1, 1, 25, 33, 1, 16, -1, 18, -1, 1, 11, 11, 1, -1, 27, 3, -1, 1, 1, 3, -1, -1, 0, 11, 25, 31, 3, 0, 16, 11, 0, 1, 12, 25, 2, -1, 1, 1, 16, -1, 0, 1, 2, 1, 11, 3, -1, 10, 1, 4, 5, 0, 4, -1, -1, 9, -1, 2, 24, 9, 0, 29, 5, 0, -1, 5, 0, -1, 24, 0, 0, 9, 4, 4, 4, 15, -1, -1, -1, -1, 28, 27, -1, 5, 4, -1, -1, 4, -1, 4, 5, 26, -1, -1, -1, -1, -1, 2, -1, 5, -1, -1, 27, 9, 5, 10, 5, 9, -1, 17, -1, 21, -1, 12, 26, 9, 9, -1, -1, -1, 15, 10, 3, -1, 9, 0, 30, 10, 2, 0, -1, 18, -1, -1, -1, -1, 2, 17, 4, -1, 2, 14, 2, 0, 22, -1, 9, -1, -1, -1, 22, 30, -1, -1, -1, 0, 30, 0, -1, 2, 2, 21, -1, -1, -1, 7, 5, -1, -1, 4, 4, 2, -1, 6, -1, -1, 10, -1, -1, -1, 6, 6, 2, -1, -1, -1, 0, -1, 0, 5, 1, -1, -1, -1, -1, -1, 3, -1, 0, 20, -1, 0, 16, 1, 16, 11, -1, 1, 13, 17, 3, 9, 16, 1, -1, -1, 1, 1, 33, 2, 37, 0, 1, 7, 2, 19, 2, 0, 1, 0, 2, -1, -1, 2, 16, 2, -1, 0, 11, 20, 7, 11, 12, 2, 37, 1, -1, 1, 2, 2, 11, -1, 3, 1, 25, 25, -1, 2, 4, 0, -1, 0, 21, 8, 9, 27, 6, -1, 3, -1, -1, -1, 24, -1, 6, 3, -1, 7, -1, 10, 24, 10, -1, 5, 10, 10, 8, 10, -1, -1, -1, 2, 21, 14, -1, 7, 4, 10, 21, 22, 4, 24, -1, 2, -1, -1, 20, 10, 21, -1, 23, 4, 2, 2, 24, -1, 10, -1, 23, 3, -1, -1, 6, -1, -1, 9, -1, 2, -1, 3, -1, 24, 4, 2, 14, 32, 9, 3, -1, 4, -1, -1, -1, -1, 7, 4, 0, -1, -1, -1, -1, 10, -1, 9, -1, 2, 4, 24, 9, 0, 27, 9, 2, 10, -1, 36, -1, 4, 4, -1, -1, -1, -1, 9, 0, -1, -1, 25, 16, -1, 38, 1, -1, -1, -1, 1, -1, -1, 11, -1, -1, 29, 25, 1, 1, -1, 0, 1, 11, 4, 2, -1, 16, 16, 1, 1, 3, 20, -1, 17, -1, 1, -1, -1, 1, 1, 25, 16, 4, -1, -1, 29, 2, 11, -1, 11, -1, -1, 1, -1, 1, 5, 14, -1, 25, -1, 12, 33, 33, 1, 5, 3, -1, 1, -1, 14, 3, -1, 1, 1, 16, 5, 22, 2, 29, -1, -1, 3, 33, 2, 11, 0, 3, 20, -1, 1, 3, 5, 16, -1, 1, 28, 2, 21, 0, -1, -1, 11, 1, 16, -1, 13, -1, 11, 5, -1, 30, 21, 1, 20, 33, -1, 3, -1, 1, -1, 2, -1, -1, 16, -1, 11, 3, 1, 13, 11, 4, -1, 4, 1, -1, 7, 1, 33, -1, 1, 7, -1, 5, 1, 20, 16, -1, 33, 1, 7, 1, 5, -1, 13, -1, -1, -1, -1, 11, -1, 7, 10, 1, 28, 3, 13, 1, 27, 20, 13, -1, -1, -1, -1, -1, -1, 1, 1, -1, 0, -1, 29, 1, 1, 1, 1, -1, 1, 2, 3, -1, 4, 7, -1, -1, -1, 1, -1, -1, 13, 1, 1, -1, 5, 22, 0, 14, -1, -1, -1, 14, 14, 4, 1, 5, 34, 23, -1, 13, 13, 14, -1, 34, 14, -1, -1, 5, -1, 34, -1, 1, -1, -1, 34, 36, 1, -1, 4, 0, 1, 13, -1, -1, 13, 25, 1, 1, 18, 14, -1, 4, 1, 4, 1, 13, 5, -1, 0, 5, 1, -1, 25, 13, 8, 34, 34, 17, 1, -1, 34, 25, 13, -1, 7, -1, 13, -1, -1, -1, -1, 1, 0, -1, -1, -1, 13, -1, 1, 1, 13, 5, 1, 1, 1, 4, -1, 4, 7, 14, 7, 21, 1, -1, 4, 0, -1, -1, 7, 1, 4, 18, 1, -1, -1, -1, -1, 1, 14, -1, 12, 14, -1, 6, -1, 10, 0, 36, 22, 10, 6, 6, 5, 5, 0, 12, 22, 2, 37, 5, -1, 6, 7, -1, 0, -1, -1, 6, -1, 3, 6, -1, 9, 12, 19, -1, 7, 4, 3, 3, -1, 5, -1, -1, -1, -1, -1, -1, -1, -1, -1, -1, 4, 0, 35, -1, 9, -1, 17, 7, 3, -1, 0, 3, 7, 0, 2, -1, -1, 36, -1, -1, 7, 7, -1, -1, 23, -1, 4, -1, 3, 15, 4, -1, 7, -1, 0, 4, 3, -1, 28, -1, 5, 6, 5, -1, 3, -1, 11, 3, -1, -1, -1, 0, -1, 35, -1, 20, 6, 6, 18, 6, -1, 6, 4, 5, -1, -1, -1, -1, 6, -1, 29, 4, 5, 0, 5, -1, 14, -1, 7, 9, 18, 29, -1, 4, -1, 36, -1, -1, -1, -1, 29, 0, -1, 4, -1, -1, -1, -1, 5, -1, 5, 17, 6, 3, 5, 22, -1, 3, -1, 2, 23, -1, -1, 0, 15, 15, 6, -1, -1, -1, 21, 4, -1, -1, 6, 5, -1, -1, 5, 3, 6, -1, -1, -1, 29, 4, -1, -1, -1, 3, 17, 7, -1, 5, 0, 5, 25, -1, -1, 0, 5, 4, -1, -1, -1, 0, 18, -1, -1, 5, 18, -1, 5, -1, -1, 0, 5, 7, -1, 18, -1, 2, -1, -1, -1, 0, 23, -1, 5, 6, 3, -1, 4, 0, -1, -1, 4, 4, -1, 12, 3, 3, -1, 0, -1, 10, 14, -1, 28, 31, -1, 4, -1, 9, -1, -1, 23, -1, -1, -1, 3, 0, 7, 30, 27, -1, -1, 3, 36, 9, 0, 5, 4, 10, -1, -1, -1, -1, 18, 6, -1, 17, 10, 4, 38, 9, 5, -1, -1, -1, -1, 12, 28, 29, 17, -1, 7, 38, 23, 6, -1, 4, -1, -1, 29, 7, 2, 6, 0, 0, -1, 0, 4, -1, 4, -1, 4, 4, 5, -1, 7, -1, -1, 4, -1, -1, 5, -1, -1, 0, 0, -1, -1, -1, -1, 4, -1, -1, 15, 2, 11, 7, -1, 14, 11, 7, -1, 0, 1, 29, -1, 10, 1, 11, 25, 1, 38, -1, 1, 11, 0, 11, 16, 0, 1, 1, 12, 1, 20, -1, 31, -1, 1, 2, 11, 1, 7, 1, 28, 25, 1, 1, 1, 3, -1, 11, 16, 1, 1, -1, 7, 20, 1, 15, 27, 0, -1, 2, 9, -1, -1, -1, -1, -1, -1, -1, -1, 7, 9, -1, 5, 0, 24, -1, -1, 24, 30, 4, 27, 6, -1, 9, 7, 5, 24, 27, -1, 7, -1, -1, 10, 10, -1, -1, -1, -1, -1, 8, 23, -1, 3, 8, 26, -1, -1, -1, 5, 9, -1, 8, 10, -1, 8, 0, 26, 2, 26, -1, -1, 14, -1, 8, 8, 5, 4, 8, -1, 14, 8, 8, -1, 3, -1, 8, 4, 8, -1, 8, 8, 8, -1, 8, -1, 8, 8, 4, 7, -1, 27, 3, 8, 0, 0, 26, 9, -1, 0, -1, -1, 37, 0, -1, 21, 8, 8, 8, 3, 3, 7, -1, 8, -1, -1, 3, 8, 8, 8, -1, 0, -1, -1, 8, 6, 7, 8, -1, 8, 27, 8, -1, 14, 2, -1, 0, 8, 21, 8, 15, 18, 15, 15, 8, -1, 8, -1, 8, -1, 8, 8, 7, 26, 8, 8, 8, -1, 8, 0, 16, -1, 8, -1, 8, 5, -1, 10, 3, 10, 8, 24, -1, 2, 7, -1, -1, 8, -1, 21, -1, 21, 5, 21, 0, 8, 8, 8, -1, 2, -1, 8, 8, 0, 26, -1, -1, 8, -1, -1, 9, 12, 10, 17, 8, 8, 8, 8, -1, -1, 0, -1, 8, 23, -1, 10, 27, -1, 9, -1, 10, 10, 4, 8, 8, 8, 3, 8, 17, 9, 8, -1, 10, 2, 3, 8, -1, 10, 8, -1, -1, 8, 8, 8, -1, -1, 8, -1, 21, 23, 8, -1, 35, 8, 3, -1, 8, 8, 8, -1, -1, 2, 3, 22, 9, 8, 8, 5, 8, 12, 6, 26, 8, 8, 15, -1, -1, 8, 15, -1, -1, -1, -1, 2, 26, -1, 2, -1, 8, 8, -1, 3, -1, 8, -1, 8, 10, 4, -1, -1, 8, -1, 8, 8, 5, 2, 8, -1, -1, -1, 37, -1, 8, -1, 6, 3, 0, 4, 8, 10, -1, 36, 8, 7, 26, 22, -1, 7, -1, 9, -1, 21, -1, 21, 8, -1, 8, 2, -1, -1, -1, 10, 7, 15, 12, -1, -1, 7, 8, -1, 27, 8, 9, 8, 8, 7, 7, 2, -1, -1, 8, 8, 9, -1, -1, -1, 8, 12, 8, 8, 7, -1, 38, 7, 1, 4, -1, 34, 13, 1, 13, 1, -1, -1, 1, 3, 18, 13, -1, 1, -1, 5, 2, 5, -1, -1, 0, -1, 9, 5, 2, 3, -1, -1, -1, 4, 10, 7, -1, -1, 3, 5, -1, -1, 3, -1, -1, -1, 0, 3, -1, 5, 6, -1, 0, 4, -1, -1, -1, -1, -1, 3, -1, 0, 4, 5, 7, 0, 18, 4, 3, -1, -1, 0, 28, -1, 0, -1, 12, -1, -1, -1, 12, 2, 22, 9, 7, -1, -1, 10, 21, 3, 6, 3, 6, -1, 6, -1, 6, 15, 9, 10, 0, -1, 2, 9, 0, -1, -1, 3, 6, -1, 18, 7, 2, 3, -1, -1, 7, -1, 6, 7, 10, 2, -1, -1, -1, 3, 7, -1, -1, 3, 4, 10, -1, -1, 21, -1, 2, 7, -1, -1, -1, 17, 28, 2, 6, 0, -1, 6, 0, 10, 0, 6, 0, 31, -1, 15, 31, 6, -1, 6, -1, -1, 28, 30, 21, -1, 4, 0, -1, 26, 23, 2, -1, 18, -1, 0, 4, 3, 6, 10, -1, 2, 0, 3, -1, -1, 22, 15, 3, 0, 12, -1, -1, -1, -1, -1, -1, 2, -1, 7, 10, 20, -1, -1, 9, 0, -1, -1, 2, 18, -1, 3, -1, -1, 0, 5, 14, -1, -1, -1, 5, 4, 6, -1, -1, -1, 19, -1, -1, 2, 12, 3, 18, 13, 19, 2, -1, -1, 19, 0, 3, 19, 19, 23, 19, 19, 19, 19, 1, 19, 19, 2, -1, 19, 2, 19, 2, 2, -1, 19, 19, 2, 19, 2, -1, 2, 19, 19, -1, 19, 19, -1, 19, 19, 19, 2, -1, -1, 3, -1, 27, 5, 22, 2, -1, -1, 0, -1, 5, 6, -1, 2, -1, -1, 2, -1, 2, -1, 2, 18, -1, 18, 3, -1, -1, 0, 14, 28, -1, -1, 4, 2, -1, 3, 3, -1, 2, 5, 2, 8, 0, 2, 6, 6, -1, -1, -1, 2, -1, -1, -1, 5, -1, 5, -1, 14, -1, 0, -1, 2, -1, -1, 2, 6, -1, 6, 37, -1, -1, 4, 6, 4, -1, -1, 6, 5, 17, 5, -1, 3, 14, -1, 0, 23, -1, 6, 6, 9, 14, -1, 5, 5, 5, 2, -1, 6, 5, -1, 3, 4, 0, 2, -1, 0, 0, -1, -1, 6, 4, 38, 2, -1, -1, 36, -1, -1, -1, -1, -1, -1, 4, -1, -1, 6, 2, 2, 3, -1, -1, -1, -1, -1, -1, -1, 5, -1, 6, 3, 6, 2, 5, 3, -1, -1, -1, -1, 30, -1, 15, 28, 3, 2, -1, 3, -1, 4, 27, 3, 2, -1, 0, 5, 12, -1, 3, 6, 2, 2, 6, 4, 7, -1, -1, 18, -1, 5, -1, -1, 6, -1, 6, -1, -1, 6, -1, 5, -1, -1, 4, -1, -1, -1, 6, 14, -1, 18, 7, 0, -1, -1, 2, 2, -1, -1, 6, 21, -1, -1, 15, 3, 6, 4, -1, 15, -1, -1, 6, 9, -1, 17, -1, 12, -1, -1, 2, 29, -1, 18, -1, -1, -1, 0, 0, -1, 3, -1, 5, 7, 0, -1, -1, 22, 17, -1, 10, 0, -1, 6, 4, -1, -1, -1, -1, 22, -1, -1, -1, 17, -1, 3, -1, -1, -1, -1, 4, 17, 5, 4, 5, -1, 3, 4, -1, -1, 18, 4, -1, -1, 3, 14, 2, 9, -1, 38, 0, 5, 3, 9, 14, 9, 3, -1, 35, -1, -1, 4, 9, 6, -1, -1, -1, 4, -1, 2, -1, 2, 2, -1, 23, -1, 6, -1, 7, 2, -1, 35, 0, 3, 15, -1, 18, -1, -1, 6, 0, -1, -1, 3, -1, -1, 6, 5, -1, -1, -1, 2, 2, -1, 2, 28, -1, 5, 4, -1, -1, 0, 0, 19, 0, 0, 0, 0, 0, 0, 0, 0, 0, 17, -1, 25, -1, -1, 35, 6, -1, 14, 12, -1, -1, 10, 6, -1, 6, -1, -1, -1, -1, 3, 3, 6, -1, 0, -1, -1, 17, -1, -1, -1, 6, -1, -1, 3, 32, 32, -1, 32, 15, 7, 3, 7, 3, 32, 30, -1, 25, 32, -1, -1, -1, -1, 4, -1, -1, 6, 32, -1, 10, -1, 22, 30, -1, -1, 6, 32, -1, -1, 23, -1, 2, -1, 4, -1, 15, -1, -1, 0, 28, 3, -1, 9, -1, -1, 4, 3, -1, 2, -1, 0, 7, -1, 6, 6, 6, -1, -1, 2, 2, 7, -1, -1, 6, 6, -1, 0, 0, 0, 5, -1, 3, 7, 15, 14, 5, 0, 0, -1, -1, 4, 7, -1, -1, 9, 32, -1, -1, 0, 14, -1, 10, 6, 17, -1, 5, -1, 15, -1, 2, -1, 2, 23, 2, 32, -1, 10, 9, 5, -1, 6, 0, -1, 3, 17, 32, 3, 32, -1, -1, -1, 5, 3, 18, 0, -1, 3, -1, 5, -1, 17, -1, 5, 36, -1, -1, 4, 0, 31, 12, 6, -1, -1, -1, -1, 32, -1, -1, -1, 6, -1, -1, 0, 6, 8, 6, 9, 4, 4, -1, 9, 4, -1, 7, 0, 5, -1, 32, 0, 16, 32, -1, 4, 3, 3, 6, 0, -1, 7, -1, -1, -1, 10, 3, 18, 10, -1, -1, -1, -1, 4, -1, 26, -1, 3, -1, -1, 3, 28, -1, -1, -1, 3, 12, -1, 0, 6, 0, -1, -1, 4, -1, 12, -1, 4, 3, -1, -1, 15, 12, -1, -1, 10, -1, 0, 4, 7, 26, 0, -1, -1, -1, -1, -1, -1, 7, 2, 22, 22, 2, -1, 31, 7, 9, 0, 3, 27, 7, 23, 14, -1, -1, 7, -1, 4, -1, -1, 6, 5, 37, -1, 6, 0, -1, -1, 6, 4, 23, 6, -1, -1, 12, -1, -1, 29, 18, -1, -1, 0, 12, 7, -1, 5, 5, 5, 6, 3, 0, -1, 3, -1, 6, -1, -1, -1, 23, -1, -1, 3, 14, 4, -1, 12, 6, 0, 3, 3, -1, 4, -1, -1, 6, 4, -1, -1, 6, 4, 6, 4, -1, 4, -1, -1, -1, 0, 12, -1, 29, -1, 0, -1, 3, -1, 30, 29, 29, 3, -1, 6, 0, 3, 6, -1, 14, -1, 0, 3, 9, 19, 4, 5, -1, -1, 3, -1, 27, -1, -1, 6, 5, -1, 0, 2, 2, 4, -1, 10, -1, -1, 30, -1, -1, 6, 12, 3, 5, 14, 15, 7, 5, -1, 3, 29, -1, 2, 23, 23, 6, -1, 26, 20, 9, -1, -1, -1, 4, 3, 7, -1, 31, 0, -1, 0, 10, 0, 5, -1, -1, 17, 7, -1, -1, 17, 35, 12, 18, 5, 16, 5, 12, 5, -1, 6, -1, -1, 4, 5, -1, -1, -1, -1, 22, 5, -1, 5, 5, 5, 17, 18, -1, 19, 17, -1, 35, -1, 7, -1, 5, 2, 0, 30, 7, -1, -1, 5, -1, -1, 4, 5, 5, 17, 23, -1, -1, 15, 24, 6, 26, -1, 2, -1, 6, 7, -1, -1, -1, 2, -1, 6, -1, -1, 4, 2, 2, 32, -1, -1, 6, 6, 10, 6, 4, 4, -1, 10, 38, 2, 6, 6, 7, 2, 21, -1, -1, 12, -1, -1, 3, -1, 2, 3, 3, 5, 6, 5, -1, -1, 5, -1, -1, 0, 22, -1, 35, 18, 15, 31, 0, 0, 30, 4, -1, 5, -1, 9, -1, 4, -1, 3, 6, 19, 7, -1, 4, 3, 7, -1, 17, 3, -1, 7, -1, 5, 27, 12, 15, 0, 2, -1, 2, 28, -1, 25, 4, -1, -1, -1, 3, 0, -1, -1, 6, 4, -1, -1, 9, 5, -1, -1, 9, -1, 36, 5, 2, -1, -1, -1, -1, 36, -1, -1, -1, 6, 5, -1, 21, -1, -1, -1, 4, -1, 5, -1, 0, 28, -1, 6, -1, 6, 6, -1, -1, 4, 3, -1, 12, 5, -1, 7, 5, 23, -1, 0, -1, -1, -1, 9, -1, 6, -1, 6, 14, 0, -1, 4, 0, 12, 26, 26, 5, -1, 9, 4, 0, -1, 12, -1, -1, -1, -1, 35, -1, 4, 0, -1, 24, 3, 24, -1, 6, -1, 3, 15, -1, 18, 4, 0, -1, 3, 2, -1, 24, 22, 24, -1, 3, -1, 24, 3, -1, 9, 17, 24, -1, 4, 10, 15, 28, -1, -1, 4, 2, -1, -1, 0, 5, 0, -1, 3, -1, -1, 30, 4, 12, 5, 10, 24, 2, 15, 3, -1, 0, 4, 24, 4, -1, 17, 10, 6, 7, 0, 3, -1, 9, 9, 3, 0, -1, -1, 4, 4, 28, -1, -1, 4, 10, 3, 5, 5, -1, 6, 5, 4, -1, -1, -1, 3, -1, 9, 0, 6]\n"
          ]
        }
      ],
      "source": [
        "# Access the newly updated topics with:\n",
        "print(new_topic_model.topics_)"
      ]
    },
    {
      "cell_type": "code",
      "execution_count": null,
      "metadata": {
        "colab": {
          "base_uri": "https://localhost:8080/"
        },
        "id": "YxSJNUxRhNs0",
        "outputId": "8a68c7f7-3737-4eef-8326-7e70b58e5714"
      },
      "outputs": [
        {
          "output_type": "execute_result",
          "data": {
            "text/plain": [
              "[38, 3, 33, 19, 6]"
            ]
          },
          "metadata": {},
          "execution_count": 80
        }
      ],
      "source": [
        "# search for topics that are similar to an input search_term\n",
        "similar_topics, similarity = new_topic_model.find_topics(\"watch\", top_n=5)\n",
        "similar_topics"
      ]
    },
    {
      "cell_type": "code",
      "execution_count": null,
      "metadata": {
        "colab": {
          "base_uri": "https://localhost:8080/"
        },
        "id": "chw9BbwChee9",
        "outputId": "0d4d78c8-6dea-420b-fbc1-0f90a354b70f"
      },
      "outputs": [
        {
          "output_type": "execute_result",
          "data": {
            "text/plain": [
              "[('came', 0.05301583465077054),\n",
              " ('expected', 0.04121037591354496),\n",
              " ('exact', 0.03798275781218034),\n",
              " ('fit', 0.0361100323990331),\n",
              " ('look like', 0.03261186805535298),\n",
              " ('fit expected', 0.03226113358800571),\n",
              " ('time', 0.03158208786471383),\n",
              " ('product', 0.03109714980869899),\n",
              " ('width arrived', 0.02967980290715887),\n",
              " ('make many', 0.02967980290715887)]"
            ]
          },
          "metadata": {},
          "execution_count": 81
        }
      ],
      "source": [
        "new_topic_model.get_topic(38)"
      ]
    },
    {
      "cell_type": "code",
      "execution_count": null,
      "metadata": {
        "colab": {
          "base_uri": "https://localhost:8080/",
          "height": 667
        },
        "id": "tQiEvVTahiYH",
        "outputId": "34c5ead5-8a89-4772-d375-97c30682e241"
      },
      "outputs": [
        {
          "output_type": "display_data",
          "data": {
            "text/html": [
              "<html>\n",
              "<head><meta charset=\"utf-8\" /></head>\n",
              "<body>\n",
              "    <div>            <script src=\"https://cdnjs.cloudflare.com/ajax/libs/mathjax/2.7.5/MathJax.js?config=TeX-AMS-MML_SVG\"></script><script type=\"text/javascript\">if (window.MathJax && window.MathJax.Hub && window.MathJax.Hub.Config) {window.MathJax.Hub.Config({SVG: {font: \"STIX-Web\"}});}</script>                <script type=\"text/javascript\">window.PlotlyConfig = {MathJaxConfig: 'local'};</script>\n",
              "        <script src=\"https://cdn.plot.ly/plotly-2.18.2.min.js\"></script>                <div id=\"0b37e3ee-22fa-4d59-925d-a7bb062360dd\" class=\"plotly-graph-div\" style=\"height:650px; width:650px;\"></div>            <script type=\"text/javascript\">                                    window.PLOTLYENV=window.PLOTLYENV || {};                                    if (document.getElementById(\"0b37e3ee-22fa-4d59-925d-a7bb062360dd\")) {                    Plotly.newPlot(                        \"0b37e3ee-22fa-4d59-925d-a7bb062360dd\",                        [{\"customdata\":[[0,\"fit | great | fit great | well | comfortable\",220],[1,\"sandal | foot | nike sandal | comfortable | would\",210],[2,\"son | gift | love | bought | son love\",204],[3,\"foot | shoe | arch | nt | support\",169],[4,\"shoe | comfortable | love | color | great\",152],[5,\"size | small | half size | half | larger\",152],[6,\"running | running shoe | shoe | run | great\",140],[7,\"wide | foot | narrow | wide foot | tight\",121],[8,\"squeak | shoe | squeaking | loud | nike\",105],[9,\"sneaker | love sneaker | sneaker fit | fit | love\",71],[10,\"nike | air | nike air | price | year\",65],[11,\"slide | velcro | love slide | comfortable | pair\",45],[12,\"perfect | nice | expected | expected great | thank\",45],[13,\"flop | flip flop | flip | flop ever | ever\",43],[14,\"pair | year | comfortable | nike | last\",43],[15,\"shipping | order | shoe | time | fast\",38],[16,\"slipper | slip | comfortable | slipper comfortable | house\",36],[17,\"size | nike | nikes | smaller | always\",36],[18,\"85 | size | 105 | size 85 | wear\",35],[19,\"sock | son | wash | year old | boy\",32],[20,\"shower | water | wet | hotel | dry\",32],[21,\"muy | bien | que | los | producto\",28],[22,\"price | shoe | looking | find | shoes\",27],[23,\"gym | gym shoe | comfortable | wear gym | shoe\",26],[24,\"air | max | air max | nike air | breathable\",24],[25,\"cushion | soft | soft cushion | hard | rib\",23],[26,\"husband | shoe husband | husband love | wear | shoe\",21],[27,\"box | came | shoe | nike box | box shoe\",21],[28,\"color | weight | light weight | compliment | light\",19],[29,\"daughter | daughter love | shoe daughter | daughter pair | bought daughter\",18],[30,\"blue | dark | color | black | dark blue\",17],[31,\"quality | product | comfortable | quality comfortable | good material\",16],[32,\"pegasus | vomero | running | running shoe | nike\",16],[33,\"strap | adjustable | foot | top | slide\",13],[34,\"thong | pair | nike thong | thong sandals | enjoyed\",12],[35,\"12 | 12 size | size | toe | larger shoe\",11],[36,\"shoe great | great shoe | great | shoe good | shoe\",11],[37,\"sock | comfortable | comfortable worn | without sock | tight fit\",10],[38,\"came | expected | exact | fit | look like\",10]],\"hovertemplate\":\"<b>Topic %{customdata[0]}</b><br>%{customdata[1]}<br>Size: %{customdata[2]}\",\"legendgroup\":\"\",\"marker\":{\"color\":\"#B0BEC5\",\"size\":[220,210,204,169,152,152,140,121,105,71,65,45,45,43,43,38,36,36,35,32,32,28,27,26,24,23,21,21,19,18,17,16,16,13,12,11,11,10,10],\"sizemode\":\"area\",\"sizeref\":0.1375,\"symbol\":\"circle\",\"line\":{\"color\":\"DarkSlateGrey\",\"width\":2}},\"mode\":\"markers\",\"name\":\"\",\"orientation\":\"v\",\"showlegend\":false,\"x\":[14.592347145080566,14.196981430053711,5.315658092498779,14.207863807678223,16.174007415771484,-5.9897637367248535,13.560751914978027,13.886369705200195,13.026163101196289,15.560465812683105,-5.255271911621094,14.529207229614258,14.085352897644043,14.369991302490234,-5.224247932434082,16.875883102416992,16.037561416625977,-5.652598857879639,-6.238791465759277,5.121711254119873,4.930764198303223,13.736815452575684,16.618864059448242,13.322121620178223,-5.0580644607543945,12.950028419494629,16.043134689331055,16.94415283203125,-7.317653179168701,4.752690315246582,-7.317660808563232,15.60267448425293,13.340703010559082,14.278328895568848,15.687129020690918,-6.284557819366455,15.31913948059082,5.209367752075195,14.209467887878418],\"xaxis\":\"x\",\"y\":[-1.2796612977981567,5.041470527648926,-0.37010657787323,4.625035285949707,-1.7128268480300903,7.143476486206055,4.255743503570557,4.858278274536133,5.522119045257568,-1.7399801015853882,7.37343692779541,6.416855335235596,-1.1349742412567139,6.272665023803711,7.350981712341309,-0.621503472328186,-1.3494261503219604,7.313328266143799,7.107598781585693,-0.176333948969841,0.015426508150994778,5.300327777862549,-0.9570667147636414,4.063657283782959,7.583771228790283,5.598819732666016,-1.7492328882217407,-0.5516471862792969,13.016188621520996,0.194342240691185,13.016231536865234,-1.0690099000930786,4.259936332702637,5.8548407554626465,-1.441146969795227,7.3742899894714355,-1.9392812252044678,-0.26317206025123596,-1.1999564170837402],\"yaxis\":\"y\",\"type\":\"scatter\"}],                        {\"template\":{\"data\":{\"barpolar\":[{\"marker\":{\"line\":{\"color\":\"white\",\"width\":0.5},\"pattern\":{\"fillmode\":\"overlay\",\"size\":10,\"solidity\":0.2}},\"type\":\"barpolar\"}],\"bar\":[{\"error_x\":{\"color\":\"rgb(36,36,36)\"},\"error_y\":{\"color\":\"rgb(36,36,36)\"},\"marker\":{\"line\":{\"color\":\"white\",\"width\":0.5},\"pattern\":{\"fillmode\":\"overlay\",\"size\":10,\"solidity\":0.2}},\"type\":\"bar\"}],\"carpet\":[{\"aaxis\":{\"endlinecolor\":\"rgb(36,36,36)\",\"gridcolor\":\"white\",\"linecolor\":\"white\",\"minorgridcolor\":\"white\",\"startlinecolor\":\"rgb(36,36,36)\"},\"baxis\":{\"endlinecolor\":\"rgb(36,36,36)\",\"gridcolor\":\"white\",\"linecolor\":\"white\",\"minorgridcolor\":\"white\",\"startlinecolor\":\"rgb(36,36,36)\"},\"type\":\"carpet\"}],\"choropleth\":[{\"colorbar\":{\"outlinewidth\":1,\"tickcolor\":\"rgb(36,36,36)\",\"ticks\":\"outside\"},\"type\":\"choropleth\"}],\"contourcarpet\":[{\"colorbar\":{\"outlinewidth\":1,\"tickcolor\":\"rgb(36,36,36)\",\"ticks\":\"outside\"},\"type\":\"contourcarpet\"}],\"contour\":[{\"colorbar\":{\"outlinewidth\":1,\"tickcolor\":\"rgb(36,36,36)\",\"ticks\":\"outside\"},\"colorscale\":[[0.0,\"#440154\"],[0.1111111111111111,\"#482878\"],[0.2222222222222222,\"#3e4989\"],[0.3333333333333333,\"#31688e\"],[0.4444444444444444,\"#26828e\"],[0.5555555555555556,\"#1f9e89\"],[0.6666666666666666,\"#35b779\"],[0.7777777777777778,\"#6ece58\"],[0.8888888888888888,\"#b5de2b\"],[1.0,\"#fde725\"]],\"type\":\"contour\"}],\"heatmapgl\":[{\"colorbar\":{\"outlinewidth\":1,\"tickcolor\":\"rgb(36,36,36)\",\"ticks\":\"outside\"},\"colorscale\":[[0.0,\"#440154\"],[0.1111111111111111,\"#482878\"],[0.2222222222222222,\"#3e4989\"],[0.3333333333333333,\"#31688e\"],[0.4444444444444444,\"#26828e\"],[0.5555555555555556,\"#1f9e89\"],[0.6666666666666666,\"#35b779\"],[0.7777777777777778,\"#6ece58\"],[0.8888888888888888,\"#b5de2b\"],[1.0,\"#fde725\"]],\"type\":\"heatmapgl\"}],\"heatmap\":[{\"colorbar\":{\"outlinewidth\":1,\"tickcolor\":\"rgb(36,36,36)\",\"ticks\":\"outside\"},\"colorscale\":[[0.0,\"#440154\"],[0.1111111111111111,\"#482878\"],[0.2222222222222222,\"#3e4989\"],[0.3333333333333333,\"#31688e\"],[0.4444444444444444,\"#26828e\"],[0.5555555555555556,\"#1f9e89\"],[0.6666666666666666,\"#35b779\"],[0.7777777777777778,\"#6ece58\"],[0.8888888888888888,\"#b5de2b\"],[1.0,\"#fde725\"]],\"type\":\"heatmap\"}],\"histogram2dcontour\":[{\"colorbar\":{\"outlinewidth\":1,\"tickcolor\":\"rgb(36,36,36)\",\"ticks\":\"outside\"},\"colorscale\":[[0.0,\"#440154\"],[0.1111111111111111,\"#482878\"],[0.2222222222222222,\"#3e4989\"],[0.3333333333333333,\"#31688e\"],[0.4444444444444444,\"#26828e\"],[0.5555555555555556,\"#1f9e89\"],[0.6666666666666666,\"#35b779\"],[0.7777777777777778,\"#6ece58\"],[0.8888888888888888,\"#b5de2b\"],[1.0,\"#fde725\"]],\"type\":\"histogram2dcontour\"}],\"histogram2d\":[{\"colorbar\":{\"outlinewidth\":1,\"tickcolor\":\"rgb(36,36,36)\",\"ticks\":\"outside\"},\"colorscale\":[[0.0,\"#440154\"],[0.1111111111111111,\"#482878\"],[0.2222222222222222,\"#3e4989\"],[0.3333333333333333,\"#31688e\"],[0.4444444444444444,\"#26828e\"],[0.5555555555555556,\"#1f9e89\"],[0.6666666666666666,\"#35b779\"],[0.7777777777777778,\"#6ece58\"],[0.8888888888888888,\"#b5de2b\"],[1.0,\"#fde725\"]],\"type\":\"histogram2d\"}],\"histogram\":[{\"marker\":{\"line\":{\"color\":\"white\",\"width\":0.6}},\"type\":\"histogram\"}],\"mesh3d\":[{\"colorbar\":{\"outlinewidth\":1,\"tickcolor\":\"rgb(36,36,36)\",\"ticks\":\"outside\"},\"type\":\"mesh3d\"}],\"parcoords\":[{\"line\":{\"colorbar\":{\"outlinewidth\":1,\"tickcolor\":\"rgb(36,36,36)\",\"ticks\":\"outside\"}},\"type\":\"parcoords\"}],\"pie\":[{\"automargin\":true,\"type\":\"pie\"}],\"scatter3d\":[{\"line\":{\"colorbar\":{\"outlinewidth\":1,\"tickcolor\":\"rgb(36,36,36)\",\"ticks\":\"outside\"}},\"marker\":{\"colorbar\":{\"outlinewidth\":1,\"tickcolor\":\"rgb(36,36,36)\",\"ticks\":\"outside\"}},\"type\":\"scatter3d\"}],\"scattercarpet\":[{\"marker\":{\"colorbar\":{\"outlinewidth\":1,\"tickcolor\":\"rgb(36,36,36)\",\"ticks\":\"outside\"}},\"type\":\"scattercarpet\"}],\"scattergeo\":[{\"marker\":{\"colorbar\":{\"outlinewidth\":1,\"tickcolor\":\"rgb(36,36,36)\",\"ticks\":\"outside\"}},\"type\":\"scattergeo\"}],\"scattergl\":[{\"marker\":{\"colorbar\":{\"outlinewidth\":1,\"tickcolor\":\"rgb(36,36,36)\",\"ticks\":\"outside\"}},\"type\":\"scattergl\"}],\"scattermapbox\":[{\"marker\":{\"colorbar\":{\"outlinewidth\":1,\"tickcolor\":\"rgb(36,36,36)\",\"ticks\":\"outside\"}},\"type\":\"scattermapbox\"}],\"scatterpolargl\":[{\"marker\":{\"colorbar\":{\"outlinewidth\":1,\"tickcolor\":\"rgb(36,36,36)\",\"ticks\":\"outside\"}},\"type\":\"scatterpolargl\"}],\"scatterpolar\":[{\"marker\":{\"colorbar\":{\"outlinewidth\":1,\"tickcolor\":\"rgb(36,36,36)\",\"ticks\":\"outside\"}},\"type\":\"scatterpolar\"}],\"scatter\":[{\"fillpattern\":{\"fillmode\":\"overlay\",\"size\":10,\"solidity\":0.2},\"type\":\"scatter\"}],\"scatterternary\":[{\"marker\":{\"colorbar\":{\"outlinewidth\":1,\"tickcolor\":\"rgb(36,36,36)\",\"ticks\":\"outside\"}},\"type\":\"scatterternary\"}],\"surface\":[{\"colorbar\":{\"outlinewidth\":1,\"tickcolor\":\"rgb(36,36,36)\",\"ticks\":\"outside\"},\"colorscale\":[[0.0,\"#440154\"],[0.1111111111111111,\"#482878\"],[0.2222222222222222,\"#3e4989\"],[0.3333333333333333,\"#31688e\"],[0.4444444444444444,\"#26828e\"],[0.5555555555555556,\"#1f9e89\"],[0.6666666666666666,\"#35b779\"],[0.7777777777777778,\"#6ece58\"],[0.8888888888888888,\"#b5de2b\"],[1.0,\"#fde725\"]],\"type\":\"surface\"}],\"table\":[{\"cells\":{\"fill\":{\"color\":\"rgb(237,237,237)\"},\"line\":{\"color\":\"white\"}},\"header\":{\"fill\":{\"color\":\"rgb(217,217,217)\"},\"line\":{\"color\":\"white\"}},\"type\":\"table\"}]},\"layout\":{\"annotationdefaults\":{\"arrowhead\":0,\"arrowwidth\":1},\"autotypenumbers\":\"strict\",\"coloraxis\":{\"colorbar\":{\"outlinewidth\":1,\"tickcolor\":\"rgb(36,36,36)\",\"ticks\":\"outside\"}},\"colorscale\":{\"diverging\":[[0.0,\"rgb(103,0,31)\"],[0.1,\"rgb(178,24,43)\"],[0.2,\"rgb(214,96,77)\"],[0.3,\"rgb(244,165,130)\"],[0.4,\"rgb(253,219,199)\"],[0.5,\"rgb(247,247,247)\"],[0.6,\"rgb(209,229,240)\"],[0.7,\"rgb(146,197,222)\"],[0.8,\"rgb(67,147,195)\"],[0.9,\"rgb(33,102,172)\"],[1.0,\"rgb(5,48,97)\"]],\"sequential\":[[0.0,\"#440154\"],[0.1111111111111111,\"#482878\"],[0.2222222222222222,\"#3e4989\"],[0.3333333333333333,\"#31688e\"],[0.4444444444444444,\"#26828e\"],[0.5555555555555556,\"#1f9e89\"],[0.6666666666666666,\"#35b779\"],[0.7777777777777778,\"#6ece58\"],[0.8888888888888888,\"#b5de2b\"],[1.0,\"#fde725\"]],\"sequentialminus\":[[0.0,\"#440154\"],[0.1111111111111111,\"#482878\"],[0.2222222222222222,\"#3e4989\"],[0.3333333333333333,\"#31688e\"],[0.4444444444444444,\"#26828e\"],[0.5555555555555556,\"#1f9e89\"],[0.6666666666666666,\"#35b779\"],[0.7777777777777778,\"#6ece58\"],[0.8888888888888888,\"#b5de2b\"],[1.0,\"#fde725\"]]},\"colorway\":[\"#1F77B4\",\"#FF7F0E\",\"#2CA02C\",\"#D62728\",\"#9467BD\",\"#8C564B\",\"#E377C2\",\"#7F7F7F\",\"#BCBD22\",\"#17BECF\"],\"font\":{\"color\":\"rgb(36,36,36)\"},\"geo\":{\"bgcolor\":\"white\",\"lakecolor\":\"white\",\"landcolor\":\"white\",\"showlakes\":true,\"showland\":true,\"subunitcolor\":\"white\"},\"hoverlabel\":{\"align\":\"left\"},\"hovermode\":\"closest\",\"mapbox\":{\"style\":\"light\"},\"paper_bgcolor\":\"white\",\"plot_bgcolor\":\"white\",\"polar\":{\"angularaxis\":{\"gridcolor\":\"rgb(232,232,232)\",\"linecolor\":\"rgb(36,36,36)\",\"showgrid\":false,\"showline\":true,\"ticks\":\"outside\"},\"bgcolor\":\"white\",\"radialaxis\":{\"gridcolor\":\"rgb(232,232,232)\",\"linecolor\":\"rgb(36,36,36)\",\"showgrid\":false,\"showline\":true,\"ticks\":\"outside\"}},\"scene\":{\"xaxis\":{\"backgroundcolor\":\"white\",\"gridcolor\":\"rgb(232,232,232)\",\"gridwidth\":2,\"linecolor\":\"rgb(36,36,36)\",\"showbackground\":true,\"showgrid\":false,\"showline\":true,\"ticks\":\"outside\",\"zeroline\":false,\"zerolinecolor\":\"rgb(36,36,36)\"},\"yaxis\":{\"backgroundcolor\":\"white\",\"gridcolor\":\"rgb(232,232,232)\",\"gridwidth\":2,\"linecolor\":\"rgb(36,36,36)\",\"showbackground\":true,\"showgrid\":false,\"showline\":true,\"ticks\":\"outside\",\"zeroline\":false,\"zerolinecolor\":\"rgb(36,36,36)\"},\"zaxis\":{\"backgroundcolor\":\"white\",\"gridcolor\":\"rgb(232,232,232)\",\"gridwidth\":2,\"linecolor\":\"rgb(36,36,36)\",\"showbackground\":true,\"showgrid\":false,\"showline\":true,\"ticks\":\"outside\",\"zeroline\":false,\"zerolinecolor\":\"rgb(36,36,36)\"}},\"shapedefaults\":{\"fillcolor\":\"black\",\"line\":{\"width\":0},\"opacity\":0.3},\"ternary\":{\"aaxis\":{\"gridcolor\":\"rgb(232,232,232)\",\"linecolor\":\"rgb(36,36,36)\",\"showgrid\":false,\"showline\":true,\"ticks\":\"outside\"},\"baxis\":{\"gridcolor\":\"rgb(232,232,232)\",\"linecolor\":\"rgb(36,36,36)\",\"showgrid\":false,\"showline\":true,\"ticks\":\"outside\"},\"bgcolor\":\"white\",\"caxis\":{\"gridcolor\":\"rgb(232,232,232)\",\"linecolor\":\"rgb(36,36,36)\",\"showgrid\":false,\"showline\":true,\"ticks\":\"outside\"}},\"title\":{\"x\":0.05},\"xaxis\":{\"automargin\":true,\"gridcolor\":\"rgb(232,232,232)\",\"linecolor\":\"rgb(36,36,36)\",\"showgrid\":false,\"showline\":true,\"ticks\":\"outside\",\"title\":{\"standoff\":15},\"zeroline\":false,\"zerolinecolor\":\"rgb(36,36,36)\"},\"yaxis\":{\"automargin\":true,\"gridcolor\":\"rgb(232,232,232)\",\"linecolor\":\"rgb(36,36,36)\",\"showgrid\":false,\"showline\":true,\"ticks\":\"outside\",\"title\":{\"standoff\":15},\"zeroline\":false,\"zerolinecolor\":\"rgb(36,36,36)\"}}},\"xaxis\":{\"anchor\":\"y\",\"domain\":[0.0,1.0],\"title\":{\"text\":\"\"},\"visible\":false,\"range\":[-8.415309929847718,19.485775756835938]},\"yaxis\":{\"anchor\":\"x\",\"domain\":[0.0,1.0],\"title\":{\"text\":\"\"},\"visible\":false,\"range\":[-2.230173408985138,14.968666267395019]},\"legend\":{\"tracegroupgap\":0,\"itemsizing\":\"constant\"},\"margin\":{\"t\":60},\"title\":{\"font\":{\"size\":22,\"color\":\"Black\"},\"text\":\"<b>Intertopic Distance Map</b>\",\"y\":0.95,\"x\":0.5,\"xanchor\":\"center\",\"yanchor\":\"top\"},\"hoverlabel\":{\"font\":{\"size\":16,\"family\":\"Rockwell\"},\"bgcolor\":\"white\"},\"width\":650,\"height\":650,\"sliders\":[{\"active\":0,\"pad\":{\"t\":50},\"steps\":[{\"args\":[{\"marker.color\":[[\"red\",\"#B0BEC5\",\"#B0BEC5\",\"#B0BEC5\",\"#B0BEC5\",\"#B0BEC5\",\"#B0BEC5\",\"#B0BEC5\",\"#B0BEC5\",\"#B0BEC5\",\"#B0BEC5\",\"#B0BEC5\",\"#B0BEC5\",\"#B0BEC5\",\"#B0BEC5\",\"#B0BEC5\",\"#B0BEC5\",\"#B0BEC5\",\"#B0BEC5\",\"#B0BEC5\",\"#B0BEC5\",\"#B0BEC5\",\"#B0BEC5\",\"#B0BEC5\",\"#B0BEC5\",\"#B0BEC5\",\"#B0BEC5\",\"#B0BEC5\",\"#B0BEC5\",\"#B0BEC5\",\"#B0BEC5\",\"#B0BEC5\",\"#B0BEC5\",\"#B0BEC5\",\"#B0BEC5\",\"#B0BEC5\",\"#B0BEC5\",\"#B0BEC5\",\"#B0BEC5\"]]}],\"label\":\"Topic 0\",\"method\":\"update\"},{\"args\":[{\"marker.color\":[[\"#B0BEC5\",\"red\",\"#B0BEC5\",\"#B0BEC5\",\"#B0BEC5\",\"#B0BEC5\",\"#B0BEC5\",\"#B0BEC5\",\"#B0BEC5\",\"#B0BEC5\",\"#B0BEC5\",\"#B0BEC5\",\"#B0BEC5\",\"#B0BEC5\",\"#B0BEC5\",\"#B0BEC5\",\"#B0BEC5\",\"#B0BEC5\",\"#B0BEC5\",\"#B0BEC5\",\"#B0BEC5\",\"#B0BEC5\",\"#B0BEC5\",\"#B0BEC5\",\"#B0BEC5\",\"#B0BEC5\",\"#B0BEC5\",\"#B0BEC5\",\"#B0BEC5\",\"#B0BEC5\",\"#B0BEC5\",\"#B0BEC5\",\"#B0BEC5\",\"#B0BEC5\",\"#B0BEC5\",\"#B0BEC5\",\"#B0BEC5\",\"#B0BEC5\",\"#B0BEC5\"]]}],\"label\":\"Topic 1\",\"method\":\"update\"},{\"args\":[{\"marker.color\":[[\"#B0BEC5\",\"#B0BEC5\",\"red\",\"#B0BEC5\",\"#B0BEC5\",\"#B0BEC5\",\"#B0BEC5\",\"#B0BEC5\",\"#B0BEC5\",\"#B0BEC5\",\"#B0BEC5\",\"#B0BEC5\",\"#B0BEC5\",\"#B0BEC5\",\"#B0BEC5\",\"#B0BEC5\",\"#B0BEC5\",\"#B0BEC5\",\"#B0BEC5\",\"#B0BEC5\",\"#B0BEC5\",\"#B0BEC5\",\"#B0BEC5\",\"#B0BEC5\",\"#B0BEC5\",\"#B0BEC5\",\"#B0BEC5\",\"#B0BEC5\",\"#B0BEC5\",\"#B0BEC5\",\"#B0BEC5\",\"#B0BEC5\",\"#B0BEC5\",\"#B0BEC5\",\"#B0BEC5\",\"#B0BEC5\",\"#B0BEC5\",\"#B0BEC5\",\"#B0BEC5\"]]}],\"label\":\"Topic 2\",\"method\":\"update\"},{\"args\":[{\"marker.color\":[[\"#B0BEC5\",\"#B0BEC5\",\"#B0BEC5\",\"red\",\"#B0BEC5\",\"#B0BEC5\",\"#B0BEC5\",\"#B0BEC5\",\"#B0BEC5\",\"#B0BEC5\",\"#B0BEC5\",\"#B0BEC5\",\"#B0BEC5\",\"#B0BEC5\",\"#B0BEC5\",\"#B0BEC5\",\"#B0BEC5\",\"#B0BEC5\",\"#B0BEC5\",\"#B0BEC5\",\"#B0BEC5\",\"#B0BEC5\",\"#B0BEC5\",\"#B0BEC5\",\"#B0BEC5\",\"#B0BEC5\",\"#B0BEC5\",\"#B0BEC5\",\"#B0BEC5\",\"#B0BEC5\",\"#B0BEC5\",\"#B0BEC5\",\"#B0BEC5\",\"#B0BEC5\",\"#B0BEC5\",\"#B0BEC5\",\"#B0BEC5\",\"#B0BEC5\",\"#B0BEC5\"]]}],\"label\":\"Topic 3\",\"method\":\"update\"},{\"args\":[{\"marker.color\":[[\"#B0BEC5\",\"#B0BEC5\",\"#B0BEC5\",\"#B0BEC5\",\"red\",\"#B0BEC5\",\"#B0BEC5\",\"#B0BEC5\",\"#B0BEC5\",\"#B0BEC5\",\"#B0BEC5\",\"#B0BEC5\",\"#B0BEC5\",\"#B0BEC5\",\"#B0BEC5\",\"#B0BEC5\",\"#B0BEC5\",\"#B0BEC5\",\"#B0BEC5\",\"#B0BEC5\",\"#B0BEC5\",\"#B0BEC5\",\"#B0BEC5\",\"#B0BEC5\",\"#B0BEC5\",\"#B0BEC5\",\"#B0BEC5\",\"#B0BEC5\",\"#B0BEC5\",\"#B0BEC5\",\"#B0BEC5\",\"#B0BEC5\",\"#B0BEC5\",\"#B0BEC5\",\"#B0BEC5\",\"#B0BEC5\",\"#B0BEC5\",\"#B0BEC5\",\"#B0BEC5\"]]}],\"label\":\"Topic 4\",\"method\":\"update\"},{\"args\":[{\"marker.color\":[[\"#B0BEC5\",\"#B0BEC5\",\"#B0BEC5\",\"#B0BEC5\",\"#B0BEC5\",\"red\",\"#B0BEC5\",\"#B0BEC5\",\"#B0BEC5\",\"#B0BEC5\",\"#B0BEC5\",\"#B0BEC5\",\"#B0BEC5\",\"#B0BEC5\",\"#B0BEC5\",\"#B0BEC5\",\"#B0BEC5\",\"#B0BEC5\",\"#B0BEC5\",\"#B0BEC5\",\"#B0BEC5\",\"#B0BEC5\",\"#B0BEC5\",\"#B0BEC5\",\"#B0BEC5\",\"#B0BEC5\",\"#B0BEC5\",\"#B0BEC5\",\"#B0BEC5\",\"#B0BEC5\",\"#B0BEC5\",\"#B0BEC5\",\"#B0BEC5\",\"#B0BEC5\",\"#B0BEC5\",\"#B0BEC5\",\"#B0BEC5\",\"#B0BEC5\",\"#B0BEC5\"]]}],\"label\":\"Topic 5\",\"method\":\"update\"},{\"args\":[{\"marker.color\":[[\"#B0BEC5\",\"#B0BEC5\",\"#B0BEC5\",\"#B0BEC5\",\"#B0BEC5\",\"#B0BEC5\",\"red\",\"#B0BEC5\",\"#B0BEC5\",\"#B0BEC5\",\"#B0BEC5\",\"#B0BEC5\",\"#B0BEC5\",\"#B0BEC5\",\"#B0BEC5\",\"#B0BEC5\",\"#B0BEC5\",\"#B0BEC5\",\"#B0BEC5\",\"#B0BEC5\",\"#B0BEC5\",\"#B0BEC5\",\"#B0BEC5\",\"#B0BEC5\",\"#B0BEC5\",\"#B0BEC5\",\"#B0BEC5\",\"#B0BEC5\",\"#B0BEC5\",\"#B0BEC5\",\"#B0BEC5\",\"#B0BEC5\",\"#B0BEC5\",\"#B0BEC5\",\"#B0BEC5\",\"#B0BEC5\",\"#B0BEC5\",\"#B0BEC5\",\"#B0BEC5\"]]}],\"label\":\"Topic 6\",\"method\":\"update\"},{\"args\":[{\"marker.color\":[[\"#B0BEC5\",\"#B0BEC5\",\"#B0BEC5\",\"#B0BEC5\",\"#B0BEC5\",\"#B0BEC5\",\"#B0BEC5\",\"red\",\"#B0BEC5\",\"#B0BEC5\",\"#B0BEC5\",\"#B0BEC5\",\"#B0BEC5\",\"#B0BEC5\",\"#B0BEC5\",\"#B0BEC5\",\"#B0BEC5\",\"#B0BEC5\",\"#B0BEC5\",\"#B0BEC5\",\"#B0BEC5\",\"#B0BEC5\",\"#B0BEC5\",\"#B0BEC5\",\"#B0BEC5\",\"#B0BEC5\",\"#B0BEC5\",\"#B0BEC5\",\"#B0BEC5\",\"#B0BEC5\",\"#B0BEC5\",\"#B0BEC5\",\"#B0BEC5\",\"#B0BEC5\",\"#B0BEC5\",\"#B0BEC5\",\"#B0BEC5\",\"#B0BEC5\",\"#B0BEC5\"]]}],\"label\":\"Topic 7\",\"method\":\"update\"},{\"args\":[{\"marker.color\":[[\"#B0BEC5\",\"#B0BEC5\",\"#B0BEC5\",\"#B0BEC5\",\"#B0BEC5\",\"#B0BEC5\",\"#B0BEC5\",\"#B0BEC5\",\"red\",\"#B0BEC5\",\"#B0BEC5\",\"#B0BEC5\",\"#B0BEC5\",\"#B0BEC5\",\"#B0BEC5\",\"#B0BEC5\",\"#B0BEC5\",\"#B0BEC5\",\"#B0BEC5\",\"#B0BEC5\",\"#B0BEC5\",\"#B0BEC5\",\"#B0BEC5\",\"#B0BEC5\",\"#B0BEC5\",\"#B0BEC5\",\"#B0BEC5\",\"#B0BEC5\",\"#B0BEC5\",\"#B0BEC5\",\"#B0BEC5\",\"#B0BEC5\",\"#B0BEC5\",\"#B0BEC5\",\"#B0BEC5\",\"#B0BEC5\",\"#B0BEC5\",\"#B0BEC5\",\"#B0BEC5\"]]}],\"label\":\"Topic 8\",\"method\":\"update\"},{\"args\":[{\"marker.color\":[[\"#B0BEC5\",\"#B0BEC5\",\"#B0BEC5\",\"#B0BEC5\",\"#B0BEC5\",\"#B0BEC5\",\"#B0BEC5\",\"#B0BEC5\",\"#B0BEC5\",\"red\",\"#B0BEC5\",\"#B0BEC5\",\"#B0BEC5\",\"#B0BEC5\",\"#B0BEC5\",\"#B0BEC5\",\"#B0BEC5\",\"#B0BEC5\",\"#B0BEC5\",\"#B0BEC5\",\"#B0BEC5\",\"#B0BEC5\",\"#B0BEC5\",\"#B0BEC5\",\"#B0BEC5\",\"#B0BEC5\",\"#B0BEC5\",\"#B0BEC5\",\"#B0BEC5\",\"#B0BEC5\",\"#B0BEC5\",\"#B0BEC5\",\"#B0BEC5\",\"#B0BEC5\",\"#B0BEC5\",\"#B0BEC5\",\"#B0BEC5\",\"#B0BEC5\",\"#B0BEC5\"]]}],\"label\":\"Topic 9\",\"method\":\"update\"},{\"args\":[{\"marker.color\":[[\"#B0BEC5\",\"#B0BEC5\",\"#B0BEC5\",\"#B0BEC5\",\"#B0BEC5\",\"#B0BEC5\",\"#B0BEC5\",\"#B0BEC5\",\"#B0BEC5\",\"#B0BEC5\",\"red\",\"#B0BEC5\",\"#B0BEC5\",\"#B0BEC5\",\"#B0BEC5\",\"#B0BEC5\",\"#B0BEC5\",\"#B0BEC5\",\"#B0BEC5\",\"#B0BEC5\",\"#B0BEC5\",\"#B0BEC5\",\"#B0BEC5\",\"#B0BEC5\",\"#B0BEC5\",\"#B0BEC5\",\"#B0BEC5\",\"#B0BEC5\",\"#B0BEC5\",\"#B0BEC5\",\"#B0BEC5\",\"#B0BEC5\",\"#B0BEC5\",\"#B0BEC5\",\"#B0BEC5\",\"#B0BEC5\",\"#B0BEC5\",\"#B0BEC5\",\"#B0BEC5\"]]}],\"label\":\"Topic 10\",\"method\":\"update\"},{\"args\":[{\"marker.color\":[[\"#B0BEC5\",\"#B0BEC5\",\"#B0BEC5\",\"#B0BEC5\",\"#B0BEC5\",\"#B0BEC5\",\"#B0BEC5\",\"#B0BEC5\",\"#B0BEC5\",\"#B0BEC5\",\"#B0BEC5\",\"red\",\"#B0BEC5\",\"#B0BEC5\",\"#B0BEC5\",\"#B0BEC5\",\"#B0BEC5\",\"#B0BEC5\",\"#B0BEC5\",\"#B0BEC5\",\"#B0BEC5\",\"#B0BEC5\",\"#B0BEC5\",\"#B0BEC5\",\"#B0BEC5\",\"#B0BEC5\",\"#B0BEC5\",\"#B0BEC5\",\"#B0BEC5\",\"#B0BEC5\",\"#B0BEC5\",\"#B0BEC5\",\"#B0BEC5\",\"#B0BEC5\",\"#B0BEC5\",\"#B0BEC5\",\"#B0BEC5\",\"#B0BEC5\",\"#B0BEC5\"]]}],\"label\":\"Topic 11\",\"method\":\"update\"},{\"args\":[{\"marker.color\":[[\"#B0BEC5\",\"#B0BEC5\",\"#B0BEC5\",\"#B0BEC5\",\"#B0BEC5\",\"#B0BEC5\",\"#B0BEC5\",\"#B0BEC5\",\"#B0BEC5\",\"#B0BEC5\",\"#B0BEC5\",\"#B0BEC5\",\"red\",\"#B0BEC5\",\"#B0BEC5\",\"#B0BEC5\",\"#B0BEC5\",\"#B0BEC5\",\"#B0BEC5\",\"#B0BEC5\",\"#B0BEC5\",\"#B0BEC5\",\"#B0BEC5\",\"#B0BEC5\",\"#B0BEC5\",\"#B0BEC5\",\"#B0BEC5\",\"#B0BEC5\",\"#B0BEC5\",\"#B0BEC5\",\"#B0BEC5\",\"#B0BEC5\",\"#B0BEC5\",\"#B0BEC5\",\"#B0BEC5\",\"#B0BEC5\",\"#B0BEC5\",\"#B0BEC5\",\"#B0BEC5\"]]}],\"label\":\"Topic 12\",\"method\":\"update\"},{\"args\":[{\"marker.color\":[[\"#B0BEC5\",\"#B0BEC5\",\"#B0BEC5\",\"#B0BEC5\",\"#B0BEC5\",\"#B0BEC5\",\"#B0BEC5\",\"#B0BEC5\",\"#B0BEC5\",\"#B0BEC5\",\"#B0BEC5\",\"#B0BEC5\",\"#B0BEC5\",\"red\",\"#B0BEC5\",\"#B0BEC5\",\"#B0BEC5\",\"#B0BEC5\",\"#B0BEC5\",\"#B0BEC5\",\"#B0BEC5\",\"#B0BEC5\",\"#B0BEC5\",\"#B0BEC5\",\"#B0BEC5\",\"#B0BEC5\",\"#B0BEC5\",\"#B0BEC5\",\"#B0BEC5\",\"#B0BEC5\",\"#B0BEC5\",\"#B0BEC5\",\"#B0BEC5\",\"#B0BEC5\",\"#B0BEC5\",\"#B0BEC5\",\"#B0BEC5\",\"#B0BEC5\",\"#B0BEC5\"]]}],\"label\":\"Topic 13\",\"method\":\"update\"},{\"args\":[{\"marker.color\":[[\"#B0BEC5\",\"#B0BEC5\",\"#B0BEC5\",\"#B0BEC5\",\"#B0BEC5\",\"#B0BEC5\",\"#B0BEC5\",\"#B0BEC5\",\"#B0BEC5\",\"#B0BEC5\",\"#B0BEC5\",\"#B0BEC5\",\"#B0BEC5\",\"#B0BEC5\",\"red\",\"#B0BEC5\",\"#B0BEC5\",\"#B0BEC5\",\"#B0BEC5\",\"#B0BEC5\",\"#B0BEC5\",\"#B0BEC5\",\"#B0BEC5\",\"#B0BEC5\",\"#B0BEC5\",\"#B0BEC5\",\"#B0BEC5\",\"#B0BEC5\",\"#B0BEC5\",\"#B0BEC5\",\"#B0BEC5\",\"#B0BEC5\",\"#B0BEC5\",\"#B0BEC5\",\"#B0BEC5\",\"#B0BEC5\",\"#B0BEC5\",\"#B0BEC5\",\"#B0BEC5\"]]}],\"label\":\"Topic 14\",\"method\":\"update\"},{\"args\":[{\"marker.color\":[[\"#B0BEC5\",\"#B0BEC5\",\"#B0BEC5\",\"#B0BEC5\",\"#B0BEC5\",\"#B0BEC5\",\"#B0BEC5\",\"#B0BEC5\",\"#B0BEC5\",\"#B0BEC5\",\"#B0BEC5\",\"#B0BEC5\",\"#B0BEC5\",\"#B0BEC5\",\"#B0BEC5\",\"red\",\"#B0BEC5\",\"#B0BEC5\",\"#B0BEC5\",\"#B0BEC5\",\"#B0BEC5\",\"#B0BEC5\",\"#B0BEC5\",\"#B0BEC5\",\"#B0BEC5\",\"#B0BEC5\",\"#B0BEC5\",\"#B0BEC5\",\"#B0BEC5\",\"#B0BEC5\",\"#B0BEC5\",\"#B0BEC5\",\"#B0BEC5\",\"#B0BEC5\",\"#B0BEC5\",\"#B0BEC5\",\"#B0BEC5\",\"#B0BEC5\",\"#B0BEC5\"]]}],\"label\":\"Topic 15\",\"method\":\"update\"},{\"args\":[{\"marker.color\":[[\"#B0BEC5\",\"#B0BEC5\",\"#B0BEC5\",\"#B0BEC5\",\"#B0BEC5\",\"#B0BEC5\",\"#B0BEC5\",\"#B0BEC5\",\"#B0BEC5\",\"#B0BEC5\",\"#B0BEC5\",\"#B0BEC5\",\"#B0BEC5\",\"#B0BEC5\",\"#B0BEC5\",\"#B0BEC5\",\"red\",\"#B0BEC5\",\"#B0BEC5\",\"#B0BEC5\",\"#B0BEC5\",\"#B0BEC5\",\"#B0BEC5\",\"#B0BEC5\",\"#B0BEC5\",\"#B0BEC5\",\"#B0BEC5\",\"#B0BEC5\",\"#B0BEC5\",\"#B0BEC5\",\"#B0BEC5\",\"#B0BEC5\",\"#B0BEC5\",\"#B0BEC5\",\"#B0BEC5\",\"#B0BEC5\",\"#B0BEC5\",\"#B0BEC5\",\"#B0BEC5\"]]}],\"label\":\"Topic 16\",\"method\":\"update\"},{\"args\":[{\"marker.color\":[[\"#B0BEC5\",\"#B0BEC5\",\"#B0BEC5\",\"#B0BEC5\",\"#B0BEC5\",\"#B0BEC5\",\"#B0BEC5\",\"#B0BEC5\",\"#B0BEC5\",\"#B0BEC5\",\"#B0BEC5\",\"#B0BEC5\",\"#B0BEC5\",\"#B0BEC5\",\"#B0BEC5\",\"#B0BEC5\",\"#B0BEC5\",\"red\",\"#B0BEC5\",\"#B0BEC5\",\"#B0BEC5\",\"#B0BEC5\",\"#B0BEC5\",\"#B0BEC5\",\"#B0BEC5\",\"#B0BEC5\",\"#B0BEC5\",\"#B0BEC5\",\"#B0BEC5\",\"#B0BEC5\",\"#B0BEC5\",\"#B0BEC5\",\"#B0BEC5\",\"#B0BEC5\",\"#B0BEC5\",\"#B0BEC5\",\"#B0BEC5\",\"#B0BEC5\",\"#B0BEC5\"]]}],\"label\":\"Topic 17\",\"method\":\"update\"},{\"args\":[{\"marker.color\":[[\"#B0BEC5\",\"#B0BEC5\",\"#B0BEC5\",\"#B0BEC5\",\"#B0BEC5\",\"#B0BEC5\",\"#B0BEC5\",\"#B0BEC5\",\"#B0BEC5\",\"#B0BEC5\",\"#B0BEC5\",\"#B0BEC5\",\"#B0BEC5\",\"#B0BEC5\",\"#B0BEC5\",\"#B0BEC5\",\"#B0BEC5\",\"#B0BEC5\",\"red\",\"#B0BEC5\",\"#B0BEC5\",\"#B0BEC5\",\"#B0BEC5\",\"#B0BEC5\",\"#B0BEC5\",\"#B0BEC5\",\"#B0BEC5\",\"#B0BEC5\",\"#B0BEC5\",\"#B0BEC5\",\"#B0BEC5\",\"#B0BEC5\",\"#B0BEC5\",\"#B0BEC5\",\"#B0BEC5\",\"#B0BEC5\",\"#B0BEC5\",\"#B0BEC5\",\"#B0BEC5\"]]}],\"label\":\"Topic 18\",\"method\":\"update\"},{\"args\":[{\"marker.color\":[[\"#B0BEC5\",\"#B0BEC5\",\"#B0BEC5\",\"#B0BEC5\",\"#B0BEC5\",\"#B0BEC5\",\"#B0BEC5\",\"#B0BEC5\",\"#B0BEC5\",\"#B0BEC5\",\"#B0BEC5\",\"#B0BEC5\",\"#B0BEC5\",\"#B0BEC5\",\"#B0BEC5\",\"#B0BEC5\",\"#B0BEC5\",\"#B0BEC5\",\"#B0BEC5\",\"red\",\"#B0BEC5\",\"#B0BEC5\",\"#B0BEC5\",\"#B0BEC5\",\"#B0BEC5\",\"#B0BEC5\",\"#B0BEC5\",\"#B0BEC5\",\"#B0BEC5\",\"#B0BEC5\",\"#B0BEC5\",\"#B0BEC5\",\"#B0BEC5\",\"#B0BEC5\",\"#B0BEC5\",\"#B0BEC5\",\"#B0BEC5\",\"#B0BEC5\",\"#B0BEC5\"]]}],\"label\":\"Topic 19\",\"method\":\"update\"},{\"args\":[{\"marker.color\":[[\"#B0BEC5\",\"#B0BEC5\",\"#B0BEC5\",\"#B0BEC5\",\"#B0BEC5\",\"#B0BEC5\",\"#B0BEC5\",\"#B0BEC5\",\"#B0BEC5\",\"#B0BEC5\",\"#B0BEC5\",\"#B0BEC5\",\"#B0BEC5\",\"#B0BEC5\",\"#B0BEC5\",\"#B0BEC5\",\"#B0BEC5\",\"#B0BEC5\",\"#B0BEC5\",\"#B0BEC5\",\"red\",\"#B0BEC5\",\"#B0BEC5\",\"#B0BEC5\",\"#B0BEC5\",\"#B0BEC5\",\"#B0BEC5\",\"#B0BEC5\",\"#B0BEC5\",\"#B0BEC5\",\"#B0BEC5\",\"#B0BEC5\",\"#B0BEC5\",\"#B0BEC5\",\"#B0BEC5\",\"#B0BEC5\",\"#B0BEC5\",\"#B0BEC5\",\"#B0BEC5\"]]}],\"label\":\"Topic 20\",\"method\":\"update\"},{\"args\":[{\"marker.color\":[[\"#B0BEC5\",\"#B0BEC5\",\"#B0BEC5\",\"#B0BEC5\",\"#B0BEC5\",\"#B0BEC5\",\"#B0BEC5\",\"#B0BEC5\",\"#B0BEC5\",\"#B0BEC5\",\"#B0BEC5\",\"#B0BEC5\",\"#B0BEC5\",\"#B0BEC5\",\"#B0BEC5\",\"#B0BEC5\",\"#B0BEC5\",\"#B0BEC5\",\"#B0BEC5\",\"#B0BEC5\",\"#B0BEC5\",\"red\",\"#B0BEC5\",\"#B0BEC5\",\"#B0BEC5\",\"#B0BEC5\",\"#B0BEC5\",\"#B0BEC5\",\"#B0BEC5\",\"#B0BEC5\",\"#B0BEC5\",\"#B0BEC5\",\"#B0BEC5\",\"#B0BEC5\",\"#B0BEC5\",\"#B0BEC5\",\"#B0BEC5\",\"#B0BEC5\",\"#B0BEC5\"]]}],\"label\":\"Topic 21\",\"method\":\"update\"},{\"args\":[{\"marker.color\":[[\"#B0BEC5\",\"#B0BEC5\",\"#B0BEC5\",\"#B0BEC5\",\"#B0BEC5\",\"#B0BEC5\",\"#B0BEC5\",\"#B0BEC5\",\"#B0BEC5\",\"#B0BEC5\",\"#B0BEC5\",\"#B0BEC5\",\"#B0BEC5\",\"#B0BEC5\",\"#B0BEC5\",\"#B0BEC5\",\"#B0BEC5\",\"#B0BEC5\",\"#B0BEC5\",\"#B0BEC5\",\"#B0BEC5\",\"#B0BEC5\",\"red\",\"#B0BEC5\",\"#B0BEC5\",\"#B0BEC5\",\"#B0BEC5\",\"#B0BEC5\",\"#B0BEC5\",\"#B0BEC5\",\"#B0BEC5\",\"#B0BEC5\",\"#B0BEC5\",\"#B0BEC5\",\"#B0BEC5\",\"#B0BEC5\",\"#B0BEC5\",\"#B0BEC5\",\"#B0BEC5\"]]}],\"label\":\"Topic 22\",\"method\":\"update\"},{\"args\":[{\"marker.color\":[[\"#B0BEC5\",\"#B0BEC5\",\"#B0BEC5\",\"#B0BEC5\",\"#B0BEC5\",\"#B0BEC5\",\"#B0BEC5\",\"#B0BEC5\",\"#B0BEC5\",\"#B0BEC5\",\"#B0BEC5\",\"#B0BEC5\",\"#B0BEC5\",\"#B0BEC5\",\"#B0BEC5\",\"#B0BEC5\",\"#B0BEC5\",\"#B0BEC5\",\"#B0BEC5\",\"#B0BEC5\",\"#B0BEC5\",\"#B0BEC5\",\"#B0BEC5\",\"red\",\"#B0BEC5\",\"#B0BEC5\",\"#B0BEC5\",\"#B0BEC5\",\"#B0BEC5\",\"#B0BEC5\",\"#B0BEC5\",\"#B0BEC5\",\"#B0BEC5\",\"#B0BEC5\",\"#B0BEC5\",\"#B0BEC5\",\"#B0BEC5\",\"#B0BEC5\",\"#B0BEC5\"]]}],\"label\":\"Topic 23\",\"method\":\"update\"},{\"args\":[{\"marker.color\":[[\"#B0BEC5\",\"#B0BEC5\",\"#B0BEC5\",\"#B0BEC5\",\"#B0BEC5\",\"#B0BEC5\",\"#B0BEC5\",\"#B0BEC5\",\"#B0BEC5\",\"#B0BEC5\",\"#B0BEC5\",\"#B0BEC5\",\"#B0BEC5\",\"#B0BEC5\",\"#B0BEC5\",\"#B0BEC5\",\"#B0BEC5\",\"#B0BEC5\",\"#B0BEC5\",\"#B0BEC5\",\"#B0BEC5\",\"#B0BEC5\",\"#B0BEC5\",\"#B0BEC5\",\"red\",\"#B0BEC5\",\"#B0BEC5\",\"#B0BEC5\",\"#B0BEC5\",\"#B0BEC5\",\"#B0BEC5\",\"#B0BEC5\",\"#B0BEC5\",\"#B0BEC5\",\"#B0BEC5\",\"#B0BEC5\",\"#B0BEC5\",\"#B0BEC5\",\"#B0BEC5\"]]}],\"label\":\"Topic 24\",\"method\":\"update\"},{\"args\":[{\"marker.color\":[[\"#B0BEC5\",\"#B0BEC5\",\"#B0BEC5\",\"#B0BEC5\",\"#B0BEC5\",\"#B0BEC5\",\"#B0BEC5\",\"#B0BEC5\",\"#B0BEC5\",\"#B0BEC5\",\"#B0BEC5\",\"#B0BEC5\",\"#B0BEC5\",\"#B0BEC5\",\"#B0BEC5\",\"#B0BEC5\",\"#B0BEC5\",\"#B0BEC5\",\"#B0BEC5\",\"#B0BEC5\",\"#B0BEC5\",\"#B0BEC5\",\"#B0BEC5\",\"#B0BEC5\",\"#B0BEC5\",\"red\",\"#B0BEC5\",\"#B0BEC5\",\"#B0BEC5\",\"#B0BEC5\",\"#B0BEC5\",\"#B0BEC5\",\"#B0BEC5\",\"#B0BEC5\",\"#B0BEC5\",\"#B0BEC5\",\"#B0BEC5\",\"#B0BEC5\",\"#B0BEC5\"]]}],\"label\":\"Topic 25\",\"method\":\"update\"},{\"args\":[{\"marker.color\":[[\"#B0BEC5\",\"#B0BEC5\",\"#B0BEC5\",\"#B0BEC5\",\"#B0BEC5\",\"#B0BEC5\",\"#B0BEC5\",\"#B0BEC5\",\"#B0BEC5\",\"#B0BEC5\",\"#B0BEC5\",\"#B0BEC5\",\"#B0BEC5\",\"#B0BEC5\",\"#B0BEC5\",\"#B0BEC5\",\"#B0BEC5\",\"#B0BEC5\",\"#B0BEC5\",\"#B0BEC5\",\"#B0BEC5\",\"#B0BEC5\",\"#B0BEC5\",\"#B0BEC5\",\"#B0BEC5\",\"#B0BEC5\",\"red\",\"#B0BEC5\",\"#B0BEC5\",\"#B0BEC5\",\"#B0BEC5\",\"#B0BEC5\",\"#B0BEC5\",\"#B0BEC5\",\"#B0BEC5\",\"#B0BEC5\",\"#B0BEC5\",\"#B0BEC5\",\"#B0BEC5\"]]}],\"label\":\"Topic 26\",\"method\":\"update\"},{\"args\":[{\"marker.color\":[[\"#B0BEC5\",\"#B0BEC5\",\"#B0BEC5\",\"#B0BEC5\",\"#B0BEC5\",\"#B0BEC5\",\"#B0BEC5\",\"#B0BEC5\",\"#B0BEC5\",\"#B0BEC5\",\"#B0BEC5\",\"#B0BEC5\",\"#B0BEC5\",\"#B0BEC5\",\"#B0BEC5\",\"#B0BEC5\",\"#B0BEC5\",\"#B0BEC5\",\"#B0BEC5\",\"#B0BEC5\",\"#B0BEC5\",\"#B0BEC5\",\"#B0BEC5\",\"#B0BEC5\",\"#B0BEC5\",\"#B0BEC5\",\"#B0BEC5\",\"red\",\"#B0BEC5\",\"#B0BEC5\",\"#B0BEC5\",\"#B0BEC5\",\"#B0BEC5\",\"#B0BEC5\",\"#B0BEC5\",\"#B0BEC5\",\"#B0BEC5\",\"#B0BEC5\",\"#B0BEC5\"]]}],\"label\":\"Topic 27\",\"method\":\"update\"},{\"args\":[{\"marker.color\":[[\"#B0BEC5\",\"#B0BEC5\",\"#B0BEC5\",\"#B0BEC5\",\"#B0BEC5\",\"#B0BEC5\",\"#B0BEC5\",\"#B0BEC5\",\"#B0BEC5\",\"#B0BEC5\",\"#B0BEC5\",\"#B0BEC5\",\"#B0BEC5\",\"#B0BEC5\",\"#B0BEC5\",\"#B0BEC5\",\"#B0BEC5\",\"#B0BEC5\",\"#B0BEC5\",\"#B0BEC5\",\"#B0BEC5\",\"#B0BEC5\",\"#B0BEC5\",\"#B0BEC5\",\"#B0BEC5\",\"#B0BEC5\",\"#B0BEC5\",\"#B0BEC5\",\"red\",\"#B0BEC5\",\"#B0BEC5\",\"#B0BEC5\",\"#B0BEC5\",\"#B0BEC5\",\"#B0BEC5\",\"#B0BEC5\",\"#B0BEC5\",\"#B0BEC5\",\"#B0BEC5\"]]}],\"label\":\"Topic 28\",\"method\":\"update\"},{\"args\":[{\"marker.color\":[[\"#B0BEC5\",\"#B0BEC5\",\"#B0BEC5\",\"#B0BEC5\",\"#B0BEC5\",\"#B0BEC5\",\"#B0BEC5\",\"#B0BEC5\",\"#B0BEC5\",\"#B0BEC5\",\"#B0BEC5\",\"#B0BEC5\",\"#B0BEC5\",\"#B0BEC5\",\"#B0BEC5\",\"#B0BEC5\",\"#B0BEC5\",\"#B0BEC5\",\"#B0BEC5\",\"#B0BEC5\",\"#B0BEC5\",\"#B0BEC5\",\"#B0BEC5\",\"#B0BEC5\",\"#B0BEC5\",\"#B0BEC5\",\"#B0BEC5\",\"#B0BEC5\",\"#B0BEC5\",\"red\",\"#B0BEC5\",\"#B0BEC5\",\"#B0BEC5\",\"#B0BEC5\",\"#B0BEC5\",\"#B0BEC5\",\"#B0BEC5\",\"#B0BEC5\",\"#B0BEC5\"]]}],\"label\":\"Topic 29\",\"method\":\"update\"},{\"args\":[{\"marker.color\":[[\"#B0BEC5\",\"#B0BEC5\",\"#B0BEC5\",\"#B0BEC5\",\"#B0BEC5\",\"#B0BEC5\",\"#B0BEC5\",\"#B0BEC5\",\"#B0BEC5\",\"#B0BEC5\",\"#B0BEC5\",\"#B0BEC5\",\"#B0BEC5\",\"#B0BEC5\",\"#B0BEC5\",\"#B0BEC5\",\"#B0BEC5\",\"#B0BEC5\",\"#B0BEC5\",\"#B0BEC5\",\"#B0BEC5\",\"#B0BEC5\",\"#B0BEC5\",\"#B0BEC5\",\"#B0BEC5\",\"#B0BEC5\",\"#B0BEC5\",\"#B0BEC5\",\"#B0BEC5\",\"#B0BEC5\",\"red\",\"#B0BEC5\",\"#B0BEC5\",\"#B0BEC5\",\"#B0BEC5\",\"#B0BEC5\",\"#B0BEC5\",\"#B0BEC5\",\"#B0BEC5\"]]}],\"label\":\"Topic 30\",\"method\":\"update\"},{\"args\":[{\"marker.color\":[[\"#B0BEC5\",\"#B0BEC5\",\"#B0BEC5\",\"#B0BEC5\",\"#B0BEC5\",\"#B0BEC5\",\"#B0BEC5\",\"#B0BEC5\",\"#B0BEC5\",\"#B0BEC5\",\"#B0BEC5\",\"#B0BEC5\",\"#B0BEC5\",\"#B0BEC5\",\"#B0BEC5\",\"#B0BEC5\",\"#B0BEC5\",\"#B0BEC5\",\"#B0BEC5\",\"#B0BEC5\",\"#B0BEC5\",\"#B0BEC5\",\"#B0BEC5\",\"#B0BEC5\",\"#B0BEC5\",\"#B0BEC5\",\"#B0BEC5\",\"#B0BEC5\",\"#B0BEC5\",\"#B0BEC5\",\"#B0BEC5\",\"red\",\"#B0BEC5\",\"#B0BEC5\",\"#B0BEC5\",\"#B0BEC5\",\"#B0BEC5\",\"#B0BEC5\",\"#B0BEC5\"]]}],\"label\":\"Topic 31\",\"method\":\"update\"},{\"args\":[{\"marker.color\":[[\"#B0BEC5\",\"#B0BEC5\",\"#B0BEC5\",\"#B0BEC5\",\"#B0BEC5\",\"#B0BEC5\",\"#B0BEC5\",\"#B0BEC5\",\"#B0BEC5\",\"#B0BEC5\",\"#B0BEC5\",\"#B0BEC5\",\"#B0BEC5\",\"#B0BEC5\",\"#B0BEC5\",\"#B0BEC5\",\"#B0BEC5\",\"#B0BEC5\",\"#B0BEC5\",\"#B0BEC5\",\"#B0BEC5\",\"#B0BEC5\",\"#B0BEC5\",\"#B0BEC5\",\"#B0BEC5\",\"#B0BEC5\",\"#B0BEC5\",\"#B0BEC5\",\"#B0BEC5\",\"#B0BEC5\",\"#B0BEC5\",\"#B0BEC5\",\"red\",\"#B0BEC5\",\"#B0BEC5\",\"#B0BEC5\",\"#B0BEC5\",\"#B0BEC5\",\"#B0BEC5\"]]}],\"label\":\"Topic 32\",\"method\":\"update\"},{\"args\":[{\"marker.color\":[[\"#B0BEC5\",\"#B0BEC5\",\"#B0BEC5\",\"#B0BEC5\",\"#B0BEC5\",\"#B0BEC5\",\"#B0BEC5\",\"#B0BEC5\",\"#B0BEC5\",\"#B0BEC5\",\"#B0BEC5\",\"#B0BEC5\",\"#B0BEC5\",\"#B0BEC5\",\"#B0BEC5\",\"#B0BEC5\",\"#B0BEC5\",\"#B0BEC5\",\"#B0BEC5\",\"#B0BEC5\",\"#B0BEC5\",\"#B0BEC5\",\"#B0BEC5\",\"#B0BEC5\",\"#B0BEC5\",\"#B0BEC5\",\"#B0BEC5\",\"#B0BEC5\",\"#B0BEC5\",\"#B0BEC5\",\"#B0BEC5\",\"#B0BEC5\",\"#B0BEC5\",\"red\",\"#B0BEC5\",\"#B0BEC5\",\"#B0BEC5\",\"#B0BEC5\",\"#B0BEC5\"]]}],\"label\":\"Topic 33\",\"method\":\"update\"},{\"args\":[{\"marker.color\":[[\"#B0BEC5\",\"#B0BEC5\",\"#B0BEC5\",\"#B0BEC5\",\"#B0BEC5\",\"#B0BEC5\",\"#B0BEC5\",\"#B0BEC5\",\"#B0BEC5\",\"#B0BEC5\",\"#B0BEC5\",\"#B0BEC5\",\"#B0BEC5\",\"#B0BEC5\",\"#B0BEC5\",\"#B0BEC5\",\"#B0BEC5\",\"#B0BEC5\",\"#B0BEC5\",\"#B0BEC5\",\"#B0BEC5\",\"#B0BEC5\",\"#B0BEC5\",\"#B0BEC5\",\"#B0BEC5\",\"#B0BEC5\",\"#B0BEC5\",\"#B0BEC5\",\"#B0BEC5\",\"#B0BEC5\",\"#B0BEC5\",\"#B0BEC5\",\"#B0BEC5\",\"#B0BEC5\",\"red\",\"#B0BEC5\",\"#B0BEC5\",\"#B0BEC5\",\"#B0BEC5\"]]}],\"label\":\"Topic 34\",\"method\":\"update\"},{\"args\":[{\"marker.color\":[[\"#B0BEC5\",\"#B0BEC5\",\"#B0BEC5\",\"#B0BEC5\",\"#B0BEC5\",\"#B0BEC5\",\"#B0BEC5\",\"#B0BEC5\",\"#B0BEC5\",\"#B0BEC5\",\"#B0BEC5\",\"#B0BEC5\",\"#B0BEC5\",\"#B0BEC5\",\"#B0BEC5\",\"#B0BEC5\",\"#B0BEC5\",\"#B0BEC5\",\"#B0BEC5\",\"#B0BEC5\",\"#B0BEC5\",\"#B0BEC5\",\"#B0BEC5\",\"#B0BEC5\",\"#B0BEC5\",\"#B0BEC5\",\"#B0BEC5\",\"#B0BEC5\",\"#B0BEC5\",\"#B0BEC5\",\"#B0BEC5\",\"#B0BEC5\",\"#B0BEC5\",\"#B0BEC5\",\"#B0BEC5\",\"red\",\"#B0BEC5\",\"#B0BEC5\",\"#B0BEC5\"]]}],\"label\":\"Topic 35\",\"method\":\"update\"},{\"args\":[{\"marker.color\":[[\"#B0BEC5\",\"#B0BEC5\",\"#B0BEC5\",\"#B0BEC5\",\"#B0BEC5\",\"#B0BEC5\",\"#B0BEC5\",\"#B0BEC5\",\"#B0BEC5\",\"#B0BEC5\",\"#B0BEC5\",\"#B0BEC5\",\"#B0BEC5\",\"#B0BEC5\",\"#B0BEC5\",\"#B0BEC5\",\"#B0BEC5\",\"#B0BEC5\",\"#B0BEC5\",\"#B0BEC5\",\"#B0BEC5\",\"#B0BEC5\",\"#B0BEC5\",\"#B0BEC5\",\"#B0BEC5\",\"#B0BEC5\",\"#B0BEC5\",\"#B0BEC5\",\"#B0BEC5\",\"#B0BEC5\",\"#B0BEC5\",\"#B0BEC5\",\"#B0BEC5\",\"#B0BEC5\",\"#B0BEC5\",\"#B0BEC5\",\"red\",\"#B0BEC5\",\"#B0BEC5\"]]}],\"label\":\"Topic 36\",\"method\":\"update\"},{\"args\":[{\"marker.color\":[[\"#B0BEC5\",\"#B0BEC5\",\"#B0BEC5\",\"#B0BEC5\",\"#B0BEC5\",\"#B0BEC5\",\"#B0BEC5\",\"#B0BEC5\",\"#B0BEC5\",\"#B0BEC5\",\"#B0BEC5\",\"#B0BEC5\",\"#B0BEC5\",\"#B0BEC5\",\"#B0BEC5\",\"#B0BEC5\",\"#B0BEC5\",\"#B0BEC5\",\"#B0BEC5\",\"#B0BEC5\",\"#B0BEC5\",\"#B0BEC5\",\"#B0BEC5\",\"#B0BEC5\",\"#B0BEC5\",\"#B0BEC5\",\"#B0BEC5\",\"#B0BEC5\",\"#B0BEC5\",\"#B0BEC5\",\"#B0BEC5\",\"#B0BEC5\",\"#B0BEC5\",\"#B0BEC5\",\"#B0BEC5\",\"#B0BEC5\",\"#B0BEC5\",\"red\",\"#B0BEC5\"]]}],\"label\":\"Topic 37\",\"method\":\"update\"},{\"args\":[{\"marker.color\":[[\"#B0BEC5\",\"#B0BEC5\",\"#B0BEC5\",\"#B0BEC5\",\"#B0BEC5\",\"#B0BEC5\",\"#B0BEC5\",\"#B0BEC5\",\"#B0BEC5\",\"#B0BEC5\",\"#B0BEC5\",\"#B0BEC5\",\"#B0BEC5\",\"#B0BEC5\",\"#B0BEC5\",\"#B0BEC5\",\"#B0BEC5\",\"#B0BEC5\",\"#B0BEC5\",\"#B0BEC5\",\"#B0BEC5\",\"#B0BEC5\",\"#B0BEC5\",\"#B0BEC5\",\"#B0BEC5\",\"#B0BEC5\",\"#B0BEC5\",\"#B0BEC5\",\"#B0BEC5\",\"#B0BEC5\",\"#B0BEC5\",\"#B0BEC5\",\"#B0BEC5\",\"#B0BEC5\",\"#B0BEC5\",\"#B0BEC5\",\"#B0BEC5\",\"#B0BEC5\",\"red\"]]}],\"label\":\"Topic 38\",\"method\":\"update\"}]}],\"shapes\":[{\"line\":{\"color\":\"#CFD8DC\",\"width\":2},\"type\":\"line\",\"x0\":5.53523291349411,\"x1\":5.53523291349411,\"y0\":-2.230173408985138,\"y1\":14.968666267395019},{\"line\":{\"color\":\"#9E9E9E\",\"width\":2},\"type\":\"line\",\"x0\":-8.415309929847718,\"x1\":19.485775756835938,\"y0\":6.36924642920494,\"y1\":6.36924642920494}],\"annotations\":[{\"showarrow\":false,\"text\":\"D1\",\"x\":-8.415309929847718,\"y\":6.36924642920494,\"yshift\":10},{\"showarrow\":false,\"text\":\"D2\",\"x\":5.53523291349411,\"xshift\":10,\"y\":14.968666267395019}]},                        {\"responsive\": true}                    ).then(function(){\n",
              "                            \n",
              "var gd = document.getElementById('0b37e3ee-22fa-4d59-925d-a7bb062360dd');\n",
              "var x = new MutationObserver(function (mutations, observer) {{\n",
              "        var display = window.getComputedStyle(gd).display;\n",
              "        if (!display || display === 'none') {{\n",
              "            console.log([gd, 'removed!']);\n",
              "            Plotly.purge(gd);\n",
              "            observer.disconnect();\n",
              "        }}\n",
              "}});\n",
              "\n",
              "// Listen for the removal of the full notebook cells\n",
              "var notebookContainer = gd.closest('#notebook-container');\n",
              "if (notebookContainer) {{\n",
              "    x.observe(notebookContainer, {childList: true});\n",
              "}}\n",
              "\n",
              "// Listen for the clearing of the current output cell\n",
              "var outputEl = gd.closest('.output');\n",
              "if (outputEl) {{\n",
              "    x.observe(outputEl, {childList: true});\n",
              "}}\n",
              "\n",
              "                        })                };                            </script>        </div>\n",
              "</body>\n",
              "</html>"
            ]
          },
          "metadata": {}
        }
      ],
      "source": [
        "# visualize topics\n",
        "new_topic_model.visualize_topics()"
      ]
    },
    {
      "cell_type": "code",
      "source": [
        "# visualize topic hierarchy\n",
        "new_topic_model.visualize_hierarchy(top_n_topics=40)"
      ],
      "metadata": {
        "colab": {
          "base_uri": "https://localhost:8080/",
          "height": 802
        },
        "id": "nUxdfL4cpVOx",
        "outputId": "8805799f-a2f5-4566-f448-927619575f80"
      },
      "execution_count": null,
      "outputs": [
        {
          "output_type": "display_data",
          "data": {
            "text/html": [
              "<html>\n",
              "<head><meta charset=\"utf-8\" /></head>\n",
              "<body>\n",
              "    <div>            <script src=\"https://cdnjs.cloudflare.com/ajax/libs/mathjax/2.7.5/MathJax.js?config=TeX-AMS-MML_SVG\"></script><script type=\"text/javascript\">if (window.MathJax && window.MathJax.Hub && window.MathJax.Hub.Config) {window.MathJax.Hub.Config({SVG: {font: \"STIX-Web\"}});}</script>                <script type=\"text/javascript\">window.PlotlyConfig = {MathJaxConfig: 'local'};</script>\n",
              "        <script src=\"https://cdn.plot.ly/plotly-2.18.2.min.js\"></script>                <div id=\"1f047ca4-92df-41c2-80fd-43cae6ef672d\" class=\"plotly-graph-div\" style=\"height:785px; width:1000px;\"></div>            <script type=\"text/javascript\">                                    window.PLOTLYENV=window.PLOTLYENV || {};                                    if (document.getElementById(\"1f047ca4-92df-41c2-80fd-43cae6ef672d\")) {                    Plotly.newPlot(                        \"1f047ca4-92df-41c2-80fd-43cae6ef672d\",                        [{\"hoverinfo\":\"text\",\"marker\":{\"color\":\"rgb(61,153,112)\"},\"mode\":\"lines\",\"x\":[0.0,0.8242805167219617,0.8242805167219617,0.0],\"xaxis\":\"x\",\"y\":[-15.0,-15.0,-25.0,-25.0],\"yaxis\":\"y\",\"type\":\"scatter\"},{\"hoverinfo\":\"text\",\"marker\":{\"color\":\"rgb(255,65,54)\"},\"mode\":\"lines\",\"x\":[0.0,0.8762562820698169,0.8762562820698169,0.0],\"xaxis\":\"x\",\"y\":[-45.0,-45.0,-55.0,-55.0],\"yaxis\":\"y\",\"type\":\"scatter\"},{\"hoverinfo\":\"text\",\"marker\":{\"color\":\"rgb(255,65,54)\"},\"mode\":\"lines\",\"x\":[0.0,0.8970719080144018,0.8970719080144018,0.8762562820698169],\"xaxis\":\"x\",\"y\":[-35.0,-35.0,-50.0,-50.0],\"yaxis\":\"y\",\"type\":\"scatter\"},{\"hoverinfo\":\"text\",\"marker\":{\"color\":\"rgb(255,65,54)\"},\"mode\":\"lines\",\"x\":[0.0,0.842563042712348,0.842563042712348,0.0],\"xaxis\":\"x\",\"y\":[-65.0,-65.0,-75.0,-75.0],\"yaxis\":\"y\",\"type\":\"scatter\"},{\"hoverinfo\":\"text\",\"marker\":{\"color\":\"rgb(255,65,54)\"},\"mode\":\"lines\",\"x\":[0.8970719080144018,0.9485081738702669,0.9485081738702669,0.842563042712348],\"xaxis\":\"x\",\"y\":[-42.5,-42.5,-70.0,-70.0],\"yaxis\":\"y\",\"type\":\"scatter\"},{\"hoverinfo\":\"text\",\"marker\":{\"color\":\"rgb(35,205,205)\"},\"mode\":\"lines\",\"x\":[0.0,0.9087548035653614,0.9087548035653614,0.0],\"xaxis\":\"x\",\"y\":[-85.0,-85.0,-95.0,-95.0],\"yaxis\":\"y\",\"type\":\"scatter\"},{\"hoverinfo\":\"text\",\"marker\":{\"color\":\"rgb(35,205,205)\"},\"mode\":\"lines\",\"x\":[0.0,0.9107350622897796,0.9107350622897796,0.0],\"xaxis\":\"x\",\"y\":[-115.0,-115.0,-125.0,-125.0],\"yaxis\":\"y\",\"type\":\"scatter\"},{\"hoverinfo\":\"text\",\"marker\":{\"color\":\"rgb(35,205,205)\"},\"mode\":\"lines\",\"x\":[0.0,0.9327010479588376,0.9327010479588376,0.9107350622897796],\"xaxis\":\"x\",\"y\":[-105.0,-105.0,-120.0,-120.0],\"yaxis\":\"y\",\"type\":\"scatter\"},{\"hoverinfo\":\"text\",\"marker\":{\"color\":\"rgb(35,205,205)\"},\"mode\":\"lines\",\"x\":[0.9087548035653614,0.9685013014496331,0.9685013014496331,0.9327010479588376],\"xaxis\":\"x\",\"y\":[-90.0,-90.0,-112.5,-112.5],\"yaxis\":\"y\",\"type\":\"scatter\"},{\"hoverinfo\":\"text\",\"marker\":{\"color\":\"rgb(35,205,205)\"},\"mode\":\"lines\",\"x\":[0.0,0.9326761499271333,0.9326761499271333,0.0],\"xaxis\":\"x\",\"y\":[-135.0,-135.0,-145.0,-145.0],\"yaxis\":\"y\",\"type\":\"scatter\"},{\"hoverinfo\":\"text\",\"marker\":{\"color\":\"rgb(35,205,205)\"},\"mode\":\"lines\",\"x\":[0.9326761499271333,0.9612308543300373,0.9612308543300373,0.0],\"xaxis\":\"x\",\"y\":[-140.0,-140.0,-155.0,-155.0],\"yaxis\":\"y\",\"type\":\"scatter\"},{\"hoverinfo\":\"text\",\"marker\":{\"color\":\"rgb(35,205,205)\"},\"mode\":\"lines\",\"x\":[0.9685013014496331,0.9806610921675328,0.9806610921675328,0.9612308543300373],\"xaxis\":\"x\",\"y\":[-101.25,-101.25,-147.5,-147.5],\"yaxis\":\"y\",\"type\":\"scatter\"},{\"hoverinfo\":\"text\",\"marker\":{\"color\":\"rgb(0,116,217)\"},\"mode\":\"lines\",\"x\":[0.9485081738702669,1.020716248141806,1.020716248141806,0.9806610921675328],\"xaxis\":\"x\",\"y\":[-56.25,-56.25,-124.375,-124.375],\"yaxis\":\"y\",\"type\":\"scatter\"},{\"hoverinfo\":\"text\",\"marker\":{\"color\":\"rgb(0,116,217)\"},\"mode\":\"lines\",\"x\":[0.8242805167219617,1.031765949775833,1.031765949775833,1.020716248141806],\"xaxis\":\"x\",\"y\":[-20.0,-20.0,-90.3125,-90.3125],\"yaxis\":\"y\",\"type\":\"scatter\"},{\"hoverinfo\":\"text\",\"marker\":{\"color\":\"rgb(0,116,217)\"},\"mode\":\"lines\",\"x\":[0.0,1.049033477254544,1.049033477254544,1.031765949775833],\"xaxis\":\"x\",\"y\":[-5.0,-5.0,-55.15625,-55.15625],\"yaxis\":\"y\",\"type\":\"scatter\"},{\"hoverinfo\":\"text\",\"marker\":{\"color\":\"rgb(133,20,75)\"},\"mode\":\"lines\",\"x\":[0.0,0.8596572729850003,0.8596572729850003,0.0],\"xaxis\":\"x\",\"y\":[-165.0,-165.0,-175.0,-175.0],\"yaxis\":\"y\",\"type\":\"scatter\"},{\"hoverinfo\":\"text\",\"marker\":{\"color\":\"rgb(133,20,75)\"},\"mode\":\"lines\",\"x\":[0.0,0.8738574963864826,0.8738574963864826,0.0],\"xaxis\":\"x\",\"y\":[-185.0,-185.0,-195.0,-195.0],\"yaxis\":\"y\",\"type\":\"scatter\"},{\"hoverinfo\":\"text\",\"marker\":{\"color\":\"rgb(133,20,75)\"},\"mode\":\"lines\",\"x\":[0.8596572729850003,0.9075217772540071,0.9075217772540071,0.8738574963864826],\"xaxis\":\"x\",\"y\":[-170.0,-170.0,-190.0,-190.0],\"yaxis\":\"y\",\"type\":\"scatter\"},{\"hoverinfo\":\"text\",\"marker\":{\"color\":\"rgb(0,116,217)\"},\"mode\":\"lines\",\"x\":[1.049033477254544,1.0774141702242979,1.0774141702242979,0.9075217772540071],\"xaxis\":\"x\",\"y\":[-30.078125,-30.078125,-180.0,-180.0],\"yaxis\":\"y\",\"type\":\"scatter\"},{\"hoverinfo\":\"text\",\"marker\":{\"color\":\"rgb(255,220,0)\"},\"mode\":\"lines\",\"x\":[0.0,0.5808937913633336,0.5808937913633336,0.0],\"xaxis\":\"x\",\"y\":[-215.0,-215.0,-225.0,-225.0],\"yaxis\":\"y\",\"type\":\"scatter\"},{\"hoverinfo\":\"text\",\"marker\":{\"color\":\"rgb(255,220,0)\"},\"mode\":\"lines\",\"x\":[0.5808937913633336,0.731392765778941,0.731392765778941,0.0],\"xaxis\":\"x\",\"y\":[-220.0,-220.0,-235.0,-235.0],\"yaxis\":\"y\",\"type\":\"scatter\"},{\"hoverinfo\":\"text\",\"marker\":{\"color\":\"rgb(255,220,0)\"},\"mode\":\"lines\",\"x\":[0.0,0.8856042441560714,0.8856042441560714,0.731392765778941],\"xaxis\":\"x\",\"y\":[-205.0,-205.0,-227.5,-227.5],\"yaxis\":\"y\",\"type\":\"scatter\"},{\"hoverinfo\":\"text\",\"marker\":{\"color\":\"rgb(40,35,35)\"},\"mode\":\"lines\",\"x\":[0.0,0.7194878433591991,0.7194878433591991,0.0],\"xaxis\":\"x\",\"y\":[-245.0,-245.0,-255.0,-255.0],\"yaxis\":\"y\",\"type\":\"scatter\"},{\"hoverinfo\":\"text\",\"marker\":{\"color\":\"rgb(40,35,35)\"},\"mode\":\"lines\",\"x\":[0.0,0.6211116835563144,0.6211116835563144,0.0],\"xaxis\":\"x\",\"y\":[-265.0,-265.0,-275.0,-275.0],\"yaxis\":\"y\",\"type\":\"scatter\"},{\"hoverinfo\":\"text\",\"marker\":{\"color\":\"rgb(40,35,35)\"},\"mode\":\"lines\",\"x\":[0.7194878433591991,0.7738789186931951,0.7738789186931951,0.6211116835563144],\"xaxis\":\"x\",\"y\":[-250.0,-250.0,-270.0,-270.0],\"yaxis\":\"y\",\"type\":\"scatter\"},{\"hoverinfo\":\"text\",\"marker\":{\"color\":\"rgb(40,35,35)\"},\"mode\":\"lines\",\"x\":[0.0,0.5570014085974596,0.5570014085974596,0.0],\"xaxis\":\"x\",\"y\":[-285.0,-285.0,-295.0,-295.0],\"yaxis\":\"y\",\"type\":\"scatter\"},{\"hoverinfo\":\"text\",\"marker\":{\"color\":\"rgb(40,35,35)\"},\"mode\":\"lines\",\"x\":[0.5570014085974596,0.599155027890504,0.599155027890504,0.0],\"xaxis\":\"x\",\"y\":[-290.0,-290.0,-305.0,-305.0],\"yaxis\":\"y\",\"type\":\"scatter\"},{\"hoverinfo\":\"text\",\"marker\":{\"color\":\"rgb(40,35,35)\"},\"mode\":\"lines\",\"x\":[0.599155027890504,0.7896403496318409,0.7896403496318409,0.0],\"xaxis\":\"x\",\"y\":[-297.5,-297.5,-315.0,-315.0],\"yaxis\":\"y\",\"type\":\"scatter\"},{\"hoverinfo\":\"text\",\"marker\":{\"color\":\"rgb(40,35,35)\"},\"mode\":\"lines\",\"x\":[0.7738789186931951,0.8170495946960086,0.8170495946960086,0.7896403496318409],\"xaxis\":\"x\",\"y\":[-260.0,-260.0,-306.25,-306.25],\"yaxis\":\"y\",\"type\":\"scatter\"},{\"hoverinfo\":\"text\",\"marker\":{\"color\":\"rgb(61,153,112)\"},\"mode\":\"lines\",\"x\":[0.0,0.6737153263300346,0.6737153263300346,0.0],\"xaxis\":\"x\",\"y\":[-345.0,-345.0,-355.0,-355.0],\"yaxis\":\"y\",\"type\":\"scatter\"},{\"hoverinfo\":\"text\",\"marker\":{\"color\":\"rgb(61,153,112)\"},\"mode\":\"lines\",\"x\":[0.0,0.7586115814300071,0.7586115814300071,0.6737153263300346],\"xaxis\":\"x\",\"y\":[-335.0,-335.0,-350.0,-350.0],\"yaxis\":\"y\",\"type\":\"scatter\"},{\"hoverinfo\":\"text\",\"marker\":{\"color\":\"rgb(61,153,112)\"},\"mode\":\"lines\",\"x\":[0.7586115814300071,0.8701227525121613,0.8701227525121613,0.0],\"xaxis\":\"x\",\"y\":[-342.5,-342.5,-365.0,-365.0],\"yaxis\":\"y\",\"type\":\"scatter\"},{\"hoverinfo\":\"text\",\"marker\":{\"color\":\"rgb(61,153,112)\"},\"mode\":\"lines\",\"x\":[0.0,0.9263168504204435,0.9263168504204435,0.8701227525121613],\"xaxis\":\"x\",\"y\":[-325.0,-325.0,-353.75,-353.75],\"yaxis\":\"y\",\"type\":\"scatter\"},{\"hoverinfo\":\"text\",\"marker\":{\"color\":\"rgb(61,153,112)\"},\"mode\":\"lines\",\"x\":[0.0,0.8569804329520447,0.8569804329520447,0.0],\"xaxis\":\"x\",\"y\":[-375.0,-375.0,-385.0,-385.0],\"yaxis\":\"y\",\"type\":\"scatter\"},{\"hoverinfo\":\"text\",\"marker\":{\"color\":\"rgb(61,153,112)\"},\"mode\":\"lines\",\"x\":[0.9263168504204435,0.9862877054114074,0.9862877054114074,0.8569804329520447],\"xaxis\":\"x\",\"y\":[-339.375,-339.375,-380.0,-380.0],\"yaxis\":\"y\",\"type\":\"scatter\"},{\"hoverinfo\":\"text\",\"marker\":{\"color\":\"rgb(0,116,217)\"},\"mode\":\"lines\",\"x\":[0.8170495946960086,1.0543166004209559,1.0543166004209559,0.9862877054114074],\"xaxis\":\"x\",\"y\":[-283.125,-283.125,-359.6875,-359.6875],\"yaxis\":\"y\",\"type\":\"scatter\"},{\"hoverinfo\":\"text\",\"marker\":{\"color\":\"rgb(0,116,217)\"},\"mode\":\"lines\",\"x\":[0.8856042441560714,1.144908612602264,1.144908612602264,1.0543166004209559],\"xaxis\":\"x\",\"y\":[-216.25,-216.25,-321.40625,-321.40625],\"yaxis\":\"y\",\"type\":\"scatter\"},{\"hoverinfo\":\"text\",\"marker\":{\"color\":\"rgb(0,116,217)\"},\"mode\":\"lines\",\"x\":[1.0774141702242979,1.2263514195231289,1.2263514195231289,1.144908612602264],\"xaxis\":\"x\",\"y\":[-105.0390625,-105.0390625,-268.828125,-268.828125],\"yaxis\":\"y\",\"type\":\"scatter\"}],                        {\"autosize\":false,\"height\":785,\"hovermode\":\"closest\",\"showlegend\":false,\"width\":1000,\"xaxis\":{\"mirror\":\"allticks\",\"rangemode\":\"tozero\",\"showgrid\":false,\"showline\":true,\"showticklabels\":true,\"ticks\":\"outside\",\"type\":\"linear\",\"zeroline\":false},\"yaxis\":{\"mirror\":\"allticks\",\"rangemode\":\"tozero\",\"showgrid\":false,\"showline\":true,\"showticklabels\":true,\"tickmode\":\"array\",\"ticks\":\"outside\",\"ticktext\":[\"21_muy_bien_que\",\"19_sock_son_wash\",\"37_sock_comfortable_comfort...\",\"23_gym_gym shoe_comfortable\",\"20_shower_water_wet\",\"16_slipper_slip_comfortable\",\"11_slide_velcro_love slide\",\"33_strap_adjustable_foot\",\"30_blue_dark_color\",\"28_color_weight_light weight\",\"29_daughter_daughter love_s...\",\"25_cushion_soft_soft cushion\",\"26_husband_shoe husband_hus...\",\"31_quality_product_comforta...\",\"38_came_expected_exact\",\"12_perfect_nice_expected\",\"22_price_shoe_looking\",\"15_shipping_order_shoe\",\"27_box_came_shoe\",\"36_shoe great_great shoe_gr...\",\"35_12_12 size_size\",\"18_85_size_105\",\"5_size_small_half size\",\"17_size_nike_nikes\",\"2_son_gift_love\",\"1_sandal_foot_nike sandal\",\"3_foot_shoe_arch\",\"7_wide_foot_narrow\",\"4_shoe_comfortable_love\",\"6_running_running shoe_shoe\",\"0_fit_great_fit great\",\"9_sneaker_love sneaker_snea...\",\"32_pegasus_vomero_running\",\"14_pair_year_comfortable\",\"10_nike_air_nike air\",\"8_squeak_shoe_squeaking\",\"24_air_max_air max\",\"13_flop_flip flop_flip\",\"34_thong_pair_nike thong\"],\"tickvals\":[-5.0,-15.0,-25.0,-35.0,-45.0,-55.0,-65.0,-75.0,-85.0,-95.0,-105.0,-115.0,-125.0,-135.0,-145.0,-155.0,-165.0,-175.0,-185.0,-195.0,-205.0,-215.0,-225.0,-235.0,-245.0,-255.0,-265.0,-275.0,-285.0,-295.0,-305.0,-315.0,-325.0,-335.0,-345.0,-355.0,-365.0,-375.0,-385.0],\"type\":\"linear\",\"zeroline\":false,\"range\":[-390.0,0.0]},\"template\":{\"data\":{\"barpolar\":[{\"marker\":{\"line\":{\"color\":\"white\",\"width\":0.5},\"pattern\":{\"fillmode\":\"overlay\",\"size\":10,\"solidity\":0.2}},\"type\":\"barpolar\"}],\"bar\":[{\"error_x\":{\"color\":\"#2a3f5f\"},\"error_y\":{\"color\":\"#2a3f5f\"},\"marker\":{\"line\":{\"color\":\"white\",\"width\":0.5},\"pattern\":{\"fillmode\":\"overlay\",\"size\":10,\"solidity\":0.2}},\"type\":\"bar\"}],\"carpet\":[{\"aaxis\":{\"endlinecolor\":\"#2a3f5f\",\"gridcolor\":\"#C8D4E3\",\"linecolor\":\"#C8D4E3\",\"minorgridcolor\":\"#C8D4E3\",\"startlinecolor\":\"#2a3f5f\"},\"baxis\":{\"endlinecolor\":\"#2a3f5f\",\"gridcolor\":\"#C8D4E3\",\"linecolor\":\"#C8D4E3\",\"minorgridcolor\":\"#C8D4E3\",\"startlinecolor\":\"#2a3f5f\"},\"type\":\"carpet\"}],\"choropleth\":[{\"colorbar\":{\"outlinewidth\":0,\"ticks\":\"\"},\"type\":\"choropleth\"}],\"contourcarpet\":[{\"colorbar\":{\"outlinewidth\":0,\"ticks\":\"\"},\"type\":\"contourcarpet\"}],\"contour\":[{\"colorbar\":{\"outlinewidth\":0,\"ticks\":\"\"},\"colorscale\":[[0.0,\"#0d0887\"],[0.1111111111111111,\"#46039f\"],[0.2222222222222222,\"#7201a8\"],[0.3333333333333333,\"#9c179e\"],[0.4444444444444444,\"#bd3786\"],[0.5555555555555556,\"#d8576b\"],[0.6666666666666666,\"#ed7953\"],[0.7777777777777778,\"#fb9f3a\"],[0.8888888888888888,\"#fdca26\"],[1.0,\"#f0f921\"]],\"type\":\"contour\"}],\"heatmapgl\":[{\"colorbar\":{\"outlinewidth\":0,\"ticks\":\"\"},\"colorscale\":[[0.0,\"#0d0887\"],[0.1111111111111111,\"#46039f\"],[0.2222222222222222,\"#7201a8\"],[0.3333333333333333,\"#9c179e\"],[0.4444444444444444,\"#bd3786\"],[0.5555555555555556,\"#d8576b\"],[0.6666666666666666,\"#ed7953\"],[0.7777777777777778,\"#fb9f3a\"],[0.8888888888888888,\"#fdca26\"],[1.0,\"#f0f921\"]],\"type\":\"heatmapgl\"}],\"heatmap\":[{\"colorbar\":{\"outlinewidth\":0,\"ticks\":\"\"},\"colorscale\":[[0.0,\"#0d0887\"],[0.1111111111111111,\"#46039f\"],[0.2222222222222222,\"#7201a8\"],[0.3333333333333333,\"#9c179e\"],[0.4444444444444444,\"#bd3786\"],[0.5555555555555556,\"#d8576b\"],[0.6666666666666666,\"#ed7953\"],[0.7777777777777778,\"#fb9f3a\"],[0.8888888888888888,\"#fdca26\"],[1.0,\"#f0f921\"]],\"type\":\"heatmap\"}],\"histogram2dcontour\":[{\"colorbar\":{\"outlinewidth\":0,\"ticks\":\"\"},\"colorscale\":[[0.0,\"#0d0887\"],[0.1111111111111111,\"#46039f\"],[0.2222222222222222,\"#7201a8\"],[0.3333333333333333,\"#9c179e\"],[0.4444444444444444,\"#bd3786\"],[0.5555555555555556,\"#d8576b\"],[0.6666666666666666,\"#ed7953\"],[0.7777777777777778,\"#fb9f3a\"],[0.8888888888888888,\"#fdca26\"],[1.0,\"#f0f921\"]],\"type\":\"histogram2dcontour\"}],\"histogram2d\":[{\"colorbar\":{\"outlinewidth\":0,\"ticks\":\"\"},\"colorscale\":[[0.0,\"#0d0887\"],[0.1111111111111111,\"#46039f\"],[0.2222222222222222,\"#7201a8\"],[0.3333333333333333,\"#9c179e\"],[0.4444444444444444,\"#bd3786\"],[0.5555555555555556,\"#d8576b\"],[0.6666666666666666,\"#ed7953\"],[0.7777777777777778,\"#fb9f3a\"],[0.8888888888888888,\"#fdca26\"],[1.0,\"#f0f921\"]],\"type\":\"histogram2d\"}],\"histogram\":[{\"marker\":{\"pattern\":{\"fillmode\":\"overlay\",\"size\":10,\"solidity\":0.2}},\"type\":\"histogram\"}],\"mesh3d\":[{\"colorbar\":{\"outlinewidth\":0,\"ticks\":\"\"},\"type\":\"mesh3d\"}],\"parcoords\":[{\"line\":{\"colorbar\":{\"outlinewidth\":0,\"ticks\":\"\"}},\"type\":\"parcoords\"}],\"pie\":[{\"automargin\":true,\"type\":\"pie\"}],\"scatter3d\":[{\"line\":{\"colorbar\":{\"outlinewidth\":0,\"ticks\":\"\"}},\"marker\":{\"colorbar\":{\"outlinewidth\":0,\"ticks\":\"\"}},\"type\":\"scatter3d\"}],\"scattercarpet\":[{\"marker\":{\"colorbar\":{\"outlinewidth\":0,\"ticks\":\"\"}},\"type\":\"scattercarpet\"}],\"scattergeo\":[{\"marker\":{\"colorbar\":{\"outlinewidth\":0,\"ticks\":\"\"}},\"type\":\"scattergeo\"}],\"scattergl\":[{\"marker\":{\"colorbar\":{\"outlinewidth\":0,\"ticks\":\"\"}},\"type\":\"scattergl\"}],\"scattermapbox\":[{\"marker\":{\"colorbar\":{\"outlinewidth\":0,\"ticks\":\"\"}},\"type\":\"scattermapbox\"}],\"scatterpolargl\":[{\"marker\":{\"colorbar\":{\"outlinewidth\":0,\"ticks\":\"\"}},\"type\":\"scatterpolargl\"}],\"scatterpolar\":[{\"marker\":{\"colorbar\":{\"outlinewidth\":0,\"ticks\":\"\"}},\"type\":\"scatterpolar\"}],\"scatter\":[{\"fillpattern\":{\"fillmode\":\"overlay\",\"size\":10,\"solidity\":0.2},\"type\":\"scatter\"}],\"scatterternary\":[{\"marker\":{\"colorbar\":{\"outlinewidth\":0,\"ticks\":\"\"}},\"type\":\"scatterternary\"}],\"surface\":[{\"colorbar\":{\"outlinewidth\":0,\"ticks\":\"\"},\"colorscale\":[[0.0,\"#0d0887\"],[0.1111111111111111,\"#46039f\"],[0.2222222222222222,\"#7201a8\"],[0.3333333333333333,\"#9c179e\"],[0.4444444444444444,\"#bd3786\"],[0.5555555555555556,\"#d8576b\"],[0.6666666666666666,\"#ed7953\"],[0.7777777777777778,\"#fb9f3a\"],[0.8888888888888888,\"#fdca26\"],[1.0,\"#f0f921\"]],\"type\":\"surface\"}],\"table\":[{\"cells\":{\"fill\":{\"color\":\"#EBF0F8\"},\"line\":{\"color\":\"white\"}},\"header\":{\"fill\":{\"color\":\"#C8D4E3\"},\"line\":{\"color\":\"white\"}},\"type\":\"table\"}]},\"layout\":{\"annotationdefaults\":{\"arrowcolor\":\"#2a3f5f\",\"arrowhead\":0,\"arrowwidth\":1},\"autotypenumbers\":\"strict\",\"coloraxis\":{\"colorbar\":{\"outlinewidth\":0,\"ticks\":\"\"}},\"colorscale\":{\"diverging\":[[0,\"#8e0152\"],[0.1,\"#c51b7d\"],[0.2,\"#de77ae\"],[0.3,\"#f1b6da\"],[0.4,\"#fde0ef\"],[0.5,\"#f7f7f7\"],[0.6,\"#e6f5d0\"],[0.7,\"#b8e186\"],[0.8,\"#7fbc41\"],[0.9,\"#4d9221\"],[1,\"#276419\"]],\"sequential\":[[0.0,\"#0d0887\"],[0.1111111111111111,\"#46039f\"],[0.2222222222222222,\"#7201a8\"],[0.3333333333333333,\"#9c179e\"],[0.4444444444444444,\"#bd3786\"],[0.5555555555555556,\"#d8576b\"],[0.6666666666666666,\"#ed7953\"],[0.7777777777777778,\"#fb9f3a\"],[0.8888888888888888,\"#fdca26\"],[1.0,\"#f0f921\"]],\"sequentialminus\":[[0.0,\"#0d0887\"],[0.1111111111111111,\"#46039f\"],[0.2222222222222222,\"#7201a8\"],[0.3333333333333333,\"#9c179e\"],[0.4444444444444444,\"#bd3786\"],[0.5555555555555556,\"#d8576b\"],[0.6666666666666666,\"#ed7953\"],[0.7777777777777778,\"#fb9f3a\"],[0.8888888888888888,\"#fdca26\"],[1.0,\"#f0f921\"]]},\"colorway\":[\"#636efa\",\"#EF553B\",\"#00cc96\",\"#ab63fa\",\"#FFA15A\",\"#19d3f3\",\"#FF6692\",\"#B6E880\",\"#FF97FF\",\"#FECB52\"],\"font\":{\"color\":\"#2a3f5f\"},\"geo\":{\"bgcolor\":\"white\",\"lakecolor\":\"white\",\"landcolor\":\"white\",\"showlakes\":true,\"showland\":true,\"subunitcolor\":\"#C8D4E3\"},\"hoverlabel\":{\"align\":\"left\"},\"hovermode\":\"closest\",\"mapbox\":{\"style\":\"light\"},\"paper_bgcolor\":\"white\",\"plot_bgcolor\":\"white\",\"polar\":{\"angularaxis\":{\"gridcolor\":\"#EBF0F8\",\"linecolor\":\"#EBF0F8\",\"ticks\":\"\"},\"bgcolor\":\"white\",\"radialaxis\":{\"gridcolor\":\"#EBF0F8\",\"linecolor\":\"#EBF0F8\",\"ticks\":\"\"}},\"scene\":{\"xaxis\":{\"backgroundcolor\":\"white\",\"gridcolor\":\"#DFE8F3\",\"gridwidth\":2,\"linecolor\":\"#EBF0F8\",\"showbackground\":true,\"ticks\":\"\",\"zerolinecolor\":\"#EBF0F8\"},\"yaxis\":{\"backgroundcolor\":\"white\",\"gridcolor\":\"#DFE8F3\",\"gridwidth\":2,\"linecolor\":\"#EBF0F8\",\"showbackground\":true,\"ticks\":\"\",\"zerolinecolor\":\"#EBF0F8\"},\"zaxis\":{\"backgroundcolor\":\"white\",\"gridcolor\":\"#DFE8F3\",\"gridwidth\":2,\"linecolor\":\"#EBF0F8\",\"showbackground\":true,\"ticks\":\"\",\"zerolinecolor\":\"#EBF0F8\"}},\"shapedefaults\":{\"line\":{\"color\":\"#2a3f5f\"}},\"ternary\":{\"aaxis\":{\"gridcolor\":\"#DFE8F3\",\"linecolor\":\"#A2B1C6\",\"ticks\":\"\"},\"baxis\":{\"gridcolor\":\"#DFE8F3\",\"linecolor\":\"#A2B1C6\",\"ticks\":\"\"},\"bgcolor\":\"white\",\"caxis\":{\"gridcolor\":\"#DFE8F3\",\"linecolor\":\"#A2B1C6\",\"ticks\":\"\"}},\"title\":{\"x\":0.05},\"xaxis\":{\"automargin\":true,\"gridcolor\":\"#EBF0F8\",\"linecolor\":\"#EBF0F8\",\"ticks\":\"\",\"title\":{\"standoff\":15},\"zerolinecolor\":\"#EBF0F8\",\"zerolinewidth\":2},\"yaxis\":{\"automargin\":true,\"gridcolor\":\"#EBF0F8\",\"linecolor\":\"#EBF0F8\",\"ticks\":\"\",\"title\":{\"standoff\":15},\"zerolinecolor\":\"#EBF0F8\",\"zerolinewidth\":2}}},\"title\":{\"font\":{\"size\":22,\"color\":\"Black\"},\"text\":\"<b>Hierarchical Clustering</b>\",\"x\":0.5,\"xanchor\":\"center\",\"yanchor\":\"top\"},\"hoverlabel\":{\"font\":{\"size\":16,\"family\":\"Rockwell\"},\"bgcolor\":\"white\"},\"plot_bgcolor\":\"#ECEFF1\"},                        {\"responsive\": true}                    ).then(function(){\n",
              "                            \n",
              "var gd = document.getElementById('1f047ca4-92df-41c2-80fd-43cae6ef672d');\n",
              "var x = new MutationObserver(function (mutations, observer) {{\n",
              "        var display = window.getComputedStyle(gd).display;\n",
              "        if (!display || display === 'none') {{\n",
              "            console.log([gd, 'removed!']);\n",
              "            Plotly.purge(gd);\n",
              "            observer.disconnect();\n",
              "        }}\n",
              "}});\n",
              "\n",
              "// Listen for the removal of the full notebook cells\n",
              "var notebookContainer = gd.closest('#notebook-container');\n",
              "if (notebookContainer) {{\n",
              "    x.observe(notebookContainer, {childList: true});\n",
              "}}\n",
              "\n",
              "// Listen for the clearing of the current output cell\n",
              "var outputEl = gd.closest('.output');\n",
              "if (outputEl) {{\n",
              "    x.observe(outputEl, {childList: true});\n",
              "}}\n",
              "\n",
              "                        })                };                            </script>        </div>\n",
              "</body>\n",
              "</html>"
            ]
          },
          "metadata": {}
        }
      ]
    },
    {
      "cell_type": "code",
      "source": [
        "list(new_topic_model.representative_docs_.values())[10]"
      ],
      "metadata": {
        "colab": {
          "base_uri": "https://localhost:8080/"
        },
        "id": "E3qWHyu7AB9p",
        "outputId": "afaa9792-7c74-403a-9c98-a67458237d9a"
      },
      "execution_count": null,
      "outputs": [
        {
          "output_type": "execute_result",
          "data": {
            "text/plain": [
              "['like sneaker comfortable fit well looking pair sneaker every day use get',\n",
              " 'love love sneaker fit great comfort excellent would recommend sneaker ladies',\n",
              " 'love sneaker fit great comfortable next sneaker walking sneaker wear size 115']"
            ]
          },
          "metadata": {},
          "execution_count": 101
        }
      ]
    },
    {
      "cell_type": "markdown",
      "source": [
        "When it comes to sneakers, it's clear that consumers often mention comfort as a key factor, especially for everyday use and walking. Therefore, we should highlight these attributes in our advertising campaigns for sneakers."
      ],
      "metadata": {
        "id": "3nKfmynnCMhj"
      }
    },
    {
      "cell_type": "code",
      "source": [
        "# visualize terms\n",
        "new_topic_model.visualize_barchart(top_n_topics=10)"
      ],
      "metadata": {
        "colab": {
          "base_uri": "https://localhost:8080/",
          "height": 767
        },
        "id": "Dn2vnuMEp40A",
        "outputId": "2c633002-bea9-454a-8f26-3fc127588018"
      },
      "execution_count": null,
      "outputs": [
        {
          "output_type": "display_data",
          "data": {
            "text/html": [
              "<html>\n",
              "<head><meta charset=\"utf-8\" /></head>\n",
              "<body>\n",
              "    <div>            <script src=\"https://cdnjs.cloudflare.com/ajax/libs/mathjax/2.7.5/MathJax.js?config=TeX-AMS-MML_SVG\"></script><script type=\"text/javascript\">if (window.MathJax && window.MathJax.Hub && window.MathJax.Hub.Config) {window.MathJax.Hub.Config({SVG: {font: \"STIX-Web\"}});}</script>                <script type=\"text/javascript\">window.PlotlyConfig = {MathJaxConfig: 'local'};</script>\n",
              "        <script src=\"https://cdn.plot.ly/plotly-2.18.2.min.js\"></script>                <div id=\"cf8422ef-66b4-466a-b546-c08e2cb4ebc5\" class=\"plotly-graph-div\" style=\"height:750px; width:1000px;\"></div>            <script type=\"text/javascript\">                                    window.PLOTLYENV=window.PLOTLYENV || {};                                    if (document.getElementById(\"cf8422ef-66b4-466a-b546-c08e2cb4ebc5\")) {                    Plotly.newPlot(                        \"cf8422ef-66b4-466a-b546-c08e2cb4ebc5\",                        [{\"marker\":{\"color\":\"#D55E00\"},\"orientation\":\"h\",\"x\":[0.018791806966808967,0.018972297054746977,0.02195268963741985,0.029511665711429623,0.04965985659291067],\"y\":[\"comfortable  \",\"well  \",\"fit great  \",\"great  \",\"fit  \"],\"type\":\"bar\",\"xaxis\":\"x\",\"yaxis\":\"y\"},{\"marker\":{\"color\":\"#0072B2\"},\"orientation\":\"h\",\"x\":[0.012094967377701191,0.013947445459390024,0.015123026594908481,0.015203623700129695,0.08206669731937324],\"y\":[\"would  \",\"comfortable  \",\"nike sandal  \",\"foot  \",\"sandal  \"],\"type\":\"bar\",\"xaxis\":\"x2\",\"yaxis\":\"y2\"},{\"marker\":{\"color\":\"#CC79A7\"},\"orientation\":\"h\",\"x\":[0.019116987882911503,0.021850709050737525,0.024192879552329734,0.025163959274544793,0.06243846787772759],\"y\":[\"son love  \",\"bought  \",\"love  \",\"gift  \",\"son  \"],\"type\":\"bar\",\"xaxis\":\"x3\",\"yaxis\":\"y3\"},{\"marker\":{\"color\":\"#E69F00\"},\"orientation\":\"h\",\"x\":[0.012532749401381747,0.012801132707954698,0.014561617735849124,0.01970036159443809,0.023235873767725207],\"y\":[\"support  \",\"nt  \",\"arch  \",\"shoe  \",\"foot  \"],\"type\":\"bar\",\"xaxis\":\"x4\",\"yaxis\":\"y4\"},{\"marker\":{\"color\":\"#56B4E9\"},\"orientation\":\"h\",\"x\":[0.018092542851071206,0.026384043240328874,0.02930074270443291,0.02976923406052573,0.03649475056121631],\"y\":[\"great  \",\"color  \",\"love  \",\"comfortable  \",\"shoe  \"],\"type\":\"bar\",\"xaxis\":\"x5\",\"yaxis\":\"y5\"},{\"marker\":{\"color\":\"#009E73\"},\"orientation\":\"h\",\"x\":[0.027061705582150614,0.03253447965776585,0.0330967877336665,0.04182861935405458,0.05899357092637226],\"y\":[\"larger  \",\"half  \",\"half size  \",\"small  \",\"size  \"],\"type\":\"bar\",\"xaxis\":\"x6\",\"yaxis\":\"y6\"},{\"marker\":{\"color\":\"#F0E442\"},\"orientation\":\"h\",\"x\":[0.024550624716998707,0.026555962726118695,0.028336965790403554,0.03097411582805388,0.05457519301496594],\"y\":[\"great  \",\"run  \",\"shoe  \",\"running shoe  \",\"running  \"],\"type\":\"bar\",\"xaxis\":\"x7\",\"yaxis\":\"y7\"},{\"marker\":{\"color\":\"#D55E00\"},\"orientation\":\"h\",\"x\":[0.019160113467135094,0.03644428219617001,0.04025525739969976,0.04097743293185256,0.05136944688335352],\"y\":[\"tight  \",\"wide foot  \",\"narrow  \",\"foot  \",\"wide  \"],\"type\":\"bar\",\"xaxis\":\"x8\",\"yaxis\":\"y8\"},{\"marker\":{\"color\":\"#0072B2\"},\"orientation\":\"h\",\"x\":[0.017215578081568532,0.018009029579969915,0.01979991989132801,0.02082379908608009,0.0382149784932278],\"y\":[\"nike  \",\"loud  \",\"squeaking  \",\"shoe  \",\"squeak  \"],\"type\":\"bar\",\"xaxis\":\"x9\",\"yaxis\":\"y9\"},{\"marker\":{\"color\":\"#CC79A7\"},\"orientation\":\"h\",\"x\":[0.02256579341318636,0.026766196522194346,0.0297853338961014,0.03124444527808208,0.10502209007717449],\"y\":[\"love  \",\"fit  \",\"sneaker fit  \",\"love sneaker  \",\"sneaker  \"],\"type\":\"bar\",\"xaxis\":\"x10\",\"yaxis\":\"y10\"}],                        {\"template\":{\"data\":{\"barpolar\":[{\"marker\":{\"line\":{\"color\":\"white\",\"width\":0.5},\"pattern\":{\"fillmode\":\"overlay\",\"size\":10,\"solidity\":0.2}},\"type\":\"barpolar\"}],\"bar\":[{\"error_x\":{\"color\":\"#2a3f5f\"},\"error_y\":{\"color\":\"#2a3f5f\"},\"marker\":{\"line\":{\"color\":\"white\",\"width\":0.5},\"pattern\":{\"fillmode\":\"overlay\",\"size\":10,\"solidity\":0.2}},\"type\":\"bar\"}],\"carpet\":[{\"aaxis\":{\"endlinecolor\":\"#2a3f5f\",\"gridcolor\":\"#C8D4E3\",\"linecolor\":\"#C8D4E3\",\"minorgridcolor\":\"#C8D4E3\",\"startlinecolor\":\"#2a3f5f\"},\"baxis\":{\"endlinecolor\":\"#2a3f5f\",\"gridcolor\":\"#C8D4E3\",\"linecolor\":\"#C8D4E3\",\"minorgridcolor\":\"#C8D4E3\",\"startlinecolor\":\"#2a3f5f\"},\"type\":\"carpet\"}],\"choropleth\":[{\"colorbar\":{\"outlinewidth\":0,\"ticks\":\"\"},\"type\":\"choropleth\"}],\"contourcarpet\":[{\"colorbar\":{\"outlinewidth\":0,\"ticks\":\"\"},\"type\":\"contourcarpet\"}],\"contour\":[{\"colorbar\":{\"outlinewidth\":0,\"ticks\":\"\"},\"colorscale\":[[0.0,\"#0d0887\"],[0.1111111111111111,\"#46039f\"],[0.2222222222222222,\"#7201a8\"],[0.3333333333333333,\"#9c179e\"],[0.4444444444444444,\"#bd3786\"],[0.5555555555555556,\"#d8576b\"],[0.6666666666666666,\"#ed7953\"],[0.7777777777777778,\"#fb9f3a\"],[0.8888888888888888,\"#fdca26\"],[1.0,\"#f0f921\"]],\"type\":\"contour\"}],\"heatmapgl\":[{\"colorbar\":{\"outlinewidth\":0,\"ticks\":\"\"},\"colorscale\":[[0.0,\"#0d0887\"],[0.1111111111111111,\"#46039f\"],[0.2222222222222222,\"#7201a8\"],[0.3333333333333333,\"#9c179e\"],[0.4444444444444444,\"#bd3786\"],[0.5555555555555556,\"#d8576b\"],[0.6666666666666666,\"#ed7953\"],[0.7777777777777778,\"#fb9f3a\"],[0.8888888888888888,\"#fdca26\"],[1.0,\"#f0f921\"]],\"type\":\"heatmapgl\"}],\"heatmap\":[{\"colorbar\":{\"outlinewidth\":0,\"ticks\":\"\"},\"colorscale\":[[0.0,\"#0d0887\"],[0.1111111111111111,\"#46039f\"],[0.2222222222222222,\"#7201a8\"],[0.3333333333333333,\"#9c179e\"],[0.4444444444444444,\"#bd3786\"],[0.5555555555555556,\"#d8576b\"],[0.6666666666666666,\"#ed7953\"],[0.7777777777777778,\"#fb9f3a\"],[0.8888888888888888,\"#fdca26\"],[1.0,\"#f0f921\"]],\"type\":\"heatmap\"}],\"histogram2dcontour\":[{\"colorbar\":{\"outlinewidth\":0,\"ticks\":\"\"},\"colorscale\":[[0.0,\"#0d0887\"],[0.1111111111111111,\"#46039f\"],[0.2222222222222222,\"#7201a8\"],[0.3333333333333333,\"#9c179e\"],[0.4444444444444444,\"#bd3786\"],[0.5555555555555556,\"#d8576b\"],[0.6666666666666666,\"#ed7953\"],[0.7777777777777778,\"#fb9f3a\"],[0.8888888888888888,\"#fdca26\"],[1.0,\"#f0f921\"]],\"type\":\"histogram2dcontour\"}],\"histogram2d\":[{\"colorbar\":{\"outlinewidth\":0,\"ticks\":\"\"},\"colorscale\":[[0.0,\"#0d0887\"],[0.1111111111111111,\"#46039f\"],[0.2222222222222222,\"#7201a8\"],[0.3333333333333333,\"#9c179e\"],[0.4444444444444444,\"#bd3786\"],[0.5555555555555556,\"#d8576b\"],[0.6666666666666666,\"#ed7953\"],[0.7777777777777778,\"#fb9f3a\"],[0.8888888888888888,\"#fdca26\"],[1.0,\"#f0f921\"]],\"type\":\"histogram2d\"}],\"histogram\":[{\"marker\":{\"pattern\":{\"fillmode\":\"overlay\",\"size\":10,\"solidity\":0.2}},\"type\":\"histogram\"}],\"mesh3d\":[{\"colorbar\":{\"outlinewidth\":0,\"ticks\":\"\"},\"type\":\"mesh3d\"}],\"parcoords\":[{\"line\":{\"colorbar\":{\"outlinewidth\":0,\"ticks\":\"\"}},\"type\":\"parcoords\"}],\"pie\":[{\"automargin\":true,\"type\":\"pie\"}],\"scatter3d\":[{\"line\":{\"colorbar\":{\"outlinewidth\":0,\"ticks\":\"\"}},\"marker\":{\"colorbar\":{\"outlinewidth\":0,\"ticks\":\"\"}},\"type\":\"scatter3d\"}],\"scattercarpet\":[{\"marker\":{\"colorbar\":{\"outlinewidth\":0,\"ticks\":\"\"}},\"type\":\"scattercarpet\"}],\"scattergeo\":[{\"marker\":{\"colorbar\":{\"outlinewidth\":0,\"ticks\":\"\"}},\"type\":\"scattergeo\"}],\"scattergl\":[{\"marker\":{\"colorbar\":{\"outlinewidth\":0,\"ticks\":\"\"}},\"type\":\"scattergl\"}],\"scattermapbox\":[{\"marker\":{\"colorbar\":{\"outlinewidth\":0,\"ticks\":\"\"}},\"type\":\"scattermapbox\"}],\"scatterpolargl\":[{\"marker\":{\"colorbar\":{\"outlinewidth\":0,\"ticks\":\"\"}},\"type\":\"scatterpolargl\"}],\"scatterpolar\":[{\"marker\":{\"colorbar\":{\"outlinewidth\":0,\"ticks\":\"\"}},\"type\":\"scatterpolar\"}],\"scatter\":[{\"fillpattern\":{\"fillmode\":\"overlay\",\"size\":10,\"solidity\":0.2},\"type\":\"scatter\"}],\"scatterternary\":[{\"marker\":{\"colorbar\":{\"outlinewidth\":0,\"ticks\":\"\"}},\"type\":\"scatterternary\"}],\"surface\":[{\"colorbar\":{\"outlinewidth\":0,\"ticks\":\"\"},\"colorscale\":[[0.0,\"#0d0887\"],[0.1111111111111111,\"#46039f\"],[0.2222222222222222,\"#7201a8\"],[0.3333333333333333,\"#9c179e\"],[0.4444444444444444,\"#bd3786\"],[0.5555555555555556,\"#d8576b\"],[0.6666666666666666,\"#ed7953\"],[0.7777777777777778,\"#fb9f3a\"],[0.8888888888888888,\"#fdca26\"],[1.0,\"#f0f921\"]],\"type\":\"surface\"}],\"table\":[{\"cells\":{\"fill\":{\"color\":\"#EBF0F8\"},\"line\":{\"color\":\"white\"}},\"header\":{\"fill\":{\"color\":\"#C8D4E3\"},\"line\":{\"color\":\"white\"}},\"type\":\"table\"}]},\"layout\":{\"annotationdefaults\":{\"arrowcolor\":\"#2a3f5f\",\"arrowhead\":0,\"arrowwidth\":1},\"autotypenumbers\":\"strict\",\"coloraxis\":{\"colorbar\":{\"outlinewidth\":0,\"ticks\":\"\"}},\"colorscale\":{\"diverging\":[[0,\"#8e0152\"],[0.1,\"#c51b7d\"],[0.2,\"#de77ae\"],[0.3,\"#f1b6da\"],[0.4,\"#fde0ef\"],[0.5,\"#f7f7f7\"],[0.6,\"#e6f5d0\"],[0.7,\"#b8e186\"],[0.8,\"#7fbc41\"],[0.9,\"#4d9221\"],[1,\"#276419\"]],\"sequential\":[[0.0,\"#0d0887\"],[0.1111111111111111,\"#46039f\"],[0.2222222222222222,\"#7201a8\"],[0.3333333333333333,\"#9c179e\"],[0.4444444444444444,\"#bd3786\"],[0.5555555555555556,\"#d8576b\"],[0.6666666666666666,\"#ed7953\"],[0.7777777777777778,\"#fb9f3a\"],[0.8888888888888888,\"#fdca26\"],[1.0,\"#f0f921\"]],\"sequentialminus\":[[0.0,\"#0d0887\"],[0.1111111111111111,\"#46039f\"],[0.2222222222222222,\"#7201a8\"],[0.3333333333333333,\"#9c179e\"],[0.4444444444444444,\"#bd3786\"],[0.5555555555555556,\"#d8576b\"],[0.6666666666666666,\"#ed7953\"],[0.7777777777777778,\"#fb9f3a\"],[0.8888888888888888,\"#fdca26\"],[1.0,\"#f0f921\"]]},\"colorway\":[\"#636efa\",\"#EF553B\",\"#00cc96\",\"#ab63fa\",\"#FFA15A\",\"#19d3f3\",\"#FF6692\",\"#B6E880\",\"#FF97FF\",\"#FECB52\"],\"font\":{\"color\":\"#2a3f5f\"},\"geo\":{\"bgcolor\":\"white\",\"lakecolor\":\"white\",\"landcolor\":\"white\",\"showlakes\":true,\"showland\":true,\"subunitcolor\":\"#C8D4E3\"},\"hoverlabel\":{\"align\":\"left\"},\"hovermode\":\"closest\",\"mapbox\":{\"style\":\"light\"},\"paper_bgcolor\":\"white\",\"plot_bgcolor\":\"white\",\"polar\":{\"angularaxis\":{\"gridcolor\":\"#EBF0F8\",\"linecolor\":\"#EBF0F8\",\"ticks\":\"\"},\"bgcolor\":\"white\",\"radialaxis\":{\"gridcolor\":\"#EBF0F8\",\"linecolor\":\"#EBF0F8\",\"ticks\":\"\"}},\"scene\":{\"xaxis\":{\"backgroundcolor\":\"white\",\"gridcolor\":\"#DFE8F3\",\"gridwidth\":2,\"linecolor\":\"#EBF0F8\",\"showbackground\":true,\"ticks\":\"\",\"zerolinecolor\":\"#EBF0F8\"},\"yaxis\":{\"backgroundcolor\":\"white\",\"gridcolor\":\"#DFE8F3\",\"gridwidth\":2,\"linecolor\":\"#EBF0F8\",\"showbackground\":true,\"ticks\":\"\",\"zerolinecolor\":\"#EBF0F8\"},\"zaxis\":{\"backgroundcolor\":\"white\",\"gridcolor\":\"#DFE8F3\",\"gridwidth\":2,\"linecolor\":\"#EBF0F8\",\"showbackground\":true,\"ticks\":\"\",\"zerolinecolor\":\"#EBF0F8\"}},\"shapedefaults\":{\"line\":{\"color\":\"#2a3f5f\"}},\"ternary\":{\"aaxis\":{\"gridcolor\":\"#DFE8F3\",\"linecolor\":\"#A2B1C6\",\"ticks\":\"\"},\"baxis\":{\"gridcolor\":\"#DFE8F3\",\"linecolor\":\"#A2B1C6\",\"ticks\":\"\"},\"bgcolor\":\"white\",\"caxis\":{\"gridcolor\":\"#DFE8F3\",\"linecolor\":\"#A2B1C6\",\"ticks\":\"\"}},\"title\":{\"x\":0.05},\"xaxis\":{\"automargin\":true,\"gridcolor\":\"#EBF0F8\",\"linecolor\":\"#EBF0F8\",\"ticks\":\"\",\"title\":{\"standoff\":15},\"zerolinecolor\":\"#EBF0F8\",\"zerolinewidth\":2},\"yaxis\":{\"automargin\":true,\"gridcolor\":\"#EBF0F8\",\"linecolor\":\"#EBF0F8\",\"ticks\":\"\",\"title\":{\"standoff\":15},\"zerolinecolor\":\"#EBF0F8\",\"zerolinewidth\":2}}},\"xaxis\":{\"anchor\":\"y\",\"domain\":[0.0,0.175],\"showgrid\":true},\"yaxis\":{\"anchor\":\"x\",\"domain\":[0.7555555555555555,1.0],\"showgrid\":true},\"xaxis2\":{\"anchor\":\"y2\",\"domain\":[0.275,0.45],\"showgrid\":true},\"yaxis2\":{\"anchor\":\"x2\",\"domain\":[0.7555555555555555,1.0],\"showgrid\":true},\"xaxis3\":{\"anchor\":\"y3\",\"domain\":[0.55,0.7250000000000001],\"showgrid\":true},\"yaxis3\":{\"anchor\":\"x3\",\"domain\":[0.7555555555555555,1.0],\"showgrid\":true},\"xaxis4\":{\"anchor\":\"y4\",\"domain\":[0.825,1.0],\"showgrid\":true},\"yaxis4\":{\"anchor\":\"x4\",\"domain\":[0.7555555555555555,1.0],\"showgrid\":true},\"xaxis5\":{\"anchor\":\"y5\",\"domain\":[0.0,0.175],\"showgrid\":true},\"yaxis5\":{\"anchor\":\"x5\",\"domain\":[0.37777777777777777,0.6222222222222222],\"showgrid\":true},\"xaxis6\":{\"anchor\":\"y6\",\"domain\":[0.275,0.45],\"showgrid\":true},\"yaxis6\":{\"anchor\":\"x6\",\"domain\":[0.37777777777777777,0.6222222222222222],\"showgrid\":true},\"xaxis7\":{\"anchor\":\"y7\",\"domain\":[0.55,0.7250000000000001],\"showgrid\":true},\"yaxis7\":{\"anchor\":\"x7\",\"domain\":[0.37777777777777777,0.6222222222222222],\"showgrid\":true},\"xaxis8\":{\"anchor\":\"y8\",\"domain\":[0.825,1.0],\"showgrid\":true},\"yaxis8\":{\"anchor\":\"x8\",\"domain\":[0.37777777777777777,0.6222222222222222],\"showgrid\":true},\"xaxis9\":{\"anchor\":\"y9\",\"domain\":[0.0,0.175],\"showgrid\":true},\"yaxis9\":{\"anchor\":\"x9\",\"domain\":[0.0,0.24444444444444446],\"showgrid\":true},\"xaxis10\":{\"anchor\":\"y10\",\"domain\":[0.275,0.45],\"showgrid\":true},\"yaxis10\":{\"anchor\":\"x10\",\"domain\":[0.0,0.24444444444444446],\"showgrid\":true},\"xaxis11\":{\"anchor\":\"y11\",\"domain\":[0.55,0.7250000000000001],\"showgrid\":true},\"yaxis11\":{\"anchor\":\"x11\",\"domain\":[0.0,0.24444444444444446],\"showgrid\":true},\"xaxis12\":{\"anchor\":\"y12\",\"domain\":[0.825,1.0],\"showgrid\":true},\"yaxis12\":{\"anchor\":\"x12\",\"domain\":[0.0,0.24444444444444446],\"showgrid\":true},\"annotations\":[{\"font\":{\"size\":16},\"showarrow\":false,\"text\":\"Topic 0\",\"x\":0.0875,\"xanchor\":\"center\",\"xref\":\"paper\",\"y\":1.0,\"yanchor\":\"bottom\",\"yref\":\"paper\"},{\"font\":{\"size\":16},\"showarrow\":false,\"text\":\"Topic 1\",\"x\":0.36250000000000004,\"xanchor\":\"center\",\"xref\":\"paper\",\"y\":1.0,\"yanchor\":\"bottom\",\"yref\":\"paper\"},{\"font\":{\"size\":16},\"showarrow\":false,\"text\":\"Topic 2\",\"x\":0.6375000000000001,\"xanchor\":\"center\",\"xref\":\"paper\",\"y\":1.0,\"yanchor\":\"bottom\",\"yref\":\"paper\"},{\"font\":{\"size\":16},\"showarrow\":false,\"text\":\"Topic 3\",\"x\":0.9125,\"xanchor\":\"center\",\"xref\":\"paper\",\"y\":1.0,\"yanchor\":\"bottom\",\"yref\":\"paper\"},{\"font\":{\"size\":16},\"showarrow\":false,\"text\":\"Topic 4\",\"x\":0.0875,\"xanchor\":\"center\",\"xref\":\"paper\",\"y\":0.6222222222222222,\"yanchor\":\"bottom\",\"yref\":\"paper\"},{\"font\":{\"size\":16},\"showarrow\":false,\"text\":\"Topic 5\",\"x\":0.36250000000000004,\"xanchor\":\"center\",\"xref\":\"paper\",\"y\":0.6222222222222222,\"yanchor\":\"bottom\",\"yref\":\"paper\"},{\"font\":{\"size\":16},\"showarrow\":false,\"text\":\"Topic 6\",\"x\":0.6375000000000001,\"xanchor\":\"center\",\"xref\":\"paper\",\"y\":0.6222222222222222,\"yanchor\":\"bottom\",\"yref\":\"paper\"},{\"font\":{\"size\":16},\"showarrow\":false,\"text\":\"Topic 7\",\"x\":0.9125,\"xanchor\":\"center\",\"xref\":\"paper\",\"y\":0.6222222222222222,\"yanchor\":\"bottom\",\"yref\":\"paper\"},{\"font\":{\"size\":16},\"showarrow\":false,\"text\":\"Topic 8\",\"x\":0.0875,\"xanchor\":\"center\",\"xref\":\"paper\",\"y\":0.24444444444444446,\"yanchor\":\"bottom\",\"yref\":\"paper\"},{\"font\":{\"size\":16},\"showarrow\":false,\"text\":\"Topic 9\",\"x\":0.36250000000000004,\"xanchor\":\"center\",\"xref\":\"paper\",\"y\":0.24444444444444446,\"yanchor\":\"bottom\",\"yref\":\"paper\"}],\"title\":{\"font\":{\"size\":22,\"color\":\"Black\"},\"text\":\"Topic Word Scores\",\"x\":0.5,\"xanchor\":\"center\",\"yanchor\":\"top\"},\"hoverlabel\":{\"font\":{\"size\":16,\"family\":\"Rockwell\"},\"bgcolor\":\"white\"},\"showlegend\":false,\"width\":1000,\"height\":750},                        {\"responsive\": true}                    ).then(function(){\n",
              "                            \n",
              "var gd = document.getElementById('cf8422ef-66b4-466a-b546-c08e2cb4ebc5');\n",
              "var x = new MutationObserver(function (mutations, observer) {{\n",
              "        var display = window.getComputedStyle(gd).display;\n",
              "        if (!display || display === 'none') {{\n",
              "            console.log([gd, 'removed!']);\n",
              "            Plotly.purge(gd);\n",
              "            observer.disconnect();\n",
              "        }}\n",
              "}});\n",
              "\n",
              "// Listen for the removal of the full notebook cells\n",
              "var notebookContainer = gd.closest('#notebook-container');\n",
              "if (notebookContainer) {{\n",
              "    x.observe(notebookContainer, {childList: true});\n",
              "}}\n",
              "\n",
              "// Listen for the clearing of the current output cell\n",
              "var outputEl = gd.closest('.output');\n",
              "if (outputEl) {{\n",
              "    x.observe(outputEl, {childList: true});\n",
              "}}\n",
              "\n",
              "                        })                };                            </script>        </div>\n",
              "</body>\n",
              "</html>"
            ]
          },
          "metadata": {}
        }
      ]
    },
    {
      "cell_type": "markdown",
      "source": [
        "Looking at topic word scores above, we can see that: the word “comfortable” frequently appears across different types of shoes, indicating that comfort is a key attribute we can emphasize in our advertising campaigns."
      ],
      "metadata": {
        "id": "V2IaZ_cB-JjE"
      }
    },
    {
      "cell_type": "code",
      "source": [
        "# visualize topic similarity\n",
        "new_topic_model.visualize_heatmap(n_clusters=20, width=1000, height=1000)"
      ],
      "metadata": {
        "colab": {
          "base_uri": "https://localhost:8080/",
          "height": 1000
        },
        "id": "0RhZEkOYqVC2",
        "outputId": "c7ede7a6-c1c6-437f-fa5c-80f156782b88"
      },
      "execution_count": null,
      "outputs": [
        {
          "output_type": "display_data",
          "data": {
            "text/html": [
              "<html>\n",
              "<head><meta charset=\"utf-8\" /></head>\n",
              "<body>\n",
              "    <div>            <script src=\"https://cdnjs.cloudflare.com/ajax/libs/mathjax/2.7.5/MathJax.js?config=TeX-AMS-MML_SVG\"></script><script type=\"text/javascript\">if (window.MathJax && window.MathJax.Hub && window.MathJax.Hub.Config) {window.MathJax.Hub.Config({SVG: {font: \"STIX-Web\"}});}</script>                <script type=\"text/javascript\">window.PlotlyConfig = {MathJaxConfig: 'local'};</script>\n",
              "        <script src=\"https://cdn.plot.ly/plotly-2.18.2.min.js\"></script>                <div id=\"a128a5a0-c2ba-49d0-a114-d03f1dd01958\" class=\"plotly-graph-div\" style=\"height:1000px; width:1000px;\"></div>            <script type=\"text/javascript\">                                    window.PLOTLYENV=window.PLOTLYENV || {};                                    if (document.getElementById(\"a128a5a0-c2ba-49d0-a114-d03f1dd01958\")) {                    Plotly.newPlot(                        \"a128a5a0-c2ba-49d0-a114-d03f1dd01958\",                        [{\"coloraxis\":\"coloraxis\",\"name\":\"0\",\"x\":[\"0_fit_great_fit great\",\"3_foot_shoe_arch\",\"4_shoe_comfortable_love\",\"6_running_running shoe_shoe\",\"1_sandal_foot_nike sandal\",\"2_son_gift_love\",\"5_size_small_half size\",\"7_wide_foot_narrow\",\"17_size_nike_nikes\",\"18_85_size_105\",\"35_12_12 size_size\",\"8_squeak_shoe_squeaking\",\"10_nike_air_nike air\",\"14_pair_year_comfortable\",\"22_price_shoe_looking\",\"9_sneaker_love sneaker_snea...\",\"36_shoe great_great shoe_gr...\",\"11_slide_velcro_love slide\",\"13_flop_flip flop_flip\",\"12_perfect_nice_expected\",\"38_came_expected_exact\",\"15_shipping_order_shoe\",\"27_box_came_shoe\",\"16_slipper_slip_comfortable\",\"34_thong_pair_nike thong\",\"19_sock_son_wash\",\"33_strap_adjustable_foot\",\"37_sock_comfortable_comfort...\",\"20_shower_water_wet\",\"21_muy_bien_que\",\"23_gym_gym shoe_comfortable\",\"24_air_max_air max\",\"25_cushion_soft_soft cushion\",\"26_husband_shoe husband_hus...\",\"29_daughter_daughter love_s...\",\"28_color_weight_light weight\",\"31_quality_product_comforta...\",\"30_blue_dark_color\",\"32_pegasus_vomero_running\"],\"y\":[\"0_fit_great_fit great\",\"3_foot_shoe_arch\",\"4_shoe_comfortable_love\",\"6_running_running shoe_shoe\",\"1_sandal_foot_nike sandal\",\"2_son_gift_love\",\"5_size_small_half size\",\"7_wide_foot_narrow\",\"17_size_nike_nikes\",\"18_85_size_105\",\"35_12_12 size_size\",\"8_squeak_shoe_squeaking\",\"10_nike_air_nike air\",\"14_pair_year_comfortable\",\"22_price_shoe_looking\",\"9_sneaker_love sneaker_snea...\",\"36_shoe great_great shoe_gr...\",\"11_slide_velcro_love slide\",\"13_flop_flip flop_flip\",\"12_perfect_nice_expected\",\"38_came_expected_exact\",\"15_shipping_order_shoe\",\"27_box_came_shoe\",\"16_slipper_slip_comfortable\",\"34_thong_pair_nike thong\",\"19_sock_son_wash\",\"33_strap_adjustable_foot\",\"37_sock_comfortable_comfort...\",\"20_shower_water_wet\",\"21_muy_bien_que\",\"23_gym_gym shoe_comfortable\",\"24_air_max_air max\",\"25_cushion_soft_soft cushion\",\"26_husband_shoe husband_hus...\",\"29_daughter_daughter love_s...\",\"28_color_weight_light weight\",\"31_quality_product_comforta...\",\"30_blue_dark_color\",\"32_pegasus_vomero_running\"],\"z\":[[1.0000000000000004,0.7666030838500387,0.7983201361279939,0.7595879715494228,0.6245011611765119,0.6508398016273048,0.7248777614103075,0.6791582435678836,0.6975189003546396,0.7089058402996722,0.6355330057732248,0.6668043748837005,0.6726031148625218,0.6979366116673497,0.6914292070430634,0.7431009313049528,0.7239203368941649,0.542305301667721,0.4727252462198539,0.7372417231581352,0.771419422396487,0.6296634688154112,0.6178097739391442,0.5705206291651422,0.6488986677290358,0.7354705456977348,0.7225919345705416,0.7352829780578246,0.47821460819733685,0.5747780397777895,0.5682944514789549,0.5278642472522512,0.5509080770617034,0.5534200520790614,0.5388003221741896,0.670522769056888,0.7315186404267074,0.5660298111337145,0.5995068008634675],[0.7666030838500387,1.0000000000000002,0.8534053013819821,0.8263911675718858,0.679582920323328,0.689563808373603,0.6913041080497633,0.7638275467806459,0.7104260055548102,0.6624420738446811,0.70228348642057,0.7826831148525963,0.7840052651220675,0.779346969647787,0.8033559267548918,0.6706834793493834,0.6749750127407612,0.6213612529589339,0.570974066925039,0.6117318413856101,0.7275164519483314,0.6915390110338118,0.6928876556728358,0.662765880482173,0.6332302964228708,0.7643573877071859,0.7941008415834744,0.7370262008721787,0.5563024532821836,0.6099063878692703,0.6153013191978093,0.6122876702185768,0.6400397313208988,0.6578340074965366,0.5949459326951227,0.6951316530754147,0.6460937292851701,0.6368605895898449,0.6922459044072816],[0.7983201361279939,0.8534053013819821,0.9999999999999998,0.8226336815436446,0.6475441240958757,0.6874232441784958,0.6493919264615489,0.6954419309912026,0.7124045903025599,0.6678770887175307,0.6491012071323559,0.7556263506580537,0.7644650796522521,0.7917429270464436,0.8186277422711011,0.7727555883194299,0.8066080483387623,0.6337804395318805,0.5382530062194437,0.6361438848968215,0.6532083339420125,0.6902393070365569,0.6582091034253414,0.6901722603964677,0.7232181206805419,0.739322587288133,0.7380098944403246,0.7849594892010595,0.5524255723646292,0.5358335281290653,0.5748532421763115,0.5741272163130672,0.6349874782148103,0.7082366312835318,0.6178322284619711,0.7600253246407889,0.7421126097776336,0.6781893418784266,0.6672449672742523],[0.7595879715494228,0.8263911675718858,0.8226336815436446,1.0000000000000002,0.5708249126295424,0.6024454012785112,0.6536115804583466,0.625347341652777,0.657054452171121,0.600614513830195,0.598243664796904,0.686804682624845,0.6907803111199311,0.6973967843433184,0.6941235717721189,0.6731580949559136,0.7130448618374354,0.564507063702289,0.5271484521584788,0.5676228137548136,0.640822390370593,0.5914473148371273,0.5782631292402867,0.5566452713402895,0.5813761795871082,0.6980081591784277,0.665085406098564,0.6689491423227103,0.5180977239985735,0.48917117698648627,0.6464765720540313,0.5231421535717504,0.5082482292801537,0.5924642616381981,0.5334622498543107,0.6369454865066151,0.5756235321788024,0.565087179289139,0.7694334399548652],[0.6245011611765119,0.679582920323328,0.6475441240958757,0.5708249126295424,0.9999999999999999,0.5384226663980236,0.543371887041,0.5534106181398823,0.6027264737559492,0.5522300212556436,0.5377262867649586,0.6680940780498095,0.6547864520630646,0.6611128222216213,0.6167299092305185,0.5610916931618403,0.5214377535963883,0.46976952149345813,0.5011911483263428,0.520568982171735,0.5691260705362637,0.5756905500805811,0.5545410442510023,0.6066265212671853,0.5732032781343578,0.6017051359254253,0.6169541361386777,0.6358180468273396,0.49317278611361703,0.5320358325069783,0.5171989124838433,0.5493138958701425,0.5539964536072317,0.4979726282826824,0.48931979209104143,0.5499760165774639,0.5878607754854726,0.46578580931897207,0.555694405822606],[0.6508398016273048,0.689563808373603,0.6874232441784958,0.6024454012785112,0.5384226663980236,0.9999999999999998,0.5325035096718844,0.4728675360050911,0.5449112203106462,0.5463152052807698,0.5558937239133681,0.6456998452213283,0.6769980178128406,0.6462599470212256,0.6751431433202362,0.5753156721854988,0.5314521277888917,0.497307189104411,0.45080135751879746,0.6273600527880137,0.6149808539200355,0.6089814793826629,0.6058647851556235,0.5210838144326203,0.5622402314601037,0.7765042535925984,0.5990278810634083,0.5697449831999357,0.4846919238624572,0.602992220328214,0.4004542812929568,0.5550108673053116,0.47781110493102275,0.6192069671319619,0.7162684095209051,0.5967406918697427,0.6221210058927665,0.5609703412512645,0.5224571615910616],[0.7248777614103075,0.6913041080497633,0.6493919264615489,0.6536115804583466,0.543371887041,0.5325035096718844,1.0000000000000004,0.7454525124139924,0.8466239267151104,0.8168467182177187,0.8197955442482525,0.6130192240174894,0.643367393337667,0.6507386454073524,0.6339000628586889,0.5852175009234015,0.5281778465833764,0.4727095154944583,0.4382953875881689,0.5710166682445211,0.655212627065056,0.6160449143160736,0.555920097720199,0.5019583755804917,0.521619295134998,0.5963249770189456,0.65709865355328,0.5922835185506492,0.44095767339714836,0.4857715904661649,0.4530815645811581,0.5082659105774318,0.46904591301399867,0.4665884888482573,0.5210332915793786,0.6119684448351291,0.5362203424661379,0.5240874073611367,0.5584904930832011],[0.6791582435678836,0.7638275467806459,0.6954419309912026,0.625347341652777,0.5534106181398823,0.4728675360050911,0.7454525124139924,0.9999999999999998,0.6830462738191125,0.6628059100233816,0.6845834988975573,0.6177947145096883,0.6035776343429802,0.593389591095304,0.6093205320815409,0.6055270817163476,0.5566436493947279,0.4857196892091261,0.44530148106561795,0.48969886615249864,0.5954600285925213,0.50929218514354,0.5446511772108338,0.5755491495877612,0.5307288079448969,0.5839286365443133,0.7134365072037908,0.6049536490619765,0.384512351188967,0.47310253055803153,0.45270412457321785,0.46644497764661097,0.5358701924809759,0.5097226624759894,0.4329546737592418,0.5880223441180403,0.5217383721048171,0.5081687772378076,0.5123366286848914],[0.6975189003546396,0.7104260055548102,0.7124045903025599,0.657054452171121,0.6027264737559492,0.5449112203106462,0.8466239267151104,0.6830462738191125,0.9999999999999996,0.7629554581087952,0.7313769988320065,0.6603865125637486,0.8305513022769009,0.7368375124817224,0.7292603698968161,0.6879490194032579,0.6307823244807452,0.4584825507192246,0.4748375052600356,0.5204209262058097,0.5958611157906284,0.6404917127644971,0.5925263035037964,0.523274433395489,0.5786391377282789,0.633977757719492,0.6366316259867681,0.6401881676172743,0.45481914284258673,0.49370207333628197,0.5763083989365988,0.5893742363819069,0.5083169435343631,0.5418848501029863,0.5463407800806979,0.6179916356638748,0.5832645643072156,0.5028677230624861,0.6448284906308476],[0.7089058402996722,0.6624420738446811,0.6678770887175307,0.600614513830195,0.5522300212556436,0.5463152052807698,0.8168467182177187,0.6628059100233816,0.7629554581087952,1.0000000000000002,0.7583502783480396,0.5810998465202066,0.6709793539359334,0.6817566739639482,0.6773243200763728,0.5902812818113473,0.5466755693968397,0.47740495876755756,0.4377062047121531,0.539888828925086,0.6297713804294937,0.612111466965616,0.5617407912806134,0.4988819593950711,0.5613375606504909,0.5952152715007935,0.6430528110168057,0.6476150429388834,0.45033106255484473,0.49173930280076805,0.4772315163106082,0.5669245394505278,0.4587696983621409,0.47323420308788355,0.4885962822947656,0.6506233560751842,0.5536517964117844,0.5477956214219681,0.5267648916801472],[0.6355330057732248,0.70228348642057,0.6491012071323559,0.598243664796904,0.5377262867649586,0.5558937239133681,0.8197955442482525,0.6845834988975573,0.7313769988320065,0.7583502783480396,1.0,0.6156371676419917,0.6269937347883332,0.6735526649316652,0.6421438446063052,0.5599944352559307,0.5282109388260972,0.4753149412084895,0.4703527617949291,0.537118226069148,0.6013624869375152,0.6170607802049115,0.5600370312783074,0.5139888350093477,0.5387484663644614,0.596405859309324,0.6592668350763544,0.5905734617020597,0.42868726414926084,0.4600159741546034,0.4335425644454532,0.4979806655415774,0.4647540749886938,0.48860128586630114,0.522794154435331,0.5733986265165472,0.5025087093230981,0.5376620811581253,0.5201583529622678],[0.6668043748837005,0.7826831148525963,0.7556263506580537,0.686804682624845,0.6680940780498095,0.6456998452213283,0.6130192240174894,0.6177947145096883,0.6603865125637486,0.5810998465202066,0.6156371676419917,1.0,0.7625973637200214,0.7300684536086786,0.7105238970567826,0.6480838506642821,0.5974084451268737,0.5758275457526235,0.5152875498417435,0.5390322482612777,0.6275443601927837,0.6270412938779338,0.6306562887908512,0.6209025238260582,0.6059102367738847,0.7306275497851296,0.6909053437401526,0.666577419294003,0.5767653861446393,0.537156253399139,0.5526759088875803,0.6010452077252039,0.6434540828821441,0.6372321348032765,0.5796084752872315,0.6298306734050744,0.6264931010451648,0.5685016515967956,0.6292337354185296],[0.6726031148625218,0.7840052651220675,0.7644650796522521,0.6907803111199311,0.6547864520630646,0.6769980178128406,0.643367393337667,0.6035776343429802,0.8305513022769009,0.6709793539359334,0.6269937347883332,0.7625973637200214,0.9999999999999997,0.7932546362894302,0.7979917989272909,0.7288154523593644,0.6234174874055534,0.5267131320684798,0.5168101053830267,0.523326907056019,0.598605231574771,0.686017418176387,0.6845966228193943,0.5886197459320315,0.6203334480798947,0.6963161040751304,0.692426522920115,0.6651237160864811,0.5363139933377596,0.5809417141836697,0.6018833633763367,0.7540650410380918,0.5897312269130255,0.5893164781815874,0.5777111571726786,0.6687627406677384,0.674687754065141,0.6194359293515641,0.7354340479286919],[0.6979366116673497,0.779346969647787,0.7917429270464436,0.6973967843433184,0.6611128222216213,0.6462599470212256,0.6507386454073524,0.593389591095304,0.7368375124817224,0.6817566739639482,0.6735526649316652,0.7300684536086786,0.7932546362894302,0.9999999999999996,0.7893873134570818,0.6840516904120844,0.6478752653673312,0.6155879935945046,0.5588589410646141,0.6167277201328711,0.6535072813786666,0.6832086979008175,0.64634105850551,0.599934328158316,0.6862455246518928,0.6908084036296129,0.713198604430248,0.7238608031339895,0.5417677831119978,0.5548474289698822,0.5315981252729851,0.579074289205642,0.5843359325025232,0.6034789932131388,0.610377662841918,0.6775376107875757,0.6457982220255394,0.639471614795479,0.6146152806600196],[0.6914292070430634,0.8033559267548918,0.8186277422711011,0.6941235717721189,0.6167299092305185,0.6751431433202362,0.6339000628586889,0.6093205320815409,0.7292603698968161,0.6773243200763728,0.6421438446063052,0.7105238970567826,0.7979917989272909,0.7893873134570818,0.9999999999999998,0.7181226728594807,0.6964943023983537,0.5476661499202893,0.4859632615952991,0.5618710125361076,0.6160046436240652,0.7556278506032185,0.7161477811789267,0.5909817114153404,0.6329724274990517,0.6594906770244183,0.666282581640337,0.6413515541863628,0.50058915770198,0.5597029767013517,0.5242566380361489,0.5772841669584555,0.5057311642102214,0.6164735118011263,0.5961597698670841,0.652916212049294,0.6356048567783938,0.6089502620236091,0.6431962274181398],[0.7431009313049528,0.6706834793493834,0.7727555883194299,0.6731580949559136,0.5610916931618403,0.5753156721854988,0.5852175009234015,0.6055270817163476,0.6879490194032579,0.5902812818113473,0.5599944352559307,0.6480838506642821,0.7288154523593644,0.6840516904120844,0.7181226728594807,1.0000000000000007,0.7046302731841727,0.5233839534373962,0.4470136602088925,0.5102734671867919,0.561575727954265,0.5770603802793759,0.5748932445744622,0.6589275021893914,0.6585541782423883,0.6279291960687232,0.6318702144804718,0.6610452434373997,0.38219745017445067,0.4576112005403348,0.5378917628256794,0.5242064019402114,0.48843186318190235,0.6216841530946995,0.5221051941704655,0.5345252701395954,0.59036334681552,0.47124266383139846,0.6114393726973892],[0.7239203368941649,0.6749750127407612,0.8066080483387623,0.7130448618374354,0.5214377535963883,0.5314521277888917,0.5281778465833764,0.5566436493947279,0.6307823244807452,0.5466755693968397,0.5282109388260972,0.5974084451268737,0.6234174874055534,0.6478752653673312,0.6964943023983537,0.7046302731841727,0.9999999999999996,0.48274127332723726,0.42452510515484276,0.6090337887197986,0.5106414077331102,0.562677294005933,0.5519941959435812,0.5004209987837513,0.5950524908124311,0.6154232444663026,0.5885630878680332,0.6142286135807147,0.35636005060167036,0.4118646388929731,0.5264491549775905,0.4462503518954695,0.41234741095999605,0.5898072773748592,0.46768894814026507,0.49825144914384806,0.6464948055634204,0.41509280417522576,0.5605329985351496],[0.542305301667721,0.6213612529589339,0.6337804395318805,0.564507063702289,0.46976952149345813,0.497307189104411,0.4727095154944583,0.4857196892091261,0.4584825507192246,0.47740495876755756,0.4753149412084895,0.5758275457526235,0.5267131320684798,0.6155879935945046,0.5476661499202893,0.5233839534373962,0.48274127332723726,0.9999999999999998,0.5893109494466161,0.47795650141226714,0.47602194148966775,0.4720117934225787,0.4536200844826641,0.6426672243099998,0.6004664948165552,0.5459742697302375,0.7522262820493806,0.5790295129333187,0.45409319823187644,0.42809827511244886,0.4566241020256177,0.39104613203311833,0.4853783735924361,0.4948927175455748,0.47181735556667004,0.5166019912184059,0.5156000847237175,0.42927795597526164,0.4708349462289993],[0.4727252462198539,0.570974066925039,0.5382530062194437,0.5271484521584788,0.5011911483263428,0.45080135751879746,0.4382953875881689,0.44530148106561795,0.4748375052600356,0.4377062047121531,0.4703527617949291,0.5152875498417435,0.5168101053830267,0.5588589410646141,0.4859632615952991,0.4470136602088925,0.42452510515484276,0.5893109494466161,0.9999999999999993,0.42832331930989476,0.448049037741,0.4467556105659938,0.4511209188673818,0.5650644730618105,0.5318494700383549,0.521961673711529,0.5891232076168913,0.4835585675700005,0.4129741837284464,0.3762218922810844,0.3698989943070218,0.40363997260331697,0.3984802763540518,0.44450962725585685,0.38431200366652885,0.4437265168626277,0.3985593959903859,0.38305005515630824,0.4926035973508119],[0.7372417231581352,0.6117318413856101,0.6361438848968215,0.5676228137548136,0.520568982171735,0.6273600527880137,0.5710166682445211,0.48969886615249864,0.5204209262058097,0.539888828925086,0.537118226069148,0.5390322482612777,0.523326907056019,0.6167277201328711,0.5618710125361076,0.5102734671867919,0.6090337887197986,0.47795650141226714,0.42832331930989476,1.0,0.7504757107766107,0.5219903224182845,0.5478829720528255,0.4512979255898061,0.5068152981268299,0.5879826841806739,0.5742189655324552,0.520868407447499,0.3997927060393145,0.5538501517836913,0.38070769460716525,0.5042791246867472,0.4683594042094439,0.46034237834863734,0.4662173846331481,0.5943154423891877,0.6628919078593363,0.5423099600355527,0.4760868796868337],[0.771419422396487,0.7275164519483314,0.6532083339420125,0.640822390370593,0.5691260705362637,0.6149808539200355,0.655212627065056,0.5954600285925213,0.5958611157906284,0.6297713804294937,0.6013624869375152,0.6275443601927837,0.598605231574771,0.6535072813786666,0.6160046436240652,0.561575727954265,0.5106414077331102,0.47602194148966775,0.448049037741,0.7504757107766107,1.0,0.6669549363594058,0.6454342810165619,0.5184810812871569,0.5382890431090586,0.6394338141755965,0.623580124359046,0.5874452924215342,0.48885894659124,0.5624939073461463,0.44961926538564073,0.4910572715522554,0.5353323032457525,0.4603024832575732,0.4852858914824313,0.6505239662271921,0.6031398646966712,0.5852447913705618,0.5222597645553421],[0.6296634688154112,0.6915390110338118,0.6902393070365569,0.5914473148371273,0.5756905500805811,0.6089814793826629,0.6160449143160736,0.50929218514354,0.6404917127644971,0.612111466965616,0.6170607802049115,0.6270412938779338,0.686017418176387,0.6832086979008175,0.7556278506032185,0.5770603802793759,0.562677294005933,0.4720117934225787,0.4467556105659938,0.5219903224182845,0.6669549363594058,1.0000000000000002,0.7382746775747636,0.5306394298322828,0.5276632386702058,0.569493301778859,0.6073406024937622,0.56272102669001,0.4795883493539055,0.5181776912322948,0.4227715527513144,0.5477008289625105,0.47835072011457846,0.5166109986462663,0.530667964861762,0.5630067200734822,0.5581676333663279,0.5408603471718364,0.5687945885121994],[0.6178097739391442,0.6928876556728358,0.6582091034253414,0.5782631292402867,0.5545410442510023,0.6058647851556235,0.555920097720199,0.5446511772108338,0.5925263035037964,0.5617407912806134,0.5600370312783074,0.6306562887908512,0.6845966228193943,0.64634105850551,0.7161477811789267,0.5748932445744622,0.5519941959435812,0.4536200844826641,0.4511209188673818,0.5478829720528255,0.6454342810165619,0.7382746775747636,0.9999999999999998,0.5022119497610977,0.5068098779051045,0.6047143809025274,0.6121219279700176,0.5756703262034925,0.41824715490322667,0.5098301864174076,0.4579184235797573,0.554950764472457,0.5101441240417331,0.4576461779023885,0.4831121083677312,0.5707373145053245,0.5884034719994392,0.5472036502221206,0.5497083061637877],[0.5705206291651422,0.662765880482173,0.6901722603964677,0.5566452713402895,0.6066265212671853,0.5210838144326203,0.5019583755804917,0.5755491495877612,0.523274433395489,0.4988819593950711,0.5139888350093477,0.6209025238260582,0.5886197459320315,0.599934328158316,0.5909817114153404,0.6589275021893914,0.5004209987837513,0.6426672243099998,0.5650644730618105,0.4512979255898061,0.5184810812871569,0.5306394298322828,0.5022119497610977,0.9999999999999996,0.6648715327263403,0.5950658324451992,0.6681401862371443,0.656512067520832,0.5065670276919514,0.4433683923960613,0.44636258735816725,0.40107531061602747,0.6410578402431217,0.5498839485660284,0.4716182855186801,0.5259125234988409,0.5630115869911535,0.46258922574876926,0.4997551905340595],[0.6488986677290358,0.6332302964228708,0.7232181206805419,0.5813761795871082,0.5732032781343578,0.5622402314601037,0.521619295134998,0.5307288079448969,0.5786391377282789,0.5613375606504909,0.5387484663644614,0.6059102367738847,0.6203334480798947,0.6862455246518928,0.6329724274990517,0.6585541782423883,0.5950524908124311,0.6004664948165552,0.5318494700383549,0.5068152981268299,0.5382890431090586,0.5276632386702058,0.5068098779051045,0.6648715327263403,1.0,0.6353075631838059,0.6385922999975854,0.6978985513773841,0.5171326162086901,0.46207186675869416,0.47727248741674666,0.4555110077801189,0.5499353899614448,0.5793535025305592,0.5406058579919567,0.5368126123527767,0.5740263044361069,0.5079070877526743,0.5112006715929791],[0.7354705456977348,0.7643573877071859,0.739322587288133,0.6980081591784277,0.6017051359254253,0.7765042535925984,0.5963249770189456,0.5839286365443133,0.633977757719492,0.5952152715007935,0.596405859309324,0.7306275497851296,0.6963161040751304,0.6908084036296129,0.6594906770244183,0.6279291960687232,0.6154232444663026,0.5459742697302375,0.521961673711529,0.5879826841806739,0.6394338141755965,0.569493301778859,0.6047143809025274,0.5950658324451992,0.6353075631838059,0.9999999999999998,0.6960860437378352,0.8001110693732452,0.6018270213546051,0.5586076341463317,0.5213350329902805,0.5248409863543047,0.573030963774062,0.6316600156999241,0.5940584775179172,0.6421912532713284,0.617415144808705,0.5506689519162643,0.5318762359667907],[0.7225919345705416,0.7941008415834744,0.7380098944403246,0.665085406098564,0.6169541361386777,0.5990278810634083,0.65709865355328,0.7134365072037908,0.6366316259867681,0.6430528110168057,0.6592668350763544,0.6909053437401526,0.692426522920115,0.713198604430248,0.666282581640337,0.6318702144804718,0.5885630878680332,0.7522262820493806,0.5891232076168913,0.5742189655324552,0.623580124359046,0.6073406024937622,0.6121219279700176,0.6681401862371443,0.6385922999975854,0.6960860437378352,1.0000000000000002,0.7167072072899927,0.5026091133854063,0.5505657379962194,0.565059457481911,0.5399870947774098,0.5902991425898432,0.5794130146175804,0.5549535899168402,0.6530525037499015,0.6216218900988986,0.5674876108657526,0.5977855357171157],[0.7352829780578246,0.7370262008721787,0.7849594892010595,0.6689491423227103,0.6358180468273396,0.5697449831999357,0.5922835185506492,0.6049536490619765,0.6401881676172743,0.6476150429388834,0.5905734617020597,0.666577419294003,0.6651237160864811,0.7238608031339895,0.6413515541863628,0.6610452434373997,0.6142286135807147,0.5790295129333187,0.4835585675700005,0.520868407447499,0.5874452924215342,0.56272102669001,0.5756703262034925,0.656512067520832,0.6978985513773841,0.8001110693732452,0.7167072072899927,1.0000000000000002,0.5544224658237324,0.4978781043444359,0.605283503496953,0.5073680580617668,0.6304295813605689,0.5759517190157482,0.4878028936857818,0.6586211355247128,0.6813527177919707,0.48709790233038186,0.5336792271802702],[0.47821460819733685,0.5563024532821836,0.5524255723646292,0.5180977239985735,0.49317278611361703,0.4846919238624572,0.44095767339714836,0.384512351188967,0.45481914284258673,0.45033106255484473,0.42868726414926084,0.5767653861446393,0.5363139933377596,0.5417677831119978,0.50058915770198,0.38219745017445067,0.35636005060167036,0.45409319823187644,0.4129741837284464,0.3997927060393145,0.48885894659124,0.4795883493539055,0.41824715490322667,0.5065670276919514,0.5171326162086901,0.6018270213546051,0.5026091133854063,0.5544224658237324,0.9999999999999998,0.4489435447044238,0.4433308351867575,0.4634659582620547,0.5041655336873204,0.5037638191467877,0.42561801771978564,0.564440782087144,0.4651237414973414,0.4809344676592763,0.4397307128546125],[0.5747780397777895,0.6099063878692703,0.5358335281290653,0.48917117698648627,0.5320358325069783,0.602992220328214,0.4857715904661649,0.47310253055803153,0.49370207333628197,0.49173930280076805,0.4600159741546034,0.537156253399139,0.5809417141836697,0.5548474289698822,0.5597029767013517,0.4576112005403348,0.4118646388929731,0.42809827511244886,0.3762218922810844,0.5538501517836913,0.5624939073461463,0.5181776912322948,0.5098301864174076,0.4433683923960613,0.46207186675869416,0.5586076341463317,0.5505657379962194,0.4978781043444359,0.4489435447044238,1.0000000000000004,0.38530762025348936,0.5071910007669106,0.43891578187935576,0.41643322879988365,0.4649061433860835,0.5616623403158714,0.5430623389096889,0.4817590487114066,0.5350630870429334],[0.5682944514789549,0.6153013191978093,0.5748532421763115,0.6464765720540313,0.5171989124838433,0.4004542812929568,0.4530815645811581,0.45270412457321785,0.5763083989365988,0.4772315163106082,0.4335425644454532,0.5526759088875803,0.6018833633763367,0.5315981252729851,0.5242566380361489,0.5378917628256794,0.5264491549775905,0.4566241020256177,0.3698989943070218,0.38070769460716525,0.44961926538564073,0.4227715527513144,0.4579184235797573,0.44636258735816725,0.47727248741674666,0.5213350329902805,0.565059457481911,0.605283503496953,0.4433308351867575,0.38530762025348936,1.0000000000000002,0.4582403294278138,0.448328367587563,0.44609437682239195,0.37984179759244063,0.49674603570502657,0.46424174451742395,0.33133911754452916,0.5703895946159646],[0.5278642472522512,0.6122876702185768,0.5741272163130672,0.5231421535717504,0.5493138958701425,0.5550108673053116,0.5082659105774318,0.46644497764661097,0.5893742363819069,0.5669245394505278,0.4979806655415774,0.6010452077252039,0.7540650410380918,0.579074289205642,0.5772841669584555,0.5242064019402114,0.4462503518954695,0.39104613203311833,0.40363997260331697,0.5042791246867472,0.4910572715522554,0.5477008289625105,0.554950764472457,0.40107531061602747,0.4555110077801189,0.5248409863543047,0.5399870947774098,0.5073680580617668,0.4634659582620547,0.5071910007669106,0.4582403294278138,0.9999999999999988,0.5012441451679757,0.4523741050183456,0.43796640895072814,0.5578376733356862,0.5276075808777816,0.5177989982880258,0.5947744419653995],[0.5509080770617034,0.6400397313208988,0.6349874782148103,0.5082482292801537,0.5539964536072317,0.47781110493102275,0.46904591301399867,0.5358701924809759,0.5083169435343631,0.4587696983621409,0.4647540749886938,0.6434540828821441,0.5897312269130255,0.5843359325025232,0.5057311642102214,0.48843186318190235,0.41234741095999605,0.4853783735924361,0.3984802763540518,0.4683594042094439,0.5353323032457525,0.47835072011457846,0.5101441240417331,0.6410578402431217,0.5499353899614448,0.573030963774062,0.5902991425898432,0.6304295813605689,0.5041655336873204,0.43891578187935576,0.448328367587563,0.5012441451679757,0.9999999999999998,0.43824225661025373,0.4228713618343066,0.5889574036656027,0.6280756772295375,0.4867794695868081,0.4783372634918378],[0.5534200520790614,0.6578340074965366,0.7082366312835318,0.5924642616381981,0.4979726282826824,0.6192069671319619,0.4665884888482573,0.5097226624759894,0.5418848501029863,0.47323420308788355,0.48860128586630114,0.6372321348032765,0.5893164781815874,0.6034789932131388,0.6164735118011263,0.6216841530946995,0.5898072773748592,0.4948927175455748,0.44450962725585685,0.46034237834863734,0.4603024832575732,0.5166109986462663,0.4576461779023885,0.5498839485660284,0.5793535025305592,0.6316600156999241,0.5794130146175804,0.5759517190157482,0.5037638191467877,0.41643322879988365,0.44609437682239195,0.4523741050183456,0.43824225661025373,1.0,0.6047506753158416,0.5334765204102048,0.4937292310997832,0.4545830132585014,0.4836913037619196],[0.5388003221741896,0.5949459326951227,0.6178322284619711,0.5334622498543107,0.48931979209104143,0.7162684095209051,0.5210332915793786,0.4329546737592418,0.5463407800806979,0.4885962822947656,0.522794154435331,0.5796084752872315,0.5777111571726786,0.610377662841918,0.5961597698670841,0.5221051941704655,0.46768894814026507,0.47181735556667004,0.38431200366652885,0.4662173846331481,0.4852858914824313,0.530667964861762,0.4831121083677312,0.4716182855186801,0.5406058579919567,0.5940584775179172,0.5549535899168402,0.4878028936857818,0.42561801771978564,0.4649061433860835,0.37984179759244063,0.43796640895072814,0.4228713618343066,0.6047506753158416,0.9999999999999992,0.5226289747549547,0.49228789594096023,0.4745537671645713,0.48208857866208443],[0.670522769056888,0.6951316530754147,0.7600253246407889,0.6369454865066151,0.5499760165774639,0.5967406918697427,0.6119684448351291,0.5880223441180403,0.6179916356638748,0.6506233560751842,0.5733986265165472,0.6298306734050744,0.6687627406677384,0.6775376107875757,0.652916212049294,0.5345252701395954,0.49825144914384806,0.5166019912184059,0.4437265168626277,0.5943154423891877,0.6505239662271921,0.5630067200734822,0.5707373145053245,0.5259125234988409,0.5368126123527767,0.6421912532713284,0.6530525037499015,0.6586211355247128,0.564440782087144,0.5616623403158714,0.49674603570502657,0.5578376733356862,0.5889574036656027,0.5334765204102048,0.5226289747549547,1.0000000000000009,0.7153162589938434,0.7754446719090576,0.5755476252678198],[0.7315186404267074,0.6460937292851701,0.7421126097776336,0.5756235321788024,0.5878607754854726,0.6221210058927665,0.5362203424661379,0.5217383721048171,0.5832645643072156,0.5536517964117844,0.5025087093230981,0.6264931010451648,0.674687754065141,0.6457982220255394,0.6356048567783938,0.59036334681552,0.6464948055634204,0.5156000847237175,0.3985593959903859,0.6628919078593363,0.6031398646966712,0.5581676333663279,0.5884034719994392,0.5630115869911535,0.5740263044361069,0.617415144808705,0.6216218900988986,0.6813527177919707,0.4651237414973414,0.5430623389096889,0.46424174451742395,0.5276075808777816,0.6280756772295375,0.4937292310997832,0.49228789594096023,0.7153162589938434,1.0,0.5452357030061596,0.5073860584640933],[0.5660298111337145,0.6368605895898449,0.6781893418784266,0.565087179289139,0.46578580931897207,0.5609703412512645,0.5240874073611367,0.5081687772378076,0.5028677230624861,0.5477956214219681,0.5376620811581253,0.5685016515967956,0.6194359293515641,0.639471614795479,0.6089502620236091,0.47124266383139846,0.41509280417522576,0.42927795597526164,0.38305005515630824,0.5423099600355527,0.5852447913705618,0.5408603471718364,0.5472036502221206,0.46258922574876926,0.5079070877526743,0.5506689519162643,0.5674876108657526,0.48709790233038186,0.4809344676592763,0.4817590487114066,0.33133911754452916,0.5177989982880258,0.4867794695868081,0.4545830132585014,0.4745537671645713,0.7754446719090576,0.5452357030061596,1.0000000000000007,0.5210072646680753],[0.5995068008634675,0.6922459044072816,0.6672449672742523,0.7694334399548652,0.555694405822606,0.5224571615910616,0.5584904930832011,0.5123366286848914,0.6448284906308476,0.5267648916801472,0.5201583529622678,0.6292337354185296,0.7354340479286919,0.6146152806600196,0.6431962274181398,0.6114393726973892,0.5605329985351496,0.4708349462289993,0.4926035973508119,0.4760868796868337,0.5222597645553421,0.5687945885121994,0.5497083061637877,0.4997551905340595,0.5112006715929791,0.5318762359667907,0.5977855357171157,0.5336792271802702,0.4397307128546125,0.5350630870429334,0.5703895946159646,0.5947744419653995,0.4783372634918378,0.4836913037619196,0.48208857866208443,0.5755476252678198,0.5073860584640933,0.5210072646680753,1.0000000000000004]],\"type\":\"heatmap\",\"xaxis\":\"x\",\"yaxis\":\"y\",\"hovertemplate\":\"x: %{x}<br>y: %{y}<br>Similarity Score: %{z}<extra></extra>\"}],                        {\"template\":{\"data\":{\"histogram2dcontour\":[{\"type\":\"histogram2dcontour\",\"colorbar\":{\"outlinewidth\":0,\"ticks\":\"\"},\"colorscale\":[[0.0,\"#0d0887\"],[0.1111111111111111,\"#46039f\"],[0.2222222222222222,\"#7201a8\"],[0.3333333333333333,\"#9c179e\"],[0.4444444444444444,\"#bd3786\"],[0.5555555555555556,\"#d8576b\"],[0.6666666666666666,\"#ed7953\"],[0.7777777777777778,\"#fb9f3a\"],[0.8888888888888888,\"#fdca26\"],[1.0,\"#f0f921\"]]}],\"choropleth\":[{\"type\":\"choropleth\",\"colorbar\":{\"outlinewidth\":0,\"ticks\":\"\"}}],\"histogram2d\":[{\"type\":\"histogram2d\",\"colorbar\":{\"outlinewidth\":0,\"ticks\":\"\"},\"colorscale\":[[0.0,\"#0d0887\"],[0.1111111111111111,\"#46039f\"],[0.2222222222222222,\"#7201a8\"],[0.3333333333333333,\"#9c179e\"],[0.4444444444444444,\"#bd3786\"],[0.5555555555555556,\"#d8576b\"],[0.6666666666666666,\"#ed7953\"],[0.7777777777777778,\"#fb9f3a\"],[0.8888888888888888,\"#fdca26\"],[1.0,\"#f0f921\"]]}],\"heatmap\":[{\"type\":\"heatmap\",\"colorbar\":{\"outlinewidth\":0,\"ticks\":\"\"},\"colorscale\":[[0.0,\"#0d0887\"],[0.1111111111111111,\"#46039f\"],[0.2222222222222222,\"#7201a8\"],[0.3333333333333333,\"#9c179e\"],[0.4444444444444444,\"#bd3786\"],[0.5555555555555556,\"#d8576b\"],[0.6666666666666666,\"#ed7953\"],[0.7777777777777778,\"#fb9f3a\"],[0.8888888888888888,\"#fdca26\"],[1.0,\"#f0f921\"]]}],\"heatmapgl\":[{\"type\":\"heatmapgl\",\"colorbar\":{\"outlinewidth\":0,\"ticks\":\"\"},\"colorscale\":[[0.0,\"#0d0887\"],[0.1111111111111111,\"#46039f\"],[0.2222222222222222,\"#7201a8\"],[0.3333333333333333,\"#9c179e\"],[0.4444444444444444,\"#bd3786\"],[0.5555555555555556,\"#d8576b\"],[0.6666666666666666,\"#ed7953\"],[0.7777777777777778,\"#fb9f3a\"],[0.8888888888888888,\"#fdca26\"],[1.0,\"#f0f921\"]]}],\"contourcarpet\":[{\"type\":\"contourcarpet\",\"colorbar\":{\"outlinewidth\":0,\"ticks\":\"\"}}],\"contour\":[{\"type\":\"contour\",\"colorbar\":{\"outlinewidth\":0,\"ticks\":\"\"},\"colorscale\":[[0.0,\"#0d0887\"],[0.1111111111111111,\"#46039f\"],[0.2222222222222222,\"#7201a8\"],[0.3333333333333333,\"#9c179e\"],[0.4444444444444444,\"#bd3786\"],[0.5555555555555556,\"#d8576b\"],[0.6666666666666666,\"#ed7953\"],[0.7777777777777778,\"#fb9f3a\"],[0.8888888888888888,\"#fdca26\"],[1.0,\"#f0f921\"]]}],\"surface\":[{\"type\":\"surface\",\"colorbar\":{\"outlinewidth\":0,\"ticks\":\"\"},\"colorscale\":[[0.0,\"#0d0887\"],[0.1111111111111111,\"#46039f\"],[0.2222222222222222,\"#7201a8\"],[0.3333333333333333,\"#9c179e\"],[0.4444444444444444,\"#bd3786\"],[0.5555555555555556,\"#d8576b\"],[0.6666666666666666,\"#ed7953\"],[0.7777777777777778,\"#fb9f3a\"],[0.8888888888888888,\"#fdca26\"],[1.0,\"#f0f921\"]]}],\"mesh3d\":[{\"type\":\"mesh3d\",\"colorbar\":{\"outlinewidth\":0,\"ticks\":\"\"}}],\"scatter\":[{\"fillpattern\":{\"fillmode\":\"overlay\",\"size\":10,\"solidity\":0.2},\"type\":\"scatter\"}],\"parcoords\":[{\"type\":\"parcoords\",\"line\":{\"colorbar\":{\"outlinewidth\":0,\"ticks\":\"\"}}}],\"scatterpolargl\":[{\"type\":\"scatterpolargl\",\"marker\":{\"colorbar\":{\"outlinewidth\":0,\"ticks\":\"\"}}}],\"bar\":[{\"error_x\":{\"color\":\"#2a3f5f\"},\"error_y\":{\"color\":\"#2a3f5f\"},\"marker\":{\"line\":{\"color\":\"#E5ECF6\",\"width\":0.5},\"pattern\":{\"fillmode\":\"overlay\",\"size\":10,\"solidity\":0.2}},\"type\":\"bar\"}],\"scattergeo\":[{\"type\":\"scattergeo\",\"marker\":{\"colorbar\":{\"outlinewidth\":0,\"ticks\":\"\"}}}],\"scatterpolar\":[{\"type\":\"scatterpolar\",\"marker\":{\"colorbar\":{\"outlinewidth\":0,\"ticks\":\"\"}}}],\"histogram\":[{\"marker\":{\"pattern\":{\"fillmode\":\"overlay\",\"size\":10,\"solidity\":0.2}},\"type\":\"histogram\"}],\"scattergl\":[{\"type\":\"scattergl\",\"marker\":{\"colorbar\":{\"outlinewidth\":0,\"ticks\":\"\"}}}],\"scatter3d\":[{\"type\":\"scatter3d\",\"line\":{\"colorbar\":{\"outlinewidth\":0,\"ticks\":\"\"}},\"marker\":{\"colorbar\":{\"outlinewidth\":0,\"ticks\":\"\"}}}],\"scattermapbox\":[{\"type\":\"scattermapbox\",\"marker\":{\"colorbar\":{\"outlinewidth\":0,\"ticks\":\"\"}}}],\"scatterternary\":[{\"type\":\"scatterternary\",\"marker\":{\"colorbar\":{\"outlinewidth\":0,\"ticks\":\"\"}}}],\"scattercarpet\":[{\"type\":\"scattercarpet\",\"marker\":{\"colorbar\":{\"outlinewidth\":0,\"ticks\":\"\"}}}],\"carpet\":[{\"aaxis\":{\"endlinecolor\":\"#2a3f5f\",\"gridcolor\":\"white\",\"linecolor\":\"white\",\"minorgridcolor\":\"white\",\"startlinecolor\":\"#2a3f5f\"},\"baxis\":{\"endlinecolor\":\"#2a3f5f\",\"gridcolor\":\"white\",\"linecolor\":\"white\",\"minorgridcolor\":\"white\",\"startlinecolor\":\"#2a3f5f\"},\"type\":\"carpet\"}],\"table\":[{\"cells\":{\"fill\":{\"color\":\"#EBF0F8\"},\"line\":{\"color\":\"white\"}},\"header\":{\"fill\":{\"color\":\"#C8D4E3\"},\"line\":{\"color\":\"white\"}},\"type\":\"table\"}],\"barpolar\":[{\"marker\":{\"line\":{\"color\":\"#E5ECF6\",\"width\":0.5},\"pattern\":{\"fillmode\":\"overlay\",\"size\":10,\"solidity\":0.2}},\"type\":\"barpolar\"}],\"pie\":[{\"automargin\":true,\"type\":\"pie\"}]},\"layout\":{\"autotypenumbers\":\"strict\",\"colorway\":[\"#636efa\",\"#EF553B\",\"#00cc96\",\"#ab63fa\",\"#FFA15A\",\"#19d3f3\",\"#FF6692\",\"#B6E880\",\"#FF97FF\",\"#FECB52\"],\"font\":{\"color\":\"#2a3f5f\"},\"hovermode\":\"closest\",\"hoverlabel\":{\"align\":\"left\"},\"paper_bgcolor\":\"white\",\"plot_bgcolor\":\"#E5ECF6\",\"polar\":{\"bgcolor\":\"#E5ECF6\",\"angularaxis\":{\"gridcolor\":\"white\",\"linecolor\":\"white\",\"ticks\":\"\"},\"radialaxis\":{\"gridcolor\":\"white\",\"linecolor\":\"white\",\"ticks\":\"\"}},\"ternary\":{\"bgcolor\":\"#E5ECF6\",\"aaxis\":{\"gridcolor\":\"white\",\"linecolor\":\"white\",\"ticks\":\"\"},\"baxis\":{\"gridcolor\":\"white\",\"linecolor\":\"white\",\"ticks\":\"\"},\"caxis\":{\"gridcolor\":\"white\",\"linecolor\":\"white\",\"ticks\":\"\"}},\"coloraxis\":{\"colorbar\":{\"outlinewidth\":0,\"ticks\":\"\"}},\"colorscale\":{\"sequential\":[[0.0,\"#0d0887\"],[0.1111111111111111,\"#46039f\"],[0.2222222222222222,\"#7201a8\"],[0.3333333333333333,\"#9c179e\"],[0.4444444444444444,\"#bd3786\"],[0.5555555555555556,\"#d8576b\"],[0.6666666666666666,\"#ed7953\"],[0.7777777777777778,\"#fb9f3a\"],[0.8888888888888888,\"#fdca26\"],[1.0,\"#f0f921\"]],\"sequentialminus\":[[0.0,\"#0d0887\"],[0.1111111111111111,\"#46039f\"],[0.2222222222222222,\"#7201a8\"],[0.3333333333333333,\"#9c179e\"],[0.4444444444444444,\"#bd3786\"],[0.5555555555555556,\"#d8576b\"],[0.6666666666666666,\"#ed7953\"],[0.7777777777777778,\"#fb9f3a\"],[0.8888888888888888,\"#fdca26\"],[1.0,\"#f0f921\"]],\"diverging\":[[0,\"#8e0152\"],[0.1,\"#c51b7d\"],[0.2,\"#de77ae\"],[0.3,\"#f1b6da\"],[0.4,\"#fde0ef\"],[0.5,\"#f7f7f7\"],[0.6,\"#e6f5d0\"],[0.7,\"#b8e186\"],[0.8,\"#7fbc41\"],[0.9,\"#4d9221\"],[1,\"#276419\"]]},\"xaxis\":{\"gridcolor\":\"white\",\"linecolor\":\"white\",\"ticks\":\"\",\"title\":{\"standoff\":15},\"zerolinecolor\":\"white\",\"automargin\":true,\"zerolinewidth\":2},\"yaxis\":{\"gridcolor\":\"white\",\"linecolor\":\"white\",\"ticks\":\"\",\"title\":{\"standoff\":15},\"zerolinecolor\":\"white\",\"automargin\":true,\"zerolinewidth\":2},\"scene\":{\"xaxis\":{\"backgroundcolor\":\"#E5ECF6\",\"gridcolor\":\"white\",\"linecolor\":\"white\",\"showbackground\":true,\"ticks\":\"\",\"zerolinecolor\":\"white\",\"gridwidth\":2},\"yaxis\":{\"backgroundcolor\":\"#E5ECF6\",\"gridcolor\":\"white\",\"linecolor\":\"white\",\"showbackground\":true,\"ticks\":\"\",\"zerolinecolor\":\"white\",\"gridwidth\":2},\"zaxis\":{\"backgroundcolor\":\"#E5ECF6\",\"gridcolor\":\"white\",\"linecolor\":\"white\",\"showbackground\":true,\"ticks\":\"\",\"zerolinecolor\":\"white\",\"gridwidth\":2}},\"shapedefaults\":{\"line\":{\"color\":\"#2a3f5f\"}},\"annotationdefaults\":{\"arrowcolor\":\"#2a3f5f\",\"arrowhead\":0,\"arrowwidth\":1},\"geo\":{\"bgcolor\":\"white\",\"landcolor\":\"#E5ECF6\",\"subunitcolor\":\"white\",\"showland\":true,\"showlakes\":true,\"lakecolor\":\"white\"},\"title\":{\"x\":0.05},\"mapbox\":{\"style\":\"light\"}}},\"xaxis\":{\"anchor\":\"y\",\"domain\":[0.0,1.0],\"scaleanchor\":\"y\",\"constrain\":\"domain\"},\"yaxis\":{\"anchor\":\"x\",\"domain\":[0.0,1.0],\"autorange\":\"reversed\",\"constrain\":\"domain\"},\"coloraxis\":{\"colorbar\":{\"title\":{\"text\":\"Similarity Score\"}},\"colorscale\":[[0.0,\"rgb(247,252,240)\"],[0.125,\"rgb(224,243,219)\"],[0.25,\"rgb(204,235,197)\"],[0.375,\"rgb(168,221,181)\"],[0.5,\"rgb(123,204,196)\"],[0.625,\"rgb(78,179,211)\"],[0.75,\"rgb(43,140,190)\"],[0.875,\"rgb(8,104,172)\"],[1.0,\"rgb(8,64,129)\"]]},\"margin\":{\"t\":60},\"title\":{\"font\":{\"size\":22,\"color\":\"Black\"},\"text\":\"<b>Similarity Matrix</b>\",\"y\":0.95,\"x\":0.55,\"xanchor\":\"center\",\"yanchor\":\"top\"},\"hoverlabel\":{\"font\":{\"size\":16,\"family\":\"Rockwell\"},\"bgcolor\":\"white\"},\"width\":1000,\"height\":1000,\"showlegend\":true,\"legend\":{\"title\":{\"text\":\"Trend\"}}},                        {\"responsive\": true}                    ).then(function(){\n",
              "                            \n",
              "var gd = document.getElementById('a128a5a0-c2ba-49d0-a114-d03f1dd01958');\n",
              "var x = new MutationObserver(function (mutations, observer) {{\n",
              "        var display = window.getComputedStyle(gd).display;\n",
              "        if (!display || display === 'none') {{\n",
              "            console.log([gd, 'removed!']);\n",
              "            Plotly.purge(gd);\n",
              "            observer.disconnect();\n",
              "        }}\n",
              "}});\n",
              "\n",
              "// Listen for the removal of the full notebook cells\n",
              "var notebookContainer = gd.closest('#notebook-container');\n",
              "if (notebookContainer) {{\n",
              "    x.observe(notebookContainer, {childList: true});\n",
              "}}\n",
              "\n",
              "// Listen for the clearing of the current output cell\n",
              "var outputEl = gd.closest('.output');\n",
              "if (outputEl) {{\n",
              "    x.observe(outputEl, {childList: true});\n",
              "}}\n",
              "\n",
              "                        })                };                            </script>        </div>\n",
              "</body>\n",
              "</html>"
            ]
          },
          "metadata": {}
        }
      ]
    },
    {
      "cell_type": "markdown",
      "source": [
        "Looking at similarity matrix above, we can see that topic 29 and topic 2 have a high similarity score of 0.72, so let's looking at these topic:"
      ],
      "metadata": {
        "id": "oY33t7wy9A1h"
      }
    },
    {
      "cell_type": "code",
      "source": [
        "list(new_topic_model.representative_docs_.values())[30]"
      ],
      "metadata": {
        "colab": {
          "base_uri": "https://localhost:8080/"
        },
        "id": "BY3-_7tredsy",
        "outputId": "b4de1f91-87a3-43e6-f01e-e1098ac2f0e7"
      },
      "execution_count": null,
      "outputs": [
        {
          "output_type": "execute_result",
          "data": {
            "text/plain": [
              "['great comfy shoe daughter love lightweight shoe planning getting pair love great new color',\n",
              " 'daughter say walk look sexy sneaker comfortable bought daughter pair christmas',\n",
              " 'bought daughter black white slide birthday started looking color option one picked adorable complaint get pink dirty nt get clean however comfortable slide market daughter couple pair highly recommened style comfort']"
            ]
          },
          "metadata": {},
          "execution_count": 91
        }
      ]
    },
    {
      "cell_type": "code",
      "source": [
        "list(new_topic_model.representative_docs_.values())[3]"
      ],
      "metadata": {
        "colab": {
          "base_uri": "https://localhost:8080/"
        },
        "id": "VHVWH7GCiumA",
        "outputId": "912a053c-54bc-4c30-98e4-c63b505e3226"
      },
      "execution_count": null,
      "outputs": [
        {
          "output_type": "execute_result",
          "data": {
            "text/plain": [
              "['year old son love shoe fit perfectly say extremely comfortable highly recommend',\n",
              " 'bought year old son fit true size love say comfortable',\n",
              " 'bought shoe gray orange son active old boy already men size shoe free runs nt cheap birthday gift nt mind really wanted son say comfortable look nice reason star one week toe started wear gray toe tip wearing white one month toe entirely fell apart sports authority bought said son nt using right activity clearly look like dragged foot bike son nt riding bike wear school 34 time per max doe nt wear school soccer basketball practice wear shoe damage one month school wear doe nt recess time per would buy shoe child']"
            ]
          },
          "metadata": {},
          "execution_count": 94
        }
      ]
    },
    {
      "cell_type": "markdown",
      "source": [
        "We can see that topic 2 and 29 shows that consumers often buy Nike shoes as gifts, particularly for sons and daughters on Chirstmas or birthday. This understanding can guide us in selecting appropriate advertising media and timing our campaigns effectively."
      ],
      "metadata": {
        "id": "wLyu0BYC-xbO"
      }
    },
    {
      "cell_type": "code",
      "source": [
        "# Save model\n",
        "new_topic_model.save(\"my_model\")"
      ],
      "metadata": {
        "id": "4h3ubsA5zv7g"
      },
      "execution_count": null,
      "outputs": []
    },
    {
      "cell_type": "code",
      "source": [
        "# Load model\n",
        "my_model = BERTopic.load(\"my_model\")"
      ],
      "metadata": {
        "id": "rvRZMSw1zwB1"
      },
      "execution_count": null,
      "outputs": []
    },
    {
      "cell_type": "markdown",
      "source": [
        "# Conclusion"
      ],
      "metadata": {
        "id": "HMlGsa9ILRqP"
      }
    },
    {
      "cell_type": "markdown",
      "source": [
        "The analysis of Amazon reviews using topic modeling has provided valuable insights into customer preferences and sentiments, greatly enhancing our understanding of the market. By identifying the main topics discussed by customers, we have gained important knowledge about what they like, dislike, and what matters most to them. This information can be directly applied to improve products, develop effective marketing strategies, and enhance overall customer satisfaction. For instance, through topic modeling, we can infer:\n",
        "\n",
        "- Attributes that people like about our products\n",
        "For example, the word “comfortable” frequently appears across different types of shoes, indicating that comfort is a key attribute we can emphasize in our advertising campaigns. Additionally, when it comes to sneakers, it's clear that consumers often mention comfort as a key factor, especially for everyday use and walking. Therefore, we should highlight these attributes in our advertising campaigns for sneakers.\n",
        "\n",
        "- Purchase Occasions\n",
        "Topic 2 and 29 shows that consumers often buy Nike shoes as gifts, particularly for sons and daughters on Chirstmas or birthday. This understanding can guide us in selecting appropriate advertising media and timing our campaigns effectively.\n",
        "\n"
      ],
      "metadata": {
        "id": "I9yugS2LLULR"
      }
    },
    {
      "cell_type": "code",
      "source": [],
      "metadata": {
        "id": "UfodSJuTAuaG"
      },
      "execution_count": null,
      "outputs": []
    }
  ],
  "metadata": {
    "colab": {
      "toc_visible": true,
      "provenance": []
    },
    "kernelspec": {
      "display_name": "Python 3",
      "name": "python3"
    },
    "language_info": {
      "name": "python"
    },
    "widgets": {
      "application/vnd.jupyter.widget-state+json": {
        "b4ed37368e8e4c02b244277188329731": {
          "model_module": "@jupyter-widgets/controls",
          "model_name": "HBoxModel",
          "model_module_version": "1.5.0",
          "state": {
            "_dom_classes": [],
            "_model_module": "@jupyter-widgets/controls",
            "_model_module_version": "1.5.0",
            "_model_name": "HBoxModel",
            "_view_count": null,
            "_view_module": "@jupyter-widgets/controls",
            "_view_module_version": "1.5.0",
            "_view_name": "HBoxView",
            "box_style": "",
            "children": [
              "IPY_MODEL_9128f2c5033847708a40aae98c6a3fae",
              "IPY_MODEL_327a148a5953401b9dc066f13afb2b7b",
              "IPY_MODEL_b0ad2aa0d7174ceb884b2f9491393a19"
            ],
            "layout": "IPY_MODEL_3ff27d24d1b74be28ce577b8296d3533"
          }
        },
        "9128f2c5033847708a40aae98c6a3fae": {
          "model_module": "@jupyter-widgets/controls",
          "model_name": "HTMLModel",
          "model_module_version": "1.5.0",
          "state": {
            "_dom_classes": [],
            "_model_module": "@jupyter-widgets/controls",
            "_model_module_version": "1.5.0",
            "_model_name": "HTMLModel",
            "_view_count": null,
            "_view_module": "@jupyter-widgets/controls",
            "_view_module_version": "1.5.0",
            "_view_name": "HTMLView",
            "description": "",
            "description_tooltip": null,
            "layout": "IPY_MODEL_796a4950abfd4b7c8998b4579250e31d",
            "placeholder": "​",
            "style": "IPY_MODEL_4fc86fb10ba649b68dfae7a71dcf1d6b",
            "value": "Downloading (…)e9125/.gitattributes: "
          }
        },
        "327a148a5953401b9dc066f13afb2b7b": {
          "model_module": "@jupyter-widgets/controls",
          "model_name": "FloatProgressModel",
          "model_module_version": "1.5.0",
          "state": {
            "_dom_classes": [],
            "_model_module": "@jupyter-widgets/controls",
            "_model_module_version": "1.5.0",
            "_model_name": "FloatProgressModel",
            "_view_count": null,
            "_view_module": "@jupyter-widgets/controls",
            "_view_module_version": "1.5.0",
            "_view_name": "ProgressView",
            "bar_style": "success",
            "description": "",
            "description_tooltip": null,
            "layout": "IPY_MODEL_fa85c36455c64ee6874c6eb8e3b1e4a6",
            "max": 1,
            "min": 0,
            "orientation": "horizontal",
            "style": "IPY_MODEL_ac8fb545d142410090ab4032ab694e45",
            "value": 1
          }
        },
        "b0ad2aa0d7174ceb884b2f9491393a19": {
          "model_module": "@jupyter-widgets/controls",
          "model_name": "HTMLModel",
          "model_module_version": "1.5.0",
          "state": {
            "_dom_classes": [],
            "_model_module": "@jupyter-widgets/controls",
            "_model_module_version": "1.5.0",
            "_model_name": "HTMLModel",
            "_view_count": null,
            "_view_module": "@jupyter-widgets/controls",
            "_view_module_version": "1.5.0",
            "_view_name": "HTMLView",
            "description": "",
            "description_tooltip": null,
            "layout": "IPY_MODEL_90f77592e67c4a80bf8f823c1b547e8f",
            "placeholder": "​",
            "style": "IPY_MODEL_2c2af3d8a19c4466bba88572478d436d",
            "value": " 1.18k/? [00:00&lt;00:00, 62.6kB/s]"
          }
        },
        "3ff27d24d1b74be28ce577b8296d3533": {
          "model_module": "@jupyter-widgets/base",
          "model_name": "LayoutModel",
          "model_module_version": "1.2.0",
          "state": {
            "_model_module": "@jupyter-widgets/base",
            "_model_module_version": "1.2.0",
            "_model_name": "LayoutModel",
            "_view_count": null,
            "_view_module": "@jupyter-widgets/base",
            "_view_module_version": "1.2.0",
            "_view_name": "LayoutView",
            "align_content": null,
            "align_items": null,
            "align_self": null,
            "border": null,
            "bottom": null,
            "display": null,
            "flex": null,
            "flex_flow": null,
            "grid_area": null,
            "grid_auto_columns": null,
            "grid_auto_flow": null,
            "grid_auto_rows": null,
            "grid_column": null,
            "grid_gap": null,
            "grid_row": null,
            "grid_template_areas": null,
            "grid_template_columns": null,
            "grid_template_rows": null,
            "height": null,
            "justify_content": null,
            "justify_items": null,
            "left": null,
            "margin": null,
            "max_height": null,
            "max_width": null,
            "min_height": null,
            "min_width": null,
            "object_fit": null,
            "object_position": null,
            "order": null,
            "overflow": null,
            "overflow_x": null,
            "overflow_y": null,
            "padding": null,
            "right": null,
            "top": null,
            "visibility": null,
            "width": null
          }
        },
        "796a4950abfd4b7c8998b4579250e31d": {
          "model_module": "@jupyter-widgets/base",
          "model_name": "LayoutModel",
          "model_module_version": "1.2.0",
          "state": {
            "_model_module": "@jupyter-widgets/base",
            "_model_module_version": "1.2.0",
            "_model_name": "LayoutModel",
            "_view_count": null,
            "_view_module": "@jupyter-widgets/base",
            "_view_module_version": "1.2.0",
            "_view_name": "LayoutView",
            "align_content": null,
            "align_items": null,
            "align_self": null,
            "border": null,
            "bottom": null,
            "display": null,
            "flex": null,
            "flex_flow": null,
            "grid_area": null,
            "grid_auto_columns": null,
            "grid_auto_flow": null,
            "grid_auto_rows": null,
            "grid_column": null,
            "grid_gap": null,
            "grid_row": null,
            "grid_template_areas": null,
            "grid_template_columns": null,
            "grid_template_rows": null,
            "height": null,
            "justify_content": null,
            "justify_items": null,
            "left": null,
            "margin": null,
            "max_height": null,
            "max_width": null,
            "min_height": null,
            "min_width": null,
            "object_fit": null,
            "object_position": null,
            "order": null,
            "overflow": null,
            "overflow_x": null,
            "overflow_y": null,
            "padding": null,
            "right": null,
            "top": null,
            "visibility": null,
            "width": null
          }
        },
        "4fc86fb10ba649b68dfae7a71dcf1d6b": {
          "model_module": "@jupyter-widgets/controls",
          "model_name": "DescriptionStyleModel",
          "model_module_version": "1.5.0",
          "state": {
            "_model_module": "@jupyter-widgets/controls",
            "_model_module_version": "1.5.0",
            "_model_name": "DescriptionStyleModel",
            "_view_count": null,
            "_view_module": "@jupyter-widgets/base",
            "_view_module_version": "1.2.0",
            "_view_name": "StyleView",
            "description_width": ""
          }
        },
        "fa85c36455c64ee6874c6eb8e3b1e4a6": {
          "model_module": "@jupyter-widgets/base",
          "model_name": "LayoutModel",
          "model_module_version": "1.2.0",
          "state": {
            "_model_module": "@jupyter-widgets/base",
            "_model_module_version": "1.2.0",
            "_model_name": "LayoutModel",
            "_view_count": null,
            "_view_module": "@jupyter-widgets/base",
            "_view_module_version": "1.2.0",
            "_view_name": "LayoutView",
            "align_content": null,
            "align_items": null,
            "align_self": null,
            "border": null,
            "bottom": null,
            "display": null,
            "flex": null,
            "flex_flow": null,
            "grid_area": null,
            "grid_auto_columns": null,
            "grid_auto_flow": null,
            "grid_auto_rows": null,
            "grid_column": null,
            "grid_gap": null,
            "grid_row": null,
            "grid_template_areas": null,
            "grid_template_columns": null,
            "grid_template_rows": null,
            "height": null,
            "justify_content": null,
            "justify_items": null,
            "left": null,
            "margin": null,
            "max_height": null,
            "max_width": null,
            "min_height": null,
            "min_width": null,
            "object_fit": null,
            "object_position": null,
            "order": null,
            "overflow": null,
            "overflow_x": null,
            "overflow_y": null,
            "padding": null,
            "right": null,
            "top": null,
            "visibility": null,
            "width": "20px"
          }
        },
        "ac8fb545d142410090ab4032ab694e45": {
          "model_module": "@jupyter-widgets/controls",
          "model_name": "ProgressStyleModel",
          "model_module_version": "1.5.0",
          "state": {
            "_model_module": "@jupyter-widgets/controls",
            "_model_module_version": "1.5.0",
            "_model_name": "ProgressStyleModel",
            "_view_count": null,
            "_view_module": "@jupyter-widgets/base",
            "_view_module_version": "1.2.0",
            "_view_name": "StyleView",
            "bar_color": null,
            "description_width": ""
          }
        },
        "90f77592e67c4a80bf8f823c1b547e8f": {
          "model_module": "@jupyter-widgets/base",
          "model_name": "LayoutModel",
          "model_module_version": "1.2.0",
          "state": {
            "_model_module": "@jupyter-widgets/base",
            "_model_module_version": "1.2.0",
            "_model_name": "LayoutModel",
            "_view_count": null,
            "_view_module": "@jupyter-widgets/base",
            "_view_module_version": "1.2.0",
            "_view_name": "LayoutView",
            "align_content": null,
            "align_items": null,
            "align_self": null,
            "border": null,
            "bottom": null,
            "display": null,
            "flex": null,
            "flex_flow": null,
            "grid_area": null,
            "grid_auto_columns": null,
            "grid_auto_flow": null,
            "grid_auto_rows": null,
            "grid_column": null,
            "grid_gap": null,
            "grid_row": null,
            "grid_template_areas": null,
            "grid_template_columns": null,
            "grid_template_rows": null,
            "height": null,
            "justify_content": null,
            "justify_items": null,
            "left": null,
            "margin": null,
            "max_height": null,
            "max_width": null,
            "min_height": null,
            "min_width": null,
            "object_fit": null,
            "object_position": null,
            "order": null,
            "overflow": null,
            "overflow_x": null,
            "overflow_y": null,
            "padding": null,
            "right": null,
            "top": null,
            "visibility": null,
            "width": null
          }
        },
        "2c2af3d8a19c4466bba88572478d436d": {
          "model_module": "@jupyter-widgets/controls",
          "model_name": "DescriptionStyleModel",
          "model_module_version": "1.5.0",
          "state": {
            "_model_module": "@jupyter-widgets/controls",
            "_model_module_version": "1.5.0",
            "_model_name": "DescriptionStyleModel",
            "_view_count": null,
            "_view_module": "@jupyter-widgets/base",
            "_view_module_version": "1.2.0",
            "_view_name": "StyleView",
            "description_width": ""
          }
        },
        "18ea7970c54543f2b44c0d21c55bd80b": {
          "model_module": "@jupyter-widgets/controls",
          "model_name": "HBoxModel",
          "model_module_version": "1.5.0",
          "state": {
            "_dom_classes": [],
            "_model_module": "@jupyter-widgets/controls",
            "_model_module_version": "1.5.0",
            "_model_name": "HBoxModel",
            "_view_count": null,
            "_view_module": "@jupyter-widgets/controls",
            "_view_module_version": "1.5.0",
            "_view_name": "HBoxView",
            "box_style": "",
            "children": [
              "IPY_MODEL_a8bf6940d00e432a94e27b3b6f08ae7c",
              "IPY_MODEL_88d3274b6bd24390ba280569a26c75a1",
              "IPY_MODEL_d6b82b400cc34f938f576b416e0a88fe"
            ],
            "layout": "IPY_MODEL_4b700e22a2cc4db7bddcdf059eecb2b4"
          }
        },
        "a8bf6940d00e432a94e27b3b6f08ae7c": {
          "model_module": "@jupyter-widgets/controls",
          "model_name": "HTMLModel",
          "model_module_version": "1.5.0",
          "state": {
            "_dom_classes": [],
            "_model_module": "@jupyter-widgets/controls",
            "_model_module_version": "1.5.0",
            "_model_name": "HTMLModel",
            "_view_count": null,
            "_view_module": "@jupyter-widgets/controls",
            "_view_module_version": "1.5.0",
            "_view_name": "HTMLView",
            "description": "",
            "description_tooltip": null,
            "layout": "IPY_MODEL_efce0d08b2594f10b23d46029a4e3742",
            "placeholder": "​",
            "style": "IPY_MODEL_72db3db6ecd44620b28f63a25269d0e2",
            "value": "Downloading (…)_Pooling/config.json: 100%"
          }
        },
        "88d3274b6bd24390ba280569a26c75a1": {
          "model_module": "@jupyter-widgets/controls",
          "model_name": "FloatProgressModel",
          "model_module_version": "1.5.0",
          "state": {
            "_dom_classes": [],
            "_model_module": "@jupyter-widgets/controls",
            "_model_module_version": "1.5.0",
            "_model_name": "FloatProgressModel",
            "_view_count": null,
            "_view_module": "@jupyter-widgets/controls",
            "_view_module_version": "1.5.0",
            "_view_name": "ProgressView",
            "bar_style": "success",
            "description": "",
            "description_tooltip": null,
            "layout": "IPY_MODEL_3bcbf0c71ed34ccfb5614e510176c830",
            "max": 190,
            "min": 0,
            "orientation": "horizontal",
            "style": "IPY_MODEL_3a2c4edf5f884754b844f67535eb55ea",
            "value": 190
          }
        },
        "d6b82b400cc34f938f576b416e0a88fe": {
          "model_module": "@jupyter-widgets/controls",
          "model_name": "HTMLModel",
          "model_module_version": "1.5.0",
          "state": {
            "_dom_classes": [],
            "_model_module": "@jupyter-widgets/controls",
            "_model_module_version": "1.5.0",
            "_model_name": "HTMLModel",
            "_view_count": null,
            "_view_module": "@jupyter-widgets/controls",
            "_view_module_version": "1.5.0",
            "_view_name": "HTMLView",
            "description": "",
            "description_tooltip": null,
            "layout": "IPY_MODEL_9f88609bb1334d708c50981433864135",
            "placeholder": "​",
            "style": "IPY_MODEL_3f1b34d3e7ba46d38ca28cb180a0dcc3",
            "value": " 190/190 [00:00&lt;00:00, 8.35kB/s]"
          }
        },
        "4b700e22a2cc4db7bddcdf059eecb2b4": {
          "model_module": "@jupyter-widgets/base",
          "model_name": "LayoutModel",
          "model_module_version": "1.2.0",
          "state": {
            "_model_module": "@jupyter-widgets/base",
            "_model_module_version": "1.2.0",
            "_model_name": "LayoutModel",
            "_view_count": null,
            "_view_module": "@jupyter-widgets/base",
            "_view_module_version": "1.2.0",
            "_view_name": "LayoutView",
            "align_content": null,
            "align_items": null,
            "align_self": null,
            "border": null,
            "bottom": null,
            "display": null,
            "flex": null,
            "flex_flow": null,
            "grid_area": null,
            "grid_auto_columns": null,
            "grid_auto_flow": null,
            "grid_auto_rows": null,
            "grid_column": null,
            "grid_gap": null,
            "grid_row": null,
            "grid_template_areas": null,
            "grid_template_columns": null,
            "grid_template_rows": null,
            "height": null,
            "justify_content": null,
            "justify_items": null,
            "left": null,
            "margin": null,
            "max_height": null,
            "max_width": null,
            "min_height": null,
            "min_width": null,
            "object_fit": null,
            "object_position": null,
            "order": null,
            "overflow": null,
            "overflow_x": null,
            "overflow_y": null,
            "padding": null,
            "right": null,
            "top": null,
            "visibility": null,
            "width": null
          }
        },
        "efce0d08b2594f10b23d46029a4e3742": {
          "model_module": "@jupyter-widgets/base",
          "model_name": "LayoutModel",
          "model_module_version": "1.2.0",
          "state": {
            "_model_module": "@jupyter-widgets/base",
            "_model_module_version": "1.2.0",
            "_model_name": "LayoutModel",
            "_view_count": null,
            "_view_module": "@jupyter-widgets/base",
            "_view_module_version": "1.2.0",
            "_view_name": "LayoutView",
            "align_content": null,
            "align_items": null,
            "align_self": null,
            "border": null,
            "bottom": null,
            "display": null,
            "flex": null,
            "flex_flow": null,
            "grid_area": null,
            "grid_auto_columns": null,
            "grid_auto_flow": null,
            "grid_auto_rows": null,
            "grid_column": null,
            "grid_gap": null,
            "grid_row": null,
            "grid_template_areas": null,
            "grid_template_columns": null,
            "grid_template_rows": null,
            "height": null,
            "justify_content": null,
            "justify_items": null,
            "left": null,
            "margin": null,
            "max_height": null,
            "max_width": null,
            "min_height": null,
            "min_width": null,
            "object_fit": null,
            "object_position": null,
            "order": null,
            "overflow": null,
            "overflow_x": null,
            "overflow_y": null,
            "padding": null,
            "right": null,
            "top": null,
            "visibility": null,
            "width": null
          }
        },
        "72db3db6ecd44620b28f63a25269d0e2": {
          "model_module": "@jupyter-widgets/controls",
          "model_name": "DescriptionStyleModel",
          "model_module_version": "1.5.0",
          "state": {
            "_model_module": "@jupyter-widgets/controls",
            "_model_module_version": "1.5.0",
            "_model_name": "DescriptionStyleModel",
            "_view_count": null,
            "_view_module": "@jupyter-widgets/base",
            "_view_module_version": "1.2.0",
            "_view_name": "StyleView",
            "description_width": ""
          }
        },
        "3bcbf0c71ed34ccfb5614e510176c830": {
          "model_module": "@jupyter-widgets/base",
          "model_name": "LayoutModel",
          "model_module_version": "1.2.0",
          "state": {
            "_model_module": "@jupyter-widgets/base",
            "_model_module_version": "1.2.0",
            "_model_name": "LayoutModel",
            "_view_count": null,
            "_view_module": "@jupyter-widgets/base",
            "_view_module_version": "1.2.0",
            "_view_name": "LayoutView",
            "align_content": null,
            "align_items": null,
            "align_self": null,
            "border": null,
            "bottom": null,
            "display": null,
            "flex": null,
            "flex_flow": null,
            "grid_area": null,
            "grid_auto_columns": null,
            "grid_auto_flow": null,
            "grid_auto_rows": null,
            "grid_column": null,
            "grid_gap": null,
            "grid_row": null,
            "grid_template_areas": null,
            "grid_template_columns": null,
            "grid_template_rows": null,
            "height": null,
            "justify_content": null,
            "justify_items": null,
            "left": null,
            "margin": null,
            "max_height": null,
            "max_width": null,
            "min_height": null,
            "min_width": null,
            "object_fit": null,
            "object_position": null,
            "order": null,
            "overflow": null,
            "overflow_x": null,
            "overflow_y": null,
            "padding": null,
            "right": null,
            "top": null,
            "visibility": null,
            "width": null
          }
        },
        "3a2c4edf5f884754b844f67535eb55ea": {
          "model_module": "@jupyter-widgets/controls",
          "model_name": "ProgressStyleModel",
          "model_module_version": "1.5.0",
          "state": {
            "_model_module": "@jupyter-widgets/controls",
            "_model_module_version": "1.5.0",
            "_model_name": "ProgressStyleModel",
            "_view_count": null,
            "_view_module": "@jupyter-widgets/base",
            "_view_module_version": "1.2.0",
            "_view_name": "StyleView",
            "bar_color": null,
            "description_width": ""
          }
        },
        "9f88609bb1334d708c50981433864135": {
          "model_module": "@jupyter-widgets/base",
          "model_name": "LayoutModel",
          "model_module_version": "1.2.0",
          "state": {
            "_model_module": "@jupyter-widgets/base",
            "_model_module_version": "1.2.0",
            "_model_name": "LayoutModel",
            "_view_count": null,
            "_view_module": "@jupyter-widgets/base",
            "_view_module_version": "1.2.0",
            "_view_name": "LayoutView",
            "align_content": null,
            "align_items": null,
            "align_self": null,
            "border": null,
            "bottom": null,
            "display": null,
            "flex": null,
            "flex_flow": null,
            "grid_area": null,
            "grid_auto_columns": null,
            "grid_auto_flow": null,
            "grid_auto_rows": null,
            "grid_column": null,
            "grid_gap": null,
            "grid_row": null,
            "grid_template_areas": null,
            "grid_template_columns": null,
            "grid_template_rows": null,
            "height": null,
            "justify_content": null,
            "justify_items": null,
            "left": null,
            "margin": null,
            "max_height": null,
            "max_width": null,
            "min_height": null,
            "min_width": null,
            "object_fit": null,
            "object_position": null,
            "order": null,
            "overflow": null,
            "overflow_x": null,
            "overflow_y": null,
            "padding": null,
            "right": null,
            "top": null,
            "visibility": null,
            "width": null
          }
        },
        "3f1b34d3e7ba46d38ca28cb180a0dcc3": {
          "model_module": "@jupyter-widgets/controls",
          "model_name": "DescriptionStyleModel",
          "model_module_version": "1.5.0",
          "state": {
            "_model_module": "@jupyter-widgets/controls",
            "_model_module_version": "1.5.0",
            "_model_name": "DescriptionStyleModel",
            "_view_count": null,
            "_view_module": "@jupyter-widgets/base",
            "_view_module_version": "1.2.0",
            "_view_name": "StyleView",
            "description_width": ""
          }
        },
        "0a566a0435e24106b7a8316728707322": {
          "model_module": "@jupyter-widgets/controls",
          "model_name": "HBoxModel",
          "model_module_version": "1.5.0",
          "state": {
            "_dom_classes": [],
            "_model_module": "@jupyter-widgets/controls",
            "_model_module_version": "1.5.0",
            "_model_name": "HBoxModel",
            "_view_count": null,
            "_view_module": "@jupyter-widgets/controls",
            "_view_module_version": "1.5.0",
            "_view_name": "HBoxView",
            "box_style": "",
            "children": [
              "IPY_MODEL_539d166f7fd84146bfed211225f44495",
              "IPY_MODEL_74911a18231d41cb997258ded99cfd5f",
              "IPY_MODEL_33ffebcdcc3d4f1f98da4d0b7b37ef5a"
            ],
            "layout": "IPY_MODEL_77c7bd8a9af2471f8f47d91e982698f4"
          }
        },
        "539d166f7fd84146bfed211225f44495": {
          "model_module": "@jupyter-widgets/controls",
          "model_name": "HTMLModel",
          "model_module_version": "1.5.0",
          "state": {
            "_dom_classes": [],
            "_model_module": "@jupyter-widgets/controls",
            "_model_module_version": "1.5.0",
            "_model_name": "HTMLModel",
            "_view_count": null,
            "_view_module": "@jupyter-widgets/controls",
            "_view_module_version": "1.5.0",
            "_view_name": "HTMLView",
            "description": "",
            "description_tooltip": null,
            "layout": "IPY_MODEL_cd4b09ec47e84516ad77340b3f0c1666",
            "placeholder": "​",
            "style": "IPY_MODEL_942970af2a764754accb2b1587b9b352",
            "value": "Downloading (…)7e55de9125/README.md: "
          }
        },
        "74911a18231d41cb997258ded99cfd5f": {
          "model_module": "@jupyter-widgets/controls",
          "model_name": "FloatProgressModel",
          "model_module_version": "1.5.0",
          "state": {
            "_dom_classes": [],
            "_model_module": "@jupyter-widgets/controls",
            "_model_module_version": "1.5.0",
            "_model_name": "FloatProgressModel",
            "_view_count": null,
            "_view_module": "@jupyter-widgets/controls",
            "_view_module_version": "1.5.0",
            "_view_name": "ProgressView",
            "bar_style": "success",
            "description": "",
            "description_tooltip": null,
            "layout": "IPY_MODEL_2cef4bf272c142c6b00ddc2c7b3de89a",
            "max": 1,
            "min": 0,
            "orientation": "horizontal",
            "style": "IPY_MODEL_c271a98ffa9a4ba4969f02d384095375",
            "value": 1
          }
        },
        "33ffebcdcc3d4f1f98da4d0b7b37ef5a": {
          "model_module": "@jupyter-widgets/controls",
          "model_name": "HTMLModel",
          "model_module_version": "1.5.0",
          "state": {
            "_dom_classes": [],
            "_model_module": "@jupyter-widgets/controls",
            "_model_module_version": "1.5.0",
            "_model_name": "HTMLModel",
            "_view_count": null,
            "_view_module": "@jupyter-widgets/controls",
            "_view_module_version": "1.5.0",
            "_view_name": "HTMLView",
            "description": "",
            "description_tooltip": null,
            "layout": "IPY_MODEL_f4a6a897b9c44f3aa2620fd98d2b5527",
            "placeholder": "​",
            "style": "IPY_MODEL_10285f9bd67c4099848c2d418c9c469a",
            "value": " 10.6k/? [00:00&lt;00:00, 572kB/s]"
          }
        },
        "77c7bd8a9af2471f8f47d91e982698f4": {
          "model_module": "@jupyter-widgets/base",
          "model_name": "LayoutModel",
          "model_module_version": "1.2.0",
          "state": {
            "_model_module": "@jupyter-widgets/base",
            "_model_module_version": "1.2.0",
            "_model_name": "LayoutModel",
            "_view_count": null,
            "_view_module": "@jupyter-widgets/base",
            "_view_module_version": "1.2.0",
            "_view_name": "LayoutView",
            "align_content": null,
            "align_items": null,
            "align_self": null,
            "border": null,
            "bottom": null,
            "display": null,
            "flex": null,
            "flex_flow": null,
            "grid_area": null,
            "grid_auto_columns": null,
            "grid_auto_flow": null,
            "grid_auto_rows": null,
            "grid_column": null,
            "grid_gap": null,
            "grid_row": null,
            "grid_template_areas": null,
            "grid_template_columns": null,
            "grid_template_rows": null,
            "height": null,
            "justify_content": null,
            "justify_items": null,
            "left": null,
            "margin": null,
            "max_height": null,
            "max_width": null,
            "min_height": null,
            "min_width": null,
            "object_fit": null,
            "object_position": null,
            "order": null,
            "overflow": null,
            "overflow_x": null,
            "overflow_y": null,
            "padding": null,
            "right": null,
            "top": null,
            "visibility": null,
            "width": null
          }
        },
        "cd4b09ec47e84516ad77340b3f0c1666": {
          "model_module": "@jupyter-widgets/base",
          "model_name": "LayoutModel",
          "model_module_version": "1.2.0",
          "state": {
            "_model_module": "@jupyter-widgets/base",
            "_model_module_version": "1.2.0",
            "_model_name": "LayoutModel",
            "_view_count": null,
            "_view_module": "@jupyter-widgets/base",
            "_view_module_version": "1.2.0",
            "_view_name": "LayoutView",
            "align_content": null,
            "align_items": null,
            "align_self": null,
            "border": null,
            "bottom": null,
            "display": null,
            "flex": null,
            "flex_flow": null,
            "grid_area": null,
            "grid_auto_columns": null,
            "grid_auto_flow": null,
            "grid_auto_rows": null,
            "grid_column": null,
            "grid_gap": null,
            "grid_row": null,
            "grid_template_areas": null,
            "grid_template_columns": null,
            "grid_template_rows": null,
            "height": null,
            "justify_content": null,
            "justify_items": null,
            "left": null,
            "margin": null,
            "max_height": null,
            "max_width": null,
            "min_height": null,
            "min_width": null,
            "object_fit": null,
            "object_position": null,
            "order": null,
            "overflow": null,
            "overflow_x": null,
            "overflow_y": null,
            "padding": null,
            "right": null,
            "top": null,
            "visibility": null,
            "width": null
          }
        },
        "942970af2a764754accb2b1587b9b352": {
          "model_module": "@jupyter-widgets/controls",
          "model_name": "DescriptionStyleModel",
          "model_module_version": "1.5.0",
          "state": {
            "_model_module": "@jupyter-widgets/controls",
            "_model_module_version": "1.5.0",
            "_model_name": "DescriptionStyleModel",
            "_view_count": null,
            "_view_module": "@jupyter-widgets/base",
            "_view_module_version": "1.2.0",
            "_view_name": "StyleView",
            "description_width": ""
          }
        },
        "2cef4bf272c142c6b00ddc2c7b3de89a": {
          "model_module": "@jupyter-widgets/base",
          "model_name": "LayoutModel",
          "model_module_version": "1.2.0",
          "state": {
            "_model_module": "@jupyter-widgets/base",
            "_model_module_version": "1.2.0",
            "_model_name": "LayoutModel",
            "_view_count": null,
            "_view_module": "@jupyter-widgets/base",
            "_view_module_version": "1.2.0",
            "_view_name": "LayoutView",
            "align_content": null,
            "align_items": null,
            "align_self": null,
            "border": null,
            "bottom": null,
            "display": null,
            "flex": null,
            "flex_flow": null,
            "grid_area": null,
            "grid_auto_columns": null,
            "grid_auto_flow": null,
            "grid_auto_rows": null,
            "grid_column": null,
            "grid_gap": null,
            "grid_row": null,
            "grid_template_areas": null,
            "grid_template_columns": null,
            "grid_template_rows": null,
            "height": null,
            "justify_content": null,
            "justify_items": null,
            "left": null,
            "margin": null,
            "max_height": null,
            "max_width": null,
            "min_height": null,
            "min_width": null,
            "object_fit": null,
            "object_position": null,
            "order": null,
            "overflow": null,
            "overflow_x": null,
            "overflow_y": null,
            "padding": null,
            "right": null,
            "top": null,
            "visibility": null,
            "width": "20px"
          }
        },
        "c271a98ffa9a4ba4969f02d384095375": {
          "model_module": "@jupyter-widgets/controls",
          "model_name": "ProgressStyleModel",
          "model_module_version": "1.5.0",
          "state": {
            "_model_module": "@jupyter-widgets/controls",
            "_model_module_version": "1.5.0",
            "_model_name": "ProgressStyleModel",
            "_view_count": null,
            "_view_module": "@jupyter-widgets/base",
            "_view_module_version": "1.2.0",
            "_view_name": "StyleView",
            "bar_color": null,
            "description_width": ""
          }
        },
        "f4a6a897b9c44f3aa2620fd98d2b5527": {
          "model_module": "@jupyter-widgets/base",
          "model_name": "LayoutModel",
          "model_module_version": "1.2.0",
          "state": {
            "_model_module": "@jupyter-widgets/base",
            "_model_module_version": "1.2.0",
            "_model_name": "LayoutModel",
            "_view_count": null,
            "_view_module": "@jupyter-widgets/base",
            "_view_module_version": "1.2.0",
            "_view_name": "LayoutView",
            "align_content": null,
            "align_items": null,
            "align_self": null,
            "border": null,
            "bottom": null,
            "display": null,
            "flex": null,
            "flex_flow": null,
            "grid_area": null,
            "grid_auto_columns": null,
            "grid_auto_flow": null,
            "grid_auto_rows": null,
            "grid_column": null,
            "grid_gap": null,
            "grid_row": null,
            "grid_template_areas": null,
            "grid_template_columns": null,
            "grid_template_rows": null,
            "height": null,
            "justify_content": null,
            "justify_items": null,
            "left": null,
            "margin": null,
            "max_height": null,
            "max_width": null,
            "min_height": null,
            "min_width": null,
            "object_fit": null,
            "object_position": null,
            "order": null,
            "overflow": null,
            "overflow_x": null,
            "overflow_y": null,
            "padding": null,
            "right": null,
            "top": null,
            "visibility": null,
            "width": null
          }
        },
        "10285f9bd67c4099848c2d418c9c469a": {
          "model_module": "@jupyter-widgets/controls",
          "model_name": "DescriptionStyleModel",
          "model_module_version": "1.5.0",
          "state": {
            "_model_module": "@jupyter-widgets/controls",
            "_model_module_version": "1.5.0",
            "_model_name": "DescriptionStyleModel",
            "_view_count": null,
            "_view_module": "@jupyter-widgets/base",
            "_view_module_version": "1.2.0",
            "_view_name": "StyleView",
            "description_width": ""
          }
        },
        "9c8e5fe5d1dd46c9bf3402d0fa605fa5": {
          "model_module": "@jupyter-widgets/controls",
          "model_name": "HBoxModel",
          "model_module_version": "1.5.0",
          "state": {
            "_dom_classes": [],
            "_model_module": "@jupyter-widgets/controls",
            "_model_module_version": "1.5.0",
            "_model_name": "HBoxModel",
            "_view_count": null,
            "_view_module": "@jupyter-widgets/controls",
            "_view_module_version": "1.5.0",
            "_view_name": "HBoxView",
            "box_style": "",
            "children": [
              "IPY_MODEL_060b9fe6678a48299b382e2e78344c06",
              "IPY_MODEL_60a4fde4878b4ab681913dd31c8f3da2",
              "IPY_MODEL_b9b547b5b2eb4218a6a091aa2bb73651"
            ],
            "layout": "IPY_MODEL_971ac5e7397945fd9bfb41c42133642c"
          }
        },
        "060b9fe6678a48299b382e2e78344c06": {
          "model_module": "@jupyter-widgets/controls",
          "model_name": "HTMLModel",
          "model_module_version": "1.5.0",
          "state": {
            "_dom_classes": [],
            "_model_module": "@jupyter-widgets/controls",
            "_model_module_version": "1.5.0",
            "_model_name": "HTMLModel",
            "_view_count": null,
            "_view_module": "@jupyter-widgets/controls",
            "_view_module_version": "1.5.0",
            "_view_name": "HTMLView",
            "description": "",
            "description_tooltip": null,
            "layout": "IPY_MODEL_ae9c88e8206748ac9abcbd16ecf8832e",
            "placeholder": "​",
            "style": "IPY_MODEL_a94cd3554bf24a5e81f941a38591049e",
            "value": "Downloading (…)55de9125/config.json: 100%"
          }
        },
        "60a4fde4878b4ab681913dd31c8f3da2": {
          "model_module": "@jupyter-widgets/controls",
          "model_name": "FloatProgressModel",
          "model_module_version": "1.5.0",
          "state": {
            "_dom_classes": [],
            "_model_module": "@jupyter-widgets/controls",
            "_model_module_version": "1.5.0",
            "_model_name": "FloatProgressModel",
            "_view_count": null,
            "_view_module": "@jupyter-widgets/controls",
            "_view_module_version": "1.5.0",
            "_view_name": "ProgressView",
            "bar_style": "success",
            "description": "",
            "description_tooltip": null,
            "layout": "IPY_MODEL_61395781f66c49aaab8e5dfced4cc8dd",
            "max": 612,
            "min": 0,
            "orientation": "horizontal",
            "style": "IPY_MODEL_e3f13822427e4529892f437b873fe489",
            "value": 612
          }
        },
        "b9b547b5b2eb4218a6a091aa2bb73651": {
          "model_module": "@jupyter-widgets/controls",
          "model_name": "HTMLModel",
          "model_module_version": "1.5.0",
          "state": {
            "_dom_classes": [],
            "_model_module": "@jupyter-widgets/controls",
            "_model_module_version": "1.5.0",
            "_model_name": "HTMLModel",
            "_view_count": null,
            "_view_module": "@jupyter-widgets/controls",
            "_view_module_version": "1.5.0",
            "_view_name": "HTMLView",
            "description": "",
            "description_tooltip": null,
            "layout": "IPY_MODEL_019995bb77954d86bc75270464927723",
            "placeholder": "​",
            "style": "IPY_MODEL_38c5c884dbf54632806648a6fe0c3654",
            "value": " 612/612 [00:00&lt;00:00, 30.3kB/s]"
          }
        },
        "971ac5e7397945fd9bfb41c42133642c": {
          "model_module": "@jupyter-widgets/base",
          "model_name": "LayoutModel",
          "model_module_version": "1.2.0",
          "state": {
            "_model_module": "@jupyter-widgets/base",
            "_model_module_version": "1.2.0",
            "_model_name": "LayoutModel",
            "_view_count": null,
            "_view_module": "@jupyter-widgets/base",
            "_view_module_version": "1.2.0",
            "_view_name": "LayoutView",
            "align_content": null,
            "align_items": null,
            "align_self": null,
            "border": null,
            "bottom": null,
            "display": null,
            "flex": null,
            "flex_flow": null,
            "grid_area": null,
            "grid_auto_columns": null,
            "grid_auto_flow": null,
            "grid_auto_rows": null,
            "grid_column": null,
            "grid_gap": null,
            "grid_row": null,
            "grid_template_areas": null,
            "grid_template_columns": null,
            "grid_template_rows": null,
            "height": null,
            "justify_content": null,
            "justify_items": null,
            "left": null,
            "margin": null,
            "max_height": null,
            "max_width": null,
            "min_height": null,
            "min_width": null,
            "object_fit": null,
            "object_position": null,
            "order": null,
            "overflow": null,
            "overflow_x": null,
            "overflow_y": null,
            "padding": null,
            "right": null,
            "top": null,
            "visibility": null,
            "width": null
          }
        },
        "ae9c88e8206748ac9abcbd16ecf8832e": {
          "model_module": "@jupyter-widgets/base",
          "model_name": "LayoutModel",
          "model_module_version": "1.2.0",
          "state": {
            "_model_module": "@jupyter-widgets/base",
            "_model_module_version": "1.2.0",
            "_model_name": "LayoutModel",
            "_view_count": null,
            "_view_module": "@jupyter-widgets/base",
            "_view_module_version": "1.2.0",
            "_view_name": "LayoutView",
            "align_content": null,
            "align_items": null,
            "align_self": null,
            "border": null,
            "bottom": null,
            "display": null,
            "flex": null,
            "flex_flow": null,
            "grid_area": null,
            "grid_auto_columns": null,
            "grid_auto_flow": null,
            "grid_auto_rows": null,
            "grid_column": null,
            "grid_gap": null,
            "grid_row": null,
            "grid_template_areas": null,
            "grid_template_columns": null,
            "grid_template_rows": null,
            "height": null,
            "justify_content": null,
            "justify_items": null,
            "left": null,
            "margin": null,
            "max_height": null,
            "max_width": null,
            "min_height": null,
            "min_width": null,
            "object_fit": null,
            "object_position": null,
            "order": null,
            "overflow": null,
            "overflow_x": null,
            "overflow_y": null,
            "padding": null,
            "right": null,
            "top": null,
            "visibility": null,
            "width": null
          }
        },
        "a94cd3554bf24a5e81f941a38591049e": {
          "model_module": "@jupyter-widgets/controls",
          "model_name": "DescriptionStyleModel",
          "model_module_version": "1.5.0",
          "state": {
            "_model_module": "@jupyter-widgets/controls",
            "_model_module_version": "1.5.0",
            "_model_name": "DescriptionStyleModel",
            "_view_count": null,
            "_view_module": "@jupyter-widgets/base",
            "_view_module_version": "1.2.0",
            "_view_name": "StyleView",
            "description_width": ""
          }
        },
        "61395781f66c49aaab8e5dfced4cc8dd": {
          "model_module": "@jupyter-widgets/base",
          "model_name": "LayoutModel",
          "model_module_version": "1.2.0",
          "state": {
            "_model_module": "@jupyter-widgets/base",
            "_model_module_version": "1.2.0",
            "_model_name": "LayoutModel",
            "_view_count": null,
            "_view_module": "@jupyter-widgets/base",
            "_view_module_version": "1.2.0",
            "_view_name": "LayoutView",
            "align_content": null,
            "align_items": null,
            "align_self": null,
            "border": null,
            "bottom": null,
            "display": null,
            "flex": null,
            "flex_flow": null,
            "grid_area": null,
            "grid_auto_columns": null,
            "grid_auto_flow": null,
            "grid_auto_rows": null,
            "grid_column": null,
            "grid_gap": null,
            "grid_row": null,
            "grid_template_areas": null,
            "grid_template_columns": null,
            "grid_template_rows": null,
            "height": null,
            "justify_content": null,
            "justify_items": null,
            "left": null,
            "margin": null,
            "max_height": null,
            "max_width": null,
            "min_height": null,
            "min_width": null,
            "object_fit": null,
            "object_position": null,
            "order": null,
            "overflow": null,
            "overflow_x": null,
            "overflow_y": null,
            "padding": null,
            "right": null,
            "top": null,
            "visibility": null,
            "width": null
          }
        },
        "e3f13822427e4529892f437b873fe489": {
          "model_module": "@jupyter-widgets/controls",
          "model_name": "ProgressStyleModel",
          "model_module_version": "1.5.0",
          "state": {
            "_model_module": "@jupyter-widgets/controls",
            "_model_module_version": "1.5.0",
            "_model_name": "ProgressStyleModel",
            "_view_count": null,
            "_view_module": "@jupyter-widgets/base",
            "_view_module_version": "1.2.0",
            "_view_name": "StyleView",
            "bar_color": null,
            "description_width": ""
          }
        },
        "019995bb77954d86bc75270464927723": {
          "model_module": "@jupyter-widgets/base",
          "model_name": "LayoutModel",
          "model_module_version": "1.2.0",
          "state": {
            "_model_module": "@jupyter-widgets/base",
            "_model_module_version": "1.2.0",
            "_model_name": "LayoutModel",
            "_view_count": null,
            "_view_module": "@jupyter-widgets/base",
            "_view_module_version": "1.2.0",
            "_view_name": "LayoutView",
            "align_content": null,
            "align_items": null,
            "align_self": null,
            "border": null,
            "bottom": null,
            "display": null,
            "flex": null,
            "flex_flow": null,
            "grid_area": null,
            "grid_auto_columns": null,
            "grid_auto_flow": null,
            "grid_auto_rows": null,
            "grid_column": null,
            "grid_gap": null,
            "grid_row": null,
            "grid_template_areas": null,
            "grid_template_columns": null,
            "grid_template_rows": null,
            "height": null,
            "justify_content": null,
            "justify_items": null,
            "left": null,
            "margin": null,
            "max_height": null,
            "max_width": null,
            "min_height": null,
            "min_width": null,
            "object_fit": null,
            "object_position": null,
            "order": null,
            "overflow": null,
            "overflow_x": null,
            "overflow_y": null,
            "padding": null,
            "right": null,
            "top": null,
            "visibility": null,
            "width": null
          }
        },
        "38c5c884dbf54632806648a6fe0c3654": {
          "model_module": "@jupyter-widgets/controls",
          "model_name": "DescriptionStyleModel",
          "model_module_version": "1.5.0",
          "state": {
            "_model_module": "@jupyter-widgets/controls",
            "_model_module_version": "1.5.0",
            "_model_name": "DescriptionStyleModel",
            "_view_count": null,
            "_view_module": "@jupyter-widgets/base",
            "_view_module_version": "1.2.0",
            "_view_name": "StyleView",
            "description_width": ""
          }
        },
        "494b456280a9455c9d73698444ce6900": {
          "model_module": "@jupyter-widgets/controls",
          "model_name": "HBoxModel",
          "model_module_version": "1.5.0",
          "state": {
            "_dom_classes": [],
            "_model_module": "@jupyter-widgets/controls",
            "_model_module_version": "1.5.0",
            "_model_name": "HBoxModel",
            "_view_count": null,
            "_view_module": "@jupyter-widgets/controls",
            "_view_module_version": "1.5.0",
            "_view_name": "HBoxView",
            "box_style": "",
            "children": [
              "IPY_MODEL_e6dd605cf612408a897a92c8e341e6dc",
              "IPY_MODEL_ca02c69649ca4423897092dbe7927bb2",
              "IPY_MODEL_26b009d92cb048ffbeefb5a37afcde32"
            ],
            "layout": "IPY_MODEL_3e966ec94d9642a78a12d256e6f8a583"
          }
        },
        "e6dd605cf612408a897a92c8e341e6dc": {
          "model_module": "@jupyter-widgets/controls",
          "model_name": "HTMLModel",
          "model_module_version": "1.5.0",
          "state": {
            "_dom_classes": [],
            "_model_module": "@jupyter-widgets/controls",
            "_model_module_version": "1.5.0",
            "_model_name": "HTMLModel",
            "_view_count": null,
            "_view_module": "@jupyter-widgets/controls",
            "_view_module_version": "1.5.0",
            "_view_name": "HTMLView",
            "description": "",
            "description_tooltip": null,
            "layout": "IPY_MODEL_799bbdb9efc4488f9323f23da8c37af3",
            "placeholder": "​",
            "style": "IPY_MODEL_602e0406cc9c49c2aeba1e2c46c5ef06",
            "value": "Downloading (…)ce_transformers.json: 100%"
          }
        },
        "ca02c69649ca4423897092dbe7927bb2": {
          "model_module": "@jupyter-widgets/controls",
          "model_name": "FloatProgressModel",
          "model_module_version": "1.5.0",
          "state": {
            "_dom_classes": [],
            "_model_module": "@jupyter-widgets/controls",
            "_model_module_version": "1.5.0",
            "_model_name": "FloatProgressModel",
            "_view_count": null,
            "_view_module": "@jupyter-widgets/controls",
            "_view_module_version": "1.5.0",
            "_view_name": "ProgressView",
            "bar_style": "success",
            "description": "",
            "description_tooltip": null,
            "layout": "IPY_MODEL_c04b85058a684bfdbb511eb83ad8a501",
            "max": 116,
            "min": 0,
            "orientation": "horizontal",
            "style": "IPY_MODEL_6d3d2a63598d4eacb43dd34e5a98e982",
            "value": 116
          }
        },
        "26b009d92cb048ffbeefb5a37afcde32": {
          "model_module": "@jupyter-widgets/controls",
          "model_name": "HTMLModel",
          "model_module_version": "1.5.0",
          "state": {
            "_dom_classes": [],
            "_model_module": "@jupyter-widgets/controls",
            "_model_module_version": "1.5.0",
            "_model_name": "HTMLModel",
            "_view_count": null,
            "_view_module": "@jupyter-widgets/controls",
            "_view_module_version": "1.5.0",
            "_view_name": "HTMLView",
            "description": "",
            "description_tooltip": null,
            "layout": "IPY_MODEL_569420f3c5d24920aad5000b6977a56c",
            "placeholder": "​",
            "style": "IPY_MODEL_236c8db9504742cb944e1a5015a569e0",
            "value": " 116/116 [00:00&lt;00:00, 5.63kB/s]"
          }
        },
        "3e966ec94d9642a78a12d256e6f8a583": {
          "model_module": "@jupyter-widgets/base",
          "model_name": "LayoutModel",
          "model_module_version": "1.2.0",
          "state": {
            "_model_module": "@jupyter-widgets/base",
            "_model_module_version": "1.2.0",
            "_model_name": "LayoutModel",
            "_view_count": null,
            "_view_module": "@jupyter-widgets/base",
            "_view_module_version": "1.2.0",
            "_view_name": "LayoutView",
            "align_content": null,
            "align_items": null,
            "align_self": null,
            "border": null,
            "bottom": null,
            "display": null,
            "flex": null,
            "flex_flow": null,
            "grid_area": null,
            "grid_auto_columns": null,
            "grid_auto_flow": null,
            "grid_auto_rows": null,
            "grid_column": null,
            "grid_gap": null,
            "grid_row": null,
            "grid_template_areas": null,
            "grid_template_columns": null,
            "grid_template_rows": null,
            "height": null,
            "justify_content": null,
            "justify_items": null,
            "left": null,
            "margin": null,
            "max_height": null,
            "max_width": null,
            "min_height": null,
            "min_width": null,
            "object_fit": null,
            "object_position": null,
            "order": null,
            "overflow": null,
            "overflow_x": null,
            "overflow_y": null,
            "padding": null,
            "right": null,
            "top": null,
            "visibility": null,
            "width": null
          }
        },
        "799bbdb9efc4488f9323f23da8c37af3": {
          "model_module": "@jupyter-widgets/base",
          "model_name": "LayoutModel",
          "model_module_version": "1.2.0",
          "state": {
            "_model_module": "@jupyter-widgets/base",
            "_model_module_version": "1.2.0",
            "_model_name": "LayoutModel",
            "_view_count": null,
            "_view_module": "@jupyter-widgets/base",
            "_view_module_version": "1.2.0",
            "_view_name": "LayoutView",
            "align_content": null,
            "align_items": null,
            "align_self": null,
            "border": null,
            "bottom": null,
            "display": null,
            "flex": null,
            "flex_flow": null,
            "grid_area": null,
            "grid_auto_columns": null,
            "grid_auto_flow": null,
            "grid_auto_rows": null,
            "grid_column": null,
            "grid_gap": null,
            "grid_row": null,
            "grid_template_areas": null,
            "grid_template_columns": null,
            "grid_template_rows": null,
            "height": null,
            "justify_content": null,
            "justify_items": null,
            "left": null,
            "margin": null,
            "max_height": null,
            "max_width": null,
            "min_height": null,
            "min_width": null,
            "object_fit": null,
            "object_position": null,
            "order": null,
            "overflow": null,
            "overflow_x": null,
            "overflow_y": null,
            "padding": null,
            "right": null,
            "top": null,
            "visibility": null,
            "width": null
          }
        },
        "602e0406cc9c49c2aeba1e2c46c5ef06": {
          "model_module": "@jupyter-widgets/controls",
          "model_name": "DescriptionStyleModel",
          "model_module_version": "1.5.0",
          "state": {
            "_model_module": "@jupyter-widgets/controls",
            "_model_module_version": "1.5.0",
            "_model_name": "DescriptionStyleModel",
            "_view_count": null,
            "_view_module": "@jupyter-widgets/base",
            "_view_module_version": "1.2.0",
            "_view_name": "StyleView",
            "description_width": ""
          }
        },
        "c04b85058a684bfdbb511eb83ad8a501": {
          "model_module": "@jupyter-widgets/base",
          "model_name": "LayoutModel",
          "model_module_version": "1.2.0",
          "state": {
            "_model_module": "@jupyter-widgets/base",
            "_model_module_version": "1.2.0",
            "_model_name": "LayoutModel",
            "_view_count": null,
            "_view_module": "@jupyter-widgets/base",
            "_view_module_version": "1.2.0",
            "_view_name": "LayoutView",
            "align_content": null,
            "align_items": null,
            "align_self": null,
            "border": null,
            "bottom": null,
            "display": null,
            "flex": null,
            "flex_flow": null,
            "grid_area": null,
            "grid_auto_columns": null,
            "grid_auto_flow": null,
            "grid_auto_rows": null,
            "grid_column": null,
            "grid_gap": null,
            "grid_row": null,
            "grid_template_areas": null,
            "grid_template_columns": null,
            "grid_template_rows": null,
            "height": null,
            "justify_content": null,
            "justify_items": null,
            "left": null,
            "margin": null,
            "max_height": null,
            "max_width": null,
            "min_height": null,
            "min_width": null,
            "object_fit": null,
            "object_position": null,
            "order": null,
            "overflow": null,
            "overflow_x": null,
            "overflow_y": null,
            "padding": null,
            "right": null,
            "top": null,
            "visibility": null,
            "width": null
          }
        },
        "6d3d2a63598d4eacb43dd34e5a98e982": {
          "model_module": "@jupyter-widgets/controls",
          "model_name": "ProgressStyleModel",
          "model_module_version": "1.5.0",
          "state": {
            "_model_module": "@jupyter-widgets/controls",
            "_model_module_version": "1.5.0",
            "_model_name": "ProgressStyleModel",
            "_view_count": null,
            "_view_module": "@jupyter-widgets/base",
            "_view_module_version": "1.2.0",
            "_view_name": "StyleView",
            "bar_color": null,
            "description_width": ""
          }
        },
        "569420f3c5d24920aad5000b6977a56c": {
          "model_module": "@jupyter-widgets/base",
          "model_name": "LayoutModel",
          "model_module_version": "1.2.0",
          "state": {
            "_model_module": "@jupyter-widgets/base",
            "_model_module_version": "1.2.0",
            "_model_name": "LayoutModel",
            "_view_count": null,
            "_view_module": "@jupyter-widgets/base",
            "_view_module_version": "1.2.0",
            "_view_name": "LayoutView",
            "align_content": null,
            "align_items": null,
            "align_self": null,
            "border": null,
            "bottom": null,
            "display": null,
            "flex": null,
            "flex_flow": null,
            "grid_area": null,
            "grid_auto_columns": null,
            "grid_auto_flow": null,
            "grid_auto_rows": null,
            "grid_column": null,
            "grid_gap": null,
            "grid_row": null,
            "grid_template_areas": null,
            "grid_template_columns": null,
            "grid_template_rows": null,
            "height": null,
            "justify_content": null,
            "justify_items": null,
            "left": null,
            "margin": null,
            "max_height": null,
            "max_width": null,
            "min_height": null,
            "min_width": null,
            "object_fit": null,
            "object_position": null,
            "order": null,
            "overflow": null,
            "overflow_x": null,
            "overflow_y": null,
            "padding": null,
            "right": null,
            "top": null,
            "visibility": null,
            "width": null
          }
        },
        "236c8db9504742cb944e1a5015a569e0": {
          "model_module": "@jupyter-widgets/controls",
          "model_name": "DescriptionStyleModel",
          "model_module_version": "1.5.0",
          "state": {
            "_model_module": "@jupyter-widgets/controls",
            "_model_module_version": "1.5.0",
            "_model_name": "DescriptionStyleModel",
            "_view_count": null,
            "_view_module": "@jupyter-widgets/base",
            "_view_module_version": "1.2.0",
            "_view_name": "StyleView",
            "description_width": ""
          }
        },
        "4e3d3d4c8b4f46ae817b012b862d1d0f": {
          "model_module": "@jupyter-widgets/controls",
          "model_name": "HBoxModel",
          "model_module_version": "1.5.0",
          "state": {
            "_dom_classes": [],
            "_model_module": "@jupyter-widgets/controls",
            "_model_module_version": "1.5.0",
            "_model_name": "HBoxModel",
            "_view_count": null,
            "_view_module": "@jupyter-widgets/controls",
            "_view_module_version": "1.5.0",
            "_view_name": "HBoxView",
            "box_style": "",
            "children": [
              "IPY_MODEL_0d19f44f8c9c4ba4a66e1fb2f577f007",
              "IPY_MODEL_3f2c14392cb94316b27d1dc8c11e2bef",
              "IPY_MODEL_06d42f4fa5c5464f873731d93577c969"
            ],
            "layout": "IPY_MODEL_ce4474ff78f34f07aca47a45063f6452"
          }
        },
        "0d19f44f8c9c4ba4a66e1fb2f577f007": {
          "model_module": "@jupyter-widgets/controls",
          "model_name": "HTMLModel",
          "model_module_version": "1.5.0",
          "state": {
            "_dom_classes": [],
            "_model_module": "@jupyter-widgets/controls",
            "_model_module_version": "1.5.0",
            "_model_name": "HTMLModel",
            "_view_count": null,
            "_view_module": "@jupyter-widgets/controls",
            "_view_module_version": "1.5.0",
            "_view_name": "HTMLView",
            "description": "",
            "description_tooltip": null,
            "layout": "IPY_MODEL_d4e14898409644d2b5074e14f2302d8d",
            "placeholder": "​",
            "style": "IPY_MODEL_e8a6ed731d1c469385354b13199b74e4",
            "value": "Downloading (…)125/data_config.json: "
          }
        },
        "3f2c14392cb94316b27d1dc8c11e2bef": {
          "model_module": "@jupyter-widgets/controls",
          "model_name": "FloatProgressModel",
          "model_module_version": "1.5.0",
          "state": {
            "_dom_classes": [],
            "_model_module": "@jupyter-widgets/controls",
            "_model_module_version": "1.5.0",
            "_model_name": "FloatProgressModel",
            "_view_count": null,
            "_view_module": "@jupyter-widgets/controls",
            "_view_module_version": "1.5.0",
            "_view_name": "ProgressView",
            "bar_style": "success",
            "description": "",
            "description_tooltip": null,
            "layout": "IPY_MODEL_f83ae85b77484b029916fbc9d589c075",
            "max": 1,
            "min": 0,
            "orientation": "horizontal",
            "style": "IPY_MODEL_6a9f43a77a6b4eb594a93f454d2d47cc",
            "value": 1
          }
        },
        "06d42f4fa5c5464f873731d93577c969": {
          "model_module": "@jupyter-widgets/controls",
          "model_name": "HTMLModel",
          "model_module_version": "1.5.0",
          "state": {
            "_dom_classes": [],
            "_model_module": "@jupyter-widgets/controls",
            "_model_module_version": "1.5.0",
            "_model_name": "HTMLModel",
            "_view_count": null,
            "_view_module": "@jupyter-widgets/controls",
            "_view_module_version": "1.5.0",
            "_view_name": "HTMLView",
            "description": "",
            "description_tooltip": null,
            "layout": "IPY_MODEL_93c2f281d86e43b5956ccf7360dc2206",
            "placeholder": "​",
            "style": "IPY_MODEL_9d7cf2ddc5d74b8593d540bfe7cd3f59",
            "value": " 39.3k/? [00:00&lt;00:00, 2.40MB/s]"
          }
        },
        "ce4474ff78f34f07aca47a45063f6452": {
          "model_module": "@jupyter-widgets/base",
          "model_name": "LayoutModel",
          "model_module_version": "1.2.0",
          "state": {
            "_model_module": "@jupyter-widgets/base",
            "_model_module_version": "1.2.0",
            "_model_name": "LayoutModel",
            "_view_count": null,
            "_view_module": "@jupyter-widgets/base",
            "_view_module_version": "1.2.0",
            "_view_name": "LayoutView",
            "align_content": null,
            "align_items": null,
            "align_self": null,
            "border": null,
            "bottom": null,
            "display": null,
            "flex": null,
            "flex_flow": null,
            "grid_area": null,
            "grid_auto_columns": null,
            "grid_auto_flow": null,
            "grid_auto_rows": null,
            "grid_column": null,
            "grid_gap": null,
            "grid_row": null,
            "grid_template_areas": null,
            "grid_template_columns": null,
            "grid_template_rows": null,
            "height": null,
            "justify_content": null,
            "justify_items": null,
            "left": null,
            "margin": null,
            "max_height": null,
            "max_width": null,
            "min_height": null,
            "min_width": null,
            "object_fit": null,
            "object_position": null,
            "order": null,
            "overflow": null,
            "overflow_x": null,
            "overflow_y": null,
            "padding": null,
            "right": null,
            "top": null,
            "visibility": null,
            "width": null
          }
        },
        "d4e14898409644d2b5074e14f2302d8d": {
          "model_module": "@jupyter-widgets/base",
          "model_name": "LayoutModel",
          "model_module_version": "1.2.0",
          "state": {
            "_model_module": "@jupyter-widgets/base",
            "_model_module_version": "1.2.0",
            "_model_name": "LayoutModel",
            "_view_count": null,
            "_view_module": "@jupyter-widgets/base",
            "_view_module_version": "1.2.0",
            "_view_name": "LayoutView",
            "align_content": null,
            "align_items": null,
            "align_self": null,
            "border": null,
            "bottom": null,
            "display": null,
            "flex": null,
            "flex_flow": null,
            "grid_area": null,
            "grid_auto_columns": null,
            "grid_auto_flow": null,
            "grid_auto_rows": null,
            "grid_column": null,
            "grid_gap": null,
            "grid_row": null,
            "grid_template_areas": null,
            "grid_template_columns": null,
            "grid_template_rows": null,
            "height": null,
            "justify_content": null,
            "justify_items": null,
            "left": null,
            "margin": null,
            "max_height": null,
            "max_width": null,
            "min_height": null,
            "min_width": null,
            "object_fit": null,
            "object_position": null,
            "order": null,
            "overflow": null,
            "overflow_x": null,
            "overflow_y": null,
            "padding": null,
            "right": null,
            "top": null,
            "visibility": null,
            "width": null
          }
        },
        "e8a6ed731d1c469385354b13199b74e4": {
          "model_module": "@jupyter-widgets/controls",
          "model_name": "DescriptionStyleModel",
          "model_module_version": "1.5.0",
          "state": {
            "_model_module": "@jupyter-widgets/controls",
            "_model_module_version": "1.5.0",
            "_model_name": "DescriptionStyleModel",
            "_view_count": null,
            "_view_module": "@jupyter-widgets/base",
            "_view_module_version": "1.2.0",
            "_view_name": "StyleView",
            "description_width": ""
          }
        },
        "f83ae85b77484b029916fbc9d589c075": {
          "model_module": "@jupyter-widgets/base",
          "model_name": "LayoutModel",
          "model_module_version": "1.2.0",
          "state": {
            "_model_module": "@jupyter-widgets/base",
            "_model_module_version": "1.2.0",
            "_model_name": "LayoutModel",
            "_view_count": null,
            "_view_module": "@jupyter-widgets/base",
            "_view_module_version": "1.2.0",
            "_view_name": "LayoutView",
            "align_content": null,
            "align_items": null,
            "align_self": null,
            "border": null,
            "bottom": null,
            "display": null,
            "flex": null,
            "flex_flow": null,
            "grid_area": null,
            "grid_auto_columns": null,
            "grid_auto_flow": null,
            "grid_auto_rows": null,
            "grid_column": null,
            "grid_gap": null,
            "grid_row": null,
            "grid_template_areas": null,
            "grid_template_columns": null,
            "grid_template_rows": null,
            "height": null,
            "justify_content": null,
            "justify_items": null,
            "left": null,
            "margin": null,
            "max_height": null,
            "max_width": null,
            "min_height": null,
            "min_width": null,
            "object_fit": null,
            "object_position": null,
            "order": null,
            "overflow": null,
            "overflow_x": null,
            "overflow_y": null,
            "padding": null,
            "right": null,
            "top": null,
            "visibility": null,
            "width": "20px"
          }
        },
        "6a9f43a77a6b4eb594a93f454d2d47cc": {
          "model_module": "@jupyter-widgets/controls",
          "model_name": "ProgressStyleModel",
          "model_module_version": "1.5.0",
          "state": {
            "_model_module": "@jupyter-widgets/controls",
            "_model_module_version": "1.5.0",
            "_model_name": "ProgressStyleModel",
            "_view_count": null,
            "_view_module": "@jupyter-widgets/base",
            "_view_module_version": "1.2.0",
            "_view_name": "StyleView",
            "bar_color": null,
            "description_width": ""
          }
        },
        "93c2f281d86e43b5956ccf7360dc2206": {
          "model_module": "@jupyter-widgets/base",
          "model_name": "LayoutModel",
          "model_module_version": "1.2.0",
          "state": {
            "_model_module": "@jupyter-widgets/base",
            "_model_module_version": "1.2.0",
            "_model_name": "LayoutModel",
            "_view_count": null,
            "_view_module": "@jupyter-widgets/base",
            "_view_module_version": "1.2.0",
            "_view_name": "LayoutView",
            "align_content": null,
            "align_items": null,
            "align_self": null,
            "border": null,
            "bottom": null,
            "display": null,
            "flex": null,
            "flex_flow": null,
            "grid_area": null,
            "grid_auto_columns": null,
            "grid_auto_flow": null,
            "grid_auto_rows": null,
            "grid_column": null,
            "grid_gap": null,
            "grid_row": null,
            "grid_template_areas": null,
            "grid_template_columns": null,
            "grid_template_rows": null,
            "height": null,
            "justify_content": null,
            "justify_items": null,
            "left": null,
            "margin": null,
            "max_height": null,
            "max_width": null,
            "min_height": null,
            "min_width": null,
            "object_fit": null,
            "object_position": null,
            "order": null,
            "overflow": null,
            "overflow_x": null,
            "overflow_y": null,
            "padding": null,
            "right": null,
            "top": null,
            "visibility": null,
            "width": null
          }
        },
        "9d7cf2ddc5d74b8593d540bfe7cd3f59": {
          "model_module": "@jupyter-widgets/controls",
          "model_name": "DescriptionStyleModel",
          "model_module_version": "1.5.0",
          "state": {
            "_model_module": "@jupyter-widgets/controls",
            "_model_module_version": "1.5.0",
            "_model_name": "DescriptionStyleModel",
            "_view_count": null,
            "_view_module": "@jupyter-widgets/base",
            "_view_module_version": "1.2.0",
            "_view_name": "StyleView",
            "description_width": ""
          }
        },
        "51ee0c6dec9c4cb0943356c0ffcf935e": {
          "model_module": "@jupyter-widgets/controls",
          "model_name": "HBoxModel",
          "model_module_version": "1.5.0",
          "state": {
            "_dom_classes": [],
            "_model_module": "@jupyter-widgets/controls",
            "_model_module_version": "1.5.0",
            "_model_name": "HBoxModel",
            "_view_count": null,
            "_view_module": "@jupyter-widgets/controls",
            "_view_module_version": "1.5.0",
            "_view_name": "HBoxView",
            "box_style": "",
            "children": [
              "IPY_MODEL_46713162d9d04da494e8a206450f45b9",
              "IPY_MODEL_3d1f457c42264af7900f3214ffaf3730",
              "IPY_MODEL_2d69cd3cc7f4471cab211f264a2a1554"
            ],
            "layout": "IPY_MODEL_59dc1320aa54466fa9fffbe290841cb0"
          }
        },
        "46713162d9d04da494e8a206450f45b9": {
          "model_module": "@jupyter-widgets/controls",
          "model_name": "HTMLModel",
          "model_module_version": "1.5.0",
          "state": {
            "_dom_classes": [],
            "_model_module": "@jupyter-widgets/controls",
            "_model_module_version": "1.5.0",
            "_model_name": "HTMLModel",
            "_view_count": null,
            "_view_module": "@jupyter-widgets/controls",
            "_view_module_version": "1.5.0",
            "_view_name": "HTMLView",
            "description": "",
            "description_tooltip": null,
            "layout": "IPY_MODEL_a6cfca41307c4dc1aeb27ee33bf01515",
            "placeholder": "​",
            "style": "IPY_MODEL_3aeda452ebbe4929babfe292f04002e9",
            "value": "Downloading pytorch_model.bin: 100%"
          }
        },
        "3d1f457c42264af7900f3214ffaf3730": {
          "model_module": "@jupyter-widgets/controls",
          "model_name": "FloatProgressModel",
          "model_module_version": "1.5.0",
          "state": {
            "_dom_classes": [],
            "_model_module": "@jupyter-widgets/controls",
            "_model_module_version": "1.5.0",
            "_model_name": "FloatProgressModel",
            "_view_count": null,
            "_view_module": "@jupyter-widgets/controls",
            "_view_module_version": "1.5.0",
            "_view_name": "ProgressView",
            "bar_style": "success",
            "description": "",
            "description_tooltip": null,
            "layout": "IPY_MODEL_a323d45aa7b141ae898deec30fcb5375",
            "max": 90888945,
            "min": 0,
            "orientation": "horizontal",
            "style": "IPY_MODEL_832fcdb51dbe434f9e67feac7853efed",
            "value": 90888945
          }
        },
        "2d69cd3cc7f4471cab211f264a2a1554": {
          "model_module": "@jupyter-widgets/controls",
          "model_name": "HTMLModel",
          "model_module_version": "1.5.0",
          "state": {
            "_dom_classes": [],
            "_model_module": "@jupyter-widgets/controls",
            "_model_module_version": "1.5.0",
            "_model_name": "HTMLModel",
            "_view_count": null,
            "_view_module": "@jupyter-widgets/controls",
            "_view_module_version": "1.5.0",
            "_view_name": "HTMLView",
            "description": "",
            "description_tooltip": null,
            "layout": "IPY_MODEL_5a71b506f57b424e88c446ac6b4e6a5c",
            "placeholder": "​",
            "style": "IPY_MODEL_7c129b446ada4f519ac39d0c8a048cd0",
            "value": " 90.9M/90.9M [00:00&lt;00:00, 277MB/s]"
          }
        },
        "59dc1320aa54466fa9fffbe290841cb0": {
          "model_module": "@jupyter-widgets/base",
          "model_name": "LayoutModel",
          "model_module_version": "1.2.0",
          "state": {
            "_model_module": "@jupyter-widgets/base",
            "_model_module_version": "1.2.0",
            "_model_name": "LayoutModel",
            "_view_count": null,
            "_view_module": "@jupyter-widgets/base",
            "_view_module_version": "1.2.0",
            "_view_name": "LayoutView",
            "align_content": null,
            "align_items": null,
            "align_self": null,
            "border": null,
            "bottom": null,
            "display": null,
            "flex": null,
            "flex_flow": null,
            "grid_area": null,
            "grid_auto_columns": null,
            "grid_auto_flow": null,
            "grid_auto_rows": null,
            "grid_column": null,
            "grid_gap": null,
            "grid_row": null,
            "grid_template_areas": null,
            "grid_template_columns": null,
            "grid_template_rows": null,
            "height": null,
            "justify_content": null,
            "justify_items": null,
            "left": null,
            "margin": null,
            "max_height": null,
            "max_width": null,
            "min_height": null,
            "min_width": null,
            "object_fit": null,
            "object_position": null,
            "order": null,
            "overflow": null,
            "overflow_x": null,
            "overflow_y": null,
            "padding": null,
            "right": null,
            "top": null,
            "visibility": null,
            "width": null
          }
        },
        "a6cfca41307c4dc1aeb27ee33bf01515": {
          "model_module": "@jupyter-widgets/base",
          "model_name": "LayoutModel",
          "model_module_version": "1.2.0",
          "state": {
            "_model_module": "@jupyter-widgets/base",
            "_model_module_version": "1.2.0",
            "_model_name": "LayoutModel",
            "_view_count": null,
            "_view_module": "@jupyter-widgets/base",
            "_view_module_version": "1.2.0",
            "_view_name": "LayoutView",
            "align_content": null,
            "align_items": null,
            "align_self": null,
            "border": null,
            "bottom": null,
            "display": null,
            "flex": null,
            "flex_flow": null,
            "grid_area": null,
            "grid_auto_columns": null,
            "grid_auto_flow": null,
            "grid_auto_rows": null,
            "grid_column": null,
            "grid_gap": null,
            "grid_row": null,
            "grid_template_areas": null,
            "grid_template_columns": null,
            "grid_template_rows": null,
            "height": null,
            "justify_content": null,
            "justify_items": null,
            "left": null,
            "margin": null,
            "max_height": null,
            "max_width": null,
            "min_height": null,
            "min_width": null,
            "object_fit": null,
            "object_position": null,
            "order": null,
            "overflow": null,
            "overflow_x": null,
            "overflow_y": null,
            "padding": null,
            "right": null,
            "top": null,
            "visibility": null,
            "width": null
          }
        },
        "3aeda452ebbe4929babfe292f04002e9": {
          "model_module": "@jupyter-widgets/controls",
          "model_name": "DescriptionStyleModel",
          "model_module_version": "1.5.0",
          "state": {
            "_model_module": "@jupyter-widgets/controls",
            "_model_module_version": "1.5.0",
            "_model_name": "DescriptionStyleModel",
            "_view_count": null,
            "_view_module": "@jupyter-widgets/base",
            "_view_module_version": "1.2.0",
            "_view_name": "StyleView",
            "description_width": ""
          }
        },
        "a323d45aa7b141ae898deec30fcb5375": {
          "model_module": "@jupyter-widgets/base",
          "model_name": "LayoutModel",
          "model_module_version": "1.2.0",
          "state": {
            "_model_module": "@jupyter-widgets/base",
            "_model_module_version": "1.2.0",
            "_model_name": "LayoutModel",
            "_view_count": null,
            "_view_module": "@jupyter-widgets/base",
            "_view_module_version": "1.2.0",
            "_view_name": "LayoutView",
            "align_content": null,
            "align_items": null,
            "align_self": null,
            "border": null,
            "bottom": null,
            "display": null,
            "flex": null,
            "flex_flow": null,
            "grid_area": null,
            "grid_auto_columns": null,
            "grid_auto_flow": null,
            "grid_auto_rows": null,
            "grid_column": null,
            "grid_gap": null,
            "grid_row": null,
            "grid_template_areas": null,
            "grid_template_columns": null,
            "grid_template_rows": null,
            "height": null,
            "justify_content": null,
            "justify_items": null,
            "left": null,
            "margin": null,
            "max_height": null,
            "max_width": null,
            "min_height": null,
            "min_width": null,
            "object_fit": null,
            "object_position": null,
            "order": null,
            "overflow": null,
            "overflow_x": null,
            "overflow_y": null,
            "padding": null,
            "right": null,
            "top": null,
            "visibility": null,
            "width": null
          }
        },
        "832fcdb51dbe434f9e67feac7853efed": {
          "model_module": "@jupyter-widgets/controls",
          "model_name": "ProgressStyleModel",
          "model_module_version": "1.5.0",
          "state": {
            "_model_module": "@jupyter-widgets/controls",
            "_model_module_version": "1.5.0",
            "_model_name": "ProgressStyleModel",
            "_view_count": null,
            "_view_module": "@jupyter-widgets/base",
            "_view_module_version": "1.2.0",
            "_view_name": "StyleView",
            "bar_color": null,
            "description_width": ""
          }
        },
        "5a71b506f57b424e88c446ac6b4e6a5c": {
          "model_module": "@jupyter-widgets/base",
          "model_name": "LayoutModel",
          "model_module_version": "1.2.0",
          "state": {
            "_model_module": "@jupyter-widgets/base",
            "_model_module_version": "1.2.0",
            "_model_name": "LayoutModel",
            "_view_count": null,
            "_view_module": "@jupyter-widgets/base",
            "_view_module_version": "1.2.0",
            "_view_name": "LayoutView",
            "align_content": null,
            "align_items": null,
            "align_self": null,
            "border": null,
            "bottom": null,
            "display": null,
            "flex": null,
            "flex_flow": null,
            "grid_area": null,
            "grid_auto_columns": null,
            "grid_auto_flow": null,
            "grid_auto_rows": null,
            "grid_column": null,
            "grid_gap": null,
            "grid_row": null,
            "grid_template_areas": null,
            "grid_template_columns": null,
            "grid_template_rows": null,
            "height": null,
            "justify_content": null,
            "justify_items": null,
            "left": null,
            "margin": null,
            "max_height": null,
            "max_width": null,
            "min_height": null,
            "min_width": null,
            "object_fit": null,
            "object_position": null,
            "order": null,
            "overflow": null,
            "overflow_x": null,
            "overflow_y": null,
            "padding": null,
            "right": null,
            "top": null,
            "visibility": null,
            "width": null
          }
        },
        "7c129b446ada4f519ac39d0c8a048cd0": {
          "model_module": "@jupyter-widgets/controls",
          "model_name": "DescriptionStyleModel",
          "model_module_version": "1.5.0",
          "state": {
            "_model_module": "@jupyter-widgets/controls",
            "_model_module_version": "1.5.0",
            "_model_name": "DescriptionStyleModel",
            "_view_count": null,
            "_view_module": "@jupyter-widgets/base",
            "_view_module_version": "1.2.0",
            "_view_name": "StyleView",
            "description_width": ""
          }
        },
        "44990feb588641208d4aadba644f3c9c": {
          "model_module": "@jupyter-widgets/controls",
          "model_name": "HBoxModel",
          "model_module_version": "1.5.0",
          "state": {
            "_dom_classes": [],
            "_model_module": "@jupyter-widgets/controls",
            "_model_module_version": "1.5.0",
            "_model_name": "HBoxModel",
            "_view_count": null,
            "_view_module": "@jupyter-widgets/controls",
            "_view_module_version": "1.5.0",
            "_view_name": "HBoxView",
            "box_style": "",
            "children": [
              "IPY_MODEL_4e6ea739bbe3496ca2719e1717b2dc92",
              "IPY_MODEL_42a005e419e549ffbd5ffa315b5a349d",
              "IPY_MODEL_c335010d68374c96b6f1d6055a8203c4"
            ],
            "layout": "IPY_MODEL_0e193afef4cb49e383710c6d2c2d775e"
          }
        },
        "4e6ea739bbe3496ca2719e1717b2dc92": {
          "model_module": "@jupyter-widgets/controls",
          "model_name": "HTMLModel",
          "model_module_version": "1.5.0",
          "state": {
            "_dom_classes": [],
            "_model_module": "@jupyter-widgets/controls",
            "_model_module_version": "1.5.0",
            "_model_name": "HTMLModel",
            "_view_count": null,
            "_view_module": "@jupyter-widgets/controls",
            "_view_module_version": "1.5.0",
            "_view_name": "HTMLView",
            "description": "",
            "description_tooltip": null,
            "layout": "IPY_MODEL_11d4e567171e46d892ac50215aead34a",
            "placeholder": "​",
            "style": "IPY_MODEL_2a5207459df2497cb28bfc8629276855",
            "value": "Downloading (…)nce_bert_config.json: 100%"
          }
        },
        "42a005e419e549ffbd5ffa315b5a349d": {
          "model_module": "@jupyter-widgets/controls",
          "model_name": "FloatProgressModel",
          "model_module_version": "1.5.0",
          "state": {
            "_dom_classes": [],
            "_model_module": "@jupyter-widgets/controls",
            "_model_module_version": "1.5.0",
            "_model_name": "FloatProgressModel",
            "_view_count": null,
            "_view_module": "@jupyter-widgets/controls",
            "_view_module_version": "1.5.0",
            "_view_name": "ProgressView",
            "bar_style": "success",
            "description": "",
            "description_tooltip": null,
            "layout": "IPY_MODEL_92888a910b8848af8d47a871ec59bce6",
            "max": 53,
            "min": 0,
            "orientation": "horizontal",
            "style": "IPY_MODEL_f14ea0d9ebc94e499406af8abc63afe9",
            "value": 53
          }
        },
        "c335010d68374c96b6f1d6055a8203c4": {
          "model_module": "@jupyter-widgets/controls",
          "model_name": "HTMLModel",
          "model_module_version": "1.5.0",
          "state": {
            "_dom_classes": [],
            "_model_module": "@jupyter-widgets/controls",
            "_model_module_version": "1.5.0",
            "_model_name": "HTMLModel",
            "_view_count": null,
            "_view_module": "@jupyter-widgets/controls",
            "_view_module_version": "1.5.0",
            "_view_name": "HTMLView",
            "description": "",
            "description_tooltip": null,
            "layout": "IPY_MODEL_5830d023edf7408796d28ac0cec3d7f8",
            "placeholder": "​",
            "style": "IPY_MODEL_05184c35f8e241ec93a6b9164f4c2902",
            "value": " 53.0/53.0 [00:00&lt;00:00, 4.37kB/s]"
          }
        },
        "0e193afef4cb49e383710c6d2c2d775e": {
          "model_module": "@jupyter-widgets/base",
          "model_name": "LayoutModel",
          "model_module_version": "1.2.0",
          "state": {
            "_model_module": "@jupyter-widgets/base",
            "_model_module_version": "1.2.0",
            "_model_name": "LayoutModel",
            "_view_count": null,
            "_view_module": "@jupyter-widgets/base",
            "_view_module_version": "1.2.0",
            "_view_name": "LayoutView",
            "align_content": null,
            "align_items": null,
            "align_self": null,
            "border": null,
            "bottom": null,
            "display": null,
            "flex": null,
            "flex_flow": null,
            "grid_area": null,
            "grid_auto_columns": null,
            "grid_auto_flow": null,
            "grid_auto_rows": null,
            "grid_column": null,
            "grid_gap": null,
            "grid_row": null,
            "grid_template_areas": null,
            "grid_template_columns": null,
            "grid_template_rows": null,
            "height": null,
            "justify_content": null,
            "justify_items": null,
            "left": null,
            "margin": null,
            "max_height": null,
            "max_width": null,
            "min_height": null,
            "min_width": null,
            "object_fit": null,
            "object_position": null,
            "order": null,
            "overflow": null,
            "overflow_x": null,
            "overflow_y": null,
            "padding": null,
            "right": null,
            "top": null,
            "visibility": null,
            "width": null
          }
        },
        "11d4e567171e46d892ac50215aead34a": {
          "model_module": "@jupyter-widgets/base",
          "model_name": "LayoutModel",
          "model_module_version": "1.2.0",
          "state": {
            "_model_module": "@jupyter-widgets/base",
            "_model_module_version": "1.2.0",
            "_model_name": "LayoutModel",
            "_view_count": null,
            "_view_module": "@jupyter-widgets/base",
            "_view_module_version": "1.2.0",
            "_view_name": "LayoutView",
            "align_content": null,
            "align_items": null,
            "align_self": null,
            "border": null,
            "bottom": null,
            "display": null,
            "flex": null,
            "flex_flow": null,
            "grid_area": null,
            "grid_auto_columns": null,
            "grid_auto_flow": null,
            "grid_auto_rows": null,
            "grid_column": null,
            "grid_gap": null,
            "grid_row": null,
            "grid_template_areas": null,
            "grid_template_columns": null,
            "grid_template_rows": null,
            "height": null,
            "justify_content": null,
            "justify_items": null,
            "left": null,
            "margin": null,
            "max_height": null,
            "max_width": null,
            "min_height": null,
            "min_width": null,
            "object_fit": null,
            "object_position": null,
            "order": null,
            "overflow": null,
            "overflow_x": null,
            "overflow_y": null,
            "padding": null,
            "right": null,
            "top": null,
            "visibility": null,
            "width": null
          }
        },
        "2a5207459df2497cb28bfc8629276855": {
          "model_module": "@jupyter-widgets/controls",
          "model_name": "DescriptionStyleModel",
          "model_module_version": "1.5.0",
          "state": {
            "_model_module": "@jupyter-widgets/controls",
            "_model_module_version": "1.5.0",
            "_model_name": "DescriptionStyleModel",
            "_view_count": null,
            "_view_module": "@jupyter-widgets/base",
            "_view_module_version": "1.2.0",
            "_view_name": "StyleView",
            "description_width": ""
          }
        },
        "92888a910b8848af8d47a871ec59bce6": {
          "model_module": "@jupyter-widgets/base",
          "model_name": "LayoutModel",
          "model_module_version": "1.2.0",
          "state": {
            "_model_module": "@jupyter-widgets/base",
            "_model_module_version": "1.2.0",
            "_model_name": "LayoutModel",
            "_view_count": null,
            "_view_module": "@jupyter-widgets/base",
            "_view_module_version": "1.2.0",
            "_view_name": "LayoutView",
            "align_content": null,
            "align_items": null,
            "align_self": null,
            "border": null,
            "bottom": null,
            "display": null,
            "flex": null,
            "flex_flow": null,
            "grid_area": null,
            "grid_auto_columns": null,
            "grid_auto_flow": null,
            "grid_auto_rows": null,
            "grid_column": null,
            "grid_gap": null,
            "grid_row": null,
            "grid_template_areas": null,
            "grid_template_columns": null,
            "grid_template_rows": null,
            "height": null,
            "justify_content": null,
            "justify_items": null,
            "left": null,
            "margin": null,
            "max_height": null,
            "max_width": null,
            "min_height": null,
            "min_width": null,
            "object_fit": null,
            "object_position": null,
            "order": null,
            "overflow": null,
            "overflow_x": null,
            "overflow_y": null,
            "padding": null,
            "right": null,
            "top": null,
            "visibility": null,
            "width": null
          }
        },
        "f14ea0d9ebc94e499406af8abc63afe9": {
          "model_module": "@jupyter-widgets/controls",
          "model_name": "ProgressStyleModel",
          "model_module_version": "1.5.0",
          "state": {
            "_model_module": "@jupyter-widgets/controls",
            "_model_module_version": "1.5.0",
            "_model_name": "ProgressStyleModel",
            "_view_count": null,
            "_view_module": "@jupyter-widgets/base",
            "_view_module_version": "1.2.0",
            "_view_name": "StyleView",
            "bar_color": null,
            "description_width": ""
          }
        },
        "5830d023edf7408796d28ac0cec3d7f8": {
          "model_module": "@jupyter-widgets/base",
          "model_name": "LayoutModel",
          "model_module_version": "1.2.0",
          "state": {
            "_model_module": "@jupyter-widgets/base",
            "_model_module_version": "1.2.0",
            "_model_name": "LayoutModel",
            "_view_count": null,
            "_view_module": "@jupyter-widgets/base",
            "_view_module_version": "1.2.0",
            "_view_name": "LayoutView",
            "align_content": null,
            "align_items": null,
            "align_self": null,
            "border": null,
            "bottom": null,
            "display": null,
            "flex": null,
            "flex_flow": null,
            "grid_area": null,
            "grid_auto_columns": null,
            "grid_auto_flow": null,
            "grid_auto_rows": null,
            "grid_column": null,
            "grid_gap": null,
            "grid_row": null,
            "grid_template_areas": null,
            "grid_template_columns": null,
            "grid_template_rows": null,
            "height": null,
            "justify_content": null,
            "justify_items": null,
            "left": null,
            "margin": null,
            "max_height": null,
            "max_width": null,
            "min_height": null,
            "min_width": null,
            "object_fit": null,
            "object_position": null,
            "order": null,
            "overflow": null,
            "overflow_x": null,
            "overflow_y": null,
            "padding": null,
            "right": null,
            "top": null,
            "visibility": null,
            "width": null
          }
        },
        "05184c35f8e241ec93a6b9164f4c2902": {
          "model_module": "@jupyter-widgets/controls",
          "model_name": "DescriptionStyleModel",
          "model_module_version": "1.5.0",
          "state": {
            "_model_module": "@jupyter-widgets/controls",
            "_model_module_version": "1.5.0",
            "_model_name": "DescriptionStyleModel",
            "_view_count": null,
            "_view_module": "@jupyter-widgets/base",
            "_view_module_version": "1.2.0",
            "_view_name": "StyleView",
            "description_width": ""
          }
        },
        "85b45b8691874fee9cfa00a11401bcb2": {
          "model_module": "@jupyter-widgets/controls",
          "model_name": "HBoxModel",
          "model_module_version": "1.5.0",
          "state": {
            "_dom_classes": [],
            "_model_module": "@jupyter-widgets/controls",
            "_model_module_version": "1.5.0",
            "_model_name": "HBoxModel",
            "_view_count": null,
            "_view_module": "@jupyter-widgets/controls",
            "_view_module_version": "1.5.0",
            "_view_name": "HBoxView",
            "box_style": "",
            "children": [
              "IPY_MODEL_438f7348b711412bb1249b95d0bba454",
              "IPY_MODEL_6b98574938f0432facb5cd2ee2b118a9",
              "IPY_MODEL_b133949ff4ad40709b8ee4d0703aad91"
            ],
            "layout": "IPY_MODEL_010971277cea4448890f95989f9a1ef2"
          }
        },
        "438f7348b711412bb1249b95d0bba454": {
          "model_module": "@jupyter-widgets/controls",
          "model_name": "HTMLModel",
          "model_module_version": "1.5.0",
          "state": {
            "_dom_classes": [],
            "_model_module": "@jupyter-widgets/controls",
            "_model_module_version": "1.5.0",
            "_model_name": "HTMLModel",
            "_view_count": null,
            "_view_module": "@jupyter-widgets/controls",
            "_view_module_version": "1.5.0",
            "_view_name": "HTMLView",
            "description": "",
            "description_tooltip": null,
            "layout": "IPY_MODEL_7f6dd8a0bbb2420f921a4927e25f888d",
            "placeholder": "​",
            "style": "IPY_MODEL_bedff1017bda459fa016a6a988a0a510",
            "value": "Downloading (…)cial_tokens_map.json: 100%"
          }
        },
        "6b98574938f0432facb5cd2ee2b118a9": {
          "model_module": "@jupyter-widgets/controls",
          "model_name": "FloatProgressModel",
          "model_module_version": "1.5.0",
          "state": {
            "_dom_classes": [],
            "_model_module": "@jupyter-widgets/controls",
            "_model_module_version": "1.5.0",
            "_model_name": "FloatProgressModel",
            "_view_count": null,
            "_view_module": "@jupyter-widgets/controls",
            "_view_module_version": "1.5.0",
            "_view_name": "ProgressView",
            "bar_style": "success",
            "description": "",
            "description_tooltip": null,
            "layout": "IPY_MODEL_e20aa61a88de4862906ebc1d032caac5",
            "max": 112,
            "min": 0,
            "orientation": "horizontal",
            "style": "IPY_MODEL_74ead812a45b42549487334558b57701",
            "value": 112
          }
        },
        "b133949ff4ad40709b8ee4d0703aad91": {
          "model_module": "@jupyter-widgets/controls",
          "model_name": "HTMLModel",
          "model_module_version": "1.5.0",
          "state": {
            "_dom_classes": [],
            "_model_module": "@jupyter-widgets/controls",
            "_model_module_version": "1.5.0",
            "_model_name": "HTMLModel",
            "_view_count": null,
            "_view_module": "@jupyter-widgets/controls",
            "_view_module_version": "1.5.0",
            "_view_name": "HTMLView",
            "description": "",
            "description_tooltip": null,
            "layout": "IPY_MODEL_32ee41f04ade4a4094eea918d865c8d3",
            "placeholder": "​",
            "style": "IPY_MODEL_6f06f433b18a4836a21378406ba2c360",
            "value": " 112/112 [00:00&lt;00:00, 11.1kB/s]"
          }
        },
        "010971277cea4448890f95989f9a1ef2": {
          "model_module": "@jupyter-widgets/base",
          "model_name": "LayoutModel",
          "model_module_version": "1.2.0",
          "state": {
            "_model_module": "@jupyter-widgets/base",
            "_model_module_version": "1.2.0",
            "_model_name": "LayoutModel",
            "_view_count": null,
            "_view_module": "@jupyter-widgets/base",
            "_view_module_version": "1.2.0",
            "_view_name": "LayoutView",
            "align_content": null,
            "align_items": null,
            "align_self": null,
            "border": null,
            "bottom": null,
            "display": null,
            "flex": null,
            "flex_flow": null,
            "grid_area": null,
            "grid_auto_columns": null,
            "grid_auto_flow": null,
            "grid_auto_rows": null,
            "grid_column": null,
            "grid_gap": null,
            "grid_row": null,
            "grid_template_areas": null,
            "grid_template_columns": null,
            "grid_template_rows": null,
            "height": null,
            "justify_content": null,
            "justify_items": null,
            "left": null,
            "margin": null,
            "max_height": null,
            "max_width": null,
            "min_height": null,
            "min_width": null,
            "object_fit": null,
            "object_position": null,
            "order": null,
            "overflow": null,
            "overflow_x": null,
            "overflow_y": null,
            "padding": null,
            "right": null,
            "top": null,
            "visibility": null,
            "width": null
          }
        },
        "7f6dd8a0bbb2420f921a4927e25f888d": {
          "model_module": "@jupyter-widgets/base",
          "model_name": "LayoutModel",
          "model_module_version": "1.2.0",
          "state": {
            "_model_module": "@jupyter-widgets/base",
            "_model_module_version": "1.2.0",
            "_model_name": "LayoutModel",
            "_view_count": null,
            "_view_module": "@jupyter-widgets/base",
            "_view_module_version": "1.2.0",
            "_view_name": "LayoutView",
            "align_content": null,
            "align_items": null,
            "align_self": null,
            "border": null,
            "bottom": null,
            "display": null,
            "flex": null,
            "flex_flow": null,
            "grid_area": null,
            "grid_auto_columns": null,
            "grid_auto_flow": null,
            "grid_auto_rows": null,
            "grid_column": null,
            "grid_gap": null,
            "grid_row": null,
            "grid_template_areas": null,
            "grid_template_columns": null,
            "grid_template_rows": null,
            "height": null,
            "justify_content": null,
            "justify_items": null,
            "left": null,
            "margin": null,
            "max_height": null,
            "max_width": null,
            "min_height": null,
            "min_width": null,
            "object_fit": null,
            "object_position": null,
            "order": null,
            "overflow": null,
            "overflow_x": null,
            "overflow_y": null,
            "padding": null,
            "right": null,
            "top": null,
            "visibility": null,
            "width": null
          }
        },
        "bedff1017bda459fa016a6a988a0a510": {
          "model_module": "@jupyter-widgets/controls",
          "model_name": "DescriptionStyleModel",
          "model_module_version": "1.5.0",
          "state": {
            "_model_module": "@jupyter-widgets/controls",
            "_model_module_version": "1.5.0",
            "_model_name": "DescriptionStyleModel",
            "_view_count": null,
            "_view_module": "@jupyter-widgets/base",
            "_view_module_version": "1.2.0",
            "_view_name": "StyleView",
            "description_width": ""
          }
        },
        "e20aa61a88de4862906ebc1d032caac5": {
          "model_module": "@jupyter-widgets/base",
          "model_name": "LayoutModel",
          "model_module_version": "1.2.0",
          "state": {
            "_model_module": "@jupyter-widgets/base",
            "_model_module_version": "1.2.0",
            "_model_name": "LayoutModel",
            "_view_count": null,
            "_view_module": "@jupyter-widgets/base",
            "_view_module_version": "1.2.0",
            "_view_name": "LayoutView",
            "align_content": null,
            "align_items": null,
            "align_self": null,
            "border": null,
            "bottom": null,
            "display": null,
            "flex": null,
            "flex_flow": null,
            "grid_area": null,
            "grid_auto_columns": null,
            "grid_auto_flow": null,
            "grid_auto_rows": null,
            "grid_column": null,
            "grid_gap": null,
            "grid_row": null,
            "grid_template_areas": null,
            "grid_template_columns": null,
            "grid_template_rows": null,
            "height": null,
            "justify_content": null,
            "justify_items": null,
            "left": null,
            "margin": null,
            "max_height": null,
            "max_width": null,
            "min_height": null,
            "min_width": null,
            "object_fit": null,
            "object_position": null,
            "order": null,
            "overflow": null,
            "overflow_x": null,
            "overflow_y": null,
            "padding": null,
            "right": null,
            "top": null,
            "visibility": null,
            "width": null
          }
        },
        "74ead812a45b42549487334558b57701": {
          "model_module": "@jupyter-widgets/controls",
          "model_name": "ProgressStyleModel",
          "model_module_version": "1.5.0",
          "state": {
            "_model_module": "@jupyter-widgets/controls",
            "_model_module_version": "1.5.0",
            "_model_name": "ProgressStyleModel",
            "_view_count": null,
            "_view_module": "@jupyter-widgets/base",
            "_view_module_version": "1.2.0",
            "_view_name": "StyleView",
            "bar_color": null,
            "description_width": ""
          }
        },
        "32ee41f04ade4a4094eea918d865c8d3": {
          "model_module": "@jupyter-widgets/base",
          "model_name": "LayoutModel",
          "model_module_version": "1.2.0",
          "state": {
            "_model_module": "@jupyter-widgets/base",
            "_model_module_version": "1.2.0",
            "_model_name": "LayoutModel",
            "_view_count": null,
            "_view_module": "@jupyter-widgets/base",
            "_view_module_version": "1.2.0",
            "_view_name": "LayoutView",
            "align_content": null,
            "align_items": null,
            "align_self": null,
            "border": null,
            "bottom": null,
            "display": null,
            "flex": null,
            "flex_flow": null,
            "grid_area": null,
            "grid_auto_columns": null,
            "grid_auto_flow": null,
            "grid_auto_rows": null,
            "grid_column": null,
            "grid_gap": null,
            "grid_row": null,
            "grid_template_areas": null,
            "grid_template_columns": null,
            "grid_template_rows": null,
            "height": null,
            "justify_content": null,
            "justify_items": null,
            "left": null,
            "margin": null,
            "max_height": null,
            "max_width": null,
            "min_height": null,
            "min_width": null,
            "object_fit": null,
            "object_position": null,
            "order": null,
            "overflow": null,
            "overflow_x": null,
            "overflow_y": null,
            "padding": null,
            "right": null,
            "top": null,
            "visibility": null,
            "width": null
          }
        },
        "6f06f433b18a4836a21378406ba2c360": {
          "model_module": "@jupyter-widgets/controls",
          "model_name": "DescriptionStyleModel",
          "model_module_version": "1.5.0",
          "state": {
            "_model_module": "@jupyter-widgets/controls",
            "_model_module_version": "1.5.0",
            "_model_name": "DescriptionStyleModel",
            "_view_count": null,
            "_view_module": "@jupyter-widgets/base",
            "_view_module_version": "1.2.0",
            "_view_name": "StyleView",
            "description_width": ""
          }
        },
        "f6bc88fcf21e43a68369924888d21a7e": {
          "model_module": "@jupyter-widgets/controls",
          "model_name": "HBoxModel",
          "model_module_version": "1.5.0",
          "state": {
            "_dom_classes": [],
            "_model_module": "@jupyter-widgets/controls",
            "_model_module_version": "1.5.0",
            "_model_name": "HBoxModel",
            "_view_count": null,
            "_view_module": "@jupyter-widgets/controls",
            "_view_module_version": "1.5.0",
            "_view_name": "HBoxView",
            "box_style": "",
            "children": [
              "IPY_MODEL_54e6f403160d464594c587372340835d",
              "IPY_MODEL_3a9e23fff25d424ba75398debccbbb27",
              "IPY_MODEL_8d5e715327cd40239856efbb71f48ca0"
            ],
            "layout": "IPY_MODEL_a89b3fe3f2494de08350afe6a8d46308"
          }
        },
        "54e6f403160d464594c587372340835d": {
          "model_module": "@jupyter-widgets/controls",
          "model_name": "HTMLModel",
          "model_module_version": "1.5.0",
          "state": {
            "_dom_classes": [],
            "_model_module": "@jupyter-widgets/controls",
            "_model_module_version": "1.5.0",
            "_model_name": "HTMLModel",
            "_view_count": null,
            "_view_module": "@jupyter-widgets/controls",
            "_view_module_version": "1.5.0",
            "_view_name": "HTMLView",
            "description": "",
            "description_tooltip": null,
            "layout": "IPY_MODEL_7e585b1954d54f44bd0d96f7140d574c",
            "placeholder": "​",
            "style": "IPY_MODEL_16ee687d36a04b0fb07aeb732e26b2e3",
            "value": "Downloading (…)e9125/tokenizer.json: "
          }
        },
        "3a9e23fff25d424ba75398debccbbb27": {
          "model_module": "@jupyter-widgets/controls",
          "model_name": "FloatProgressModel",
          "model_module_version": "1.5.0",
          "state": {
            "_dom_classes": [],
            "_model_module": "@jupyter-widgets/controls",
            "_model_module_version": "1.5.0",
            "_model_name": "FloatProgressModel",
            "_view_count": null,
            "_view_module": "@jupyter-widgets/controls",
            "_view_module_version": "1.5.0",
            "_view_name": "ProgressView",
            "bar_style": "success",
            "description": "",
            "description_tooltip": null,
            "layout": "IPY_MODEL_d3628cf7422a402c8fb704709a9ded72",
            "max": 1,
            "min": 0,
            "orientation": "horizontal",
            "style": "IPY_MODEL_6658aa1a3b574913a8d975752c5529ea",
            "value": 1
          }
        },
        "8d5e715327cd40239856efbb71f48ca0": {
          "model_module": "@jupyter-widgets/controls",
          "model_name": "HTMLModel",
          "model_module_version": "1.5.0",
          "state": {
            "_dom_classes": [],
            "_model_module": "@jupyter-widgets/controls",
            "_model_module_version": "1.5.0",
            "_model_name": "HTMLModel",
            "_view_count": null,
            "_view_module": "@jupyter-widgets/controls",
            "_view_module_version": "1.5.0",
            "_view_name": "HTMLView",
            "description": "",
            "description_tooltip": null,
            "layout": "IPY_MODEL_230e998255f14176a856802b59091239",
            "placeholder": "​",
            "style": "IPY_MODEL_ef6171d925ee406dbbdb94931c51a33d",
            "value": " 466k/? [00:00&lt;00:00, 5.20MB/s]"
          }
        },
        "a89b3fe3f2494de08350afe6a8d46308": {
          "model_module": "@jupyter-widgets/base",
          "model_name": "LayoutModel",
          "model_module_version": "1.2.0",
          "state": {
            "_model_module": "@jupyter-widgets/base",
            "_model_module_version": "1.2.0",
            "_model_name": "LayoutModel",
            "_view_count": null,
            "_view_module": "@jupyter-widgets/base",
            "_view_module_version": "1.2.0",
            "_view_name": "LayoutView",
            "align_content": null,
            "align_items": null,
            "align_self": null,
            "border": null,
            "bottom": null,
            "display": null,
            "flex": null,
            "flex_flow": null,
            "grid_area": null,
            "grid_auto_columns": null,
            "grid_auto_flow": null,
            "grid_auto_rows": null,
            "grid_column": null,
            "grid_gap": null,
            "grid_row": null,
            "grid_template_areas": null,
            "grid_template_columns": null,
            "grid_template_rows": null,
            "height": null,
            "justify_content": null,
            "justify_items": null,
            "left": null,
            "margin": null,
            "max_height": null,
            "max_width": null,
            "min_height": null,
            "min_width": null,
            "object_fit": null,
            "object_position": null,
            "order": null,
            "overflow": null,
            "overflow_x": null,
            "overflow_y": null,
            "padding": null,
            "right": null,
            "top": null,
            "visibility": null,
            "width": null
          }
        },
        "7e585b1954d54f44bd0d96f7140d574c": {
          "model_module": "@jupyter-widgets/base",
          "model_name": "LayoutModel",
          "model_module_version": "1.2.0",
          "state": {
            "_model_module": "@jupyter-widgets/base",
            "_model_module_version": "1.2.0",
            "_model_name": "LayoutModel",
            "_view_count": null,
            "_view_module": "@jupyter-widgets/base",
            "_view_module_version": "1.2.0",
            "_view_name": "LayoutView",
            "align_content": null,
            "align_items": null,
            "align_self": null,
            "border": null,
            "bottom": null,
            "display": null,
            "flex": null,
            "flex_flow": null,
            "grid_area": null,
            "grid_auto_columns": null,
            "grid_auto_flow": null,
            "grid_auto_rows": null,
            "grid_column": null,
            "grid_gap": null,
            "grid_row": null,
            "grid_template_areas": null,
            "grid_template_columns": null,
            "grid_template_rows": null,
            "height": null,
            "justify_content": null,
            "justify_items": null,
            "left": null,
            "margin": null,
            "max_height": null,
            "max_width": null,
            "min_height": null,
            "min_width": null,
            "object_fit": null,
            "object_position": null,
            "order": null,
            "overflow": null,
            "overflow_x": null,
            "overflow_y": null,
            "padding": null,
            "right": null,
            "top": null,
            "visibility": null,
            "width": null
          }
        },
        "16ee687d36a04b0fb07aeb732e26b2e3": {
          "model_module": "@jupyter-widgets/controls",
          "model_name": "DescriptionStyleModel",
          "model_module_version": "1.5.0",
          "state": {
            "_model_module": "@jupyter-widgets/controls",
            "_model_module_version": "1.5.0",
            "_model_name": "DescriptionStyleModel",
            "_view_count": null,
            "_view_module": "@jupyter-widgets/base",
            "_view_module_version": "1.2.0",
            "_view_name": "StyleView",
            "description_width": ""
          }
        },
        "d3628cf7422a402c8fb704709a9ded72": {
          "model_module": "@jupyter-widgets/base",
          "model_name": "LayoutModel",
          "model_module_version": "1.2.0",
          "state": {
            "_model_module": "@jupyter-widgets/base",
            "_model_module_version": "1.2.0",
            "_model_name": "LayoutModel",
            "_view_count": null,
            "_view_module": "@jupyter-widgets/base",
            "_view_module_version": "1.2.0",
            "_view_name": "LayoutView",
            "align_content": null,
            "align_items": null,
            "align_self": null,
            "border": null,
            "bottom": null,
            "display": null,
            "flex": null,
            "flex_flow": null,
            "grid_area": null,
            "grid_auto_columns": null,
            "grid_auto_flow": null,
            "grid_auto_rows": null,
            "grid_column": null,
            "grid_gap": null,
            "grid_row": null,
            "grid_template_areas": null,
            "grid_template_columns": null,
            "grid_template_rows": null,
            "height": null,
            "justify_content": null,
            "justify_items": null,
            "left": null,
            "margin": null,
            "max_height": null,
            "max_width": null,
            "min_height": null,
            "min_width": null,
            "object_fit": null,
            "object_position": null,
            "order": null,
            "overflow": null,
            "overflow_x": null,
            "overflow_y": null,
            "padding": null,
            "right": null,
            "top": null,
            "visibility": null,
            "width": "20px"
          }
        },
        "6658aa1a3b574913a8d975752c5529ea": {
          "model_module": "@jupyter-widgets/controls",
          "model_name": "ProgressStyleModel",
          "model_module_version": "1.5.0",
          "state": {
            "_model_module": "@jupyter-widgets/controls",
            "_model_module_version": "1.5.0",
            "_model_name": "ProgressStyleModel",
            "_view_count": null,
            "_view_module": "@jupyter-widgets/base",
            "_view_module_version": "1.2.0",
            "_view_name": "StyleView",
            "bar_color": null,
            "description_width": ""
          }
        },
        "230e998255f14176a856802b59091239": {
          "model_module": "@jupyter-widgets/base",
          "model_name": "LayoutModel",
          "model_module_version": "1.2.0",
          "state": {
            "_model_module": "@jupyter-widgets/base",
            "_model_module_version": "1.2.0",
            "_model_name": "LayoutModel",
            "_view_count": null,
            "_view_module": "@jupyter-widgets/base",
            "_view_module_version": "1.2.0",
            "_view_name": "LayoutView",
            "align_content": null,
            "align_items": null,
            "align_self": null,
            "border": null,
            "bottom": null,
            "display": null,
            "flex": null,
            "flex_flow": null,
            "grid_area": null,
            "grid_auto_columns": null,
            "grid_auto_flow": null,
            "grid_auto_rows": null,
            "grid_column": null,
            "grid_gap": null,
            "grid_row": null,
            "grid_template_areas": null,
            "grid_template_columns": null,
            "grid_template_rows": null,
            "height": null,
            "justify_content": null,
            "justify_items": null,
            "left": null,
            "margin": null,
            "max_height": null,
            "max_width": null,
            "min_height": null,
            "min_width": null,
            "object_fit": null,
            "object_position": null,
            "order": null,
            "overflow": null,
            "overflow_x": null,
            "overflow_y": null,
            "padding": null,
            "right": null,
            "top": null,
            "visibility": null,
            "width": null
          }
        },
        "ef6171d925ee406dbbdb94931c51a33d": {
          "model_module": "@jupyter-widgets/controls",
          "model_name": "DescriptionStyleModel",
          "model_module_version": "1.5.0",
          "state": {
            "_model_module": "@jupyter-widgets/controls",
            "_model_module_version": "1.5.0",
            "_model_name": "DescriptionStyleModel",
            "_view_count": null,
            "_view_module": "@jupyter-widgets/base",
            "_view_module_version": "1.2.0",
            "_view_name": "StyleView",
            "description_width": ""
          }
        },
        "3c742b5e5cb64d7d80712391757f1c9a": {
          "model_module": "@jupyter-widgets/controls",
          "model_name": "HBoxModel",
          "model_module_version": "1.5.0",
          "state": {
            "_dom_classes": [],
            "_model_module": "@jupyter-widgets/controls",
            "_model_module_version": "1.5.0",
            "_model_name": "HBoxModel",
            "_view_count": null,
            "_view_module": "@jupyter-widgets/controls",
            "_view_module_version": "1.5.0",
            "_view_name": "HBoxView",
            "box_style": "",
            "children": [
              "IPY_MODEL_e7a917f8bfb04b5d823d7daa5512080c",
              "IPY_MODEL_b8f278542226478d92c7535a88bab004",
              "IPY_MODEL_2c4452a0f06f457b92760031c58f49d7"
            ],
            "layout": "IPY_MODEL_37de7d7e507c42efb421856bac6666ff"
          }
        },
        "e7a917f8bfb04b5d823d7daa5512080c": {
          "model_module": "@jupyter-widgets/controls",
          "model_name": "HTMLModel",
          "model_module_version": "1.5.0",
          "state": {
            "_dom_classes": [],
            "_model_module": "@jupyter-widgets/controls",
            "_model_module_version": "1.5.0",
            "_model_name": "HTMLModel",
            "_view_count": null,
            "_view_module": "@jupyter-widgets/controls",
            "_view_module_version": "1.5.0",
            "_view_name": "HTMLView",
            "description": "",
            "description_tooltip": null,
            "layout": "IPY_MODEL_32ad11ca08e74020acd951e5e1139111",
            "placeholder": "​",
            "style": "IPY_MODEL_c09caf4c422a46b7a651749ee66fb8cc",
            "value": "Downloading (…)okenizer_config.json: 100%"
          }
        },
        "b8f278542226478d92c7535a88bab004": {
          "model_module": "@jupyter-widgets/controls",
          "model_name": "FloatProgressModel",
          "model_module_version": "1.5.0",
          "state": {
            "_dom_classes": [],
            "_model_module": "@jupyter-widgets/controls",
            "_model_module_version": "1.5.0",
            "_model_name": "FloatProgressModel",
            "_view_count": null,
            "_view_module": "@jupyter-widgets/controls",
            "_view_module_version": "1.5.0",
            "_view_name": "ProgressView",
            "bar_style": "success",
            "description": "",
            "description_tooltip": null,
            "layout": "IPY_MODEL_feb0559f91cf40a383d69a01588f23ee",
            "max": 350,
            "min": 0,
            "orientation": "horizontal",
            "style": "IPY_MODEL_d3ebe91c38694bec9b9d601fc8845621",
            "value": 350
          }
        },
        "2c4452a0f06f457b92760031c58f49d7": {
          "model_module": "@jupyter-widgets/controls",
          "model_name": "HTMLModel",
          "model_module_version": "1.5.0",
          "state": {
            "_dom_classes": [],
            "_model_module": "@jupyter-widgets/controls",
            "_model_module_version": "1.5.0",
            "_model_name": "HTMLModel",
            "_view_count": null,
            "_view_module": "@jupyter-widgets/controls",
            "_view_module_version": "1.5.0",
            "_view_name": "HTMLView",
            "description": "",
            "description_tooltip": null,
            "layout": "IPY_MODEL_e92753855d6e4487a85577e7c10d5909",
            "placeholder": "​",
            "style": "IPY_MODEL_160a3b41938948bcb962b13ae77dddfa",
            "value": " 350/350 [00:00&lt;00:00, 17.6kB/s]"
          }
        },
        "37de7d7e507c42efb421856bac6666ff": {
          "model_module": "@jupyter-widgets/base",
          "model_name": "LayoutModel",
          "model_module_version": "1.2.0",
          "state": {
            "_model_module": "@jupyter-widgets/base",
            "_model_module_version": "1.2.0",
            "_model_name": "LayoutModel",
            "_view_count": null,
            "_view_module": "@jupyter-widgets/base",
            "_view_module_version": "1.2.0",
            "_view_name": "LayoutView",
            "align_content": null,
            "align_items": null,
            "align_self": null,
            "border": null,
            "bottom": null,
            "display": null,
            "flex": null,
            "flex_flow": null,
            "grid_area": null,
            "grid_auto_columns": null,
            "grid_auto_flow": null,
            "grid_auto_rows": null,
            "grid_column": null,
            "grid_gap": null,
            "grid_row": null,
            "grid_template_areas": null,
            "grid_template_columns": null,
            "grid_template_rows": null,
            "height": null,
            "justify_content": null,
            "justify_items": null,
            "left": null,
            "margin": null,
            "max_height": null,
            "max_width": null,
            "min_height": null,
            "min_width": null,
            "object_fit": null,
            "object_position": null,
            "order": null,
            "overflow": null,
            "overflow_x": null,
            "overflow_y": null,
            "padding": null,
            "right": null,
            "top": null,
            "visibility": null,
            "width": null
          }
        },
        "32ad11ca08e74020acd951e5e1139111": {
          "model_module": "@jupyter-widgets/base",
          "model_name": "LayoutModel",
          "model_module_version": "1.2.0",
          "state": {
            "_model_module": "@jupyter-widgets/base",
            "_model_module_version": "1.2.0",
            "_model_name": "LayoutModel",
            "_view_count": null,
            "_view_module": "@jupyter-widgets/base",
            "_view_module_version": "1.2.0",
            "_view_name": "LayoutView",
            "align_content": null,
            "align_items": null,
            "align_self": null,
            "border": null,
            "bottom": null,
            "display": null,
            "flex": null,
            "flex_flow": null,
            "grid_area": null,
            "grid_auto_columns": null,
            "grid_auto_flow": null,
            "grid_auto_rows": null,
            "grid_column": null,
            "grid_gap": null,
            "grid_row": null,
            "grid_template_areas": null,
            "grid_template_columns": null,
            "grid_template_rows": null,
            "height": null,
            "justify_content": null,
            "justify_items": null,
            "left": null,
            "margin": null,
            "max_height": null,
            "max_width": null,
            "min_height": null,
            "min_width": null,
            "object_fit": null,
            "object_position": null,
            "order": null,
            "overflow": null,
            "overflow_x": null,
            "overflow_y": null,
            "padding": null,
            "right": null,
            "top": null,
            "visibility": null,
            "width": null
          }
        },
        "c09caf4c422a46b7a651749ee66fb8cc": {
          "model_module": "@jupyter-widgets/controls",
          "model_name": "DescriptionStyleModel",
          "model_module_version": "1.5.0",
          "state": {
            "_model_module": "@jupyter-widgets/controls",
            "_model_module_version": "1.5.0",
            "_model_name": "DescriptionStyleModel",
            "_view_count": null,
            "_view_module": "@jupyter-widgets/base",
            "_view_module_version": "1.2.0",
            "_view_name": "StyleView",
            "description_width": ""
          }
        },
        "feb0559f91cf40a383d69a01588f23ee": {
          "model_module": "@jupyter-widgets/base",
          "model_name": "LayoutModel",
          "model_module_version": "1.2.0",
          "state": {
            "_model_module": "@jupyter-widgets/base",
            "_model_module_version": "1.2.0",
            "_model_name": "LayoutModel",
            "_view_count": null,
            "_view_module": "@jupyter-widgets/base",
            "_view_module_version": "1.2.0",
            "_view_name": "LayoutView",
            "align_content": null,
            "align_items": null,
            "align_self": null,
            "border": null,
            "bottom": null,
            "display": null,
            "flex": null,
            "flex_flow": null,
            "grid_area": null,
            "grid_auto_columns": null,
            "grid_auto_flow": null,
            "grid_auto_rows": null,
            "grid_column": null,
            "grid_gap": null,
            "grid_row": null,
            "grid_template_areas": null,
            "grid_template_columns": null,
            "grid_template_rows": null,
            "height": null,
            "justify_content": null,
            "justify_items": null,
            "left": null,
            "margin": null,
            "max_height": null,
            "max_width": null,
            "min_height": null,
            "min_width": null,
            "object_fit": null,
            "object_position": null,
            "order": null,
            "overflow": null,
            "overflow_x": null,
            "overflow_y": null,
            "padding": null,
            "right": null,
            "top": null,
            "visibility": null,
            "width": null
          }
        },
        "d3ebe91c38694bec9b9d601fc8845621": {
          "model_module": "@jupyter-widgets/controls",
          "model_name": "ProgressStyleModel",
          "model_module_version": "1.5.0",
          "state": {
            "_model_module": "@jupyter-widgets/controls",
            "_model_module_version": "1.5.0",
            "_model_name": "ProgressStyleModel",
            "_view_count": null,
            "_view_module": "@jupyter-widgets/base",
            "_view_module_version": "1.2.0",
            "_view_name": "StyleView",
            "bar_color": null,
            "description_width": ""
          }
        },
        "e92753855d6e4487a85577e7c10d5909": {
          "model_module": "@jupyter-widgets/base",
          "model_name": "LayoutModel",
          "model_module_version": "1.2.0",
          "state": {
            "_model_module": "@jupyter-widgets/base",
            "_model_module_version": "1.2.0",
            "_model_name": "LayoutModel",
            "_view_count": null,
            "_view_module": "@jupyter-widgets/base",
            "_view_module_version": "1.2.0",
            "_view_name": "LayoutView",
            "align_content": null,
            "align_items": null,
            "align_self": null,
            "border": null,
            "bottom": null,
            "display": null,
            "flex": null,
            "flex_flow": null,
            "grid_area": null,
            "grid_auto_columns": null,
            "grid_auto_flow": null,
            "grid_auto_rows": null,
            "grid_column": null,
            "grid_gap": null,
            "grid_row": null,
            "grid_template_areas": null,
            "grid_template_columns": null,
            "grid_template_rows": null,
            "height": null,
            "justify_content": null,
            "justify_items": null,
            "left": null,
            "margin": null,
            "max_height": null,
            "max_width": null,
            "min_height": null,
            "min_width": null,
            "object_fit": null,
            "object_position": null,
            "order": null,
            "overflow": null,
            "overflow_x": null,
            "overflow_y": null,
            "padding": null,
            "right": null,
            "top": null,
            "visibility": null,
            "width": null
          }
        },
        "160a3b41938948bcb962b13ae77dddfa": {
          "model_module": "@jupyter-widgets/controls",
          "model_name": "DescriptionStyleModel",
          "model_module_version": "1.5.0",
          "state": {
            "_model_module": "@jupyter-widgets/controls",
            "_model_module_version": "1.5.0",
            "_model_name": "DescriptionStyleModel",
            "_view_count": null,
            "_view_module": "@jupyter-widgets/base",
            "_view_module_version": "1.2.0",
            "_view_name": "StyleView",
            "description_width": ""
          }
        },
        "6a2fa6785d05460e8b2350c79672ccad": {
          "model_module": "@jupyter-widgets/controls",
          "model_name": "HBoxModel",
          "model_module_version": "1.5.0",
          "state": {
            "_dom_classes": [],
            "_model_module": "@jupyter-widgets/controls",
            "_model_module_version": "1.5.0",
            "_model_name": "HBoxModel",
            "_view_count": null,
            "_view_module": "@jupyter-widgets/controls",
            "_view_module_version": "1.5.0",
            "_view_name": "HBoxView",
            "box_style": "",
            "children": [
              "IPY_MODEL_af0c1295c6a847eca8b28d8d339c70af",
              "IPY_MODEL_b5b27fdcad784bec920d027e2b8460c3",
              "IPY_MODEL_9cbeb37672b94c27b91f21795a473cbf"
            ],
            "layout": "IPY_MODEL_ae9bcdc177a54e02b1d2cfd60244672e"
          }
        },
        "af0c1295c6a847eca8b28d8d339c70af": {
          "model_module": "@jupyter-widgets/controls",
          "model_name": "HTMLModel",
          "model_module_version": "1.5.0",
          "state": {
            "_dom_classes": [],
            "_model_module": "@jupyter-widgets/controls",
            "_model_module_version": "1.5.0",
            "_model_name": "HTMLModel",
            "_view_count": null,
            "_view_module": "@jupyter-widgets/controls",
            "_view_module_version": "1.5.0",
            "_view_name": "HTMLView",
            "description": "",
            "description_tooltip": null,
            "layout": "IPY_MODEL_c518481a27cc46f28d5e4225ec2b9ace",
            "placeholder": "​",
            "style": "IPY_MODEL_cb78a747360143efabbc84bcdcf8c660",
            "value": "Downloading (…)9125/train_script.py: "
          }
        },
        "b5b27fdcad784bec920d027e2b8460c3": {
          "model_module": "@jupyter-widgets/controls",
          "model_name": "FloatProgressModel",
          "model_module_version": "1.5.0",
          "state": {
            "_dom_classes": [],
            "_model_module": "@jupyter-widgets/controls",
            "_model_module_version": "1.5.0",
            "_model_name": "FloatProgressModel",
            "_view_count": null,
            "_view_module": "@jupyter-widgets/controls",
            "_view_module_version": "1.5.0",
            "_view_name": "ProgressView",
            "bar_style": "success",
            "description": "",
            "description_tooltip": null,
            "layout": "IPY_MODEL_b8151005df88477bb6a7b6f34f303986",
            "max": 1,
            "min": 0,
            "orientation": "horizontal",
            "style": "IPY_MODEL_6e21c19ddf8246dd9d2f7314daf9d5cd",
            "value": 1
          }
        },
        "9cbeb37672b94c27b91f21795a473cbf": {
          "model_module": "@jupyter-widgets/controls",
          "model_name": "HTMLModel",
          "model_module_version": "1.5.0",
          "state": {
            "_dom_classes": [],
            "_model_module": "@jupyter-widgets/controls",
            "_model_module_version": "1.5.0",
            "_model_name": "HTMLModel",
            "_view_count": null,
            "_view_module": "@jupyter-widgets/controls",
            "_view_module_version": "1.5.0",
            "_view_name": "HTMLView",
            "description": "",
            "description_tooltip": null,
            "layout": "IPY_MODEL_b0170cda53d745389bf0ee6ab7cd263e",
            "placeholder": "​",
            "style": "IPY_MODEL_3db5c8ca504b4321b855c3d7d7860679",
            "value": " 13.2k/? [00:00&lt;00:00, 489kB/s]"
          }
        },
        "ae9bcdc177a54e02b1d2cfd60244672e": {
          "model_module": "@jupyter-widgets/base",
          "model_name": "LayoutModel",
          "model_module_version": "1.2.0",
          "state": {
            "_model_module": "@jupyter-widgets/base",
            "_model_module_version": "1.2.0",
            "_model_name": "LayoutModel",
            "_view_count": null,
            "_view_module": "@jupyter-widgets/base",
            "_view_module_version": "1.2.0",
            "_view_name": "LayoutView",
            "align_content": null,
            "align_items": null,
            "align_self": null,
            "border": null,
            "bottom": null,
            "display": null,
            "flex": null,
            "flex_flow": null,
            "grid_area": null,
            "grid_auto_columns": null,
            "grid_auto_flow": null,
            "grid_auto_rows": null,
            "grid_column": null,
            "grid_gap": null,
            "grid_row": null,
            "grid_template_areas": null,
            "grid_template_columns": null,
            "grid_template_rows": null,
            "height": null,
            "justify_content": null,
            "justify_items": null,
            "left": null,
            "margin": null,
            "max_height": null,
            "max_width": null,
            "min_height": null,
            "min_width": null,
            "object_fit": null,
            "object_position": null,
            "order": null,
            "overflow": null,
            "overflow_x": null,
            "overflow_y": null,
            "padding": null,
            "right": null,
            "top": null,
            "visibility": null,
            "width": null
          }
        },
        "c518481a27cc46f28d5e4225ec2b9ace": {
          "model_module": "@jupyter-widgets/base",
          "model_name": "LayoutModel",
          "model_module_version": "1.2.0",
          "state": {
            "_model_module": "@jupyter-widgets/base",
            "_model_module_version": "1.2.0",
            "_model_name": "LayoutModel",
            "_view_count": null,
            "_view_module": "@jupyter-widgets/base",
            "_view_module_version": "1.2.0",
            "_view_name": "LayoutView",
            "align_content": null,
            "align_items": null,
            "align_self": null,
            "border": null,
            "bottom": null,
            "display": null,
            "flex": null,
            "flex_flow": null,
            "grid_area": null,
            "grid_auto_columns": null,
            "grid_auto_flow": null,
            "grid_auto_rows": null,
            "grid_column": null,
            "grid_gap": null,
            "grid_row": null,
            "grid_template_areas": null,
            "grid_template_columns": null,
            "grid_template_rows": null,
            "height": null,
            "justify_content": null,
            "justify_items": null,
            "left": null,
            "margin": null,
            "max_height": null,
            "max_width": null,
            "min_height": null,
            "min_width": null,
            "object_fit": null,
            "object_position": null,
            "order": null,
            "overflow": null,
            "overflow_x": null,
            "overflow_y": null,
            "padding": null,
            "right": null,
            "top": null,
            "visibility": null,
            "width": null
          }
        },
        "cb78a747360143efabbc84bcdcf8c660": {
          "model_module": "@jupyter-widgets/controls",
          "model_name": "DescriptionStyleModel",
          "model_module_version": "1.5.0",
          "state": {
            "_model_module": "@jupyter-widgets/controls",
            "_model_module_version": "1.5.0",
            "_model_name": "DescriptionStyleModel",
            "_view_count": null,
            "_view_module": "@jupyter-widgets/base",
            "_view_module_version": "1.2.0",
            "_view_name": "StyleView",
            "description_width": ""
          }
        },
        "b8151005df88477bb6a7b6f34f303986": {
          "model_module": "@jupyter-widgets/base",
          "model_name": "LayoutModel",
          "model_module_version": "1.2.0",
          "state": {
            "_model_module": "@jupyter-widgets/base",
            "_model_module_version": "1.2.0",
            "_model_name": "LayoutModel",
            "_view_count": null,
            "_view_module": "@jupyter-widgets/base",
            "_view_module_version": "1.2.0",
            "_view_name": "LayoutView",
            "align_content": null,
            "align_items": null,
            "align_self": null,
            "border": null,
            "bottom": null,
            "display": null,
            "flex": null,
            "flex_flow": null,
            "grid_area": null,
            "grid_auto_columns": null,
            "grid_auto_flow": null,
            "grid_auto_rows": null,
            "grid_column": null,
            "grid_gap": null,
            "grid_row": null,
            "grid_template_areas": null,
            "grid_template_columns": null,
            "grid_template_rows": null,
            "height": null,
            "justify_content": null,
            "justify_items": null,
            "left": null,
            "margin": null,
            "max_height": null,
            "max_width": null,
            "min_height": null,
            "min_width": null,
            "object_fit": null,
            "object_position": null,
            "order": null,
            "overflow": null,
            "overflow_x": null,
            "overflow_y": null,
            "padding": null,
            "right": null,
            "top": null,
            "visibility": null,
            "width": "20px"
          }
        },
        "6e21c19ddf8246dd9d2f7314daf9d5cd": {
          "model_module": "@jupyter-widgets/controls",
          "model_name": "ProgressStyleModel",
          "model_module_version": "1.5.0",
          "state": {
            "_model_module": "@jupyter-widgets/controls",
            "_model_module_version": "1.5.0",
            "_model_name": "ProgressStyleModel",
            "_view_count": null,
            "_view_module": "@jupyter-widgets/base",
            "_view_module_version": "1.2.0",
            "_view_name": "StyleView",
            "bar_color": null,
            "description_width": ""
          }
        },
        "b0170cda53d745389bf0ee6ab7cd263e": {
          "model_module": "@jupyter-widgets/base",
          "model_name": "LayoutModel",
          "model_module_version": "1.2.0",
          "state": {
            "_model_module": "@jupyter-widgets/base",
            "_model_module_version": "1.2.0",
            "_model_name": "LayoutModel",
            "_view_count": null,
            "_view_module": "@jupyter-widgets/base",
            "_view_module_version": "1.2.0",
            "_view_name": "LayoutView",
            "align_content": null,
            "align_items": null,
            "align_self": null,
            "border": null,
            "bottom": null,
            "display": null,
            "flex": null,
            "flex_flow": null,
            "grid_area": null,
            "grid_auto_columns": null,
            "grid_auto_flow": null,
            "grid_auto_rows": null,
            "grid_column": null,
            "grid_gap": null,
            "grid_row": null,
            "grid_template_areas": null,
            "grid_template_columns": null,
            "grid_template_rows": null,
            "height": null,
            "justify_content": null,
            "justify_items": null,
            "left": null,
            "margin": null,
            "max_height": null,
            "max_width": null,
            "min_height": null,
            "min_width": null,
            "object_fit": null,
            "object_position": null,
            "order": null,
            "overflow": null,
            "overflow_x": null,
            "overflow_y": null,
            "padding": null,
            "right": null,
            "top": null,
            "visibility": null,
            "width": null
          }
        },
        "3db5c8ca504b4321b855c3d7d7860679": {
          "model_module": "@jupyter-widgets/controls",
          "model_name": "DescriptionStyleModel",
          "model_module_version": "1.5.0",
          "state": {
            "_model_module": "@jupyter-widgets/controls",
            "_model_module_version": "1.5.0",
            "_model_name": "DescriptionStyleModel",
            "_view_count": null,
            "_view_module": "@jupyter-widgets/base",
            "_view_module_version": "1.2.0",
            "_view_name": "StyleView",
            "description_width": ""
          }
        },
        "ae821c0c33dc435c9c474c88db3b96e1": {
          "model_module": "@jupyter-widgets/controls",
          "model_name": "HBoxModel",
          "model_module_version": "1.5.0",
          "state": {
            "_dom_classes": [],
            "_model_module": "@jupyter-widgets/controls",
            "_model_module_version": "1.5.0",
            "_model_name": "HBoxModel",
            "_view_count": null,
            "_view_module": "@jupyter-widgets/controls",
            "_view_module_version": "1.5.0",
            "_view_name": "HBoxView",
            "box_style": "",
            "children": [
              "IPY_MODEL_24489a36e69645a6b9221a073bb0830d",
              "IPY_MODEL_cf579ca8f48d4a18b5c7645dee1ff351",
              "IPY_MODEL_5948817fb8c645ca921d5b37825f725e"
            ],
            "layout": "IPY_MODEL_4bc3176d144d4367b5aeadd507788717"
          }
        },
        "24489a36e69645a6b9221a073bb0830d": {
          "model_module": "@jupyter-widgets/controls",
          "model_name": "HTMLModel",
          "model_module_version": "1.5.0",
          "state": {
            "_dom_classes": [],
            "_model_module": "@jupyter-widgets/controls",
            "_model_module_version": "1.5.0",
            "_model_name": "HTMLModel",
            "_view_count": null,
            "_view_module": "@jupyter-widgets/controls",
            "_view_module_version": "1.5.0",
            "_view_name": "HTMLView",
            "description": "",
            "description_tooltip": null,
            "layout": "IPY_MODEL_b2f407f5d5834c29b83849c67a54c702",
            "placeholder": "​",
            "style": "IPY_MODEL_826ae886d4a043f58ca3cba0b45a7142",
            "value": "Downloading (…)7e55de9125/vocab.txt: "
          }
        },
        "cf579ca8f48d4a18b5c7645dee1ff351": {
          "model_module": "@jupyter-widgets/controls",
          "model_name": "FloatProgressModel",
          "model_module_version": "1.5.0",
          "state": {
            "_dom_classes": [],
            "_model_module": "@jupyter-widgets/controls",
            "_model_module_version": "1.5.0",
            "_model_name": "FloatProgressModel",
            "_view_count": null,
            "_view_module": "@jupyter-widgets/controls",
            "_view_module_version": "1.5.0",
            "_view_name": "ProgressView",
            "bar_style": "success",
            "description": "",
            "description_tooltip": null,
            "layout": "IPY_MODEL_c94a5a41893d42229ee98f2dd37c36e1",
            "max": 1,
            "min": 0,
            "orientation": "horizontal",
            "style": "IPY_MODEL_37647a339ca74b2bb8b714b32a3c9706",
            "value": 1
          }
        },
        "5948817fb8c645ca921d5b37825f725e": {
          "model_module": "@jupyter-widgets/controls",
          "model_name": "HTMLModel",
          "model_module_version": "1.5.0",
          "state": {
            "_dom_classes": [],
            "_model_module": "@jupyter-widgets/controls",
            "_model_module_version": "1.5.0",
            "_model_name": "HTMLModel",
            "_view_count": null,
            "_view_module": "@jupyter-widgets/controls",
            "_view_module_version": "1.5.0",
            "_view_name": "HTMLView",
            "description": "",
            "description_tooltip": null,
            "layout": "IPY_MODEL_ecae891430104557aaab94ce85464375",
            "placeholder": "​",
            "style": "IPY_MODEL_891d83740da146439973192ecc7ec226",
            "value": " 232k/? [00:00&lt;00:00, 10.8MB/s]"
          }
        },
        "4bc3176d144d4367b5aeadd507788717": {
          "model_module": "@jupyter-widgets/base",
          "model_name": "LayoutModel",
          "model_module_version": "1.2.0",
          "state": {
            "_model_module": "@jupyter-widgets/base",
            "_model_module_version": "1.2.0",
            "_model_name": "LayoutModel",
            "_view_count": null,
            "_view_module": "@jupyter-widgets/base",
            "_view_module_version": "1.2.0",
            "_view_name": "LayoutView",
            "align_content": null,
            "align_items": null,
            "align_self": null,
            "border": null,
            "bottom": null,
            "display": null,
            "flex": null,
            "flex_flow": null,
            "grid_area": null,
            "grid_auto_columns": null,
            "grid_auto_flow": null,
            "grid_auto_rows": null,
            "grid_column": null,
            "grid_gap": null,
            "grid_row": null,
            "grid_template_areas": null,
            "grid_template_columns": null,
            "grid_template_rows": null,
            "height": null,
            "justify_content": null,
            "justify_items": null,
            "left": null,
            "margin": null,
            "max_height": null,
            "max_width": null,
            "min_height": null,
            "min_width": null,
            "object_fit": null,
            "object_position": null,
            "order": null,
            "overflow": null,
            "overflow_x": null,
            "overflow_y": null,
            "padding": null,
            "right": null,
            "top": null,
            "visibility": null,
            "width": null
          }
        },
        "b2f407f5d5834c29b83849c67a54c702": {
          "model_module": "@jupyter-widgets/base",
          "model_name": "LayoutModel",
          "model_module_version": "1.2.0",
          "state": {
            "_model_module": "@jupyter-widgets/base",
            "_model_module_version": "1.2.0",
            "_model_name": "LayoutModel",
            "_view_count": null,
            "_view_module": "@jupyter-widgets/base",
            "_view_module_version": "1.2.0",
            "_view_name": "LayoutView",
            "align_content": null,
            "align_items": null,
            "align_self": null,
            "border": null,
            "bottom": null,
            "display": null,
            "flex": null,
            "flex_flow": null,
            "grid_area": null,
            "grid_auto_columns": null,
            "grid_auto_flow": null,
            "grid_auto_rows": null,
            "grid_column": null,
            "grid_gap": null,
            "grid_row": null,
            "grid_template_areas": null,
            "grid_template_columns": null,
            "grid_template_rows": null,
            "height": null,
            "justify_content": null,
            "justify_items": null,
            "left": null,
            "margin": null,
            "max_height": null,
            "max_width": null,
            "min_height": null,
            "min_width": null,
            "object_fit": null,
            "object_position": null,
            "order": null,
            "overflow": null,
            "overflow_x": null,
            "overflow_y": null,
            "padding": null,
            "right": null,
            "top": null,
            "visibility": null,
            "width": null
          }
        },
        "826ae886d4a043f58ca3cba0b45a7142": {
          "model_module": "@jupyter-widgets/controls",
          "model_name": "DescriptionStyleModel",
          "model_module_version": "1.5.0",
          "state": {
            "_model_module": "@jupyter-widgets/controls",
            "_model_module_version": "1.5.0",
            "_model_name": "DescriptionStyleModel",
            "_view_count": null,
            "_view_module": "@jupyter-widgets/base",
            "_view_module_version": "1.2.0",
            "_view_name": "StyleView",
            "description_width": ""
          }
        },
        "c94a5a41893d42229ee98f2dd37c36e1": {
          "model_module": "@jupyter-widgets/base",
          "model_name": "LayoutModel",
          "model_module_version": "1.2.0",
          "state": {
            "_model_module": "@jupyter-widgets/base",
            "_model_module_version": "1.2.0",
            "_model_name": "LayoutModel",
            "_view_count": null,
            "_view_module": "@jupyter-widgets/base",
            "_view_module_version": "1.2.0",
            "_view_name": "LayoutView",
            "align_content": null,
            "align_items": null,
            "align_self": null,
            "border": null,
            "bottom": null,
            "display": null,
            "flex": null,
            "flex_flow": null,
            "grid_area": null,
            "grid_auto_columns": null,
            "grid_auto_flow": null,
            "grid_auto_rows": null,
            "grid_column": null,
            "grid_gap": null,
            "grid_row": null,
            "grid_template_areas": null,
            "grid_template_columns": null,
            "grid_template_rows": null,
            "height": null,
            "justify_content": null,
            "justify_items": null,
            "left": null,
            "margin": null,
            "max_height": null,
            "max_width": null,
            "min_height": null,
            "min_width": null,
            "object_fit": null,
            "object_position": null,
            "order": null,
            "overflow": null,
            "overflow_x": null,
            "overflow_y": null,
            "padding": null,
            "right": null,
            "top": null,
            "visibility": null,
            "width": "20px"
          }
        },
        "37647a339ca74b2bb8b714b32a3c9706": {
          "model_module": "@jupyter-widgets/controls",
          "model_name": "ProgressStyleModel",
          "model_module_version": "1.5.0",
          "state": {
            "_model_module": "@jupyter-widgets/controls",
            "_model_module_version": "1.5.0",
            "_model_name": "ProgressStyleModel",
            "_view_count": null,
            "_view_module": "@jupyter-widgets/base",
            "_view_module_version": "1.2.0",
            "_view_name": "StyleView",
            "bar_color": null,
            "description_width": ""
          }
        },
        "ecae891430104557aaab94ce85464375": {
          "model_module": "@jupyter-widgets/base",
          "model_name": "LayoutModel",
          "model_module_version": "1.2.0",
          "state": {
            "_model_module": "@jupyter-widgets/base",
            "_model_module_version": "1.2.0",
            "_model_name": "LayoutModel",
            "_view_count": null,
            "_view_module": "@jupyter-widgets/base",
            "_view_module_version": "1.2.0",
            "_view_name": "LayoutView",
            "align_content": null,
            "align_items": null,
            "align_self": null,
            "border": null,
            "bottom": null,
            "display": null,
            "flex": null,
            "flex_flow": null,
            "grid_area": null,
            "grid_auto_columns": null,
            "grid_auto_flow": null,
            "grid_auto_rows": null,
            "grid_column": null,
            "grid_gap": null,
            "grid_row": null,
            "grid_template_areas": null,
            "grid_template_columns": null,
            "grid_template_rows": null,
            "height": null,
            "justify_content": null,
            "justify_items": null,
            "left": null,
            "margin": null,
            "max_height": null,
            "max_width": null,
            "min_height": null,
            "min_width": null,
            "object_fit": null,
            "object_position": null,
            "order": null,
            "overflow": null,
            "overflow_x": null,
            "overflow_y": null,
            "padding": null,
            "right": null,
            "top": null,
            "visibility": null,
            "width": null
          }
        },
        "891d83740da146439973192ecc7ec226": {
          "model_module": "@jupyter-widgets/controls",
          "model_name": "DescriptionStyleModel",
          "model_module_version": "1.5.0",
          "state": {
            "_model_module": "@jupyter-widgets/controls",
            "_model_module_version": "1.5.0",
            "_model_name": "DescriptionStyleModel",
            "_view_count": null,
            "_view_module": "@jupyter-widgets/base",
            "_view_module_version": "1.2.0",
            "_view_name": "StyleView",
            "description_width": ""
          }
        },
        "9ef90cc8995c4b858a16d9bca2e3b551": {
          "model_module": "@jupyter-widgets/controls",
          "model_name": "HBoxModel",
          "model_module_version": "1.5.0",
          "state": {
            "_dom_classes": [],
            "_model_module": "@jupyter-widgets/controls",
            "_model_module_version": "1.5.0",
            "_model_name": "HBoxModel",
            "_view_count": null,
            "_view_module": "@jupyter-widgets/controls",
            "_view_module_version": "1.5.0",
            "_view_name": "HBoxView",
            "box_style": "",
            "children": [
              "IPY_MODEL_f03f60ad0ee6468f84c030a4b4864ebd",
              "IPY_MODEL_2c0c3f9cebd74645b024155c4ce313ae",
              "IPY_MODEL_fd33849dd2fa411b96b33468a155ff40"
            ],
            "layout": "IPY_MODEL_425ebf855f014a928a33cc1e2c50d1d7"
          }
        },
        "f03f60ad0ee6468f84c030a4b4864ebd": {
          "model_module": "@jupyter-widgets/controls",
          "model_name": "HTMLModel",
          "model_module_version": "1.5.0",
          "state": {
            "_dom_classes": [],
            "_model_module": "@jupyter-widgets/controls",
            "_model_module_version": "1.5.0",
            "_model_name": "HTMLModel",
            "_view_count": null,
            "_view_module": "@jupyter-widgets/controls",
            "_view_module_version": "1.5.0",
            "_view_name": "HTMLView",
            "description": "",
            "description_tooltip": null,
            "layout": "IPY_MODEL_e6d171b728ca4e04b114a372bc0731ec",
            "placeholder": "​",
            "style": "IPY_MODEL_4327f2388039479b982f7014bcf0098a",
            "value": "Downloading (…)5de9125/modules.json: 100%"
          }
        },
        "2c0c3f9cebd74645b024155c4ce313ae": {
          "model_module": "@jupyter-widgets/controls",
          "model_name": "FloatProgressModel",
          "model_module_version": "1.5.0",
          "state": {
            "_dom_classes": [],
            "_model_module": "@jupyter-widgets/controls",
            "_model_module_version": "1.5.0",
            "_model_name": "FloatProgressModel",
            "_view_count": null,
            "_view_module": "@jupyter-widgets/controls",
            "_view_module_version": "1.5.0",
            "_view_name": "ProgressView",
            "bar_style": "success",
            "description": "",
            "description_tooltip": null,
            "layout": "IPY_MODEL_4627503730ec4c88bdac8e1c02bcedc8",
            "max": 349,
            "min": 0,
            "orientation": "horizontal",
            "style": "IPY_MODEL_3eb5071b948f454b831c76647d24bac2",
            "value": 349
          }
        },
        "fd33849dd2fa411b96b33468a155ff40": {
          "model_module": "@jupyter-widgets/controls",
          "model_name": "HTMLModel",
          "model_module_version": "1.5.0",
          "state": {
            "_dom_classes": [],
            "_model_module": "@jupyter-widgets/controls",
            "_model_module_version": "1.5.0",
            "_model_name": "HTMLModel",
            "_view_count": null,
            "_view_module": "@jupyter-widgets/controls",
            "_view_module_version": "1.5.0",
            "_view_name": "HTMLView",
            "description": "",
            "description_tooltip": null,
            "layout": "IPY_MODEL_14fca18dcaa24c33bc1c6fb1d3793bb9",
            "placeholder": "​",
            "style": "IPY_MODEL_f965f6721d9943bbb16600e2cdc5004d",
            "value": " 349/349 [00:00&lt;00:00, 16.5kB/s]"
          }
        },
        "425ebf855f014a928a33cc1e2c50d1d7": {
          "model_module": "@jupyter-widgets/base",
          "model_name": "LayoutModel",
          "model_module_version": "1.2.0",
          "state": {
            "_model_module": "@jupyter-widgets/base",
            "_model_module_version": "1.2.0",
            "_model_name": "LayoutModel",
            "_view_count": null,
            "_view_module": "@jupyter-widgets/base",
            "_view_module_version": "1.2.0",
            "_view_name": "LayoutView",
            "align_content": null,
            "align_items": null,
            "align_self": null,
            "border": null,
            "bottom": null,
            "display": null,
            "flex": null,
            "flex_flow": null,
            "grid_area": null,
            "grid_auto_columns": null,
            "grid_auto_flow": null,
            "grid_auto_rows": null,
            "grid_column": null,
            "grid_gap": null,
            "grid_row": null,
            "grid_template_areas": null,
            "grid_template_columns": null,
            "grid_template_rows": null,
            "height": null,
            "justify_content": null,
            "justify_items": null,
            "left": null,
            "margin": null,
            "max_height": null,
            "max_width": null,
            "min_height": null,
            "min_width": null,
            "object_fit": null,
            "object_position": null,
            "order": null,
            "overflow": null,
            "overflow_x": null,
            "overflow_y": null,
            "padding": null,
            "right": null,
            "top": null,
            "visibility": null,
            "width": null
          }
        },
        "e6d171b728ca4e04b114a372bc0731ec": {
          "model_module": "@jupyter-widgets/base",
          "model_name": "LayoutModel",
          "model_module_version": "1.2.0",
          "state": {
            "_model_module": "@jupyter-widgets/base",
            "_model_module_version": "1.2.0",
            "_model_name": "LayoutModel",
            "_view_count": null,
            "_view_module": "@jupyter-widgets/base",
            "_view_module_version": "1.2.0",
            "_view_name": "LayoutView",
            "align_content": null,
            "align_items": null,
            "align_self": null,
            "border": null,
            "bottom": null,
            "display": null,
            "flex": null,
            "flex_flow": null,
            "grid_area": null,
            "grid_auto_columns": null,
            "grid_auto_flow": null,
            "grid_auto_rows": null,
            "grid_column": null,
            "grid_gap": null,
            "grid_row": null,
            "grid_template_areas": null,
            "grid_template_columns": null,
            "grid_template_rows": null,
            "height": null,
            "justify_content": null,
            "justify_items": null,
            "left": null,
            "margin": null,
            "max_height": null,
            "max_width": null,
            "min_height": null,
            "min_width": null,
            "object_fit": null,
            "object_position": null,
            "order": null,
            "overflow": null,
            "overflow_x": null,
            "overflow_y": null,
            "padding": null,
            "right": null,
            "top": null,
            "visibility": null,
            "width": null
          }
        },
        "4327f2388039479b982f7014bcf0098a": {
          "model_module": "@jupyter-widgets/controls",
          "model_name": "DescriptionStyleModel",
          "model_module_version": "1.5.0",
          "state": {
            "_model_module": "@jupyter-widgets/controls",
            "_model_module_version": "1.5.0",
            "_model_name": "DescriptionStyleModel",
            "_view_count": null,
            "_view_module": "@jupyter-widgets/base",
            "_view_module_version": "1.2.0",
            "_view_name": "StyleView",
            "description_width": ""
          }
        },
        "4627503730ec4c88bdac8e1c02bcedc8": {
          "model_module": "@jupyter-widgets/base",
          "model_name": "LayoutModel",
          "model_module_version": "1.2.0",
          "state": {
            "_model_module": "@jupyter-widgets/base",
            "_model_module_version": "1.2.0",
            "_model_name": "LayoutModel",
            "_view_count": null,
            "_view_module": "@jupyter-widgets/base",
            "_view_module_version": "1.2.0",
            "_view_name": "LayoutView",
            "align_content": null,
            "align_items": null,
            "align_self": null,
            "border": null,
            "bottom": null,
            "display": null,
            "flex": null,
            "flex_flow": null,
            "grid_area": null,
            "grid_auto_columns": null,
            "grid_auto_flow": null,
            "grid_auto_rows": null,
            "grid_column": null,
            "grid_gap": null,
            "grid_row": null,
            "grid_template_areas": null,
            "grid_template_columns": null,
            "grid_template_rows": null,
            "height": null,
            "justify_content": null,
            "justify_items": null,
            "left": null,
            "margin": null,
            "max_height": null,
            "max_width": null,
            "min_height": null,
            "min_width": null,
            "object_fit": null,
            "object_position": null,
            "order": null,
            "overflow": null,
            "overflow_x": null,
            "overflow_y": null,
            "padding": null,
            "right": null,
            "top": null,
            "visibility": null,
            "width": null
          }
        },
        "3eb5071b948f454b831c76647d24bac2": {
          "model_module": "@jupyter-widgets/controls",
          "model_name": "ProgressStyleModel",
          "model_module_version": "1.5.0",
          "state": {
            "_model_module": "@jupyter-widgets/controls",
            "_model_module_version": "1.5.0",
            "_model_name": "ProgressStyleModel",
            "_view_count": null,
            "_view_module": "@jupyter-widgets/base",
            "_view_module_version": "1.2.0",
            "_view_name": "StyleView",
            "bar_color": null,
            "description_width": ""
          }
        },
        "14fca18dcaa24c33bc1c6fb1d3793bb9": {
          "model_module": "@jupyter-widgets/base",
          "model_name": "LayoutModel",
          "model_module_version": "1.2.0",
          "state": {
            "_model_module": "@jupyter-widgets/base",
            "_model_module_version": "1.2.0",
            "_model_name": "LayoutModel",
            "_view_count": null,
            "_view_module": "@jupyter-widgets/base",
            "_view_module_version": "1.2.0",
            "_view_name": "LayoutView",
            "align_content": null,
            "align_items": null,
            "align_self": null,
            "border": null,
            "bottom": null,
            "display": null,
            "flex": null,
            "flex_flow": null,
            "grid_area": null,
            "grid_auto_columns": null,
            "grid_auto_flow": null,
            "grid_auto_rows": null,
            "grid_column": null,
            "grid_gap": null,
            "grid_row": null,
            "grid_template_areas": null,
            "grid_template_columns": null,
            "grid_template_rows": null,
            "height": null,
            "justify_content": null,
            "justify_items": null,
            "left": null,
            "margin": null,
            "max_height": null,
            "max_width": null,
            "min_height": null,
            "min_width": null,
            "object_fit": null,
            "object_position": null,
            "order": null,
            "overflow": null,
            "overflow_x": null,
            "overflow_y": null,
            "padding": null,
            "right": null,
            "top": null,
            "visibility": null,
            "width": null
          }
        },
        "f965f6721d9943bbb16600e2cdc5004d": {
          "model_module": "@jupyter-widgets/controls",
          "model_name": "DescriptionStyleModel",
          "model_module_version": "1.5.0",
          "state": {
            "_model_module": "@jupyter-widgets/controls",
            "_model_module_version": "1.5.0",
            "_model_name": "DescriptionStyleModel",
            "_view_count": null,
            "_view_module": "@jupyter-widgets/base",
            "_view_module_version": "1.2.0",
            "_view_name": "StyleView",
            "description_width": ""
          }
        },
        "a6c3ca17eb0648779f1288a4130b268b": {
          "model_module": "@jupyter-widgets/controls",
          "model_name": "HBoxModel",
          "model_module_version": "1.5.0",
          "state": {
            "_dom_classes": [],
            "_model_module": "@jupyter-widgets/controls",
            "_model_module_version": "1.5.0",
            "_model_name": "HBoxModel",
            "_view_count": null,
            "_view_module": "@jupyter-widgets/controls",
            "_view_module_version": "1.5.0",
            "_view_name": "HBoxView",
            "box_style": "",
            "children": [
              "IPY_MODEL_b892f1aa4fe9479ca0b71aa47a6b68fe",
              "IPY_MODEL_990deb8aec6f42f8afa63dd684dbdb34",
              "IPY_MODEL_ac6d66aef0bd4e7b89cfa2fda3dcc1d1"
            ],
            "layout": "IPY_MODEL_f8dd575b93514d509c2c52194a393e18"
          }
        },
        "b892f1aa4fe9479ca0b71aa47a6b68fe": {
          "model_module": "@jupyter-widgets/controls",
          "model_name": "HTMLModel",
          "model_module_version": "1.5.0",
          "state": {
            "_dom_classes": [],
            "_model_module": "@jupyter-widgets/controls",
            "_model_module_version": "1.5.0",
            "_model_name": "HTMLModel",
            "_view_count": null,
            "_view_module": "@jupyter-widgets/controls",
            "_view_module_version": "1.5.0",
            "_view_name": "HTMLView",
            "description": "",
            "description_tooltip": null,
            "layout": "IPY_MODEL_e53bab91e3c94b7db2745147ffdf0600",
            "placeholder": "​",
            "style": "IPY_MODEL_b88101c1112e4d2ea99c882699dec1da",
            "value": "Batches: 100%"
          }
        },
        "990deb8aec6f42f8afa63dd684dbdb34": {
          "model_module": "@jupyter-widgets/controls",
          "model_name": "FloatProgressModel",
          "model_module_version": "1.5.0",
          "state": {
            "_dom_classes": [],
            "_model_module": "@jupyter-widgets/controls",
            "_model_module_version": "1.5.0",
            "_model_name": "FloatProgressModel",
            "_view_count": null,
            "_view_module": "@jupyter-widgets/controls",
            "_view_module_version": "1.5.0",
            "_view_name": "ProgressView",
            "bar_style": "success",
            "description": "",
            "description_tooltip": null,
            "layout": "IPY_MODEL_54f647b12f954c5cb623700e929343e7",
            "max": 111,
            "min": 0,
            "orientation": "horizontal",
            "style": "IPY_MODEL_00f017f6ee374b799013a4bc3469ae68",
            "value": 111
          }
        },
        "ac6d66aef0bd4e7b89cfa2fda3dcc1d1": {
          "model_module": "@jupyter-widgets/controls",
          "model_name": "HTMLModel",
          "model_module_version": "1.5.0",
          "state": {
            "_dom_classes": [],
            "_model_module": "@jupyter-widgets/controls",
            "_model_module_version": "1.5.0",
            "_model_name": "HTMLModel",
            "_view_count": null,
            "_view_module": "@jupyter-widgets/controls",
            "_view_module_version": "1.5.0",
            "_view_name": "HTMLView",
            "description": "",
            "description_tooltip": null,
            "layout": "IPY_MODEL_41b23881e61c4f6ca82beae2357bcec0",
            "placeholder": "​",
            "style": "IPY_MODEL_3de16872d4dc43ac9b10d28072ea5e65",
            "value": " 111/111 [00:54&lt;00:00,  8.68it/s]"
          }
        },
        "f8dd575b93514d509c2c52194a393e18": {
          "model_module": "@jupyter-widgets/base",
          "model_name": "LayoutModel",
          "model_module_version": "1.2.0",
          "state": {
            "_model_module": "@jupyter-widgets/base",
            "_model_module_version": "1.2.0",
            "_model_name": "LayoutModel",
            "_view_count": null,
            "_view_module": "@jupyter-widgets/base",
            "_view_module_version": "1.2.0",
            "_view_name": "LayoutView",
            "align_content": null,
            "align_items": null,
            "align_self": null,
            "border": null,
            "bottom": null,
            "display": null,
            "flex": null,
            "flex_flow": null,
            "grid_area": null,
            "grid_auto_columns": null,
            "grid_auto_flow": null,
            "grid_auto_rows": null,
            "grid_column": null,
            "grid_gap": null,
            "grid_row": null,
            "grid_template_areas": null,
            "grid_template_columns": null,
            "grid_template_rows": null,
            "height": null,
            "justify_content": null,
            "justify_items": null,
            "left": null,
            "margin": null,
            "max_height": null,
            "max_width": null,
            "min_height": null,
            "min_width": null,
            "object_fit": null,
            "object_position": null,
            "order": null,
            "overflow": null,
            "overflow_x": null,
            "overflow_y": null,
            "padding": null,
            "right": null,
            "top": null,
            "visibility": null,
            "width": null
          }
        },
        "e53bab91e3c94b7db2745147ffdf0600": {
          "model_module": "@jupyter-widgets/base",
          "model_name": "LayoutModel",
          "model_module_version": "1.2.0",
          "state": {
            "_model_module": "@jupyter-widgets/base",
            "_model_module_version": "1.2.0",
            "_model_name": "LayoutModel",
            "_view_count": null,
            "_view_module": "@jupyter-widgets/base",
            "_view_module_version": "1.2.0",
            "_view_name": "LayoutView",
            "align_content": null,
            "align_items": null,
            "align_self": null,
            "border": null,
            "bottom": null,
            "display": null,
            "flex": null,
            "flex_flow": null,
            "grid_area": null,
            "grid_auto_columns": null,
            "grid_auto_flow": null,
            "grid_auto_rows": null,
            "grid_column": null,
            "grid_gap": null,
            "grid_row": null,
            "grid_template_areas": null,
            "grid_template_columns": null,
            "grid_template_rows": null,
            "height": null,
            "justify_content": null,
            "justify_items": null,
            "left": null,
            "margin": null,
            "max_height": null,
            "max_width": null,
            "min_height": null,
            "min_width": null,
            "object_fit": null,
            "object_position": null,
            "order": null,
            "overflow": null,
            "overflow_x": null,
            "overflow_y": null,
            "padding": null,
            "right": null,
            "top": null,
            "visibility": null,
            "width": null
          }
        },
        "b88101c1112e4d2ea99c882699dec1da": {
          "model_module": "@jupyter-widgets/controls",
          "model_name": "DescriptionStyleModel",
          "model_module_version": "1.5.0",
          "state": {
            "_model_module": "@jupyter-widgets/controls",
            "_model_module_version": "1.5.0",
            "_model_name": "DescriptionStyleModel",
            "_view_count": null,
            "_view_module": "@jupyter-widgets/base",
            "_view_module_version": "1.2.0",
            "_view_name": "StyleView",
            "description_width": ""
          }
        },
        "54f647b12f954c5cb623700e929343e7": {
          "model_module": "@jupyter-widgets/base",
          "model_name": "LayoutModel",
          "model_module_version": "1.2.0",
          "state": {
            "_model_module": "@jupyter-widgets/base",
            "_model_module_version": "1.2.0",
            "_model_name": "LayoutModel",
            "_view_count": null,
            "_view_module": "@jupyter-widgets/base",
            "_view_module_version": "1.2.0",
            "_view_name": "LayoutView",
            "align_content": null,
            "align_items": null,
            "align_self": null,
            "border": null,
            "bottom": null,
            "display": null,
            "flex": null,
            "flex_flow": null,
            "grid_area": null,
            "grid_auto_columns": null,
            "grid_auto_flow": null,
            "grid_auto_rows": null,
            "grid_column": null,
            "grid_gap": null,
            "grid_row": null,
            "grid_template_areas": null,
            "grid_template_columns": null,
            "grid_template_rows": null,
            "height": null,
            "justify_content": null,
            "justify_items": null,
            "left": null,
            "margin": null,
            "max_height": null,
            "max_width": null,
            "min_height": null,
            "min_width": null,
            "object_fit": null,
            "object_position": null,
            "order": null,
            "overflow": null,
            "overflow_x": null,
            "overflow_y": null,
            "padding": null,
            "right": null,
            "top": null,
            "visibility": null,
            "width": null
          }
        },
        "00f017f6ee374b799013a4bc3469ae68": {
          "model_module": "@jupyter-widgets/controls",
          "model_name": "ProgressStyleModel",
          "model_module_version": "1.5.0",
          "state": {
            "_model_module": "@jupyter-widgets/controls",
            "_model_module_version": "1.5.0",
            "_model_name": "ProgressStyleModel",
            "_view_count": null,
            "_view_module": "@jupyter-widgets/base",
            "_view_module_version": "1.2.0",
            "_view_name": "StyleView",
            "bar_color": null,
            "description_width": ""
          }
        },
        "41b23881e61c4f6ca82beae2357bcec0": {
          "model_module": "@jupyter-widgets/base",
          "model_name": "LayoutModel",
          "model_module_version": "1.2.0",
          "state": {
            "_model_module": "@jupyter-widgets/base",
            "_model_module_version": "1.2.0",
            "_model_name": "LayoutModel",
            "_view_count": null,
            "_view_module": "@jupyter-widgets/base",
            "_view_module_version": "1.2.0",
            "_view_name": "LayoutView",
            "align_content": null,
            "align_items": null,
            "align_self": null,
            "border": null,
            "bottom": null,
            "display": null,
            "flex": null,
            "flex_flow": null,
            "grid_area": null,
            "grid_auto_columns": null,
            "grid_auto_flow": null,
            "grid_auto_rows": null,
            "grid_column": null,
            "grid_gap": null,
            "grid_row": null,
            "grid_template_areas": null,
            "grid_template_columns": null,
            "grid_template_rows": null,
            "height": null,
            "justify_content": null,
            "justify_items": null,
            "left": null,
            "margin": null,
            "max_height": null,
            "max_width": null,
            "min_height": null,
            "min_width": null,
            "object_fit": null,
            "object_position": null,
            "order": null,
            "overflow": null,
            "overflow_x": null,
            "overflow_y": null,
            "padding": null,
            "right": null,
            "top": null,
            "visibility": null,
            "width": null
          }
        },
        "3de16872d4dc43ac9b10d28072ea5e65": {
          "model_module": "@jupyter-widgets/controls",
          "model_name": "DescriptionStyleModel",
          "model_module_version": "1.5.0",
          "state": {
            "_model_module": "@jupyter-widgets/controls",
            "_model_module_version": "1.5.0",
            "_model_name": "DescriptionStyleModel",
            "_view_count": null,
            "_view_module": "@jupyter-widgets/base",
            "_view_module_version": "1.2.0",
            "_view_name": "StyleView",
            "description_width": ""
          }
        },
        "d262bf99188f492f9f54c138a991f4c1": {
          "model_module": "@jupyter-widgets/controls",
          "model_name": "HBoxModel",
          "model_module_version": "1.5.0",
          "state": {
            "_dom_classes": [],
            "_model_module": "@jupyter-widgets/controls",
            "_model_module_version": "1.5.0",
            "_model_name": "HBoxModel",
            "_view_count": null,
            "_view_module": "@jupyter-widgets/controls",
            "_view_module_version": "1.5.0",
            "_view_name": "HBoxView",
            "box_style": "",
            "children": [
              "IPY_MODEL_1b386ec3e5fd4fe681a15637fc3c6667",
              "IPY_MODEL_0500013e998a479280d2a6975f97b014",
              "IPY_MODEL_1321747d732245b9b64d0f20e47657aa"
            ],
            "layout": "IPY_MODEL_b7d519b8e809431fb63623d65c04bfbc"
          }
        },
        "1b386ec3e5fd4fe681a15637fc3c6667": {
          "model_module": "@jupyter-widgets/controls",
          "model_name": "HTMLModel",
          "model_module_version": "1.5.0",
          "state": {
            "_dom_classes": [],
            "_model_module": "@jupyter-widgets/controls",
            "_model_module_version": "1.5.0",
            "_model_name": "HTMLModel",
            "_view_count": null,
            "_view_module": "@jupyter-widgets/controls",
            "_view_module_version": "1.5.0",
            "_view_name": "HTMLView",
            "description": "",
            "description_tooltip": null,
            "layout": "IPY_MODEL_3c77adecb38246aa9f7e593b41a7f8ee",
            "placeholder": "​",
            "style": "IPY_MODEL_6c8c451b773c4b28ab1058cf8e78565a",
            "value": "Batches: 100%"
          }
        },
        "0500013e998a479280d2a6975f97b014": {
          "model_module": "@jupyter-widgets/controls",
          "model_name": "FloatProgressModel",
          "model_module_version": "1.5.0",
          "state": {
            "_dom_classes": [],
            "_model_module": "@jupyter-widgets/controls",
            "_model_module_version": "1.5.0",
            "_model_name": "FloatProgressModel",
            "_view_count": null,
            "_view_module": "@jupyter-widgets/controls",
            "_view_module_version": "1.5.0",
            "_view_name": "ProgressView",
            "bar_style": "success",
            "description": "",
            "description_tooltip": null,
            "layout": "IPY_MODEL_cdf7f18a28e942f994520d713e919331",
            "max": 111,
            "min": 0,
            "orientation": "horizontal",
            "style": "IPY_MODEL_e08db8bc427c4d469865134bb9059049",
            "value": 111
          }
        },
        "1321747d732245b9b64d0f20e47657aa": {
          "model_module": "@jupyter-widgets/controls",
          "model_name": "HTMLModel",
          "model_module_version": "1.5.0",
          "state": {
            "_dom_classes": [],
            "_model_module": "@jupyter-widgets/controls",
            "_model_module_version": "1.5.0",
            "_model_name": "HTMLModel",
            "_view_count": null,
            "_view_module": "@jupyter-widgets/controls",
            "_view_module_version": "1.5.0",
            "_view_name": "HTMLView",
            "description": "",
            "description_tooltip": null,
            "layout": "IPY_MODEL_2cff8a243c2249b8adfd530961f8c5c7",
            "placeholder": "​",
            "style": "IPY_MODEL_9ee690dfd39c4f94a8c90bef1db5ddef",
            "value": " 111/111 [00:42&lt;00:00,  9.77it/s]"
          }
        },
        "b7d519b8e809431fb63623d65c04bfbc": {
          "model_module": "@jupyter-widgets/base",
          "model_name": "LayoutModel",
          "model_module_version": "1.2.0",
          "state": {
            "_model_module": "@jupyter-widgets/base",
            "_model_module_version": "1.2.0",
            "_model_name": "LayoutModel",
            "_view_count": null,
            "_view_module": "@jupyter-widgets/base",
            "_view_module_version": "1.2.0",
            "_view_name": "LayoutView",
            "align_content": null,
            "align_items": null,
            "align_self": null,
            "border": null,
            "bottom": null,
            "display": null,
            "flex": null,
            "flex_flow": null,
            "grid_area": null,
            "grid_auto_columns": null,
            "grid_auto_flow": null,
            "grid_auto_rows": null,
            "grid_column": null,
            "grid_gap": null,
            "grid_row": null,
            "grid_template_areas": null,
            "grid_template_columns": null,
            "grid_template_rows": null,
            "height": null,
            "justify_content": null,
            "justify_items": null,
            "left": null,
            "margin": null,
            "max_height": null,
            "max_width": null,
            "min_height": null,
            "min_width": null,
            "object_fit": null,
            "object_position": null,
            "order": null,
            "overflow": null,
            "overflow_x": null,
            "overflow_y": null,
            "padding": null,
            "right": null,
            "top": null,
            "visibility": null,
            "width": null
          }
        },
        "3c77adecb38246aa9f7e593b41a7f8ee": {
          "model_module": "@jupyter-widgets/base",
          "model_name": "LayoutModel",
          "model_module_version": "1.2.0",
          "state": {
            "_model_module": "@jupyter-widgets/base",
            "_model_module_version": "1.2.0",
            "_model_name": "LayoutModel",
            "_view_count": null,
            "_view_module": "@jupyter-widgets/base",
            "_view_module_version": "1.2.0",
            "_view_name": "LayoutView",
            "align_content": null,
            "align_items": null,
            "align_self": null,
            "border": null,
            "bottom": null,
            "display": null,
            "flex": null,
            "flex_flow": null,
            "grid_area": null,
            "grid_auto_columns": null,
            "grid_auto_flow": null,
            "grid_auto_rows": null,
            "grid_column": null,
            "grid_gap": null,
            "grid_row": null,
            "grid_template_areas": null,
            "grid_template_columns": null,
            "grid_template_rows": null,
            "height": null,
            "justify_content": null,
            "justify_items": null,
            "left": null,
            "margin": null,
            "max_height": null,
            "max_width": null,
            "min_height": null,
            "min_width": null,
            "object_fit": null,
            "object_position": null,
            "order": null,
            "overflow": null,
            "overflow_x": null,
            "overflow_y": null,
            "padding": null,
            "right": null,
            "top": null,
            "visibility": null,
            "width": null
          }
        },
        "6c8c451b773c4b28ab1058cf8e78565a": {
          "model_module": "@jupyter-widgets/controls",
          "model_name": "DescriptionStyleModel",
          "model_module_version": "1.5.0",
          "state": {
            "_model_module": "@jupyter-widgets/controls",
            "_model_module_version": "1.5.0",
            "_model_name": "DescriptionStyleModel",
            "_view_count": null,
            "_view_module": "@jupyter-widgets/base",
            "_view_module_version": "1.2.0",
            "_view_name": "StyleView",
            "description_width": ""
          }
        },
        "cdf7f18a28e942f994520d713e919331": {
          "model_module": "@jupyter-widgets/base",
          "model_name": "LayoutModel",
          "model_module_version": "1.2.0",
          "state": {
            "_model_module": "@jupyter-widgets/base",
            "_model_module_version": "1.2.0",
            "_model_name": "LayoutModel",
            "_view_count": null,
            "_view_module": "@jupyter-widgets/base",
            "_view_module_version": "1.2.0",
            "_view_name": "LayoutView",
            "align_content": null,
            "align_items": null,
            "align_self": null,
            "border": null,
            "bottom": null,
            "display": null,
            "flex": null,
            "flex_flow": null,
            "grid_area": null,
            "grid_auto_columns": null,
            "grid_auto_flow": null,
            "grid_auto_rows": null,
            "grid_column": null,
            "grid_gap": null,
            "grid_row": null,
            "grid_template_areas": null,
            "grid_template_columns": null,
            "grid_template_rows": null,
            "height": null,
            "justify_content": null,
            "justify_items": null,
            "left": null,
            "margin": null,
            "max_height": null,
            "max_width": null,
            "min_height": null,
            "min_width": null,
            "object_fit": null,
            "object_position": null,
            "order": null,
            "overflow": null,
            "overflow_x": null,
            "overflow_y": null,
            "padding": null,
            "right": null,
            "top": null,
            "visibility": null,
            "width": null
          }
        },
        "e08db8bc427c4d469865134bb9059049": {
          "model_module": "@jupyter-widgets/controls",
          "model_name": "ProgressStyleModel",
          "model_module_version": "1.5.0",
          "state": {
            "_model_module": "@jupyter-widgets/controls",
            "_model_module_version": "1.5.0",
            "_model_name": "ProgressStyleModel",
            "_view_count": null,
            "_view_module": "@jupyter-widgets/base",
            "_view_module_version": "1.2.0",
            "_view_name": "StyleView",
            "bar_color": null,
            "description_width": ""
          }
        },
        "2cff8a243c2249b8adfd530961f8c5c7": {
          "model_module": "@jupyter-widgets/base",
          "model_name": "LayoutModel",
          "model_module_version": "1.2.0",
          "state": {
            "_model_module": "@jupyter-widgets/base",
            "_model_module_version": "1.2.0",
            "_model_name": "LayoutModel",
            "_view_count": null,
            "_view_module": "@jupyter-widgets/base",
            "_view_module_version": "1.2.0",
            "_view_name": "LayoutView",
            "align_content": null,
            "align_items": null,
            "align_self": null,
            "border": null,
            "bottom": null,
            "display": null,
            "flex": null,
            "flex_flow": null,
            "grid_area": null,
            "grid_auto_columns": null,
            "grid_auto_flow": null,
            "grid_auto_rows": null,
            "grid_column": null,
            "grid_gap": null,
            "grid_row": null,
            "grid_template_areas": null,
            "grid_template_columns": null,
            "grid_template_rows": null,
            "height": null,
            "justify_content": null,
            "justify_items": null,
            "left": null,
            "margin": null,
            "max_height": null,
            "max_width": null,
            "min_height": null,
            "min_width": null,
            "object_fit": null,
            "object_position": null,
            "order": null,
            "overflow": null,
            "overflow_x": null,
            "overflow_y": null,
            "padding": null,
            "right": null,
            "top": null,
            "visibility": null,
            "width": null
          }
        },
        "9ee690dfd39c4f94a8c90bef1db5ddef": {
          "model_module": "@jupyter-widgets/controls",
          "model_name": "DescriptionStyleModel",
          "model_module_version": "1.5.0",
          "state": {
            "_model_module": "@jupyter-widgets/controls",
            "_model_module_version": "1.5.0",
            "_model_name": "DescriptionStyleModel",
            "_view_count": null,
            "_view_module": "@jupyter-widgets/base",
            "_view_module_version": "1.2.0",
            "_view_name": "StyleView",
            "description_width": ""
          }
        }
      }
    }
  },
  "nbformat": 4,
  "nbformat_minor": 0
}